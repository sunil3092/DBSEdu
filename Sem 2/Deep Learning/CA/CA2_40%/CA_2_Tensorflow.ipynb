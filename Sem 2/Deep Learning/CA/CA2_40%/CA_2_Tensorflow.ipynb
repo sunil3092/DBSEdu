{
 "cells": [
  {
   "cell_type": "markdown",
   "metadata": {},
   "source": [
    "1. https://data.caltech.edu/records/20098\n",
    "2. https://www.kaggle.com/code/anuragmishra2311/birds-classification-using-resnet-101/notebook"
   ]
  },
  {
   "cell_type": "code",
   "execution_count": 1,
   "metadata": {},
   "outputs": [],
   "source": [
    "import os\n",
    "import shutil\n",
    "import tensorflow as tf\n",
    "import pandas as pd\n",
    "import numpy as np\n",
    "from tensorflow.keras.models import Sequential\n",
    "from tensorflow.keras.layers import Dense,Conv2D,MaxPool2D,Flatten,Dropout,BatchNormalization,Activation\n",
    "from tensorflow.keras.preprocessing.image import ImageDataGenerator\n",
    "import matplotlib.pyplot as plt\n",
    "from tensorflow.keras.preprocessing.image import load_img,img_to_array"
   ]
  },
  {
   "cell_type": "code",
   "execution_count": 2,
   "metadata": {},
   "outputs": [],
   "source": [
    "TRAIN_RATIO = 0.8\n",
    "ROOT = '../../../../../DataSets/'\n",
    "data_dir = os.path.join(ROOT, 'CUB_200_2011')\n",
    "images_dir = os.path.join(data_dir, 'images')\n",
    "train_dir = os.path.join(data_dir, 'train')\n",
    "test_dir = os.path.join(data_dir, 'test')\n"
   ]
  },
  {
   "cell_type": "code",
   "execution_count": 3,
   "metadata": {},
   "outputs": [],
   "source": [
    "if os.path.exists(train_dir):\n",
    "    shutil.rmtree(train_dir)\n",
    "if os.path.exists(test_dir):\n",
    "    shutil.rmtree(test_dir)\n",
    "\n",
    "os.makedirs(train_dir)\n",
    "os.makedirs(test_dir)\n",
    "\n",
    "classes = os.listdir(images_dir)\n",
    "\n",
    "for c in classes:\n",
    "\n",
    "    class_dir = os.path.join(images_dir, c)\n",
    "\n",
    "    images = os.listdir(class_dir)\n",
    "\n",
    "    n_train = int(len(images) * TRAIN_RATIO)\n",
    "\n",
    "    train_images = images[:n_train]\n",
    "    test_images = images[n_train:]\n",
    "\n",
    "    os.makedirs(os.path.join(train_dir, c), exist_ok=True)\n",
    "    os.makedirs(os.path.join(test_dir, c), exist_ok=True)\n",
    "\n",
    "    for image in train_images:\n",
    "        image_src = os.path.join(class_dir, image)\n",
    "        image_dst = os.path.join(train_dir, c, image)\n",
    "        shutil.copyfile(image_src, image_dst)\n",
    "\n",
    "    for image in test_images:\n",
    "        image_src = os.path.join(class_dir, image)\n",
    "        image_dst = os.path.join(test_dir, c, image)\n",
    "        shutil.copyfile(image_src, image_dst)\n"
   ]
  },
  {
   "cell_type": "code",
   "execution_count": 4,
   "metadata": {},
   "outputs": [],
   "source": [
    "train_datagen=ImageDataGenerator(rescale=1/255)\n",
    "test_datagen=ImageDataGenerator(rescale=1/255)"
   ]
  },
  {
   "cell_type": "code",
   "execution_count": 5,
   "metadata": {},
   "outputs": [],
   "source": [
    "train_directory='../../../../../DataSets/CUB_200_2011/train'\n",
    "test_directory='../../../../../DataSets/CUB_200_2011/test'"
   ]
  },
  {
   "cell_type": "code",
   "execution_count": 6,
   "metadata": {},
   "outputs": [
    {
     "name": "stdout",
     "output_type": "stream",
     "text": [
      "Found 9414 images belonging to 200 classes.\n",
      "Found 2374 images belonging to 200 classes.\n"
     ]
    }
   ],
   "source": [
    "train_generator=train_datagen.flow_from_directory(train_directory,\n",
    "                                                 target_size=(224,224),\n",
    "                                                 color_mode='rgb',\n",
    "                                                 class_mode='sparse',batch_size=256)\n",
    "                                                 \n",
    "test_gemerator=test_datagen.flow_from_directory(test_directory,\n",
    "                                                 target_size=(224,224),\n",
    "                                                 color_mode='rgb',\n",
    "                                                 class_mode='sparse',batch_size=256)"
   ]
  },
  {
   "cell_type": "code",
   "execution_count": 7,
   "metadata": {},
   "outputs": [
    {
     "data": {
      "text/plain": [
       "{'001.Black_footed_Albatross': 0,\n",
       " '002.Laysan_Albatross': 1,\n",
       " '003.Sooty_Albatross': 2,\n",
       " '004.Groove_billed_Ani': 3,\n",
       " '005.Crested_Auklet': 4,\n",
       " '006.Least_Auklet': 5,\n",
       " '007.Parakeet_Auklet': 6,\n",
       " '008.Rhinoceros_Auklet': 7,\n",
       " '009.Brewer_Blackbird': 8,\n",
       " '010.Red_winged_Blackbird': 9,\n",
       " '011.Rusty_Blackbird': 10,\n",
       " '012.Yellow_headed_Blackbird': 11,\n",
       " '013.Bobolink': 12,\n",
       " '014.Indigo_Bunting': 13,\n",
       " '015.Lazuli_Bunting': 14,\n",
       " '016.Painted_Bunting': 15,\n",
       " '017.Cardinal': 16,\n",
       " '018.Spotted_Catbird': 17,\n",
       " '019.Gray_Catbird': 18,\n",
       " '020.Yellow_breasted_Chat': 19,\n",
       " '021.Eastern_Towhee': 20,\n",
       " '022.Chuck_will_Widow': 21,\n",
       " '023.Brandt_Cormorant': 22,\n",
       " '024.Red_faced_Cormorant': 23,\n",
       " '025.Pelagic_Cormorant': 24,\n",
       " '026.Bronzed_Cowbird': 25,\n",
       " '027.Shiny_Cowbird': 26,\n",
       " '028.Brown_Creeper': 27,\n",
       " '029.American_Crow': 28,\n",
       " '030.Fish_Crow': 29,\n",
       " '031.Black_billed_Cuckoo': 30,\n",
       " '032.Mangrove_Cuckoo': 31,\n",
       " '033.Yellow_billed_Cuckoo': 32,\n",
       " '034.Gray_crowned_Rosy_Finch': 33,\n",
       " '035.Purple_Finch': 34,\n",
       " '036.Northern_Flicker': 35,\n",
       " '037.Acadian_Flycatcher': 36,\n",
       " '038.Great_Crested_Flycatcher': 37,\n",
       " '039.Least_Flycatcher': 38,\n",
       " '040.Olive_sided_Flycatcher': 39,\n",
       " '041.Scissor_tailed_Flycatcher': 40,\n",
       " '042.Vermilion_Flycatcher': 41,\n",
       " '043.Yellow_bellied_Flycatcher': 42,\n",
       " '044.Frigatebird': 43,\n",
       " '045.Northern_Fulmar': 44,\n",
       " '046.Gadwall': 45,\n",
       " '047.American_Goldfinch': 46,\n",
       " '048.European_Goldfinch': 47,\n",
       " '049.Boat_tailed_Grackle': 48,\n",
       " '050.Eared_Grebe': 49,\n",
       " '051.Horned_Grebe': 50,\n",
       " '052.Pied_billed_Grebe': 51,\n",
       " '053.Western_Grebe': 52,\n",
       " '054.Blue_Grosbeak': 53,\n",
       " '055.Evening_Grosbeak': 54,\n",
       " '056.Pine_Grosbeak': 55,\n",
       " '057.Rose_breasted_Grosbeak': 56,\n",
       " '058.Pigeon_Guillemot': 57,\n",
       " '059.California_Gull': 58,\n",
       " '060.Glaucous_winged_Gull': 59,\n",
       " '061.Heermann_Gull': 60,\n",
       " '062.Herring_Gull': 61,\n",
       " '063.Ivory_Gull': 62,\n",
       " '064.Ring_billed_Gull': 63,\n",
       " '065.Slaty_backed_Gull': 64,\n",
       " '066.Western_Gull': 65,\n",
       " '067.Anna_Hummingbird': 66,\n",
       " '068.Ruby_throated_Hummingbird': 67,\n",
       " '069.Rufous_Hummingbird': 68,\n",
       " '070.Green_Violetear': 69,\n",
       " '071.Long_tailed_Jaeger': 70,\n",
       " '072.Pomarine_Jaeger': 71,\n",
       " '073.Blue_Jay': 72,\n",
       " '074.Florida_Jay': 73,\n",
       " '075.Green_Jay': 74,\n",
       " '076.Dark_eyed_Junco': 75,\n",
       " '077.Tropical_Kingbird': 76,\n",
       " '078.Gray_Kingbird': 77,\n",
       " '079.Belted_Kingfisher': 78,\n",
       " '080.Green_Kingfisher': 79,\n",
       " '081.Pied_Kingfisher': 80,\n",
       " '082.Ringed_Kingfisher': 81,\n",
       " '083.White_breasted_Kingfisher': 82,\n",
       " '084.Red_legged_Kittiwake': 83,\n",
       " '085.Horned_Lark': 84,\n",
       " '086.Pacific_Loon': 85,\n",
       " '087.Mallard': 86,\n",
       " '088.Western_Meadowlark': 87,\n",
       " '089.Hooded_Merganser': 88,\n",
       " '090.Red_breasted_Merganser': 89,\n",
       " '091.Mockingbird': 90,\n",
       " '092.Nighthawk': 91,\n",
       " '093.Clark_Nutcracker': 92,\n",
       " '094.White_breasted_Nuthatch': 93,\n",
       " '095.Baltimore_Oriole': 94,\n",
       " '096.Hooded_Oriole': 95,\n",
       " '097.Orchard_Oriole': 96,\n",
       " '098.Scott_Oriole': 97,\n",
       " '099.Ovenbird': 98,\n",
       " '100.Brown_Pelican': 99,\n",
       " '101.White_Pelican': 100,\n",
       " '102.Western_Wood_Pewee': 101,\n",
       " '103.Sayornis': 102,\n",
       " '104.American_Pipit': 103,\n",
       " '105.Whip_poor_Will': 104,\n",
       " '106.Horned_Puffin': 105,\n",
       " '107.Common_Raven': 106,\n",
       " '108.White_necked_Raven': 107,\n",
       " '109.American_Redstart': 108,\n",
       " '110.Geococcyx': 109,\n",
       " '111.Loggerhead_Shrike': 110,\n",
       " '112.Great_Grey_Shrike': 111,\n",
       " '113.Baird_Sparrow': 112,\n",
       " '114.Black_throated_Sparrow': 113,\n",
       " '115.Brewer_Sparrow': 114,\n",
       " '116.Chipping_Sparrow': 115,\n",
       " '117.Clay_colored_Sparrow': 116,\n",
       " '118.House_Sparrow': 117,\n",
       " '119.Field_Sparrow': 118,\n",
       " '120.Fox_Sparrow': 119,\n",
       " '121.Grasshopper_Sparrow': 120,\n",
       " '122.Harris_Sparrow': 121,\n",
       " '123.Henslow_Sparrow': 122,\n",
       " '124.Le_Conte_Sparrow': 123,\n",
       " '125.Lincoln_Sparrow': 124,\n",
       " '126.Nelson_Sharp_tailed_Sparrow': 125,\n",
       " '127.Savannah_Sparrow': 126,\n",
       " '128.Seaside_Sparrow': 127,\n",
       " '129.Song_Sparrow': 128,\n",
       " '130.Tree_Sparrow': 129,\n",
       " '131.Vesper_Sparrow': 130,\n",
       " '132.White_crowned_Sparrow': 131,\n",
       " '133.White_throated_Sparrow': 132,\n",
       " '134.Cape_Glossy_Starling': 133,\n",
       " '135.Bank_Swallow': 134,\n",
       " '136.Barn_Swallow': 135,\n",
       " '137.Cliff_Swallow': 136,\n",
       " '138.Tree_Swallow': 137,\n",
       " '139.Scarlet_Tanager': 138,\n",
       " '140.Summer_Tanager': 139,\n",
       " '141.Artic_Tern': 140,\n",
       " '142.Black_Tern': 141,\n",
       " '143.Caspian_Tern': 142,\n",
       " '144.Common_Tern': 143,\n",
       " '145.Elegant_Tern': 144,\n",
       " '146.Forsters_Tern': 145,\n",
       " '147.Least_Tern': 146,\n",
       " '148.Green_tailed_Towhee': 147,\n",
       " '149.Brown_Thrasher': 148,\n",
       " '150.Sage_Thrasher': 149,\n",
       " '151.Black_capped_Vireo': 150,\n",
       " '152.Blue_headed_Vireo': 151,\n",
       " '153.Philadelphia_Vireo': 152,\n",
       " '154.Red_eyed_Vireo': 153,\n",
       " '155.Warbling_Vireo': 154,\n",
       " '156.White_eyed_Vireo': 155,\n",
       " '157.Yellow_throated_Vireo': 156,\n",
       " '158.Bay_breasted_Warbler': 157,\n",
       " '159.Black_and_white_Warbler': 158,\n",
       " '160.Black_throated_Blue_Warbler': 159,\n",
       " '161.Blue_winged_Warbler': 160,\n",
       " '162.Canada_Warbler': 161,\n",
       " '163.Cape_May_Warbler': 162,\n",
       " '164.Cerulean_Warbler': 163,\n",
       " '165.Chestnut_sided_Warbler': 164,\n",
       " '166.Golden_winged_Warbler': 165,\n",
       " '167.Hooded_Warbler': 166,\n",
       " '168.Kentucky_Warbler': 167,\n",
       " '169.Magnolia_Warbler': 168,\n",
       " '170.Mourning_Warbler': 169,\n",
       " '171.Myrtle_Warbler': 170,\n",
       " '172.Nashville_Warbler': 171,\n",
       " '173.Orange_crowned_Warbler': 172,\n",
       " '174.Palm_Warbler': 173,\n",
       " '175.Pine_Warbler': 174,\n",
       " '176.Prairie_Warbler': 175,\n",
       " '177.Prothonotary_Warbler': 176,\n",
       " '178.Swainson_Warbler': 177,\n",
       " '179.Tennessee_Warbler': 178,\n",
       " '180.Wilson_Warbler': 179,\n",
       " '181.Worm_eating_Warbler': 180,\n",
       " '182.Yellow_Warbler': 181,\n",
       " '183.Northern_Waterthrush': 182,\n",
       " '184.Louisiana_Waterthrush': 183,\n",
       " '185.Bohemian_Waxwing': 184,\n",
       " '186.Cedar_Waxwing': 185,\n",
       " '187.American_Three_toed_Woodpecker': 186,\n",
       " '188.Pileated_Woodpecker': 187,\n",
       " '189.Red_bellied_Woodpecker': 188,\n",
       " '190.Red_cockaded_Woodpecker': 189,\n",
       " '191.Red_headed_Woodpecker': 190,\n",
       " '192.Downy_Woodpecker': 191,\n",
       " '193.Bewick_Wren': 192,\n",
       " '194.Cactus_Wren': 193,\n",
       " '195.Carolina_Wren': 194,\n",
       " '196.House_Wren': 195,\n",
       " '197.Marsh_Wren': 196,\n",
       " '198.Rock_Wren': 197,\n",
       " '199.Winter_Wren': 198,\n",
       " '200.Common_Yellowthroat': 199}"
      ]
     },
     "execution_count": 7,
     "metadata": {},
     "output_type": "execute_result"
    }
   ],
   "source": [
    "train_generator.class_indices"
   ]
  },
  {
   "cell_type": "code",
   "execution_count": 8,
   "metadata": {},
   "outputs": [],
   "source": [
    "from keras.applications import ResNet101V2\n",
    "convlayer=ResNet101V2(input_shape=(224,224,3),weights='imagenet',include_top=False)\n",
    "for layer in convlayer.layers:\n",
    "    layer.trainable=False"
   ]
  },
  {
   "cell_type": "code",
   "execution_count": 9,
   "metadata": {},
   "outputs": [
    {
     "name": "stdout",
     "output_type": "stream",
     "text": [
      "Model: \"sequential\"\n",
      "_________________________________________________________________\n",
      " Layer (type)                Output Shape              Param #   \n",
      "=================================================================\n",
      " resnet101v2 (Functional)    (None, 7, 7, 2048)        42626560  \n",
      "                                                                 \n",
      " dropout (Dropout)           (None, 7, 7, 2048)        0         \n",
      "                                                                 \n",
      " flatten (Flatten)           (None, 100352)            0         \n",
      "                                                                 \n",
      " batch_normalization (BatchN  (None, 100352)           401408    \n",
      " ormalization)                                                   \n",
      "                                                                 \n",
      " dense (Dense)               (None, 2048)              205522944 \n",
      "                                                                 \n",
      " batch_normalization_1 (Batc  (None, 2048)             8192      \n",
      " hNormalization)                                                 \n",
      "                                                                 \n",
      " activation (Activation)     (None, 2048)              0         \n",
      "                                                                 \n",
      " dropout_1 (Dropout)         (None, 2048)              0         \n",
      "                                                                 \n",
      " dense_1 (Dense)             (None, 1024)              2098176   \n",
      "                                                                 \n",
      " batch_normalization_2 (Batc  (None, 1024)             4096      \n",
      " hNormalization)                                                 \n",
      "                                                                 \n",
      " activation_1 (Activation)   (None, 1024)              0         \n",
      "                                                                 \n",
      " dropout_2 (Dropout)         (None, 1024)              0         \n",
      "                                                                 \n",
      " dense_2 (Dense)             (None, 225)               230625    \n",
      "                                                                 \n",
      "=================================================================\n",
      "Total params: 250,892,001\n",
      "Trainable params: 208,058,593\n",
      "Non-trainable params: 42,833,408\n",
      "_________________________________________________________________\n",
      "None\n"
     ]
    }
   ],
   "source": [
    "model=Sequential()\n",
    "model.add(convlayer)\n",
    "model.add(Dropout(0.5))\n",
    "model.add(Flatten())\n",
    "model.add(BatchNormalization())\n",
    "model.add(Dense(2048,kernel_initializer='he_uniform'))\n",
    "model.add(BatchNormalization())\n",
    "model.add(Activation('relu'))\n",
    "model.add(Dropout(0.5))\n",
    "model.add(Dense(1024,kernel_initializer='he_uniform'))\n",
    "model.add(BatchNormalization())\n",
    "model.add(Activation('relu'))\n",
    "model.add(Dropout(0.5))\n",
    "model.add(Dense(225,activation='softmax'))\n",
    "print(model.summary())"
   ]
  },
  {
   "cell_type": "code",
   "execution_count": 10,
   "metadata": {},
   "outputs": [
    {
     "name": "stderr",
     "output_type": "stream",
     "text": [
      "c:\\Users\\sunil\\miniconda3\\envs\\dbsenv\\lib\\site-packages\\keras\\optimizers\\optimizer_v2\\adam.py:110: UserWarning: The `lr` argument is deprecated, use `learning_rate` instead.\n",
      "  super(Adam, self).__init__(name, **kwargs)\n"
     ]
    }
   ],
   "source": [
    "opt=tf.keras.optimizers.Adam(lr=0.001)\n",
    "model.compile(loss='sparse_categorical_crossentropy',metrics=['accuracy'],optimizer=opt)"
   ]
  },
  {
   "cell_type": "code",
   "execution_count": 11,
   "metadata": {},
   "outputs": [
    {
     "name": "stdout",
     "output_type": "stream",
     "text": [
      "Epoch 1/5\n",
      "10/37 [=======>......................] - ETA: 26:20 - loss: 5.5858 - accuracy: 0.0293"
     ]
    }
   ],
   "source": [
    "history=model.fit(train_generator, epochs=5)"
   ]
  },
  {
   "cell_type": "code",
   "execution_count": null,
   "metadata": {},
   "outputs": [],
   "source": [
    "opt=tf.keras.optimizers.RMSprop(lr=0.0001)\n",
    "model.compile(loss='sparse_categorical_crossentropy',metrics=['accuracy'],optimizer=opt)\n",
    "history_1=model.fit(train_generator, epochs=1)"
   ]
  },
  {
   "cell_type": "code",
   "execution_count": null,
   "metadata": {},
   "outputs": [],
   "source": [
    "plt.plot(history.history['accuracy'],c='red')\n",
    "plt.plot(history.history['val_accuracy'],c='green')\n",
    "plt.title('Accuracy')\n",
    "plt.ylabel('Accuracy')\n",
    "plt.xlabel('Epoch')\n",
    "plt.legend(['train','validation'],loc='lower right')"
   ]
  },
  {
   "cell_type": "code",
   "execution_count": null,
   "metadata": {},
   "outputs": [],
   "source": [
    "plt.plot(history.history['loss'],c='red')\n",
    "plt.plot(history.history['val_loss'],c='green')\n",
    "plt.title('Loss')\n",
    "plt.ylabel('Loss')\n",
    "plt.xlabel('Epoch')\n",
    "plt.legend(['train','validation'],loc='upper right')"
   ]
  },
  {
   "cell_type": "code",
   "execution_count": null,
   "metadata": {},
   "outputs": [],
   "source": [
    "model.evaluate(test_gemerator)"
   ]
  },
  {
   "cell_type": "code",
   "execution_count": null,
   "metadata": {},
   "outputs": [],
   "source": [
    "dic=train_generator.class_indices\n",
    "icd={k:v for v,k in dic.items()}\n",
    "def output(location):\n",
    "    img=load_img(location,target_size=(224,224,3))\n",
    "    img=img_to_array(img)\n",
    "    img=img/255\n",
    "    img=np.expand_dims(img,[0])\n",
    "    answer=model.predict_classes(img)\n",
    "    probability=round(np.max(model.predict_proba(img)*100),2)\n",
    "    #print ('Bird Is',icd[answer[0]], 'With probability',probability)\n",
    "    print (probability, ' % chances are there that the Bird Is',icd[answer[0]])"
   ]
  },
  {
   "cell_type": "code",
   "execution_count": null,
   "metadata": {},
   "outputs": [],
   "source": [
    "img='../input/anurag-mishra/belted.jpg'\n",
    "pic=load_img('../input/anurag-mishra/belted.jpg',target_size=(224,224,3))\n",
    "plt.imshow(pic)\n",
    "output(img)"
   ]
  },
  {
   "cell_type": "code",
   "execution_count": null,
   "metadata": {},
   "outputs": [],
   "source": [
    "img='../input/fdjn-vfvjkfd-v/hg.jpg'\n",
    "pic=load_img('../input/fdjn-vfvjkfd-v/hg.jpg',target_size=(224,224,3))\n",
    "plt.imshow(pic)\n",
    "output(img)"
   ]
  },
  {
   "cell_type": "code",
   "execution_count": null,
   "metadata": {},
   "outputs": [],
   "source": [
    "img='../input/fj-fdjvdk-vmdvdjl/bananan.jpg'\n",
    "pic=load_img('../input/fj-fdjvdk-vmdvdjl/bananan.jpg',target_size=(224,224,3))\n",
    "plt.imshow(pic)\n",
    "output(img)"
   ]
  }
 ],
 "metadata": {
  "kernelspec": {
   "display_name": "Python 3.10.4 ('dbsenv')",
   "language": "python",
   "name": "python3"
  },
  "language_info": {
   "codemirror_mode": {
    "name": "ipython",
    "version": 3
   },
   "file_extension": ".py",
   "mimetype": "text/x-python",
   "name": "python",
   "nbconvert_exporter": "python",
   "pygments_lexer": "ipython3",
   "version": "3.10.4"
  },
  "orig_nbformat": 4,
  "vscode": {
   "interpreter": {
    "hash": "142828a991f0141af2f84ebd0d287daae8516e1494cb3e9d37e0a13eaaf32cec"
   }
  }
 },
 "nbformat": 4,
 "nbformat_minor": 2
}
