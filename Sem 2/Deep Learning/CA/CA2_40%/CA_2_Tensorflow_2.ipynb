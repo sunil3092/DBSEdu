{
 "cells": [
  {
   "cell_type": "markdown",
   "metadata": {},
   "source": [
    "1. https://data.caltech.edu/records/20098\n",
    "2. https://www.kaggle.com/code/anuragmishra2311/birds-classification-using-resnet-101/notebook\n",
    "3. https://www.kaggle.com/datasets/gpiosenka/100-bird-species"
   ]
  },
  {
   "cell_type": "code",
   "execution_count": 6,
   "metadata": {},
   "outputs": [],
   "source": [
    "import os\n",
    "import shutil\n",
    "import tensorflow as tf\n",
    "import pandas as pd\n",
    "import numpy as np\n",
    "from tensorflow.keras.models import Sequential\n",
    "from tensorflow.keras.layers import Dense,Conv2D,MaxPool2D,Flatten,Dropout,BatchNormalization,Activation\n",
    "from tensorflow.keras.preprocessing.image import ImageDataGenerator\n",
    "import matplotlib.pyplot as plt\n",
    "from tensorflow.keras.preprocessing.image import load_img,img_to_array\n",
    "from tensorflow.keras.applications import ResNet101V2"
   ]
  },
  {
   "cell_type": "code",
   "execution_count": 7,
   "metadata": {},
   "outputs": [],
   "source": [
    "train_directory='../../../../../DataSets/IMG-100/train'\n",
    "val_directory='../../../../../DataSets/IMG-100/valid'\n",
    "test_directory='../../../../../DataSets/IMG-100/test'"
   ]
  },
  {
   "cell_type": "code",
   "execution_count": 8,
   "metadata": {},
   "outputs": [],
   "source": [
    "train_datagen=ImageDataGenerator(rescale=1/255)\n",
    "val_datagen=ImageDataGenerator(rescale=1/255)\n",
    "test_datagen=ImageDataGenerator(rescale=1/255)"
   ]
  },
  {
   "cell_type": "code",
   "execution_count": 9,
   "metadata": {},
   "outputs": [
    {
     "name": "stdout",
     "output_type": "stream",
     "text": [
      "Found 58388 images belonging to 400 classes.\n",
      "Found 2000 images belonging to 400 classes.\n",
      "Found 2000 images belonging to 400 classes.\n"
     ]
    }
   ],
   "source": [
    "train_generator=train_datagen.flow_from_directory(train_directory,\n",
    "                                                 target_size=(224,224),\n",
    "                                                 color_mode='rgb',\n",
    "                                                 class_mode='sparse',batch_size=256)\n",
    "\n",
    "val_generator=val_datagen.flow_from_directory(val_directory,\n",
    "                                                 target_size=(224,224),\n",
    "                                                 color_mode='rgb',\n",
    "                                                 class_mode='sparse',batch_size=256)\n",
    "                                                 \n",
    "                                                 \n",
    "test_gemerator=test_datagen.flow_from_directory(test_directory,\n",
    "                                                 target_size=(224,224),\n",
    "                                                 color_mode='rgb',\n",
    "                                                 class_mode='sparse',batch_size=256)"
   ]
  },
  {
   "cell_type": "code",
   "execution_count": 10,
   "metadata": {},
   "outputs": [
    {
     "data": {
      "text/plain": [
       "{'ABBOTTS BABBLER': 0,\n",
       " 'ABBOTTS BOOBY': 1,\n",
       " 'ABYSSINIAN GROUND HORNBILL': 2,\n",
       " 'AFRICAN CROWNED CRANE': 3,\n",
       " 'AFRICAN EMERALD CUCKOO': 4,\n",
       " 'AFRICAN FIREFINCH': 5,\n",
       " 'AFRICAN OYSTER CATCHER': 6,\n",
       " 'ALBATROSS': 7,\n",
       " 'ALBERTS TOWHEE': 8,\n",
       " 'ALEXANDRINE PARAKEET': 9,\n",
       " 'ALPINE CHOUGH': 10,\n",
       " 'ALTAMIRA YELLOWTHROAT': 11,\n",
       " 'AMERICAN AVOCET': 12,\n",
       " 'AMERICAN BITTERN': 13,\n",
       " 'AMERICAN COOT': 14,\n",
       " 'AMERICAN GOLDFINCH': 15,\n",
       " 'AMERICAN KESTREL': 16,\n",
       " 'AMERICAN PIPIT': 17,\n",
       " 'AMERICAN REDSTART': 18,\n",
       " 'AMETHYST WOODSTAR': 19,\n",
       " 'ANDEAN GOOSE': 20,\n",
       " 'ANDEAN LAPWING': 21,\n",
       " 'ANDEAN SISKIN': 22,\n",
       " 'ANHINGA': 23,\n",
       " 'ANIANIAU': 24,\n",
       " 'ANNAS HUMMINGBIRD': 25,\n",
       " 'ANTBIRD': 26,\n",
       " 'ANTILLEAN EUPHONIA': 27,\n",
       " 'APAPANE': 28,\n",
       " 'APOSTLEBIRD': 29,\n",
       " 'ARARIPE MANAKIN': 30,\n",
       " 'ASHY THRUSHBIRD': 31,\n",
       " 'ASIAN CRESTED IBIS': 32,\n",
       " 'AVADAVAT': 33,\n",
       " 'AZURE JAY': 34,\n",
       " 'AZURE TANAGER': 35,\n",
       " 'AZURE TIT': 36,\n",
       " 'BAIKAL TEAL': 37,\n",
       " 'BALD EAGLE': 38,\n",
       " 'BALD IBIS': 39,\n",
       " 'BALI STARLING': 40,\n",
       " 'BALTIMORE ORIOLE': 41,\n",
       " 'BANANAQUIT': 42,\n",
       " 'BAND TAILED GUAN': 43,\n",
       " 'BANDED BROADBILL': 44,\n",
       " 'BANDED PITA': 45,\n",
       " 'BANDED STILT': 46,\n",
       " 'BAR-TAILED GODWIT': 47,\n",
       " 'BARN OWL': 48,\n",
       " 'BARN SWALLOW': 49,\n",
       " 'BARRED PUFFBIRD': 50,\n",
       " 'BARROWS GOLDENEYE': 51,\n",
       " 'BAY-BREASTED WARBLER': 52,\n",
       " 'BEARDED BARBET': 53,\n",
       " 'BEARDED BELLBIRD': 54,\n",
       " 'BEARDED REEDLING': 55,\n",
       " 'BELTED KINGFISHER': 56,\n",
       " 'BIRD OF PARADISE': 57,\n",
       " 'BLACK & YELLOW  BROADBILL': 58,\n",
       " 'BLACK BAZA': 59,\n",
       " 'BLACK COCKATO': 60,\n",
       " 'BLACK FRANCOLIN': 61,\n",
       " 'BLACK SKIMMER': 62,\n",
       " 'BLACK SWAN': 63,\n",
       " 'BLACK TAIL CRAKE': 64,\n",
       " 'BLACK THROATED BUSHTIT': 65,\n",
       " 'BLACK THROATED WARBLER': 66,\n",
       " 'BLACK VULTURE': 67,\n",
       " 'BLACK-CAPPED CHICKADEE': 68,\n",
       " 'BLACK-NECKED GREBE': 69,\n",
       " 'BLACK-THROATED SPARROW': 70,\n",
       " 'BLACKBURNIAM WARBLER': 71,\n",
       " 'BLONDE CRESTED WOODPECKER': 72,\n",
       " 'BLUE COAU': 73,\n",
       " 'BLUE GROUSE': 74,\n",
       " 'BLUE HERON': 75,\n",
       " 'BLUE THROATED TOUCANET': 76,\n",
       " 'BOBOLINK': 77,\n",
       " 'BORNEAN BRISTLEHEAD': 78,\n",
       " 'BORNEAN LEAFBIRD': 79,\n",
       " 'BORNEAN PHEASANT': 80,\n",
       " 'BRANDT CORMARANT': 81,\n",
       " 'BROWN CREPPER': 82,\n",
       " 'BROWN NOODY': 83,\n",
       " 'BROWN THRASHER': 84,\n",
       " 'BULWERS PHEASANT': 85,\n",
       " 'BUSH TURKEY': 86,\n",
       " 'CACTUS WREN': 87,\n",
       " 'CALIFORNIA CONDOR': 88,\n",
       " 'CALIFORNIA GULL': 89,\n",
       " 'CALIFORNIA QUAIL': 90,\n",
       " 'CANARY': 91,\n",
       " 'CAPE GLOSSY STARLING': 92,\n",
       " 'CAPE LONGCLAW': 93,\n",
       " 'CAPE MAY WARBLER': 94,\n",
       " 'CAPE ROCK THRUSH': 95,\n",
       " 'CAPPED HERON': 96,\n",
       " 'CAPUCHINBIRD': 97,\n",
       " 'CARMINE BEE-EATER': 98,\n",
       " 'CASPIAN TERN': 99,\n",
       " 'CASSOWARY': 100,\n",
       " 'CEDAR WAXWING': 101,\n",
       " 'CERULEAN WARBLER': 102,\n",
       " 'CHARA DE COLLAR': 103,\n",
       " 'CHATTERING LORY': 104,\n",
       " 'CHESTNET BELLIED EUPHONIA': 105,\n",
       " 'CHINESE BAMBOO PARTRIDGE': 106,\n",
       " 'CHINESE POND HERON': 107,\n",
       " 'CHIPPING SPARROW': 108,\n",
       " 'CHUCAO TAPACULO': 109,\n",
       " 'CHUKAR PARTRIDGE': 110,\n",
       " 'CINNAMON ATTILA': 111,\n",
       " 'CINNAMON FLYCATCHER': 112,\n",
       " 'CINNAMON TEAL': 113,\n",
       " 'CLARKS NUTCRACKER': 114,\n",
       " 'COCK OF THE  ROCK': 115,\n",
       " 'COCKATOO': 116,\n",
       " 'COLLARED ARACARI': 117,\n",
       " 'COMMON FIRECREST': 118,\n",
       " 'COMMON GRACKLE': 119,\n",
       " 'COMMON HOUSE MARTIN': 120,\n",
       " 'COMMON IORA': 121,\n",
       " 'COMMON LOON': 122,\n",
       " 'COMMON POORWILL': 123,\n",
       " 'COMMON STARLING': 124,\n",
       " 'COPPERY TAILED COUCAL': 125,\n",
       " 'CRAB PLOVER': 126,\n",
       " 'CRANE HAWK': 127,\n",
       " 'CREAM COLORED WOODPECKER': 128,\n",
       " 'CRESTED AUKLET': 129,\n",
       " 'CRESTED CARACARA': 130,\n",
       " 'CRESTED COUA': 131,\n",
       " 'CRESTED FIREBACK': 132,\n",
       " 'CRESTED KINGFISHER': 133,\n",
       " 'CRESTED NUTHATCH': 134,\n",
       " 'CRESTED OROPENDOLA': 135,\n",
       " 'CRESTED SHRIKETIT': 136,\n",
       " 'CRIMSON CHAT': 137,\n",
       " 'CRIMSON SUNBIRD': 138,\n",
       " 'CROW': 139,\n",
       " 'CROWNED PIGEON': 140,\n",
       " 'CUBAN TODY': 141,\n",
       " 'CUBAN TROGON': 142,\n",
       " 'CURL CRESTED ARACURI': 143,\n",
       " 'D-ARNAUDS BARBET': 144,\n",
       " 'DARK EYED JUNCO': 145,\n",
       " 'DEMOISELLE CRANE': 146,\n",
       " 'DOUBLE BARRED FINCH': 147,\n",
       " 'DOUBLE BRESTED CORMARANT': 148,\n",
       " 'DOUBLE EYED FIG PARROT': 149,\n",
       " 'DOWNY WOODPECKER': 150,\n",
       " 'DUSKY LORY': 151,\n",
       " 'EARED PITA': 152,\n",
       " 'EASTERN BLUEBIRD': 153,\n",
       " 'EASTERN GOLDEN WEAVER': 154,\n",
       " 'EASTERN MEADOWLARK': 155,\n",
       " 'EASTERN ROSELLA': 156,\n",
       " 'EASTERN TOWEE': 157,\n",
       " 'ELEGANT TROGON': 158,\n",
       " 'ELLIOTS  PHEASANT': 159,\n",
       " 'EMERALD TANAGER': 160,\n",
       " 'EMPEROR PENGUIN': 161,\n",
       " 'EMU': 162,\n",
       " 'ENGGANO MYNA': 163,\n",
       " 'EURASIAN GOLDEN ORIOLE': 164,\n",
       " 'EURASIAN MAGPIE': 165,\n",
       " 'EUROPEAN GOLDFINCH': 166,\n",
       " 'EUROPEAN TURTLE DOVE': 167,\n",
       " 'EVENING GROSBEAK': 168,\n",
       " 'FAIRY BLUEBIRD': 169,\n",
       " 'FAIRY TERN': 170,\n",
       " 'FIORDLAND PENGUIN': 171,\n",
       " 'FIRE TAILLED MYZORNIS': 172,\n",
       " 'FLAME BOWERBIRD': 173,\n",
       " 'FLAME TANAGER': 174,\n",
       " 'FLAMINGO': 175,\n",
       " 'FRIGATE': 176,\n",
       " 'GAMBELS QUAIL': 177,\n",
       " 'GANG GANG COCKATOO': 178,\n",
       " 'GILA WOODPECKER': 179,\n",
       " 'GILDED FLICKER': 180,\n",
       " 'GLOSSY IBIS': 181,\n",
       " 'GO AWAY BIRD': 182,\n",
       " 'GOLD WING WARBLER': 183,\n",
       " 'GOLDEN CHEEKED WARBLER': 184,\n",
       " 'GOLDEN CHLOROPHONIA': 185,\n",
       " 'GOLDEN EAGLE': 186,\n",
       " 'GOLDEN PHEASANT': 187,\n",
       " 'GOLDEN PIPIT': 188,\n",
       " 'GOULDIAN FINCH': 189,\n",
       " 'GRAY CATBIRD': 190,\n",
       " 'GRAY KINGBIRD': 191,\n",
       " 'GRAY PARTRIDGE': 192,\n",
       " 'GREAT GRAY OWL': 193,\n",
       " 'GREAT JACAMAR': 194,\n",
       " 'GREAT KISKADEE': 195,\n",
       " 'GREAT POTOO': 196,\n",
       " 'GREATOR SAGE GROUSE': 197,\n",
       " 'GREEN BROADBILL': 198,\n",
       " 'GREEN JAY': 199,\n",
       " 'GREEN MAGPIE': 200,\n",
       " 'GREY PLOVER': 201,\n",
       " 'GROVED BILLED ANI': 202,\n",
       " 'GUINEA TURACO': 203,\n",
       " 'GUINEAFOWL': 204,\n",
       " 'GURNEYS PITTA': 205,\n",
       " 'GYRFALCON': 206,\n",
       " 'HAMMERKOP': 207,\n",
       " 'HARLEQUIN DUCK': 208,\n",
       " 'HARLEQUIN QUAIL': 209,\n",
       " 'HARPY EAGLE': 210,\n",
       " 'HAWAIIAN GOOSE': 211,\n",
       " 'HAWFINCH': 212,\n",
       " 'HELMET VANGA': 213,\n",
       " 'HEPATIC TANAGER': 214,\n",
       " 'HIMALAYAN BLUETAIL': 215,\n",
       " 'HIMALAYAN MONAL': 216,\n",
       " 'HOATZIN': 217,\n",
       " 'HOODED MERGANSER': 218,\n",
       " 'HOOPOES': 219,\n",
       " 'HORNBILL': 220,\n",
       " 'HORNED GUAN': 221,\n",
       " 'HORNED LARK': 222,\n",
       " 'HORNED SUNGEM': 223,\n",
       " 'HOUSE FINCH': 224,\n",
       " 'HOUSE SPARROW': 225,\n",
       " 'HYACINTH MACAW': 226,\n",
       " 'IBERIAN MAGPIE': 227,\n",
       " 'IBISBILL': 228,\n",
       " 'IMPERIAL SHAQ': 229,\n",
       " 'INCA TERN': 230,\n",
       " 'INDIAN BUSTARD': 231,\n",
       " 'INDIAN PITTA': 232,\n",
       " 'INDIAN ROLLER': 233,\n",
       " 'INDIGO BUNTING': 234,\n",
       " 'INLAND DOTTEREL': 235,\n",
       " 'IVORY GULL': 236,\n",
       " 'IWI': 237,\n",
       " 'JABIRU': 238,\n",
       " 'JACK SNIPE': 239,\n",
       " 'JANDAYA PARAKEET': 240,\n",
       " 'JAPANESE ROBIN': 241,\n",
       " 'JAVA SPARROW': 242,\n",
       " 'KAGU': 243,\n",
       " 'KAKAPO': 244,\n",
       " 'KILLDEAR': 245,\n",
       " 'KING VULTURE': 246,\n",
       " 'KIWI': 247,\n",
       " 'KOOKABURRA': 248,\n",
       " 'LARK BUNTING': 249,\n",
       " 'LAZULI BUNTING': 250,\n",
       " 'LESSER ADJUTANT': 251,\n",
       " 'LILAC ROLLER': 252,\n",
       " 'LITTLE AUK': 253,\n",
       " 'LONG-EARED OWL': 254,\n",
       " 'MAGPIE GOOSE': 255,\n",
       " 'MALABAR HORNBILL': 256,\n",
       " 'MALACHITE KINGFISHER': 257,\n",
       " 'MALAGASY WHITE EYE': 258,\n",
       " 'MALEO': 259,\n",
       " 'MALLARD DUCK': 260,\n",
       " 'MANDRIN DUCK': 261,\n",
       " 'MANGROVE CUCKOO': 262,\n",
       " 'MARABOU STORK': 263,\n",
       " 'MASKED BOOBY': 264,\n",
       " 'MASKED LAPWING': 265,\n",
       " 'MIKADO  PHEASANT': 266,\n",
       " 'MOURNING DOVE': 267,\n",
       " 'MYNA': 268,\n",
       " 'NICOBAR PIGEON': 269,\n",
       " 'NOISY FRIARBIRD': 270,\n",
       " 'NORTHERN CARDINAL': 271,\n",
       " 'NORTHERN FLICKER': 272,\n",
       " 'NORTHERN FULMAR': 273,\n",
       " 'NORTHERN GANNET': 274,\n",
       " 'NORTHERN GOSHAWK': 275,\n",
       " 'NORTHERN JACANA': 276,\n",
       " 'NORTHERN MOCKINGBIRD': 277,\n",
       " 'NORTHERN PARULA': 278,\n",
       " 'NORTHERN RED BISHOP': 279,\n",
       " 'NORTHERN SHOVELER': 280,\n",
       " 'OCELLATED TURKEY': 281,\n",
       " 'OKINAWA RAIL': 282,\n",
       " 'ORANGE BRESTED BUNTING': 283,\n",
       " 'ORIENTAL BAY OWL': 284,\n",
       " 'OSPREY': 285,\n",
       " 'OSTRICH': 286,\n",
       " 'OVENBIRD': 287,\n",
       " 'OYSTER CATCHER': 288,\n",
       " 'PAINTED BUNTING': 289,\n",
       " 'PALILA': 290,\n",
       " 'PARADISE TANAGER': 291,\n",
       " 'PARAKETT  AKULET': 292,\n",
       " 'PARUS MAJOR': 293,\n",
       " 'PATAGONIAN SIERRA FINCH': 294,\n",
       " 'PEACOCK': 295,\n",
       " 'PELICAN': 296,\n",
       " 'PEREGRINE FALCON': 297,\n",
       " 'PHILIPPINE EAGLE': 298,\n",
       " 'PINK ROBIN': 299,\n",
       " 'POMARINE JAEGER': 300,\n",
       " 'PUFFIN': 301,\n",
       " 'PURPLE FINCH': 302,\n",
       " 'PURPLE GALLINULE': 303,\n",
       " 'PURPLE MARTIN': 304,\n",
       " 'PURPLE SWAMPHEN': 305,\n",
       " 'PYGMY KINGFISHER': 306,\n",
       " 'QUETZAL': 307,\n",
       " 'RAINBOW LORIKEET': 308,\n",
       " 'RAZORBILL': 309,\n",
       " 'RED BEARDED BEE EATER': 310,\n",
       " 'RED BELLIED PITTA': 311,\n",
       " 'RED BROWED FINCH': 312,\n",
       " 'RED FACED CORMORANT': 313,\n",
       " 'RED FACED WARBLER': 314,\n",
       " 'RED FODY': 315,\n",
       " 'RED HEADED DUCK': 316,\n",
       " 'RED HEADED WOODPECKER': 317,\n",
       " 'RED HONEY CREEPER': 318,\n",
       " 'RED NAPED TROGON': 319,\n",
       " 'RED TAILED HAWK': 320,\n",
       " 'RED TAILED THRUSH': 321,\n",
       " 'RED WINGED BLACKBIRD': 322,\n",
       " 'RED WISKERED BULBUL': 323,\n",
       " 'REGENT BOWERBIRD': 324,\n",
       " 'RING-NECKED PHEASANT': 325,\n",
       " 'ROADRUNNER': 326,\n",
       " 'ROBIN': 327,\n",
       " 'ROCK DOVE': 328,\n",
       " 'ROSY FACED LOVEBIRD': 329,\n",
       " 'ROUGH LEG BUZZARD': 330,\n",
       " 'ROYAL FLYCATCHER': 331,\n",
       " 'RUBY THROATED HUMMINGBIRD': 332,\n",
       " 'RUDY KINGFISHER': 333,\n",
       " 'RUFOUS KINGFISHER': 334,\n",
       " 'RUFUOS MOTMOT': 335,\n",
       " 'SAMATRAN THRUSH': 336,\n",
       " 'SAND MARTIN': 337,\n",
       " 'SANDHILL CRANE': 338,\n",
       " 'SATYR TRAGOPAN': 339,\n",
       " 'SCARLET CROWNED FRUIT DOVE': 340,\n",
       " 'SCARLET IBIS': 341,\n",
       " 'SCARLET MACAW': 342,\n",
       " 'SCARLET TANAGER': 343,\n",
       " 'SHOEBILL': 344,\n",
       " 'SHORT BILLED DOWITCHER': 345,\n",
       " 'SMITHS LONGSPUR': 346,\n",
       " 'SNOWY EGRET': 347,\n",
       " 'SNOWY OWL': 348,\n",
       " 'SORA': 349,\n",
       " 'SPANGLED COTINGA': 350,\n",
       " 'SPLENDID WREN': 351,\n",
       " 'SPOON BILED SANDPIPER': 352,\n",
       " 'SPOONBILL': 353,\n",
       " 'SPOTTED CATBIRD': 354,\n",
       " 'SRI LANKA BLUE MAGPIE': 355,\n",
       " 'STEAMER DUCK': 356,\n",
       " 'STORK BILLED KINGFISHER': 357,\n",
       " 'STRAWBERRY FINCH': 358,\n",
       " 'STRIPED OWL': 359,\n",
       " 'STRIPPED MANAKIN': 360,\n",
       " 'STRIPPED SWALLOW': 361,\n",
       " 'SUPERB STARLING': 362,\n",
       " 'SWINHOES PHEASANT': 363,\n",
       " 'TAILORBIRD': 364,\n",
       " 'TAIWAN MAGPIE': 365,\n",
       " 'TAKAHE': 366,\n",
       " 'TASMANIAN HEN': 367,\n",
       " 'TEAL DUCK': 368,\n",
       " 'TIT MOUSE': 369,\n",
       " 'TOUCHAN': 370,\n",
       " 'TOWNSENDS WARBLER': 371,\n",
       " 'TREE SWALLOW': 372,\n",
       " 'TROPICAL KINGBIRD': 373,\n",
       " 'TRUMPTER SWAN': 374,\n",
       " 'TURKEY VULTURE': 375,\n",
       " 'TURQUOISE MOTMOT': 376,\n",
       " 'UMBRELLA BIRD': 377,\n",
       " 'VARIED THRUSH': 378,\n",
       " 'VENEZUELIAN TROUPIAL': 379,\n",
       " 'VERMILION FLYCATHER': 380,\n",
       " 'VICTORIA CROWNED PIGEON': 381,\n",
       " 'VIOLET GREEN SWALLOW': 382,\n",
       " 'VIOLET TURACO': 383,\n",
       " 'VULTURINE GUINEAFOWL': 384,\n",
       " 'WALL CREAPER': 385,\n",
       " 'WATTLED CURASSOW': 386,\n",
       " 'WATTLED LAPWING': 387,\n",
       " 'WHIMBREL': 388,\n",
       " 'WHITE BROWED CRAKE': 389,\n",
       " 'WHITE CHEEKED TURACO': 390,\n",
       " 'WHITE NECKED RAVEN': 391,\n",
       " 'WHITE TAILED TROPIC': 392,\n",
       " 'WHITE THROATED BEE EATER': 393,\n",
       " 'WILD TURKEY': 394,\n",
       " 'WILSONS BIRD OF PARADISE': 395,\n",
       " 'WOOD DUCK': 396,\n",
       " 'YELLOW BELLIED FLOWERPECKER': 397,\n",
       " 'YELLOW CACIQUE': 398,\n",
       " 'YELLOW HEADED BLACKBIRD': 399}"
      ]
     },
     "execution_count": 10,
     "metadata": {},
     "output_type": "execute_result"
    }
   ],
   "source": [
    "train_generator.class_indices"
   ]
  },
  {
   "cell_type": "code",
   "execution_count": 11,
   "metadata": {},
   "outputs": [],
   "source": [
    "convlayer=ResNet101V2(input_shape=(224,224,3),weights='imagenet',include_top=False)\n",
    "for layer in convlayer.layers:\n",
    "    layer.trainable=False"
   ]
  },
  {
   "cell_type": "code",
   "execution_count": 12,
   "metadata": {},
   "outputs": [
    {
     "name": "stdout",
     "output_type": "stream",
     "text": [
      "Model: \"sequential\"\n",
      "_________________________________________________________________\n",
      " Layer (type)                Output Shape              Param #   \n",
      "=================================================================\n",
      " resnet101v2 (Functional)    (None, 7, 7, 2048)        42626560  \n",
      "                                                                 \n",
      " dropout (Dropout)           (None, 7, 7, 2048)        0         \n",
      "                                                                 \n",
      " flatten (Flatten)           (None, 100352)            0         \n",
      "                                                                 \n",
      " batch_normalization (BatchN  (None, 100352)           401408    \n",
      " ormalization)                                                   \n",
      "                                                                 \n",
      " dense (Dense)               (None, 2048)              205522944 \n",
      "                                                                 \n",
      " batch_normalization_1 (Batc  (None, 2048)             8192      \n",
      " hNormalization)                                                 \n",
      "                                                                 \n",
      " activation (Activation)     (None, 2048)              0         \n",
      "                                                                 \n",
      " dropout_1 (Dropout)         (None, 2048)              0         \n",
      "                                                                 \n",
      " dense_1 (Dense)             (None, 1024)              2098176   \n",
      "                                                                 \n",
      " batch_normalization_2 (Batc  (None, 1024)             4096      \n",
      " hNormalization)                                                 \n",
      "                                                                 \n",
      " activation_1 (Activation)   (None, 1024)              0         \n",
      "                                                                 \n",
      " dropout_2 (Dropout)         (None, 1024)              0         \n",
      "                                                                 \n",
      " dense_2 (Dense)             (None, 225)               230625    \n",
      "                                                                 \n",
      "=================================================================\n",
      "Total params: 250,892,001\n",
      "Trainable params: 208,058,593\n",
      "Non-trainable params: 42,833,408\n",
      "_________________________________________________________________\n",
      "None\n"
     ]
    }
   ],
   "source": [
    "model=Sequential()\n",
    "model.add(convlayer)\n",
    "model.add(Dropout(0.5))\n",
    "model.add(Flatten())\n",
    "model.add(BatchNormalization())\n",
    "model.add(Dense(2048,kernel_initializer='he_uniform'))\n",
    "model.add(BatchNormalization())\n",
    "model.add(Activation('relu'))\n",
    "model.add(Dropout(0.5))\n",
    "model.add(Dense(1024,kernel_initializer='he_uniform'))\n",
    "model.add(BatchNormalization())\n",
    "model.add(Activation('relu'))\n",
    "model.add(Dropout(0.5))\n",
    "model.add(Dense(225,activation='softmax'))\n",
    "print(model.summary())"
   ]
  },
  {
   "cell_type": "code",
   "execution_count": 13,
   "metadata": {},
   "outputs": [
    {
     "name": "stderr",
     "output_type": "stream",
     "text": [
      "c:\\ProgramData\\Miniconda3\\envs\\dbsenvalt\\lib\\site-packages\\keras\\optimizer_v2\\adam.py:105: UserWarning: The `lr` argument is deprecated, use `learning_rate` instead.\n",
      "  super(Adam, self).__init__(name, **kwargs)\n"
     ]
    }
   ],
   "source": [
    "opt=tf.keras.optimizers.Adam(lr=0.001)\n",
    "model.compile(loss='sparse_categorical_crossentropy',metrics=['accuracy'],optimizer=opt)"
   ]
  },
  {
   "cell_type": "code",
   "execution_count": 14,
   "metadata": {},
   "outputs": [
    {
     "name": "stdout",
     "output_type": "stream",
     "text": [
      "Epoch 1/5\n"
     ]
    }
   ],
   "source": [
    "history=model.fit(train_generator,validation_data= val_generator, epochs=5)"
   ]
  },
  {
   "cell_type": "code",
   "execution_count": null,
   "metadata": {},
   "outputs": [
    {
     "name": "stderr",
     "output_type": "stream",
     "text": [
      "c:\\ProgramData\\Miniconda3\\envs\\dbsenvalt\\lib\\site-packages\\keras\\optimizer_v2\\rmsprop.py:130: UserWarning: The `lr` argument is deprecated, use `learning_rate` instead.\n",
      "  super(RMSprop, self).__init__(name, **kwargs)\n"
     ]
    },
    {
     "name": "stdout",
     "output_type": "stream",
     "text": [
      "37/37 [==============================] - 1364s 37s/step - loss: 0.1068 - accuracy: 0.9916\n"
     ]
    }
   ],
   "source": [
    "opt=tf.keras.optimizers.RMSprop(lr=0.0001)\n",
    "model.compile(loss='sparse_categorical_crossentropy',metrics=['accuracy'],optimizer=opt)\n",
    "history_1=model.fit(train_generator,validation_data= val_generator, epochs=1)"
   ]
  },
  {
   "cell_type": "code",
   "execution_count": null,
   "metadata": {},
   "outputs": [
    {
     "data": {
      "text/plain": [
       "<matplotlib.legend.Legend at 0x2ae91c36c50>"
      ]
     },
     "execution_count": 20,
     "metadata": {},
     "output_type": "execute_result"
    },
    {
     "data": {
      "image/png": "[encoded data removed]",
      "text/plain": [
       "<Figure size 432x288 with 1 Axes>"
      ]
     },
     "metadata": {
      "needs_background": "light"
     },
     "output_type": "display_data"
    }
   ],
   "source": [
    "plt.plot(history.history['accuracy'],c='red')\n",
    "plt.plot(history.history['val_accuracy'],c='green')\n",
    "plt.title('Accuracy')\n",
    "plt.ylabel('Accuracy')\n",
    "plt.xlabel('Epoch')\n",
    "plt.legend(['train','validation'],loc='lower right')"
   ]
  },
  {
   "cell_type": "code",
   "execution_count": null,
   "metadata": {},
   "outputs": [
    {
     "data": {
      "text/plain": [
       "dict_keys(['loss', 'accuracy'])"
      ]
     },
     "execution_count": 19,
     "metadata": {},
     "output_type": "execute_result"
    }
   ],
   "source": [
    "history.history.keys()"
   ]
  },
  {
   "cell_type": "code",
   "execution_count": null,
   "metadata": {},
   "outputs": [
    {
     "ename": "KeyError",
     "evalue": "'val_loss'",
     "output_type": "error",
     "traceback": [
      "\u001b[1;31m---------------------------------------------------------------------------\u001b[0m",
      "\u001b[1;31mKeyError\u001b[0m                                  Traceback (most recent call last)",
      "\u001b[1;32md:\\Overtime\\github\\DBSEdu\\Sem 2\\Deep Learning\\CA\\CA2_40%\\CA_2_Tensorflow.ipynb Cell 16\u001b[0m in \u001b[0;36m<cell line: 2>\u001b[1;34m()\u001b[0m\n\u001b[0;32m      <a href='vscode-notebook-cell:/d%3A/Overtime/github/DBSEdu/Sem%202/Deep%20Learning/CA/CA2_40%25/CA_2_Tensorflow.ipynb#ch0000014?line=0'>1</a>\u001b[0m plt\u001b[39m.\u001b[39mplot(history\u001b[39m.\u001b[39mhistory[\u001b[39m'\u001b[39m\u001b[39mloss\u001b[39m\u001b[39m'\u001b[39m],c\u001b[39m=\u001b[39m\u001b[39m'\u001b[39m\u001b[39mred\u001b[39m\u001b[39m'\u001b[39m)\n\u001b[1;32m----> <a href='vscode-notebook-cell:/d%3A/Overtime/github/DBSEdu/Sem%202/Deep%20Learning/CA/CA2_40%25/CA_2_Tensorflow.ipynb#ch0000014?line=1'>2</a>\u001b[0m plt\u001b[39m.\u001b[39mplot(history\u001b[39m.\u001b[39;49mhistory[\u001b[39m'\u001b[39;49m\u001b[39mval_loss\u001b[39;49m\u001b[39m'\u001b[39;49m],c\u001b[39m=\u001b[39m\u001b[39m'\u001b[39m\u001b[39mgreen\u001b[39m\u001b[39m'\u001b[39m)\n\u001b[0;32m      <a href='vscode-notebook-cell:/d%3A/Overtime/github/DBSEdu/Sem%202/Deep%20Learning/CA/CA2_40%25/CA_2_Tensorflow.ipynb#ch0000014?line=2'>3</a>\u001b[0m plt\u001b[39m.\u001b[39mtitle(\u001b[39m'\u001b[39m\u001b[39mLoss\u001b[39m\u001b[39m'\u001b[39m)\n\u001b[0;32m      <a href='vscode-notebook-cell:/d%3A/Overtime/github/DBSEdu/Sem%202/Deep%20Learning/CA/CA2_40%25/CA_2_Tensorflow.ipynb#ch0000014?line=3'>4</a>\u001b[0m plt\u001b[39m.\u001b[39mylabel(\u001b[39m'\u001b[39m\u001b[39mLoss\u001b[39m\u001b[39m'\u001b[39m)\n",
      "\u001b[1;31mKeyError\u001b[0m: 'val_loss'"
     ]
    },
    {
     "data": {
      "image/png": "[encoded data removed]",
      "text/plain": [
       "<Figure size 432x288 with 1 Axes>"
      ]
     },
     "metadata": {
      "needs_background": "light"
     },
     "output_type": "display_data"
    }
   ],
   "source": [
    "plt.plot(history.history['loss'],c='red')\n",
    "plt.plot(history.history['val_loss'],c='green')\n",
    "plt.title('Loss')\n",
    "plt.ylabel('Loss')\n",
    "plt.xlabel('Epoch')\n",
    "plt.legend(['train','validation'],loc='upper right')"
   ]
  },
  {
   "cell_type": "code",
   "execution_count": 22,
   "metadata": {},
   "outputs": [
    {
     "name": "stdout",
     "output_type": "stream",
     "text": [
      " 8/10 [=======================>......] - ETA: 1:06 - loss: 1.8145 - accuracy: 0.5337"
     ]
    },
    {
     "ename": "KeyboardInterrupt",
     "evalue": "",
     "output_type": "error",
     "traceback": [
      "\u001b[1;31m---------------------------------------------------------------------------\u001b[0m",
      "\u001b[1;31mKeyboardInterrupt\u001b[0m                         Traceback (most recent call last)",
      "\u001b[1;32md:\\Overtime\\github\\DBSEdu\\Sem 2\\Deep Learning\\CA\\CA2_40%\\CA_2_Tensorflow.ipynb Cell 17\u001b[0m in \u001b[0;36m<cell line: 1>\u001b[1;34m()\u001b[0m\n\u001b[1;32m----> <a href='vscode-notebook-cell:/d%3A/Overtime/github/DBSEdu/Sem%202/Deep%20Learning/CA/CA2_40%25/CA_2_Tensorflow.ipynb#ch0000015?line=0'>1</a>\u001b[0m model\u001b[39m.\u001b[39;49mevaluate(test_gemerator)\n",
      "File \u001b[1;32mc:\\ProgramData\\Miniconda3\\envs\\dbsenvalt\\lib\\site-packages\\keras\\utils\\traceback_utils.py:64\u001b[0m, in \u001b[0;36mfilter_traceback.<locals>.error_handler\u001b[1;34m(*args, **kwargs)\u001b[0m\n\u001b[0;32m     62\u001b[0m filtered_tb \u001b[39m=\u001b[39m \u001b[39mNone\u001b[39;00m\n\u001b[0;32m     63\u001b[0m \u001b[39mtry\u001b[39;00m:\n\u001b[1;32m---> 64\u001b[0m   \u001b[39mreturn\u001b[39;00m fn(\u001b[39m*\u001b[39margs, \u001b[39m*\u001b[39m\u001b[39m*\u001b[39mkwargs)\n\u001b[0;32m     65\u001b[0m \u001b[39mexcept\u001b[39;00m \u001b[39mException\u001b[39;00m \u001b[39mas\u001b[39;00m e:  \u001b[39m# pylint: disable=broad-except\u001b[39;00m\n\u001b[0;32m     66\u001b[0m   filtered_tb \u001b[39m=\u001b[39m _process_traceback_frames(e\u001b[39m.\u001b[39m__traceback__)\n",
      "File \u001b[1;32mc:\\ProgramData\\Miniconda3\\envs\\dbsenvalt\\lib\\site-packages\\keras\\engine\\training.py:1716\u001b[0m, in \u001b[0;36mModel.evaluate\u001b[1;34m(self, x, y, batch_size, verbose, sample_weight, steps, callbacks, max_queue_size, workers, use_multiprocessing, return_dict, **kwargs)\u001b[0m\n\u001b[0;32m   1714\u001b[0m \u001b[39mwith\u001b[39;00m tf\u001b[39m.\u001b[39mprofiler\u001b[39m.\u001b[39mexperimental\u001b[39m.\u001b[39mTrace(\u001b[39m'\u001b[39m\u001b[39mtest\u001b[39m\u001b[39m'\u001b[39m, step_num\u001b[39m=\u001b[39mstep, _r\u001b[39m=\u001b[39m\u001b[39m1\u001b[39m):\n\u001b[0;32m   1715\u001b[0m   callbacks\u001b[39m.\u001b[39mon_test_batch_begin(step)\n\u001b[1;32m-> 1716\u001b[0m   tmp_logs \u001b[39m=\u001b[39m \u001b[39mself\u001b[39;49m\u001b[39m.\u001b[39;49mtest_function(iterator)\n\u001b[0;32m   1717\u001b[0m   \u001b[39mif\u001b[39;00m data_handler\u001b[39m.\u001b[39mshould_sync:\n\u001b[0;32m   1718\u001b[0m     context\u001b[39m.\u001b[39masync_wait()\n",
      "File \u001b[1;32mc:\\ProgramData\\Miniconda3\\envs\\dbsenvalt\\lib\\site-packages\\tensorflow\\python\\util\\traceback_utils.py:150\u001b[0m, in \u001b[0;36mfilter_traceback.<locals>.error_handler\u001b[1;34m(*args, **kwargs)\u001b[0m\n\u001b[0;32m    148\u001b[0m filtered_tb \u001b[39m=\u001b[39m \u001b[39mNone\u001b[39;00m\n\u001b[0;32m    149\u001b[0m \u001b[39mtry\u001b[39;00m:\n\u001b[1;32m--> 150\u001b[0m   \u001b[39mreturn\u001b[39;00m fn(\u001b[39m*\u001b[39margs, \u001b[39m*\u001b[39m\u001b[39m*\u001b[39mkwargs)\n\u001b[0;32m    151\u001b[0m \u001b[39mexcept\u001b[39;00m \u001b[39mException\u001b[39;00m \u001b[39mas\u001b[39;00m e:\n\u001b[0;32m    152\u001b[0m   filtered_tb \u001b[39m=\u001b[39m _process_traceback_frames(e\u001b[39m.\u001b[39m__traceback__)\n",
      "File \u001b[1;32mc:\\ProgramData\\Miniconda3\\envs\\dbsenvalt\\lib\\site-packages\\tensorflow\\python\\eager\\def_function.py:915\u001b[0m, in \u001b[0;36mFunction.__call__\u001b[1;34m(self, *args, **kwds)\u001b[0m\n\u001b[0;32m    912\u001b[0m compiler \u001b[39m=\u001b[39m \u001b[39m\"\u001b[39m\u001b[39mxla\u001b[39m\u001b[39m\"\u001b[39m \u001b[39mif\u001b[39;00m \u001b[39mself\u001b[39m\u001b[39m.\u001b[39m_jit_compile \u001b[39melse\u001b[39;00m \u001b[39m\"\u001b[39m\u001b[39mnonXla\u001b[39m\u001b[39m\"\u001b[39m\n\u001b[0;32m    914\u001b[0m \u001b[39mwith\u001b[39;00m OptionalXlaContext(\u001b[39mself\u001b[39m\u001b[39m.\u001b[39m_jit_compile):\n\u001b[1;32m--> 915\u001b[0m   result \u001b[39m=\u001b[39m \u001b[39mself\u001b[39m\u001b[39m.\u001b[39m_call(\u001b[39m*\u001b[39margs, \u001b[39m*\u001b[39m\u001b[39m*\u001b[39mkwds)\n\u001b[0;32m    917\u001b[0m new_tracing_count \u001b[39m=\u001b[39m \u001b[39mself\u001b[39m\u001b[39m.\u001b[39mexperimental_get_tracing_count()\n\u001b[0;32m    918\u001b[0m without_tracing \u001b[39m=\u001b[39m (tracing_count \u001b[39m==\u001b[39m new_tracing_count)\n",
      "File \u001b[1;32mc:\\ProgramData\\Miniconda3\\envs\\dbsenvalt\\lib\\site-packages\\tensorflow\\python\\eager\\def_function.py:954\u001b[0m, in \u001b[0;36mFunction._call\u001b[1;34m(self, *args, **kwds)\u001b[0m\n\u001b[0;32m    951\u001b[0m \u001b[39mself\u001b[39m\u001b[39m.\u001b[39m_lock\u001b[39m.\u001b[39mrelease()\n\u001b[0;32m    952\u001b[0m \u001b[39m# In this case we have not created variables on the first call. So we can\u001b[39;00m\n\u001b[0;32m    953\u001b[0m \u001b[39m# run the first trace but we should fail if variables are created.\u001b[39;00m\n\u001b[1;32m--> 954\u001b[0m results \u001b[39m=\u001b[39m \u001b[39mself\u001b[39m\u001b[39m.\u001b[39m_stateful_fn(\u001b[39m*\u001b[39margs, \u001b[39m*\u001b[39m\u001b[39m*\u001b[39mkwds)\n\u001b[0;32m    955\u001b[0m \u001b[39mif\u001b[39;00m \u001b[39mself\u001b[39m\u001b[39m.\u001b[39m_created_variables \u001b[39mand\u001b[39;00m \u001b[39mnot\u001b[39;00m ALLOW_DYNAMIC_VARIABLE_CREATION:\n\u001b[0;32m    956\u001b[0m   \u001b[39mraise\u001b[39;00m \u001b[39mValueError\u001b[39;00m(\u001b[39m\"\u001b[39m\u001b[39mCreating variables on a non-first call to a function\u001b[39m\u001b[39m\"\u001b[39m\n\u001b[0;32m    957\u001b[0m                    \u001b[39m\"\u001b[39m\u001b[39m decorated with tf.function.\u001b[39m\u001b[39m\"\u001b[39m)\n",
      "File \u001b[1;32mc:\\ProgramData\\Miniconda3\\envs\\dbsenvalt\\lib\\site-packages\\tensorflow\\python\\eager\\function.py:2956\u001b[0m, in \u001b[0;36mFunction.__call__\u001b[1;34m(self, *args, **kwargs)\u001b[0m\n\u001b[0;32m   2953\u001b[0m \u001b[39mwith\u001b[39;00m \u001b[39mself\u001b[39m\u001b[39m.\u001b[39m_lock:\n\u001b[0;32m   2954\u001b[0m   (graph_function,\n\u001b[0;32m   2955\u001b[0m    filtered_flat_args) \u001b[39m=\u001b[39m \u001b[39mself\u001b[39m\u001b[39m.\u001b[39m_maybe_define_function(args, kwargs)\n\u001b[1;32m-> 2956\u001b[0m \u001b[39mreturn\u001b[39;00m graph_function\u001b[39m.\u001b[39;49m_call_flat(\n\u001b[0;32m   2957\u001b[0m     filtered_flat_args, captured_inputs\u001b[39m=\u001b[39;49mgraph_function\u001b[39m.\u001b[39;49mcaptured_inputs)\n",
      "File \u001b[1;32mc:\\ProgramData\\Miniconda3\\envs\\dbsenvalt\\lib\\site-packages\\tensorflow\\python\\eager\\function.py:1853\u001b[0m, in \u001b[0;36mConcreteFunction._call_flat\u001b[1;34m(self, args, captured_inputs, cancellation_manager)\u001b[0m\n\u001b[0;32m   1849\u001b[0m possible_gradient_type \u001b[39m=\u001b[39m gradients_util\u001b[39m.\u001b[39mPossibleTapeGradientTypes(args)\n\u001b[0;32m   1850\u001b[0m \u001b[39mif\u001b[39;00m (possible_gradient_type \u001b[39m==\u001b[39m gradients_util\u001b[39m.\u001b[39mPOSSIBLE_GRADIENT_TYPES_NONE\n\u001b[0;32m   1851\u001b[0m     \u001b[39mand\u001b[39;00m executing_eagerly):\n\u001b[0;32m   1852\u001b[0m   \u001b[39m# No tape is watching; skip to running the function.\u001b[39;00m\n\u001b[1;32m-> 1853\u001b[0m   \u001b[39mreturn\u001b[39;00m \u001b[39mself\u001b[39m\u001b[39m.\u001b[39m_build_call_outputs(\u001b[39mself\u001b[39;49m\u001b[39m.\u001b[39;49m_inference_function\u001b[39m.\u001b[39;49mcall(\n\u001b[0;32m   1854\u001b[0m       ctx, args, cancellation_manager\u001b[39m=\u001b[39;49mcancellation_manager))\n\u001b[0;32m   1855\u001b[0m forward_backward \u001b[39m=\u001b[39m \u001b[39mself\u001b[39m\u001b[39m.\u001b[39m_select_forward_and_backward_functions(\n\u001b[0;32m   1856\u001b[0m     args,\n\u001b[0;32m   1857\u001b[0m     possible_gradient_type,\n\u001b[0;32m   1858\u001b[0m     executing_eagerly)\n\u001b[0;32m   1859\u001b[0m forward_function, args_with_tangents \u001b[39m=\u001b[39m forward_backward\u001b[39m.\u001b[39mforward()\n",
      "File \u001b[1;32mc:\\ProgramData\\Miniconda3\\envs\\dbsenvalt\\lib\\site-packages\\tensorflow\\python\\eager\\function.py:499\u001b[0m, in \u001b[0;36m_EagerDefinedFunction.call\u001b[1;34m(self, ctx, args, cancellation_manager)\u001b[0m\n\u001b[0;32m    497\u001b[0m \u001b[39mwith\u001b[39;00m _InterpolateFunctionError(\u001b[39mself\u001b[39m):\n\u001b[0;32m    498\u001b[0m   \u001b[39mif\u001b[39;00m cancellation_manager \u001b[39mis\u001b[39;00m \u001b[39mNone\u001b[39;00m:\n\u001b[1;32m--> 499\u001b[0m     outputs \u001b[39m=\u001b[39m execute\u001b[39m.\u001b[39;49mexecute(\n\u001b[0;32m    500\u001b[0m         \u001b[39mstr\u001b[39;49m(\u001b[39mself\u001b[39;49m\u001b[39m.\u001b[39;49msignature\u001b[39m.\u001b[39;49mname),\n\u001b[0;32m    501\u001b[0m         num_outputs\u001b[39m=\u001b[39;49m\u001b[39mself\u001b[39;49m\u001b[39m.\u001b[39;49m_num_outputs,\n\u001b[0;32m    502\u001b[0m         inputs\u001b[39m=\u001b[39;49margs,\n\u001b[0;32m    503\u001b[0m         attrs\u001b[39m=\u001b[39;49mattrs,\n\u001b[0;32m    504\u001b[0m         ctx\u001b[39m=\u001b[39;49mctx)\n\u001b[0;32m    505\u001b[0m   \u001b[39melse\u001b[39;00m:\n\u001b[0;32m    506\u001b[0m     outputs \u001b[39m=\u001b[39m execute\u001b[39m.\u001b[39mexecute_with_cancellation(\n\u001b[0;32m    507\u001b[0m         \u001b[39mstr\u001b[39m(\u001b[39mself\u001b[39m\u001b[39m.\u001b[39msignature\u001b[39m.\u001b[39mname),\n\u001b[0;32m    508\u001b[0m         num_outputs\u001b[39m=\u001b[39m\u001b[39mself\u001b[39m\u001b[39m.\u001b[39m_num_outputs,\n\u001b[1;32m   (...)\u001b[0m\n\u001b[0;32m    511\u001b[0m         ctx\u001b[39m=\u001b[39mctx,\n\u001b[0;32m    512\u001b[0m         cancellation_manager\u001b[39m=\u001b[39mcancellation_manager)\n",
      "File \u001b[1;32mc:\\ProgramData\\Miniconda3\\envs\\dbsenvalt\\lib\\site-packages\\tensorflow\\python\\eager\\execute.py:54\u001b[0m, in \u001b[0;36mquick_execute\u001b[1;34m(op_name, num_outputs, inputs, attrs, ctx, name)\u001b[0m\n\u001b[0;32m     52\u001b[0m \u001b[39mtry\u001b[39;00m:\n\u001b[0;32m     53\u001b[0m   ctx\u001b[39m.\u001b[39mensure_initialized()\n\u001b[1;32m---> 54\u001b[0m   tensors \u001b[39m=\u001b[39m pywrap_tfe\u001b[39m.\u001b[39;49mTFE_Py_Execute(ctx\u001b[39m.\u001b[39;49m_handle, device_name, op_name,\n\u001b[0;32m     55\u001b[0m                                       inputs, attrs, num_outputs)\n\u001b[0;32m     56\u001b[0m \u001b[39mexcept\u001b[39;00m core\u001b[39m.\u001b[39m_NotOkStatusException \u001b[39mas\u001b[39;00m e:\n\u001b[0;32m     57\u001b[0m   \u001b[39mif\u001b[39;00m name \u001b[39mis\u001b[39;00m \u001b[39mnot\u001b[39;00m \u001b[39mNone\u001b[39;00m:\n",
      "\u001b[1;31mKeyboardInterrupt\u001b[0m: "
     ]
    }
   ],
   "source": [
    "model.evaluate(test_gemerator)"
   ]
  },
  {
   "cell_type": "code",
   "execution_count": null,
   "metadata": {},
   "outputs": [],
   "source": [
    "dic=train_generator.class_indices\n",
    "icd={k:v for v,k in dic.items()}\n",
    "def output(location):\n",
    "    img=load_img(location,target_size=(224,224,3))\n",
    "    img=img_to_array(img)\n",
    "    img=img/255\n",
    "    img=np.expand_dims(img,[0])\n",
    "    answer=model.predict_classes(img)\n",
    "    probability=round(np.max(model.predict_proba(img)*100),2)\n",
    "    #print ('Bird Is',icd[answer[0]], 'With probability',probability)\n",
    "    print (probability, ' % chances are there that the Bird Is',icd[answer[0]])"
   ]
  },
  {
   "cell_type": "code",
   "execution_count": null,
   "metadata": {},
   "outputs": [],
   "source": [
    "img='../../../../../DataSets/IMG-100/images to test/1.jpg'\n",
    "pic=load_img('../../../../../DataSets/IMG-100/images to test/1.jpg',target_size=(224,224,3))\n",
    "plt.imshow(pic)\n",
    "output(img)"
   ]
  },
  {
   "cell_type": "code",
   "execution_count": null,
   "metadata": {},
   "outputs": [],
   "source": [
    "img='../../../../../DataSets/IMG-100/images to test/2.jpg'\n",
    "pic=load_img('../../../../../DataSets/IMG-100/images to test/2.jpg',target_size=(224,224,3))\n",
    "plt.imshow(pic)\n",
    "output(img)"
   ]
  },
  {
   "cell_type": "code",
   "execution_count": null,
   "metadata": {},
   "outputs": [],
   "source": [
    "img='../../../../../DataSets/IMG-100/images to test/3.jpg'\n",
    "pic=load_img('../../../../../DataSets/IMG-100/images to test/3.jpg',target_size=(224,224,3))\n",
    "plt.imshow(pic)\n",
    "output(img)"
   ]
  },
  {
   "cell_type": "code",
   "execution_count": null,
   "metadata": {},
   "outputs": [],
   "source": []
  }
 ],
 "metadata": {
  "kernelspec": {
   "display_name": "Python 3.10.4 ('dbsenvalt')",
   "language": "python",
   "name": "python3"
  },
  "language_info": {
   "codemirror_mode": {
    "name": "ipython",
    "version": 3
   },
   "file_extension": ".py",
   "mimetype": "text/x-python",
   "name": "python",
   "nbconvert_exporter": "python",
   "pygments_lexer": "ipython3",
   "version": "3.10.4"
  },
  "orig_nbformat": 4,
  "vscode": {
   "interpreter": {
    "hash": "b69cd713fd987fe7d1cd2532bcfe146cd06eada8a7acd24118ab58f0a54103e8"
   }
  }
 },
 "nbformat": 4,
 "nbformat_minor": 2
}
