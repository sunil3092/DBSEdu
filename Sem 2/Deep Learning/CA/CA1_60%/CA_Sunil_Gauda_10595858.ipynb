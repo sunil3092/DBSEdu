{
 "cells": [
  {
   "cell_type": "code",
   "execution_count": 110,
   "metadata": {},
   "outputs": [],
   "source": [
    "import math\n",
    "import numpy as np\n",
    "import pandas as pd\n",
    "import matplotlib.pyplot as plt\n",
    "from keras.models import Sequential\n",
    "from sklearn.preprocessing import MinMaxScaler\n",
    "from keras.layers import LSTM, Dense, TimeDistributed, Dropout, Activation\n",
    "import yfinance as fyf\n",
    "from pandas_datareader import data as pdr\n",
    "fyf.pdr_override() # <-- Here is the fix\n",
    "import datetime"
   ]
  },
  {
   "cell_type": "code",
   "execution_count": 111,
   "metadata": {},
   "outputs": [],
   "source": [
    "def get_data(name, start_date, end_date):\n",
    "    return pdr.get_data_yahoo(name, start_date, end_date)"
   ]
  },
  {
   "cell_type": "code",
   "execution_count": 124,
   "metadata": {},
   "outputs": [],
   "source": [
    "def prepare_data(data_val, train_data_len, lstm_neuron_number) :\n",
    "    mm_scalar = MinMaxScaler(feature_range=(0, 1))\n",
    "    sc_data = mm_scalar.fit_transform(data_val)\n",
    "    train_data = sc_data[0:train_data_len, :]\n",
    "    x_train = []\n",
    "    y_train = []\n",
    "    trainingdatasize = len(train_data)\n",
    "    for i in range(lstm_neuron_number, trainingdatasize):\n",
    "        x_train.append(\n",
    "            train_data[i - lstm_neuron_number : i, 0]\n",
    "        )  # contains lstm_neuron_number values 0-lstm_neuron_number\n",
    "        y_train.append(train_data[i, 0])  # contains all other values\n",
    "\n",
    "    # Convert the x_train and y_train to numpy arrays\n",
    "    x_train = np.array(x_train)\n",
    "    y_train = np.array(y_train)\n",
    "    x_train = np.reshape(x_train, (x_train.shape[0], x_train.shape[1], 1))\n",
    "\n",
    "    test_data = sc_data[train_data_len - lstm_neuron_number:, :]\n",
    "    x_test = []\n",
    "    y_test = data_val[train_data_len:, :]\n",
    "    for i in range(lstm_neuron_number, len(test_data)):\n",
    "        x_test.append(test_data[i - lstm_neuron_number : i, 0])\n",
    "\n",
    "    return x_train, y_train, x_test, y_test\n"
   ]
  },
  {
   "cell_type": "code",
   "execution_count": 125,
   "metadata": {},
   "outputs": [],
   "source": [
    "def get_lstm_model(lstm_neuron_number, x_train):\n",
    "    model = Sequential()\n",
    "    model.add(LSTM(lstm_neuron_number, return_sequences=False,\n",
    "              input_shape=(x_train.shape[1], 1)))\n",
    "    model.add(Dense(1))\n",
    "    model.compile(optimizer=\"adam\", loss=\"mean_squared_error\")\n",
    "    return model\n"
   ]
  },
  {
   "cell_type": "code",
   "execution_count": 126,
   "metadata": {},
   "outputs": [
    {
     "name": "stdout",
     "output_type": "stream",
     "text": [
      "[*********************100%***********************]  1 of 1 completed\n"
     ]
    }
   ],
   "source": [
    "stock_names = [\"AAPL\"]\n",
    "start_date = datetime.datetime(2017, 1, 1)\n",
    "end_date = datetime.datetime(2018, 3, 14)\n",
    "data = get_data(stock_names, start_date, end_date)"
   ]
  },
  {
   "cell_type": "code",
   "execution_count": 127,
   "metadata": {},
   "outputs": [],
   "source": [
    "epochs = 12; batch_size = 1; lstm_neuron_number = 110\n",
    "data_val = data.values\n",
    "train_data_len = math.ceil(len(data_val) * 0.8)"
   ]
  },
  {
   "cell_type": "code",
   "execution_count": 129,
   "metadata": {},
   "outputs": [
    {
     "data": {
      "text/plain": [
       "((130, 110, 1), (130,))"
      ]
     },
     "execution_count": 129,
     "metadata": {},
     "output_type": "execute_result"
    }
   ],
   "source": [
    "X_train, y_train, X_test, y_test = prepare_data(data_val, train_data_len, lstm_neuron_number)\n",
    "\n",
    "X_train.shape, y_train.shape"
   ]
  },
  {
   "cell_type": "code",
   "execution_count": 133,
   "metadata": {},
   "outputs": [
    {
     "name": "stdout",
     "output_type": "stream",
     "text": [
      "Epoch 1/12\n",
      "130/130 [==============================] - 5s 18ms/step - loss: 0.0256\n",
      "Epoch 2/12\n",
      "130/130 [==============================] - 2s 19ms/step - loss: 0.0041\n",
      "Epoch 3/12\n",
      "130/130 [==============================] - 2s 18ms/step - loss: 0.0038\n",
      "Epoch 4/12\n",
      "130/130 [==============================] - 2s 18ms/step - loss: 0.0037\n",
      "Epoch 5/12\n",
      "130/130 [==============================] - 2s 19ms/step - loss: 0.0036\n",
      "Epoch 6/12\n",
      "130/130 [==============================] - 2s 19ms/step - loss: 0.0032\n",
      "Epoch 7/12\n",
      "130/130 [==============================] - 2s 18ms/step - loss: 0.0029\n",
      "Epoch 8/12\n",
      "130/130 [==============================] - 2s 18ms/step - loss: 0.0026\n",
      "Epoch 9/12\n",
      "130/130 [==============================] - 2s 18ms/step - loss: 0.0024\n",
      "Epoch 10/12\n",
      "130/130 [==============================] - 2s 18ms/step - loss: 0.0023\n",
      "Epoch 11/12\n",
      "130/130 [==============================] - 2s 18ms/step - loss: 0.0021\n",
      "Epoch 12/12\n",
      "130/130 [==============================] - 2s 19ms/step - loss: 0.0022\n"
     ]
    }
   ],
   "source": [
    "model = get_lstm_model(lstm_neuron_number, X_train)\n",
    "hist = model.fit(X_train, y_train, batch_size=batch_size, epochs=epochs)"
   ]
  },
  {
   "cell_type": "code",
   "execution_count": null,
   "metadata": {},
   "outputs": [],
   "source": []
  }
 ],
 "metadata": {
  "kernelspec": {
   "display_name": "Python 3.10.4 ('dbsenvalt')",
   "language": "python",
   "name": "python3"
  },
  "language_info": {
   "codemirror_mode": {
    "name": "ipython",
    "version": 3
   },
   "file_extension": ".py",
   "mimetype": "text/x-python",
   "name": "python",
   "nbconvert_exporter": "python",
   "pygments_lexer": "ipython3",
   "version": "3.10.4"
  },
  "orig_nbformat": 4,
  "vscode": {
   "interpreter": {
    "hash": "b69cd713fd987fe7d1cd2532bcfe146cd06eada8a7acd24118ab58f0a54103e8"
   }
  }
 },
 "nbformat": 4,
 "nbformat_minor": 2
}
