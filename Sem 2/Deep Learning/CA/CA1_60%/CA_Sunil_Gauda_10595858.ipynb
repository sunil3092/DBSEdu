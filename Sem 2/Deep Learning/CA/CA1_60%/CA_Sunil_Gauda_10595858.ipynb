{
 "cells": [
  {
   "cell_type": "markdown",
   "metadata": {},
   "source": [
    "https://www.kaggle.com/code/tarunpaparaju/plant-pathology-2020-eda-models"
   ]
  },
  {
   "cell_type": "code",
   "execution_count": 1,
   "metadata": {},
   "outputs": [],
   "source": [
    "import os\n",
    "import gc\n",
    "import re\n",
    "\n",
    "import cv2\n",
    "import math\n",
    "import numpy as np\n",
    "import scipy as sp\n",
    "import pandas as pd\n",
    "\n",
    "import tensorflow as tf\n",
    "from IPython.display import SVG\n",
    "import efficientnet.tfkeras as efn\n",
    "from keras.utils import plot_model\n",
    "import tensorflow.keras.layers as L\n",
    "from keras.utils import model_to_dot\n",
    "import tensorflow.keras.backend as K\n",
    "from tensorflow.keras.models import Model\n",
    "import kaggledatasets as kds\n",
    "from tensorflow.keras.applications import DenseNet121\n",
    "\n",
    "import seaborn as sns\n",
    "from tqdm import tqdm\n",
    "import matplotlib.cm as cm\n",
    "from sklearn import metrics\n",
    "import matplotlib.pyplot as plt\n",
    "from sklearn.utils import shuffle\n",
    "from sklearn.model_selection import train_test_split\n",
    "\n",
    "tqdm.pandas()\n",
    "import plotly.express as px\n",
    "import plotly.graph_objects as go\n",
    "import plotly.figure_factory as ff\n",
    "from plotly.subplots import make_subplots\n",
    "\n",
    "np.random.seed(0)\n",
    "tf.random.set_seed(0)\n",
    "\n",
    "import warnings\n",
    "warnings.filterwarnings(\"ignore\")"
   ]
  },
  {
   "cell_type": "code",
   "execution_count": 2,
   "metadata": {},
   "outputs": [],
   "source": [
    "EPOCHS = 20\n",
    "SAMPLE_LEN = 100\n",
    "IMAGE_PATH = \"../../../../../DataSets/plant-pathology-2020-fgvc7/images/\"\n",
    "TEST_PATH = \"../../../../../DataSets/plant-pathology-2020-fgvc7/test.csv\"\n",
    "TRAIN_PATH = \"../../../../../DataSets/plant-pathology-2020-fgvc7/train.csv\"\n",
    "SUB_PATH = \"../../../../../DataSets/plant-pathology-2020-fgvc7/sample_submission.csv\"\n",
    "\n",
    "sub = pd.read_csv(SUB_PATH)\n",
    "test_data = pd.read_csv(TEST_PATH)\n",
    "train_data = pd.read_csv(TRAIN_PATH)\n"
   ]
  },
  {
   "cell_type": "code",
   "execution_count": 3,
   "metadata": {},
   "outputs": [
    {
     "data": {
      "text/html": [
       "<div>\n",
       "<style scoped>\n",
       "    .dataframe tbody tr th:only-of-type {\n",
       "        vertical-align: middle;\n",
       "    }\n",
       "\n",
       "    .dataframe tbody tr th {\n",
       "        vertical-align: top;\n",
       "    }\n",
       "\n",
       "    .dataframe thead th {\n",
       "        text-align: right;\n",
       "    }\n",
       "</style>\n",
       "<table border=\"1\" class=\"dataframe\">\n",
       "  <thead>\n",
       "    <tr style=\"text-align: right;\">\n",
       "      <th></th>\n",
       "      <th>image_id</th>\n",
       "      <th>healthy</th>\n",
       "      <th>multiple_diseases</th>\n",
       "      <th>rust</th>\n",
       "      <th>scab</th>\n",
       "    </tr>\n",
       "  </thead>\n",
       "  <tbody>\n",
       "    <tr>\n",
       "      <th>0</th>\n",
       "      <td>Train_0</td>\n",
       "      <td>0</td>\n",
       "      <td>0</td>\n",
       "      <td>0</td>\n",
       "      <td>1</td>\n",
       "    </tr>\n",
       "    <tr>\n",
       "      <th>1</th>\n",
       "      <td>Train_1</td>\n",
       "      <td>0</td>\n",
       "      <td>1</td>\n",
       "      <td>0</td>\n",
       "      <td>0</td>\n",
       "    </tr>\n",
       "    <tr>\n",
       "      <th>2</th>\n",
       "      <td>Train_2</td>\n",
       "      <td>1</td>\n",
       "      <td>0</td>\n",
       "      <td>0</td>\n",
       "      <td>0</td>\n",
       "    </tr>\n",
       "    <tr>\n",
       "      <th>3</th>\n",
       "      <td>Train_3</td>\n",
       "      <td>0</td>\n",
       "      <td>0</td>\n",
       "      <td>1</td>\n",
       "      <td>0</td>\n",
       "    </tr>\n",
       "    <tr>\n",
       "      <th>4</th>\n",
       "      <td>Train_4</td>\n",
       "      <td>1</td>\n",
       "      <td>0</td>\n",
       "      <td>0</td>\n",
       "      <td>0</td>\n",
       "    </tr>\n",
       "  </tbody>\n",
       "</table>\n",
       "</div>"
      ],
      "text/plain": [
       "  image_id  healthy  multiple_diseases  rust  scab\n",
       "0  Train_0        0                  0     0     1\n",
       "1  Train_1        0                  1     0     0\n",
       "2  Train_2        1                  0     0     0\n",
       "3  Train_3        0                  0     1     0\n",
       "4  Train_4        1                  0     0     0"
      ]
     },
     "execution_count": 3,
     "metadata": {},
     "output_type": "execute_result"
    }
   ],
   "source": [
    "train_data.head()\n"
   ]
  },
  {
   "cell_type": "code",
   "execution_count": 4,
   "metadata": {},
   "outputs": [
    {
     "data": {
      "text/html": [
       "<div>\n",
       "<style scoped>\n",
       "    .dataframe tbody tr th:only-of-type {\n",
       "        vertical-align: middle;\n",
       "    }\n",
       "\n",
       "    .dataframe tbody tr th {\n",
       "        vertical-align: top;\n",
       "    }\n",
       "\n",
       "    .dataframe thead th {\n",
       "        text-align: right;\n",
       "    }\n",
       "</style>\n",
       "<table border=\"1\" class=\"dataframe\">\n",
       "  <thead>\n",
       "    <tr style=\"text-align: right;\">\n",
       "      <th></th>\n",
       "      <th>image_id</th>\n",
       "    </tr>\n",
       "  </thead>\n",
       "  <tbody>\n",
       "    <tr>\n",
       "      <th>0</th>\n",
       "      <td>Test_0</td>\n",
       "    </tr>\n",
       "    <tr>\n",
       "      <th>1</th>\n",
       "      <td>Test_1</td>\n",
       "    </tr>\n",
       "    <tr>\n",
       "      <th>2</th>\n",
       "      <td>Test_2</td>\n",
       "    </tr>\n",
       "    <tr>\n",
       "      <th>3</th>\n",
       "      <td>Test_3</td>\n",
       "    </tr>\n",
       "    <tr>\n",
       "      <th>4</th>\n",
       "      <td>Test_4</td>\n",
       "    </tr>\n",
       "  </tbody>\n",
       "</table>\n",
       "</div>"
      ],
      "text/plain": [
       "  image_id\n",
       "0   Test_0\n",
       "1   Test_1\n",
       "2   Test_2\n",
       "3   Test_3\n",
       "4   Test_4"
      ]
     },
     "execution_count": 4,
     "metadata": {},
     "output_type": "execute_result"
    }
   ],
   "source": [
    "test_data.head()\n"
   ]
  },
  {
   "cell_type": "code",
   "execution_count": 5,
   "metadata": {},
   "outputs": [
    {
     "name": "stderr",
     "output_type": "stream",
     "text": [
      "100%|██████████| 100/100 [00:03<00:00, 28.04it/s]\n"
     ]
    }
   ],
   "source": [
    "def load_image(image_id):\n",
    "    file_path = image_id + \".jpg\"\n",
    "    image = cv2.imread(IMAGE_PATH + file_path)\n",
    "    return cv2.cvtColor(image, cv2.COLOR_BGR2RGB)\n",
    "\n",
    "\n",
    "train_images = train_data[\"image_id\"][:SAMPLE_LEN].progress_apply(load_image)\n"
   ]
  },
  {
   "cell_type": "code",
   "execution_count": 6,
   "metadata": {},
   "outputs": [
    {
     "data": {
      "application/vnd.plotly.v1+json": {
       "config": {
        "plotlyServerURL": "https://plot.ly"
       },
       "data": [
        {
         "hovertemplate": "x: %{x}<br>y: %{y}<br>color: [%{z[0]}, %{z[1]}, %{z[2]}]<extra></extra>",
         "name": "0",
         "source": "data:image/png;base64,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",
         "type": "image",
         "xaxis": "x",
         "yaxis": "y"
        }
       ],
       "layout": {
        "margin": {
         "t": 60
        },
        "template": {
         "data": {
          "bar": [
           {
            "error_x": {
             "color": "#2a3f5f"
            },
            "error_y": {
             "color": "#2a3f5f"
            },
            "marker": {
             "line": {
              "color": "#E5ECF6",
              "width": 0.5
             },
             "pattern": {
              "fillmode": "overlay",
              "size": 10,
              "solidity": 0.2
             }
            },
            "type": "bar"
           }
          ],
          "barpolar": [
           {
            "marker": {
             "line": {
              "color": "#E5ECF6",
              "width": 0.5
             },
             "pattern": {
              "fillmode": "overlay",
              "size": 10,
              "solidity": 0.2
             }
            },
            "type": "barpolar"
           }
          ],
          "carpet": [
           {
            "aaxis": {
             "endlinecolor": "#2a3f5f",
             "gridcolor": "white",
             "linecolor": "white",
             "minorgridcolor": "white",
             "startlinecolor": "#2a3f5f"
            },
            "baxis": {
             "endlinecolor": "#2a3f5f",
             "gridcolor": "white",
             "linecolor": "white",
             "minorgridcolor": "white",
             "startlinecolor": "#2a3f5f"
            },
            "type": "carpet"
           }
          ],
          "choropleth": [
           {
            "colorbar": {
             "outlinewidth": 0,
             "ticks": ""
            },
            "type": "choropleth"
           }
          ],
          "contour": [
           {
            "colorbar": {
             "outlinewidth": 0,
             "ticks": ""
            },
            "colorscale": [
             [
              0,
              "#0d0887"
             ],
             [
              0.1111111111111111,
              "#46039f"
             ],
             [
              0.2222222222222222,
              "#7201a8"
             ],
             [
              0.3333333333333333,
              "#9c179e"
             ],
             [
              0.4444444444444444,
              "#bd3786"
             ],
             [
              0.5555555555555556,
              "#d8576b"
             ],
             [
              0.6666666666666666,
              "#ed7953"
             ],
             [
              0.7777777777777778,
              "#fb9f3a"
             ],
             [
              0.8888888888888888,
              "#fdca26"
             ],
             [
              1,
              "#f0f921"
             ]
            ],
            "type": "contour"
           }
          ],
          "contourcarpet": [
           {
            "colorbar": {
             "outlinewidth": 0,
             "ticks": ""
            },
            "type": "contourcarpet"
           }
          ],
          "heatmap": [
           {
            "colorbar": {
             "outlinewidth": 0,
             "ticks": ""
            },
            "colorscale": [
             [
              0,
              "#0d0887"
             ],
             [
              0.1111111111111111,
              "#46039f"
             ],
             [
              0.2222222222222222,
              "#7201a8"
             ],
             [
              0.3333333333333333,
              "#9c179e"
             ],
             [
              0.4444444444444444,
              "#bd3786"
             ],
             [
              0.5555555555555556,
              "#d8576b"
             ],
             [
              0.6666666666666666,
              "#ed7953"
             ],
             [
              0.7777777777777778,
              "#fb9f3a"
             ],
             [
              0.8888888888888888,
              "#fdca26"
             ],
             [
              1,
              "#f0f921"
             ]
            ],
            "type": "heatmap"
           }
          ],
          "heatmapgl": [
           {
            "colorbar": {
             "outlinewidth": 0,
             "ticks": ""
            },
            "colorscale": [
             [
              0,
              "#0d0887"
             ],
             [
              0.1111111111111111,
              "#46039f"
             ],
             [
              0.2222222222222222,
              "#7201a8"
             ],
             [
              0.3333333333333333,
              "#9c179e"
             ],
             [
              0.4444444444444444,
              "#bd3786"
             ],
             [
              0.5555555555555556,
              "#d8576b"
             ],
             [
              0.6666666666666666,
              "#ed7953"
             ],
             [
              0.7777777777777778,
              "#fb9f3a"
             ],
             [
              0.8888888888888888,
              "#fdca26"
             ],
             [
              1,
              "#f0f921"
             ]
            ],
            "type": "heatmapgl"
           }
          ],
          "histogram": [
           {
            "marker": {
             "pattern": {
              "fillmode": "overlay",
              "size": 10,
              "solidity": 0.2
             }
            },
            "type": "histogram"
           }
          ],
          "histogram2d": [
           {
            "colorbar": {
             "outlinewidth": 0,
             "ticks": ""
            },
            "colorscale": [
             [
              0,
              "#0d0887"
             ],
             [
              0.1111111111111111,
              "#46039f"
             ],
             [
              0.2222222222222222,
              "#7201a8"
             ],
             [
              0.3333333333333333,
              "#9c179e"
             ],
             [
              0.4444444444444444,
              "#bd3786"
             ],
             [
              0.5555555555555556,
              "#d8576b"
             ],
             [
              0.6666666666666666,
              "#ed7953"
             ],
             [
              0.7777777777777778,
              "#fb9f3a"
             ],
             [
              0.8888888888888888,
              "#fdca26"
             ],
             [
              1,
              "#f0f921"
             ]
            ],
            "type": "histogram2d"
           }
          ],
          "histogram2dcontour": [
           {
            "colorbar": {
             "outlinewidth": 0,
             "ticks": ""
            },
            "colorscale": [
             [
              0,
              "#0d0887"
             ],
             [
              0.1111111111111111,
              "#46039f"
             ],
             [
              0.2222222222222222,
              "#7201a8"
             ],
             [
              0.3333333333333333,
              "#9c179e"
             ],
             [
              0.4444444444444444,
              "#bd3786"
             ],
             [
              0.5555555555555556,
              "#d8576b"
             ],
             [
              0.6666666666666666,
              "#ed7953"
             ],
             [
              0.7777777777777778,
              "#fb9f3a"
             ],
             [
              0.8888888888888888,
              "#fdca26"
             ],
             [
              1,
              "#f0f921"
             ]
            ],
            "type": "histogram2dcontour"
           }
          ],
          "mesh3d": [
           {
            "colorbar": {
             "outlinewidth": 0,
             "ticks": ""
            },
            "type": "mesh3d"
           }
          ],
          "parcoords": [
           {
            "line": {
             "colorbar": {
              "outlinewidth": 0,
              "ticks": ""
             }
            },
            "type": "parcoords"
           }
          ],
          "pie": [
           {
            "automargin": true,
            "type": "pie"
           }
          ],
          "scatter": [
           {
            "fillpattern": {
             "fillmode": "overlay",
             "size": 10,
             "solidity": 0.2
            },
            "type": "scatter"
           }
          ],
          "scatter3d": [
           {
            "line": {
             "colorbar": {
              "outlinewidth": 0,
              "ticks": ""
             }
            },
            "marker": {
             "colorbar": {
              "outlinewidth": 0,
              "ticks": ""
             }
            },
            "type": "scatter3d"
           }
          ],
          "scattercarpet": [
           {
            "marker": {
             "colorbar": {
              "outlinewidth": 0,
              "ticks": ""
             }
            },
            "type": "scattercarpet"
           }
          ],
          "scattergeo": [
           {
            "marker": {
             "colorbar": {
              "outlinewidth": 0,
              "ticks": ""
             }
            },
            "type": "scattergeo"
           }
          ],
          "scattergl": [
           {
            "marker": {
             "colorbar": {
              "outlinewidth": 0,
              "ticks": ""
             }
            },
            "type": "scattergl"
           }
          ],
          "scattermapbox": [
           {
            "marker": {
             "colorbar": {
              "outlinewidth": 0,
              "ticks": ""
             }
            },
            "type": "scattermapbox"
           }
          ],
          "scatterpolar": [
           {
            "marker": {
             "colorbar": {
              "outlinewidth": 0,
              "ticks": ""
             }
            },
            "type": "scatterpolar"
           }
          ],
          "scatterpolargl": [
           {
            "marker": {
             "colorbar": {
              "outlinewidth": 0,
              "ticks": ""
             }
            },
            "type": "scatterpolargl"
           }
          ],
          "scatterternary": [
           {
            "marker": {
             "colorbar": {
              "outlinewidth": 0,
              "ticks": ""
             }
            },
            "type": "scatterternary"
           }
          ],
          "surface": [
           {
            "colorbar": {
             "outlinewidth": 0,
             "ticks": ""
            },
            "colorscale": [
             [
              0,
              "#0d0887"
             ],
             [
              0.1111111111111111,
              "#46039f"
             ],
             [
              0.2222222222222222,
              "#7201a8"
             ],
             [
              0.3333333333333333,
              "#9c179e"
             ],
             [
              0.4444444444444444,
              "#bd3786"
             ],
             [
              0.5555555555555556,
              "#d8576b"
             ],
             [
              0.6666666666666666,
              "#ed7953"
             ],
             [
              0.7777777777777778,
              "#fb9f3a"
             ],
             [
              0.8888888888888888,
              "#fdca26"
             ],
             [
              1,
              "#f0f921"
             ]
            ],
            "type": "surface"
           }
          ],
          "table": [
           {
            "cells": {
             "fill": {
              "color": "#EBF0F8"
             },
             "line": {
              "color": "white"
             }
            },
            "header": {
             "fill": {
              "color": "#C8D4E3"
             },
             "line": {
              "color": "white"
             }
            },
            "type": "table"
           }
          ]
         },
         "layout": {
          "annotationdefaults": {
           "arrowcolor": "#2a3f5f",
           "arrowhead": 0,
           "arrowwidth": 1
          },
          "autotypenumbers": "strict",
          "coloraxis": {
           "colorbar": {
            "outlinewidth": 0,
            "ticks": ""
           }
          },
          "colorscale": {
           "diverging": [
            [
             0,
             "#8e0152"
            ],
            [
             0.1,
             "#c51b7d"
            ],
            [
             0.2,
             "#de77ae"
            ],
            [
             0.3,
             "#f1b6da"
            ],
            [
             0.4,
             "#fde0ef"
            ],
            [
             0.5,
             "#f7f7f7"
            ],
            [
             0.6,
             "#e6f5d0"
            ],
            [
             0.7,
             "#b8e186"
            ],
            [
             0.8,
             "#7fbc41"
            ],
            [
             0.9,
             "#4d9221"
            ],
            [
             1,
             "#276419"
            ]
           ],
           "sequential": [
            [
             0,
             "#0d0887"
            ],
            [
             0.1111111111111111,
             "#46039f"
            ],
            [
             0.2222222222222222,
             "#7201a8"
            ],
            [
             0.3333333333333333,
             "#9c179e"
            ],
            [
             0.4444444444444444,
             "#bd3786"
            ],
            [
             0.5555555555555556,
             "#d8576b"
            ],
            [
             0.6666666666666666,
             "#ed7953"
            ],
            [
             0.7777777777777778,
             "#fb9f3a"
            ],
            [
             0.8888888888888888,
             "#fdca26"
            ],
            [
             1,
             "#f0f921"
            ]
           ],
           "sequentialminus": [
            [
             0,
             "#0d0887"
            ],
            [
             0.1111111111111111,
             "#46039f"
            ],
            [
             0.2222222222222222,
             "#7201a8"
            ],
            [
             0.3333333333333333,
             "#9c179e"
            ],
            [
             0.4444444444444444,
             "#bd3786"
            ],
            [
             0.5555555555555556,
             "#d8576b"
            ],
            [
             0.6666666666666666,
             "#ed7953"
            ],
            [
             0.7777777777777778,
             "#fb9f3a"
            ],
            [
             0.8888888888888888,
             "#fdca26"
            ],
            [
             1,
             "#f0f921"
            ]
           ]
          },
          "colorway": [
           "#636efa",
           "#EF553B",
           "#00cc96",
           "#ab63fa",
           "#FFA15A",
           "#19d3f3",
           "#FF6692",
           "#B6E880",
           "#FF97FF",
           "#FECB52"
          ],
          "font": {
           "color": "#2a3f5f"
          },
          "geo": {
           "bgcolor": "white",
           "lakecolor": "white",
           "landcolor": "#E5ECF6",
           "showlakes": true,
           "showland": true,
           "subunitcolor": "white"
          },
          "hoverlabel": {
           "align": "left"
          },
          "hovermode": "closest",
          "mapbox": {
           "style": "light"
          },
          "paper_bgcolor": "white",
          "plot_bgcolor": "#E5ECF6",
          "polar": {
           "angularaxis": {
            "gridcolor": "white",
            "linecolor": "white",
            "ticks": ""
           },
           "bgcolor": "#E5ECF6",
           "radialaxis": {
            "gridcolor": "white",
            "linecolor": "white",
            "ticks": ""
           }
          },
          "scene": {
           "xaxis": {
            "backgroundcolor": "#E5ECF6",
            "gridcolor": "white",
            "gridwidth": 2,
            "linecolor": "white",
            "showbackground": true,
            "ticks": "",
            "zerolinecolor": "white"
           },
           "yaxis": {
            "backgroundcolor": "#E5ECF6",
            "gridcolor": "white",
            "gridwidth": 2,
            "linecolor": "white",
            "showbackground": true,
            "ticks": "",
            "zerolinecolor": "white"
           },
           "zaxis": {
            "backgroundcolor": "#E5ECF6",
            "gridcolor": "white",
            "gridwidth": 2,
            "linecolor": "white",
            "showbackground": true,
            "ticks": "",
            "zerolinecolor": "white"
           }
          },
          "shapedefaults": {
           "line": {
            "color": "#2a3f5f"
           }
          },
          "ternary": {
           "aaxis": {
            "gridcolor": "white",
            "linecolor": "white",
            "ticks": ""
           },
           "baxis": {
            "gridcolor": "white",
            "linecolor": "white",
            "ticks": ""
           },
           "bgcolor": "#E5ECF6",
           "caxis": {
            "gridcolor": "white",
            "linecolor": "white",
            "ticks": ""
           }
          },
          "title": {
           "x": 0.05
          },
          "xaxis": {
           "automargin": true,
           "gridcolor": "white",
           "linecolor": "white",
           "ticks": "",
           "title": {
            "standoff": 15
           },
           "zerolinecolor": "white",
           "zerolinewidth": 2
          },
          "yaxis": {
           "automargin": true,
           "gridcolor": "white",
           "linecolor": "white",
           "ticks": "",
           "title": {
            "standoff": 15
           },
           "zerolinecolor": "white",
           "zerolinewidth": 2
          }
         }
        },
        "xaxis": {
         "anchor": "y",
         "domain": [
          0,
          1
         ]
        },
        "yaxis": {
         "anchor": "x",
         "domain": [
          0,
          1
         ]
        }
       }
      }
     },
     "metadata": {},
     "output_type": "display_data"
    }
   ],
   "source": [
    "fig = px.imshow(cv2.resize(train_images[0], (205, 136)))\n",
    "fig.show()\n"
   ]
  },
  {
   "cell_type": "code",
   "execution_count": 7,
   "metadata": {},
   "outputs": [],
   "source": [
    "red_values = [np.mean(train_images[idx][:, :, 0])\n",
    "              for idx in range(len(train_images))]\n",
    "green_values = [np.mean(train_images[idx][:, :, 1])\n",
    "                for idx in range(len(train_images))]\n",
    "blue_values = [np.mean(train_images[idx][:, :, 2])\n",
    "               for idx in range(len(train_images))]\n",
    "values = [np.mean(train_images[idx]) for idx in range(len(train_images))]\n"
   ]
  },
  {
   "cell_type": "code",
   "execution_count": 8,
   "metadata": {},
   "outputs": [
    {
     "data": {
      "application/vnd.plotly.v1+json": {
       "config": {
        "plotlyServerURL": "https://plot.ly"
       },
       "data": [
        {
         "autobinx": false,
         "histnorm": "probability density",
         "legendgroup": "Channels",
         "marker": {
          "color": "purple",
          "line": {
           "color": "rgb(0, 0, 0)",
           "width": 0.5
          }
         },
         "name": "Channels",
         "opacity": 0.7,
         "type": "histogram",
         "x": [
          96.78047626201923,
          121.86944969093406,
          119.85802140567766,
          123.12914544223138,
          94.97350844684829,
          122.34518288785867,
          107.56065538194444,
          117.22863247863248,
          88.49503980177808,
          84.94999213026557,
          88.09666490193834,
          112.4602294623779,
          116.19681430765415,
          116.71978808951465,
          97.66587718921703,
          104.30341307997558,
          114.86390403216575,
          108.52025514632936,
          115.14197346707113,
          98.14654304029304,
          108.8071054162851,
          88.89801372672467,
          109.7264401614011,
          101.3494374332265,
          91.52952974759616,
          110.31417303399725,
          98.5584940666972,
          126.4974127651862,
          115.01896749084248,
          60.448005618513434,
          107.00318986568986,
          107.99505887992215,
          90.26343769078144,
          101.7457998273428,
          112.866405653808,
          96.32537655486874,
          97.46060363247864,
          87.4745133880876,
          145.46617504674145,
          92.50935091384311,
          124.13232946523962,
          104.43482035542583,
          146.03780715811965,
          110.28110679468101,
          102.68087988400488,
          96.0104997758318,
          107.17117638221154,
          95.68176761389653,
          104.64627356150794,
          95.18160163404303,
          106.85943915025946,
          81.06928597661019,
          109.48240291609432,
          86.65521155277014,
          129.54720922523657,
          100.52256944444444,
          118.68189507974664,
          97.97965792887668,
          106.33616727239774,
          102.26244515033578,
          106.48431144593253,
          132.5302783262744,
          130.1687784979777,
          90.66900743570666,
          122.2871828258547,
          93.47613181089744,
          106.27476414644383,
          115.51027906555251,
          109.53083862751832,
          105.53090349320819,
          101.62935255933303,
          105.91655684809982,
          110.27926527682386,
          90.86695081177503,
          99.20315242483211,
          115.87985479147588,
          107.6831518524878,
          103.78490310687576,
          81.15562161362942,
          103.29001211462149,
          106.45738503033425,
          93.36273728441697,
          113.01082875457875,
          99.00814791762058,
          129.6399169623779,
          110.53882199614621,
          114.4432881896749,
          110.2197030725351,
          84.91848409836692,
          91.17618630284646,
          103.65454739487943,
          85.14633151137058,
          99.8108146844475,
          102.93332904075092,
          81.07611070570054,
          88.74827974759616,
          81.62767630589896,
          104.06030732505342,
          103.67026826255342,
          103.82441632802961
         ],
         "xaxis": "x",
         "xbins": {
          "end": 146.03780715811965,
          "size": 1,
          "start": 60.448005618513434
         },
         "yaxis": "y"
        },
        {
         "legendgroup": "Channels",
         "marker": {
          "color": "purple"
         },
         "mode": "lines",
         "name": "Channels",
         "showlegend": false,
         "type": "scatter",
         "x": [
          60.448005618513434,
          60.619185221592645,
          60.79036482467186,
          60.96154442775107,
          61.13272403083028,
          61.3039036339095,
          61.47508323698871,
          61.64626284006792,
          61.81744244314714,
          61.98862204622635,
          62.15980164930556,
          62.330981252384774,
          62.502160855463984,
          62.673340458543194,
          62.84452006162241,
          63.01569966470162,
          63.18687926778083,
          63.35805887086005,
          63.52923847393926,
          63.70041807701847,
          63.871597680097686,
          64.04277728317689,
          64.21395688625611,
          64.38513648933532,
          64.55631609241453,
          64.72749569549374,
          64.89867529857295,
          65.06985490165216,
          65.24103450473139,
          65.4122141078106,
          65.58339371088981,
          65.75457331396902,
          65.92575291704823,
          66.09693252012744,
          66.26811212320666,
          66.43929172628587,
          66.61047132936508,
          66.7816509324443,
          66.9528305355235,
          67.12401013860271,
          67.29518974168194,
          67.46636934476115,
          67.63754894784036,
          67.80872855091957,
          67.97990815399878,
          68.15108775707799,
          68.32226736015721,
          68.49344696323642,
          68.66462656631563,
          68.83580616939484,
          69.00698577247405,
          69.17816537555326,
          69.34934497863247,
          69.5205245817117,
          69.69170418479091,
          69.86288378787012,
          70.03406339094933,
          70.20524299402854,
          70.37642259710776,
          70.54760220018697,
          70.71878180326618,
          70.88996140634539,
          71.0611410094246,
          71.23232061250381,
          71.40350021558302,
          71.57467981866225,
          71.74585942174146,
          71.91703902482067,
          72.08821862789988,
          72.25939823097909,
          72.43057783405831,
          72.60175743713752,
          72.77293704021673,
          72.94411664329594,
          73.11529624637515,
          73.28647584945436,
          73.45765545253357,
          73.6288350556128,
          73.800014658692,
          73.97119426177122,
          74.14237386485043,
          74.31355346792964,
          74.48473307100886,
          74.65591267408807,
          74.82709227716728,
          74.99827188024649,
          75.1694514833257,
          75.34063108640491,
          75.51181068948412,
          75.68299029256335,
          75.85416989564256,
          76.02534949872177,
          76.19652910180098,
          76.36770870488019,
          76.53888830795941,
          76.7100679110386,
          76.88124751411783,
          77.05242711719704,
          77.22360672027625,
          77.39478632335546,
          77.56596592643467,
          77.7371455295139,
          77.9083251325931,
          78.07950473567232,
          78.25068433875153,
          78.42186394183074,
          78.59304354490996,
          78.76422314798916,
          78.93540275106838,
          79.10658235414759,
          79.2777619572268,
          79.44894156030601,
          79.62012116338522,
          79.79130076646445,
          79.96248036954364,
          80.13365997262287,
          80.30483957570208,
          80.47601917878129,
          80.64719878186051,
          80.81837838493972,
          80.98955798801893,
          81.16073759109814,
          81.33191719417735,
          81.50309679725656,
          81.67427640033577,
          81.845456003415,
          82.0166356064942,
          82.18781520957342,
          82.35899481265263,
          82.53017441573184,
          82.70135401881105,
          82.87253362189026,
          83.04371322496948,
          83.21489282804869,
          83.3860724311279,
          83.55725203420711,
          83.72843163728632,
          83.89961124036553,
          84.07079084344474,
          84.24197044652396,
          84.41315004960317,
          84.58432965268238,
          84.75550925576161,
          84.9266888588408,
          85.09786846192003,
          85.26904806499924,
          85.44022766807845,
          85.61140727115766,
          85.78258687423687,
          85.9537664773161,
          86.12494608039529,
          86.29612568347451,
          86.46730528655372,
          86.63848488963293,
          86.80966449271214,
          86.98084409579135,
          87.15202369887058,
          87.32320330194979,
          87.494382905029,
          87.66556250810821,
          87.83674211118742,
          88.00792171426664,
          88.17910131734585,
          88.35028092042506,
          88.52146052350427,
          88.69264012658348,
          88.8638197296627,
          89.0349993327419,
          89.20617893582113,
          89.37735853890034,
          89.54853814197955,
          89.71971774505876,
          89.89089734813797,
          90.06207695121718,
          90.23325655429639,
          90.40443615737561,
          90.57561576045482,
          90.74679536353403,
          90.91797496661324,
          91.08915456969245,
          91.26033417277168,
          91.43151377585087,
          91.6026933789301,
          91.77387298200931,
          91.94505258508852,
          92.11623218816774,
          92.28741179124694,
          92.45859139432616,
          92.62977099740537,
          92.80095060048458,
          92.9721302035638,
          93.143309806643,
          93.31448940972221,
          93.48566901280144,
          93.65684861588065,
          93.82802821895986,
          93.99920782203907,
          94.17038742511829,
          94.34156702819749,
          94.51274663127671,
          94.68392623435592,
          94.85510583743513,
          95.02628544051436,
          95.19746504359355,
          95.36864464667278,
          95.53982424975197,
          95.7110038528312,
          95.88218345591041,
          96.05336305898962,
          96.22454266206884,
          96.39572226514804,
          96.56690186822726,
          96.73808147130647,
          96.90926107438568,
          97.08044067746489,
          97.2516202805441,
          97.42279988362333,
          97.59397948670252,
          97.76515908978175,
          97.93633869286096,
          98.10751829594017,
          98.27869789901938,
          98.44987750209859,
          98.62105710517781,
          98.79223670825701,
          98.96341631133623,
          99.13459591441544,
          99.30577551749465,
          99.47695512057386,
          99.64813472365307,
          99.8193143267323,
          99.99049392981149,
          100.16167353289072,
          100.33285313596993,
          100.50403273904914,
          100.67521234212836,
          100.84639194520757,
          101.01757154828678,
          101.188751151366,
          101.3599307544452,
          101.53111035752443,
          101.70228996060362,
          101.87346956368285,
          102.04464916676206,
          102.21582876984127,
          102.38700837292049,
          102.55818797599969,
          102.72936757907891,
          102.90054718215812,
          103.07172678523733,
          103.24290638831654,
          103.41408599139575,
          103.58526559447498,
          103.75644519755417,
          103.9276248006334,
          104.0988044037126,
          104.26998400679182,
          104.44116360987103,
          104.61234321295024,
          104.78352281602946,
          104.95470241910866,
          105.12588202218788,
          105.29706162526709,
          105.4682412283463,
          105.63942083142551,
          105.81060043450472,
          105.98178003758395,
          106.15295964066314,
          106.32413924374237,
          106.49531884682158,
          106.66649844990079,
          106.83767805298001,
          107.0088576560592,
          107.18003725913843,
          107.35121686221763,
          107.52239646529685,
          107.69357606837606,
          107.86475567145527,
          108.0359352745345,
          108.2071148776137,
          108.37829448069292,
          108.54947408377214,
          108.72065368685134,
          108.89183328993056,
          109.06301289300977,
          109.23419249608898,
          109.40537209916819,
          109.5765517022474,
          109.74773130532662,
          109.91891090840582,
          110.09009051148504,
          110.26127011456425,
          110.43244971764346,
          110.60362932072267,
          110.77480892380188,
          110.94598852688111,
          111.1171681299603,
          111.28834773303953,
          111.45952733611874,
          111.63070693919795,
          111.80188654227716,
          111.97306614535637,
          112.1442457484356,
          112.31542535151479,
          112.48660495459401,
          112.65778455767322,
          112.82896416075243,
          113.00014376383166,
          113.17132336691085,
          113.34250296999008,
          113.51368257306927,
          113.6848621761485,
          113.85604177922771,
          114.02722138230692,
          114.19840098538614,
          114.36958058846534,
          114.54076019154456,
          114.71193979462377,
          114.88311939770298,
          115.0542990007822,
          115.2254786038614,
          115.39665820694063,
          115.56783781001984,
          115.73901741309905,
          115.91019701617827,
          116.08137661925747,
          116.2525562223367,
          116.4237358254159,
          116.59491542849511,
          116.76609503157432,
          116.93727463465353,
          117.10845423773276,
          117.27963384081195,
          117.45081344389118,
          117.62199304697039,
          117.7931726500496,
          117.96435225312881,
          118.13553185620802,
          118.30671145928724,
          118.47789106236644,
          118.64907066544566,
          118.82025026852487,
          118.99142987160408,
          119.16260947468331,
          119.3337890777625,
          119.50496868084173,
          119.67614828392092,
          119.84732788700015,
          120.01850749007936,
          120.18968709315857,
          120.36086669623779,
          120.53204629931699,
          120.70322590239621,
          120.87440550547542,
          121.04558510855463,
          121.21676471163384,
          121.38794431471305,
          121.55912391779228,
          121.73030352087147,
          121.9014831239507,
          122.07266272702991,
          122.24384233010912,
          122.41502193318833,
          122.58620153626754,
          122.75738113934676,
          122.92856074242597,
          123.09974034550518,
          123.2709199485844,
          123.4420995516636,
          123.61327915474283,
          123.78445875782204,
          123.95563836090125,
          124.12681796398046,
          124.29799756705967,
          124.46917717013888,
          124.64035677321809,
          124.81153637629731,
          124.98271597937652,
          125.15389558245573,
          125.32507518553494,
          125.49625478861415,
          125.66743439169336,
          125.83861399477257,
          126.0097935978518,
          126.18097320093099,
          126.35215280401022,
          126.52333240708944,
          126.69451201016864,
          126.86569161324786,
          127.03687121632707,
          127.20805081940628,
          127.37923042248549,
          127.55041002556472,
          127.72158962864391,
          127.89276923172314,
          128.06394883480235,
          128.23512843788154,
          128.40630804096077,
          128.57748764404,
          128.7486672471192,
          128.9198468501984,
          129.0910264532776,
          129.26220605635683,
          129.43338565943606,
          129.60456526251528,
          129.77574486559445,
          129.94692446867367,
          130.1181040717529,
          130.28928367483212,
          130.46046327791132,
          130.6316428809905,
          130.80282248406974,
          130.97400208714896,
          131.14518169022816,
          131.31636129330738,
          131.48754089638658,
          131.6587204994658,
          131.82990010254503,
          132.00107970562425,
          132.17225930870342,
          132.34343891178264,
          132.51461851486187,
          132.6857981179411,
          132.8569777210203,
          133.0281573240995,
          133.1993369271787,
          133.37051653025793,
          133.54169613333715,
          133.71287573641635,
          133.88405533949557,
          134.05523494257477,
          134.226414545654,
          134.39759414873322,
          134.56877375181242,
          134.7399533548916,
          134.91113295797084,
          135.08231256105006,
          135.25349216412928,
          135.42467176720848,
          135.59585137028768,
          135.7670309733669,
          135.93821057644612,
          136.10939017952532,
          136.28056978260454,
          136.45174938568374,
          136.62292898876296,
          136.7941085918422,
          136.9652881949214,
          137.13646779800058,
          137.3076474010798,
          137.47882700415903,
          137.65000660723825,
          137.82118621031745,
          137.99236581339667,
          138.16354541647587,
          138.3347250195551,
          138.5059046226343,
          138.67708422571351,
          138.8482638287927,
          139.01944343187193,
          139.19062303495116,
          139.36180263803038,
          139.53298224110955,
          139.70416184418877,
          139.875341447268,
          140.04652105034722,
          140.21770065342642,
          140.38888025650564,
          140.56005985958484,
          140.73123946266406,
          140.9024190657433,
          141.07359866882248,
          141.2447782719017,
          141.4159578749809,
          141.58713747806013,
          141.75831708113935,
          141.92949668421858,
          142.10067628729774,
          142.27185589037697,
          142.4430354934562,
          142.61421509653542,
          142.7853946996146,
          142.9565743026938,
          143.12775390577303,
          143.29893350885226,
          143.47011311193145,
          143.64129271501068,
          143.81247231808987,
          143.9836519211691,
          144.15483152424832,
          144.32601112732755,
          144.49719073040671,
          144.66837033348594,
          144.83954993656516,
          145.0107295396444,
          145.18190914272358,
          145.3530887458028,
          145.524268348882,
          145.69544795196123,
          145.86662755504045
         ],
         "xaxis": "x",
         "y": [
          0.0007192726928612678,
          0.0007192878479075066,
          0.0007186671342721817,
          0.0007174175025646215,
          0.0007155481686359526,
          0.0007130706182234724,
          0.0007099986042147047,
          0.0007063481367470359,
          0.0007021374664073254,
          0.0006973870608413623,
          0.0006921195751250604,
          0.0006863598162874747,
          0.0006801347024095565,
          0.0006734732167518974,
          0.0006664063573890229,
          0.0006589670828470204,
          0.0006511902542551101,
          0.0006431125745301121,
          0.0006347725251154866,
          0.0006262103007937939,
          0.0006174677430829428,
          0.0006085882727127156,
          0.0005996168216587494,
          0.0005905997651868544,
          0.0005815848543312464,
          0.0005726211491965714,
          0.0005637589534356609,
          0.0005550497502132802,
          0.0005465461399211979,
          0.0005383017798621657,
          0.000530371326070371,
          0.0005228103773843038,
          0.0005156754218350759,
          0.0005090237853600045,
          0.0005029135827979475,
          0.0004974036710704157,
          0.0004925536044012144,
          0.0004884235913780731,
          0.00048507445361290955,
          0.0004825675857135932,
          0.00048096491623994124,
          0.00048032886928057545,
          0.0004807223262557984,
          0.000482208587525097,
          0.00048485133335671746,
          0.0004887145838012486,
          0.0004938626570015648,
          0.0005003601254680365,
          0.0005082717698507178,
          0.0005176625297493596,
          0.0005285974511175937,
          0.0005411416298393428,
          0.0005553601510834472,
          0.0005713180240762629,
          0.0005890801119715198,
          0.000608711056541538,
          0.0006302751974636415,
          0.0006538364860299137,
          0.0006794583931666205,
          0.0007072038117113123,
          0.0007371349529601076,
          0.0007693132375642235,
          0.0008037991809230887,
          0.0008406522732901774,
          0.0008799308548768343,
          0.0009216919863075907,
          0.0009659913148474902,
          0.0010128829368867467,
          0.0010624192572298804,
          0.001114650845795041,
          0.0011696262923831472,
          0.0012273920602258685,
          0.0012879923390652025,
          0.0013514688985550062,
          0.0014178609428062918,
          0.0014872049669220977,
          0.0015595346163849721,
          0.0016348805501692524,
          0.001713270308452102,
          0.001794728185790949,
          0.001879275110620529,
          0.0019669285319009492,
          0.0020577023137179472,
          0.002151606638599417,
          0.002248647920267457,
          0.0023488287264938827,
          0.002452147712669246,
          0.0025585995666320385,
          0.002668174965235707,
          0.002780860543058217,
          0.0028966388735814554,
          0.003015488463088295,
          0.0031373837574424743,
          0.0032622951618332704,
          0.0033901890734830725,
          0.0035210279272321642,
          0.003654770253833391,
          0.003791370750708531,
          0.003930780364842181,
          0.004072946387414792,
          0.004217812559708277,
          0.004365319189754114,
          0.004515403279135912,
          0.00466799865930772,
          0.004823036136744551,
          0.004980443646204767,
          0.005140146411354751,
          0.005302067111983955,
          0.005466126057025623,
          0.005632241362591133,
          0.005800329134229296,
          0.005970303652629902,
          0.006142077562008146,
          0.0063155620604299755,
          0.00649066709136755,
          0.00666730153581062,
          0.006845373404298825,
          0.0070247900282866095,
          0.007205458250299871,
          0.007387284612395587,
          0.007570175542489512,
          0.007754037538170836,
          0.007938777347678823,
          0.008124302147769661,
          0.008310519718255653,
          0.008497338613048756,
          0.008684668327588572,
          0.008872419462578737,
          0.009060503883994547,
          0.009248834879359999,
          0.009437327310320502,
          0.00962589776156122,
          0.009814464686137472,
          0.010002948547294152,
          0.01019127195685537,
          0.01037935981026203,
          0.010567139418327308,
          0.010754540635763562,
          0.01094149598651407,
          0.011127940785895785,
          0.011313813259528106,
          0.011499054658986853,
          0.011683609374082467,
          0.011867425041619422,
          0.012050452650448696,
          0.01223264664257834,
          0.012413965010061383,
          0.012594369387332119,
          0.01277382513861769,
          0.012952301440006999,
          0.01312977135571892,
          0.0133062119080741,
          0.013481604140640976,
          0.013655933173999551,
          0.013829188253542325,
          0.014001362788716411,
          0.01417245438309923,
          0.014342464854697834,
          0.014511400245864762,
          0.014679270822233739,
          0.014846091060097141,
          0.015011879621671057,
          0.015176659317726519,
          0.015340457057103225,
          0.015503303782667378,
          0.015665234393325803,
          0.015826287651764553,
          0.01598650607764111,
          0.016145935826024416,
          0.016304626550945025,
          0.016462631253989893,
          0.016620006117948165,
          0.016776810325590388,
          0.016933105863737606,
          0.017088957312852267,
          0.017244431622456962,
          0.017399597872759142,
          0.017554527022930876,
          0.017709291646560037,
          0.017863965654854323,
          0.018018624008239694,
          0.018173342417052638,
          0.01832819703207824,
          0.018483264125734013,
          0.01863861976474466,
          0.01879433947519105,
          0.018950497900853156,
          0.01910716845579698,
          0.0192644229721824,
          0.019422331344292543,
          0.019580961169804068,
          0.019740377389335463,
          0.019900641925323325,
          0.02006181332128907,
          0.02022394638256758,
          0.02038709181957844,
          0.02055129589472658,
          0.02071660007402703,
          0.020883040684553673,
          0.021050648578818783,
          0.021219448807195878,
          0.02138946029950593,
          0.021560695556892814,
          0.02173316035512244,
          0.021906853460447,
          0.022081766359183703,
          0.022257883002165062,
          0.022435179565224655,
          0.022613624226888937,
          0.022793176964449314,
          0.02297378936959209,
          0.023155404484763244,
          0.02333795666144101,
          0.023521371441481767,
          0.023705565462691203,
          0.023890446389754093,
          0.024075912871630436,
          0.024261854526492446,
          0.024448151955236332,
          0.024634676784551612,
          0.02482129174047221,
          0.025007850753262135,
          0.025194199094409446,
          0.025380173546409847,
          0.02556560260591765,
          0.025750306720729532,
          0.025934098560938028,
          0.026116783324457375,
          0.026298159076974737,
          0.026478017126222102,
          0.026656142430296407,
          0.0268323140395779,
          0.027006305571612554,
          0.027177885718131727,
          0.02734681878318579,
          0.027512865251166464,
          0.027675782383288605,
          0.027835324840897804,
          0.02799124533376505,
          0.02814329529132905,
          0.028291225554649715,
          0.028434787086645097,
          0.02857373169800344,
          0.028707812785988756,
          0.028836786083200186,
          0.028960410413199397,
          0.02907844844979119,
          0.029190667476630835,
          0.029296840143739164,
          0.029396745217434222,
          0.02949016832013905,
          0.02957690265649725,
          0.029656749722226195,
          0.029729519992157998,
          0.029795033583966388,
          0.029853120894148412,
          0.029903623202928664,
          0.029946393244874966,
          0.029981295742162854,
          0.03000820789759631,
          0.030027019844687263,
          0.030037635052311603,
          0.030039970681696525,
          0.030033957893747958,
          0.030019542105000567,
          0.02999668319075781,
          0.02996535563429088,
          0.02992554862127425,
          0.029877266078954343,
          0.0298205266598713,
          0.0297553636702796,
          0.029681824943740585,
          0.02959997266068386,
          0.029509883115052715,
          0.02941164642946106,
          0.0293053662205888,
          0.02919115921683181,
          0.029069154830493882,
          0.028939494687064683,
          0.028802332114362637,
          0.028657831594535853,
          0.028506168182106453,
          0.02834752689140904,
          0.028182102056915757,
          0.028010096670054583,
          0.027831721696213313,
          0.027647195375681194,
          0.027456742512310412,
          0.027260593753681013,
          0.027058984866529343,
          0.026852156011144792,
          0.026640351018363477,
          0.026423816672680404,
          0.026202802004875087,
          0.025977557597394445,
          0.025748334905564503,
          0.025515385597512985,
          0.02527896091547644,
          0.02503931106094507,
          0.02479668460586206,
          0.024551327931851726,
          0.024303484699197395,
          0.024053395347032533,
          0.023801296625949358,
          0.023547421163967176,
          0.02329199706654536,
          0.023035247551069567,
          0.02277739061599253,
          0.022518638744571173,
          0.02225919864291008,
          0.021999271011806133,
          0.02173905035168219,
          0.02147872479971061,
          0.021218475998052058,
          0.02095847899198029,
          0.0206989021565243,
          0.020439907150138225,
          0.020181648893810022,
          0.01992427557393422,
          0.01966792866721229,
          0.019412742985797305,
          0.01915884674087143,
          0.01890636162283541,
          0.018655402896293895,
          0.01840607950804315,
          0.018158494206303177,
          0.017912743669485337,
          0.01766891864284961,
          0.01742710408147589,
          0.01718737929805758,
          0.016949818114113942,
          0.016714489013315542,
          0.016481455295717505,
          0.016250775231802253,
          0.016022502215341346,
          0.01579668491419454,
          0.015573367418276368,
          0.015352589384026479,
          0.015134386174829668,
          0.014918788996933654,
          0.014705825030513662,
          0.014495517555629627,
          0.014287886072911399,
          0.014082946418894814,
          0.01388071087601013,
          0.013681188277298363,
          0.0134843841059997,
          0.013290300590217826,
          0.01309893679292114,
          0.012910288697588434,
          0.012724349289851606,
          0.01254110863552312,
          0.012360553955428078,
          0.012182669697487198,
          0.012007437606515873,
          0.011834836792223255,
          0.011664843795904227,
          0.01149743265632669,
          0.011332574975318695,
          0.011170239983560353,
          0.011010394607082115,
          0.010853003534964174,
          0.010698029288721574,
          0.010545432293848146,
          0.010395170953975828,
          0.010247201728088821,
          0.010101479211210749,
          0.009957956218960128,
          0.009816583876343151,
          0.00967731171112407,
          0.009540087752082899,
          0.009404858632434574,
          0.009271569698648105,
          0.00914016512486409,
          0.009010588033065819,
          0.008882780619114598,
          0.008756684284710815,
          0.008632239775292254,
          0.008509387323826363,
          0.008388066800398362,
          0.008268217867437951,
          0.008149780140367392,
          0.008032693353392073,
          0.007916897530091112,
          0.007802333158401908,
          0.007688941369527774,
          0.007576664120234038,
          0.007465444377934106,
          0.007355226307904765,
          0.007245955461910508,
          0.007137578967457748,
          0.007030045716846762,
          0.006923306555138044,
          0.006817314466104365,
          0.0067120247551989065,
          0.006607395228536012,
          0.0065033863668521475,
          0.006399961493394256,
          0.006297086934669152,
          0.006194732172981496,
          0.00609286998969149,
          0.0059914765981345175,
          0.005890531765165043,
          0.005790018920316916,
          0.005689925251609711,
          0.005590241787078599,
          0.005490963461160444,
          0.005392089165134215,
          0.0052936217808849505,
          0.005195568197342207,
          0.0050979393090305,
          0.005000749996263639,
          0.00490401908661503,
          0.004807769297400666,
          0.004712027159021648,
          0.004616822919125995,
          0.004522190427664928,
          0.0044281670030369286,
          0.004334793279630324,
          0.004242113037193871,
          0.004150173012581336,
          0.004059022694531556,
          0.003968714102256477,
          0.0038793015487187817,
          0.0037908413895833787,
          0.0037033917589254983,
          0.0036170122928691267,
          0.0035317638424151396,
          0.0034477081767947514,
          0.0033649076787536556,
          0.0032834250332326605,
          0.0032033229109617225,
          0.0031246636485274,
          0.0030475089265055723,
          0.0029719194472750394,
          0.002897954614140578,
          0.0028256722133976936,
          0.002755128100964766,
          0.0026863758951929237,
          0.0026194666774382908,
          0.002554448701947331,
          0.002491367116562252,
          0.002430263695702124,
          0.0023711765870153144,
          0.002314140073031624,
          0.0022591843490674017,
          0.00220633531855618,
          0.0021556144068894,
          0.0021070383947590656,
          0.002060619271895776,
          0.002016364111993397,
          0.0019742749695045303,
          0.0019343487988817923,
          0.0018965773967268458,
          0.0018609473671948496,
          0.0018274401108852693,
          0.0017960318373331345,
          0.0017666936010967019,
          0.001739391361320208,
          0.0017140860645330426,
          0.0016907337503312718,
          0.0016692856794731125,
          0.0016496884838083467,
          0.0016318843373525434,
          0.0016158111477113594,
          0.0016014027669580026,
          0.0015885892209694368,
          0.0015772969561337973,
          0.001567449102253756,
          0.0015589657503883303,
          0.0015517642442996384,
          0.0015457594841014376,
          0.0015408642406435967,
          0.0015369894791111894,
          0.0015340446902690774,
          0.0015319382277429545,
          0.0015305776496961777,
          0.001529870063238574,
          0.0015297224698889744,
          0.0015300421104077605,
          0.0015307368073192243,
          0.001531715303456293,
          0.001532887594882013,
          0.0015341652565733267,
          0.0015354617592928412,
          0.001536692776123451,
          0.001537776477198726,
          0.0015386338112284527,
          0.0015391887724935163,
          0.0015393686520669622,
          0.0015391042721081378,
          0.001538330202173758,
          0.0015369849565931798,
          0.0015350111720641804,
          0.001532355764739771,
          0.001528970066195095,
          0.0015248099377855814,
          0.0015198358630324849,
          0.0015140130177987725,
          0.0015073113181463585
         ],
         "yaxis": "y"
        },
        {
         "legendgroup": "Channels",
         "marker": {
          "color": "purple",
          "symbol": "line-ns-open"
         },
         "mode": "markers",
         "name": "Channels",
         "showlegend": false,
         "type": "scatter",
         "x": [
          96.78047626201923,
          121.86944969093406,
          119.85802140567766,
          123.12914544223138,
          94.97350844684829,
          122.34518288785867,
          107.56065538194444,
          117.22863247863248,
          88.49503980177808,
          84.94999213026557,
          88.09666490193834,
          112.4602294623779,
          116.19681430765415,
          116.71978808951465,
          97.66587718921703,
          104.30341307997558,
          114.86390403216575,
          108.52025514632936,
          115.14197346707113,
          98.14654304029304,
          108.8071054162851,
          88.89801372672467,
          109.7264401614011,
          101.3494374332265,
          91.52952974759616,
          110.31417303399725,
          98.5584940666972,
          126.4974127651862,
          115.01896749084248,
          60.448005618513434,
          107.00318986568986,
          107.99505887992215,
          90.26343769078144,
          101.7457998273428,
          112.866405653808,
          96.32537655486874,
          97.46060363247864,
          87.4745133880876,
          145.46617504674145,
          92.50935091384311,
          124.13232946523962,
          104.43482035542583,
          146.03780715811965,
          110.28110679468101,
          102.68087988400488,
          96.0104997758318,
          107.17117638221154,
          95.68176761389653,
          104.64627356150794,
          95.18160163404303,
          106.85943915025946,
          81.06928597661019,
          109.48240291609432,
          86.65521155277014,
          129.54720922523657,
          100.52256944444444,
          118.68189507974664,
          97.97965792887668,
          106.33616727239774,
          102.26244515033578,
          106.48431144593253,
          132.5302783262744,
          130.1687784979777,
          90.66900743570666,
          122.2871828258547,
          93.47613181089744,
          106.27476414644383,
          115.51027906555251,
          109.53083862751832,
          105.53090349320819,
          101.62935255933303,
          105.91655684809982,
          110.27926527682386,
          90.86695081177503,
          99.20315242483211,
          115.87985479147588,
          107.6831518524878,
          103.78490310687576,
          81.15562161362942,
          103.29001211462149,
          106.45738503033425,
          93.36273728441697,
          113.01082875457875,
          99.00814791762058,
          129.6399169623779,
          110.53882199614621,
          114.4432881896749,
          110.2197030725351,
          84.91848409836692,
          91.17618630284646,
          103.65454739487943,
          85.14633151137058,
          99.8108146844475,
          102.93332904075092,
          81.07611070570054,
          88.74827974759616,
          81.62767630589896,
          104.06030732505342,
          103.67026826255342,
          103.82441632802961
         ],
         "xaxis": "x",
         "y": [
          "Channels",
          "Channels",
          "Channels",
          "Channels",
          "Channels",
          "Channels",
          "Channels",
          "Channels",
          "Channels",
          "Channels",
          "Channels",
          "Channels",
          "Channels",
          "Channels",
          "Channels",
          "Channels",
          "Channels",
          "Channels",
          "Channels",
          "Channels",
          "Channels",
          "Channels",
          "Channels",
          "Channels",
          "Channels",
          "Channels",
          "Channels",
          "Channels",
          "Channels",
          "Channels",
          "Channels",
          "Channels",
          "Channels",
          "Channels",
          "Channels",
          "Channels",
          "Channels",
          "Channels",
          "Channels",
          "Channels",
          "Channels",
          "Channels",
          "Channels",
          "Channels",
          "Channels",
          "Channels",
          "Channels",
          "Channels",
          "Channels",
          "Channels",
          "Channels",
          "Channels",
          "Channels",
          "Channels",
          "Channels",
          "Channels",
          "Channels",
          "Channels",
          "Channels",
          "Channels",
          "Channels",
          "Channels",
          "Channels",
          "Channels",
          "Channels",
          "Channels",
          "Channels",
          "Channels",
          "Channels",
          "Channels",
          "Channels",
          "Channels",
          "Channels",
          "Channels",
          "Channels",
          "Channels",
          "Channels",
          "Channels",
          "Channels",
          "Channels",
          "Channels",
          "Channels",
          "Channels",
          "Channels",
          "Channels",
          "Channels",
          "Channels",
          "Channels",
          "Channels",
          "Channels",
          "Channels",
          "Channels",
          "Channels",
          "Channels",
          "Channels",
          "Channels",
          "Channels",
          "Channels",
          "Channels",
          "Channels"
         ],
         "yaxis": "y2"
        }
       ],
       "layout": {
        "barmode": "overlay",
        "hovermode": "closest",
        "legend": {
         "traceorder": "reversed"
        },
        "showlegend": false,
        "template": {
         "data": {
          "bar": [
           {
            "error_x": {
             "color": "rgb(36,36,36)"
            },
            "error_y": {
             "color": "rgb(36,36,36)"
            },
            "marker": {
             "line": {
              "color": "white",
              "width": 0.5
             },
             "pattern": {
              "fillmode": "overlay",
              "size": 10,
              "solidity": 0.2
             }
            },
            "type": "bar"
           }
          ],
          "barpolar": [
           {
            "marker": {
             "line": {
              "color": "white",
              "width": 0.5
             },
             "pattern": {
              "fillmode": "overlay",
              "size": 10,
              "solidity": 0.2
             }
            },
            "type": "barpolar"
           }
          ],
          "carpet": [
           {
            "aaxis": {
             "endlinecolor": "rgb(36,36,36)",
             "gridcolor": "white",
             "linecolor": "white",
             "minorgridcolor": "white",
             "startlinecolor": "rgb(36,36,36)"
            },
            "baxis": {
             "endlinecolor": "rgb(36,36,36)",
             "gridcolor": "white",
             "linecolor": "white",
             "minorgridcolor": "white",
             "startlinecolor": "rgb(36,36,36)"
            },
            "type": "carpet"
           }
          ],
          "choropleth": [
           {
            "colorbar": {
             "outlinewidth": 1,
             "tickcolor": "rgb(36,36,36)",
             "ticks": "outside"
            },
            "type": "choropleth"
           }
          ],
          "contour": [
           {
            "colorbar": {
             "outlinewidth": 1,
             "tickcolor": "rgb(36,36,36)",
             "ticks": "outside"
            },
            "colorscale": [
             [
              0,
              "#440154"
             ],
             [
              0.1111111111111111,
              "#482878"
             ],
             [
              0.2222222222222222,
              "#3e4989"
             ],
             [
              0.3333333333333333,
              "#31688e"
             ],
             [
              0.4444444444444444,
              "#26828e"
             ],
             [
              0.5555555555555556,
              "#1f9e89"
             ],
             [
              0.6666666666666666,
              "#35b779"
             ],
             [
              0.7777777777777778,
              "#6ece58"
             ],
             [
              0.8888888888888888,
              "#b5de2b"
             ],
             [
              1,
              "#fde725"
             ]
            ],
            "type": "contour"
           }
          ],
          "contourcarpet": [
           {
            "colorbar": {
             "outlinewidth": 1,
             "tickcolor": "rgb(36,36,36)",
             "ticks": "outside"
            },
            "type": "contourcarpet"
           }
          ],
          "heatmap": [
           {
            "colorbar": {
             "outlinewidth": 1,
             "tickcolor": "rgb(36,36,36)",
             "ticks": "outside"
            },
            "colorscale": [
             [
              0,
              "#440154"
             ],
             [
              0.1111111111111111,
              "#482878"
             ],
             [
              0.2222222222222222,
              "#3e4989"
             ],
             [
              0.3333333333333333,
              "#31688e"
             ],
             [
              0.4444444444444444,
              "#26828e"
             ],
             [
              0.5555555555555556,
              "#1f9e89"
             ],
             [
              0.6666666666666666,
              "#35b779"
             ],
             [
              0.7777777777777778,
              "#6ece58"
             ],
             [
              0.8888888888888888,
              "#b5de2b"
             ],
             [
              1,
              "#fde725"
             ]
            ],
            "type": "heatmap"
           }
          ],
          "heatmapgl": [
           {
            "colorbar": {
             "outlinewidth": 1,
             "tickcolor": "rgb(36,36,36)",
             "ticks": "outside"
            },
            "colorscale": [
             [
              0,
              "#440154"
             ],
             [
              0.1111111111111111,
              "#482878"
             ],
             [
              0.2222222222222222,
              "#3e4989"
             ],
             [
              0.3333333333333333,
              "#31688e"
             ],
             [
              0.4444444444444444,
              "#26828e"
             ],
             [
              0.5555555555555556,
              "#1f9e89"
             ],
             [
              0.6666666666666666,
              "#35b779"
             ],
             [
              0.7777777777777778,
              "#6ece58"
             ],
             [
              0.8888888888888888,
              "#b5de2b"
             ],
             [
              1,
              "#fde725"
             ]
            ],
            "type": "heatmapgl"
           }
          ],
          "histogram": [
           {
            "marker": {
             "line": {
              "color": "white",
              "width": 0.6
             }
            },
            "type": "histogram"
           }
          ],
          "histogram2d": [
           {
            "colorbar": {
             "outlinewidth": 1,
             "tickcolor": "rgb(36,36,36)",
             "ticks": "outside"
            },
            "colorscale": [
             [
              0,
              "#440154"
             ],
             [
              0.1111111111111111,
              "#482878"
             ],
             [
              0.2222222222222222,
              "#3e4989"
             ],
             [
              0.3333333333333333,
              "#31688e"
             ],
             [
              0.4444444444444444,
              "#26828e"
             ],
             [
              0.5555555555555556,
              "#1f9e89"
             ],
             [
              0.6666666666666666,
              "#35b779"
             ],
             [
              0.7777777777777778,
              "#6ece58"
             ],
             [
              0.8888888888888888,
              "#b5de2b"
             ],
             [
              1,
              "#fde725"
             ]
            ],
            "type": "histogram2d"
           }
          ],
          "histogram2dcontour": [
           {
            "colorbar": {
             "outlinewidth": 1,
             "tickcolor": "rgb(36,36,36)",
             "ticks": "outside"
            },
            "colorscale": [
             [
              0,
              "#440154"
             ],
             [
              0.1111111111111111,
              "#482878"
             ],
             [
              0.2222222222222222,
              "#3e4989"
             ],
             [
              0.3333333333333333,
              "#31688e"
             ],
             [
              0.4444444444444444,
              "#26828e"
             ],
             [
              0.5555555555555556,
              "#1f9e89"
             ],
             [
              0.6666666666666666,
              "#35b779"
             ],
             [
              0.7777777777777778,
              "#6ece58"
             ],
             [
              0.8888888888888888,
              "#b5de2b"
             ],
             [
              1,
              "#fde725"
             ]
            ],
            "type": "histogram2dcontour"
           }
          ],
          "mesh3d": [
           {
            "colorbar": {
             "outlinewidth": 1,
             "tickcolor": "rgb(36,36,36)",
             "ticks": "outside"
            },
            "type": "mesh3d"
           }
          ],
          "parcoords": [
           {
            "line": {
             "colorbar": {
              "outlinewidth": 1,
              "tickcolor": "rgb(36,36,36)",
              "ticks": "outside"
             }
            },
            "type": "parcoords"
           }
          ],
          "pie": [
           {
            "automargin": true,
            "type": "pie"
           }
          ],
          "scatter": [
           {
            "fillpattern": {
             "fillmode": "overlay",
             "size": 10,
             "solidity": 0.2
            },
            "type": "scatter"
           }
          ],
          "scatter3d": [
           {
            "line": {
             "colorbar": {
              "outlinewidth": 1,
              "tickcolor": "rgb(36,36,36)",
              "ticks": "outside"
             }
            },
            "marker": {
             "colorbar": {
              "outlinewidth": 1,
              "tickcolor": "rgb(36,36,36)",
              "ticks": "outside"
             }
            },
            "type": "scatter3d"
           }
          ],
          "scattercarpet": [
           {
            "marker": {
             "colorbar": {
              "outlinewidth": 1,
              "tickcolor": "rgb(36,36,36)",
              "ticks": "outside"
             }
            },
            "type": "scattercarpet"
           }
          ],
          "scattergeo": [
           {
            "marker": {
             "colorbar": {
              "outlinewidth": 1,
              "tickcolor": "rgb(36,36,36)",
              "ticks": "outside"
             }
            },
            "type": "scattergeo"
           }
          ],
          "scattergl": [
           {
            "marker": {
             "colorbar": {
              "outlinewidth": 1,
              "tickcolor": "rgb(36,36,36)",
              "ticks": "outside"
             }
            },
            "type": "scattergl"
           }
          ],
          "scattermapbox": [
           {
            "marker": {
             "colorbar": {
              "outlinewidth": 1,
              "tickcolor": "rgb(36,36,36)",
              "ticks": "outside"
             }
            },
            "type": "scattermapbox"
           }
          ],
          "scatterpolar": [
           {
            "marker": {
             "colorbar": {
              "outlinewidth": 1,
              "tickcolor": "rgb(36,36,36)",
              "ticks": "outside"
             }
            },
            "type": "scatterpolar"
           }
          ],
          "scatterpolargl": [
           {
            "marker": {
             "colorbar": {
              "outlinewidth": 1,
              "tickcolor": "rgb(36,36,36)",
              "ticks": "outside"
             }
            },
            "type": "scatterpolargl"
           }
          ],
          "scatterternary": [
           {
            "marker": {
             "colorbar": {
              "outlinewidth": 1,
              "tickcolor": "rgb(36,36,36)",
              "ticks": "outside"
             }
            },
            "type": "scatterternary"
           }
          ],
          "surface": [
           {
            "colorbar": {
             "outlinewidth": 1,
             "tickcolor": "rgb(36,36,36)",
             "ticks": "outside"
            },
            "colorscale": [
             [
              0,
              "#440154"
             ],
             [
              0.1111111111111111,
              "#482878"
             ],
             [
              0.2222222222222222,
              "#3e4989"
             ],
             [
              0.3333333333333333,
              "#31688e"
             ],
             [
              0.4444444444444444,
              "#26828e"
             ],
             [
              0.5555555555555556,
              "#1f9e89"
             ],
             [
              0.6666666666666666,
              "#35b779"
             ],
             [
              0.7777777777777778,
              "#6ece58"
             ],
             [
              0.8888888888888888,
              "#b5de2b"
             ],
             [
              1,
              "#fde725"
             ]
            ],
            "type": "surface"
           }
          ],
          "table": [
           {
            "cells": {
             "fill": {
              "color": "rgb(237,237,237)"
             },
             "line": {
              "color": "white"
             }
            },
            "header": {
             "fill": {
              "color": "rgb(217,217,217)"
             },
             "line": {
              "color": "white"
             }
            },
            "type": "table"
           }
          ]
         },
         "layout": {
          "annotationdefaults": {
           "arrowhead": 0,
           "arrowwidth": 1
          },
          "autotypenumbers": "strict",
          "coloraxis": {
           "colorbar": {
            "outlinewidth": 1,
            "tickcolor": "rgb(36,36,36)",
            "ticks": "outside"
           }
          },
          "colorscale": {
           "diverging": [
            [
             0,
             "rgb(103,0,31)"
            ],
            [
             0.1,
             "rgb(178,24,43)"
            ],
            [
             0.2,
             "rgb(214,96,77)"
            ],
            [
             0.3,
             "rgb(244,165,130)"
            ],
            [
             0.4,
             "rgb(253,219,199)"
            ],
            [
             0.5,
             "rgb(247,247,247)"
            ],
            [
             0.6,
             "rgb(209,229,240)"
            ],
            [
             0.7,
             "rgb(146,197,222)"
            ],
            [
             0.8,
             "rgb(67,147,195)"
            ],
            [
             0.9,
             "rgb(33,102,172)"
            ],
            [
             1,
             "rgb(5,48,97)"
            ]
           ],
           "sequential": [
            [
             0,
             "#440154"
            ],
            [
             0.1111111111111111,
             "#482878"
            ],
            [
             0.2222222222222222,
             "#3e4989"
            ],
            [
             0.3333333333333333,
             "#31688e"
            ],
            [
             0.4444444444444444,
             "#26828e"
            ],
            [
             0.5555555555555556,
             "#1f9e89"
            ],
            [
             0.6666666666666666,
             "#35b779"
            ],
            [
             0.7777777777777778,
             "#6ece58"
            ],
            [
             0.8888888888888888,
             "#b5de2b"
            ],
            [
             1,
             "#fde725"
            ]
           ],
           "sequentialminus": [
            [
             0,
             "#440154"
            ],
            [
             0.1111111111111111,
             "#482878"
            ],
            [
             0.2222222222222222,
             "#3e4989"
            ],
            [
             0.3333333333333333,
             "#31688e"
            ],
            [
             0.4444444444444444,
             "#26828e"
            ],
            [
             0.5555555555555556,
             "#1f9e89"
            ],
            [
             0.6666666666666666,
             "#35b779"
            ],
            [
             0.7777777777777778,
             "#6ece58"
            ],
            [
             0.8888888888888888,
             "#b5de2b"
            ],
            [
             1,
             "#fde725"
            ]
           ]
          },
          "colorway": [
           "#1F77B4",
           "#FF7F0E",
           "#2CA02C",
           "#D62728",
           "#9467BD",
           "#8C564B",
           "#E377C2",
           "#7F7F7F",
           "#BCBD22",
           "#17BECF"
          ],
          "font": {
           "color": "rgb(36,36,36)"
          },
          "geo": {
           "bgcolor": "white",
           "lakecolor": "white",
           "landcolor": "white",
           "showlakes": true,
           "showland": true,
           "subunitcolor": "white"
          },
          "hoverlabel": {
           "align": "left"
          },
          "hovermode": "closest",
          "mapbox": {
           "style": "light"
          },
          "paper_bgcolor": "white",
          "plot_bgcolor": "white",
          "polar": {
           "angularaxis": {
            "gridcolor": "rgb(232,232,232)",
            "linecolor": "rgb(36,36,36)",
            "showgrid": false,
            "showline": true,
            "ticks": "outside"
           },
           "bgcolor": "white",
           "radialaxis": {
            "gridcolor": "rgb(232,232,232)",
            "linecolor": "rgb(36,36,36)",
            "showgrid": false,
            "showline": true,
            "ticks": "outside"
           }
          },
          "scene": {
           "xaxis": {
            "backgroundcolor": "white",
            "gridcolor": "rgb(232,232,232)",
            "gridwidth": 2,
            "linecolor": "rgb(36,36,36)",
            "showbackground": true,
            "showgrid": false,
            "showline": true,
            "ticks": "outside",
            "zeroline": false,
            "zerolinecolor": "rgb(36,36,36)"
           },
           "yaxis": {
            "backgroundcolor": "white",
            "gridcolor": "rgb(232,232,232)",
            "gridwidth": 2,
            "linecolor": "rgb(36,36,36)",
            "showbackground": true,
            "showgrid": false,
            "showline": true,
            "ticks": "outside",
            "zeroline": false,
            "zerolinecolor": "rgb(36,36,36)"
           },
           "zaxis": {
            "backgroundcolor": "white",
            "gridcolor": "rgb(232,232,232)",
            "gridwidth": 2,
            "linecolor": "rgb(36,36,36)",
            "showbackground": true,
            "showgrid": false,
            "showline": true,
            "ticks": "outside",
            "zeroline": false,
            "zerolinecolor": "rgb(36,36,36)"
           }
          },
          "shapedefaults": {
           "fillcolor": "black",
           "line": {
            "width": 0
           },
           "opacity": 0.3
          },
          "ternary": {
           "aaxis": {
            "gridcolor": "rgb(232,232,232)",
            "linecolor": "rgb(36,36,36)",
            "showgrid": false,
            "showline": true,
            "ticks": "outside"
           },
           "baxis": {
            "gridcolor": "rgb(232,232,232)",
            "linecolor": "rgb(36,36,36)",
            "showgrid": false,
            "showline": true,
            "ticks": "outside"
           },
           "bgcolor": "white",
           "caxis": {
            "gridcolor": "rgb(232,232,232)",
            "linecolor": "rgb(36,36,36)",
            "showgrid": false,
            "showline": true,
            "ticks": "outside"
           }
          },
          "title": {
           "x": 0.05
          },
          "xaxis": {
           "automargin": true,
           "gridcolor": "rgb(232,232,232)",
           "linecolor": "rgb(36,36,36)",
           "showgrid": false,
           "showline": true,
           "ticks": "outside",
           "title": {
            "standoff": 15
           },
           "zeroline": false,
           "zerolinecolor": "rgb(36,36,36)"
          },
          "yaxis": {
           "automargin": true,
           "gridcolor": "rgb(232,232,232)",
           "linecolor": "rgb(36,36,36)",
           "showgrid": false,
           "showline": true,
           "ticks": "outside",
           "title": {
            "standoff": 15
           },
           "zeroline": false,
           "zerolinecolor": "rgb(36,36,36)"
          }
         }
        },
        "title": {
         "text": "Distribution of channel values"
        },
        "xaxis": {
         "anchor": "y2",
         "domain": [
          0,
          1
         ],
         "zeroline": false
        },
        "yaxis": {
         "anchor": "free",
         "domain": [
          0.35,
          1
         ],
         "position": 0
        },
        "yaxis2": {
         "anchor": "x",
         "domain": [
          0,
          0.25
         ],
         "dtick": 1,
         "showticklabels": false
        }
       }
      }
     },
     "metadata": {},
     "output_type": "display_data"
    }
   ],
   "source": [
    "fig = ff.create_distplot([values], group_labels=[\n",
    "                         \"Channels\"], colors=[\"purple\"])\n",
    "fig.update_layout(showlegend=False, template=\"simple_white\")\n",
    "fig.update_layout(title_text=\"Distribution of channel values\")\n",
    "fig.data[0].marker.line.color = 'rgb(0, 0, 0)'\n",
    "fig.data[0].marker.line.width = 0.5\n",
    "fig\n"
   ]
  },
  {
   "cell_type": "code",
   "execution_count": 9,
   "metadata": {},
   "outputs": [
    {
     "data": {
      "application/vnd.plotly.v1+json": {
       "config": {
        "plotlyServerURL": "https://plot.ly"
       },
       "data": [
        {
         "autobinx": false,
         "histnorm": "probability density",
         "legendgroup": "R",
         "marker": {
          "color": "red",
          "line": {
           "color": "rgb(0, 0, 0)",
           "width": 0.5
          }
         },
         "name": "R",
         "opacity": 0.7,
         "type": "histogram",
         "x": [
          109.88538518772894,
          130.24837060725733,
          108.7034172533196,
          127.22118782909799,
          81.23115770947803,
          123.95277694310897,
          104.56805460164836,
          115.2031468206273,
          93.95971017914377,
          79.24811484088828,
          91.26290028331044,
          109.21686376774268,
          121.89035492502289,
          105.07857464800824,
          95.49624470581502,
          96.15216846955128,
          99.19379006410256,
          100.10775419242216,
          99.51522042410714,
          105.14262391254579,
          108.45544049049909,
          93.49179222470238,
          100.91997481684982,
          108.03607987065018,
          90.3776381496108,
          112.76239197000916,
          96.46827638507327,
          141.22486049107144,
          124.44289112580128,
          67.0477056146978,
          119.01223171359891,
          108.13080822172618,
          100.95760574061356,
          92.09419535542582,
          96.23660356570512,
          95.73412817651099,
          80.47464800824176,
          95.67118282108517,
          160.69143129006412,
          81.23971425709706,
          137.82576121794872,
          103.67609317765567,
          161.43473521920788,
          106.24883563701923,
          88.39481348729396,
          97.9094948345925,
          100.9132576407967,
          90.65359181833792,
          91.22200628147894,
          103.03511797447344,
          115.17326901614011,
          75.97304401327838,
          111.38438358516484,
          75.20321800595238,
          124.38267549507783,
          86.19860204899267,
          125.32975940075549,
          98.07443087511447,
          88.09978680173992,
          96.26706015338827,
          104.56917711195055,
          143.34940368875917,
          140.0901842948718,
          107.34990878262363,
          127.9975593091804,
          90.64717369219322,
          88.06087811927655,
          96.61024925595238,
          93.09616386217948,
          106.08151614010988,
          87.10346268315018,
          102.81859654017858,
          96.74673119848902,
          100.8622814360119,
          95.2329341231685,
          119.70608008527931,
          92.24759722699176,
          105.6406718606914,
          78.22706723614927,
          106.21532595009157,
          104.95522908081502,
          95.4783453525641,
          115.14477914663462,
          98.00697222699176,
          133.34018286401098,
          120.01927119104853,
          103.66985247825092,
          98.36967862866301,
          72.67672382955585,
          103.66783353365385,
          81.76022350045787,
          78.97306082589286,
          83.91678685897436,
          107.39958612351191,
          83.69398394574176,
          75.44243360805861,
          81.09404439961081,
          103.07012469951923,
          102.21488703353938,
          108.58970388335622
         ],
         "xaxis": "x",
         "xbins": {
          "end": 161.43473521920788,
          "size": 1,
          "start": 67.0477056146978
         },
         "yaxis": "y"
        },
        {
         "legendgroup": "R",
         "marker": {
          "color": "red"
         },
         "mode": "lines",
         "name": "R",
         "showlegend": false,
         "type": "scatter",
         "x": [
          67.0477056146978,
          67.23647967390683,
          67.42525373311584,
          67.61402779232486,
          67.80280185153389,
          67.99157591074291,
          68.18034996995192,
          68.36912402916094,
          68.55789808836997,
          68.74667214757899,
          68.935446206788,
          69.12422026599702,
          69.31299432520605,
          69.50176838441507,
          69.69054244362408,
          69.8793165028331,
          70.06809056204213,
          70.25686462125115,
          70.44563868046016,
          70.63441273966919,
          70.82318679887821,
          71.01196085808722,
          71.20073491729624,
          71.38950897650527,
          71.57828303571429,
          71.7670570949233,
          71.95583115413233,
          72.14460521334135,
          72.33337927255037,
          72.52215333175938,
          72.71092739096841,
          72.89970145017743,
          73.08847550938646,
          73.27724956859547,
          73.46602362780449,
          73.65479768701351,
          73.84357174622252,
          74.03234580543155,
          74.22111986464057,
          74.4098939238496,
          74.5986679830586,
          74.78744204226763,
          74.97621610147665,
          75.16499016068568,
          75.35376421989469,
          75.54253827910371,
          75.73131233831273,
          75.92008639752176,
          76.10886045673077,
          76.29763451593979,
          76.48640857514881,
          76.67518263435784,
          76.86395669356685,
          77.05273075277587,
          77.2415048119849,
          77.4302788711939,
          77.61905293040293,
          77.80782698961195,
          77.99660104882098,
          78.18537510802999,
          78.37414916723901,
          78.56292322644804,
          78.75169728565706,
          78.94047134486607,
          79.12924540407509,
          79.31801946328412,
          79.50679352249314,
          79.69556758170215,
          79.88434164091117,
          80.0731157001202,
          80.26188975932922,
          80.45066381853823,
          80.63943787774726,
          80.82821193695628,
          81.01698599616529,
          81.20576005537431,
          81.39453411458334,
          81.58330817379236,
          81.77208223300137,
          81.9608562922104,
          82.14963035141942,
          82.33840441062844,
          82.52717846983745,
          82.71595252904648,
          82.9047265882555,
          83.09350064746451,
          83.28227470667353,
          83.47104876588256,
          83.65982282509158,
          83.8485968843006,
          84.03737094350961,
          84.22614500271864,
          84.41491906192766,
          84.60369312113667,
          84.7924671803457,
          84.98124123955472,
          85.17001529876374,
          85.35878935797275,
          85.54756341718178,
          85.7363374763908,
          85.92511153559983,
          86.11388559480883,
          86.30265965401786,
          86.49143371322688,
          86.6802077724359,
          86.86898183164492,
          87.05775589085394,
          87.24652995006296,
          87.43530400927199,
          87.624078068481,
          87.81285212769002,
          88.00162618689905,
          88.19040024610806,
          88.37917430531708,
          88.5679483645261,
          88.75672242373513,
          88.94549648294415,
          89.13427054215316,
          89.32304460136218,
          89.51181866057121,
          89.70059271978022,
          89.88936677898924,
          90.07814083819827,
          90.26691489740728,
          90.4556889566163,
          90.64446301582532,
          90.83323707503435,
          91.02201113424337,
          91.21078519345238,
          91.3995592526614,
          91.58833331187043,
          91.77710737107944,
          91.96588143028846,
          92.15465548949749,
          92.3434295487065,
          92.53220360791552,
          92.72097766712454,
          92.90975172633357,
          93.09852578554259,
          93.2872998447516,
          93.47607390396062,
          93.66484796316965,
          93.85362202237866,
          94.04239608158768,
          94.2311701407967,
          94.41994420000573,
          94.60871825921474,
          94.79749231842376,
          94.98626637763279,
          95.17504043684181,
          95.36381449605082,
          95.55258855525985,
          95.74136261446887,
          95.9301366736779,
          96.11891073288692,
          96.30768479209593,
          96.49645885130495,
          96.68523291051397,
          96.87400696972298,
          97.06278102893201,
          97.25155508814103,
          97.44032914735004,
          97.62910320655907,
          97.81787726576809,
          98.00665132497711,
          98.19542538418614,
          98.38419944339515,
          98.57297350260417,
          98.7617475618132,
          98.9505216210222,
          99.13929568023123,
          99.32806973944025,
          99.51684379864926,
          99.70561785785829,
          99.89439191706731,
          100.08316597627632,
          100.27194003548536,
          100.46071409469437,
          100.64948815390339,
          100.83826221311242,
          101.02703627232142,
          101.21581033153045,
          101.40458439073947,
          101.59335844994848,
          101.78213250915752,
          101.97090656836653,
          102.15968062757554,
          102.34845468678458,
          102.53722874599359,
          102.72600280520261,
          102.91477686441164,
          103.10355092362065,
          103.29232498282968,
          103.4810990420387,
          103.6698731012477,
          103.85864716045674,
          104.04742121966575,
          104.23619527887477,
          104.4249693380838,
          104.61374339729281,
          104.80251745650185,
          104.99129151571086,
          105.18006557491987,
          105.3688396341289,
          105.55761369333791,
          105.74638775254694,
          105.93516181175596,
          106.12393587096497,
          106.31270993017401,
          106.50148398938302,
          106.69025804859203,
          106.87903210780107,
          107.06780616701008,
          107.2565802262191,
          107.44535428542812,
          107.63412834463713,
          107.82290240384616,
          108.01167646305518,
          108.20045052226419,
          108.38922458147323,
          108.57799864068224,
          108.76677269989126,
          108.95554675910029,
          109.1443208183093,
          109.33309487751832,
          109.52186893672734,
          109.71064299593635,
          109.89941705514538,
          110.0881911143544,
          110.27696517356341,
          110.46573923277245,
          110.65451329198146,
          110.84328735119048,
          111.0320614103995,
          111.22083546960852,
          111.40960952881754,
          111.59838358802656,
          111.78715764723557,
          111.9759317064446,
          112.16470576565362,
          112.35347982486263,
          112.54225388407167,
          112.73102794328068,
          112.9198020024897,
          113.10857606169873,
          113.29735012090774,
          113.48612418011676,
          113.67489823932578,
          113.8636722985348,
          114.05244635774382,
          114.24122041695284,
          114.42999447616187,
          114.61876853537089,
          114.8075425945799,
          114.99631665378892,
          115.18509071299795,
          115.37386477220696,
          115.56263883141598,
          115.751412890625,
          115.94018694983401,
          116.12896100904304,
          116.31773506825206,
          116.50650912746109,
          116.69528318667011,
          116.88405724587912,
          117.07283130508814,
          117.26160536429717,
          117.45037942350618,
          117.6391534827152,
          117.82792754192423,
          118.01670160113324,
          118.20547566034226,
          118.39424971955128,
          118.5830237787603,
          118.77179783796933,
          118.96057189717834,
          119.14934595638736,
          119.33812001559639,
          119.5268940748054,
          119.71566813401444,
          119.90444219322345,
          120.09321625243246,
          120.2819903116415,
          120.4707643708505,
          120.65953843005953,
          120.84831248926855,
          121.03708654847756,
          121.2258606076866,
          121.41463466689561,
          121.60340872610462,
          121.79218278531366,
          121.98095684452267,
          122.16973090373168,
          122.35850496294071,
          122.54727902214972,
          122.73605308135876,
          122.92482714056777,
          123.11360119977678,
          123.30237525898582,
          123.49114931819483,
          123.67992337740384,
          123.86869743661288,
          124.05747149582189,
          124.24624555503091,
          124.43501961423993,
          124.62379367344894,
          124.81256773265798,
          125.00134179186699,
          125.19011585107602,
          125.37888991028504,
          125.56766396949405,
          125.75643802870307,
          125.9452120879121,
          126.1339861471211,
          126.32276020633013,
          126.51153426553915,
          126.70030832474818,
          126.8890823839572,
          127.07785644316621,
          127.26663050237524,
          127.45540456158426,
          127.64417862079327,
          127.8329526800023,
          128.02172673921132,
          128.21050079842033,
          128.39927485762934,
          128.58804891683837,
          128.7768229760474,
          128.96559703525642,
          129.15437109446543,
          129.34314515367447,
          129.53191921288348,
          129.7206932720925,
          129.90946733130153,
          130.09824139051054,
          130.28701544971955,
          130.47578950892859,
          130.6645635681376,
          130.8533376273466,
          131.04211168655564,
          131.23088574576465,
          131.41965980497366,
          131.6084338641827,
          131.7972079233917,
          131.98598198260072,
          132.17475604180976,
          132.36353010101877,
          132.5523041602278,
          132.74107821943682,
          132.92985227864585,
          133.11862633785483,
          133.30740039706387,
          133.4961744562729,
          133.68494851548192,
          133.87372257469093,
          134.06249663389997,
          134.25127069310898,
          134.440044752318,
          134.62881881152703,
          134.81759287073604,
          135.00636692994505,
          135.19514098915408,
          135.3839150483631,
          135.57268910757213,
          135.76146316678114,
          135.95023722599018,
          136.13901128519916,
          136.3277853444082,
          136.51655940361724,
          136.70533346282625,
          136.89410752203526,
          137.0828815812443,
          137.27165564045328,
          137.4604296996623,
          137.64920375887135,
          137.83797781808036,
          138.02675187728937,
          138.2155259364984,
          138.40429999570742,
          138.59307405491643,
          138.78184811412547,
          138.97062217333448,
          139.1593962325435,
          139.34817029175252,
          139.53694435096156,
          139.72571841017057,
          139.91449246937958,
          140.10326652858862,
          140.2920405877976,
          140.48081464700664,
          140.66958870621568,
          140.8583627654247,
          141.0471368246337,
          141.23591088384273,
          141.42468494305174,
          141.61345900226075,
          141.8022330614698,
          141.9910071206788,
          142.1797811798878,
          142.36855523909685,
          142.5573292983059,
          142.74610335751487,
          142.9348774167239,
          143.12365147593292,
          143.31242553514193,
          143.50119959435096,
          143.68997365356,
          143.878747712769,
          144.06752177197802,
          144.25629583118706,
          144.44506989039607,
          144.63384394960508,
          144.82261800881412,
          145.01139206802313,
          145.20016612723214,
          145.38894018644118,
          145.5777142456502,
          145.7664883048592,
          145.95526236406823,
          146.14403642327724,
          146.33281048248625,
          146.5215845416953,
          146.71035860090433,
          146.8991326601133,
          147.08790671932235,
          147.27668077853136,
          147.4654548377404,
          147.6542288969494,
          147.84300295615844,
          148.03177701536745,
          148.22055107457646,
          148.4093251337855,
          148.5980991929945,
          148.78687325220352,
          148.97564731141256,
          149.16442137062157,
          149.35319542983058,
          149.54196948903962,
          149.73074354824865,
          149.91951760745764,
          150.10829166666667,
          150.29706572587568,
          150.48583978508472,
          150.67461384429373,
          150.86338790350277,
          151.05216196271175,
          151.2409360219208,
          151.42971008112983,
          151.61848414033884,
          151.80725819954785,
          151.99603225875688,
          152.1848063179659,
          152.3735803771749,
          152.56235443638394,
          152.75112849559295,
          152.93990255480196,
          153.128676614011,
          153.31745067322,
          153.50622473242902,
          153.69499879163806,
          153.8837728508471,
          154.07254691005608,
          154.2613209692651,
          154.45009502847415,
          154.63886908768316,
          154.82764314689217,
          155.0164172061012,
          155.2051912653102,
          155.39396532451923,
          155.58273938372827,
          155.77151344293728,
          155.9602875021463,
          156.14906156135532,
          156.33783562056433,
          156.52660967977334,
          156.71538373898238,
          156.9041577981914,
          157.0929318574004,
          157.28170591660944,
          157.47047997581848,
          157.65925403502746,
          157.8480280942365,
          158.03680215344554,
          158.22557621265452,
          158.41435027186355,
          158.6031243310726,
          158.7918983902816,
          158.9806724494906,
          159.16944650869965,
          159.35822056790863,
          159.54699462711767,
          159.7357686863267,
          159.92454274553572,
          160.11331680474473,
          160.30209086395377,
          160.4908649231628,
          160.67963898237178,
          160.86841304158082,
          161.05718710078983,
          161.24596115999884
         ],
         "xaxis": "x",
         "y": [
          0.0027570295298391862,
          0.0028413538737520555,
          0.002927321942014719,
          0.003014927773336102,
          0.0031041635821685946,
          0.0031950197275819594,
          0.003287484687077078,
          0.003381545035688001,
          0.003477185430709815,
          0.0035743886023774044,
          0.0036731353508040777,
          0.003773404549471432,
          0.0038751731555407673,
          0.003978416227233832,
          0.004083106948504547,
          0.004189216661195846,
          0.004296714904845348,
          0.004405569464271047,
          0.004515746425033889,
          0.004627210236837266,
          0.0047399237848853755,
          0.004853848469182379,
          0.004968944291712896,
          0.0050851699514015995,
          0.005202482946706233,
          0.005320839685653861,
          0.005440195603084987,
          0.00556050528482517,
          0.005681722598458242,
          0.005803800830330462,
          0.0059266928283700894,
          0.0060503511502634595,
          0.006174728216486129,
          0.006299776467646189,
          0.006425448525557865,
          0.006551697357425521,
          0.0066784764424836175,
          0.006805739940404972,
          0.006933442860760188,
          0.007061541232784265,
          0.007189992274682859,
          0.007318754561691097,
          0.00744778819208102,
          0.007577054950302516,
          0.007706518466433391,
          0.007836144371111494,
          0.007965900445121327,
          0.008095756762813655,
          0.008225685828545437,
          0.008355662705342107,
          0.008485665135003059,
          0.0086156736488945,
          0.008745671668702387,
          0.008875645596450283,
          0.009005584893124412,
          0.009135482145289489,
          0.009265333119124431,
          0.009395136801356365,
          0.009524895426624883,
          0.009654614490865205,
          0.009784302750358553,
          0.009913972206161551,
          0.010043638073691581,
          0.010173318737313372,
          0.010303035689841577,
          0.01043281345694565,
          0.010562679506516424,
          0.010692664143126298,
          0.010822800387789978,
          0.010953123843305209,
          0.011083672545527553,
          0.01121448680100463,
          0.01134560901146728,
          0.011477083485743757,
          0.011608956239730944,
          0.011741274785121021,
          0.011874087907643596,
          0.012007445435642196,
          0.012141397999858139,
          0.012275996785346108,
          0.012411293276491124,
          0.012547338996139395,
          0.012684185239890785,
          0.012821882806633317,
          0.012960481726425027,
          0.013100030986849604,
          0.013240578258986732,
          0.013382169624146055,
          0.01352484930251777,
          0.013668659384888029,
          0.013813639568559499,
          0.013959826898601022,
          0.014107255515529556,
          0.014255956410500852,
          0.014405957189051789,
          0.01455728184439978,
          0.014709950541260577,
          0.014863979411097548,
          0.015019380359661782,
          0.015176160887624508,
          0.015334323925041717,
          0.015493867680324111,
          0.01565478550431754,
          0.0158170657700254,
          0.015980691768431324,
          0.016145641620802037,
          0.016311888207773167,
          0.016479399115439934,
          0.016648136598595042,
          0.016818057561175374,
          0.016989113553898372,
          0.017161250788990088,
          0.017334410171828126,
          0.01750852734924653,
          0.0176835327741748,
          0.017859351786212285,
          0.018035904707669692,
          0.018213106954544905,
          0.018390869161838786,
          0.018569097322559264,
          0.01874769293971045,
          0.01892655319051447,
          0.019105571102072363,
          0.019284635737632866,
          0.019463632392606203,
          0.01964244279943389,
          0.019820945340406515,
          0.019999015267506234,
          0.020176524928343088,
          0.02035334399725226,
          0.02052933971062219,
          0.02070437710553442,
          0.02087831926080965,
          0.02105102753957595,
          0.021222361832501146,
          0.021392180800862047,
          0.02156034211865857,
          0.021726702713021833,
          0.021891119002208893,
          0.02205344713052419,
          0.02221354319956042,
          0.022371263495203266,
          0.022526464709903264,
          0.02267900415977384,
          0.022828739996135758,
          0.022975531411188015,
          0.023119238837546227,
          0.023259724141449792,
          0.023396850809500002,
          0.02353048412884933,
          0.023660491360819876,
          0.023786741907983643,
          0.02390910747479061,
          0.024027462221878796,
          0.024141682914248116,
          0.02425164906352047,
          0.024357243064547743,
          0.024458350326662097,
          0.024554859399892187,
          0.024646662096492168,
          0.024733653608148786,
          0.024815732619245696,
          0.02489280141657033,
          0.024964765995851887,
          0.025031536165514883,
          0.025093025648023803,
          0.025149152179179776,
          0.025199837605710856,
          0.025245007981472,
          0.02528459366254192,
          0.025318529401469458,
          0.02534675444088279,
          0.025369212606634287,
          0.025385852400605913,
          0.02539662709325263,
          0.0254014948159093,
          0.025400418652832664,
          0.02539336673289577,
          0.025380312320795226,
          0.02536123390757555,
          0.02533611530021847,
          0.025304945709988636,
          0.02526771983917349,
          0.025224437965801063,
          0.025175106025870284,
          0.0251197356925794,
          0.025058344451994896,
          0.02499095567456242,
          0.02491759868182504,
          0.024838308807683167,
          0.024753127453504043,
          0.02466210213636795,
          0.024565286529723573,
          0.02446274049571619,
          0.024354530108448832,
          0.024240727667441876,
          0.024121411700565507,
          0.023996666955736892,
          0.02386658438069751,
          0.023731261090215505,
          0.023590800320094894,
          0.023445311367415192,
          0.023294909516474213,
          0.0231397159499608,
          0.02297985764494374,
          0.02281546725332775,
          0.022646682966497217,
          0.02247364836394115,
          0.022296512245730087,
          0.022115428448796985,
          0.02193055564705507,
          0.021742057135472916,
          0.02155010059831183,
          0.021354857861818476,
          0.021156504631753788,
          0.020955220216225593,
          0.02075118723437945,
          0.020544591311586372,
          0.02033562076184918,
          0.020124466258228484,
          0.01991132049216682,
          0.0196963778226606,
          0.019479833916299854,
          0.019261885379257656,
          0.019042729382370244,
          0.018822563280501574,
          0.01860158422743214,
          0.01837998878755267,
          0.018157972545677133,
          0.017935729716315577,
          0.017713452753768354,
          0.01749133196441505,
          0.017269555122577582,
          0.017048307091335146,
          0.016827769449659625,
          0.016608120127224173,
          0.01638953304821471,
          0.01617217778544414,
          0.01595621922603196,
          0.01574181724987013,
          0.015529126422045373,
          0.01531829570033434,
          0.015109468158826909,
          0.014902780728667527,
          0.01469836395683423,
          0.014496341783800335,
          0.014296831340845627,
          0.014099942767701787,
          0.013905779051132728,
          0.013714435884962736,
          0.013526001551977272,
          0.013340556828030056,
          0.013158174908599442,
          0.012978921357944921,
          0.012802854080923035,
          0.012630023317430798,
          0.012460471659354357,
          0.012294234089811467,
          0.012131338044390049,
          0.011971803493999055,
          0.011815643048866465,
          0.011662862083139672,
          0.011513458879466688,
          0.011367424792865254,
          0.011224744433117112,
          0.01108539586486056,
          0.010949350824494506,
          0.010816574952950518,
          0.010687028043339148,
          0.010560664302430304,
          0.01043743262488563,
          0.010317276879125521,
          0.01020013620368127,
          0.010085945312857222,
          0.009974634810507,
          0.009866131510711456,
          0.009760358764136168,
          0.00965723678883954,
          0.009556683004302782,
          0.009458612367456489,
          0.009362937709487934,
          0.009269570072226136,
          0.009178419042920258,
          0.009089393086249028,
          0.009002399872425161,
          0.008917346600289557,
          0.008834140314324073,
          0.00875268821454949,
          0.008672897958316918,
          0.008594677953044628,
          0.008517937639000482,
          0.00844258776127954,
          0.008368540630179487,
          0.00829571036923128,
          0.008224013150199558,
          0.008153367414425561,
          0.008083694079946602,
          0.008014916733886808,
          0.007946961809677378,
          0.00787975874872803,
          0.007813240146235214,
          0.007747341880878155,
          0.007682003228217881,
          0.007617166957679563,
          0.007552779413062891,
          0.007488790576589297,
          0.007425154116557725,
          0.007361827418743544,
          0.0072987716017356135,
          0.0072359515164667435,
          0.007173335730250961,
          0.007110896495696892,
          0.00704860970492175,
          0.006986454829542006,
          0.006924414846967163,
          0.006862476153570618,
          0.0068006284653558645,
          0.006738864706779083,
          0.0066771808884274475,
          0.006615575974288979,
          0.0065540517393823895,
          0.006492612618544748,
          0.006431265547200813,
          0.006370019794960666,
          0.006308886792910919,
          0.006247879955480133,
          0.006187014497770961,
          0.006126307249258986,
          0.006065776464762694,
          0.006005441633589157,
          0.005945323287756791,
          0.0058854428101892805,
          0.005825822243763903,
          0.005766484102083243,
          0.0057074511828210436,
          0.005648746384471393,
          0.005590392527305601,
          0.0055324121793129425,
          0.005474827487869756,
          0.005417660017847473,
          0.005360930596832394,
          0.005304659168090273,
          0.005248864651866459,
          0.005193564815567225,
          0.005138776153321085,
          0.005084513775370158,
          0.005030791307691119,
          0.004977620802192987,
          0.004925012657786371,
          0.004872975552563923,
          0.00482151638727764,
          0.0047706402402425485,
          0.00472035033374146,
          0.0046706480119493785,
          0.00462153273034128,
          0.0045730020564924544,
          0.004525051682126471,
          0.004477675446213359,
          0.004430865368869162,
          0.004384611695758117,
          0.0043389029526507165,
          0.004293726009744971,
          0.0042490661553142945,
          0.0042049071782040036,
          0.004161231458660106,
          0.004118020066937529,
          0.00407525286910255,
          0.0040329086394138075,
          0.003990965178640204,
          0.003949399437650176,
          0.003908187645587347,
          0.003867305441931186,
          0.003826728011728354,
          0.0037864302232715353,
          0.00374638676749697,
          0.0037065722983698314,
          0.003666961573528628,
          0.003627529594464875,
          0.0035882517455232466,
          0.0035491039310194964,
          0.00351006270978921,
          0.0034711054264991944,
          0.0034322103390750343,
          0.0033933567416236754,
          0.003354525082257059,
          0.0033156970752534886,
          0.003276855807025906,
          0.003237985835401517,
          0.0031990732817539255,
          0.003160105915567903,
          0.003121073231057576,
          0.003081966515500145,
          0.0030427789089907072,
          0.0030035054553673355,
          0.002964143144100176,
          0.002924690942983146,
          0.002885149821512267,
          0.0028455227648794762,
          0.0028058147785556624,
          0.002766032883481225,
          0.0027261861019257897,
          0.0026862854341217018,
          0.002646343825817327,
          0.0026063761269368045,
          0.002566399041571216,
          0.0025264310695639444,
          0.002486492439987937,
          0.002446605036846243,
          0.0024067923173585,
          0.002367079223225459,
          0.0023274920852904345,
          0.0022880585220411784,
          0.0022488073324181575,
          0.0022097683834146017,
          0.002170972492971264,
          0.0021324513086834374,
          0.0020942371828500356,
          0.0020563630444041772,
          0.0020188622682720202,
          0.0019817685427113755,
          0.0019451157351836367,
          0.001908937757312945,
          0.0018732684294837324,
          0.001838141345623461,
          0.001803589738710418,
          0.0017696463475378238,
          0.0017363432852543863,
          0.0017037119101890928,
          0.0016717826994533426,
          0.0016405851257975993,
          0.0016101475381818978,
          0.0015804970465005922,
          0.0015516594108813092,
          0.001523658935956246,
          0.0014965183704815012,
          0.0014702588126561745,
          0.0014448996214683992,
          0.0014204583343702406,
          0.0013969505915571656,
          0.0013743900671012727,
          0.0013527884071603347,
          0.0013321551754574158,
          0.0013124978061978244,
          0.0012938215645625273,
          0.0012761295148889216,
          0.0012594224966219374,
          0.0012436991080903442,
          0.0012289556981354107,
          0.0012151863655911939,
          0.0012023829665885016,
          0.0011905351296274379,
          0.0011796302783367485,
          0.0011696536618119738,
          0.001160588392398759,
          0.0011524154907625078,
          0.0011451139380611011,
          0.0011386607350136256,
          0.0011330309676350215,
          0.0011281978793842794,
          0.0011241329494525508,
          0.0011208059768969911,
          0.0011181851703067377,
          0.0011162372426689778,
          0.0011149275110857114,
          0.0011142200009756041,
          0.0011140775543803277,
          0.001114461941981021,
          0.001115333978418085,
          0.0011166536404964222,
          0.0011183801878485828,
          0.0011204722856200517,
          0.0011228881287342635,
          0.0011255855672897257,
          0.0011285222326381415,
          0.0011316556636904776,
          0.0011349434329976757,
          0.001138343272154129,
          0.0011418131960752177,
          0.001145311625705008,
          0.0011487975087168644,
          0.001152230437778032,
          0.0011555707659592627,
          0.001158779718882354,
          0.0011618195032118662,
          0.0011646534111123688,
          0.001167245920309248,
          0.0011695627894093273,
          0.0011715711481572783,
          0.0011732395823249148,
          0.0011745382129529477,
          0.0011754387696884837,
          0.0011759146579864038,
          0.0011759410199686784,
          0.0011754947887624722,
          0.0011745547361655504,
          0.0011731015135157858,
          0.001171117685670389,
          0.001168587758029761,
          0.001165498196570318,
          0.0011618374408802583
         ],
         "yaxis": "y"
        },
        {
         "legendgroup": "R",
         "marker": {
          "color": "red",
          "symbol": "line-ns-open"
         },
         "mode": "markers",
         "name": "R",
         "showlegend": false,
         "type": "scatter",
         "x": [
          109.88538518772894,
          130.24837060725733,
          108.7034172533196,
          127.22118782909799,
          81.23115770947803,
          123.95277694310897,
          104.56805460164836,
          115.2031468206273,
          93.95971017914377,
          79.24811484088828,
          91.26290028331044,
          109.21686376774268,
          121.89035492502289,
          105.07857464800824,
          95.49624470581502,
          96.15216846955128,
          99.19379006410256,
          100.10775419242216,
          99.51522042410714,
          105.14262391254579,
          108.45544049049909,
          93.49179222470238,
          100.91997481684982,
          108.03607987065018,
          90.3776381496108,
          112.76239197000916,
          96.46827638507327,
          141.22486049107144,
          124.44289112580128,
          67.0477056146978,
          119.01223171359891,
          108.13080822172618,
          100.95760574061356,
          92.09419535542582,
          96.23660356570512,
          95.73412817651099,
          80.47464800824176,
          95.67118282108517,
          160.69143129006412,
          81.23971425709706,
          137.82576121794872,
          103.67609317765567,
          161.43473521920788,
          106.24883563701923,
          88.39481348729396,
          97.9094948345925,
          100.9132576407967,
          90.65359181833792,
          91.22200628147894,
          103.03511797447344,
          115.17326901614011,
          75.97304401327838,
          111.38438358516484,
          75.20321800595238,
          124.38267549507783,
          86.19860204899267,
          125.32975940075549,
          98.07443087511447,
          88.09978680173992,
          96.26706015338827,
          104.56917711195055,
          143.34940368875917,
          140.0901842948718,
          107.34990878262363,
          127.9975593091804,
          90.64717369219322,
          88.06087811927655,
          96.61024925595238,
          93.09616386217948,
          106.08151614010988,
          87.10346268315018,
          102.81859654017858,
          96.74673119848902,
          100.8622814360119,
          95.2329341231685,
          119.70608008527931,
          92.24759722699176,
          105.6406718606914,
          78.22706723614927,
          106.21532595009157,
          104.95522908081502,
          95.4783453525641,
          115.14477914663462,
          98.00697222699176,
          133.34018286401098,
          120.01927119104853,
          103.66985247825092,
          98.36967862866301,
          72.67672382955585,
          103.66783353365385,
          81.76022350045787,
          78.97306082589286,
          83.91678685897436,
          107.39958612351191,
          83.69398394574176,
          75.44243360805861,
          81.09404439961081,
          103.07012469951923,
          102.21488703353938,
          108.58970388335622
         ],
         "xaxis": "x",
         "y": [
          "R",
          "R",
          "R",
          "R",
          "R",
          "R",
          "R",
          "R",
          "R",
          "R",
          "R",
          "R",
          "R",
          "R",
          "R",
          "R",
          "R",
          "R",
          "R",
          "R",
          "R",
          "R",
          "R",
          "R",
          "R",
          "R",
          "R",
          "R",
          "R",
          "R",
          "R",
          "R",
          "R",
          "R",
          "R",
          "R",
          "R",
          "R",
          "R",
          "R",
          "R",
          "R",
          "R",
          "R",
          "R",
          "R",
          "R",
          "R",
          "R",
          "R",
          "R",
          "R",
          "R",
          "R",
          "R",
          "R",
          "R",
          "R",
          "R",
          "R",
          "R",
          "R",
          "R",
          "R",
          "R",
          "R",
          "R",
          "R",
          "R",
          "R",
          "R",
          "R",
          "R",
          "R",
          "R",
          "R",
          "R",
          "R",
          "R",
          "R",
          "R",
          "R",
          "R",
          "R",
          "R",
          "R",
          "R",
          "R",
          "R",
          "R",
          "R",
          "R",
          "R",
          "R",
          "R",
          "R",
          "R",
          "R",
          "R",
          "R"
         ],
         "yaxis": "y2"
        }
       ],
       "layout": {
        "barmode": "overlay",
        "hovermode": "closest",
        "legend": {
         "traceorder": "reversed"
        },
        "showlegend": false,
        "template": {
         "data": {
          "bar": [
           {
            "error_x": {
             "color": "rgb(36,36,36)"
            },
            "error_y": {
             "color": "rgb(36,36,36)"
            },
            "marker": {
             "line": {
              "color": "white",
              "width": 0.5
             },
             "pattern": {
              "fillmode": "overlay",
              "size": 10,
              "solidity": 0.2
             }
            },
            "type": "bar"
           }
          ],
          "barpolar": [
           {
            "marker": {
             "line": {
              "color": "white",
              "width": 0.5
             },
             "pattern": {
              "fillmode": "overlay",
              "size": 10,
              "solidity": 0.2
             }
            },
            "type": "barpolar"
           }
          ],
          "carpet": [
           {
            "aaxis": {
             "endlinecolor": "rgb(36,36,36)",
             "gridcolor": "white",
             "linecolor": "white",
             "minorgridcolor": "white",
             "startlinecolor": "rgb(36,36,36)"
            },
            "baxis": {
             "endlinecolor": "rgb(36,36,36)",
             "gridcolor": "white",
             "linecolor": "white",
             "minorgridcolor": "white",
             "startlinecolor": "rgb(36,36,36)"
            },
            "type": "carpet"
           }
          ],
          "choropleth": [
           {
            "colorbar": {
             "outlinewidth": 1,
             "tickcolor": "rgb(36,36,36)",
             "ticks": "outside"
            },
            "type": "choropleth"
           }
          ],
          "contour": [
           {
            "colorbar": {
             "outlinewidth": 1,
             "tickcolor": "rgb(36,36,36)",
             "ticks": "outside"
            },
            "colorscale": [
             [
              0,
              "#440154"
             ],
             [
              0.1111111111111111,
              "#482878"
             ],
             [
              0.2222222222222222,
              "#3e4989"
             ],
             [
              0.3333333333333333,
              "#31688e"
             ],
             [
              0.4444444444444444,
              "#26828e"
             ],
             [
              0.5555555555555556,
              "#1f9e89"
             ],
             [
              0.6666666666666666,
              "#35b779"
             ],
             [
              0.7777777777777778,
              "#6ece58"
             ],
             [
              0.8888888888888888,
              "#b5de2b"
             ],
             [
              1,
              "#fde725"
             ]
            ],
            "type": "contour"
           }
          ],
          "contourcarpet": [
           {
            "colorbar": {
             "outlinewidth": 1,
             "tickcolor": "rgb(36,36,36)",
             "ticks": "outside"
            },
            "type": "contourcarpet"
           }
          ],
          "heatmap": [
           {
            "colorbar": {
             "outlinewidth": 1,
             "tickcolor": "rgb(36,36,36)",
             "ticks": "outside"
            },
            "colorscale": [
             [
              0,
              "#440154"
             ],
             [
              0.1111111111111111,
              "#482878"
             ],
             [
              0.2222222222222222,
              "#3e4989"
             ],
             [
              0.3333333333333333,
              "#31688e"
             ],
             [
              0.4444444444444444,
              "#26828e"
             ],
             [
              0.5555555555555556,
              "#1f9e89"
             ],
             [
              0.6666666666666666,
              "#35b779"
             ],
             [
              0.7777777777777778,
              "#6ece58"
             ],
             [
              0.8888888888888888,
              "#b5de2b"
             ],
             [
              1,
              "#fde725"
             ]
            ],
            "type": "heatmap"
           }
          ],
          "heatmapgl": [
           {
            "colorbar": {
             "outlinewidth": 1,
             "tickcolor": "rgb(36,36,36)",
             "ticks": "outside"
            },
            "colorscale": [
             [
              0,
              "#440154"
             ],
             [
              0.1111111111111111,
              "#482878"
             ],
             [
              0.2222222222222222,
              "#3e4989"
             ],
             [
              0.3333333333333333,
              "#31688e"
             ],
             [
              0.4444444444444444,
              "#26828e"
             ],
             [
              0.5555555555555556,
              "#1f9e89"
             ],
             [
              0.6666666666666666,
              "#35b779"
             ],
             [
              0.7777777777777778,
              "#6ece58"
             ],
             [
              0.8888888888888888,
              "#b5de2b"
             ],
             [
              1,
              "#fde725"
             ]
            ],
            "type": "heatmapgl"
           }
          ],
          "histogram": [
           {
            "marker": {
             "line": {
              "color": "white",
              "width": 0.6
             }
            },
            "type": "histogram"
           }
          ],
          "histogram2d": [
           {
            "colorbar": {
             "outlinewidth": 1,
             "tickcolor": "rgb(36,36,36)",
             "ticks": "outside"
            },
            "colorscale": [
             [
              0,
              "#440154"
             ],
             [
              0.1111111111111111,
              "#482878"
             ],
             [
              0.2222222222222222,
              "#3e4989"
             ],
             [
              0.3333333333333333,
              "#31688e"
             ],
             [
              0.4444444444444444,
              "#26828e"
             ],
             [
              0.5555555555555556,
              "#1f9e89"
             ],
             [
              0.6666666666666666,
              "#35b779"
             ],
             [
              0.7777777777777778,
              "#6ece58"
             ],
             [
              0.8888888888888888,
              "#b5de2b"
             ],
             [
              1,
              "#fde725"
             ]
            ],
            "type": "histogram2d"
           }
          ],
          "histogram2dcontour": [
           {
            "colorbar": {
             "outlinewidth": 1,
             "tickcolor": "rgb(36,36,36)",
             "ticks": "outside"
            },
            "colorscale": [
             [
              0,
              "#440154"
             ],
             [
              0.1111111111111111,
              "#482878"
             ],
             [
              0.2222222222222222,
              "#3e4989"
             ],
             [
              0.3333333333333333,
              "#31688e"
             ],
             [
              0.4444444444444444,
              "#26828e"
             ],
             [
              0.5555555555555556,
              "#1f9e89"
             ],
             [
              0.6666666666666666,
              "#35b779"
             ],
             [
              0.7777777777777778,
              "#6ece58"
             ],
             [
              0.8888888888888888,
              "#b5de2b"
             ],
             [
              1,
              "#fde725"
             ]
            ],
            "type": "histogram2dcontour"
           }
          ],
          "mesh3d": [
           {
            "colorbar": {
             "outlinewidth": 1,
             "tickcolor": "rgb(36,36,36)",
             "ticks": "outside"
            },
            "type": "mesh3d"
           }
          ],
          "parcoords": [
           {
            "line": {
             "colorbar": {
              "outlinewidth": 1,
              "tickcolor": "rgb(36,36,36)",
              "ticks": "outside"
             }
            },
            "type": "parcoords"
           }
          ],
          "pie": [
           {
            "automargin": true,
            "type": "pie"
           }
          ],
          "scatter": [
           {
            "fillpattern": {
             "fillmode": "overlay",
             "size": 10,
             "solidity": 0.2
            },
            "type": "scatter"
           }
          ],
          "scatter3d": [
           {
            "line": {
             "colorbar": {
              "outlinewidth": 1,
              "tickcolor": "rgb(36,36,36)",
              "ticks": "outside"
             }
            },
            "marker": {
             "colorbar": {
              "outlinewidth": 1,
              "tickcolor": "rgb(36,36,36)",
              "ticks": "outside"
             }
            },
            "type": "scatter3d"
           }
          ],
          "scattercarpet": [
           {
            "marker": {
             "colorbar": {
              "outlinewidth": 1,
              "tickcolor": "rgb(36,36,36)",
              "ticks": "outside"
             }
            },
            "type": "scattercarpet"
           }
          ],
          "scattergeo": [
           {
            "marker": {
             "colorbar": {
              "outlinewidth": 1,
              "tickcolor": "rgb(36,36,36)",
              "ticks": "outside"
             }
            },
            "type": "scattergeo"
           }
          ],
          "scattergl": [
           {
            "marker": {
             "colorbar": {
              "outlinewidth": 1,
              "tickcolor": "rgb(36,36,36)",
              "ticks": "outside"
             }
            },
            "type": "scattergl"
           }
          ],
          "scattermapbox": [
           {
            "marker": {
             "colorbar": {
              "outlinewidth": 1,
              "tickcolor": "rgb(36,36,36)",
              "ticks": "outside"
             }
            },
            "type": "scattermapbox"
           }
          ],
          "scatterpolar": [
           {
            "marker": {
             "colorbar": {
              "outlinewidth": 1,
              "tickcolor": "rgb(36,36,36)",
              "ticks": "outside"
             }
            },
            "type": "scatterpolar"
           }
          ],
          "scatterpolargl": [
           {
            "marker": {
             "colorbar": {
              "outlinewidth": 1,
              "tickcolor": "rgb(36,36,36)",
              "ticks": "outside"
             }
            },
            "type": "scatterpolargl"
           }
          ],
          "scatterternary": [
           {
            "marker": {
             "colorbar": {
              "outlinewidth": 1,
              "tickcolor": "rgb(36,36,36)",
              "ticks": "outside"
             }
            },
            "type": "scatterternary"
           }
          ],
          "surface": [
           {
            "colorbar": {
             "outlinewidth": 1,
             "tickcolor": "rgb(36,36,36)",
             "ticks": "outside"
            },
            "colorscale": [
             [
              0,
              "#440154"
             ],
             [
              0.1111111111111111,
              "#482878"
             ],
             [
              0.2222222222222222,
              "#3e4989"
             ],
             [
              0.3333333333333333,
              "#31688e"
             ],
             [
              0.4444444444444444,
              "#26828e"
             ],
             [
              0.5555555555555556,
              "#1f9e89"
             ],
             [
              0.6666666666666666,
              "#35b779"
             ],
             [
              0.7777777777777778,
              "#6ece58"
             ],
             [
              0.8888888888888888,
              "#b5de2b"
             ],
             [
              1,
              "#fde725"
             ]
            ],
            "type": "surface"
           }
          ],
          "table": [
           {
            "cells": {
             "fill": {
              "color": "rgb(237,237,237)"
             },
             "line": {
              "color": "white"
             }
            },
            "header": {
             "fill": {
              "color": "rgb(217,217,217)"
             },
             "line": {
              "color": "white"
             }
            },
            "type": "table"
           }
          ]
         },
         "layout": {
          "annotationdefaults": {
           "arrowhead": 0,
           "arrowwidth": 1
          },
          "autotypenumbers": "strict",
          "coloraxis": {
           "colorbar": {
            "outlinewidth": 1,
            "tickcolor": "rgb(36,36,36)",
            "ticks": "outside"
           }
          },
          "colorscale": {
           "diverging": [
            [
             0,
             "rgb(103,0,31)"
            ],
            [
             0.1,
             "rgb(178,24,43)"
            ],
            [
             0.2,
             "rgb(214,96,77)"
            ],
            [
             0.3,
             "rgb(244,165,130)"
            ],
            [
             0.4,
             "rgb(253,219,199)"
            ],
            [
             0.5,
             "rgb(247,247,247)"
            ],
            [
             0.6,
             "rgb(209,229,240)"
            ],
            [
             0.7,
             "rgb(146,197,222)"
            ],
            [
             0.8,
             "rgb(67,147,195)"
            ],
            [
             0.9,
             "rgb(33,102,172)"
            ],
            [
             1,
             "rgb(5,48,97)"
            ]
           ],
           "sequential": [
            [
             0,
             "#440154"
            ],
            [
             0.1111111111111111,
             "#482878"
            ],
            [
             0.2222222222222222,
             "#3e4989"
            ],
            [
             0.3333333333333333,
             "#31688e"
            ],
            [
             0.4444444444444444,
             "#26828e"
            ],
            [
             0.5555555555555556,
             "#1f9e89"
            ],
            [
             0.6666666666666666,
             "#35b779"
            ],
            [
             0.7777777777777778,
             "#6ece58"
            ],
            [
             0.8888888888888888,
             "#b5de2b"
            ],
            [
             1,
             "#fde725"
            ]
           ],
           "sequentialminus": [
            [
             0,
             "#440154"
            ],
            [
             0.1111111111111111,
             "#482878"
            ],
            [
             0.2222222222222222,
             "#3e4989"
            ],
            [
             0.3333333333333333,
             "#31688e"
            ],
            [
             0.4444444444444444,
             "#26828e"
            ],
            [
             0.5555555555555556,
             "#1f9e89"
            ],
            [
             0.6666666666666666,
             "#35b779"
            ],
            [
             0.7777777777777778,
             "#6ece58"
            ],
            [
             0.8888888888888888,
             "#b5de2b"
            ],
            [
             1,
             "#fde725"
            ]
           ]
          },
          "colorway": [
           "#1F77B4",
           "#FF7F0E",
           "#2CA02C",
           "#D62728",
           "#9467BD",
           "#8C564B",
           "#E377C2",
           "#7F7F7F",
           "#BCBD22",
           "#17BECF"
          ],
          "font": {
           "color": "rgb(36,36,36)"
          },
          "geo": {
           "bgcolor": "white",
           "lakecolor": "white",
           "landcolor": "white",
           "showlakes": true,
           "showland": true,
           "subunitcolor": "white"
          },
          "hoverlabel": {
           "align": "left"
          },
          "hovermode": "closest",
          "mapbox": {
           "style": "light"
          },
          "paper_bgcolor": "white",
          "plot_bgcolor": "white",
          "polar": {
           "angularaxis": {
            "gridcolor": "rgb(232,232,232)",
            "linecolor": "rgb(36,36,36)",
            "showgrid": false,
            "showline": true,
            "ticks": "outside"
           },
           "bgcolor": "white",
           "radialaxis": {
            "gridcolor": "rgb(232,232,232)",
            "linecolor": "rgb(36,36,36)",
            "showgrid": false,
            "showline": true,
            "ticks": "outside"
           }
          },
          "scene": {
           "xaxis": {
            "backgroundcolor": "white",
            "gridcolor": "rgb(232,232,232)",
            "gridwidth": 2,
            "linecolor": "rgb(36,36,36)",
            "showbackground": true,
            "showgrid": false,
            "showline": true,
            "ticks": "outside",
            "zeroline": false,
            "zerolinecolor": "rgb(36,36,36)"
           },
           "yaxis": {
            "backgroundcolor": "white",
            "gridcolor": "rgb(232,232,232)",
            "gridwidth": 2,
            "linecolor": "rgb(36,36,36)",
            "showbackground": true,
            "showgrid": false,
            "showline": true,
            "ticks": "outside",
            "zeroline": false,
            "zerolinecolor": "rgb(36,36,36)"
           },
           "zaxis": {
            "backgroundcolor": "white",
            "gridcolor": "rgb(232,232,232)",
            "gridwidth": 2,
            "linecolor": "rgb(36,36,36)",
            "showbackground": true,
            "showgrid": false,
            "showline": true,
            "ticks": "outside",
            "zeroline": false,
            "zerolinecolor": "rgb(36,36,36)"
           }
          },
          "shapedefaults": {
           "fillcolor": "black",
           "line": {
            "width": 0
           },
           "opacity": 0.3
          },
          "ternary": {
           "aaxis": {
            "gridcolor": "rgb(232,232,232)",
            "linecolor": "rgb(36,36,36)",
            "showgrid": false,
            "showline": true,
            "ticks": "outside"
           },
           "baxis": {
            "gridcolor": "rgb(232,232,232)",
            "linecolor": "rgb(36,36,36)",
            "showgrid": false,
            "showline": true,
            "ticks": "outside"
           },
           "bgcolor": "white",
           "caxis": {
            "gridcolor": "rgb(232,232,232)",
            "linecolor": "rgb(36,36,36)",
            "showgrid": false,
            "showline": true,
            "ticks": "outside"
           }
          },
          "title": {
           "x": 0.05
          },
          "xaxis": {
           "automargin": true,
           "gridcolor": "rgb(232,232,232)",
           "linecolor": "rgb(36,36,36)",
           "showgrid": false,
           "showline": true,
           "ticks": "outside",
           "title": {
            "standoff": 15
           },
           "zeroline": false,
           "zerolinecolor": "rgb(36,36,36)"
          },
          "yaxis": {
           "automargin": true,
           "gridcolor": "rgb(232,232,232)",
           "linecolor": "rgb(36,36,36)",
           "showgrid": false,
           "showline": true,
           "ticks": "outside",
           "title": {
            "standoff": 15
           },
           "zeroline": false,
           "zerolinecolor": "rgb(36,36,36)"
          }
         }
        },
        "title": {
         "text": "Distribution of red channel values"
        },
        "xaxis": {
         "anchor": "y2",
         "domain": [
          0,
          1
         ],
         "zeroline": false
        },
        "yaxis": {
         "anchor": "free",
         "domain": [
          0.35,
          1
         ],
         "position": 0
        },
        "yaxis2": {
         "anchor": "x",
         "domain": [
          0,
          0.25
         ],
         "dtick": 1,
         "showticklabels": false
        }
       }
      }
     },
     "metadata": {},
     "output_type": "display_data"
    }
   ],
   "source": [
    "fig = ff.create_distplot([red_values], group_labels=[\"R\"], colors=[\"red\"])\n",
    "fig.update_layout(showlegend=False, template=\"simple_white\")\n",
    "fig.update_layout(title_text=\"Distribution of red channel values\")\n",
    "fig.data[0].marker.line.color = 'rgb(0, 0, 0)'\n",
    "fig.data[0].marker.line.width = 0.5\n",
    "fig\n"
   ]
  },
  {
   "cell_type": "code",
   "execution_count": 10,
   "metadata": {},
   "outputs": [
    {
     "data": {
      "application/vnd.plotly.v1+json": {
       "config": {
        "plotlyServerURL": "https://plot.ly"
       },
       "data": [
        {
         "autobinx": false,
         "histnorm": "probability density",
         "legendgroup": "G",
         "marker": {
          "color": "green",
          "line": {
           "color": "rgb(0, 0, 0)",
           "width": 0.5
          }
         },
         "name": "G",
         "opacity": 0.7,
         "type": "histogram",
         "x": [
          125.92051174736721,
          142.04248511904763,
          147.17633284684067,
          152.63441363324176,
          125.93263400011448,
          142.17530906593407,
          141.76107486263737,
          135.82183958619507,
          116.58945133642399,
          111.6365978422619,
          117.46722291380495,
          141.87390646462913,
          147.67051639766484,
          138.39030234088827,
          124.32840652186356,
          132.68838927999084,
          144.87796724759616,
          138.24785549736723,
          138.6452141283196,
          118.42165929773351,
          139.8699916294643,
          109.21282516311813,
          146.49287645947803,
          115.73733867044415,
          107.67479824862637,
          140.31908911401098,
          126.42100467891484,
          148.18821757669414,
          143.31768687042126,
          79.9801253434066,
          134.21875500801283,
          140.68833991529303,
          115.58296989468865,
          125.65292396405678,
          137.33922347184065,
          124.19690469036172,
          123.82649381868131,
          101.40667997367215,
          165.22452888907966,
          113.97647807921246,
          151.86402565533425,
          131.4567812070742,
          174.4321775555174,
          142.42380058092948,
          133.10494505494506,
          111.41704369848901,
          122.14730962396978,
          124.04589092548076,
          136.6264380151099,
          113.99266183035714,
          136.3545891283196,
          106.09490685096154,
          139.5470932062729,
          107.73340308779763,
          150.36383034283426,
          140.93647049565018,
          156.6292535914606,
          119.47179022149726,
          126.89968556833792,
          129.84123883928572,
          125.9137190934066,
          163.3794624971383,
          157.16527658539377,
          115.74458598042582,
          160.912404132326,
          127.02376445169413,
          140.4215866815476,
          141.1545644459707,
          129.2410445999313,
          147.44786694425366,
          131.3172601161859,
          140.41967075892856,
          129.93126073145604,
          113.06446385645604,
          139.96902722928112,
          136.3576948116987,
          135.15144445398352,
          135.66048964056776,
          111.0792961595696,
          125.68986735920329,
          137.86536672962455,
          121.2737297533196,
          133.7967762706044,
          116.81734954498626,
          157.2044900412088,
          140.50851791437728,
          127.42354302598443,
          141.4670157967033,
          100.14452302255036,
          122.62815182864011,
          127.97022951007327,
          117.38370464171246,
          123.04548778044872,
          127.03663075206045,
          112.15408868475275,
          117.24751996050824,
          110.38206201350732,
          139.64395747481686,
          126.36933915693682,
          131.7125250400641
         ],
         "xaxis": "x",
         "xbins": {
          "end": 174.4321775555174,
          "size": 1,
          "start": 79.9801253434066
         },
         "yaxis": "y"
        },
        {
         "legendgroup": "G",
         "marker": {
          "color": "green"
         },
         "mode": "lines",
         "name": "G",
         "showlegend": false,
         "type": "scatter",
         "x": [
          79.9801253434066,
          80.16902944783082,
          80.35793355225505,
          80.54683765667926,
          80.73574176110348,
          80.92464586552771,
          81.11354996995193,
          81.30245407437614,
          81.49135817880037,
          81.6802622832246,
          81.86916638764882,
          82.05807049207304,
          82.24697459649725,
          82.43587870092148,
          82.6247828053457,
          82.81368690976993,
          83.00259101419414,
          83.19149511861836,
          83.38039922304259,
          83.56930332746681,
          83.75820743189104,
          83.94711153631525,
          84.13601564073947,
          84.3249197451637,
          84.51382384958792,
          84.70272795401213,
          84.89163205843636,
          85.08053616286058,
          85.2694402672848,
          85.45834437170902,
          85.64724847613324,
          85.83615258055747,
          86.02505668498169,
          86.21396078940592,
          86.40286489383013,
          86.59176899825435,
          86.78067310267858,
          86.9695772071028,
          87.15848131152703,
          87.34738541595124,
          87.53628952037546,
          87.72519362479969,
          87.91409772922391,
          88.10300183364812,
          88.29190593807235,
          88.48081004249657,
          88.6697141469208,
          88.858618251345,
          89.04752235576923,
          89.23642646019346,
          89.42533056461768,
          89.6142346690419,
          89.80313877346612,
          89.99204287789034,
          90.18094698231457,
          90.36985108673879,
          90.558755191163,
          90.74765929558723,
          90.93656340001145,
          91.12546750443568,
          91.31437160885989,
          91.50327571328411,
          91.69217981770834,
          91.88108392213256,
          92.06998802655679,
          92.258892130981,
          92.44779623540522,
          92.63670033982945,
          92.82560444425367,
          93.0145085486779,
          93.2034126531021,
          93.39231675752633,
          93.58122086195056,
          93.77012496637478,
          93.959029070799,
          94.14793317522322,
          94.33683727964744,
          94.52574138407167,
          94.71464548849589,
          94.9035495929201,
          95.09245369734433,
          95.28135780176855,
          95.47026190619277,
          95.65916601061699,
          95.84807011504121,
          96.03697421946543,
          96.22587832388966,
          96.41478242831388,
          96.6036865327381,
          96.79259063716232,
          96.98149474158654,
          97.17039884601077,
          97.359302950435,
          97.5482070548592,
          97.73711115928343,
          97.92601526370765,
          98.11491936813186,
          98.30382347255609,
          98.49272757698031,
          98.68163168140454,
          98.87053578582876,
          99.05943989025297,
          99.2483439946772,
          99.43724809910142,
          99.62615220352565,
          99.81505630794987,
          100.00396041237408,
          100.19286451679831,
          100.38176862122253,
          100.57067272564674,
          100.75957683007098,
          100.9484809344952,
          101.13738503891942,
          101.32628914334364,
          101.51519324776785,
          101.70409735219208,
          101.8930014566163,
          102.08190556104053,
          102.27080966546475,
          102.45971376988896,
          102.64861787431319,
          102.83752197873741,
          103.02642608316164,
          103.21533018758586,
          103.40423429201007,
          103.5931383964343,
          103.78204250085852,
          103.97094660528273,
          104.15985070970696,
          104.34875481413118,
          104.53765891855541,
          104.72656302297963,
          104.91546712740384,
          105.10437123182807,
          105.2932753362523,
          105.48217944067652,
          105.67108354510074,
          105.85998764952495,
          106.04889175394918,
          106.2377958583734,
          106.42669996279761,
          106.61560406722185,
          106.80450817164606,
          106.99341227607029,
          107.18231638049451,
          107.37122048491872,
          107.56012458934295,
          107.74902869376717,
          107.9379327981914,
          108.12683690261562,
          108.31574100703983,
          108.50464511146406,
          108.69354921588828,
          108.88245332031251,
          109.07135742473673,
          109.26026152916094,
          109.44916563358517,
          109.63806973800939,
          109.8269738424336,
          110.01587794685783,
          110.20478205128205,
          110.39368615570628,
          110.5825902601305,
          110.77149436455471,
          110.96039846897894,
          111.14930257340316,
          111.33820667782739,
          111.52711078225161,
          111.71601488667582,
          111.90491899110005,
          112.09382309552427,
          112.28272719994848,
          112.47163130437272,
          112.66053540879693,
          112.84943951322116,
          113.03834361764538,
          113.22724772206959,
          113.41615182649383,
          113.60505593091804,
          113.79396003534227,
          113.98286413976649,
          114.1717682441907,
          114.36067234861494,
          114.54957645303915,
          114.73848055746338,
          114.9273846618876,
          115.11628876631181,
          115.30519287073604,
          115.49409697516026,
          115.68300107958449,
          115.87190518400871,
          116.06080928843292,
          116.24971339285715,
          116.43861749728137,
          116.62752160170558,
          116.8164257061298,
          117.00532981055403,
          117.19423391497826,
          117.38313801940248,
          117.57204212382669,
          117.76094622825092,
          117.94985033267514,
          118.13875443709935,
          118.32765854152359,
          118.5165626459478,
          118.70546675037203,
          118.89437085479625,
          119.08327495922046,
          119.2721790636447,
          119.46108316806891,
          119.64998727249314,
          119.83889137691736,
          120.02779548134157,
          120.21669958576581,
          120.40560369019002,
          120.59450779461424,
          120.78341189903847,
          120.97231600346268,
          121.1612201078869,
          121.35012421231113,
          121.53902831673535,
          121.72793242115958,
          121.91683652558379,
          122.10574063000801,
          122.29464473443224,
          122.48354883885645,
          122.67245294328067,
          122.8613570477049,
          123.05026115212912,
          123.23916525655335,
          123.42806936097756,
          123.61697346540178,
          123.80587756982601,
          123.99478167425022,
          124.18368577867446,
          124.37258988309867,
          124.56149398752291,
          124.75039809194712,
          124.93930219637133,
          125.12820630079557,
          125.31711040521978,
          125.506014509644,
          125.69491861406823,
          125.88382271849245,
          126.07272682291668,
          126.26163092734089,
          126.45053503176511,
          126.63943913618934,
          126.82834324061355,
          127.01724734503777,
          127.206151449462,
          127.39505555388622,
          127.58395965831045,
          127.77286376273466,
          127.96176786715888,
          128.1506719715831,
          128.33957607600732,
          128.52848018043153,
          128.71738428485577,
          128.90628838928,
          129.09519249370422,
          129.28409659812843,
          129.47300070255267,
          129.66190480697688,
          129.8508089114011,
          130.03971301582533,
          130.22861712024954,
          130.41752122467378,
          130.606425329098,
          130.7953294335222,
          130.98423353794644,
          131.17313764237065,
          131.3620417467949,
          131.5509458512191,
          131.7398499556433,
          131.92875406006755,
          132.11765816449176,
          132.30656226891597,
          132.4954663733402,
          132.68437047776442,
          132.87327458218863,
          133.06217868661287,
          133.2510827910371,
          133.43998689546132,
          133.62889099988553,
          133.81779510430977,
          134.00669920873398,
          134.1956033131582,
          134.38450741758243,
          134.57341152200664,
          134.76231562643085,
          134.9512197308551,
          135.1401238352793,
          135.32902793970354,
          135.51793204412775,
          135.70683614855196,
          135.8957402529762,
          136.0846443574004,
          136.27354846182465,
          136.46245256624886,
          136.65135667067307,
          136.8402607750973,
          137.02916487952152,
          137.21806898394573,
          137.40697308836997,
          137.5958771927942,
          137.78478129721842,
          137.97368540164263,
          138.16258950606687,
          138.35149361049108,
          138.5403977149153,
          138.72930181933953,
          138.91820592376374,
          139.10711002818795,
          139.29601413261219,
          139.4849182370364,
          139.6738223414606,
          139.86272644588485,
          140.05163055030906,
          140.2405346547333,
          140.4294387591575,
          140.61834286358174,
          140.80724696800596,
          140.99615107243017,
          141.1850551768544,
          141.37395928127862,
          141.56286338570283,
          141.75176749012707,
          141.94067159455128,
          142.12957569897551,
          142.31847980339973,
          142.50738390782396,
          142.69628801224817,
          142.88519211667239,
          143.07409622109662,
          143.26300032552084,
          143.45190442994505,
          143.64080853436928,
          143.8297126387935,
          144.0186167432177,
          144.20752084764194,
          144.39642495206618,
          144.58532905649037,
          144.7742331609146,
          144.96313726533884,
          145.15204136976305,
          145.34094547418727,
          145.5298495786115,
          145.71875368303571,
          145.90765778745993,
          146.09656189188416,
          146.28546599630837,
          146.47437010073259,
          146.66327420515682,
          146.85217830958106,
          147.04108241400527,
          147.22998651842948,
          147.41889062285372,
          147.60779472727793,
          147.79669883170214,
          147.98560293612638,
          148.1745070405506,
          148.3634111449748,
          148.55231524939904,
          148.74121935382328,
          148.93012345824746,
          149.1190275626717,
          149.30793166709591,
          149.49683577152015,
          149.68573987594436,
          149.8746439803686,
          150.0635480847928,
          150.25245218921702,
          150.44135629364126,
          150.63026039806547,
          150.81916450248968,
          151.00806860691392,
          151.19697271133816,
          151.38587681576237,
          151.57478092018658,
          151.76368502461082,
          151.952589129035,
          152.14149323345924,
          152.33039733788348,
          152.5193014423077,
          152.7082055467319,
          152.89710965115614,
          153.08601375558038,
          153.27491786000456,
          153.4638219644288,
          153.652726068853,
          153.84163017327722,
          154.03053427770146,
          154.2194383821257,
          154.4083424865499,
          154.59724659097412,
          154.78615069539836,
          154.97505479982257,
          155.16395890424678,
          155.35286300867102,
          155.54176711309523,
          155.73067121751947,
          155.91957532194368,
          156.10847942636792,
          156.2973835307921,
          156.48628763521634,
          156.67519173964058,
          156.8640958440648,
          157.052999948489,
          157.24190405291324,
          157.43080815733745,
          157.61971226176166,
          157.8086163661859,
          157.9975204706101,
          158.18642457503432,
          158.37532867945856,
          158.5642327838828,
          158.753136888307,
          158.94204099273122,
          159.13094509715546,
          159.31984920157967,
          159.50875330600388,
          159.69765741042812,
          159.88656151485233,
          160.07546561927654,
          160.26436972370078,
          160.45327382812502,
          160.6421779325492,
          160.83108203697344,
          161.01998614139765,
          161.2088902458219,
          161.3977943502461,
          161.58669845467034,
          161.77560255909455,
          161.96450666351876,
          162.153410767943,
          162.3423148723672,
          162.53121897679142,
          162.72012308121566,
          162.9090271856399,
          163.0979312900641,
          163.28683539448832,
          163.47573949891256,
          163.66464360333674,
          163.85354770776098,
          164.04245181218522,
          164.23135591660943,
          164.42026002103364,
          164.60916412545788,
          164.79806822988212,
          164.9869723343063,
          165.17587643873054,
          165.36478054315475,
          165.553684647579,
          165.7425887520032,
          165.93149285642744,
          166.12039696085165,
          166.30930106527586,
          166.4982051697001,
          166.6871092741243,
          166.87601337854852,
          167.06491748297276,
          167.25382158739697,
          167.4427256918212,
          167.63162979624542,
          167.82053390066966,
          168.00943800509384,
          168.19834210951808,
          168.38724621394232,
          168.57615031836653,
          168.76505442279074,
          168.95395852721498,
          169.14286263163922,
          169.3317667360634,
          169.52067084048764,
          169.70957494491185,
          169.89847904933606,
          170.0873831537603,
          170.27628725818454,
          170.46519136260875,
          170.65409546703296,
          170.8429995714572,
          171.0319036758814,
          171.22080778030562,
          171.40971188472986,
          171.59861598915407,
          171.7875200935783,
          171.97642419800252,
          172.16532830242676,
          172.35423240685094,
          172.54313651127518,
          172.73204061569942,
          172.92094472012363,
          173.10984882454784,
          173.29875292897208,
          173.4876570333963,
          173.6765611378205,
          173.86546524224474,
          174.05436934666895,
          174.24327345109316
         ],
         "xaxis": "x",
         "y": [
          0.0006454782803547105,
          0.0006457501031837526,
          0.0006454890466239323,
          0.0006447021196074053,
          0.000643398256724405,
          0.0006415883158406272,
          0.0006392850687297942,
          0.0006365031848351248,
          0.0006332592083131856,
          0.0006295715285516069,
          0.0006254603443881794,
          0.0006209476222925592,
          0.0006160570488030114,
          0.0006108139775390663,
          0.0006052453711364389,
          0.0005993797384729544,
          0.0005932470675734004,
          0.0005868787545970729,
          0.0005803075293242949,
          0.0005735673775673314,
          0.0005666934609369113,
          0.0005597220343981121,
          0.0005526903620486565,
          0.0005456366315489956,
          0.0005385998676268651,
          0.0005316198450696838,
          0.000524737001606295,
          0.0005179923510653692,
          0.0005114273971816281,
          0.0005050840484030545,
          0.0004990045340327737,
          0.0004932313220186083,
          0.000487807038681595,
          0.0004827743906524595,
          0.00047817608926227804,
          0.00047405477761066825,
          0.00047045296051210394,
          0.0004674129374984698,
          0.00046497673903413736,
          0.0004631860660786771,
          0.0004620822331121108,
          0.00046170611471843976,
          0.00046209809580515817,
          0.00046329802551970734,
          0.0004653451749083398,
          0.0004682781983487067,
          0.0004721350987746129,
          0.0004769531966998058,
          0.0004827691030372383,
          0.0004896186957009768,
          0.0004975370999695803,
          0.0005065586725823309,
          0.0005167169895328757,
          0.0005280448375185786,
          0.0005405742089978978,
          0.0005543363008022714,
          0.0005693615162430763,
          0.0005856794706480411,
          0.0006033190002547849,
          0.0006223081743819156,
          0.0006426743107898668,
          0.0006644439941345981,
          0.0006876430974069012,
          0.0007122968062386457,
          0.0007384296459443502,
          0.0007660655111522482,
          0.0007952276978634118,
          0.0008259389377603314,
          0.0008582214345680572,
          0.0008920969022512414,
          0.0009275866048095934,
          0.0009647113974125067,
          0.0010034917685908615,
          0.0010439478831810018,
          0.0010860996256922756,
          0.0011299666437460708,
          0.0011755683912112523,
          0.001222924170638203,
          0.0012720531745725083,
          0.0013229745253091232,
          0.0013757073126297635,
          0.0014302706290503443,
          0.0014866836020919268,
          0.0015449654230784108,
          0.0016051353719573219,
          0.0016672128376368708,
          0.0017312173333337625,
          0.0017971685064314092,
          0.0018650861423586884,
          0.0019349901620144966,
          0.002006900612283605,
          0.0020808376492153155,
          0.0021568215134671687,
          0.0022348724976528375,
          0.0023150109052752356,
          0.002397257000973086,
          0.0024816309518622096,
          0.0025681527598099417,
          0.0026568421845437652,
          0.002747718657561859,
          0.0028408011868841414,
          0.002936108252756674,
          0.003033657694499719,
          0.0031334665887697032,
          0.0032355511195870925,
          0.003339926440565278,
          0.00344660652985916,
          0.003555604038435537,
          0.003666930132349926,
          0.003780594329795472,
          0.0038966043337679388,
          0.004014965861265727,
          0.00413568247001603,
          0.0042587553837835,
          0.004384183317380133,
          0.004511962302549253,
          0.0046420855159446635,
          0.004774543110467123,
          0.0049093220512521135,
          0.0050464059576276745,
          0.005185774952375368,
          0.00532740551963322,
          0.00547127037277518,
          0.005617338333587179,
          0.005765574224035166,
          0.005915938771885751,
          0.006068388531394238,
          0.006222875820219782,
          0.006379348673660499,
          0.006537750817226453,
          0.006698021658481659,
          0.006860096298992108,
          0.007023905567112295,
          0.00718937607223061,
          0.007356430280973622,
          0.007524986615742352,
          0.007694959575819528,
          0.007866259881147732,
          0.00803879463873387,
          0.008212467531487935,
          0.008387179029151976,
          0.008562826620823206,
          0.00873930506841973,
          0.008916506680284798,
          0.0090943216039705,
          0.009272638137092493,
          0.009451343054998613,
          0.009630321953850555,
          0.009809459607580345,
          0.009988640337050858,
          0.010167748389625277,
          0.01034666832723535,
          0.010525285420930786,
          0.010703486049797714,
          0.01088115810204843,
          0.011058191376013706,
          0.011234477978709462,
          0.011409912719604764,
          0.01158439349718832,
          0.01175782167591515,
          0.011930102451116332,
          0.01210114519947231,
          0.012270863812683724,
          0.012439177012025461,
          0.012606008641537634,
          0.012771287937692529,
          0.012934949773480232,
          0.013096934874974752,
          0.013257190008579573,
          0.013415668137304793,
          0.013572328544596357,
          0.013727136924422664,
          0.013880065436521273,
          0.014031092725920688,
          0.014180203906075583,
          0.014327390505188341,
          0.014472650375534812,
          0.01461598756586352,
          0.014757412157196703,
          0.014896940062625392,
          0.015034592791955624,
          0.015170397182331501,
          0.015304385096224928,
          0.01543659308844586,
          0.015567062044082872,
          0.015695836789533343,
          0.01582296567902263,
          0.015948500159238033,
          0.016072494314916738,
          0.01619500439842332,
          0.01631608834653032,
          0.016435805287771995,
          0.0165542150438767,
          0.016671377628893085,
          0.016787352749709408,
          0.016902199311722547,
          0.01701597493344058,
          0.01712873547380148,
          0.017240534575957582,
          0.017351423231211995,
          0.01746144936669748,
          0.017570657460261645,
          0.01767908818586334,
          0.017786778092596878,
          0.017893759320239757,
          0.01800005935397304,
          0.018105700820645897,
          0.018210701328655654,
          0.018315073353187803,
          0.01841882416821398,
          0.018521955826279492,
          0.018624465186728917,
          0.01872634399262279,
          0.01882757899619189,
          0.018928152132262656,
          0.019028040738670756,
          0.019127217822263624,
          0.019225652368680596,
          0.0193233096936944,
          0.01942015183350417,
          0.019516137970992452,
          0.019611224894598052,
          0.019705367486119868,
          0.019798519233454367,
          0.019890632763986293,
          0.019981660394101226,
          0.020071554690071013,
          0.020160269035384502,
          0.020247758199454135,
          0.020333978902531333,
          0.020418890371605165,
          0.020502454882047598,
          0.020584638279799252,
          0.020665410478967076,
          0.020744745929826804,
          0.020822624052389365,
          0.02089902963090064,
          0.02097395316489626,
          0.02104739117272666,
          0.02111934644379962,
          0.021189828236156418,
          0.021258852416400003,
          0.02132644153942664,
          0.02139262486587314,
          0.021457438315675634,
          0.021520924356640565,
          0.021583131827447366,
          0.02164411569503534,
          0.02170393674686448,
          0.021762661219082744,
          0.02182036036217178,
          0.02187710994617689,
          0.021932989708150243,
          0.021988082744944754,
          0.022042474854984433,
          0.02209625383310276,
          0.022149508722978356,
          0.022202329032104062,
          0.022254803914597488,
          0.02230702132749529,
          0.022359067166466566,
          0.02241102438713081,
          0.022462972118369586,
          0.022514984774177783,
          0.02256713117070787,
          0.022619473655217555,
          0.022672067253637348,
          0.022724958843430572,
          0.022778186358320598,
          0.022831778031315763,
          0.022885751682263783,
          0.022940114055924825,
          0.022994860216259627,
          0.023049973002293483,
          0.023105422550539354,
          0.023161165888544062,
          0.023217146603668696,
          0.023273294590726048,
          0.023329525881580992,
          0.02338574255927691,
          0.02344183275868652,
          0.023497670755102888,
          0.023553117141591074,
          0.023608019095315583,
          0.02366221073245038,
          0.023715513550668133,
          0.023767736957601666,
          0.023818678883074155,
          0.0238681264723129,
          0.02391585685679635,
          0.023961637998842104,
          0.02400522960552604,
          0.024046384107035742,
          0.024084847694108,
          0.024120361408781796,
          0.024152662282321304,
          0.02418148451382789,
          0.02420656068276941,
          0.024227622988411655,
          0.024244404508941993,
          0.024256640472930014,
          0.02426406953567645,
          0.024266435052959053,
          0.02426348634469355,
          0.024254979941089112,
          0.024240680803989573,
          0.024220363516253837,
          0.024193813432239468,
          0.024160827782711558,
          0.024121216727800755,
          0.024074804351979923,
          0.02402142959541271,
          0.023960947116449166,
          0.023893228080497143,
          0.02381816087098299,
          0.023735651718624313,
          0.023645625245770255,
          0.023548024923113794,
          0.023442813436644904,
          0.023329972963284564,
          0.023209505354219524,
          0.023081432225533632,
          0.022945794956308243,
          0.022802654594929146,
          0.02265209167489395,
          0.022494205941950545,
          0.022329115994917333,
          0.02215695884303091,
          0.02197788938313503,
          0.021792079800462865,
          0.02159971889717165,
          0.021401011353157307,
          0.021196176924011767,
          0.02098544958127731,
          0.020769076600407516,
          0.020547317602053663,
          0.020320443552465265,
          0.0200887357289187,
          0.019852484656171107,
          0.01961198901997541,
          0.019367554563693067,
          0.019119492973996646,
          0.018868120761572762,
          0.018613758142616912,
          0.018356727926756033,
          0.01809735441684381,
          0.017835962325855822,
          0.017572875715860584,
          0.01730841696376896,
          0.017042905758265142,
          0.016776658132007002,
          0.01650998553284764,
          0.016243193937481765,
          0.01597658301056398,
          0.015710445311978818,
          0.015445065554572193,
          0.015180719914284196,
          0.014917675394252577,
          0.014656189244091468,
          0.014396508435191217,
          0.014138869192538418,
          0.013883496583216661,
          0.013630604161425818,
          0.013380393669551837,
          0.013133054794527496,
          0.012888764978453393,
          0.012647689282197717,
          0.012409980300462684,
          0.01217577812659456,
          0.01194521036522925,
          0.011718392190698396,
          0.011495426448979345,
          0.011276403800849984,
          0.011061402903812094,
          0.010850490630267638,
          0.010643722319374728,
          0.010441142059974077,
          0.010242783001955596,
          0.01004866769343479,
          0.009858808441123327,
          0.009673207691309367,
          0.009491858428907101,
          0.009314744592092108,
          0.009141841500109538,
          0.00897311629191867,
          0.00880852837342611,
          0.00864802987115502,
          0.008491566090297675,
          0.008339075975205137,
          0.008190492570476585,
          0.008045743480923937,
          0.007904751328798766,
          0.007767434206784219,
          0.007633706125366406,
          0.007503477453312706,
          0.007376655350093356,
          0.007253144189190848,
          0.007132845971344623,
          0.007015660726878932,
          0.006901486906357533,
          0.006790221758900187,
          0.006681761697581853,
          0.0065760026514177635,
          0.006472840403512597,
          0.006372170915024477,
          0.006273890634658793,
          0.006177896793469466,
          0.006084087684798909,
          0.005992362929240621,
          0.005902623724553283,
          0.005814773080497534,
          0.005728716038603517,
          0.005644359876911285,
          0.00556161429975531,
          0.005480391612691297,
          0.0054006068826864696,
          0.005322178083715269,
          0.0052450262279203266,
          0.005169075482515119,
          0.005094253272618483,
          0.005020490370224533,
          0.0049477209695227365,
          0.004875882748794287,
          0.004804916919120716,
          0.0047347682601510035,
          0.004665385143183247,
          0.004596719541827146,
          0.004528727030523642,
          0.004461366771209753,
          0.0043946014884279445,
          0.00432839743319171,
          0.004262724335933481,
          0.004197555348874532,
          0.004132866978172919,
          0.004068639006221871,
          0.00400485440448903,
          0.003941499237305755,
          0.0038785625570352763,
          0.0038160362910697222,
          0.003753915121126826,
          0.003692196355339348,
          0.003630879793652651,
          0.0035699675870683022,
          0.0035094640912938903,
          0.003449375715381454,
          0.0033897107659586253,
          0.0033304792876767972,
          0.003271692900520372,
          0.003213364634639156,
          0.003155508763381941,
          0.0030981406352233345,
          0.0030412765052877425,
          0.0029849333671833336,
          0.002929128785864205,
          0.002873880732242483,
          0.002819207420270327,
          0.002765127147207895,
          0.002711658137784123,
          0.002658818392945127,
          0.0026066255438676896,
          0.0025550967118941515,
          0.002504248375019784,
          0.0024540962415334476,
          0.00240465513137819,
          0.00235593886576029,
          0.002307960165492281,
          0.0022607305585095995,
          0.002214260296949873,
          0.00216855828413117,
          0.0021236320117083134,
          0.002079487507227702,
          0.002036129292239595,
          0.0019935603510633456,
          0.001951782110236534,
          0.0019107944286134728,
          0.0018705955980126577,
          0.001831182354246819,
          0.001792549898304412,
          0.0017546919273875722,
          0.0017176006754493999,
          0.0016812669628139194,
          0.001645680254405196,
          0.0016108287260585793,
          0.001576699338337224,
          0.0015432779172319137,
          0.001510549241081136,
          0.0014784971330127736,
          0.001447104558178338,
          0.0014163537250258876,
          0.001386226189838856,
          0.00135670296375488,
          0.0013277646214721942,
          0.001299391410850029,
          0.001271563362615127,
          0.0012442603993979395,
          0.0012174624433393423,
          0.0011911495215319254,
          0.0011653018685885766,
          0.0011399000256649236,
          0.0011149249353008342
         ],
         "yaxis": "y"
        },
        {
         "legendgroup": "G",
         "marker": {
          "color": "green",
          "symbol": "line-ns-open"
         },
         "mode": "markers",
         "name": "G",
         "showlegend": false,
         "type": "scatter",
         "x": [
          125.92051174736721,
          142.04248511904763,
          147.17633284684067,
          152.63441363324176,
          125.93263400011448,
          142.17530906593407,
          141.76107486263737,
          135.82183958619507,
          116.58945133642399,
          111.6365978422619,
          117.46722291380495,
          141.87390646462913,
          147.67051639766484,
          138.39030234088827,
          124.32840652186356,
          132.68838927999084,
          144.87796724759616,
          138.24785549736723,
          138.6452141283196,
          118.42165929773351,
          139.8699916294643,
          109.21282516311813,
          146.49287645947803,
          115.73733867044415,
          107.67479824862637,
          140.31908911401098,
          126.42100467891484,
          148.18821757669414,
          143.31768687042126,
          79.9801253434066,
          134.21875500801283,
          140.68833991529303,
          115.58296989468865,
          125.65292396405678,
          137.33922347184065,
          124.19690469036172,
          123.82649381868131,
          101.40667997367215,
          165.22452888907966,
          113.97647807921246,
          151.86402565533425,
          131.4567812070742,
          174.4321775555174,
          142.42380058092948,
          133.10494505494506,
          111.41704369848901,
          122.14730962396978,
          124.04589092548076,
          136.6264380151099,
          113.99266183035714,
          136.3545891283196,
          106.09490685096154,
          139.5470932062729,
          107.73340308779763,
          150.36383034283426,
          140.93647049565018,
          156.6292535914606,
          119.47179022149726,
          126.89968556833792,
          129.84123883928572,
          125.9137190934066,
          163.3794624971383,
          157.16527658539377,
          115.74458598042582,
          160.912404132326,
          127.02376445169413,
          140.4215866815476,
          141.1545644459707,
          129.2410445999313,
          147.44786694425366,
          131.3172601161859,
          140.41967075892856,
          129.93126073145604,
          113.06446385645604,
          139.96902722928112,
          136.3576948116987,
          135.15144445398352,
          135.66048964056776,
          111.0792961595696,
          125.68986735920329,
          137.86536672962455,
          121.2737297533196,
          133.7967762706044,
          116.81734954498626,
          157.2044900412088,
          140.50851791437728,
          127.42354302598443,
          141.4670157967033,
          100.14452302255036,
          122.62815182864011,
          127.97022951007327,
          117.38370464171246,
          123.04548778044872,
          127.03663075206045,
          112.15408868475275,
          117.24751996050824,
          110.38206201350732,
          139.64395747481686,
          126.36933915693682,
          131.7125250400641
         ],
         "xaxis": "x",
         "y": [
          "G",
          "G",
          "G",
          "G",
          "G",
          "G",
          "G",
          "G",
          "G",
          "G",
          "G",
          "G",
          "G",
          "G",
          "G",
          "G",
          "G",
          "G",
          "G",
          "G",
          "G",
          "G",
          "G",
          "G",
          "G",
          "G",
          "G",
          "G",
          "G",
          "G",
          "G",
          "G",
          "G",
          "G",
          "G",
          "G",
          "G",
          "G",
          "G",
          "G",
          "G",
          "G",
          "G",
          "G",
          "G",
          "G",
          "G",
          "G",
          "G",
          "G",
          "G",
          "G",
          "G",
          "G",
          "G",
          "G",
          "G",
          "G",
          "G",
          "G",
          "G",
          "G",
          "G",
          "G",
          "G",
          "G",
          "G",
          "G",
          "G",
          "G",
          "G",
          "G",
          "G",
          "G",
          "G",
          "G",
          "G",
          "G",
          "G",
          "G",
          "G",
          "G",
          "G",
          "G",
          "G",
          "G",
          "G",
          "G",
          "G",
          "G",
          "G",
          "G",
          "G",
          "G",
          "G",
          "G",
          "G",
          "G",
          "G",
          "G"
         ],
         "yaxis": "y2"
        }
       ],
       "layout": {
        "barmode": "overlay",
        "hovermode": "closest",
        "legend": {
         "traceorder": "reversed"
        },
        "showlegend": false,
        "template": {
         "data": {
          "bar": [
           {
            "error_x": {
             "color": "rgb(36,36,36)"
            },
            "error_y": {
             "color": "rgb(36,36,36)"
            },
            "marker": {
             "line": {
              "color": "white",
              "width": 0.5
             },
             "pattern": {
              "fillmode": "overlay",
              "size": 10,
              "solidity": 0.2
             }
            },
            "type": "bar"
           }
          ],
          "barpolar": [
           {
            "marker": {
             "line": {
              "color": "white",
              "width": 0.5
             },
             "pattern": {
              "fillmode": "overlay",
              "size": 10,
              "solidity": 0.2
             }
            },
            "type": "barpolar"
           }
          ],
          "carpet": [
           {
            "aaxis": {
             "endlinecolor": "rgb(36,36,36)",
             "gridcolor": "white",
             "linecolor": "white",
             "minorgridcolor": "white",
             "startlinecolor": "rgb(36,36,36)"
            },
            "baxis": {
             "endlinecolor": "rgb(36,36,36)",
             "gridcolor": "white",
             "linecolor": "white",
             "minorgridcolor": "white",
             "startlinecolor": "rgb(36,36,36)"
            },
            "type": "carpet"
           }
          ],
          "choropleth": [
           {
            "colorbar": {
             "outlinewidth": 1,
             "tickcolor": "rgb(36,36,36)",
             "ticks": "outside"
            },
            "type": "choropleth"
           }
          ],
          "contour": [
           {
            "colorbar": {
             "outlinewidth": 1,
             "tickcolor": "rgb(36,36,36)",
             "ticks": "outside"
            },
            "colorscale": [
             [
              0,
              "#440154"
             ],
             [
              0.1111111111111111,
              "#482878"
             ],
             [
              0.2222222222222222,
              "#3e4989"
             ],
             [
              0.3333333333333333,
              "#31688e"
             ],
             [
              0.4444444444444444,
              "#26828e"
             ],
             [
              0.5555555555555556,
              "#1f9e89"
             ],
             [
              0.6666666666666666,
              "#35b779"
             ],
             [
              0.7777777777777778,
              "#6ece58"
             ],
             [
              0.8888888888888888,
              "#b5de2b"
             ],
             [
              1,
              "#fde725"
             ]
            ],
            "type": "contour"
           }
          ],
          "contourcarpet": [
           {
            "colorbar": {
             "outlinewidth": 1,
             "tickcolor": "rgb(36,36,36)",
             "ticks": "outside"
            },
            "type": "contourcarpet"
           }
          ],
          "heatmap": [
           {
            "colorbar": {
             "outlinewidth": 1,
             "tickcolor": "rgb(36,36,36)",
             "ticks": "outside"
            },
            "colorscale": [
             [
              0,
              "#440154"
             ],
             [
              0.1111111111111111,
              "#482878"
             ],
             [
              0.2222222222222222,
              "#3e4989"
             ],
             [
              0.3333333333333333,
              "#31688e"
             ],
             [
              0.4444444444444444,
              "#26828e"
             ],
             [
              0.5555555555555556,
              "#1f9e89"
             ],
             [
              0.6666666666666666,
              "#35b779"
             ],
             [
              0.7777777777777778,
              "#6ece58"
             ],
             [
              0.8888888888888888,
              "#b5de2b"
             ],
             [
              1,
              "#fde725"
             ]
            ],
            "type": "heatmap"
           }
          ],
          "heatmapgl": [
           {
            "colorbar": {
             "outlinewidth": 1,
             "tickcolor": "rgb(36,36,36)",
             "ticks": "outside"
            },
            "colorscale": [
             [
              0,
              "#440154"
             ],
             [
              0.1111111111111111,
              "#482878"
             ],
             [
              0.2222222222222222,
              "#3e4989"
             ],
             [
              0.3333333333333333,
              "#31688e"
             ],
             [
              0.4444444444444444,
              "#26828e"
             ],
             [
              0.5555555555555556,
              "#1f9e89"
             ],
             [
              0.6666666666666666,
              "#35b779"
             ],
             [
              0.7777777777777778,
              "#6ece58"
             ],
             [
              0.8888888888888888,
              "#b5de2b"
             ],
             [
              1,
              "#fde725"
             ]
            ],
            "type": "heatmapgl"
           }
          ],
          "histogram": [
           {
            "marker": {
             "line": {
              "color": "white",
              "width": 0.6
             }
            },
            "type": "histogram"
           }
          ],
          "histogram2d": [
           {
            "colorbar": {
             "outlinewidth": 1,
             "tickcolor": "rgb(36,36,36)",
             "ticks": "outside"
            },
            "colorscale": [
             [
              0,
              "#440154"
             ],
             [
              0.1111111111111111,
              "#482878"
             ],
             [
              0.2222222222222222,
              "#3e4989"
             ],
             [
              0.3333333333333333,
              "#31688e"
             ],
             [
              0.4444444444444444,
              "#26828e"
             ],
             [
              0.5555555555555556,
              "#1f9e89"
             ],
             [
              0.6666666666666666,
              "#35b779"
             ],
             [
              0.7777777777777778,
              "#6ece58"
             ],
             [
              0.8888888888888888,
              "#b5de2b"
             ],
             [
              1,
              "#fde725"
             ]
            ],
            "type": "histogram2d"
           }
          ],
          "histogram2dcontour": [
           {
            "colorbar": {
             "outlinewidth": 1,
             "tickcolor": "rgb(36,36,36)",
             "ticks": "outside"
            },
            "colorscale": [
             [
              0,
              "#440154"
             ],
             [
              0.1111111111111111,
              "#482878"
             ],
             [
              0.2222222222222222,
              "#3e4989"
             ],
             [
              0.3333333333333333,
              "#31688e"
             ],
             [
              0.4444444444444444,
              "#26828e"
             ],
             [
              0.5555555555555556,
              "#1f9e89"
             ],
             [
              0.6666666666666666,
              "#35b779"
             ],
             [
              0.7777777777777778,
              "#6ece58"
             ],
             [
              0.8888888888888888,
              "#b5de2b"
             ],
             [
              1,
              "#fde725"
             ]
            ],
            "type": "histogram2dcontour"
           }
          ],
          "mesh3d": [
           {
            "colorbar": {
             "outlinewidth": 1,
             "tickcolor": "rgb(36,36,36)",
             "ticks": "outside"
            },
            "type": "mesh3d"
           }
          ],
          "parcoords": [
           {
            "line": {
             "colorbar": {
              "outlinewidth": 1,
              "tickcolor": "rgb(36,36,36)",
              "ticks": "outside"
             }
            },
            "type": "parcoords"
           }
          ],
          "pie": [
           {
            "automargin": true,
            "type": "pie"
           }
          ],
          "scatter": [
           {
            "fillpattern": {
             "fillmode": "overlay",
             "size": 10,
             "solidity": 0.2
            },
            "type": "scatter"
           }
          ],
          "scatter3d": [
           {
            "line": {
             "colorbar": {
              "outlinewidth": 1,
              "tickcolor": "rgb(36,36,36)",
              "ticks": "outside"
             }
            },
            "marker": {
             "colorbar": {
              "outlinewidth": 1,
              "tickcolor": "rgb(36,36,36)",
              "ticks": "outside"
             }
            },
            "type": "scatter3d"
           }
          ],
          "scattercarpet": [
           {
            "marker": {
             "colorbar": {
              "outlinewidth": 1,
              "tickcolor": "rgb(36,36,36)",
              "ticks": "outside"
             }
            },
            "type": "scattercarpet"
           }
          ],
          "scattergeo": [
           {
            "marker": {
             "colorbar": {
              "outlinewidth": 1,
              "tickcolor": "rgb(36,36,36)",
              "ticks": "outside"
             }
            },
            "type": "scattergeo"
           }
          ],
          "scattergl": [
           {
            "marker": {
             "colorbar": {
              "outlinewidth": 1,
              "tickcolor": "rgb(36,36,36)",
              "ticks": "outside"
             }
            },
            "type": "scattergl"
           }
          ],
          "scattermapbox": [
           {
            "marker": {
             "colorbar": {
              "outlinewidth": 1,
              "tickcolor": "rgb(36,36,36)",
              "ticks": "outside"
             }
            },
            "type": "scattermapbox"
           }
          ],
          "scatterpolar": [
           {
            "marker": {
             "colorbar": {
              "outlinewidth": 1,
              "tickcolor": "rgb(36,36,36)",
              "ticks": "outside"
             }
            },
            "type": "scatterpolar"
           }
          ],
          "scatterpolargl": [
           {
            "marker": {
             "colorbar": {
              "outlinewidth": 1,
              "tickcolor": "rgb(36,36,36)",
              "ticks": "outside"
             }
            },
            "type": "scatterpolargl"
           }
          ],
          "scatterternary": [
           {
            "marker": {
             "colorbar": {
              "outlinewidth": 1,
              "tickcolor": "rgb(36,36,36)",
              "ticks": "outside"
             }
            },
            "type": "scatterternary"
           }
          ],
          "surface": [
           {
            "colorbar": {
             "outlinewidth": 1,
             "tickcolor": "rgb(36,36,36)",
             "ticks": "outside"
            },
            "colorscale": [
             [
              0,
              "#440154"
             ],
             [
              0.1111111111111111,
              "#482878"
             ],
             [
              0.2222222222222222,
              "#3e4989"
             ],
             [
              0.3333333333333333,
              "#31688e"
             ],
             [
              0.4444444444444444,
              "#26828e"
             ],
             [
              0.5555555555555556,
              "#1f9e89"
             ],
             [
              0.6666666666666666,
              "#35b779"
             ],
             [
              0.7777777777777778,
              "#6ece58"
             ],
             [
              0.8888888888888888,
              "#b5de2b"
             ],
             [
              1,
              "#fde725"
             ]
            ],
            "type": "surface"
           }
          ],
          "table": [
           {
            "cells": {
             "fill": {
              "color": "rgb(237,237,237)"
             },
             "line": {
              "color": "white"
             }
            },
            "header": {
             "fill": {
              "color": "rgb(217,217,217)"
             },
             "line": {
              "color": "white"
             }
            },
            "type": "table"
           }
          ]
         },
         "layout": {
          "annotationdefaults": {
           "arrowhead": 0,
           "arrowwidth": 1
          },
          "autotypenumbers": "strict",
          "coloraxis": {
           "colorbar": {
            "outlinewidth": 1,
            "tickcolor": "rgb(36,36,36)",
            "ticks": "outside"
           }
          },
          "colorscale": {
           "diverging": [
            [
             0,
             "rgb(103,0,31)"
            ],
            [
             0.1,
             "rgb(178,24,43)"
            ],
            [
             0.2,
             "rgb(214,96,77)"
            ],
            [
             0.3,
             "rgb(244,165,130)"
            ],
            [
             0.4,
             "rgb(253,219,199)"
            ],
            [
             0.5,
             "rgb(247,247,247)"
            ],
            [
             0.6,
             "rgb(209,229,240)"
            ],
            [
             0.7,
             "rgb(146,197,222)"
            ],
            [
             0.8,
             "rgb(67,147,195)"
            ],
            [
             0.9,
             "rgb(33,102,172)"
            ],
            [
             1,
             "rgb(5,48,97)"
            ]
           ],
           "sequential": [
            [
             0,
             "#440154"
            ],
            [
             0.1111111111111111,
             "#482878"
            ],
            [
             0.2222222222222222,
             "#3e4989"
            ],
            [
             0.3333333333333333,
             "#31688e"
            ],
            [
             0.4444444444444444,
             "#26828e"
            ],
            [
             0.5555555555555556,
             "#1f9e89"
            ],
            [
             0.6666666666666666,
             "#35b779"
            ],
            [
             0.7777777777777778,
             "#6ece58"
            ],
            [
             0.8888888888888888,
             "#b5de2b"
            ],
            [
             1,
             "#fde725"
            ]
           ],
           "sequentialminus": [
            [
             0,
             "#440154"
            ],
            [
             0.1111111111111111,
             "#482878"
            ],
            [
             0.2222222222222222,
             "#3e4989"
            ],
            [
             0.3333333333333333,
             "#31688e"
            ],
            [
             0.4444444444444444,
             "#26828e"
            ],
            [
             0.5555555555555556,
             "#1f9e89"
            ],
            [
             0.6666666666666666,
             "#35b779"
            ],
            [
             0.7777777777777778,
             "#6ece58"
            ],
            [
             0.8888888888888888,
             "#b5de2b"
            ],
            [
             1,
             "#fde725"
            ]
           ]
          },
          "colorway": [
           "#1F77B4",
           "#FF7F0E",
           "#2CA02C",
           "#D62728",
           "#9467BD",
           "#8C564B",
           "#E377C2",
           "#7F7F7F",
           "#BCBD22",
           "#17BECF"
          ],
          "font": {
           "color": "rgb(36,36,36)"
          },
          "geo": {
           "bgcolor": "white",
           "lakecolor": "white",
           "landcolor": "white",
           "showlakes": true,
           "showland": true,
           "subunitcolor": "white"
          },
          "hoverlabel": {
           "align": "left"
          },
          "hovermode": "closest",
          "mapbox": {
           "style": "light"
          },
          "paper_bgcolor": "white",
          "plot_bgcolor": "white",
          "polar": {
           "angularaxis": {
            "gridcolor": "rgb(232,232,232)",
            "linecolor": "rgb(36,36,36)",
            "showgrid": false,
            "showline": true,
            "ticks": "outside"
           },
           "bgcolor": "white",
           "radialaxis": {
            "gridcolor": "rgb(232,232,232)",
            "linecolor": "rgb(36,36,36)",
            "showgrid": false,
            "showline": true,
            "ticks": "outside"
           }
          },
          "scene": {
           "xaxis": {
            "backgroundcolor": "white",
            "gridcolor": "rgb(232,232,232)",
            "gridwidth": 2,
            "linecolor": "rgb(36,36,36)",
            "showbackground": true,
            "showgrid": false,
            "showline": true,
            "ticks": "outside",
            "zeroline": false,
            "zerolinecolor": "rgb(36,36,36)"
           },
           "yaxis": {
            "backgroundcolor": "white",
            "gridcolor": "rgb(232,232,232)",
            "gridwidth": 2,
            "linecolor": "rgb(36,36,36)",
            "showbackground": true,
            "showgrid": false,
            "showline": true,
            "ticks": "outside",
            "zeroline": false,
            "zerolinecolor": "rgb(36,36,36)"
           },
           "zaxis": {
            "backgroundcolor": "white",
            "gridcolor": "rgb(232,232,232)",
            "gridwidth": 2,
            "linecolor": "rgb(36,36,36)",
            "showbackground": true,
            "showgrid": false,
            "showline": true,
            "ticks": "outside",
            "zeroline": false,
            "zerolinecolor": "rgb(36,36,36)"
           }
          },
          "shapedefaults": {
           "fillcolor": "black",
           "line": {
            "width": 0
           },
           "opacity": 0.3
          },
          "ternary": {
           "aaxis": {
            "gridcolor": "rgb(232,232,232)",
            "linecolor": "rgb(36,36,36)",
            "showgrid": false,
            "showline": true,
            "ticks": "outside"
           },
           "baxis": {
            "gridcolor": "rgb(232,232,232)",
            "linecolor": "rgb(36,36,36)",
            "showgrid": false,
            "showline": true,
            "ticks": "outside"
           },
           "bgcolor": "white",
           "caxis": {
            "gridcolor": "rgb(232,232,232)",
            "linecolor": "rgb(36,36,36)",
            "showgrid": false,
            "showline": true,
            "ticks": "outside"
           }
          },
          "title": {
           "x": 0.05
          },
          "xaxis": {
           "automargin": true,
           "gridcolor": "rgb(232,232,232)",
           "linecolor": "rgb(36,36,36)",
           "showgrid": false,
           "showline": true,
           "ticks": "outside",
           "title": {
            "standoff": 15
           },
           "zeroline": false,
           "zerolinecolor": "rgb(36,36,36)"
          },
          "yaxis": {
           "automargin": true,
           "gridcolor": "rgb(232,232,232)",
           "linecolor": "rgb(36,36,36)",
           "showgrid": false,
           "showline": true,
           "ticks": "outside",
           "title": {
            "standoff": 15
           },
           "zeroline": false,
           "zerolinecolor": "rgb(36,36,36)"
          }
         }
        },
        "title": {
         "text": "Distribution of green channel values"
        },
        "xaxis": {
         "anchor": "y2",
         "domain": [
          0,
          1
         ],
         "zeroline": false
        },
        "yaxis": {
         "anchor": "free",
         "domain": [
          0.35,
          1
         ],
         "position": 0
        },
        "yaxis2": {
         "anchor": "x",
         "domain": [
          0,
          0.25
         ],
         "dtick": 1,
         "showticklabels": false
        }
       }
      }
     },
     "metadata": {},
     "output_type": "display_data"
    }
   ],
   "source": [
    "fig = ff.create_distplot([green_values], group_labels=[\"G\"], colors=[\"green\"])\n",
    "fig.update_layout(showlegend=False, template=\"simple_white\")\n",
    "fig.update_layout(title_text=\"Distribution of green channel values\")\n",
    "fig.data[0].marker.line.color = 'rgb(0, 0, 0)'\n",
    "fig.data[0].marker.line.width = 0.5\n",
    "fig\n"
   ]
  },
  {
   "cell_type": "code",
   "execution_count": 11,
   "metadata": {},
   "outputs": [
    {
     "data": {
      "application/vnd.plotly.v1+json": {
       "config": {
        "plotlyServerURL": "https://plot.ly"
       },
       "data": [
        {
         "autobinx": false,
         "histnorm": "probability density",
         "legendgroup": "B",
         "marker": {
          "color": "blue",
          "line": {
           "color": "rgb(0, 0, 0)",
           "width": 0.5
          }
         },
         "name": "B",
         "opacity": 0.7,
         "type": "histogram",
         "x": [
          54.53553185096154,
          93.31749334649726,
          103.6943141168727,
          89.5318348643544,
          77.75673363095238,
          100.90746265453296,
          76.35283668154761,
          100.6609110290751,
          54.935957889766485,
          63.96526370764652,
          55.559871508699636,
          86.2899181547619,
          79.02957160027472,
          106.69048727964744,
          73.17298033997253,
          84.06968149038461,
          100.51995478479853,
          87.20515574919872,
          107.26548584878662,
          70.87534591059982,
          78.09588412889194,
          63.98942379235348,
          81.76646920787546,
          80.27489375858516,
          76.53615284455128,
          77.86103801797161,
          72.78620113610349,
          90.07916022779304,
          77.29632447630495,
          34.3161858974359,
          67.77858287545787,
          75.16602850274725,
          54.24973743704212,
          87.49028016254579,
          105.0233899238782,
          69.04509679773352,
          88.08066907051283,
          65.3456773695055,
          110.48256496108058,
          82.31186040521978,
          82.7072015224359,
          78.17158668154762,
          102.2465086996337,
          82.17068416609432,
          86.54288110977564,
          78.70496079441392,
          98.45296188186813,
          72.34582009787088,
          86.09037638793498,
          68.51702509729853,
          69.05045930631869,
          61.13990706559066,
          77.51573195684524,
          77.02901356456044,
          113.89512183779762,
          74.43263578869048,
          74.08667224702381,
          76.39275269001831,
          104.00902944711538,
          80.67903645833333,
          88.97003813244048,
          90.86196879292582,
          93.25087461366758,
          48.912527544070514,
          77.9515850360577,
          62.75745728880494,
          90.34182763850733,
          108.76602349473443,
          106.25530742044414,
          63.06332739526099,
          86.46733487866301,
          74.51140324519231,
          104.15980390052655,
          58.674107142857146,
          62.40749592204671,
          91.57578947744963,
          95.6504138764881,
          70.05354781936813,
          54.160501445169416,
          77.9648430345696,
          76.55155928056318,
          63.33613674736721,
          90.09093084649726,
          82.2001219808837,
          98.37507798191392,
          71.08867688301282,
          112.23646906478938,
          90.82241479223902,
          81.93420544299451,
          47.23257354624542,
          101.23318917410714,
          59.08222906650641,
          92.47016941391941,
          74.3637702466804,
          47.380259486607144,
          73.55488567422161,
          53.40692250457875,
          69.46683980082418,
          82.42657859718406,
          71.1710200606685
         ],
         "xaxis": "x",
         "xbins": {
          "end": 113.89512183779762,
          "size": 1,
          "start": 34.3161858974359
         },
         "yaxis": "y"
        },
        {
         "legendgroup": "B",
         "marker": {
          "color": "blue"
         },
         "mode": "lines",
         "name": "B",
         "showlegend": false,
         "type": "scatter",
         "x": [
          34.3161858974359,
          34.47534376931662,
          34.634501641197346,
          34.79365951307807,
          34.95281738495879,
          35.111975256839514,
          35.271133128720244,
          35.43029100060097,
          35.58944887248169,
          35.74860674436241,
          35.907764616243135,
          36.06692248812386,
          36.22608036000458,
          36.3852382318853,
          36.544396103766026,
          36.703553975646756,
          36.86271184752748,
          37.0218697194082,
          37.181027591288924,
          37.34018546316965,
          37.49934333505037,
          37.65850120693109,
          37.817659078811815,
          37.97681695069254,
          38.13597482257326,
          38.29513269445398,
          38.454290566334706,
          38.613448438215435,
          38.77260631009616,
          38.93176418197688,
          39.090922053857604,
          39.250079925738326,
          39.40923779761905,
          39.56839566949977,
          39.7275535413805,
          39.886711413261224,
          40.04586928514195,
          40.20502715702267,
          40.36418502890339,
          40.523342900784115,
          40.68250077266484,
          40.84165864454556,
          41.00081651642628,
          41.159974388307006,
          41.31913226018773,
          41.47829013206845,
          41.63744800394918,
          41.796605875829904,
          41.95576374771063,
          42.11492161959135,
          42.27407949147207,
          42.433237363352795,
          42.59239523523352,
          42.75155310711424,
          42.91071097899497,
          43.06986885087569,
          43.229026722756416,
          43.38818459463714,
          43.54734246651786,
          43.706500338398584,
          43.86565821027931,
          44.02481608216003,
          44.18397395404075,
          44.343131825921475,
          44.5022896978022,
          44.66144756968292,
          44.82060544156364,
          44.979763313444366,
          45.138921185325096,
          45.29807905720582,
          45.45723692908654,
          45.616394800967264,
          45.77555267284799,
          45.93471054472871,
          46.09386841660943,
          46.25302628849016,
          46.412184160370884,
          46.57134203225161,
          46.73049990413233,
          46.88965777601305,
          47.048815647893775,
          47.2079735197745,
          47.36713139165522,
          47.52628926353594,
          47.685447135416666,
          47.84460500729739,
          48.00376287917811,
          48.16292075105884,
          48.322078622939564,
          48.48123649482029,
          48.64039436670101,
          48.79955223858173,
          48.958710110462455,
          49.11786798234318,
          49.2770258542239,
          49.43618372610463,
          49.59534159798535,
          49.754499469866076,
          49.9136573417468,
          50.07281521362752,
          50.231973085508244,
          50.39113095738897,
          50.55028882926969,
          50.70944670115041,
          50.868604573031135,
          51.02776244491186,
          51.18692031679258,
          51.3460781886733,
          51.50523606055403,
          51.664393932434756,
          51.82355180431548,
          51.9827096761962,
          52.14186754807693,
          52.30102541995765,
          52.460183291838376,
          52.6193411637191,
          52.77849903559982,
          52.937656907480545,
          53.09681477936127,
          53.25597265124199,
          53.41513052312271,
          53.574288395003435,
          53.73344626688416,
          53.89260413876488,
          54.051762010645604,
          54.210919882526326,
          54.37007775440705,
          54.52923562628777,
          54.6883934981685,
          54.847551370049224,
          55.00670924192995,
          55.16586711381067,
          55.32502498569139,
          55.48418285757212,
          55.64334072945284,
          55.80249860133357,
          55.96165647321429,
          56.12081434509501,
          56.279972216975736,
          56.43913008885646,
          56.59828796073718,
          56.757445832617904,
          56.91660370449863,
          57.07576157637935,
          57.23491944826007,
          57.394077320140795,
          57.55323519202152,
          57.71239306390225,
          57.87155093578296,
          58.03070880766369,
          58.189866679544416,
          58.34902455142514,
          58.50818242330587,
          58.667340295186584,
          58.826498167067314,
          58.985656038948036,
          59.14481391082876,
          59.30397178270948,
          59.463129654590205,
          59.62228752647093,
          59.78144539835165,
          59.94060327023237,
          60.099761142113096,
          60.25891901399382,
          60.41807688587454,
          60.577234757755264,
          60.73639262963599,
          60.89555050151671,
          61.05470837339744,
          61.213866245278155,
          61.373024117158884,
          61.532181989039614,
          61.69133986092033,
          61.85049773280106,
          62.00965560468178,
          62.168813476562505,
          62.32797134844323,
          62.48712922032395,
          62.64628709220467,
          62.805444964085396,
          62.96460283596612,
          63.12376070784684,
          63.282918579727564,
          63.44207645160829,
          63.60123432348901,
          63.76039219536974,
          63.919550067250455,
          64.07870793913119,
          64.2378658110119,
          64.39702368289264,
          64.55618155477336,
          64.71533942665408,
          64.8744972985348,
          65.03365517041553,
          65.19281304229625,
          65.35197091417697,
          65.5111287860577,
          65.67028665793842,
          65.82944452981914,
          65.98860240169986,
          66.14776027358059,
          66.30691814546131,
          66.46607601734203,
          66.62523388922276,
          66.78439176110348,
          66.9435496329842,
          67.10270750486492,
          67.26186537674565,
          67.42102324862637,
          67.58018112050709,
          67.73933899238781,
          67.89849686426854,
          68.05765473614926,
          68.21681260803,
          68.3759704799107,
          68.53512835179143,
          68.69428622367217,
          68.85344409555289,
          69.01260196743361,
          69.17175983931432,
          69.33091771119506,
          69.49007558307578,
          69.6492334549565,
          69.80839132683724,
          69.96754919871796,
          70.12670707059867,
          70.28586494247939,
          70.44502281436013,
          70.60418068624085,
          70.76333855812157,
          70.9224964300023,
          71.08165430188302,
          71.24081217376374,
          71.39997004564447,
          71.55912791752519,
          71.71828578940591,
          71.87744366128663,
          72.03660153316736,
          72.19575940504808,
          72.3549172769288,
          72.51407514880952,
          72.67323302069025,
          72.83239089257097,
          72.9915487644517,
          73.15070663633242,
          73.30986450821314,
          73.46902238009386,
          73.62818025197458,
          73.7873381238553,
          73.94649599573603,
          74.10565386761675,
          74.26481173949749,
          74.4239696113782,
          74.58312748325892,
          74.74228535513964,
          74.90144322702038,
          75.0606010989011,
          75.21975897078181,
          75.37891684266255,
          75.53807471454327,
          75.697232586424,
          75.85639045830472,
          76.01554833018544,
          76.17470620206616,
          76.33386407394688,
          76.49302194582762,
          76.65217981770834,
          76.81133768958907,
          76.97049556146978,
          77.12965343335051,
          77.28881130523123,
          77.44796917711196,
          77.60712704899268,
          77.7662849208734,
          77.92544279275413,
          78.08460066463485,
          78.24375853651557,
          78.4029164083963,
          78.56207428027702,
          78.72123215215774,
          78.88039002403846,
          79.03954789591918,
          79.19870576779991,
          79.35786363968063,
          79.51702151156135,
          79.67617938344208,
          79.8353372553228,
          79.99449512720352,
          80.15365299908424,
          80.31281087096497,
          80.47196874284569,
          80.63112661472641,
          80.79028448660713,
          80.94944235848787,
          81.1086002303686,
          81.2677581022493,
          81.42691597413003,
          81.58607384601076,
          81.74523171789149,
          81.90438958977221,
          82.06354746165293,
          82.22270533353365,
          82.38186320541438,
          82.5410210772951,
          82.70017894917584,
          82.85933682105656,
          83.01849469293727,
          83.177652564818,
          83.33681043669873,
          83.49596830857945,
          83.65512618046017,
          83.8142840523409,
          83.97344192422162,
          84.13259979610234,
          84.29175766798306,
          84.45091553986379,
          84.61007341174451,
          84.76923128362523,
          84.92838915550595,
          85.08754702738668,
          85.2467048992674,
          85.40586277114812,
          85.56502064302884,
          85.72417851490957,
          85.88333638679029,
          86.04249425867101,
          86.20165213055174,
          86.36081000243246,
          86.51996787431318,
          86.6791257461939,
          86.83828361807463,
          86.99744148995535,
          87.15659936183609,
          87.3157572337168,
          87.47491510559752,
          87.63407297747825,
          87.79323084935898,
          87.9523887212397,
          88.11154659312041,
          88.27070446500115,
          88.42986233688187,
          88.58902020876259,
          88.74817808064333,
          88.90733595252404,
          89.06649382440476,
          89.22565169628548,
          89.38480956816622,
          89.54396744004694,
          89.70312531192766,
          89.86228318380839,
          90.02144105568911,
          90.18059892756983,
          90.33975679945056,
          90.49891467133128,
          90.658072543212,
          90.81723041509272,
          90.97638828697345,
          91.13554615885417,
          91.29470403073489,
          91.45386190261561,
          91.61301977449634,
          91.77217764637706,
          91.93133551825778,
          92.0904933901385,
          92.24965126201923,
          92.40880913389995,
          92.56796700578067,
          92.7271248776614,
          92.88628274954212,
          93.04544062142284,
          93.20459849330358,
          93.36375636518429,
          93.52291423706501,
          93.68207210894573,
          93.84122998082647,
          94.00038785270719,
          94.1595457245879,
          94.31870359646864,
          94.47786146834936,
          94.63701934023008,
          94.7961772121108,
          94.95533508399153,
          95.11449295587225,
          95.27365082775297,
          95.43280869963371,
          95.59196657151443,
          95.75112444339516,
          95.91028231527586,
          96.0694401871566,
          96.22859805903732,
          96.38775593091805,
          96.54691380279877,
          96.70607167467949,
          96.86522954656022,
          97.02438741844094,
          97.18354529032166,
          97.34270316220238,
          97.5018610340831,
          97.66101890596383,
          97.82017677784455,
          97.97933464972527,
          98.138492521606,
          98.29765039348672,
          98.45680826536744,
          98.61596613724817,
          98.77512400912889,
          98.93428188100961,
          99.09343975289033,
          99.25259762477106,
          99.4117554966518,
          99.57091336853252,
          99.73007124041322,
          99.88922911229396,
          100.04838698417467,
          100.2075448560554,
          100.36670272793613,
          100.52586059981684,
          100.68501847169757,
          100.8441763435783,
          101.00333421545902,
          101.16249208733974,
          101.32164995922048,
          101.48080783110119,
          101.63996570298191,
          101.79912357486263,
          101.95828144674336,
          102.1174393186241,
          102.2765971905048,
          102.43575506238552,
          102.59491293426626,
          102.75407080614697,
          102.9132286780277,
          103.07238654990843,
          103.23154442178914,
          103.39070229366988,
          103.5498601655506,
          103.70901803743132,
          103.86817590931204,
          104.02733378119275,
          104.18649165307349,
          104.34564952495421,
          104.50480739683493,
          104.66396526871566,
          104.82312314059638,
          104.9822810124771,
          105.14143888435783,
          105.30059675623856,
          105.45975462811927,
          105.61891250000001,
          105.77807037188073,
          105.93722824376144,
          106.09638611564218,
          106.25554398752288,
          106.41470185940362,
          106.57385973128434,
          106.73301760316505,
          106.89217547504579,
          107.05133334692651,
          107.21049121880723,
          107.36964909068796,
          107.52880696256868,
          107.6879648344494,
          107.84712270633013,
          108.00628057821086,
          108.16543845009157,
          108.3245963219723,
          108.48375419385302,
          108.64291206573374,
          108.80206993761448,
          108.96122780949518,
          109.12038568137591,
          109.27954355325664,
          109.43870142513735,
          109.59785929701809,
          109.75701716889881,
          109.91617504077954,
          110.07533291266026,
          110.23449078454098,
          110.3936486564217,
          110.55280652830243,
          110.71196440018315,
          110.87112227206387,
          111.0302801439446,
          111.18943801582532,
          111.34859588770604,
          111.50775375958678,
          111.66691163146749,
          111.82606950334821,
          111.98522737522894,
          112.14438524710965,
          112.30354311899039,
          112.46270099087111,
          112.62185886275182,
          112.78101673463256,
          112.94017460651327,
          113.099332478394,
          113.25849035027473,
          113.41764822215544,
          113.57680609403617,
          113.7359639659169
         ],
         "xaxis": "x",
         "y": [
          0.0008669086458029996,
          0.0008807336819064705,
          0.0008948127748627864,
          0.0009091648266041268,
          0.0009238094348141637,
          0.0009387668637451106,
          0.0009540580123103023,
          0.0009697043795180969,
          0.0009857280273242815,
          0.0010021515409911897,
          0.0010189979870525957,
          0.0010362908689938487,
          0.0010540540807667956,
          0.0010723118582685854,
          0.001091088728922554,
          0.0011104094595078883,
          0.0011302990023927123,
          0.0011507824403324963,
          0.0011718849300023319,
          0.001193631644437464,
          0.0012160477145616846,
          0.0012391581699875396,
          0.0012629878792759335,
          0.0012875614898455326,
          0.0013129033677243371,
          0.0013390375373369952,
          0.0013659876215217786,
          0.0013937767819706915,
          0.0014224276602848832,
          0.0014519623198355335,
          0.001482402188617426,
          0.0015137680032789376,
          0.0015460797545077175,
          0.0015793566339463573,
          0.0016136169828065744,
          0.0016488782423440937,
          0.0016851569063494767,
          0.0017224684758025508,
          0.001760827415830174,
          0.0018002471150984822,
          0.0018407398477619408,
          0.0018823167380821865,
          0.001924987727820139,
          0.001968761546494945,
          0.002013645684593338,
          0.0020596463698027566,
          0.0021067685463312612,
          0.0021550158573669593,
          0.0022043906307192837,
          0.002254893867674129,
          0.00230652523508466,
          0.0023592830607095817,
          0.0024131643318006536,
          0.0024681646969316796,
          0.002524278471051693,
          0.0025814986437360018,
          0.0026398168905999364,
          0.0026992235878316923,
          0.0027597078297925477,
          0.0028212574496251624,
          0.0028838590428032335,
          0.0029474979935490996,
          0.003012158504039325,
          0.0030778236263124177,
          0.003144475296787273,
          0.0032120943732957914,
          0.0032806606745285696,
          0.0033501530217882164,
          0.00342054928294119,
          0.0034918264184554894,
          0.0035639605294087947,
          0.0036369269073487608,
          0.0037107000858852108,
          0.003785253893891907,
          0.00386056151019415,
          0.003936595519617171,
          0.00401332797026929,
          0.004090730431933395,
          0.004168774055439479,
          0.004247429632891255,
          0.004326667658619568,
          0.004406458390735788,
          0.004486771913158656,
          0.004567578197988848,
          0.004648847168106029,
          0.004730548759864389,
          0.004812652985763394,
          0.004895129996971912,
          0.004977950145585022,
          0.005061084046494332,
          0.00514450263875403,
          0.005228177246326708,
          0.00531207963809468,
          0.005396182087024304,
          0.005480457428373062,
          0.005564879116831006,
          0.005649421282490622,
          0.005734058785541534,
          0.0058187672695889335,
          0.005903523213497372,
          0.005988303981664485,
          0.006073087872632012,
          0.006157854165944955,
          0.006242583167172832,
          0.006327256251010705,
          0.006411855902381313,
          0.006496365755463523,
          0.006580770630576597,
          0.006665056568853733,
          0.006749210864643206,
          0.006833222095579705,
          0.006917080150273433,
          0.007000776253569548,
          0.007084302989335355,
          0.007167654320738175,
          0.007250825607981761,
          0.007333813623474848,
          0.007416616564410612,
          0.007499234062741333,
          0.007581667192538028,
          0.007663918474730214,
          0.007745991879226442,
          0.007827892824421194,
          0.007909628174099325,
          0.0079912062317538,
          0.008072636732337598,
          0.008153930831474919,
          0.008235101092161422,
          0.008316161468987131,
          0.008397127289919164,
          0.008478015235685261,
          0.008558843316801637,
          0.008639630848291457,
          0.008720398422142641,
          0.008801167877555034,
          0.008881962269028884,
          0.008962805832346928,
          0.009043723948503285,
          0.009124743105632199,
          0.009205890858989195,
          0.009287195789036652,
          0.009368687457684207,
          0.009450396362733227,
          0.009532353890572278,
          0.009614592267168378,
          0.00969714450739638,
          0.009780044362745818,
          0.009863326267441764,
          0.009947025283012863,
          0.010031177041336922,
          0.010115817686190479,
          0.010200983813326321,
          0.01028671240909914,
          0.010373040787656844,
          0.010460006526712154,
          0.010547647401906491,
          0.01063600131977626,
          0.010725106249329472,
          0.01081500015223965,
          0.010905720911663024,
          0.010997306259684776,
          0.011089793703400542,
          0.011183220449640655,
          0.01127762332834599,
          0.011373038714607273,
          0.011469502449382942,
          0.011567049758914724,
          0.011665715172865172,
          0.011765532441207557,
          0.011866534449904577,
          0.011968753135420748,
          0.012072219398121021,
          0.012176963014617794,
          0.012283012549138573,
          0.01239039526399678,
          0.012499137029260289,
          0.012609262231723968,
          0.012720793683305408,
          0.012833752528995986,
          0.01294815815451341,
          0.013064028093815544,
          0.013181377936649814,
          0.013300221236326761,
          0.01342056941792085,
          0.013542431687116245,
          0.01366581493992915,
          0.013790723673552713,
          0.013917159898584086,
          0.014045123052905784,
          0.014174609917507058,
          0.014305614534541322,
          0.014438128127927987,
          0.014572139026815801,
          0.014707632592233991,
          0.014844591147265334,
          0.014982993911080936,
          0.015122816937181871,
          0.015264033056195598,
          0.015406611823577176,
          0.01555051947256513,
          0.01569571887273992,
          0.015842169494529445,
          0.015989827380000557,
          0.016138645120268167,
          0.016288571839843675,
          0.016439553188233858,
          0.016591531339087057,
          0.016744444997168897,
          0.016898229413431522,
          0.017052816408421947,
          0.01720813440425276,
          0.01736410846533603,
          0.01752066034805579,
          0.017677708559527848,
          0.01783516842556697,
          0.01799295216795214,
          0.01815096899104775,
          0.01830912517780733,
          0.018467324195151017,
          0.018625466808673607,
          0.018783451206603345,
          0.01894117313289513,
          0.019098526029304293,
          0.01925540118624852,
          0.01941168790222829,
          0.019567273651537022,
          0.01972204425995429,
          0.019875884088077393,
          0.020028676221909434,
          0.02018030267028501,
          0.02033064456867894,
          0.02047958238890843,
          0.020626996154206007,
          0.020772765659108374,
          0.020916770693575313,
          0.021058891270725664,
          0.021199007857549183,
          0.02133700160793043,
          0.021472754597297267,
          0.02160615005818867,
          0.021737072616018583,
          0.021865408524299162,
          0.02199104589857546,
          0.02211387494831576,
          0.022233788205996613,
          0.02235068075262027,
          0.022464450438903195,
          0.02257499810138017,
          0.022682227772675728,
          0.022786046885207228,
          0.022886366467598465,
          0.02298310133310119,
          0.023076170259343803,
          0.023165496158751932,
          0.023251006239012755,
          0.02333263215298835,
          0.02341031013751564,
          0.023483981140569907,
          0.023553590936307968,
          0.023619090227549995,
          0.023680434735305313,
          0.02373758527499363,
          0.023790507819064468,
          0.023839173545767714,
          0.023883558873882625,
          0.023923645483266497,
          0.02395942032114051,
          0.02399087559408642,
          0.024018008745785982,
          0.02404082242059149,
          0.024059324413075053,
          0.0240735276037603,
          0.02408344988129845,
          0.024089114051406617,
          0.02409054773294088,
          0.024087783241531834,
          0.024080857461260995,
          0.024069811704908184,
          0.024054691563347236,
          0.02403554674471346,
          0.024012430904009254,
          0.02398540146385423,
          0.023954519427123254,
          0.02391984918224926,
          0.023881458301997553,
          0.023839417336544665,
          0.023793799601717056,
          0.02374468096326304,
          0.023692139618045723,
          0.023636255873053815,
          0.023577111923133585,
          0.023514791628345275,
          0.023449380291844384,
          0.023380964439180245,
          0.023309631599892165,
          0.023235470092266165,
          0.023158568812095198,
          0.023079017026259863,
          0.022996904171917364,
          0.02291231966205368,
          0.02282535269811596,
          0.022736092090402435,
          0.022644626086842055,
          0.022551042210749394,
          0.022455427108089794,
          0.022357866404736894,
          0.022258444574149244,
          0.02215724481583524,
          0.022054348944916834,
          0.02194983729304063,
          0.02184378862082466,
          0.021736280041964977,
          0.021627386959064097,
          0.02151718301117963,
          0.021405740033028347,
          0.021293128025718727,
          0.021179415138823467,
          0.02106466766354315,
          0.020948950036653344,
          0.020832324854871607,
          0.020714852899225353,
          0.020596593168950454,
          0.020477602924401112,
          0.02035793773840578,
          0.02023765155546141,
          0.02011679675811943,
          0.019995424239881814,
          0.01987358348389491,
          0.01975132264670164,
          0.019628688646290405,
          0.01950572725366135,
          0.019382483187117217,
          0.01925900020847731,
          0.01913532122040928,
          0.01901148836407426,
          0.01888754311628637,
          0.018763526385397623,
          0.018639478605134246,
          0.01851543982562952,
          0.018391449800922045,
          0.01826754807221613,
          0.01814377404623273,
          0.018020167068015756,
          0.017896766487597488,
          0.017773611719969683,
          0.017650742297853603,
          0.017528197916810352,
          0.017406018472284863,
          0.017284244088230233,
          0.017162915137015258,
          0.017042072250375125,
          0.016921756321223325,
          0.016802008496203263,
          0.016682870158917413,
          0.01656438290383248,
          0.016446588500918954,
          0.016329528851143575,
          0.016213245932991456,
          0.016097781740252802,
          0.015983178211365075,
          0.015869477150655526,
          0.015756720141882057,
          0.015644948454518682,
          0.015534202943280185,
          0.015424523941423966,
          0.01531595114840767,
          0.015208523512518876,
          0.015102279109126567,
          0.014997255015234068,
          0.014893487181038523,
          0.014791010299224241,
          0.014689857672734386,
          0.014590061081778372,
          0.0144916506508417,
          0.01439465471646875,
          0.014299099696589474,
          0.014205009962156026,
          0.014112407711847394,
          0.014021312850586422,
          0.013931742872596823,
          0.013843712749706853,
          0.01375723482558096,
          0.013672318716532166,
          0.013588971219536037,
          0.013507196228030982,
          0.013426994656051554,
          0.013348364371199746,
          0.013271300136915257,
          0.013195793564459418,
          0.013121833074979128,
          0.013049403871966766,
          0.012978487924380893,
          0.01290906396063939,
          0.012841107473643379,
          0.01277459073693592,
          0.012709482832045423,
          0.012645749687009003,
          0.01258335412601733,
          0.012522255930069268,
          0.012462411908472033,
          0.012403775980971594,
          0.012346299270248565,
          0.012289930204466563,
          0.012234614629514395,
          0.012180295930539571,
          0.012126915162329418,
          0.012074411188057205,
          0.012022720825874975,
          0.011971779002801556,
          0.011921518915324683,
          0.01187187219610882,
          0.011822769086177578,
          0.011774138611918889,
          0.011725908766245017,
          0.011678006693225659,
          0.011630358875503326,
          0.011582891323793426,
          0.011535529767768898,
          0.011488199847629874,
          0.011440827305662416,
          0.011393338177098117,
          0.011345658979596112,
          0.011297716900683007,
          0.011249439982501918,
          0.0112007573032416,
          0.011151599154637811,
          0.011101897214963486,
          0.011051584716951009,
          0.01100059661011776,
          0.010948869716997706,
          0.010896342882812804,
          0.010842957118152618,
          0.01078865573426532,
          0.010733384470599154,
          0.010677091614270717,
          0.010619728111174054,
          0.010561247668482668,
          0.010501606848334868,
          0.010440765152531688,
          0.010378685098114482,
          0.010315332283727724,
          0.010250675446709694,
          0.01018468651089095,
          0.010117340625115762,
          0.010048616192537585,
          0.009978494890772288,
          0.009906961683026348,
          0.009834004820347683,
          0.009759615835176235,
          0.009683789526400026,
          0.00960652393614745,
          0.009527820318571871,
          0.00944768310090667,
          0.009366119837089348,
          0.009283141154272052,
          0.00919876069255258,
          0.009112995038274218,
          0.009025863651255994,
          0.008937388786324524,
          0.008847595409528513,
          0.008756511109422811,
          0.008664166003813941,
          0.008570592642362098,
          0.008475825905435743,
          0.008379902899614204,
          0.008282862850231628,
          0.008184746991351686,
          0.008085598453557361,
          0.007985462149933086,
          0.007884384660608985,
          0.0077824141162271465,
          0.007679600080680407,
          0.007575993433461871,
          0.0074716462519517765,
          0.007366611693955481,
          0.007260943880791804,
          0.007154697781217819,
          0.007047929096460516,
          0.006940694146611309,
          0.00683304975862343,
          0.006725053156137083,
          0.006616761851341278,
          0.006508233539065788,
          0.006399525993280877,
          0.006290696966167117,
          0.006181804089902216,
          0.006072904781297259,
          0.005964056149399284,
          0.00585531490616419,
          0.005746737280288996,
          0.005638378934280057,
          0.005530294884820872,
          0.005422539426490976,
          0.005315166058875848,
          0.0052082274170972545,
          0.005101775205782185,
          0.004995860136480373,
          0.004890531868529896,
          0.004785838953362984,
          0.004681828782236055
         ],
         "yaxis": "y"
        },
        {
         "legendgroup": "B",
         "marker": {
          "color": "blue",
          "symbol": "line-ns-open"
         },
         "mode": "markers",
         "name": "B",
         "showlegend": false,
         "type": "scatter",
         "x": [
          54.53553185096154,
          93.31749334649726,
          103.6943141168727,
          89.5318348643544,
          77.75673363095238,
          100.90746265453296,
          76.35283668154761,
          100.6609110290751,
          54.935957889766485,
          63.96526370764652,
          55.559871508699636,
          86.2899181547619,
          79.02957160027472,
          106.69048727964744,
          73.17298033997253,
          84.06968149038461,
          100.51995478479853,
          87.20515574919872,
          107.26548584878662,
          70.87534591059982,
          78.09588412889194,
          63.98942379235348,
          81.76646920787546,
          80.27489375858516,
          76.53615284455128,
          77.86103801797161,
          72.78620113610349,
          90.07916022779304,
          77.29632447630495,
          34.3161858974359,
          67.77858287545787,
          75.16602850274725,
          54.24973743704212,
          87.49028016254579,
          105.0233899238782,
          69.04509679773352,
          88.08066907051283,
          65.3456773695055,
          110.48256496108058,
          82.31186040521978,
          82.7072015224359,
          78.17158668154762,
          102.2465086996337,
          82.17068416609432,
          86.54288110977564,
          78.70496079441392,
          98.45296188186813,
          72.34582009787088,
          86.09037638793498,
          68.51702509729853,
          69.05045930631869,
          61.13990706559066,
          77.51573195684524,
          77.02901356456044,
          113.89512183779762,
          74.43263578869048,
          74.08667224702381,
          76.39275269001831,
          104.00902944711538,
          80.67903645833333,
          88.97003813244048,
          90.86196879292582,
          93.25087461366758,
          48.912527544070514,
          77.9515850360577,
          62.75745728880494,
          90.34182763850733,
          108.76602349473443,
          106.25530742044414,
          63.06332739526099,
          86.46733487866301,
          74.51140324519231,
          104.15980390052655,
          58.674107142857146,
          62.40749592204671,
          91.57578947744963,
          95.6504138764881,
          70.05354781936813,
          54.160501445169416,
          77.9648430345696,
          76.55155928056318,
          63.33613674736721,
          90.09093084649726,
          82.2001219808837,
          98.37507798191392,
          71.08867688301282,
          112.23646906478938,
          90.82241479223902,
          81.93420544299451,
          47.23257354624542,
          101.23318917410714,
          59.08222906650641,
          92.47016941391941,
          74.3637702466804,
          47.380259486607144,
          73.55488567422161,
          53.40692250457875,
          69.46683980082418,
          82.42657859718406,
          71.1710200606685
         ],
         "xaxis": "x",
         "y": [
          "B",
          "B",
          "B",
          "B",
          "B",
          "B",
          "B",
          "B",
          "B",
          "B",
          "B",
          "B",
          "B",
          "B",
          "B",
          "B",
          "B",
          "B",
          "B",
          "B",
          "B",
          "B",
          "B",
          "B",
          "B",
          "B",
          "B",
          "B",
          "B",
          "B",
          "B",
          "B",
          "B",
          "B",
          "B",
          "B",
          "B",
          "B",
          "B",
          "B",
          "B",
          "B",
          "B",
          "B",
          "B",
          "B",
          "B",
          "B",
          "B",
          "B",
          "B",
          "B",
          "B",
          "B",
          "B",
          "B",
          "B",
          "B",
          "B",
          "B",
          "B",
          "B",
          "B",
          "B",
          "B",
          "B",
          "B",
          "B",
          "B",
          "B",
          "B",
          "B",
          "B",
          "B",
          "B",
          "B",
          "B",
          "B",
          "B",
          "B",
          "B",
          "B",
          "B",
          "B",
          "B",
          "B",
          "B",
          "B",
          "B",
          "B",
          "B",
          "B",
          "B",
          "B",
          "B",
          "B",
          "B",
          "B",
          "B",
          "B"
         ],
         "yaxis": "y2"
        }
       ],
       "layout": {
        "barmode": "overlay",
        "hovermode": "closest",
        "legend": {
         "traceorder": "reversed"
        },
        "showlegend": false,
        "template": {
         "data": {
          "bar": [
           {
            "error_x": {
             "color": "rgb(36,36,36)"
            },
            "error_y": {
             "color": "rgb(36,36,36)"
            },
            "marker": {
             "line": {
              "color": "white",
              "width": 0.5
             },
             "pattern": {
              "fillmode": "overlay",
              "size": 10,
              "solidity": 0.2
             }
            },
            "type": "bar"
           }
          ],
          "barpolar": [
           {
            "marker": {
             "line": {
              "color": "white",
              "width": 0.5
             },
             "pattern": {
              "fillmode": "overlay",
              "size": 10,
              "solidity": 0.2
             }
            },
            "type": "barpolar"
           }
          ],
          "carpet": [
           {
            "aaxis": {
             "endlinecolor": "rgb(36,36,36)",
             "gridcolor": "white",
             "linecolor": "white",
             "minorgridcolor": "white",
             "startlinecolor": "rgb(36,36,36)"
            },
            "baxis": {
             "endlinecolor": "rgb(36,36,36)",
             "gridcolor": "white",
             "linecolor": "white",
             "minorgridcolor": "white",
             "startlinecolor": "rgb(36,36,36)"
            },
            "type": "carpet"
           }
          ],
          "choropleth": [
           {
            "colorbar": {
             "outlinewidth": 1,
             "tickcolor": "rgb(36,36,36)",
             "ticks": "outside"
            },
            "type": "choropleth"
           }
          ],
          "contour": [
           {
            "colorbar": {
             "outlinewidth": 1,
             "tickcolor": "rgb(36,36,36)",
             "ticks": "outside"
            },
            "colorscale": [
             [
              0,
              "#440154"
             ],
             [
              0.1111111111111111,
              "#482878"
             ],
             [
              0.2222222222222222,
              "#3e4989"
             ],
             [
              0.3333333333333333,
              "#31688e"
             ],
             [
              0.4444444444444444,
              "#26828e"
             ],
             [
              0.5555555555555556,
              "#1f9e89"
             ],
             [
              0.6666666666666666,
              "#35b779"
             ],
             [
              0.7777777777777778,
              "#6ece58"
             ],
             [
              0.8888888888888888,
              "#b5de2b"
             ],
             [
              1,
              "#fde725"
             ]
            ],
            "type": "contour"
           }
          ],
          "contourcarpet": [
           {
            "colorbar": {
             "outlinewidth": 1,
             "tickcolor": "rgb(36,36,36)",
             "ticks": "outside"
            },
            "type": "contourcarpet"
           }
          ],
          "heatmap": [
           {
            "colorbar": {
             "outlinewidth": 1,
             "tickcolor": "rgb(36,36,36)",
             "ticks": "outside"
            },
            "colorscale": [
             [
              0,
              "#440154"
             ],
             [
              0.1111111111111111,
              "#482878"
             ],
             [
              0.2222222222222222,
              "#3e4989"
             ],
             [
              0.3333333333333333,
              "#31688e"
             ],
             [
              0.4444444444444444,
              "#26828e"
             ],
             [
              0.5555555555555556,
              "#1f9e89"
             ],
             [
              0.6666666666666666,
              "#35b779"
             ],
             [
              0.7777777777777778,
              "#6ece58"
             ],
             [
              0.8888888888888888,
              "#b5de2b"
             ],
             [
              1,
              "#fde725"
             ]
            ],
            "type": "heatmap"
           }
          ],
          "heatmapgl": [
           {
            "colorbar": {
             "outlinewidth": 1,
             "tickcolor": "rgb(36,36,36)",
             "ticks": "outside"
            },
            "colorscale": [
             [
              0,
              "#440154"
             ],
             [
              0.1111111111111111,
              "#482878"
             ],
             [
              0.2222222222222222,
              "#3e4989"
             ],
             [
              0.3333333333333333,
              "#31688e"
             ],
             [
              0.4444444444444444,
              "#26828e"
             ],
             [
              0.5555555555555556,
              "#1f9e89"
             ],
             [
              0.6666666666666666,
              "#35b779"
             ],
             [
              0.7777777777777778,
              "#6ece58"
             ],
             [
              0.8888888888888888,
              "#b5de2b"
             ],
             [
              1,
              "#fde725"
             ]
            ],
            "type": "heatmapgl"
           }
          ],
          "histogram": [
           {
            "marker": {
             "line": {
              "color": "white",
              "width": 0.6
             }
            },
            "type": "histogram"
           }
          ],
          "histogram2d": [
           {
            "colorbar": {
             "outlinewidth": 1,
             "tickcolor": "rgb(36,36,36)",
             "ticks": "outside"
            },
            "colorscale": [
             [
              0,
              "#440154"
             ],
             [
              0.1111111111111111,
              "#482878"
             ],
             [
              0.2222222222222222,
              "#3e4989"
             ],
             [
              0.3333333333333333,
              "#31688e"
             ],
             [
              0.4444444444444444,
              "#26828e"
             ],
             [
              0.5555555555555556,
              "#1f9e89"
             ],
             [
              0.6666666666666666,
              "#35b779"
             ],
             [
              0.7777777777777778,
              "#6ece58"
             ],
             [
              0.8888888888888888,
              "#b5de2b"
             ],
             [
              1,
              "#fde725"
             ]
            ],
            "type": "histogram2d"
           }
          ],
          "histogram2dcontour": [
           {
            "colorbar": {
             "outlinewidth": 1,
             "tickcolor": "rgb(36,36,36)",
             "ticks": "outside"
            },
            "colorscale": [
             [
              0,
              "#440154"
             ],
             [
              0.1111111111111111,
              "#482878"
             ],
             [
              0.2222222222222222,
              "#3e4989"
             ],
             [
              0.3333333333333333,
              "#31688e"
             ],
             [
              0.4444444444444444,
              "#26828e"
             ],
             [
              0.5555555555555556,
              "#1f9e89"
             ],
             [
              0.6666666666666666,
              "#35b779"
             ],
             [
              0.7777777777777778,
              "#6ece58"
             ],
             [
              0.8888888888888888,
              "#b5de2b"
             ],
             [
              1,
              "#fde725"
             ]
            ],
            "type": "histogram2dcontour"
           }
          ],
          "mesh3d": [
           {
            "colorbar": {
             "outlinewidth": 1,
             "tickcolor": "rgb(36,36,36)",
             "ticks": "outside"
            },
            "type": "mesh3d"
           }
          ],
          "parcoords": [
           {
            "line": {
             "colorbar": {
              "outlinewidth": 1,
              "tickcolor": "rgb(36,36,36)",
              "ticks": "outside"
             }
            },
            "type": "parcoords"
           }
          ],
          "pie": [
           {
            "automargin": true,
            "type": "pie"
           }
          ],
          "scatter": [
           {
            "fillpattern": {
             "fillmode": "overlay",
             "size": 10,
             "solidity": 0.2
            },
            "type": "scatter"
           }
          ],
          "scatter3d": [
           {
            "line": {
             "colorbar": {
              "outlinewidth": 1,
              "tickcolor": "rgb(36,36,36)",
              "ticks": "outside"
             }
            },
            "marker": {
             "colorbar": {
              "outlinewidth": 1,
              "tickcolor": "rgb(36,36,36)",
              "ticks": "outside"
             }
            },
            "type": "scatter3d"
           }
          ],
          "scattercarpet": [
           {
            "marker": {
             "colorbar": {
              "outlinewidth": 1,
              "tickcolor": "rgb(36,36,36)",
              "ticks": "outside"
             }
            },
            "type": "scattercarpet"
           }
          ],
          "scattergeo": [
           {
            "marker": {
             "colorbar": {
              "outlinewidth": 1,
              "tickcolor": "rgb(36,36,36)",
              "ticks": "outside"
             }
            },
            "type": "scattergeo"
           }
          ],
          "scattergl": [
           {
            "marker": {
             "colorbar": {
              "outlinewidth": 1,
              "tickcolor": "rgb(36,36,36)",
              "ticks": "outside"
             }
            },
            "type": "scattergl"
           }
          ],
          "scattermapbox": [
           {
            "marker": {
             "colorbar": {
              "outlinewidth": 1,
              "tickcolor": "rgb(36,36,36)",
              "ticks": "outside"
             }
            },
            "type": "scattermapbox"
           }
          ],
          "scatterpolar": [
           {
            "marker": {
             "colorbar": {
              "outlinewidth": 1,
              "tickcolor": "rgb(36,36,36)",
              "ticks": "outside"
             }
            },
            "type": "scatterpolar"
           }
          ],
          "scatterpolargl": [
           {
            "marker": {
             "colorbar": {
              "outlinewidth": 1,
              "tickcolor": "rgb(36,36,36)",
              "ticks": "outside"
             }
            },
            "type": "scatterpolargl"
           }
          ],
          "scatterternary": [
           {
            "marker": {
             "colorbar": {
              "outlinewidth": 1,
              "tickcolor": "rgb(36,36,36)",
              "ticks": "outside"
             }
            },
            "type": "scatterternary"
           }
          ],
          "surface": [
           {
            "colorbar": {
             "outlinewidth": 1,
             "tickcolor": "rgb(36,36,36)",
             "ticks": "outside"
            },
            "colorscale": [
             [
              0,
              "#440154"
             ],
             [
              0.1111111111111111,
              "#482878"
             ],
             [
              0.2222222222222222,
              "#3e4989"
             ],
             [
              0.3333333333333333,
              "#31688e"
             ],
             [
              0.4444444444444444,
              "#26828e"
             ],
             [
              0.5555555555555556,
              "#1f9e89"
             ],
             [
              0.6666666666666666,
              "#35b779"
             ],
             [
              0.7777777777777778,
              "#6ece58"
             ],
             [
              0.8888888888888888,
              "#b5de2b"
             ],
             [
              1,
              "#fde725"
             ]
            ],
            "type": "surface"
           }
          ],
          "table": [
           {
            "cells": {
             "fill": {
              "color": "rgb(237,237,237)"
             },
             "line": {
              "color": "white"
             }
            },
            "header": {
             "fill": {
              "color": "rgb(217,217,217)"
             },
             "line": {
              "color": "white"
             }
            },
            "type": "table"
           }
          ]
         },
         "layout": {
          "annotationdefaults": {
           "arrowhead": 0,
           "arrowwidth": 1
          },
          "autotypenumbers": "strict",
          "coloraxis": {
           "colorbar": {
            "outlinewidth": 1,
            "tickcolor": "rgb(36,36,36)",
            "ticks": "outside"
           }
          },
          "colorscale": {
           "diverging": [
            [
             0,
             "rgb(103,0,31)"
            ],
            [
             0.1,
             "rgb(178,24,43)"
            ],
            [
             0.2,
             "rgb(214,96,77)"
            ],
            [
             0.3,
             "rgb(244,165,130)"
            ],
            [
             0.4,
             "rgb(253,219,199)"
            ],
            [
             0.5,
             "rgb(247,247,247)"
            ],
            [
             0.6,
             "rgb(209,229,240)"
            ],
            [
             0.7,
             "rgb(146,197,222)"
            ],
            [
             0.8,
             "rgb(67,147,195)"
            ],
            [
             0.9,
             "rgb(33,102,172)"
            ],
            [
             1,
             "rgb(5,48,97)"
            ]
           ],
           "sequential": [
            [
             0,
             "#440154"
            ],
            [
             0.1111111111111111,
             "#482878"
            ],
            [
             0.2222222222222222,
             "#3e4989"
            ],
            [
             0.3333333333333333,
             "#31688e"
            ],
            [
             0.4444444444444444,
             "#26828e"
            ],
            [
             0.5555555555555556,
             "#1f9e89"
            ],
            [
             0.6666666666666666,
             "#35b779"
            ],
            [
             0.7777777777777778,
             "#6ece58"
            ],
            [
             0.8888888888888888,
             "#b5de2b"
            ],
            [
             1,
             "#fde725"
            ]
           ],
           "sequentialminus": [
            [
             0,
             "#440154"
            ],
            [
             0.1111111111111111,
             "#482878"
            ],
            [
             0.2222222222222222,
             "#3e4989"
            ],
            [
             0.3333333333333333,
             "#31688e"
            ],
            [
             0.4444444444444444,
             "#26828e"
            ],
            [
             0.5555555555555556,
             "#1f9e89"
            ],
            [
             0.6666666666666666,
             "#35b779"
            ],
            [
             0.7777777777777778,
             "#6ece58"
            ],
            [
             0.8888888888888888,
             "#b5de2b"
            ],
            [
             1,
             "#fde725"
            ]
           ]
          },
          "colorway": [
           "#1F77B4",
           "#FF7F0E",
           "#2CA02C",
           "#D62728",
           "#9467BD",
           "#8C564B",
           "#E377C2",
           "#7F7F7F",
           "#BCBD22",
           "#17BECF"
          ],
          "font": {
           "color": "rgb(36,36,36)"
          },
          "geo": {
           "bgcolor": "white",
           "lakecolor": "white",
           "landcolor": "white",
           "showlakes": true,
           "showland": true,
           "subunitcolor": "white"
          },
          "hoverlabel": {
           "align": "left"
          },
          "hovermode": "closest",
          "mapbox": {
           "style": "light"
          },
          "paper_bgcolor": "white",
          "plot_bgcolor": "white",
          "polar": {
           "angularaxis": {
            "gridcolor": "rgb(232,232,232)",
            "linecolor": "rgb(36,36,36)",
            "showgrid": false,
            "showline": true,
            "ticks": "outside"
           },
           "bgcolor": "white",
           "radialaxis": {
            "gridcolor": "rgb(232,232,232)",
            "linecolor": "rgb(36,36,36)",
            "showgrid": false,
            "showline": true,
            "ticks": "outside"
           }
          },
          "scene": {
           "xaxis": {
            "backgroundcolor": "white",
            "gridcolor": "rgb(232,232,232)",
            "gridwidth": 2,
            "linecolor": "rgb(36,36,36)",
            "showbackground": true,
            "showgrid": false,
            "showline": true,
            "ticks": "outside",
            "zeroline": false,
            "zerolinecolor": "rgb(36,36,36)"
           },
           "yaxis": {
            "backgroundcolor": "white",
            "gridcolor": "rgb(232,232,232)",
            "gridwidth": 2,
            "linecolor": "rgb(36,36,36)",
            "showbackground": true,
            "showgrid": false,
            "showline": true,
            "ticks": "outside",
            "zeroline": false,
            "zerolinecolor": "rgb(36,36,36)"
           },
           "zaxis": {
            "backgroundcolor": "white",
            "gridcolor": "rgb(232,232,232)",
            "gridwidth": 2,
            "linecolor": "rgb(36,36,36)",
            "showbackground": true,
            "showgrid": false,
            "showline": true,
            "ticks": "outside",
            "zeroline": false,
            "zerolinecolor": "rgb(36,36,36)"
           }
          },
          "shapedefaults": {
           "fillcolor": "black",
           "line": {
            "width": 0
           },
           "opacity": 0.3
          },
          "ternary": {
           "aaxis": {
            "gridcolor": "rgb(232,232,232)",
            "linecolor": "rgb(36,36,36)",
            "showgrid": false,
            "showline": true,
            "ticks": "outside"
           },
           "baxis": {
            "gridcolor": "rgb(232,232,232)",
            "linecolor": "rgb(36,36,36)",
            "showgrid": false,
            "showline": true,
            "ticks": "outside"
           },
           "bgcolor": "white",
           "caxis": {
            "gridcolor": "rgb(232,232,232)",
            "linecolor": "rgb(36,36,36)",
            "showgrid": false,
            "showline": true,
            "ticks": "outside"
           }
          },
          "title": {
           "x": 0.05
          },
          "xaxis": {
           "automargin": true,
           "gridcolor": "rgb(232,232,232)",
           "linecolor": "rgb(36,36,36)",
           "showgrid": false,
           "showline": true,
           "ticks": "outside",
           "title": {
            "standoff": 15
           },
           "zeroline": false,
           "zerolinecolor": "rgb(36,36,36)"
          },
          "yaxis": {
           "automargin": true,
           "gridcolor": "rgb(232,232,232)",
           "linecolor": "rgb(36,36,36)",
           "showgrid": false,
           "showline": true,
           "ticks": "outside",
           "title": {
            "standoff": 15
           },
           "zeroline": false,
           "zerolinecolor": "rgb(36,36,36)"
          }
         }
        },
        "title": {
         "text": "Distribution of blue channel values"
        },
        "xaxis": {
         "anchor": "y2",
         "domain": [
          0,
          1
         ],
         "zeroline": false
        },
        "yaxis": {
         "anchor": "free",
         "domain": [
          0.35,
          1
         ],
         "position": 0
        },
        "yaxis2": {
         "anchor": "x",
         "domain": [
          0,
          0.25
         ],
         "dtick": 1,
         "showticklabels": false
        }
       }
      }
     },
     "metadata": {},
     "output_type": "display_data"
    }
   ],
   "source": [
    "fig = ff.create_distplot([blue_values], group_labels=[\"B\"], colors=[\"blue\"])\n",
    "fig.update_layout(showlegend=False, template=\"simple_white\")\n",
    "fig.update_layout(title_text=\"Distribution of blue channel values\")\n",
    "fig.data[0].marker.line.color = 'rgb(0, 0, 0)'\n",
    "fig.data[0].marker.line.width = 0.5\n",
    "fig\n"
   ]
  },
  {
   "cell_type": "code",
   "execution_count": 12,
   "metadata": {},
   "outputs": [
    {
     "data": {
      "application/vnd.plotly.v1+json": {
       "config": {
        "plotlyServerURL": "https://plot.ly"
       },
       "data": [
        {
         "marker": {
          "color": "red"
         },
         "name": "Red",
         "type": "box",
         "x": [
          "Red",
          "Red",
          "Red",
          "Red",
          "Red",
          "Red",
          "Red",
          "Red",
          "Red",
          "Red",
          "Red",
          "Red",
          "Red",
          "Red",
          "Red",
          "Red",
          "Red",
          "Red",
          "Red",
          "Red",
          "Red",
          "Red",
          "Red",
          "Red",
          "Red",
          "Red",
          "Red",
          "Red",
          "Red",
          "Red",
          "Red",
          "Red",
          "Red",
          "Red",
          "Red",
          "Red",
          "Red",
          "Red",
          "Red",
          "Red",
          "Red",
          "Red",
          "Red",
          "Red",
          "Red",
          "Red",
          "Red",
          "Red",
          "Red",
          "Red",
          "Red",
          "Red",
          "Red",
          "Red",
          "Red",
          "Red",
          "Red",
          "Red",
          "Red",
          "Red",
          "Red",
          "Red",
          "Red",
          "Red",
          "Red",
          "Red",
          "Red",
          "Red",
          "Red",
          "Red",
          "Red",
          "Red",
          "Red",
          "Red",
          "Red",
          "Red",
          "Red",
          "Red",
          "Red",
          "Red",
          "Red",
          "Red",
          "Red",
          "Red",
          "Red",
          "Red",
          "Red",
          "Red",
          "Red",
          "Red",
          "Red",
          "Red",
          "Red",
          "Red",
          "Red",
          "Red",
          "Red",
          "Red",
          "Red",
          "Red"
         ],
         "y": [
          109.88538518772894,
          130.24837060725733,
          108.7034172533196,
          127.22118782909799,
          81.23115770947803,
          123.95277694310897,
          104.56805460164836,
          115.2031468206273,
          93.95971017914377,
          79.24811484088828,
          91.26290028331044,
          109.21686376774268,
          121.89035492502289,
          105.07857464800824,
          95.49624470581502,
          96.15216846955128,
          99.19379006410256,
          100.10775419242216,
          99.51522042410714,
          105.14262391254579,
          108.45544049049909,
          93.49179222470238,
          100.91997481684982,
          108.03607987065018,
          90.3776381496108,
          112.76239197000916,
          96.46827638507327,
          141.22486049107144,
          124.44289112580128,
          67.0477056146978,
          119.01223171359891,
          108.13080822172618,
          100.95760574061356,
          92.09419535542582,
          96.23660356570512,
          95.73412817651099,
          80.47464800824176,
          95.67118282108517,
          160.69143129006412,
          81.23971425709706,
          137.82576121794872,
          103.67609317765567,
          161.43473521920788,
          106.24883563701923,
          88.39481348729396,
          97.9094948345925,
          100.9132576407967,
          90.65359181833792,
          91.22200628147894,
          103.03511797447344,
          115.17326901614011,
          75.97304401327838,
          111.38438358516484,
          75.20321800595238,
          124.38267549507783,
          86.19860204899267,
          125.32975940075549,
          98.07443087511447,
          88.09978680173992,
          96.26706015338827,
          104.56917711195055,
          143.34940368875917,
          140.0901842948718,
          107.34990878262363,
          127.9975593091804,
          90.64717369219322,
          88.06087811927655,
          96.61024925595238,
          93.09616386217948,
          106.08151614010988,
          87.10346268315018,
          102.81859654017858,
          96.74673119848902,
          100.8622814360119,
          95.2329341231685,
          119.70608008527931,
          92.24759722699176,
          105.6406718606914,
          78.22706723614927,
          106.21532595009157,
          104.95522908081502,
          95.4783453525641,
          115.14477914663462,
          98.00697222699176,
          133.34018286401098,
          120.01927119104853,
          103.66985247825092,
          98.36967862866301,
          72.67672382955585,
          103.66783353365385,
          81.76022350045787,
          78.97306082589286,
          83.91678685897436,
          107.39958612351191,
          83.69398394574176,
          75.44243360805861,
          81.09404439961081,
          103.07012469951923,
          102.21488703353938,
          108.58970388335622
         ]
        },
        {
         "marker": {
          "color": "green"
         },
         "name": "Green",
         "type": "box",
         "x": [
          "Green",
          "Green",
          "Green",
          "Green",
          "Green",
          "Green",
          "Green",
          "Green",
          "Green",
          "Green",
          "Green",
          "Green",
          "Green",
          "Green",
          "Green",
          "Green",
          "Green",
          "Green",
          "Green",
          "Green",
          "Green",
          "Green",
          "Green",
          "Green",
          "Green",
          "Green",
          "Green",
          "Green",
          "Green",
          "Green",
          "Green",
          "Green",
          "Green",
          "Green",
          "Green",
          "Green",
          "Green",
          "Green",
          "Green",
          "Green",
          "Green",
          "Green",
          "Green",
          "Green",
          "Green",
          "Green",
          "Green",
          "Green",
          "Green",
          "Green",
          "Green",
          "Green",
          "Green",
          "Green",
          "Green",
          "Green",
          "Green",
          "Green",
          "Green",
          "Green",
          "Green",
          "Green",
          "Green",
          "Green",
          "Green",
          "Green",
          "Green",
          "Green",
          "Green",
          "Green",
          "Green",
          "Green",
          "Green",
          "Green",
          "Green",
          "Green",
          "Green",
          "Green",
          "Green",
          "Green",
          "Green",
          "Green",
          "Green",
          "Green",
          "Green",
          "Green",
          "Green",
          "Green",
          "Green",
          "Green",
          "Green",
          "Green",
          "Green",
          "Green",
          "Green",
          "Green",
          "Green",
          "Green",
          "Green",
          "Green"
         ],
         "y": [
          125.92051174736721,
          142.04248511904763,
          147.17633284684067,
          152.63441363324176,
          125.93263400011448,
          142.17530906593407,
          141.76107486263737,
          135.82183958619507,
          116.58945133642399,
          111.6365978422619,
          117.46722291380495,
          141.87390646462913,
          147.67051639766484,
          138.39030234088827,
          124.32840652186356,
          132.68838927999084,
          144.87796724759616,
          138.24785549736723,
          138.6452141283196,
          118.42165929773351,
          139.8699916294643,
          109.21282516311813,
          146.49287645947803,
          115.73733867044415,
          107.67479824862637,
          140.31908911401098,
          126.42100467891484,
          148.18821757669414,
          143.31768687042126,
          79.9801253434066,
          134.21875500801283,
          140.68833991529303,
          115.58296989468865,
          125.65292396405678,
          137.33922347184065,
          124.19690469036172,
          123.82649381868131,
          101.40667997367215,
          165.22452888907966,
          113.97647807921246,
          151.86402565533425,
          131.4567812070742,
          174.4321775555174,
          142.42380058092948,
          133.10494505494506,
          111.41704369848901,
          122.14730962396978,
          124.04589092548076,
          136.6264380151099,
          113.99266183035714,
          136.3545891283196,
          106.09490685096154,
          139.5470932062729,
          107.73340308779763,
          150.36383034283426,
          140.93647049565018,
          156.6292535914606,
          119.47179022149726,
          126.89968556833792,
          129.84123883928572,
          125.9137190934066,
          163.3794624971383,
          157.16527658539377,
          115.74458598042582,
          160.912404132326,
          127.02376445169413,
          140.4215866815476,
          141.1545644459707,
          129.2410445999313,
          147.44786694425366,
          131.3172601161859,
          140.41967075892856,
          129.93126073145604,
          113.06446385645604,
          139.96902722928112,
          136.3576948116987,
          135.15144445398352,
          135.66048964056776,
          111.0792961595696,
          125.68986735920329,
          137.86536672962455,
          121.2737297533196,
          133.7967762706044,
          116.81734954498626,
          157.2044900412088,
          140.50851791437728,
          127.42354302598443,
          141.4670157967033,
          100.14452302255036,
          122.62815182864011,
          127.97022951007327,
          117.38370464171246,
          123.04548778044872,
          127.03663075206045,
          112.15408868475275,
          117.24751996050824,
          110.38206201350732,
          139.64395747481686,
          126.36933915693682,
          131.7125250400641
         ]
        },
        {
         "marker": {
          "color": "blue"
         },
         "name": "Blue",
         "type": "box",
         "x": [
          "Blue",
          "Blue",
          "Blue",
          "Blue",
          "Blue",
          "Blue",
          "Blue",
          "Blue",
          "Blue",
          "Blue",
          "Blue",
          "Blue",
          "Blue",
          "Blue",
          "Blue",
          "Blue",
          "Blue",
          "Blue",
          "Blue",
          "Blue",
          "Blue",
          "Blue",
          "Blue",
          "Blue",
          "Blue",
          "Blue",
          "Blue",
          "Blue",
          "Blue",
          "Blue",
          "Blue",
          "Blue",
          "Blue",
          "Blue",
          "Blue",
          "Blue",
          "Blue",
          "Blue",
          "Blue",
          "Blue",
          "Blue",
          "Blue",
          "Blue",
          "Blue",
          "Blue",
          "Blue",
          "Blue",
          "Blue",
          "Blue",
          "Blue",
          "Blue",
          "Blue",
          "Blue",
          "Blue",
          "Blue",
          "Blue",
          "Blue",
          "Blue",
          "Blue",
          "Blue",
          "Blue",
          "Blue",
          "Blue",
          "Blue",
          "Blue",
          "Blue",
          "Blue",
          "Blue",
          "Blue",
          "Blue",
          "Blue",
          "Blue",
          "Blue",
          "Blue",
          "Blue",
          "Blue",
          "Blue",
          "Blue",
          "Blue",
          "Blue",
          "Blue",
          "Blue",
          "Blue",
          "Blue",
          "Blue",
          "Blue",
          "Blue",
          "Blue",
          "Blue",
          "Blue",
          "Blue",
          "Blue",
          "Blue",
          "Blue",
          "Blue",
          "Blue",
          "Blue",
          "Blue",
          "Blue",
          "Blue"
         ],
         "y": [
          54.53553185096154,
          93.31749334649726,
          103.6943141168727,
          89.5318348643544,
          77.75673363095238,
          100.90746265453296,
          76.35283668154761,
          100.6609110290751,
          54.935957889766485,
          63.96526370764652,
          55.559871508699636,
          86.2899181547619,
          79.02957160027472,
          106.69048727964744,
          73.17298033997253,
          84.06968149038461,
          100.51995478479853,
          87.20515574919872,
          107.26548584878662,
          70.87534591059982,
          78.09588412889194,
          63.98942379235348,
          81.76646920787546,
          80.27489375858516,
          76.53615284455128,
          77.86103801797161,
          72.78620113610349,
          90.07916022779304,
          77.29632447630495,
          34.3161858974359,
          67.77858287545787,
          75.16602850274725,
          54.24973743704212,
          87.49028016254579,
          105.0233899238782,
          69.04509679773352,
          88.08066907051283,
          65.3456773695055,
          110.48256496108058,
          82.31186040521978,
          82.7072015224359,
          78.17158668154762,
          102.2465086996337,
          82.17068416609432,
          86.54288110977564,
          78.70496079441392,
          98.45296188186813,
          72.34582009787088,
          86.09037638793498,
          68.51702509729853,
          69.05045930631869,
          61.13990706559066,
          77.51573195684524,
          77.02901356456044,
          113.89512183779762,
          74.43263578869048,
          74.08667224702381,
          76.39275269001831,
          104.00902944711538,
          80.67903645833333,
          88.97003813244048,
          90.86196879292582,
          93.25087461366758,
          48.912527544070514,
          77.9515850360577,
          62.75745728880494,
          90.34182763850733,
          108.76602349473443,
          106.25530742044414,
          63.06332739526099,
          86.46733487866301,
          74.51140324519231,
          104.15980390052655,
          58.674107142857146,
          62.40749592204671,
          91.57578947744963,
          95.6504138764881,
          70.05354781936813,
          54.160501445169416,
          77.9648430345696,
          76.55155928056318,
          63.33613674736721,
          90.09093084649726,
          82.2001219808837,
          98.37507798191392,
          71.08867688301282,
          112.23646906478938,
          90.82241479223902,
          81.93420544299451,
          47.23257354624542,
          101.23318917410714,
          59.08222906650641,
          92.47016941391941,
          74.3637702466804,
          47.380259486607144,
          73.55488567422161,
          53.40692250457875,
          69.46683980082418,
          82.42657859718406,
          71.1710200606685
         ]
        }
       ],
       "layout": {
        "template": {
         "data": {
          "bar": [
           {
            "error_x": {
             "color": "#2a3f5f"
            },
            "error_y": {
             "color": "#2a3f5f"
            },
            "marker": {
             "line": {
              "color": "white",
              "width": 0.5
             },
             "pattern": {
              "fillmode": "overlay",
              "size": 10,
              "solidity": 0.2
             }
            },
            "type": "bar"
           }
          ],
          "barpolar": [
           {
            "marker": {
             "line": {
              "color": "white",
              "width": 0.5
             },
             "pattern": {
              "fillmode": "overlay",
              "size": 10,
              "solidity": 0.2
             }
            },
            "type": "barpolar"
           }
          ],
          "carpet": [
           {
            "aaxis": {
             "endlinecolor": "#2a3f5f",
             "gridcolor": "#C8D4E3",
             "linecolor": "#C8D4E3",
             "minorgridcolor": "#C8D4E3",
             "startlinecolor": "#2a3f5f"
            },
            "baxis": {
             "endlinecolor": "#2a3f5f",
             "gridcolor": "#C8D4E3",
             "linecolor": "#C8D4E3",
             "minorgridcolor": "#C8D4E3",
             "startlinecolor": "#2a3f5f"
            },
            "type": "carpet"
           }
          ],
          "choropleth": [
           {
            "colorbar": {
             "outlinewidth": 0,
             "ticks": ""
            },
            "type": "choropleth"
           }
          ],
          "contour": [
           {
            "colorbar": {
             "outlinewidth": 0,
             "ticks": ""
            },
            "colorscale": [
             [
              0,
              "#0d0887"
             ],
             [
              0.1111111111111111,
              "#46039f"
             ],
             [
              0.2222222222222222,
              "#7201a8"
             ],
             [
              0.3333333333333333,
              "#9c179e"
             ],
             [
              0.4444444444444444,
              "#bd3786"
             ],
             [
              0.5555555555555556,
              "#d8576b"
             ],
             [
              0.6666666666666666,
              "#ed7953"
             ],
             [
              0.7777777777777778,
              "#fb9f3a"
             ],
             [
              0.8888888888888888,
              "#fdca26"
             ],
             [
              1,
              "#f0f921"
             ]
            ],
            "type": "contour"
           }
          ],
          "contourcarpet": [
           {
            "colorbar": {
             "outlinewidth": 0,
             "ticks": ""
            },
            "type": "contourcarpet"
           }
          ],
          "heatmap": [
           {
            "colorbar": {
             "outlinewidth": 0,
             "ticks": ""
            },
            "colorscale": [
             [
              0,
              "#0d0887"
             ],
             [
              0.1111111111111111,
              "#46039f"
             ],
             [
              0.2222222222222222,
              "#7201a8"
             ],
             [
              0.3333333333333333,
              "#9c179e"
             ],
             [
              0.4444444444444444,
              "#bd3786"
             ],
             [
              0.5555555555555556,
              "#d8576b"
             ],
             [
              0.6666666666666666,
              "#ed7953"
             ],
             [
              0.7777777777777778,
              "#fb9f3a"
             ],
             [
              0.8888888888888888,
              "#fdca26"
             ],
             [
              1,
              "#f0f921"
             ]
            ],
            "type": "heatmap"
           }
          ],
          "heatmapgl": [
           {
            "colorbar": {
             "outlinewidth": 0,
             "ticks": ""
            },
            "colorscale": [
             [
              0,
              "#0d0887"
             ],
             [
              0.1111111111111111,
              "#46039f"
             ],
             [
              0.2222222222222222,
              "#7201a8"
             ],
             [
              0.3333333333333333,
              "#9c179e"
             ],
             [
              0.4444444444444444,
              "#bd3786"
             ],
             [
              0.5555555555555556,
              "#d8576b"
             ],
             [
              0.6666666666666666,
              "#ed7953"
             ],
             [
              0.7777777777777778,
              "#fb9f3a"
             ],
             [
              0.8888888888888888,
              "#fdca26"
             ],
             [
              1,
              "#f0f921"
             ]
            ],
            "type": "heatmapgl"
           }
          ],
          "histogram": [
           {
            "marker": {
             "pattern": {
              "fillmode": "overlay",
              "size": 10,
              "solidity": 0.2
             }
            },
            "type": "histogram"
           }
          ],
          "histogram2d": [
           {
            "colorbar": {
             "outlinewidth": 0,
             "ticks": ""
            },
            "colorscale": [
             [
              0,
              "#0d0887"
             ],
             [
              0.1111111111111111,
              "#46039f"
             ],
             [
              0.2222222222222222,
              "#7201a8"
             ],
             [
              0.3333333333333333,
              "#9c179e"
             ],
             [
              0.4444444444444444,
              "#bd3786"
             ],
             [
              0.5555555555555556,
              "#d8576b"
             ],
             [
              0.6666666666666666,
              "#ed7953"
             ],
             [
              0.7777777777777778,
              "#fb9f3a"
             ],
             [
              0.8888888888888888,
              "#fdca26"
             ],
             [
              1,
              "#f0f921"
             ]
            ],
            "type": "histogram2d"
           }
          ],
          "histogram2dcontour": [
           {
            "colorbar": {
             "outlinewidth": 0,
             "ticks": ""
            },
            "colorscale": [
             [
              0,
              "#0d0887"
             ],
             [
              0.1111111111111111,
              "#46039f"
             ],
             [
              0.2222222222222222,
              "#7201a8"
             ],
             [
              0.3333333333333333,
              "#9c179e"
             ],
             [
              0.4444444444444444,
              "#bd3786"
             ],
             [
              0.5555555555555556,
              "#d8576b"
             ],
             [
              0.6666666666666666,
              "#ed7953"
             ],
             [
              0.7777777777777778,
              "#fb9f3a"
             ],
             [
              0.8888888888888888,
              "#fdca26"
             ],
             [
              1,
              "#f0f921"
             ]
            ],
            "type": "histogram2dcontour"
           }
          ],
          "mesh3d": [
           {
            "colorbar": {
             "outlinewidth": 0,
             "ticks": ""
            },
            "type": "mesh3d"
           }
          ],
          "parcoords": [
           {
            "line": {
             "colorbar": {
              "outlinewidth": 0,
              "ticks": ""
             }
            },
            "type": "parcoords"
           }
          ],
          "pie": [
           {
            "automargin": true,
            "type": "pie"
           }
          ],
          "scatter": [
           {
            "fillpattern": {
             "fillmode": "overlay",
             "size": 10,
             "solidity": 0.2
            },
            "type": "scatter"
           }
          ],
          "scatter3d": [
           {
            "line": {
             "colorbar": {
              "outlinewidth": 0,
              "ticks": ""
             }
            },
            "marker": {
             "colorbar": {
              "outlinewidth": 0,
              "ticks": ""
             }
            },
            "type": "scatter3d"
           }
          ],
          "scattercarpet": [
           {
            "marker": {
             "colorbar": {
              "outlinewidth": 0,
              "ticks": ""
             }
            },
            "type": "scattercarpet"
           }
          ],
          "scattergeo": [
           {
            "marker": {
             "colorbar": {
              "outlinewidth": 0,
              "ticks": ""
             }
            },
            "type": "scattergeo"
           }
          ],
          "scattergl": [
           {
            "marker": {
             "colorbar": {
              "outlinewidth": 0,
              "ticks": ""
             }
            },
            "type": "scattergl"
           }
          ],
          "scattermapbox": [
           {
            "marker": {
             "colorbar": {
              "outlinewidth": 0,
              "ticks": ""
             }
            },
            "type": "scattermapbox"
           }
          ],
          "scatterpolar": [
           {
            "marker": {
             "colorbar": {
              "outlinewidth": 0,
              "ticks": ""
             }
            },
            "type": "scatterpolar"
           }
          ],
          "scatterpolargl": [
           {
            "marker": {
             "colorbar": {
              "outlinewidth": 0,
              "ticks": ""
             }
            },
            "type": "scatterpolargl"
           }
          ],
          "scatterternary": [
           {
            "marker": {
             "colorbar": {
              "outlinewidth": 0,
              "ticks": ""
             }
            },
            "type": "scatterternary"
           }
          ],
          "surface": [
           {
            "colorbar": {
             "outlinewidth": 0,
             "ticks": ""
            },
            "colorscale": [
             [
              0,
              "#0d0887"
             ],
             [
              0.1111111111111111,
              "#46039f"
             ],
             [
              0.2222222222222222,
              "#7201a8"
             ],
             [
              0.3333333333333333,
              "#9c179e"
             ],
             [
              0.4444444444444444,
              "#bd3786"
             ],
             [
              0.5555555555555556,
              "#d8576b"
             ],
             [
              0.6666666666666666,
              "#ed7953"
             ],
             [
              0.7777777777777778,
              "#fb9f3a"
             ],
             [
              0.8888888888888888,
              "#fdca26"
             ],
             [
              1,
              "#f0f921"
             ]
            ],
            "type": "surface"
           }
          ],
          "table": [
           {
            "cells": {
             "fill": {
              "color": "#EBF0F8"
             },
             "line": {
              "color": "white"
             }
            },
            "header": {
             "fill": {
              "color": "#C8D4E3"
             },
             "line": {
              "color": "white"
             }
            },
            "type": "table"
           }
          ]
         },
         "layout": {
          "annotationdefaults": {
           "arrowcolor": "#2a3f5f",
           "arrowhead": 0,
           "arrowwidth": 1
          },
          "autotypenumbers": "strict",
          "coloraxis": {
           "colorbar": {
            "outlinewidth": 0,
            "ticks": ""
           }
          },
          "colorscale": {
           "diverging": [
            [
             0,
             "#8e0152"
            ],
            [
             0.1,
             "#c51b7d"
            ],
            [
             0.2,
             "#de77ae"
            ],
            [
             0.3,
             "#f1b6da"
            ],
            [
             0.4,
             "#fde0ef"
            ],
            [
             0.5,
             "#f7f7f7"
            ],
            [
             0.6,
             "#e6f5d0"
            ],
            [
             0.7,
             "#b8e186"
            ],
            [
             0.8,
             "#7fbc41"
            ],
            [
             0.9,
             "#4d9221"
            ],
            [
             1,
             "#276419"
            ]
           ],
           "sequential": [
            [
             0,
             "#0d0887"
            ],
            [
             0.1111111111111111,
             "#46039f"
            ],
            [
             0.2222222222222222,
             "#7201a8"
            ],
            [
             0.3333333333333333,
             "#9c179e"
            ],
            [
             0.4444444444444444,
             "#bd3786"
            ],
            [
             0.5555555555555556,
             "#d8576b"
            ],
            [
             0.6666666666666666,
             "#ed7953"
            ],
            [
             0.7777777777777778,
             "#fb9f3a"
            ],
            [
             0.8888888888888888,
             "#fdca26"
            ],
            [
             1,
             "#f0f921"
            ]
           ],
           "sequentialminus": [
            [
             0,
             "#0d0887"
            ],
            [
             0.1111111111111111,
             "#46039f"
            ],
            [
             0.2222222222222222,
             "#7201a8"
            ],
            [
             0.3333333333333333,
             "#9c179e"
            ],
            [
             0.4444444444444444,
             "#bd3786"
            ],
            [
             0.5555555555555556,
             "#d8576b"
            ],
            [
             0.6666666666666666,
             "#ed7953"
            ],
            [
             0.7777777777777778,
             "#fb9f3a"
            ],
            [
             0.8888888888888888,
             "#fdca26"
            ],
            [
             1,
             "#f0f921"
            ]
           ]
          },
          "colorway": [
           "#636efa",
           "#EF553B",
           "#00cc96",
           "#ab63fa",
           "#FFA15A",
           "#19d3f3",
           "#FF6692",
           "#B6E880",
           "#FF97FF",
           "#FECB52"
          ],
          "font": {
           "color": "#2a3f5f"
          },
          "geo": {
           "bgcolor": "white",
           "lakecolor": "white",
           "landcolor": "white",
           "showlakes": true,
           "showland": true,
           "subunitcolor": "#C8D4E3"
          },
          "hoverlabel": {
           "align": "left"
          },
          "hovermode": "closest",
          "mapbox": {
           "style": "light"
          },
          "paper_bgcolor": "white",
          "plot_bgcolor": "white",
          "polar": {
           "angularaxis": {
            "gridcolor": "#EBF0F8",
            "linecolor": "#EBF0F8",
            "ticks": ""
           },
           "bgcolor": "white",
           "radialaxis": {
            "gridcolor": "#EBF0F8",
            "linecolor": "#EBF0F8",
            "ticks": ""
           }
          },
          "scene": {
           "xaxis": {
            "backgroundcolor": "white",
            "gridcolor": "#DFE8F3",
            "gridwidth": 2,
            "linecolor": "#EBF0F8",
            "showbackground": true,
            "ticks": "",
            "zerolinecolor": "#EBF0F8"
           },
           "yaxis": {
            "backgroundcolor": "white",
            "gridcolor": "#DFE8F3",
            "gridwidth": 2,
            "linecolor": "#EBF0F8",
            "showbackground": true,
            "ticks": "",
            "zerolinecolor": "#EBF0F8"
           },
           "zaxis": {
            "backgroundcolor": "white",
            "gridcolor": "#DFE8F3",
            "gridwidth": 2,
            "linecolor": "#EBF0F8",
            "showbackground": true,
            "ticks": "",
            "zerolinecolor": "#EBF0F8"
           }
          },
          "shapedefaults": {
           "line": {
            "color": "#2a3f5f"
           }
          },
          "ternary": {
           "aaxis": {
            "gridcolor": "#DFE8F3",
            "linecolor": "#A2B1C6",
            "ticks": ""
           },
           "baxis": {
            "gridcolor": "#DFE8F3",
            "linecolor": "#A2B1C6",
            "ticks": ""
           },
           "bgcolor": "white",
           "caxis": {
            "gridcolor": "#DFE8F3",
            "linecolor": "#A2B1C6",
            "ticks": ""
           }
          },
          "title": {
           "x": 0.05
          },
          "xaxis": {
           "automargin": true,
           "gridcolor": "#EBF0F8",
           "linecolor": "#EBF0F8",
           "ticks": "",
           "title": {
            "standoff": 15
           },
           "zerolinecolor": "#EBF0F8",
           "zerolinewidth": 2
          },
          "yaxis": {
           "automargin": true,
           "gridcolor": "#EBF0F8",
           "linecolor": "#EBF0F8",
           "ticks": "",
           "title": {
            "standoff": 15
           },
           "zerolinecolor": "#EBF0F8",
           "zerolinewidth": 2
          }
         }
        },
        "title": {
         "text": "Mean value vs. Color channel"
        },
        "xaxis": {
         "title": {
          "text": "Color channel"
         }
        },
        "yaxis": {
         "title": {
          "text": "Mean value"
         }
        }
       }
      }
     },
     "metadata": {},
     "output_type": "display_data"
    }
   ],
   "source": [
    "fig = go.Figure()\n",
    "\n",
    "for idx, values in enumerate([red_values, green_values, blue_values]):\n",
    "    if idx == 0:\n",
    "        color = \"Red\"\n",
    "    if idx == 1:\n",
    "        color = \"Green\"\n",
    "    if idx == 2:\n",
    "        color = \"Blue\"\n",
    "    fig.add_trace(go.Box(x=[color]*len(values), y=values,\n",
    "                  name=color, marker=dict(color=color.lower())))\n",
    "\n",
    "fig.update_layout(yaxis_title=\"Mean value\", xaxis_title=\"Color channel\",\n",
    "                  title=\"Mean value vs. Color channel\", template=\"plotly_white\")\n"
   ]
  },
  {
   "cell_type": "code",
   "execution_count": 13,
   "metadata": {},
   "outputs": [
    {
     "data": {
      "application/vnd.plotly.v1+json": {
       "config": {
        "plotlyServerURL": "https://plot.ly"
       },
       "data": [
        {
         "autobinx": false,
         "histnorm": "probability density",
         "legendgroup": "R",
         "marker": {
          "color": "red",
          "line": {
           "color": "rgb(0, 0, 0)",
           "width": 0.5
          }
         },
         "name": "R",
         "opacity": 0.7,
         "type": "histogram",
         "x": [
          109.88538518772894,
          130.24837060725733,
          108.7034172533196,
          127.22118782909799,
          81.23115770947803,
          123.95277694310897,
          104.56805460164836,
          115.2031468206273,
          93.95971017914377,
          79.24811484088828,
          91.26290028331044,
          109.21686376774268,
          121.89035492502289,
          105.07857464800824,
          95.49624470581502,
          96.15216846955128,
          99.19379006410256,
          100.10775419242216,
          99.51522042410714,
          105.14262391254579,
          108.45544049049909,
          93.49179222470238,
          100.91997481684982,
          108.03607987065018,
          90.3776381496108,
          112.76239197000916,
          96.46827638507327,
          141.22486049107144,
          124.44289112580128,
          67.0477056146978,
          119.01223171359891,
          108.13080822172618,
          100.95760574061356,
          92.09419535542582,
          96.23660356570512,
          95.73412817651099,
          80.47464800824176,
          95.67118282108517,
          160.69143129006412,
          81.23971425709706,
          137.82576121794872,
          103.67609317765567,
          161.43473521920788,
          106.24883563701923,
          88.39481348729396,
          97.9094948345925,
          100.9132576407967,
          90.65359181833792,
          91.22200628147894,
          103.03511797447344,
          115.17326901614011,
          75.97304401327838,
          111.38438358516484,
          75.20321800595238,
          124.38267549507783,
          86.19860204899267,
          125.32975940075549,
          98.07443087511447,
          88.09978680173992,
          96.26706015338827,
          104.56917711195055,
          143.34940368875917,
          140.0901842948718,
          107.34990878262363,
          127.9975593091804,
          90.64717369219322,
          88.06087811927655,
          96.61024925595238,
          93.09616386217948,
          106.08151614010988,
          87.10346268315018,
          102.81859654017858,
          96.74673119848902,
          100.8622814360119,
          95.2329341231685,
          119.70608008527931,
          92.24759722699176,
          105.6406718606914,
          78.22706723614927,
          106.21532595009157,
          104.95522908081502,
          95.4783453525641,
          115.14477914663462,
          98.00697222699176,
          133.34018286401098,
          120.01927119104853,
          103.66985247825092,
          98.36967862866301,
          72.67672382955585,
          103.66783353365385,
          81.76022350045787,
          78.97306082589286,
          83.91678685897436,
          107.39958612351191,
          83.69398394574176,
          75.44243360805861,
          81.09404439961081,
          103.07012469951923,
          102.21488703353938,
          108.58970388335622
         ],
         "xaxis": "x",
         "xbins": {
          "end": 161.43473521920788,
          "size": 1,
          "start": 67.0477056146978
         },
         "yaxis": "y"
        },
        {
         "autobinx": false,
         "histnorm": "probability density",
         "legendgroup": "G",
         "marker": {
          "color": "green",
          "line": {
           "color": "rgb(0, 0, 0)",
           "width": 0.5
          }
         },
         "name": "G",
         "opacity": 0.7,
         "type": "histogram",
         "x": [
          125.92051174736721,
          142.04248511904763,
          147.17633284684067,
          152.63441363324176,
          125.93263400011448,
          142.17530906593407,
          141.76107486263737,
          135.82183958619507,
          116.58945133642399,
          111.6365978422619,
          117.46722291380495,
          141.87390646462913,
          147.67051639766484,
          138.39030234088827,
          124.32840652186356,
          132.68838927999084,
          144.87796724759616,
          138.24785549736723,
          138.6452141283196,
          118.42165929773351,
          139.8699916294643,
          109.21282516311813,
          146.49287645947803,
          115.73733867044415,
          107.67479824862637,
          140.31908911401098,
          126.42100467891484,
          148.18821757669414,
          143.31768687042126,
          79.9801253434066,
          134.21875500801283,
          140.68833991529303,
          115.58296989468865,
          125.65292396405678,
          137.33922347184065,
          124.19690469036172,
          123.82649381868131,
          101.40667997367215,
          165.22452888907966,
          113.97647807921246,
          151.86402565533425,
          131.4567812070742,
          174.4321775555174,
          142.42380058092948,
          133.10494505494506,
          111.41704369848901,
          122.14730962396978,
          124.04589092548076,
          136.6264380151099,
          113.99266183035714,
          136.3545891283196,
          106.09490685096154,
          139.5470932062729,
          107.73340308779763,
          150.36383034283426,
          140.93647049565018,
          156.6292535914606,
          119.47179022149726,
          126.89968556833792,
          129.84123883928572,
          125.9137190934066,
          163.3794624971383,
          157.16527658539377,
          115.74458598042582,
          160.912404132326,
          127.02376445169413,
          140.4215866815476,
          141.1545644459707,
          129.2410445999313,
          147.44786694425366,
          131.3172601161859,
          140.41967075892856,
          129.93126073145604,
          113.06446385645604,
          139.96902722928112,
          136.3576948116987,
          135.15144445398352,
          135.66048964056776,
          111.0792961595696,
          125.68986735920329,
          137.86536672962455,
          121.2737297533196,
          133.7967762706044,
          116.81734954498626,
          157.2044900412088,
          140.50851791437728,
          127.42354302598443,
          141.4670157967033,
          100.14452302255036,
          122.62815182864011,
          127.97022951007327,
          117.38370464171246,
          123.04548778044872,
          127.03663075206045,
          112.15408868475275,
          117.24751996050824,
          110.38206201350732,
          139.64395747481686,
          126.36933915693682,
          131.7125250400641
         ],
         "xaxis": "x",
         "xbins": {
          "end": 174.4321775555174,
          "size": 1,
          "start": 79.9801253434066
         },
         "yaxis": "y"
        },
        {
         "autobinx": false,
         "histnorm": "probability density",
         "legendgroup": "B",
         "marker": {
          "color": "blue",
          "line": {
           "color": "rgb(0, 0, 0)",
           "width": 0.5
          }
         },
         "name": "B",
         "opacity": 0.7,
         "type": "histogram",
         "x": [
          54.53553185096154,
          93.31749334649726,
          103.6943141168727,
          89.5318348643544,
          77.75673363095238,
          100.90746265453296,
          76.35283668154761,
          100.6609110290751,
          54.935957889766485,
          63.96526370764652,
          55.559871508699636,
          86.2899181547619,
          79.02957160027472,
          106.69048727964744,
          73.17298033997253,
          84.06968149038461,
          100.51995478479853,
          87.20515574919872,
          107.26548584878662,
          70.87534591059982,
          78.09588412889194,
          63.98942379235348,
          81.76646920787546,
          80.27489375858516,
          76.53615284455128,
          77.86103801797161,
          72.78620113610349,
          90.07916022779304,
          77.29632447630495,
          34.3161858974359,
          67.77858287545787,
          75.16602850274725,
          54.24973743704212,
          87.49028016254579,
          105.0233899238782,
          69.04509679773352,
          88.08066907051283,
          65.3456773695055,
          110.48256496108058,
          82.31186040521978,
          82.7072015224359,
          78.17158668154762,
          102.2465086996337,
          82.17068416609432,
          86.54288110977564,
          78.70496079441392,
          98.45296188186813,
          72.34582009787088,
          86.09037638793498,
          68.51702509729853,
          69.05045930631869,
          61.13990706559066,
          77.51573195684524,
          77.02901356456044,
          113.89512183779762,
          74.43263578869048,
          74.08667224702381,
          76.39275269001831,
          104.00902944711538,
          80.67903645833333,
          88.97003813244048,
          90.86196879292582,
          93.25087461366758,
          48.912527544070514,
          77.9515850360577,
          62.75745728880494,
          90.34182763850733,
          108.76602349473443,
          106.25530742044414,
          63.06332739526099,
          86.46733487866301,
          74.51140324519231,
          104.15980390052655,
          58.674107142857146,
          62.40749592204671,
          91.57578947744963,
          95.6504138764881,
          70.05354781936813,
          54.160501445169416,
          77.9648430345696,
          76.55155928056318,
          63.33613674736721,
          90.09093084649726,
          82.2001219808837,
          98.37507798191392,
          71.08867688301282,
          112.23646906478938,
          90.82241479223902,
          81.93420544299451,
          47.23257354624542,
          101.23318917410714,
          59.08222906650641,
          92.47016941391941,
          74.3637702466804,
          47.380259486607144,
          73.55488567422161,
          53.40692250457875,
          69.46683980082418,
          82.42657859718406,
          71.1710200606685
         ],
         "xaxis": "x",
         "xbins": {
          "end": 113.89512183779762,
          "size": 1,
          "start": 34.3161858974359
         },
         "yaxis": "y"
        },
        {
         "legendgroup": "R",
         "marker": {
          "color": "red"
         },
         "mode": "lines",
         "name": "R",
         "showlegend": false,
         "type": "scatter",
         "x": [
          67.0477056146978,
          67.23647967390683,
          67.42525373311584,
          67.61402779232486,
          67.80280185153389,
          67.99157591074291,
          68.18034996995192,
          68.36912402916094,
          68.55789808836997,
          68.74667214757899,
          68.935446206788,
          69.12422026599702,
          69.31299432520605,
          69.50176838441507,
          69.69054244362408,
          69.8793165028331,
          70.06809056204213,
          70.25686462125115,
          70.44563868046016,
          70.63441273966919,
          70.82318679887821,
          71.01196085808722,
          71.20073491729624,
          71.38950897650527,
          71.57828303571429,
          71.7670570949233,
          71.95583115413233,
          72.14460521334135,
          72.33337927255037,
          72.52215333175938,
          72.71092739096841,
          72.89970145017743,
          73.08847550938646,
          73.27724956859547,
          73.46602362780449,
          73.65479768701351,
          73.84357174622252,
          74.03234580543155,
          74.22111986464057,
          74.4098939238496,
          74.5986679830586,
          74.78744204226763,
          74.97621610147665,
          75.16499016068568,
          75.35376421989469,
          75.54253827910371,
          75.73131233831273,
          75.92008639752176,
          76.10886045673077,
          76.29763451593979,
          76.48640857514881,
          76.67518263435784,
          76.86395669356685,
          77.05273075277587,
          77.2415048119849,
          77.4302788711939,
          77.61905293040293,
          77.80782698961195,
          77.99660104882098,
          78.18537510802999,
          78.37414916723901,
          78.56292322644804,
          78.75169728565706,
          78.94047134486607,
          79.12924540407509,
          79.31801946328412,
          79.50679352249314,
          79.69556758170215,
          79.88434164091117,
          80.0731157001202,
          80.26188975932922,
          80.45066381853823,
          80.63943787774726,
          80.82821193695628,
          81.01698599616529,
          81.20576005537431,
          81.39453411458334,
          81.58330817379236,
          81.77208223300137,
          81.9608562922104,
          82.14963035141942,
          82.33840441062844,
          82.52717846983745,
          82.71595252904648,
          82.9047265882555,
          83.09350064746451,
          83.28227470667353,
          83.47104876588256,
          83.65982282509158,
          83.8485968843006,
          84.03737094350961,
          84.22614500271864,
          84.41491906192766,
          84.60369312113667,
          84.7924671803457,
          84.98124123955472,
          85.17001529876374,
          85.35878935797275,
          85.54756341718178,
          85.7363374763908,
          85.92511153559983,
          86.11388559480883,
          86.30265965401786,
          86.49143371322688,
          86.6802077724359,
          86.86898183164492,
          87.05775589085394,
          87.24652995006296,
          87.43530400927199,
          87.624078068481,
          87.81285212769002,
          88.00162618689905,
          88.19040024610806,
          88.37917430531708,
          88.5679483645261,
          88.75672242373513,
          88.94549648294415,
          89.13427054215316,
          89.32304460136218,
          89.51181866057121,
          89.70059271978022,
          89.88936677898924,
          90.07814083819827,
          90.26691489740728,
          90.4556889566163,
          90.64446301582532,
          90.83323707503435,
          91.02201113424337,
          91.21078519345238,
          91.3995592526614,
          91.58833331187043,
          91.77710737107944,
          91.96588143028846,
          92.15465548949749,
          92.3434295487065,
          92.53220360791552,
          92.72097766712454,
          92.90975172633357,
          93.09852578554259,
          93.2872998447516,
          93.47607390396062,
          93.66484796316965,
          93.85362202237866,
          94.04239608158768,
          94.2311701407967,
          94.41994420000573,
          94.60871825921474,
          94.79749231842376,
          94.98626637763279,
          95.17504043684181,
          95.36381449605082,
          95.55258855525985,
          95.74136261446887,
          95.9301366736779,
          96.11891073288692,
          96.30768479209593,
          96.49645885130495,
          96.68523291051397,
          96.87400696972298,
          97.06278102893201,
          97.25155508814103,
          97.44032914735004,
          97.62910320655907,
          97.81787726576809,
          98.00665132497711,
          98.19542538418614,
          98.38419944339515,
          98.57297350260417,
          98.7617475618132,
          98.9505216210222,
          99.13929568023123,
          99.32806973944025,
          99.51684379864926,
          99.70561785785829,
          99.89439191706731,
          100.08316597627632,
          100.27194003548536,
          100.46071409469437,
          100.64948815390339,
          100.83826221311242,
          101.02703627232142,
          101.21581033153045,
          101.40458439073947,
          101.59335844994848,
          101.78213250915752,
          101.97090656836653,
          102.15968062757554,
          102.34845468678458,
          102.53722874599359,
          102.72600280520261,
          102.91477686441164,
          103.10355092362065,
          103.29232498282968,
          103.4810990420387,
          103.6698731012477,
          103.85864716045674,
          104.04742121966575,
          104.23619527887477,
          104.4249693380838,
          104.61374339729281,
          104.80251745650185,
          104.99129151571086,
          105.18006557491987,
          105.3688396341289,
          105.55761369333791,
          105.74638775254694,
          105.93516181175596,
          106.12393587096497,
          106.31270993017401,
          106.50148398938302,
          106.69025804859203,
          106.87903210780107,
          107.06780616701008,
          107.2565802262191,
          107.44535428542812,
          107.63412834463713,
          107.82290240384616,
          108.01167646305518,
          108.20045052226419,
          108.38922458147323,
          108.57799864068224,
          108.76677269989126,
          108.95554675910029,
          109.1443208183093,
          109.33309487751832,
          109.52186893672734,
          109.71064299593635,
          109.89941705514538,
          110.0881911143544,
          110.27696517356341,
          110.46573923277245,
          110.65451329198146,
          110.84328735119048,
          111.0320614103995,
          111.22083546960852,
          111.40960952881754,
          111.59838358802656,
          111.78715764723557,
          111.9759317064446,
          112.16470576565362,
          112.35347982486263,
          112.54225388407167,
          112.73102794328068,
          112.9198020024897,
          113.10857606169873,
          113.29735012090774,
          113.48612418011676,
          113.67489823932578,
          113.8636722985348,
          114.05244635774382,
          114.24122041695284,
          114.42999447616187,
          114.61876853537089,
          114.8075425945799,
          114.99631665378892,
          115.18509071299795,
          115.37386477220696,
          115.56263883141598,
          115.751412890625,
          115.94018694983401,
          116.12896100904304,
          116.31773506825206,
          116.50650912746109,
          116.69528318667011,
          116.88405724587912,
          117.07283130508814,
          117.26160536429717,
          117.45037942350618,
          117.6391534827152,
          117.82792754192423,
          118.01670160113324,
          118.20547566034226,
          118.39424971955128,
          118.5830237787603,
          118.77179783796933,
          118.96057189717834,
          119.14934595638736,
          119.33812001559639,
          119.5268940748054,
          119.71566813401444,
          119.90444219322345,
          120.09321625243246,
          120.2819903116415,
          120.4707643708505,
          120.65953843005953,
          120.84831248926855,
          121.03708654847756,
          121.2258606076866,
          121.41463466689561,
          121.60340872610462,
          121.79218278531366,
          121.98095684452267,
          122.16973090373168,
          122.35850496294071,
          122.54727902214972,
          122.73605308135876,
          122.92482714056777,
          123.11360119977678,
          123.30237525898582,
          123.49114931819483,
          123.67992337740384,
          123.86869743661288,
          124.05747149582189,
          124.24624555503091,
          124.43501961423993,
          124.62379367344894,
          124.81256773265798,
          125.00134179186699,
          125.19011585107602,
          125.37888991028504,
          125.56766396949405,
          125.75643802870307,
          125.9452120879121,
          126.1339861471211,
          126.32276020633013,
          126.51153426553915,
          126.70030832474818,
          126.8890823839572,
          127.07785644316621,
          127.26663050237524,
          127.45540456158426,
          127.64417862079327,
          127.8329526800023,
          128.02172673921132,
          128.21050079842033,
          128.39927485762934,
          128.58804891683837,
          128.7768229760474,
          128.96559703525642,
          129.15437109446543,
          129.34314515367447,
          129.53191921288348,
          129.7206932720925,
          129.90946733130153,
          130.09824139051054,
          130.28701544971955,
          130.47578950892859,
          130.6645635681376,
          130.8533376273466,
          131.04211168655564,
          131.23088574576465,
          131.41965980497366,
          131.6084338641827,
          131.7972079233917,
          131.98598198260072,
          132.17475604180976,
          132.36353010101877,
          132.5523041602278,
          132.74107821943682,
          132.92985227864585,
          133.11862633785483,
          133.30740039706387,
          133.4961744562729,
          133.68494851548192,
          133.87372257469093,
          134.06249663389997,
          134.25127069310898,
          134.440044752318,
          134.62881881152703,
          134.81759287073604,
          135.00636692994505,
          135.19514098915408,
          135.3839150483631,
          135.57268910757213,
          135.76146316678114,
          135.95023722599018,
          136.13901128519916,
          136.3277853444082,
          136.51655940361724,
          136.70533346282625,
          136.89410752203526,
          137.0828815812443,
          137.27165564045328,
          137.4604296996623,
          137.64920375887135,
          137.83797781808036,
          138.02675187728937,
          138.2155259364984,
          138.40429999570742,
          138.59307405491643,
          138.78184811412547,
          138.97062217333448,
          139.1593962325435,
          139.34817029175252,
          139.53694435096156,
          139.72571841017057,
          139.91449246937958,
          140.10326652858862,
          140.2920405877976,
          140.48081464700664,
          140.66958870621568,
          140.8583627654247,
          141.0471368246337,
          141.23591088384273,
          141.42468494305174,
          141.61345900226075,
          141.8022330614698,
          141.9910071206788,
          142.1797811798878,
          142.36855523909685,
          142.5573292983059,
          142.74610335751487,
          142.9348774167239,
          143.12365147593292,
          143.31242553514193,
          143.50119959435096,
          143.68997365356,
          143.878747712769,
          144.06752177197802,
          144.25629583118706,
          144.44506989039607,
          144.63384394960508,
          144.82261800881412,
          145.01139206802313,
          145.20016612723214,
          145.38894018644118,
          145.5777142456502,
          145.7664883048592,
          145.95526236406823,
          146.14403642327724,
          146.33281048248625,
          146.5215845416953,
          146.71035860090433,
          146.8991326601133,
          147.08790671932235,
          147.27668077853136,
          147.4654548377404,
          147.6542288969494,
          147.84300295615844,
          148.03177701536745,
          148.22055107457646,
          148.4093251337855,
          148.5980991929945,
          148.78687325220352,
          148.97564731141256,
          149.16442137062157,
          149.35319542983058,
          149.54196948903962,
          149.73074354824865,
          149.91951760745764,
          150.10829166666667,
          150.29706572587568,
          150.48583978508472,
          150.67461384429373,
          150.86338790350277,
          151.05216196271175,
          151.2409360219208,
          151.42971008112983,
          151.61848414033884,
          151.80725819954785,
          151.99603225875688,
          152.1848063179659,
          152.3735803771749,
          152.56235443638394,
          152.75112849559295,
          152.93990255480196,
          153.128676614011,
          153.31745067322,
          153.50622473242902,
          153.69499879163806,
          153.8837728508471,
          154.07254691005608,
          154.2613209692651,
          154.45009502847415,
          154.63886908768316,
          154.82764314689217,
          155.0164172061012,
          155.2051912653102,
          155.39396532451923,
          155.58273938372827,
          155.77151344293728,
          155.9602875021463,
          156.14906156135532,
          156.33783562056433,
          156.52660967977334,
          156.71538373898238,
          156.9041577981914,
          157.0929318574004,
          157.28170591660944,
          157.47047997581848,
          157.65925403502746,
          157.8480280942365,
          158.03680215344554,
          158.22557621265452,
          158.41435027186355,
          158.6031243310726,
          158.7918983902816,
          158.9806724494906,
          159.16944650869965,
          159.35822056790863,
          159.54699462711767,
          159.7357686863267,
          159.92454274553572,
          160.11331680474473,
          160.30209086395377,
          160.4908649231628,
          160.67963898237178,
          160.86841304158082,
          161.05718710078983,
          161.24596115999884
         ],
         "xaxis": "x",
         "y": [
          0.0027570295298391862,
          0.0028413538737520555,
          0.002927321942014719,
          0.003014927773336102,
          0.0031041635821685946,
          0.0031950197275819594,
          0.003287484687077078,
          0.003381545035688001,
          0.003477185430709815,
          0.0035743886023774044,
          0.0036731353508040777,
          0.003773404549471432,
          0.0038751731555407673,
          0.003978416227233832,
          0.004083106948504547,
          0.004189216661195846,
          0.004296714904845348,
          0.004405569464271047,
          0.004515746425033889,
          0.004627210236837266,
          0.0047399237848853755,
          0.004853848469182379,
          0.004968944291712896,
          0.0050851699514015995,
          0.005202482946706233,
          0.005320839685653861,
          0.005440195603084987,
          0.00556050528482517,
          0.005681722598458242,
          0.005803800830330462,
          0.0059266928283700894,
          0.0060503511502634595,
          0.006174728216486129,
          0.006299776467646189,
          0.006425448525557865,
          0.006551697357425521,
          0.0066784764424836175,
          0.006805739940404972,
          0.006933442860760188,
          0.007061541232784265,
          0.007189992274682859,
          0.007318754561691097,
          0.00744778819208102,
          0.007577054950302516,
          0.007706518466433391,
          0.007836144371111494,
          0.007965900445121327,
          0.008095756762813655,
          0.008225685828545437,
          0.008355662705342107,
          0.008485665135003059,
          0.0086156736488945,
          0.008745671668702387,
          0.008875645596450283,
          0.009005584893124412,
          0.009135482145289489,
          0.009265333119124431,
          0.009395136801356365,
          0.009524895426624883,
          0.009654614490865205,
          0.009784302750358553,
          0.009913972206161551,
          0.010043638073691581,
          0.010173318737313372,
          0.010303035689841577,
          0.01043281345694565,
          0.010562679506516424,
          0.010692664143126298,
          0.010822800387789978,
          0.010953123843305209,
          0.011083672545527553,
          0.01121448680100463,
          0.01134560901146728,
          0.011477083485743757,
          0.011608956239730944,
          0.011741274785121021,
          0.011874087907643596,
          0.012007445435642196,
          0.012141397999858139,
          0.012275996785346108,
          0.012411293276491124,
          0.012547338996139395,
          0.012684185239890785,
          0.012821882806633317,
          0.012960481726425027,
          0.013100030986849604,
          0.013240578258986732,
          0.013382169624146055,
          0.01352484930251777,
          0.013668659384888029,
          0.013813639568559499,
          0.013959826898601022,
          0.014107255515529556,
          0.014255956410500852,
          0.014405957189051789,
          0.01455728184439978,
          0.014709950541260577,
          0.014863979411097548,
          0.015019380359661782,
          0.015176160887624508,
          0.015334323925041717,
          0.015493867680324111,
          0.01565478550431754,
          0.0158170657700254,
          0.015980691768431324,
          0.016145641620802037,
          0.016311888207773167,
          0.016479399115439934,
          0.016648136598595042,
          0.016818057561175374,
          0.016989113553898372,
          0.017161250788990088,
          0.017334410171828126,
          0.01750852734924653,
          0.0176835327741748,
          0.017859351786212285,
          0.018035904707669692,
          0.018213106954544905,
          0.018390869161838786,
          0.018569097322559264,
          0.01874769293971045,
          0.01892655319051447,
          0.019105571102072363,
          0.019284635737632866,
          0.019463632392606203,
          0.01964244279943389,
          0.019820945340406515,
          0.019999015267506234,
          0.020176524928343088,
          0.02035334399725226,
          0.02052933971062219,
          0.02070437710553442,
          0.02087831926080965,
          0.02105102753957595,
          0.021222361832501146,
          0.021392180800862047,
          0.02156034211865857,
          0.021726702713021833,
          0.021891119002208893,
          0.02205344713052419,
          0.02221354319956042,
          0.022371263495203266,
          0.022526464709903264,
          0.02267900415977384,
          0.022828739996135758,
          0.022975531411188015,
          0.023119238837546227,
          0.023259724141449792,
          0.023396850809500002,
          0.02353048412884933,
          0.023660491360819876,
          0.023786741907983643,
          0.02390910747479061,
          0.024027462221878796,
          0.024141682914248116,
          0.02425164906352047,
          0.024357243064547743,
          0.024458350326662097,
          0.024554859399892187,
          0.024646662096492168,
          0.024733653608148786,
          0.024815732619245696,
          0.02489280141657033,
          0.024964765995851887,
          0.025031536165514883,
          0.025093025648023803,
          0.025149152179179776,
          0.025199837605710856,
          0.025245007981472,
          0.02528459366254192,
          0.025318529401469458,
          0.02534675444088279,
          0.025369212606634287,
          0.025385852400605913,
          0.02539662709325263,
          0.0254014948159093,
          0.025400418652832664,
          0.02539336673289577,
          0.025380312320795226,
          0.02536123390757555,
          0.02533611530021847,
          0.025304945709988636,
          0.02526771983917349,
          0.025224437965801063,
          0.025175106025870284,
          0.0251197356925794,
          0.025058344451994896,
          0.02499095567456242,
          0.02491759868182504,
          0.024838308807683167,
          0.024753127453504043,
          0.02466210213636795,
          0.024565286529723573,
          0.02446274049571619,
          0.024354530108448832,
          0.024240727667441876,
          0.024121411700565507,
          0.023996666955736892,
          0.02386658438069751,
          0.023731261090215505,
          0.023590800320094894,
          0.023445311367415192,
          0.023294909516474213,
          0.0231397159499608,
          0.02297985764494374,
          0.02281546725332775,
          0.022646682966497217,
          0.02247364836394115,
          0.022296512245730087,
          0.022115428448796985,
          0.02193055564705507,
          0.021742057135472916,
          0.02155010059831183,
          0.021354857861818476,
          0.021156504631753788,
          0.020955220216225593,
          0.02075118723437945,
          0.020544591311586372,
          0.02033562076184918,
          0.020124466258228484,
          0.01991132049216682,
          0.0196963778226606,
          0.019479833916299854,
          0.019261885379257656,
          0.019042729382370244,
          0.018822563280501574,
          0.01860158422743214,
          0.01837998878755267,
          0.018157972545677133,
          0.017935729716315577,
          0.017713452753768354,
          0.01749133196441505,
          0.017269555122577582,
          0.017048307091335146,
          0.016827769449659625,
          0.016608120127224173,
          0.01638953304821471,
          0.01617217778544414,
          0.01595621922603196,
          0.01574181724987013,
          0.015529126422045373,
          0.01531829570033434,
          0.015109468158826909,
          0.014902780728667527,
          0.01469836395683423,
          0.014496341783800335,
          0.014296831340845627,
          0.014099942767701787,
          0.013905779051132728,
          0.013714435884962736,
          0.013526001551977272,
          0.013340556828030056,
          0.013158174908599442,
          0.012978921357944921,
          0.012802854080923035,
          0.012630023317430798,
          0.012460471659354357,
          0.012294234089811467,
          0.012131338044390049,
          0.011971803493999055,
          0.011815643048866465,
          0.011662862083139672,
          0.011513458879466688,
          0.011367424792865254,
          0.011224744433117112,
          0.01108539586486056,
          0.010949350824494506,
          0.010816574952950518,
          0.010687028043339148,
          0.010560664302430304,
          0.01043743262488563,
          0.010317276879125521,
          0.01020013620368127,
          0.010085945312857222,
          0.009974634810507,
          0.009866131510711456,
          0.009760358764136168,
          0.00965723678883954,
          0.009556683004302782,
          0.009458612367456489,
          0.009362937709487934,
          0.009269570072226136,
          0.009178419042920258,
          0.009089393086249028,
          0.009002399872425161,
          0.008917346600289557,
          0.008834140314324073,
          0.00875268821454949,
          0.008672897958316918,
          0.008594677953044628,
          0.008517937639000482,
          0.00844258776127954,
          0.008368540630179487,
          0.00829571036923128,
          0.008224013150199558,
          0.008153367414425561,
          0.008083694079946602,
          0.008014916733886808,
          0.007946961809677378,
          0.00787975874872803,
          0.007813240146235214,
          0.007747341880878155,
          0.007682003228217881,
          0.007617166957679563,
          0.007552779413062891,
          0.007488790576589297,
          0.007425154116557725,
          0.007361827418743544,
          0.0072987716017356135,
          0.0072359515164667435,
          0.007173335730250961,
          0.007110896495696892,
          0.00704860970492175,
          0.006986454829542006,
          0.006924414846967163,
          0.006862476153570618,
          0.0068006284653558645,
          0.006738864706779083,
          0.0066771808884274475,
          0.006615575974288979,
          0.0065540517393823895,
          0.006492612618544748,
          0.006431265547200813,
          0.006370019794960666,
          0.006308886792910919,
          0.006247879955480133,
          0.006187014497770961,
          0.006126307249258986,
          0.006065776464762694,
          0.006005441633589157,
          0.005945323287756791,
          0.0058854428101892805,
          0.005825822243763903,
          0.005766484102083243,
          0.0057074511828210436,
          0.005648746384471393,
          0.005590392527305601,
          0.0055324121793129425,
          0.005474827487869756,
          0.005417660017847473,
          0.005360930596832394,
          0.005304659168090273,
          0.005248864651866459,
          0.005193564815567225,
          0.005138776153321085,
          0.005084513775370158,
          0.005030791307691119,
          0.004977620802192987,
          0.004925012657786371,
          0.004872975552563923,
          0.00482151638727764,
          0.0047706402402425485,
          0.00472035033374146,
          0.0046706480119493785,
          0.00462153273034128,
          0.0045730020564924544,
          0.004525051682126471,
          0.004477675446213359,
          0.004430865368869162,
          0.004384611695758117,
          0.0043389029526507165,
          0.004293726009744971,
          0.0042490661553142945,
          0.0042049071782040036,
          0.004161231458660106,
          0.004118020066937529,
          0.00407525286910255,
          0.0040329086394138075,
          0.003990965178640204,
          0.003949399437650176,
          0.003908187645587347,
          0.003867305441931186,
          0.003826728011728354,
          0.0037864302232715353,
          0.00374638676749697,
          0.0037065722983698314,
          0.003666961573528628,
          0.003627529594464875,
          0.0035882517455232466,
          0.0035491039310194964,
          0.00351006270978921,
          0.0034711054264991944,
          0.0034322103390750343,
          0.0033933567416236754,
          0.003354525082257059,
          0.0033156970752534886,
          0.003276855807025906,
          0.003237985835401517,
          0.0031990732817539255,
          0.003160105915567903,
          0.003121073231057576,
          0.003081966515500145,
          0.0030427789089907072,
          0.0030035054553673355,
          0.002964143144100176,
          0.002924690942983146,
          0.002885149821512267,
          0.0028455227648794762,
          0.0028058147785556624,
          0.002766032883481225,
          0.0027261861019257897,
          0.0026862854341217018,
          0.002646343825817327,
          0.0026063761269368045,
          0.002566399041571216,
          0.0025264310695639444,
          0.002486492439987937,
          0.002446605036846243,
          0.0024067923173585,
          0.002367079223225459,
          0.0023274920852904345,
          0.0022880585220411784,
          0.0022488073324181575,
          0.0022097683834146017,
          0.002170972492971264,
          0.0021324513086834374,
          0.0020942371828500356,
          0.0020563630444041772,
          0.0020188622682720202,
          0.0019817685427113755,
          0.0019451157351836367,
          0.001908937757312945,
          0.0018732684294837324,
          0.001838141345623461,
          0.001803589738710418,
          0.0017696463475378238,
          0.0017363432852543863,
          0.0017037119101890928,
          0.0016717826994533426,
          0.0016405851257975993,
          0.0016101475381818978,
          0.0015804970465005922,
          0.0015516594108813092,
          0.001523658935956246,
          0.0014965183704815012,
          0.0014702588126561745,
          0.0014448996214683992,
          0.0014204583343702406,
          0.0013969505915571656,
          0.0013743900671012727,
          0.0013527884071603347,
          0.0013321551754574158,
          0.0013124978061978244,
          0.0012938215645625273,
          0.0012761295148889216,
          0.0012594224966219374,
          0.0012436991080903442,
          0.0012289556981354107,
          0.0012151863655911939,
          0.0012023829665885016,
          0.0011905351296274379,
          0.0011796302783367485,
          0.0011696536618119738,
          0.001160588392398759,
          0.0011524154907625078,
          0.0011451139380611011,
          0.0011386607350136256,
          0.0011330309676350215,
          0.0011281978793842794,
          0.0011241329494525508,
          0.0011208059768969911,
          0.0011181851703067377,
          0.0011162372426689778,
          0.0011149275110857114,
          0.0011142200009756041,
          0.0011140775543803277,
          0.001114461941981021,
          0.001115333978418085,
          0.0011166536404964222,
          0.0011183801878485828,
          0.0011204722856200517,
          0.0011228881287342635,
          0.0011255855672897257,
          0.0011285222326381415,
          0.0011316556636904776,
          0.0011349434329976757,
          0.001138343272154129,
          0.0011418131960752177,
          0.001145311625705008,
          0.0011487975087168644,
          0.001152230437778032,
          0.0011555707659592627,
          0.001158779718882354,
          0.0011618195032118662,
          0.0011646534111123688,
          0.001167245920309248,
          0.0011695627894093273,
          0.0011715711481572783,
          0.0011732395823249148,
          0.0011745382129529477,
          0.0011754387696884837,
          0.0011759146579864038,
          0.0011759410199686784,
          0.0011754947887624722,
          0.0011745547361655504,
          0.0011731015135157858,
          0.001171117685670389,
          0.001168587758029761,
          0.001165498196570318,
          0.0011618374408802583
         ],
         "yaxis": "y"
        },
        {
         "legendgroup": "G",
         "marker": {
          "color": "green"
         },
         "mode": "lines",
         "name": "G",
         "showlegend": false,
         "type": "scatter",
         "x": [
          79.9801253434066,
          80.16902944783082,
          80.35793355225505,
          80.54683765667926,
          80.73574176110348,
          80.92464586552771,
          81.11354996995193,
          81.30245407437614,
          81.49135817880037,
          81.6802622832246,
          81.86916638764882,
          82.05807049207304,
          82.24697459649725,
          82.43587870092148,
          82.6247828053457,
          82.81368690976993,
          83.00259101419414,
          83.19149511861836,
          83.38039922304259,
          83.56930332746681,
          83.75820743189104,
          83.94711153631525,
          84.13601564073947,
          84.3249197451637,
          84.51382384958792,
          84.70272795401213,
          84.89163205843636,
          85.08053616286058,
          85.2694402672848,
          85.45834437170902,
          85.64724847613324,
          85.83615258055747,
          86.02505668498169,
          86.21396078940592,
          86.40286489383013,
          86.59176899825435,
          86.78067310267858,
          86.9695772071028,
          87.15848131152703,
          87.34738541595124,
          87.53628952037546,
          87.72519362479969,
          87.91409772922391,
          88.10300183364812,
          88.29190593807235,
          88.48081004249657,
          88.6697141469208,
          88.858618251345,
          89.04752235576923,
          89.23642646019346,
          89.42533056461768,
          89.6142346690419,
          89.80313877346612,
          89.99204287789034,
          90.18094698231457,
          90.36985108673879,
          90.558755191163,
          90.74765929558723,
          90.93656340001145,
          91.12546750443568,
          91.31437160885989,
          91.50327571328411,
          91.69217981770834,
          91.88108392213256,
          92.06998802655679,
          92.258892130981,
          92.44779623540522,
          92.63670033982945,
          92.82560444425367,
          93.0145085486779,
          93.2034126531021,
          93.39231675752633,
          93.58122086195056,
          93.77012496637478,
          93.959029070799,
          94.14793317522322,
          94.33683727964744,
          94.52574138407167,
          94.71464548849589,
          94.9035495929201,
          95.09245369734433,
          95.28135780176855,
          95.47026190619277,
          95.65916601061699,
          95.84807011504121,
          96.03697421946543,
          96.22587832388966,
          96.41478242831388,
          96.6036865327381,
          96.79259063716232,
          96.98149474158654,
          97.17039884601077,
          97.359302950435,
          97.5482070548592,
          97.73711115928343,
          97.92601526370765,
          98.11491936813186,
          98.30382347255609,
          98.49272757698031,
          98.68163168140454,
          98.87053578582876,
          99.05943989025297,
          99.2483439946772,
          99.43724809910142,
          99.62615220352565,
          99.81505630794987,
          100.00396041237408,
          100.19286451679831,
          100.38176862122253,
          100.57067272564674,
          100.75957683007098,
          100.9484809344952,
          101.13738503891942,
          101.32628914334364,
          101.51519324776785,
          101.70409735219208,
          101.8930014566163,
          102.08190556104053,
          102.27080966546475,
          102.45971376988896,
          102.64861787431319,
          102.83752197873741,
          103.02642608316164,
          103.21533018758586,
          103.40423429201007,
          103.5931383964343,
          103.78204250085852,
          103.97094660528273,
          104.15985070970696,
          104.34875481413118,
          104.53765891855541,
          104.72656302297963,
          104.91546712740384,
          105.10437123182807,
          105.2932753362523,
          105.48217944067652,
          105.67108354510074,
          105.85998764952495,
          106.04889175394918,
          106.2377958583734,
          106.42669996279761,
          106.61560406722185,
          106.80450817164606,
          106.99341227607029,
          107.18231638049451,
          107.37122048491872,
          107.56012458934295,
          107.74902869376717,
          107.9379327981914,
          108.12683690261562,
          108.31574100703983,
          108.50464511146406,
          108.69354921588828,
          108.88245332031251,
          109.07135742473673,
          109.26026152916094,
          109.44916563358517,
          109.63806973800939,
          109.8269738424336,
          110.01587794685783,
          110.20478205128205,
          110.39368615570628,
          110.5825902601305,
          110.77149436455471,
          110.96039846897894,
          111.14930257340316,
          111.33820667782739,
          111.52711078225161,
          111.71601488667582,
          111.90491899110005,
          112.09382309552427,
          112.28272719994848,
          112.47163130437272,
          112.66053540879693,
          112.84943951322116,
          113.03834361764538,
          113.22724772206959,
          113.41615182649383,
          113.60505593091804,
          113.79396003534227,
          113.98286413976649,
          114.1717682441907,
          114.36067234861494,
          114.54957645303915,
          114.73848055746338,
          114.9273846618876,
          115.11628876631181,
          115.30519287073604,
          115.49409697516026,
          115.68300107958449,
          115.87190518400871,
          116.06080928843292,
          116.24971339285715,
          116.43861749728137,
          116.62752160170558,
          116.8164257061298,
          117.00532981055403,
          117.19423391497826,
          117.38313801940248,
          117.57204212382669,
          117.76094622825092,
          117.94985033267514,
          118.13875443709935,
          118.32765854152359,
          118.5165626459478,
          118.70546675037203,
          118.89437085479625,
          119.08327495922046,
          119.2721790636447,
          119.46108316806891,
          119.64998727249314,
          119.83889137691736,
          120.02779548134157,
          120.21669958576581,
          120.40560369019002,
          120.59450779461424,
          120.78341189903847,
          120.97231600346268,
          121.1612201078869,
          121.35012421231113,
          121.53902831673535,
          121.72793242115958,
          121.91683652558379,
          122.10574063000801,
          122.29464473443224,
          122.48354883885645,
          122.67245294328067,
          122.8613570477049,
          123.05026115212912,
          123.23916525655335,
          123.42806936097756,
          123.61697346540178,
          123.80587756982601,
          123.99478167425022,
          124.18368577867446,
          124.37258988309867,
          124.56149398752291,
          124.75039809194712,
          124.93930219637133,
          125.12820630079557,
          125.31711040521978,
          125.506014509644,
          125.69491861406823,
          125.88382271849245,
          126.07272682291668,
          126.26163092734089,
          126.45053503176511,
          126.63943913618934,
          126.82834324061355,
          127.01724734503777,
          127.206151449462,
          127.39505555388622,
          127.58395965831045,
          127.77286376273466,
          127.96176786715888,
          128.1506719715831,
          128.33957607600732,
          128.52848018043153,
          128.71738428485577,
          128.90628838928,
          129.09519249370422,
          129.28409659812843,
          129.47300070255267,
          129.66190480697688,
          129.8508089114011,
          130.03971301582533,
          130.22861712024954,
          130.41752122467378,
          130.606425329098,
          130.7953294335222,
          130.98423353794644,
          131.17313764237065,
          131.3620417467949,
          131.5509458512191,
          131.7398499556433,
          131.92875406006755,
          132.11765816449176,
          132.30656226891597,
          132.4954663733402,
          132.68437047776442,
          132.87327458218863,
          133.06217868661287,
          133.2510827910371,
          133.43998689546132,
          133.62889099988553,
          133.81779510430977,
          134.00669920873398,
          134.1956033131582,
          134.38450741758243,
          134.57341152200664,
          134.76231562643085,
          134.9512197308551,
          135.1401238352793,
          135.32902793970354,
          135.51793204412775,
          135.70683614855196,
          135.8957402529762,
          136.0846443574004,
          136.27354846182465,
          136.46245256624886,
          136.65135667067307,
          136.8402607750973,
          137.02916487952152,
          137.21806898394573,
          137.40697308836997,
          137.5958771927942,
          137.78478129721842,
          137.97368540164263,
          138.16258950606687,
          138.35149361049108,
          138.5403977149153,
          138.72930181933953,
          138.91820592376374,
          139.10711002818795,
          139.29601413261219,
          139.4849182370364,
          139.6738223414606,
          139.86272644588485,
          140.05163055030906,
          140.2405346547333,
          140.4294387591575,
          140.61834286358174,
          140.80724696800596,
          140.99615107243017,
          141.1850551768544,
          141.37395928127862,
          141.56286338570283,
          141.75176749012707,
          141.94067159455128,
          142.12957569897551,
          142.31847980339973,
          142.50738390782396,
          142.69628801224817,
          142.88519211667239,
          143.07409622109662,
          143.26300032552084,
          143.45190442994505,
          143.64080853436928,
          143.8297126387935,
          144.0186167432177,
          144.20752084764194,
          144.39642495206618,
          144.58532905649037,
          144.7742331609146,
          144.96313726533884,
          145.15204136976305,
          145.34094547418727,
          145.5298495786115,
          145.71875368303571,
          145.90765778745993,
          146.09656189188416,
          146.28546599630837,
          146.47437010073259,
          146.66327420515682,
          146.85217830958106,
          147.04108241400527,
          147.22998651842948,
          147.41889062285372,
          147.60779472727793,
          147.79669883170214,
          147.98560293612638,
          148.1745070405506,
          148.3634111449748,
          148.55231524939904,
          148.74121935382328,
          148.93012345824746,
          149.1190275626717,
          149.30793166709591,
          149.49683577152015,
          149.68573987594436,
          149.8746439803686,
          150.0635480847928,
          150.25245218921702,
          150.44135629364126,
          150.63026039806547,
          150.81916450248968,
          151.00806860691392,
          151.19697271133816,
          151.38587681576237,
          151.57478092018658,
          151.76368502461082,
          151.952589129035,
          152.14149323345924,
          152.33039733788348,
          152.5193014423077,
          152.7082055467319,
          152.89710965115614,
          153.08601375558038,
          153.27491786000456,
          153.4638219644288,
          153.652726068853,
          153.84163017327722,
          154.03053427770146,
          154.2194383821257,
          154.4083424865499,
          154.59724659097412,
          154.78615069539836,
          154.97505479982257,
          155.16395890424678,
          155.35286300867102,
          155.54176711309523,
          155.73067121751947,
          155.91957532194368,
          156.10847942636792,
          156.2973835307921,
          156.48628763521634,
          156.67519173964058,
          156.8640958440648,
          157.052999948489,
          157.24190405291324,
          157.43080815733745,
          157.61971226176166,
          157.8086163661859,
          157.9975204706101,
          158.18642457503432,
          158.37532867945856,
          158.5642327838828,
          158.753136888307,
          158.94204099273122,
          159.13094509715546,
          159.31984920157967,
          159.50875330600388,
          159.69765741042812,
          159.88656151485233,
          160.07546561927654,
          160.26436972370078,
          160.45327382812502,
          160.6421779325492,
          160.83108203697344,
          161.01998614139765,
          161.2088902458219,
          161.3977943502461,
          161.58669845467034,
          161.77560255909455,
          161.96450666351876,
          162.153410767943,
          162.3423148723672,
          162.53121897679142,
          162.72012308121566,
          162.9090271856399,
          163.0979312900641,
          163.28683539448832,
          163.47573949891256,
          163.66464360333674,
          163.85354770776098,
          164.04245181218522,
          164.23135591660943,
          164.42026002103364,
          164.60916412545788,
          164.79806822988212,
          164.9869723343063,
          165.17587643873054,
          165.36478054315475,
          165.553684647579,
          165.7425887520032,
          165.93149285642744,
          166.12039696085165,
          166.30930106527586,
          166.4982051697001,
          166.6871092741243,
          166.87601337854852,
          167.06491748297276,
          167.25382158739697,
          167.4427256918212,
          167.63162979624542,
          167.82053390066966,
          168.00943800509384,
          168.19834210951808,
          168.38724621394232,
          168.57615031836653,
          168.76505442279074,
          168.95395852721498,
          169.14286263163922,
          169.3317667360634,
          169.52067084048764,
          169.70957494491185,
          169.89847904933606,
          170.0873831537603,
          170.27628725818454,
          170.46519136260875,
          170.65409546703296,
          170.8429995714572,
          171.0319036758814,
          171.22080778030562,
          171.40971188472986,
          171.59861598915407,
          171.7875200935783,
          171.97642419800252,
          172.16532830242676,
          172.35423240685094,
          172.54313651127518,
          172.73204061569942,
          172.92094472012363,
          173.10984882454784,
          173.29875292897208,
          173.4876570333963,
          173.6765611378205,
          173.86546524224474,
          174.05436934666895,
          174.24327345109316
         ],
         "xaxis": "x",
         "y": [
          0.0006454782803547105,
          0.0006457501031837526,
          0.0006454890466239323,
          0.0006447021196074053,
          0.000643398256724405,
          0.0006415883158406272,
          0.0006392850687297942,
          0.0006365031848351248,
          0.0006332592083131856,
          0.0006295715285516069,
          0.0006254603443881794,
          0.0006209476222925592,
          0.0006160570488030114,
          0.0006108139775390663,
          0.0006052453711364389,
          0.0005993797384729544,
          0.0005932470675734004,
          0.0005868787545970729,
          0.0005803075293242949,
          0.0005735673775673314,
          0.0005666934609369113,
          0.0005597220343981121,
          0.0005526903620486565,
          0.0005456366315489956,
          0.0005385998676268651,
          0.0005316198450696838,
          0.000524737001606295,
          0.0005179923510653692,
          0.0005114273971816281,
          0.0005050840484030545,
          0.0004990045340327737,
          0.0004932313220186083,
          0.000487807038681595,
          0.0004827743906524595,
          0.00047817608926227804,
          0.00047405477761066825,
          0.00047045296051210394,
          0.0004674129374984698,
          0.00046497673903413736,
          0.0004631860660786771,
          0.0004620822331121108,
          0.00046170611471843976,
          0.00046209809580515817,
          0.00046329802551970734,
          0.0004653451749083398,
          0.0004682781983487067,
          0.0004721350987746129,
          0.0004769531966998058,
          0.0004827691030372383,
          0.0004896186957009768,
          0.0004975370999695803,
          0.0005065586725823309,
          0.0005167169895328757,
          0.0005280448375185786,
          0.0005405742089978978,
          0.0005543363008022714,
          0.0005693615162430763,
          0.0005856794706480411,
          0.0006033190002547849,
          0.0006223081743819156,
          0.0006426743107898668,
          0.0006644439941345981,
          0.0006876430974069012,
          0.0007122968062386457,
          0.0007384296459443502,
          0.0007660655111522482,
          0.0007952276978634118,
          0.0008259389377603314,
          0.0008582214345680572,
          0.0008920969022512414,
          0.0009275866048095934,
          0.0009647113974125067,
          0.0010034917685908615,
          0.0010439478831810018,
          0.0010860996256922756,
          0.0011299666437460708,
          0.0011755683912112523,
          0.001222924170638203,
          0.0012720531745725083,
          0.0013229745253091232,
          0.0013757073126297635,
          0.0014302706290503443,
          0.0014866836020919268,
          0.0015449654230784108,
          0.0016051353719573219,
          0.0016672128376368708,
          0.0017312173333337625,
          0.0017971685064314092,
          0.0018650861423586884,
          0.0019349901620144966,
          0.002006900612283605,
          0.0020808376492153155,
          0.0021568215134671687,
          0.0022348724976528375,
          0.0023150109052752356,
          0.002397257000973086,
          0.0024816309518622096,
          0.0025681527598099417,
          0.0026568421845437652,
          0.002747718657561859,
          0.0028408011868841414,
          0.002936108252756674,
          0.003033657694499719,
          0.0031334665887697032,
          0.0032355511195870925,
          0.003339926440565278,
          0.00344660652985916,
          0.003555604038435537,
          0.003666930132349926,
          0.003780594329795472,
          0.0038966043337679388,
          0.004014965861265727,
          0.00413568247001603,
          0.0042587553837835,
          0.004384183317380133,
          0.004511962302549253,
          0.0046420855159446635,
          0.004774543110467123,
          0.0049093220512521135,
          0.0050464059576276745,
          0.005185774952375368,
          0.00532740551963322,
          0.00547127037277518,
          0.005617338333587179,
          0.005765574224035166,
          0.005915938771885751,
          0.006068388531394238,
          0.006222875820219782,
          0.006379348673660499,
          0.006537750817226453,
          0.006698021658481659,
          0.006860096298992108,
          0.007023905567112295,
          0.00718937607223061,
          0.007356430280973622,
          0.007524986615742352,
          0.007694959575819528,
          0.007866259881147732,
          0.00803879463873387,
          0.008212467531487935,
          0.008387179029151976,
          0.008562826620823206,
          0.00873930506841973,
          0.008916506680284798,
          0.0090943216039705,
          0.009272638137092493,
          0.009451343054998613,
          0.009630321953850555,
          0.009809459607580345,
          0.009988640337050858,
          0.010167748389625277,
          0.01034666832723535,
          0.010525285420930786,
          0.010703486049797714,
          0.01088115810204843,
          0.011058191376013706,
          0.011234477978709462,
          0.011409912719604764,
          0.01158439349718832,
          0.01175782167591515,
          0.011930102451116332,
          0.01210114519947231,
          0.012270863812683724,
          0.012439177012025461,
          0.012606008641537634,
          0.012771287937692529,
          0.012934949773480232,
          0.013096934874974752,
          0.013257190008579573,
          0.013415668137304793,
          0.013572328544596357,
          0.013727136924422664,
          0.013880065436521273,
          0.014031092725920688,
          0.014180203906075583,
          0.014327390505188341,
          0.014472650375534812,
          0.01461598756586352,
          0.014757412157196703,
          0.014896940062625392,
          0.015034592791955624,
          0.015170397182331501,
          0.015304385096224928,
          0.01543659308844586,
          0.015567062044082872,
          0.015695836789533343,
          0.01582296567902263,
          0.015948500159238033,
          0.016072494314916738,
          0.01619500439842332,
          0.01631608834653032,
          0.016435805287771995,
          0.0165542150438767,
          0.016671377628893085,
          0.016787352749709408,
          0.016902199311722547,
          0.01701597493344058,
          0.01712873547380148,
          0.017240534575957582,
          0.017351423231211995,
          0.01746144936669748,
          0.017570657460261645,
          0.01767908818586334,
          0.017786778092596878,
          0.017893759320239757,
          0.01800005935397304,
          0.018105700820645897,
          0.018210701328655654,
          0.018315073353187803,
          0.01841882416821398,
          0.018521955826279492,
          0.018624465186728917,
          0.01872634399262279,
          0.01882757899619189,
          0.018928152132262656,
          0.019028040738670756,
          0.019127217822263624,
          0.019225652368680596,
          0.0193233096936944,
          0.01942015183350417,
          0.019516137970992452,
          0.019611224894598052,
          0.019705367486119868,
          0.019798519233454367,
          0.019890632763986293,
          0.019981660394101226,
          0.020071554690071013,
          0.020160269035384502,
          0.020247758199454135,
          0.020333978902531333,
          0.020418890371605165,
          0.020502454882047598,
          0.020584638279799252,
          0.020665410478967076,
          0.020744745929826804,
          0.020822624052389365,
          0.02089902963090064,
          0.02097395316489626,
          0.02104739117272666,
          0.02111934644379962,
          0.021189828236156418,
          0.021258852416400003,
          0.02132644153942664,
          0.02139262486587314,
          0.021457438315675634,
          0.021520924356640565,
          0.021583131827447366,
          0.02164411569503534,
          0.02170393674686448,
          0.021762661219082744,
          0.02182036036217178,
          0.02187710994617689,
          0.021932989708150243,
          0.021988082744944754,
          0.022042474854984433,
          0.02209625383310276,
          0.022149508722978356,
          0.022202329032104062,
          0.022254803914597488,
          0.02230702132749529,
          0.022359067166466566,
          0.02241102438713081,
          0.022462972118369586,
          0.022514984774177783,
          0.02256713117070787,
          0.022619473655217555,
          0.022672067253637348,
          0.022724958843430572,
          0.022778186358320598,
          0.022831778031315763,
          0.022885751682263783,
          0.022940114055924825,
          0.022994860216259627,
          0.023049973002293483,
          0.023105422550539354,
          0.023161165888544062,
          0.023217146603668696,
          0.023273294590726048,
          0.023329525881580992,
          0.02338574255927691,
          0.02344183275868652,
          0.023497670755102888,
          0.023553117141591074,
          0.023608019095315583,
          0.02366221073245038,
          0.023715513550668133,
          0.023767736957601666,
          0.023818678883074155,
          0.0238681264723129,
          0.02391585685679635,
          0.023961637998842104,
          0.02400522960552604,
          0.024046384107035742,
          0.024084847694108,
          0.024120361408781796,
          0.024152662282321304,
          0.02418148451382789,
          0.02420656068276941,
          0.024227622988411655,
          0.024244404508941993,
          0.024256640472930014,
          0.02426406953567645,
          0.024266435052959053,
          0.02426348634469355,
          0.024254979941089112,
          0.024240680803989573,
          0.024220363516253837,
          0.024193813432239468,
          0.024160827782711558,
          0.024121216727800755,
          0.024074804351979923,
          0.02402142959541271,
          0.023960947116449166,
          0.023893228080497143,
          0.02381816087098299,
          0.023735651718624313,
          0.023645625245770255,
          0.023548024923113794,
          0.023442813436644904,
          0.023329972963284564,
          0.023209505354219524,
          0.023081432225533632,
          0.022945794956308243,
          0.022802654594929146,
          0.02265209167489395,
          0.022494205941950545,
          0.022329115994917333,
          0.02215695884303091,
          0.02197788938313503,
          0.021792079800462865,
          0.02159971889717165,
          0.021401011353157307,
          0.021196176924011767,
          0.02098544958127731,
          0.020769076600407516,
          0.020547317602053663,
          0.020320443552465265,
          0.0200887357289187,
          0.019852484656171107,
          0.01961198901997541,
          0.019367554563693067,
          0.019119492973996646,
          0.018868120761572762,
          0.018613758142616912,
          0.018356727926756033,
          0.01809735441684381,
          0.017835962325855822,
          0.017572875715860584,
          0.01730841696376896,
          0.017042905758265142,
          0.016776658132007002,
          0.01650998553284764,
          0.016243193937481765,
          0.01597658301056398,
          0.015710445311978818,
          0.015445065554572193,
          0.015180719914284196,
          0.014917675394252577,
          0.014656189244091468,
          0.014396508435191217,
          0.014138869192538418,
          0.013883496583216661,
          0.013630604161425818,
          0.013380393669551837,
          0.013133054794527496,
          0.012888764978453393,
          0.012647689282197717,
          0.012409980300462684,
          0.01217577812659456,
          0.01194521036522925,
          0.011718392190698396,
          0.011495426448979345,
          0.011276403800849984,
          0.011061402903812094,
          0.010850490630267638,
          0.010643722319374728,
          0.010441142059974077,
          0.010242783001955596,
          0.01004866769343479,
          0.009858808441123327,
          0.009673207691309367,
          0.009491858428907101,
          0.009314744592092108,
          0.009141841500109538,
          0.00897311629191867,
          0.00880852837342611,
          0.00864802987115502,
          0.008491566090297675,
          0.008339075975205137,
          0.008190492570476585,
          0.008045743480923937,
          0.007904751328798766,
          0.007767434206784219,
          0.007633706125366406,
          0.007503477453312706,
          0.007376655350093356,
          0.007253144189190848,
          0.007132845971344623,
          0.007015660726878932,
          0.006901486906357533,
          0.006790221758900187,
          0.006681761697581853,
          0.0065760026514177635,
          0.006472840403512597,
          0.006372170915024477,
          0.006273890634658793,
          0.006177896793469466,
          0.006084087684798909,
          0.005992362929240621,
          0.005902623724553283,
          0.005814773080497534,
          0.005728716038603517,
          0.005644359876911285,
          0.00556161429975531,
          0.005480391612691297,
          0.0054006068826864696,
          0.005322178083715269,
          0.0052450262279203266,
          0.005169075482515119,
          0.005094253272618483,
          0.005020490370224533,
          0.0049477209695227365,
          0.004875882748794287,
          0.004804916919120716,
          0.0047347682601510035,
          0.004665385143183247,
          0.004596719541827146,
          0.004528727030523642,
          0.004461366771209753,
          0.0043946014884279445,
          0.00432839743319171,
          0.004262724335933481,
          0.004197555348874532,
          0.004132866978172919,
          0.004068639006221871,
          0.00400485440448903,
          0.003941499237305755,
          0.0038785625570352763,
          0.0038160362910697222,
          0.003753915121126826,
          0.003692196355339348,
          0.003630879793652651,
          0.0035699675870683022,
          0.0035094640912938903,
          0.003449375715381454,
          0.0033897107659586253,
          0.0033304792876767972,
          0.003271692900520372,
          0.003213364634639156,
          0.003155508763381941,
          0.0030981406352233345,
          0.0030412765052877425,
          0.0029849333671833336,
          0.002929128785864205,
          0.002873880732242483,
          0.002819207420270327,
          0.002765127147207895,
          0.002711658137784123,
          0.002658818392945127,
          0.0026066255438676896,
          0.0025550967118941515,
          0.002504248375019784,
          0.0024540962415334476,
          0.00240465513137819,
          0.00235593886576029,
          0.002307960165492281,
          0.0022607305585095995,
          0.002214260296949873,
          0.00216855828413117,
          0.0021236320117083134,
          0.002079487507227702,
          0.002036129292239595,
          0.0019935603510633456,
          0.001951782110236534,
          0.0019107944286134728,
          0.0018705955980126577,
          0.001831182354246819,
          0.001792549898304412,
          0.0017546919273875722,
          0.0017176006754493999,
          0.0016812669628139194,
          0.001645680254405196,
          0.0016108287260585793,
          0.001576699338337224,
          0.0015432779172319137,
          0.001510549241081136,
          0.0014784971330127736,
          0.001447104558178338,
          0.0014163537250258876,
          0.001386226189838856,
          0.00135670296375488,
          0.0013277646214721942,
          0.001299391410850029,
          0.001271563362615127,
          0.0012442603993979395,
          0.0012174624433393423,
          0.0011911495215319254,
          0.0011653018685885766,
          0.0011399000256649236,
          0.0011149249353008342
         ],
         "yaxis": "y"
        },
        {
         "legendgroup": "B",
         "marker": {
          "color": "blue"
         },
         "mode": "lines",
         "name": "B",
         "showlegend": false,
         "type": "scatter",
         "x": [
          34.3161858974359,
          34.47534376931662,
          34.634501641197346,
          34.79365951307807,
          34.95281738495879,
          35.111975256839514,
          35.271133128720244,
          35.43029100060097,
          35.58944887248169,
          35.74860674436241,
          35.907764616243135,
          36.06692248812386,
          36.22608036000458,
          36.3852382318853,
          36.544396103766026,
          36.703553975646756,
          36.86271184752748,
          37.0218697194082,
          37.181027591288924,
          37.34018546316965,
          37.49934333505037,
          37.65850120693109,
          37.817659078811815,
          37.97681695069254,
          38.13597482257326,
          38.29513269445398,
          38.454290566334706,
          38.613448438215435,
          38.77260631009616,
          38.93176418197688,
          39.090922053857604,
          39.250079925738326,
          39.40923779761905,
          39.56839566949977,
          39.7275535413805,
          39.886711413261224,
          40.04586928514195,
          40.20502715702267,
          40.36418502890339,
          40.523342900784115,
          40.68250077266484,
          40.84165864454556,
          41.00081651642628,
          41.159974388307006,
          41.31913226018773,
          41.47829013206845,
          41.63744800394918,
          41.796605875829904,
          41.95576374771063,
          42.11492161959135,
          42.27407949147207,
          42.433237363352795,
          42.59239523523352,
          42.75155310711424,
          42.91071097899497,
          43.06986885087569,
          43.229026722756416,
          43.38818459463714,
          43.54734246651786,
          43.706500338398584,
          43.86565821027931,
          44.02481608216003,
          44.18397395404075,
          44.343131825921475,
          44.5022896978022,
          44.66144756968292,
          44.82060544156364,
          44.979763313444366,
          45.138921185325096,
          45.29807905720582,
          45.45723692908654,
          45.616394800967264,
          45.77555267284799,
          45.93471054472871,
          46.09386841660943,
          46.25302628849016,
          46.412184160370884,
          46.57134203225161,
          46.73049990413233,
          46.88965777601305,
          47.048815647893775,
          47.2079735197745,
          47.36713139165522,
          47.52628926353594,
          47.685447135416666,
          47.84460500729739,
          48.00376287917811,
          48.16292075105884,
          48.322078622939564,
          48.48123649482029,
          48.64039436670101,
          48.79955223858173,
          48.958710110462455,
          49.11786798234318,
          49.2770258542239,
          49.43618372610463,
          49.59534159798535,
          49.754499469866076,
          49.9136573417468,
          50.07281521362752,
          50.231973085508244,
          50.39113095738897,
          50.55028882926969,
          50.70944670115041,
          50.868604573031135,
          51.02776244491186,
          51.18692031679258,
          51.3460781886733,
          51.50523606055403,
          51.664393932434756,
          51.82355180431548,
          51.9827096761962,
          52.14186754807693,
          52.30102541995765,
          52.460183291838376,
          52.6193411637191,
          52.77849903559982,
          52.937656907480545,
          53.09681477936127,
          53.25597265124199,
          53.41513052312271,
          53.574288395003435,
          53.73344626688416,
          53.89260413876488,
          54.051762010645604,
          54.210919882526326,
          54.37007775440705,
          54.52923562628777,
          54.6883934981685,
          54.847551370049224,
          55.00670924192995,
          55.16586711381067,
          55.32502498569139,
          55.48418285757212,
          55.64334072945284,
          55.80249860133357,
          55.96165647321429,
          56.12081434509501,
          56.279972216975736,
          56.43913008885646,
          56.59828796073718,
          56.757445832617904,
          56.91660370449863,
          57.07576157637935,
          57.23491944826007,
          57.394077320140795,
          57.55323519202152,
          57.71239306390225,
          57.87155093578296,
          58.03070880766369,
          58.189866679544416,
          58.34902455142514,
          58.50818242330587,
          58.667340295186584,
          58.826498167067314,
          58.985656038948036,
          59.14481391082876,
          59.30397178270948,
          59.463129654590205,
          59.62228752647093,
          59.78144539835165,
          59.94060327023237,
          60.099761142113096,
          60.25891901399382,
          60.41807688587454,
          60.577234757755264,
          60.73639262963599,
          60.89555050151671,
          61.05470837339744,
          61.213866245278155,
          61.373024117158884,
          61.532181989039614,
          61.69133986092033,
          61.85049773280106,
          62.00965560468178,
          62.168813476562505,
          62.32797134844323,
          62.48712922032395,
          62.64628709220467,
          62.805444964085396,
          62.96460283596612,
          63.12376070784684,
          63.282918579727564,
          63.44207645160829,
          63.60123432348901,
          63.76039219536974,
          63.919550067250455,
          64.07870793913119,
          64.2378658110119,
          64.39702368289264,
          64.55618155477336,
          64.71533942665408,
          64.8744972985348,
          65.03365517041553,
          65.19281304229625,
          65.35197091417697,
          65.5111287860577,
          65.67028665793842,
          65.82944452981914,
          65.98860240169986,
          66.14776027358059,
          66.30691814546131,
          66.46607601734203,
          66.62523388922276,
          66.78439176110348,
          66.9435496329842,
          67.10270750486492,
          67.26186537674565,
          67.42102324862637,
          67.58018112050709,
          67.73933899238781,
          67.89849686426854,
          68.05765473614926,
          68.21681260803,
          68.3759704799107,
          68.53512835179143,
          68.69428622367217,
          68.85344409555289,
          69.01260196743361,
          69.17175983931432,
          69.33091771119506,
          69.49007558307578,
          69.6492334549565,
          69.80839132683724,
          69.96754919871796,
          70.12670707059867,
          70.28586494247939,
          70.44502281436013,
          70.60418068624085,
          70.76333855812157,
          70.9224964300023,
          71.08165430188302,
          71.24081217376374,
          71.39997004564447,
          71.55912791752519,
          71.71828578940591,
          71.87744366128663,
          72.03660153316736,
          72.19575940504808,
          72.3549172769288,
          72.51407514880952,
          72.67323302069025,
          72.83239089257097,
          72.9915487644517,
          73.15070663633242,
          73.30986450821314,
          73.46902238009386,
          73.62818025197458,
          73.7873381238553,
          73.94649599573603,
          74.10565386761675,
          74.26481173949749,
          74.4239696113782,
          74.58312748325892,
          74.74228535513964,
          74.90144322702038,
          75.0606010989011,
          75.21975897078181,
          75.37891684266255,
          75.53807471454327,
          75.697232586424,
          75.85639045830472,
          76.01554833018544,
          76.17470620206616,
          76.33386407394688,
          76.49302194582762,
          76.65217981770834,
          76.81133768958907,
          76.97049556146978,
          77.12965343335051,
          77.28881130523123,
          77.44796917711196,
          77.60712704899268,
          77.7662849208734,
          77.92544279275413,
          78.08460066463485,
          78.24375853651557,
          78.4029164083963,
          78.56207428027702,
          78.72123215215774,
          78.88039002403846,
          79.03954789591918,
          79.19870576779991,
          79.35786363968063,
          79.51702151156135,
          79.67617938344208,
          79.8353372553228,
          79.99449512720352,
          80.15365299908424,
          80.31281087096497,
          80.47196874284569,
          80.63112661472641,
          80.79028448660713,
          80.94944235848787,
          81.1086002303686,
          81.2677581022493,
          81.42691597413003,
          81.58607384601076,
          81.74523171789149,
          81.90438958977221,
          82.06354746165293,
          82.22270533353365,
          82.38186320541438,
          82.5410210772951,
          82.70017894917584,
          82.85933682105656,
          83.01849469293727,
          83.177652564818,
          83.33681043669873,
          83.49596830857945,
          83.65512618046017,
          83.8142840523409,
          83.97344192422162,
          84.13259979610234,
          84.29175766798306,
          84.45091553986379,
          84.61007341174451,
          84.76923128362523,
          84.92838915550595,
          85.08754702738668,
          85.2467048992674,
          85.40586277114812,
          85.56502064302884,
          85.72417851490957,
          85.88333638679029,
          86.04249425867101,
          86.20165213055174,
          86.36081000243246,
          86.51996787431318,
          86.6791257461939,
          86.83828361807463,
          86.99744148995535,
          87.15659936183609,
          87.3157572337168,
          87.47491510559752,
          87.63407297747825,
          87.79323084935898,
          87.9523887212397,
          88.11154659312041,
          88.27070446500115,
          88.42986233688187,
          88.58902020876259,
          88.74817808064333,
          88.90733595252404,
          89.06649382440476,
          89.22565169628548,
          89.38480956816622,
          89.54396744004694,
          89.70312531192766,
          89.86228318380839,
          90.02144105568911,
          90.18059892756983,
          90.33975679945056,
          90.49891467133128,
          90.658072543212,
          90.81723041509272,
          90.97638828697345,
          91.13554615885417,
          91.29470403073489,
          91.45386190261561,
          91.61301977449634,
          91.77217764637706,
          91.93133551825778,
          92.0904933901385,
          92.24965126201923,
          92.40880913389995,
          92.56796700578067,
          92.7271248776614,
          92.88628274954212,
          93.04544062142284,
          93.20459849330358,
          93.36375636518429,
          93.52291423706501,
          93.68207210894573,
          93.84122998082647,
          94.00038785270719,
          94.1595457245879,
          94.31870359646864,
          94.47786146834936,
          94.63701934023008,
          94.7961772121108,
          94.95533508399153,
          95.11449295587225,
          95.27365082775297,
          95.43280869963371,
          95.59196657151443,
          95.75112444339516,
          95.91028231527586,
          96.0694401871566,
          96.22859805903732,
          96.38775593091805,
          96.54691380279877,
          96.70607167467949,
          96.86522954656022,
          97.02438741844094,
          97.18354529032166,
          97.34270316220238,
          97.5018610340831,
          97.66101890596383,
          97.82017677784455,
          97.97933464972527,
          98.138492521606,
          98.29765039348672,
          98.45680826536744,
          98.61596613724817,
          98.77512400912889,
          98.93428188100961,
          99.09343975289033,
          99.25259762477106,
          99.4117554966518,
          99.57091336853252,
          99.73007124041322,
          99.88922911229396,
          100.04838698417467,
          100.2075448560554,
          100.36670272793613,
          100.52586059981684,
          100.68501847169757,
          100.8441763435783,
          101.00333421545902,
          101.16249208733974,
          101.32164995922048,
          101.48080783110119,
          101.63996570298191,
          101.79912357486263,
          101.95828144674336,
          102.1174393186241,
          102.2765971905048,
          102.43575506238552,
          102.59491293426626,
          102.75407080614697,
          102.9132286780277,
          103.07238654990843,
          103.23154442178914,
          103.39070229366988,
          103.5498601655506,
          103.70901803743132,
          103.86817590931204,
          104.02733378119275,
          104.18649165307349,
          104.34564952495421,
          104.50480739683493,
          104.66396526871566,
          104.82312314059638,
          104.9822810124771,
          105.14143888435783,
          105.30059675623856,
          105.45975462811927,
          105.61891250000001,
          105.77807037188073,
          105.93722824376144,
          106.09638611564218,
          106.25554398752288,
          106.41470185940362,
          106.57385973128434,
          106.73301760316505,
          106.89217547504579,
          107.05133334692651,
          107.21049121880723,
          107.36964909068796,
          107.52880696256868,
          107.6879648344494,
          107.84712270633013,
          108.00628057821086,
          108.16543845009157,
          108.3245963219723,
          108.48375419385302,
          108.64291206573374,
          108.80206993761448,
          108.96122780949518,
          109.12038568137591,
          109.27954355325664,
          109.43870142513735,
          109.59785929701809,
          109.75701716889881,
          109.91617504077954,
          110.07533291266026,
          110.23449078454098,
          110.3936486564217,
          110.55280652830243,
          110.71196440018315,
          110.87112227206387,
          111.0302801439446,
          111.18943801582532,
          111.34859588770604,
          111.50775375958678,
          111.66691163146749,
          111.82606950334821,
          111.98522737522894,
          112.14438524710965,
          112.30354311899039,
          112.46270099087111,
          112.62185886275182,
          112.78101673463256,
          112.94017460651327,
          113.099332478394,
          113.25849035027473,
          113.41764822215544,
          113.57680609403617,
          113.7359639659169
         ],
         "xaxis": "x",
         "y": [
          0.0008669086458029996,
          0.0008807336819064705,
          0.0008948127748627864,
          0.0009091648266041268,
          0.0009238094348141637,
          0.0009387668637451106,
          0.0009540580123103023,
          0.0009697043795180969,
          0.0009857280273242815,
          0.0010021515409911897,
          0.0010189979870525957,
          0.0010362908689938487,
          0.0010540540807667956,
          0.0010723118582685854,
          0.001091088728922554,
          0.0011104094595078883,
          0.0011302990023927123,
          0.0011507824403324963,
          0.0011718849300023319,
          0.001193631644437464,
          0.0012160477145616846,
          0.0012391581699875396,
          0.0012629878792759335,
          0.0012875614898455326,
          0.0013129033677243371,
          0.0013390375373369952,
          0.0013659876215217786,
          0.0013937767819706915,
          0.0014224276602848832,
          0.0014519623198355335,
          0.001482402188617426,
          0.0015137680032789376,
          0.0015460797545077175,
          0.0015793566339463573,
          0.0016136169828065744,
          0.0016488782423440937,
          0.0016851569063494767,
          0.0017224684758025508,
          0.001760827415830174,
          0.0018002471150984822,
          0.0018407398477619408,
          0.0018823167380821865,
          0.001924987727820139,
          0.001968761546494945,
          0.002013645684593338,
          0.0020596463698027566,
          0.0021067685463312612,
          0.0021550158573669593,
          0.0022043906307192837,
          0.002254893867674129,
          0.00230652523508466,
          0.0023592830607095817,
          0.0024131643318006536,
          0.0024681646969316796,
          0.002524278471051693,
          0.0025814986437360018,
          0.0026398168905999364,
          0.0026992235878316923,
          0.0027597078297925477,
          0.0028212574496251624,
          0.0028838590428032335,
          0.0029474979935490996,
          0.003012158504039325,
          0.0030778236263124177,
          0.003144475296787273,
          0.0032120943732957914,
          0.0032806606745285696,
          0.0033501530217882164,
          0.00342054928294119,
          0.0034918264184554894,
          0.0035639605294087947,
          0.0036369269073487608,
          0.0037107000858852108,
          0.003785253893891907,
          0.00386056151019415,
          0.003936595519617171,
          0.00401332797026929,
          0.004090730431933395,
          0.004168774055439479,
          0.004247429632891255,
          0.004326667658619568,
          0.004406458390735788,
          0.004486771913158656,
          0.004567578197988848,
          0.004648847168106029,
          0.004730548759864389,
          0.004812652985763394,
          0.004895129996971912,
          0.004977950145585022,
          0.005061084046494332,
          0.00514450263875403,
          0.005228177246326708,
          0.00531207963809468,
          0.005396182087024304,
          0.005480457428373062,
          0.005564879116831006,
          0.005649421282490622,
          0.005734058785541534,
          0.0058187672695889335,
          0.005903523213497372,
          0.005988303981664485,
          0.006073087872632012,
          0.006157854165944955,
          0.006242583167172832,
          0.006327256251010705,
          0.006411855902381313,
          0.006496365755463523,
          0.006580770630576597,
          0.006665056568853733,
          0.006749210864643206,
          0.006833222095579705,
          0.006917080150273433,
          0.007000776253569548,
          0.007084302989335355,
          0.007167654320738175,
          0.007250825607981761,
          0.007333813623474848,
          0.007416616564410612,
          0.007499234062741333,
          0.007581667192538028,
          0.007663918474730214,
          0.007745991879226442,
          0.007827892824421194,
          0.007909628174099325,
          0.0079912062317538,
          0.008072636732337598,
          0.008153930831474919,
          0.008235101092161422,
          0.008316161468987131,
          0.008397127289919164,
          0.008478015235685261,
          0.008558843316801637,
          0.008639630848291457,
          0.008720398422142641,
          0.008801167877555034,
          0.008881962269028884,
          0.008962805832346928,
          0.009043723948503285,
          0.009124743105632199,
          0.009205890858989195,
          0.009287195789036652,
          0.009368687457684207,
          0.009450396362733227,
          0.009532353890572278,
          0.009614592267168378,
          0.00969714450739638,
          0.009780044362745818,
          0.009863326267441764,
          0.009947025283012863,
          0.010031177041336922,
          0.010115817686190479,
          0.010200983813326321,
          0.01028671240909914,
          0.010373040787656844,
          0.010460006526712154,
          0.010547647401906491,
          0.01063600131977626,
          0.010725106249329472,
          0.01081500015223965,
          0.010905720911663024,
          0.010997306259684776,
          0.011089793703400542,
          0.011183220449640655,
          0.01127762332834599,
          0.011373038714607273,
          0.011469502449382942,
          0.011567049758914724,
          0.011665715172865172,
          0.011765532441207557,
          0.011866534449904577,
          0.011968753135420748,
          0.012072219398121021,
          0.012176963014617794,
          0.012283012549138573,
          0.01239039526399678,
          0.012499137029260289,
          0.012609262231723968,
          0.012720793683305408,
          0.012833752528995986,
          0.01294815815451341,
          0.013064028093815544,
          0.013181377936649814,
          0.013300221236326761,
          0.01342056941792085,
          0.013542431687116245,
          0.01366581493992915,
          0.013790723673552713,
          0.013917159898584086,
          0.014045123052905784,
          0.014174609917507058,
          0.014305614534541322,
          0.014438128127927987,
          0.014572139026815801,
          0.014707632592233991,
          0.014844591147265334,
          0.014982993911080936,
          0.015122816937181871,
          0.015264033056195598,
          0.015406611823577176,
          0.01555051947256513,
          0.01569571887273992,
          0.015842169494529445,
          0.015989827380000557,
          0.016138645120268167,
          0.016288571839843675,
          0.016439553188233858,
          0.016591531339087057,
          0.016744444997168897,
          0.016898229413431522,
          0.017052816408421947,
          0.01720813440425276,
          0.01736410846533603,
          0.01752066034805579,
          0.017677708559527848,
          0.01783516842556697,
          0.01799295216795214,
          0.01815096899104775,
          0.01830912517780733,
          0.018467324195151017,
          0.018625466808673607,
          0.018783451206603345,
          0.01894117313289513,
          0.019098526029304293,
          0.01925540118624852,
          0.01941168790222829,
          0.019567273651537022,
          0.01972204425995429,
          0.019875884088077393,
          0.020028676221909434,
          0.02018030267028501,
          0.02033064456867894,
          0.02047958238890843,
          0.020626996154206007,
          0.020772765659108374,
          0.020916770693575313,
          0.021058891270725664,
          0.021199007857549183,
          0.02133700160793043,
          0.021472754597297267,
          0.02160615005818867,
          0.021737072616018583,
          0.021865408524299162,
          0.02199104589857546,
          0.02211387494831576,
          0.022233788205996613,
          0.02235068075262027,
          0.022464450438903195,
          0.02257499810138017,
          0.022682227772675728,
          0.022786046885207228,
          0.022886366467598465,
          0.02298310133310119,
          0.023076170259343803,
          0.023165496158751932,
          0.023251006239012755,
          0.02333263215298835,
          0.02341031013751564,
          0.023483981140569907,
          0.023553590936307968,
          0.023619090227549995,
          0.023680434735305313,
          0.02373758527499363,
          0.023790507819064468,
          0.023839173545767714,
          0.023883558873882625,
          0.023923645483266497,
          0.02395942032114051,
          0.02399087559408642,
          0.024018008745785982,
          0.02404082242059149,
          0.024059324413075053,
          0.0240735276037603,
          0.02408344988129845,
          0.024089114051406617,
          0.02409054773294088,
          0.024087783241531834,
          0.024080857461260995,
          0.024069811704908184,
          0.024054691563347236,
          0.02403554674471346,
          0.024012430904009254,
          0.02398540146385423,
          0.023954519427123254,
          0.02391984918224926,
          0.023881458301997553,
          0.023839417336544665,
          0.023793799601717056,
          0.02374468096326304,
          0.023692139618045723,
          0.023636255873053815,
          0.023577111923133585,
          0.023514791628345275,
          0.023449380291844384,
          0.023380964439180245,
          0.023309631599892165,
          0.023235470092266165,
          0.023158568812095198,
          0.023079017026259863,
          0.022996904171917364,
          0.02291231966205368,
          0.02282535269811596,
          0.022736092090402435,
          0.022644626086842055,
          0.022551042210749394,
          0.022455427108089794,
          0.022357866404736894,
          0.022258444574149244,
          0.02215724481583524,
          0.022054348944916834,
          0.02194983729304063,
          0.02184378862082466,
          0.021736280041964977,
          0.021627386959064097,
          0.02151718301117963,
          0.021405740033028347,
          0.021293128025718727,
          0.021179415138823467,
          0.02106466766354315,
          0.020948950036653344,
          0.020832324854871607,
          0.020714852899225353,
          0.020596593168950454,
          0.020477602924401112,
          0.02035793773840578,
          0.02023765155546141,
          0.02011679675811943,
          0.019995424239881814,
          0.01987358348389491,
          0.01975132264670164,
          0.019628688646290405,
          0.01950572725366135,
          0.019382483187117217,
          0.01925900020847731,
          0.01913532122040928,
          0.01901148836407426,
          0.01888754311628637,
          0.018763526385397623,
          0.018639478605134246,
          0.01851543982562952,
          0.018391449800922045,
          0.01826754807221613,
          0.01814377404623273,
          0.018020167068015756,
          0.017896766487597488,
          0.017773611719969683,
          0.017650742297853603,
          0.017528197916810352,
          0.017406018472284863,
          0.017284244088230233,
          0.017162915137015258,
          0.017042072250375125,
          0.016921756321223325,
          0.016802008496203263,
          0.016682870158917413,
          0.01656438290383248,
          0.016446588500918954,
          0.016329528851143575,
          0.016213245932991456,
          0.016097781740252802,
          0.015983178211365075,
          0.015869477150655526,
          0.015756720141882057,
          0.015644948454518682,
          0.015534202943280185,
          0.015424523941423966,
          0.01531595114840767,
          0.015208523512518876,
          0.015102279109126567,
          0.014997255015234068,
          0.014893487181038523,
          0.014791010299224241,
          0.014689857672734386,
          0.014590061081778372,
          0.0144916506508417,
          0.01439465471646875,
          0.014299099696589474,
          0.014205009962156026,
          0.014112407711847394,
          0.014021312850586422,
          0.013931742872596823,
          0.013843712749706853,
          0.01375723482558096,
          0.013672318716532166,
          0.013588971219536037,
          0.013507196228030982,
          0.013426994656051554,
          0.013348364371199746,
          0.013271300136915257,
          0.013195793564459418,
          0.013121833074979128,
          0.013049403871966766,
          0.012978487924380893,
          0.01290906396063939,
          0.012841107473643379,
          0.01277459073693592,
          0.012709482832045423,
          0.012645749687009003,
          0.01258335412601733,
          0.012522255930069268,
          0.012462411908472033,
          0.012403775980971594,
          0.012346299270248565,
          0.012289930204466563,
          0.012234614629514395,
          0.012180295930539571,
          0.012126915162329418,
          0.012074411188057205,
          0.012022720825874975,
          0.011971779002801556,
          0.011921518915324683,
          0.01187187219610882,
          0.011822769086177578,
          0.011774138611918889,
          0.011725908766245017,
          0.011678006693225659,
          0.011630358875503326,
          0.011582891323793426,
          0.011535529767768898,
          0.011488199847629874,
          0.011440827305662416,
          0.011393338177098117,
          0.011345658979596112,
          0.011297716900683007,
          0.011249439982501918,
          0.0112007573032416,
          0.011151599154637811,
          0.011101897214963486,
          0.011051584716951009,
          0.01100059661011776,
          0.010948869716997706,
          0.010896342882812804,
          0.010842957118152618,
          0.01078865573426532,
          0.010733384470599154,
          0.010677091614270717,
          0.010619728111174054,
          0.010561247668482668,
          0.010501606848334868,
          0.010440765152531688,
          0.010378685098114482,
          0.010315332283727724,
          0.010250675446709694,
          0.01018468651089095,
          0.010117340625115762,
          0.010048616192537585,
          0.009978494890772288,
          0.009906961683026348,
          0.009834004820347683,
          0.009759615835176235,
          0.009683789526400026,
          0.00960652393614745,
          0.009527820318571871,
          0.00944768310090667,
          0.009366119837089348,
          0.009283141154272052,
          0.00919876069255258,
          0.009112995038274218,
          0.009025863651255994,
          0.008937388786324524,
          0.008847595409528513,
          0.008756511109422811,
          0.008664166003813941,
          0.008570592642362098,
          0.008475825905435743,
          0.008379902899614204,
          0.008282862850231628,
          0.008184746991351686,
          0.008085598453557361,
          0.007985462149933086,
          0.007884384660608985,
          0.0077824141162271465,
          0.007679600080680407,
          0.007575993433461871,
          0.0074716462519517765,
          0.007366611693955481,
          0.007260943880791804,
          0.007154697781217819,
          0.007047929096460516,
          0.006940694146611309,
          0.00683304975862343,
          0.006725053156137083,
          0.006616761851341278,
          0.006508233539065788,
          0.006399525993280877,
          0.006290696966167117,
          0.006181804089902216,
          0.006072904781297259,
          0.005964056149399284,
          0.00585531490616419,
          0.005746737280288996,
          0.005638378934280057,
          0.005530294884820872,
          0.005422539426490976,
          0.005315166058875848,
          0.0052082274170972545,
          0.005101775205782185,
          0.004995860136480373,
          0.004890531868529896,
          0.004785838953362984,
          0.004681828782236055
         ],
         "yaxis": "y"
        },
        {
         "legendgroup": "R",
         "marker": {
          "color": "red",
          "symbol": "line-ns-open"
         },
         "mode": "markers",
         "name": "R",
         "showlegend": false,
         "type": "scatter",
         "x": [
          109.88538518772894,
          130.24837060725733,
          108.7034172533196,
          127.22118782909799,
          81.23115770947803,
          123.95277694310897,
          104.56805460164836,
          115.2031468206273,
          93.95971017914377,
          79.24811484088828,
          91.26290028331044,
          109.21686376774268,
          121.89035492502289,
          105.07857464800824,
          95.49624470581502,
          96.15216846955128,
          99.19379006410256,
          100.10775419242216,
          99.51522042410714,
          105.14262391254579,
          108.45544049049909,
          93.49179222470238,
          100.91997481684982,
          108.03607987065018,
          90.3776381496108,
          112.76239197000916,
          96.46827638507327,
          141.22486049107144,
          124.44289112580128,
          67.0477056146978,
          119.01223171359891,
          108.13080822172618,
          100.95760574061356,
          92.09419535542582,
          96.23660356570512,
          95.73412817651099,
          80.47464800824176,
          95.67118282108517,
          160.69143129006412,
          81.23971425709706,
          137.82576121794872,
          103.67609317765567,
          161.43473521920788,
          106.24883563701923,
          88.39481348729396,
          97.9094948345925,
          100.9132576407967,
          90.65359181833792,
          91.22200628147894,
          103.03511797447344,
          115.17326901614011,
          75.97304401327838,
          111.38438358516484,
          75.20321800595238,
          124.38267549507783,
          86.19860204899267,
          125.32975940075549,
          98.07443087511447,
          88.09978680173992,
          96.26706015338827,
          104.56917711195055,
          143.34940368875917,
          140.0901842948718,
          107.34990878262363,
          127.9975593091804,
          90.64717369219322,
          88.06087811927655,
          96.61024925595238,
          93.09616386217948,
          106.08151614010988,
          87.10346268315018,
          102.81859654017858,
          96.74673119848902,
          100.8622814360119,
          95.2329341231685,
          119.70608008527931,
          92.24759722699176,
          105.6406718606914,
          78.22706723614927,
          106.21532595009157,
          104.95522908081502,
          95.4783453525641,
          115.14477914663462,
          98.00697222699176,
          133.34018286401098,
          120.01927119104853,
          103.66985247825092,
          98.36967862866301,
          72.67672382955585,
          103.66783353365385,
          81.76022350045787,
          78.97306082589286,
          83.91678685897436,
          107.39958612351191,
          83.69398394574176,
          75.44243360805861,
          81.09404439961081,
          103.07012469951923,
          102.21488703353938,
          108.58970388335622
         ],
         "xaxis": "x",
         "y": [
          "R",
          "R",
          "R",
          "R",
          "R",
          "R",
          "R",
          "R",
          "R",
          "R",
          "R",
          "R",
          "R",
          "R",
          "R",
          "R",
          "R",
          "R",
          "R",
          "R",
          "R",
          "R",
          "R",
          "R",
          "R",
          "R",
          "R",
          "R",
          "R",
          "R",
          "R",
          "R",
          "R",
          "R",
          "R",
          "R",
          "R",
          "R",
          "R",
          "R",
          "R",
          "R",
          "R",
          "R",
          "R",
          "R",
          "R",
          "R",
          "R",
          "R",
          "R",
          "R",
          "R",
          "R",
          "R",
          "R",
          "R",
          "R",
          "R",
          "R",
          "R",
          "R",
          "R",
          "R",
          "R",
          "R",
          "R",
          "R",
          "R",
          "R",
          "R",
          "R",
          "R",
          "R",
          "R",
          "R",
          "R",
          "R",
          "R",
          "R",
          "R",
          "R",
          "R",
          "R",
          "R",
          "R",
          "R",
          "R",
          "R",
          "R",
          "R",
          "R",
          "R",
          "R",
          "R",
          "R",
          "R",
          "R",
          "R",
          "R"
         ],
         "yaxis": "y2"
        },
        {
         "legendgroup": "G",
         "marker": {
          "color": "green",
          "symbol": "line-ns-open"
         },
         "mode": "markers",
         "name": "G",
         "showlegend": false,
         "type": "scatter",
         "x": [
          125.92051174736721,
          142.04248511904763,
          147.17633284684067,
          152.63441363324176,
          125.93263400011448,
          142.17530906593407,
          141.76107486263737,
          135.82183958619507,
          116.58945133642399,
          111.6365978422619,
          117.46722291380495,
          141.87390646462913,
          147.67051639766484,
          138.39030234088827,
          124.32840652186356,
          132.68838927999084,
          144.87796724759616,
          138.24785549736723,
          138.6452141283196,
          118.42165929773351,
          139.8699916294643,
          109.21282516311813,
          146.49287645947803,
          115.73733867044415,
          107.67479824862637,
          140.31908911401098,
          126.42100467891484,
          148.18821757669414,
          143.31768687042126,
          79.9801253434066,
          134.21875500801283,
          140.68833991529303,
          115.58296989468865,
          125.65292396405678,
          137.33922347184065,
          124.19690469036172,
          123.82649381868131,
          101.40667997367215,
          165.22452888907966,
          113.97647807921246,
          151.86402565533425,
          131.4567812070742,
          174.4321775555174,
          142.42380058092948,
          133.10494505494506,
          111.41704369848901,
          122.14730962396978,
          124.04589092548076,
          136.6264380151099,
          113.99266183035714,
          136.3545891283196,
          106.09490685096154,
          139.5470932062729,
          107.73340308779763,
          150.36383034283426,
          140.93647049565018,
          156.6292535914606,
          119.47179022149726,
          126.89968556833792,
          129.84123883928572,
          125.9137190934066,
          163.3794624971383,
          157.16527658539377,
          115.74458598042582,
          160.912404132326,
          127.02376445169413,
          140.4215866815476,
          141.1545644459707,
          129.2410445999313,
          147.44786694425366,
          131.3172601161859,
          140.41967075892856,
          129.93126073145604,
          113.06446385645604,
          139.96902722928112,
          136.3576948116987,
          135.15144445398352,
          135.66048964056776,
          111.0792961595696,
          125.68986735920329,
          137.86536672962455,
          121.2737297533196,
          133.7967762706044,
          116.81734954498626,
          157.2044900412088,
          140.50851791437728,
          127.42354302598443,
          141.4670157967033,
          100.14452302255036,
          122.62815182864011,
          127.97022951007327,
          117.38370464171246,
          123.04548778044872,
          127.03663075206045,
          112.15408868475275,
          117.24751996050824,
          110.38206201350732,
          139.64395747481686,
          126.36933915693682,
          131.7125250400641
         ],
         "xaxis": "x",
         "y": [
          "G",
          "G",
          "G",
          "G",
          "G",
          "G",
          "G",
          "G",
          "G",
          "G",
          "G",
          "G",
          "G",
          "G",
          "G",
          "G",
          "G",
          "G",
          "G",
          "G",
          "G",
          "G",
          "G",
          "G",
          "G",
          "G",
          "G",
          "G",
          "G",
          "G",
          "G",
          "G",
          "G",
          "G",
          "G",
          "G",
          "G",
          "G",
          "G",
          "G",
          "G",
          "G",
          "G",
          "G",
          "G",
          "G",
          "G",
          "G",
          "G",
          "G",
          "G",
          "G",
          "G",
          "G",
          "G",
          "G",
          "G",
          "G",
          "G",
          "G",
          "G",
          "G",
          "G",
          "G",
          "G",
          "G",
          "G",
          "G",
          "G",
          "G",
          "G",
          "G",
          "G",
          "G",
          "G",
          "G",
          "G",
          "G",
          "G",
          "G",
          "G",
          "G",
          "G",
          "G",
          "G",
          "G",
          "G",
          "G",
          "G",
          "G",
          "G",
          "G",
          "G",
          "G",
          "G",
          "G",
          "G",
          "G",
          "G",
          "G"
         ],
         "yaxis": "y2"
        },
        {
         "legendgroup": "B",
         "marker": {
          "color": "blue",
          "symbol": "line-ns-open"
         },
         "mode": "markers",
         "name": "B",
         "showlegend": false,
         "type": "scatter",
         "x": [
          54.53553185096154,
          93.31749334649726,
          103.6943141168727,
          89.5318348643544,
          77.75673363095238,
          100.90746265453296,
          76.35283668154761,
          100.6609110290751,
          54.935957889766485,
          63.96526370764652,
          55.559871508699636,
          86.2899181547619,
          79.02957160027472,
          106.69048727964744,
          73.17298033997253,
          84.06968149038461,
          100.51995478479853,
          87.20515574919872,
          107.26548584878662,
          70.87534591059982,
          78.09588412889194,
          63.98942379235348,
          81.76646920787546,
          80.27489375858516,
          76.53615284455128,
          77.86103801797161,
          72.78620113610349,
          90.07916022779304,
          77.29632447630495,
          34.3161858974359,
          67.77858287545787,
          75.16602850274725,
          54.24973743704212,
          87.49028016254579,
          105.0233899238782,
          69.04509679773352,
          88.08066907051283,
          65.3456773695055,
          110.48256496108058,
          82.31186040521978,
          82.7072015224359,
          78.17158668154762,
          102.2465086996337,
          82.17068416609432,
          86.54288110977564,
          78.70496079441392,
          98.45296188186813,
          72.34582009787088,
          86.09037638793498,
          68.51702509729853,
          69.05045930631869,
          61.13990706559066,
          77.51573195684524,
          77.02901356456044,
          113.89512183779762,
          74.43263578869048,
          74.08667224702381,
          76.39275269001831,
          104.00902944711538,
          80.67903645833333,
          88.97003813244048,
          90.86196879292582,
          93.25087461366758,
          48.912527544070514,
          77.9515850360577,
          62.75745728880494,
          90.34182763850733,
          108.76602349473443,
          106.25530742044414,
          63.06332739526099,
          86.46733487866301,
          74.51140324519231,
          104.15980390052655,
          58.674107142857146,
          62.40749592204671,
          91.57578947744963,
          95.6504138764881,
          70.05354781936813,
          54.160501445169416,
          77.9648430345696,
          76.55155928056318,
          63.33613674736721,
          90.09093084649726,
          82.2001219808837,
          98.37507798191392,
          71.08867688301282,
          112.23646906478938,
          90.82241479223902,
          81.93420544299451,
          47.23257354624542,
          101.23318917410714,
          59.08222906650641,
          92.47016941391941,
          74.3637702466804,
          47.380259486607144,
          73.55488567422161,
          53.40692250457875,
          69.46683980082418,
          82.42657859718406,
          71.1710200606685
         ],
         "xaxis": "x",
         "y": [
          "B",
          "B",
          "B",
          "B",
          "B",
          "B",
          "B",
          "B",
          "B",
          "B",
          "B",
          "B",
          "B",
          "B",
          "B",
          "B",
          "B",
          "B",
          "B",
          "B",
          "B",
          "B",
          "B",
          "B",
          "B",
          "B",
          "B",
          "B",
          "B",
          "B",
          "B",
          "B",
          "B",
          "B",
          "B",
          "B",
          "B",
          "B",
          "B",
          "B",
          "B",
          "B",
          "B",
          "B",
          "B",
          "B",
          "B",
          "B",
          "B",
          "B",
          "B",
          "B",
          "B",
          "B",
          "B",
          "B",
          "B",
          "B",
          "B",
          "B",
          "B",
          "B",
          "B",
          "B",
          "B",
          "B",
          "B",
          "B",
          "B",
          "B",
          "B",
          "B",
          "B",
          "B",
          "B",
          "B",
          "B",
          "B",
          "B",
          "B",
          "B",
          "B",
          "B",
          "B",
          "B",
          "B",
          "B",
          "B",
          "B",
          "B",
          "B",
          "B",
          "B",
          "B",
          "B",
          "B",
          "B",
          "B",
          "B",
          "B"
         ],
         "yaxis": "y2"
        }
       ],
       "layout": {
        "barmode": "overlay",
        "hovermode": "closest",
        "legend": {
         "traceorder": "reversed"
        },
        "template": {
         "data": {
          "bar": [
           {
            "error_x": {
             "color": "rgb(36,36,36)"
            },
            "error_y": {
             "color": "rgb(36,36,36)"
            },
            "marker": {
             "line": {
              "color": "white",
              "width": 0.5
             },
             "pattern": {
              "fillmode": "overlay",
              "size": 10,
              "solidity": 0.2
             }
            },
            "type": "bar"
           }
          ],
          "barpolar": [
           {
            "marker": {
             "line": {
              "color": "white",
              "width": 0.5
             },
             "pattern": {
              "fillmode": "overlay",
              "size": 10,
              "solidity": 0.2
             }
            },
            "type": "barpolar"
           }
          ],
          "carpet": [
           {
            "aaxis": {
             "endlinecolor": "rgb(36,36,36)",
             "gridcolor": "white",
             "linecolor": "white",
             "minorgridcolor": "white",
             "startlinecolor": "rgb(36,36,36)"
            },
            "baxis": {
             "endlinecolor": "rgb(36,36,36)",
             "gridcolor": "white",
             "linecolor": "white",
             "minorgridcolor": "white",
             "startlinecolor": "rgb(36,36,36)"
            },
            "type": "carpet"
           }
          ],
          "choropleth": [
           {
            "colorbar": {
             "outlinewidth": 1,
             "tickcolor": "rgb(36,36,36)",
             "ticks": "outside"
            },
            "type": "choropleth"
           }
          ],
          "contour": [
           {
            "colorbar": {
             "outlinewidth": 1,
             "tickcolor": "rgb(36,36,36)",
             "ticks": "outside"
            },
            "colorscale": [
             [
              0,
              "#440154"
             ],
             [
              0.1111111111111111,
              "#482878"
             ],
             [
              0.2222222222222222,
              "#3e4989"
             ],
             [
              0.3333333333333333,
              "#31688e"
             ],
             [
              0.4444444444444444,
              "#26828e"
             ],
             [
              0.5555555555555556,
              "#1f9e89"
             ],
             [
              0.6666666666666666,
              "#35b779"
             ],
             [
              0.7777777777777778,
              "#6ece58"
             ],
             [
              0.8888888888888888,
              "#b5de2b"
             ],
             [
              1,
              "#fde725"
             ]
            ],
            "type": "contour"
           }
          ],
          "contourcarpet": [
           {
            "colorbar": {
             "outlinewidth": 1,
             "tickcolor": "rgb(36,36,36)",
             "ticks": "outside"
            },
            "type": "contourcarpet"
           }
          ],
          "heatmap": [
           {
            "colorbar": {
             "outlinewidth": 1,
             "tickcolor": "rgb(36,36,36)",
             "ticks": "outside"
            },
            "colorscale": [
             [
              0,
              "#440154"
             ],
             [
              0.1111111111111111,
              "#482878"
             ],
             [
              0.2222222222222222,
              "#3e4989"
             ],
             [
              0.3333333333333333,
              "#31688e"
             ],
             [
              0.4444444444444444,
              "#26828e"
             ],
             [
              0.5555555555555556,
              "#1f9e89"
             ],
             [
              0.6666666666666666,
              "#35b779"
             ],
             [
              0.7777777777777778,
              "#6ece58"
             ],
             [
              0.8888888888888888,
              "#b5de2b"
             ],
             [
              1,
              "#fde725"
             ]
            ],
            "type": "heatmap"
           }
          ],
          "heatmapgl": [
           {
            "colorbar": {
             "outlinewidth": 1,
             "tickcolor": "rgb(36,36,36)",
             "ticks": "outside"
            },
            "colorscale": [
             [
              0,
              "#440154"
             ],
             [
              0.1111111111111111,
              "#482878"
             ],
             [
              0.2222222222222222,
              "#3e4989"
             ],
             [
              0.3333333333333333,
              "#31688e"
             ],
             [
              0.4444444444444444,
              "#26828e"
             ],
             [
              0.5555555555555556,
              "#1f9e89"
             ],
             [
              0.6666666666666666,
              "#35b779"
             ],
             [
              0.7777777777777778,
              "#6ece58"
             ],
             [
              0.8888888888888888,
              "#b5de2b"
             ],
             [
              1,
              "#fde725"
             ]
            ],
            "type": "heatmapgl"
           }
          ],
          "histogram": [
           {
            "marker": {
             "line": {
              "color": "white",
              "width": 0.6
             }
            },
            "type": "histogram"
           }
          ],
          "histogram2d": [
           {
            "colorbar": {
             "outlinewidth": 1,
             "tickcolor": "rgb(36,36,36)",
             "ticks": "outside"
            },
            "colorscale": [
             [
              0,
              "#440154"
             ],
             [
              0.1111111111111111,
              "#482878"
             ],
             [
              0.2222222222222222,
              "#3e4989"
             ],
             [
              0.3333333333333333,
              "#31688e"
             ],
             [
              0.4444444444444444,
              "#26828e"
             ],
             [
              0.5555555555555556,
              "#1f9e89"
             ],
             [
              0.6666666666666666,
              "#35b779"
             ],
             [
              0.7777777777777778,
              "#6ece58"
             ],
             [
              0.8888888888888888,
              "#b5de2b"
             ],
             [
              1,
              "#fde725"
             ]
            ],
            "type": "histogram2d"
           }
          ],
          "histogram2dcontour": [
           {
            "colorbar": {
             "outlinewidth": 1,
             "tickcolor": "rgb(36,36,36)",
             "ticks": "outside"
            },
            "colorscale": [
             [
              0,
              "#440154"
             ],
             [
              0.1111111111111111,
              "#482878"
             ],
             [
              0.2222222222222222,
              "#3e4989"
             ],
             [
              0.3333333333333333,
              "#31688e"
             ],
             [
              0.4444444444444444,
              "#26828e"
             ],
             [
              0.5555555555555556,
              "#1f9e89"
             ],
             [
              0.6666666666666666,
              "#35b779"
             ],
             [
              0.7777777777777778,
              "#6ece58"
             ],
             [
              0.8888888888888888,
              "#b5de2b"
             ],
             [
              1,
              "#fde725"
             ]
            ],
            "type": "histogram2dcontour"
           }
          ],
          "mesh3d": [
           {
            "colorbar": {
             "outlinewidth": 1,
             "tickcolor": "rgb(36,36,36)",
             "ticks": "outside"
            },
            "type": "mesh3d"
           }
          ],
          "parcoords": [
           {
            "line": {
             "colorbar": {
              "outlinewidth": 1,
              "tickcolor": "rgb(36,36,36)",
              "ticks": "outside"
             }
            },
            "type": "parcoords"
           }
          ],
          "pie": [
           {
            "automargin": true,
            "type": "pie"
           }
          ],
          "scatter": [
           {
            "fillpattern": {
             "fillmode": "overlay",
             "size": 10,
             "solidity": 0.2
            },
            "type": "scatter"
           }
          ],
          "scatter3d": [
           {
            "line": {
             "colorbar": {
              "outlinewidth": 1,
              "tickcolor": "rgb(36,36,36)",
              "ticks": "outside"
             }
            },
            "marker": {
             "colorbar": {
              "outlinewidth": 1,
              "tickcolor": "rgb(36,36,36)",
              "ticks": "outside"
             }
            },
            "type": "scatter3d"
           }
          ],
          "scattercarpet": [
           {
            "marker": {
             "colorbar": {
              "outlinewidth": 1,
              "tickcolor": "rgb(36,36,36)",
              "ticks": "outside"
             }
            },
            "type": "scattercarpet"
           }
          ],
          "scattergeo": [
           {
            "marker": {
             "colorbar": {
              "outlinewidth": 1,
              "tickcolor": "rgb(36,36,36)",
              "ticks": "outside"
             }
            },
            "type": "scattergeo"
           }
          ],
          "scattergl": [
           {
            "marker": {
             "colorbar": {
              "outlinewidth": 1,
              "tickcolor": "rgb(36,36,36)",
              "ticks": "outside"
             }
            },
            "type": "scattergl"
           }
          ],
          "scattermapbox": [
           {
            "marker": {
             "colorbar": {
              "outlinewidth": 1,
              "tickcolor": "rgb(36,36,36)",
              "ticks": "outside"
             }
            },
            "type": "scattermapbox"
           }
          ],
          "scatterpolar": [
           {
            "marker": {
             "colorbar": {
              "outlinewidth": 1,
              "tickcolor": "rgb(36,36,36)",
              "ticks": "outside"
             }
            },
            "type": "scatterpolar"
           }
          ],
          "scatterpolargl": [
           {
            "marker": {
             "colorbar": {
              "outlinewidth": 1,
              "tickcolor": "rgb(36,36,36)",
              "ticks": "outside"
             }
            },
            "type": "scatterpolargl"
           }
          ],
          "scatterternary": [
           {
            "marker": {
             "colorbar": {
              "outlinewidth": 1,
              "tickcolor": "rgb(36,36,36)",
              "ticks": "outside"
             }
            },
            "type": "scatterternary"
           }
          ],
          "surface": [
           {
            "colorbar": {
             "outlinewidth": 1,
             "tickcolor": "rgb(36,36,36)",
             "ticks": "outside"
            },
            "colorscale": [
             [
              0,
              "#440154"
             ],
             [
              0.1111111111111111,
              "#482878"
             ],
             [
              0.2222222222222222,
              "#3e4989"
             ],
             [
              0.3333333333333333,
              "#31688e"
             ],
             [
              0.4444444444444444,
              "#26828e"
             ],
             [
              0.5555555555555556,
              "#1f9e89"
             ],
             [
              0.6666666666666666,
              "#35b779"
             ],
             [
              0.7777777777777778,
              "#6ece58"
             ],
             [
              0.8888888888888888,
              "#b5de2b"
             ],
             [
              1,
              "#fde725"
             ]
            ],
            "type": "surface"
           }
          ],
          "table": [
           {
            "cells": {
             "fill": {
              "color": "rgb(237,237,237)"
             },
             "line": {
              "color": "white"
             }
            },
            "header": {
             "fill": {
              "color": "rgb(217,217,217)"
             },
             "line": {
              "color": "white"
             }
            },
            "type": "table"
           }
          ]
         },
         "layout": {
          "annotationdefaults": {
           "arrowhead": 0,
           "arrowwidth": 1
          },
          "autotypenumbers": "strict",
          "coloraxis": {
           "colorbar": {
            "outlinewidth": 1,
            "tickcolor": "rgb(36,36,36)",
            "ticks": "outside"
           }
          },
          "colorscale": {
           "diverging": [
            [
             0,
             "rgb(103,0,31)"
            ],
            [
             0.1,
             "rgb(178,24,43)"
            ],
            [
             0.2,
             "rgb(214,96,77)"
            ],
            [
             0.3,
             "rgb(244,165,130)"
            ],
            [
             0.4,
             "rgb(253,219,199)"
            ],
            [
             0.5,
             "rgb(247,247,247)"
            ],
            [
             0.6,
             "rgb(209,229,240)"
            ],
            [
             0.7,
             "rgb(146,197,222)"
            ],
            [
             0.8,
             "rgb(67,147,195)"
            ],
            [
             0.9,
             "rgb(33,102,172)"
            ],
            [
             1,
             "rgb(5,48,97)"
            ]
           ],
           "sequential": [
            [
             0,
             "#440154"
            ],
            [
             0.1111111111111111,
             "#482878"
            ],
            [
             0.2222222222222222,
             "#3e4989"
            ],
            [
             0.3333333333333333,
             "#31688e"
            ],
            [
             0.4444444444444444,
             "#26828e"
            ],
            [
             0.5555555555555556,
             "#1f9e89"
            ],
            [
             0.6666666666666666,
             "#35b779"
            ],
            [
             0.7777777777777778,
             "#6ece58"
            ],
            [
             0.8888888888888888,
             "#b5de2b"
            ],
            [
             1,
             "#fde725"
            ]
           ],
           "sequentialminus": [
            [
             0,
             "#440154"
            ],
            [
             0.1111111111111111,
             "#482878"
            ],
            [
             0.2222222222222222,
             "#3e4989"
            ],
            [
             0.3333333333333333,
             "#31688e"
            ],
            [
             0.4444444444444444,
             "#26828e"
            ],
            [
             0.5555555555555556,
             "#1f9e89"
            ],
            [
             0.6666666666666666,
             "#35b779"
            ],
            [
             0.7777777777777778,
             "#6ece58"
            ],
            [
             0.8888888888888888,
             "#b5de2b"
            ],
            [
             1,
             "#fde725"
            ]
           ]
          },
          "colorway": [
           "#1F77B4",
           "#FF7F0E",
           "#2CA02C",
           "#D62728",
           "#9467BD",
           "#8C564B",
           "#E377C2",
           "#7F7F7F",
           "#BCBD22",
           "#17BECF"
          ],
          "font": {
           "color": "rgb(36,36,36)"
          },
          "geo": {
           "bgcolor": "white",
           "lakecolor": "white",
           "landcolor": "white",
           "showlakes": true,
           "showland": true,
           "subunitcolor": "white"
          },
          "hoverlabel": {
           "align": "left"
          },
          "hovermode": "closest",
          "mapbox": {
           "style": "light"
          },
          "paper_bgcolor": "white",
          "plot_bgcolor": "white",
          "polar": {
           "angularaxis": {
            "gridcolor": "rgb(232,232,232)",
            "linecolor": "rgb(36,36,36)",
            "showgrid": false,
            "showline": true,
            "ticks": "outside"
           },
           "bgcolor": "white",
           "radialaxis": {
            "gridcolor": "rgb(232,232,232)",
            "linecolor": "rgb(36,36,36)",
            "showgrid": false,
            "showline": true,
            "ticks": "outside"
           }
          },
          "scene": {
           "xaxis": {
            "backgroundcolor": "white",
            "gridcolor": "rgb(232,232,232)",
            "gridwidth": 2,
            "linecolor": "rgb(36,36,36)",
            "showbackground": true,
            "showgrid": false,
            "showline": true,
            "ticks": "outside",
            "zeroline": false,
            "zerolinecolor": "rgb(36,36,36)"
           },
           "yaxis": {
            "backgroundcolor": "white",
            "gridcolor": "rgb(232,232,232)",
            "gridwidth": 2,
            "linecolor": "rgb(36,36,36)",
            "showbackground": true,
            "showgrid": false,
            "showline": true,
            "ticks": "outside",
            "zeroline": false,
            "zerolinecolor": "rgb(36,36,36)"
           },
           "zaxis": {
            "backgroundcolor": "white",
            "gridcolor": "rgb(232,232,232)",
            "gridwidth": 2,
            "linecolor": "rgb(36,36,36)",
            "showbackground": true,
            "showgrid": false,
            "showline": true,
            "ticks": "outside",
            "zeroline": false,
            "zerolinecolor": "rgb(36,36,36)"
           }
          },
          "shapedefaults": {
           "fillcolor": "black",
           "line": {
            "width": 0
           },
           "opacity": 0.3
          },
          "ternary": {
           "aaxis": {
            "gridcolor": "rgb(232,232,232)",
            "linecolor": "rgb(36,36,36)",
            "showgrid": false,
            "showline": true,
            "ticks": "outside"
           },
           "baxis": {
            "gridcolor": "rgb(232,232,232)",
            "linecolor": "rgb(36,36,36)",
            "showgrid": false,
            "showline": true,
            "ticks": "outside"
           },
           "bgcolor": "white",
           "caxis": {
            "gridcolor": "rgb(232,232,232)",
            "linecolor": "rgb(36,36,36)",
            "showgrid": false,
            "showline": true,
            "ticks": "outside"
           }
          },
          "title": {
           "x": 0.05
          },
          "xaxis": {
           "automargin": true,
           "gridcolor": "rgb(232,232,232)",
           "linecolor": "rgb(36,36,36)",
           "showgrid": false,
           "showline": true,
           "ticks": "outside",
           "title": {
            "standoff": 15
           },
           "zeroline": false,
           "zerolinecolor": "rgb(36,36,36)"
          },
          "yaxis": {
           "automargin": true,
           "gridcolor": "rgb(232,232,232)",
           "linecolor": "rgb(36,36,36)",
           "showgrid": false,
           "showline": true,
           "ticks": "outside",
           "title": {
            "standoff": 15
           },
           "zeroline": false,
           "zerolinecolor": "rgb(36,36,36)"
          }
         }
        },
        "title": {
         "text": "Distribution of red channel values"
        },
        "xaxis": {
         "anchor": "y2",
         "domain": [
          0,
          1
         ],
         "zeroline": false
        },
        "yaxis": {
         "anchor": "free",
         "domain": [
          0.35,
          1
         ],
         "position": 0
        },
        "yaxis2": {
         "anchor": "x",
         "domain": [
          0,
          0.25
         ],
         "dtick": 1,
         "showticklabels": false
        }
       }
      }
     },
     "metadata": {},
     "output_type": "display_data"
    }
   ],
   "source": [
    "fig = ff.create_distplot([red_values, green_values, blue_values],\n",
    "                         group_labels=[\"R\", \"G\", \"B\"],\n",
    "                         colors=[\"red\", \"green\", \"blue\"])\n",
    "fig.update_layout(\n",
    "    title_text=\"Distribution of red channel values\", template=\"simple_white\")\n",
    "fig.data[0].marker.line.color = 'rgb(0, 0, 0)'\n",
    "fig.data[0].marker.line.width = 0.5\n",
    "fig.data[1].marker.line.color = 'rgb(0, 0, 0)'\n",
    "fig.data[1].marker.line.width = 0.5\n",
    "fig.data[2].marker.line.color = 'rgb(0, 0, 0)'\n",
    "fig.data[2].marker.line.width = 0.5\n",
    "fig\n"
   ]
  },
  {
   "cell_type": "code",
   "execution_count": 14,
   "metadata": {},
   "outputs": [],
   "source": [
    "def visualize_leaves(cond=[0, 0, 0, 0], cond_cols=[\"healthy\"], is_cond=True):\n",
    "    if not is_cond:\n",
    "        cols, rows = 3, min([3, len(train_images)//3])\n",
    "        fig, ax = plt.subplots(nrows=rows, ncols=cols, figsize=(30, rows*20/3))\n",
    "        for col in range(cols):\n",
    "            for row in range(rows):\n",
    "                ax[row, col].imshow(\n",
    "                    train_images.loc[train_images.index[-row*3-col-1]])\n",
    "        return None\n",
    "\n",
    "    cond_0 = \"healthy == {}\".format(cond[0])\n",
    "    cond_1 = \"scab == {}\".format(cond[1])\n",
    "    cond_2 = \"rust == {}\".format(cond[2])\n",
    "    cond_3 = \"multiple_diseases == {}\".format(cond[3])\n",
    "\n",
    "    cond_list = []\n",
    "    for col in cond_cols:\n",
    "        if col == \"healthy\":\n",
    "            cond_list.append(cond_0)\n",
    "        if col == \"scab\":\n",
    "            cond_list.append(cond_1)\n",
    "        if col == \"rust\":\n",
    "            cond_list.append(cond_2)\n",
    "        if col == \"multiple_diseases\":\n",
    "            cond_list.append(cond_3)\n",
    "\n",
    "    data = train_data.loc[:100]\n",
    "    for cond in cond_list:\n",
    "        data = data.query(cond)\n",
    "\n",
    "    images = train_images.loc[list(data.index)]\n",
    "    cols, rows = 3, min([3, len(images)//3])\n",
    "\n",
    "    fig, ax = plt.subplots(nrows=rows, ncols=cols, figsize=(30, rows*20/3))\n",
    "    for col in range(cols):\n",
    "        for row in range(rows):\n",
    "            ax[row, col].imshow(images.loc[images.index[row*3+col]])\n",
    "    plt.show()\n"
   ]
  },
  {
   "cell_type": "code",
   "execution_count": 19,
   "metadata": {},
   "outputs": [
    {
     "ename": "IndexError",
     "evalue": "list index out of range",
     "output_type": "error",
     "traceback": [
      "\u001b[1;31m---------------------------------------------------------------------------\u001b[0m",
      "\u001b[1;31mIndexError\u001b[0m                                Traceback (most recent call last)",
      "\u001b[1;32md:\\Overtime\\github\\DBSEdu\\Sem 2\\Deep Learning\\CA\\CA1_60%\\CA_Sunil_Gauda_10595858.ipynb Cell 16\u001b[0m in \u001b[0;36m<cell line: 1>\u001b[1;34m()\u001b[0m\n\u001b[1;32m----> <a href='vscode-notebook-cell:/d%3A/Overtime/github/DBSEdu/Sem%202/Deep%20Learning/CA/CA1_60%25/CA_Sunil_Gauda_10595858.ipynb#ch0000015?line=0'>1</a>\u001b[0m visualize_leaves(cond\u001b[39m=\u001b[39;49m[\u001b[39m1\u001b[39;49m, \u001b[39m0\u001b[39;49m, \u001b[39m0\u001b[39;49m], cond_cols\u001b[39m=\u001b[39;49m[\u001b[39m\"\u001b[39;49m\u001b[39mhealthy\u001b[39;49m\u001b[39m\"\u001b[39;49m])\n",
      "\u001b[1;32md:\\Overtime\\github\\DBSEdu\\Sem 2\\Deep Learning\\CA\\CA1_60%\\CA_Sunil_Gauda_10595858.ipynb Cell 16\u001b[0m in \u001b[0;36mvisualize_leaves\u001b[1;34m(cond, cond_cols, is_cond)\u001b[0m\n\u001b[0;32m     <a href='vscode-notebook-cell:/d%3A/Overtime/github/DBSEdu/Sem%202/Deep%20Learning/CA/CA1_60%25/CA_Sunil_Gauda_10595858.ipynb#ch0000015?line=10'>11</a>\u001b[0m cond_1 \u001b[39m=\u001b[39m \u001b[39m\"\u001b[39m\u001b[39mscab == \u001b[39m\u001b[39m{}\u001b[39;00m\u001b[39m\"\u001b[39m\u001b[39m.\u001b[39mformat(cond[\u001b[39m1\u001b[39m])\n\u001b[0;32m     <a href='vscode-notebook-cell:/d%3A/Overtime/github/DBSEdu/Sem%202/Deep%20Learning/CA/CA1_60%25/CA_Sunil_Gauda_10595858.ipynb#ch0000015?line=11'>12</a>\u001b[0m cond_2 \u001b[39m=\u001b[39m \u001b[39m\"\u001b[39m\u001b[39mrust == \u001b[39m\u001b[39m{}\u001b[39;00m\u001b[39m\"\u001b[39m\u001b[39m.\u001b[39mformat(cond[\u001b[39m2\u001b[39m])\n\u001b[1;32m---> <a href='vscode-notebook-cell:/d%3A/Overtime/github/DBSEdu/Sem%202/Deep%20Learning/CA/CA1_60%25/CA_Sunil_Gauda_10595858.ipynb#ch0000015?line=12'>13</a>\u001b[0m cond_3 \u001b[39m=\u001b[39m \u001b[39m\"\u001b[39m\u001b[39mmultiple_diseases == \u001b[39m\u001b[39m{}\u001b[39;00m\u001b[39m\"\u001b[39m\u001b[39m.\u001b[39mformat(cond[\u001b[39m3\u001b[39;49m])\n\u001b[0;32m     <a href='vscode-notebook-cell:/d%3A/Overtime/github/DBSEdu/Sem%202/Deep%20Learning/CA/CA1_60%25/CA_Sunil_Gauda_10595858.ipynb#ch0000015?line=14'>15</a>\u001b[0m cond_list \u001b[39m=\u001b[39m []\n\u001b[0;32m     <a href='vscode-notebook-cell:/d%3A/Overtime/github/DBSEdu/Sem%202/Deep%20Learning/CA/CA1_60%25/CA_Sunil_Gauda_10595858.ipynb#ch0000015?line=15'>16</a>\u001b[0m \u001b[39mfor\u001b[39;00m col \u001b[39min\u001b[39;00m cond_cols:\n",
      "\u001b[1;31mIndexError\u001b[0m: list index out of range"
     ]
    }
   ],
   "source": [
    "visualize_leaves(cond=[1, 0, 0, 0], cond_cols=[\"healthy\"])\n"
   ]
  },
  {
   "cell_type": "code",
   "execution_count": null,
   "metadata": {},
   "outputs": [],
   "source": []
  }
 ],
 "metadata": {
  "kernelspec": {
   "display_name": "Python 3.10.4 ('dbsenvalt')",
   "language": "python",
   "name": "python3"
  },
  "language_info": {
   "codemirror_mode": {
    "name": "ipython",
    "version": 3
   },
   "file_extension": ".py",
   "mimetype": "text/x-python",
   "name": "python",
   "nbconvert_exporter": "python",
   "pygments_lexer": "ipython3",
   "version": "3.10.4"
  },
  "orig_nbformat": 4,
  "vscode": {
   "interpreter": {
    "hash": "b69cd713fd987fe7d1cd2532bcfe146cd06eada8a7acd24118ab58f0a54103e8"
   }
  }
 },
 "nbformat": 4,
 "nbformat_minor": 2
}
