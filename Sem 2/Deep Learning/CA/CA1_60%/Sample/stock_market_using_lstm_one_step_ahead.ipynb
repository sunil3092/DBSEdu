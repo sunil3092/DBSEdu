{
  "cells": [
    {
      "cell_type": "code",
      "execution_count": 1,
      "metadata": {
        "id": "1PcYarDC_E5m"
      },
      "outputs": [],
      "source": [
        "import math\n",
        "import numpy as np\n",
        "import pandas as pd\n",
        "import matplotlib.pyplot as plt\n",
        "from keras.models import Sequential\n",
        "from sklearn.preprocessing import MinMaxScaler\n",
        "from keras.layers import LSTM, Dense, TimeDistributed, Dropout, Activation\n",
        "\n",
        " "
      ]
    },
    {
      "cell_type": "code",
      "execution_count": 3,
      "metadata": {
        "id": "n2vg0JnM_E56"
      },
      "outputs": [],
      "source": [
        "import yfinance as fyf\n",
        "from pandas_datareader import data as pdr\n",
        "fyf.pdr_override() # <-- Here is the fix\n",
        "import datetime"
      ]
    },
    {
      "cell_type": "code",
      "execution_count": 4,
      "metadata": {
        "colab": {
          "base_uri": "https://localhost:8080/"
        },
        "id": "77uhqjZK_E6F",
        "outputId": "9882b7a3-40b0-49db-bf55-8ad7fdae1bab"
      },
      "outputs": [
        {
          "name": "stdout",
          "output_type": "stream",
          "text": [
            "[*********************100%***********************]  1 of 1 completed\n"
          ]
        }
      ],
      "source": [
        "# Set label\n",
        "stocks = [\"AAPL\"] # If you want to grab multiple stocks add more labels to this list\n",
        "\n",
        "# Set start and end dates\n",
        "start = datetime.datetime(2017, 1, 1)\n",
        "end   = datetime.datetime(2018, 3, 14)\n",
        "\n",
        "# Grab data\n",
        "data = pdr.get_data_yahoo(stocks, start = start, end = end)"
      ]
    },
    {
      "cell_type": "code",
      "execution_count": 5,
      "metadata": {
        "id": "0CfD69aMjvjl"
      },
      "outputs": [
        {
          "data": {
            "text/html": [
              "<div>\n",
              "<style scoped>\n",
              "    .dataframe tbody tr th:only-of-type {\n",
              "        vertical-align: middle;\n",
              "    }\n",
              "\n",
              "    .dataframe tbody tr th {\n",
              "        vertical-align: top;\n",
              "    }\n",
              "\n",
              "    .dataframe thead th {\n",
              "        text-align: right;\n",
              "    }\n",
              "</style>\n",
              "<table border=\"1\" class=\"dataframe\">\n",
              "  <thead>\n",
              "    <tr style=\"text-align: right;\">\n",
              "      <th></th>\n",
              "      <th>Open</th>\n",
              "      <th>High</th>\n",
              "      <th>Low</th>\n",
              "      <th>Close</th>\n",
              "      <th>Adj Close</th>\n",
              "      <th>Volume</th>\n",
              "    </tr>\n",
              "    <tr>\n",
              "      <th>Date</th>\n",
              "      <th></th>\n",
              "      <th></th>\n",
              "      <th></th>\n",
              "      <th></th>\n",
              "      <th></th>\n",
              "      <th></th>\n",
              "    </tr>\n",
              "  </thead>\n",
              "  <tbody>\n",
              "    <tr>\n",
              "      <th>2017-01-03</th>\n",
              "      <td>28.950001</td>\n",
              "      <td>29.082500</td>\n",
              "      <td>28.690001</td>\n",
              "      <td>29.037500</td>\n",
              "      <td>27.257641</td>\n",
              "      <td>115127600</td>\n",
              "    </tr>\n",
              "    <tr>\n",
              "      <th>2017-01-04</th>\n",
              "      <td>28.962500</td>\n",
              "      <td>29.127501</td>\n",
              "      <td>28.937500</td>\n",
              "      <td>29.004999</td>\n",
              "      <td>27.227139</td>\n",
              "      <td>84472400</td>\n",
              "    </tr>\n",
              "    <tr>\n",
              "      <th>2017-01-05</th>\n",
              "      <td>28.980000</td>\n",
              "      <td>29.215000</td>\n",
              "      <td>28.952499</td>\n",
              "      <td>29.152500</td>\n",
              "      <td>27.365591</td>\n",
              "      <td>88774400</td>\n",
              "    </tr>\n",
              "    <tr>\n",
              "      <th>2017-01-06</th>\n",
              "      <td>29.195000</td>\n",
              "      <td>29.540001</td>\n",
              "      <td>29.117500</td>\n",
              "      <td>29.477501</td>\n",
              "      <td>27.670671</td>\n",
              "      <td>127007600</td>\n",
              "    </tr>\n",
              "    <tr>\n",
              "      <th>2017-01-09</th>\n",
              "      <td>29.487499</td>\n",
              "      <td>29.857500</td>\n",
              "      <td>29.485001</td>\n",
              "      <td>29.747499</td>\n",
              "      <td>27.924122</td>\n",
              "      <td>134247600</td>\n",
              "    </tr>\n",
              "  </tbody>\n",
              "</table>\n",
              "</div>"
            ],
            "text/plain": [
              "                 Open       High        Low      Close  Adj Close     Volume\n",
              "Date                                                                        \n",
              "2017-01-03  28.950001  29.082500  28.690001  29.037500  27.257641  115127600\n",
              "2017-01-04  28.962500  29.127501  28.937500  29.004999  27.227139   84472400\n",
              "2017-01-05  28.980000  29.215000  28.952499  29.152500  27.365591   88774400\n",
              "2017-01-06  29.195000  29.540001  29.117500  29.477501  27.670671  127007600\n",
              "2017-01-09  29.487499  29.857500  29.485001  29.747499  27.924122  134247600"
            ]
          },
          "execution_count": 5,
          "metadata": {},
          "output_type": "execute_result"
        }
      ],
      "source": [
        "data.shape\n",
        "data.head()"
      ]
    },
    {
      "cell_type": "code",
      "execution_count": 6,
      "metadata": {
        "colab": {
          "base_uri": "https://localhost:8080/"
        },
        "id": "UCrdkTWM_E6L",
        "outputId": "9788cbbd-b1bf-4dae-ab4d-17ab4ddb969b"
      },
      "outputs": [
        {
          "data": {
            "text/plain": [
              "(300,)"
            ]
          },
          "execution_count": 6,
          "metadata": {},
          "output_type": "execute_result"
        }
      ],
      "source": [
        "df=data['Close']\n",
        "df.shape"
      ]
    },
    {
      "cell_type": "code",
      "execution_count": 7,
      "metadata": {
        "colab": {
          "base_uri": "https://localhost:8080/",
          "height": 281
        },
        "id": "3EKf_EzV_E6O",
        "outputId": "beca09e9-c376-44a9-a456-2995a8fc284f"
      },
      "outputs": [
        {
          "data": {
            "image/png": "[encoded data removed]",
            "text/plain": [
              "<Figure size 432x288 with 1 Axes>"
            ]
          },
          "metadata": {
            "needs_background": "light"
          },
          "output_type": "display_data"
        }
      ],
      "source": [
        "plt.title(\"AAPL Data\")\n",
        "plt.plot(df, color=\"#039dfc\", linewidth=0.5)\n",
        "plt.grid()\n",
        "plt.show()"
      ]
    },
    {
      "cell_type": "code",
      "execution_count": 8,
      "metadata": {
        "id": "LeNw0wdl_E6S"
      },
      "outputs": [],
      "source": [
        "# Settings\n",
        "epochs = 12; batch_size = 1; lstm_neuron_number = 110\n",
        "\n",
        "# Get the number of rows to train the model on 80% of the data\n",
        "npdataset = df.values\n",
        "training_data_length = math.ceil(len(npdataset) * 0.8)\n",
        " "
      ]
    },
    {
      "cell_type": "code",
      "execution_count": 9,
      "metadata": {
        "id": "AfMiAhLr_E6a"
      },
      "outputs": [],
      "source": [
        "\n",
        "npdataset=npdataset.reshape(-1, 1)"
      ]
    },
    {
      "cell_type": "code",
      "execution_count": 10,
      "metadata": {
        "id": "0yGK20UA_E6i"
      },
      "outputs": [],
      "source": [
        "mmscaler = MinMaxScaler(feature_range=(0, 1))\n",
        "scaled_data = mmscaler.fit_transform(npdataset)"
      ]
    },
    {
      "cell_type": "code",
      "execution_count": 11,
      "metadata": {
        "id": "5N-_xNvw_E6l"
      },
      "outputs": [],
      "source": [
        " # Create a scaled training data set\n",
        "train_data = scaled_data[0:training_data_length, :]\n",
        "\n",
        "# Split the data into x_train and y_train data sets\n",
        "x_train = []\n",
        "y_train = []\n",
        "trainingdatasize = len(train_data)\n",
        "for i in range(lstm_neuron_number, trainingdatasize):\n",
        "    x_train.append(\n",
        "        train_data[i - lstm_neuron_number : i, 0]\n",
        "    )  # contains lstm_neuron_number values 0-lstm_neuron_number\n",
        "    y_train.append(train_data[i, 0])  # contains all other values\n",
        "\n",
        "# Convert the x_train and y_train to numpy arrays\n",
        "x_train = np.array(x_train)\n",
        "y_train = np.array(y_train)\n"
      ]
    },
    {
      "cell_type": "code",
      "execution_count": 12,
      "metadata": {
        "colab": {
          "base_uri": "https://localhost:8080/"
        },
        "id": "FQPRj4b__E6r",
        "outputId": "648c6581-ed5e-4b15-c71e-1c9cce47cf08"
      },
      "outputs": [
        {
          "data": {
            "text/plain": [
              "(130, 110)"
            ]
          },
          "execution_count": 12,
          "metadata": {},
          "output_type": "execute_result"
        }
      ],
      "source": [
        "y_train.shape\n",
        "x_train.shape"
      ]
    },
    {
      "cell_type": "code",
      "execution_count": 13,
      "metadata": {
        "colab": {
          "base_uri": "https://localhost:8080/"
        },
        "id": "AQB7XaJn_E6t",
        "outputId": "9465cb44-1f73-4783-f4a2-6831f515aa77"
      },
      "outputs": [
        {
          "name": "stdout",
          "output_type": "stream",
          "text": [
            "x_tain.shape: (130, 110, 1) -- y_tain.shape: (130,)\n"
          ]
        }
      ],
      "source": [
        "# Reshape the data\n",
        "x_train = np.reshape(x_train, (x_train.shape[0], x_train.shape[1], 1))\n",
        "print(\"x_tain.shape: \" + str(x_train.shape) + \" -- y_tain.shape: \" + str(y_train.shape))\n",
        "\n",
        "# Configure and compile the neural network model\n",
        "model1 = Sequential()\n",
        "model1.add(\n",
        "    LSTM(lstm_neuron_number, return_sequences=False, input_shape=(x_train.shape[1], 1))\n",
        ")\n",
        "model1.add(Dense(1))\n",
        "model1.compile(optimizer=\"adam\", loss=\"mean_squared_error\")\n",
        "\n",
        "# Create the test data set\n",
        "test_data = scaled_data[training_data_length - lstm_neuron_number :, :]\n",
        "\n",
        "# Create the data sets x_test and y_test\n",
        "x_test = []\n",
        "y_test = npdataset[training_data_length:, :]\n",
        "for i in range(lstm_neuron_number, len(test_data)):\n",
        "    x_test.append(test_data[i - lstm_neuron_number : i, 0])"
      ]
    },
    {
      "cell_type": "code",
      "execution_count": 14,
      "metadata": {
        "colab": {
          "base_uri": "https://localhost:8080/"
        },
        "id": "NoQNgm5U_E6x",
        "outputId": "3deeb3f9-712c-4635-b57f-764aa750170b"
      },
      "outputs": [
        {
          "name": "stdout",
          "output_type": "stream",
          "text": [
            "Epoch 1/12\n",
            "130/130 [==============================] - 4s 19ms/step - loss: 0.0167\n",
            "Epoch 2/12\n",
            "130/130 [==============================] - 2s 18ms/step - loss: 0.0041\n",
            "Epoch 3/12\n",
            "130/130 [==============================] - 2s 17ms/step - loss: 0.0036\n",
            "Epoch 4/12\n",
            "130/130 [==============================] - 2s 17ms/step - loss: 0.0035\n",
            "Epoch 5/12\n",
            "130/130 [==============================] - 2s 17ms/step - loss: 0.0032\n",
            "Epoch 6/12\n",
            "130/130 [==============================] - 2s 17ms/step - loss: 0.0031\n",
            "Epoch 7/12\n",
            "130/130 [==============================] - 2s 18ms/step - loss: 0.0028\n",
            "Epoch 8/12\n",
            "130/130 [==============================] - 2s 17ms/step - loss: 0.0025\n",
            "Epoch 9/12\n",
            "130/130 [==============================] - 2s 18ms/step - loss: 0.0023\n",
            "Epoch 10/12\n",
            "130/130 [==============================] - 2s 18ms/step - loss: 0.0027\n",
            "Epoch 11/12\n",
            "130/130 [==============================] - 3s 20ms/step - loss: 0.0020\n",
            "Epoch 12/12\n",
            "130/130 [==============================] - 2s 19ms/step - loss: 0.0021\n"
          ]
        }
      ],
      "source": [
        "# Train the model\n",
        "history = model1.fit(x_train, y_train, batch_size=batch_size, epochs=epochs)"
      ]
    },
    {
      "cell_type": "code",
      "execution_count": 15,
      "metadata": {
        "colab": {
          "base_uri": "https://localhost:8080/"
        },
        "id": "9UXdeJNy_E60",
        "outputId": "d17cbb68-ca09-40d2-d543-6b1427a85031"
      },
      "outputs": [
        {
          "name": "stdout",
          "output_type": "stream",
          "text": [
            "me: 0.7922, rmse: 0.7802\n"
          ]
        }
      ],
      "source": [
        "# Reshape the data, so that we get an array with multiple test datasets\n",
        "x_test = np.array(x_test)\n",
        "x_test = np.reshape(x_test, (x_test.shape[0], x_test.shape[1], 1))\n",
        "\n",
        "# Get the predicted values\n",
        "predictions = model1.predict(x_test)\n",
        "predictions = mmscaler.inverse_transform(predictions)\n",
        "\n",
        "# Get the root mean squarred error (RMSE) and the meadian error (ME)\n",
        "rmse = np.sqrt(np.mean(predictions - y_test) ** 2)\n",
        "me = np.median(y_test - predictions)\n",
        "print(\"me: \" + str(round(me, 4)) + \", rmse: \" + str(round(rmse, 4)))"
      ]
    },
    {
      "cell_type": "code",
      "execution_count": 16,
      "metadata": {
        "colab": {
          "base_uri": "https://localhost:8080/",
          "height": 300
        },
        "id": "VbUVw-jU_E63",
        "outputId": "7c70b752-632d-4cb5-c196-4de0d68f6f5b"
      },
      "outputs": [
        {
          "data": {
            "text/plain": [
              "[<matplotlib.lines.Line2D at 0x13496ddcbe0>,\n",
              " <matplotlib.lines.Line2D at 0x13496ddcc10>]"
            ]
          },
          "execution_count": 16,
          "metadata": {},
          "output_type": "execute_result"
        },
        {
          "data": {
            "image/png": "[encoded data removed]",
            "text/plain": [
              "<Figure size 432x288 with 1 Axes>"
            ]
          },
          "metadata": {
            "needs_background": "light"
          },
          "output_type": "display_data"
        }
      ],
      "source": [
        "t=range(0,60,1)\n",
        "plt.plot(t,predictions, 'b',t,y_test, 'g' )"
      ]
    },
    {
      "cell_type": "markdown",
      "metadata": {
        "id": "m1FIiACUlnL-"
      },
      "source": [
        "#a\n",
        " evaluate the LSTM in terms of different timestep, using rmse of trainset and testset, and interpert the overfiting. \n",
        "\n",
        "#b\n",
        " what is the optimal time step? \n",
        "\n"
      ]
    },
    {
      "cell_type": "markdown",
      "metadata": {
        "id": "aGmuNo7TtaNF"
      },
      "source": [
        "## redo lstm for aapl stock using multiple input-single out scheme "
      ]
    },
    {
      "cell_type": "code",
      "execution_count": 17,
      "metadata": {
        "colab": {
          "base_uri": "https://localhost:8080/"
        },
        "id": "k94qtw39_E65",
        "outputId": "3749705c-eea4-4c0a-9ee7-fdc6a53a82dc"
      },
      "outputs": [
        {
          "data": {
            "text/plain": [
              "(300,)"
            ]
          },
          "execution_count": 17,
          "metadata": {},
          "output_type": "execute_result"
        }
      ],
      "source": [
        "dataset=data['Close']\n",
        "dataset.shape"
      ]
    },
    {
      "cell_type": "code",
      "execution_count": 18,
      "metadata": {
        "id": "BpYsj__tpiex"
      },
      "outputs": [],
      "source": [
        "# split into train and test sets\n",
        "train_size = int(len(dataset) * 0.7)\n",
        "test_size = len(dataset) - train_size\n",
        "train = dataset[0:train_size]\n",
        "test=dataset[train_size:len(dataset)]\n"
      ]
    },
    {
      "cell_type": "code",
      "execution_count": 19,
      "metadata": {
        "id": "parXrAVhqaj9"
      },
      "outputs": [],
      "source": [
        "def partition_dataset(steps, data):\n",
        "    x, y = [], []\n",
        "    data_len = data.shape[0]\n",
        "    for i in range(steps, data_len):\n",
        "        x.append(data[i-steps:i])  \n",
        "        y.append(data[i])  \n",
        "    # Convert the x and y to numpy arrays\n",
        "    x = np.array(x)\n",
        "    y = np.array(y)\n",
        "    return x, y \n"
      ]
    },
    {
      "cell_type": "code",
      "execution_count": 20,
      "metadata": {
        "colab": {
          "base_uri": "https://localhost:8080/"
        },
        "id": "ZBTL9l4Gp1j4",
        "outputId": "b0f895aa-26bc-47d6-bbb8-d8a11d03abaa"
      },
      "outputs": [
        {
          "data": {
            "text/plain": [
              "(207, 3)"
            ]
          },
          "execution_count": 20,
          "metadata": {},
          "output_type": "execute_result"
        }
      ],
      "source": [
        "# Generate training data and test data\n",
        "import numpy as np\n",
        "x_train, y_train = partition_dataset(3, train)\n",
        "x_test, y_test = partition_dataset(3, test)\n",
        "x_train.shape\n",
        " "
      ]
    },
    {
      "cell_type": "code",
      "execution_count": 21,
      "metadata": {
        "colab": {
          "base_uri": "https://localhost:8080/"
        },
        "id": "DXmyzJmBrjG5",
        "outputId": "424d1651-0c49-4a9c-dc49-37567fac65eb"
      },
      "outputs": [
        {
          "data": {
            "text/plain": [
              "(87, 3, 1)"
            ]
          },
          "execution_count": 21,
          "metadata": {},
          "output_type": "execute_result"
        }
      ],
      "source": [
        "trainX = np.reshape(x_train, (x_train.shape[0], x_train.shape[1],1))\n",
        "testX = np.reshape(x_test, (x_test.shape[0], x_test.shape[1],1))\n",
        "testX.shape"
      ]
    },
    {
      "cell_type": "code",
      "execution_count": 22,
      "metadata": {
        "id": "Z_U85JPhpqWG"
      },
      "outputs": [
        {
          "name": "stdout",
          "output_type": "stream",
          "text": [
            "Epoch 1/12\n",
            "207/207 [==============================] - 2s 3ms/step - loss: 1309.6029\n",
            "Epoch 2/12\n",
            "207/207 [==============================] - 1s 3ms/step - loss: 980.7407\n",
            "Epoch 3/12\n",
            "207/207 [==============================] - 1s 3ms/step - loss: 822.9468\n",
            "Epoch 4/12\n",
            "207/207 [==============================] - 1s 3ms/step - loss: 706.7898\n",
            "Epoch 5/12\n",
            "207/207 [==============================] - 1s 3ms/step - loss: 607.3823\n",
            "Epoch 6/12\n",
            "207/207 [==============================] - 1s 2ms/step - loss: 520.3368\n",
            "Epoch 7/12\n",
            "207/207 [==============================] - 1s 2ms/step - loss: 443.5756\n",
            "Epoch 8/12\n",
            "207/207 [==============================] - 1s 3ms/step - loss: 375.8938\n",
            "Epoch 9/12\n",
            "207/207 [==============================] - 1s 3ms/step - loss: 316.3629\n",
            "Epoch 10/12\n",
            "207/207 [==============================] - 1s 3ms/step - loss: 264.1845\n",
            "Epoch 11/12\n",
            "207/207 [==============================] - 1s 3ms/step - loss: 218.6931\n",
            "Epoch 12/12\n",
            "207/207 [==============================] - 1s 3ms/step - loss: 179.3461\n"
          ]
        }
      ],
      "source": [
        "# Configure the neural network model\n",
        "epochs = 12; batch_size = 1;\n",
        "\n",
        " \n",
        "n_neurons=10    # hidden nodes \n",
        "model = Sequential()\n",
        "model.add(LSTM(n_neurons, return_sequences=False, input_shape=(x_train.shape[1], 1)))\n",
        "model.add(Dense(1))\n",
        "model.compile(optimizer=\"adam\", loss=\"mean_squared_error\")\n",
        "\n",
        "# Train the model\n",
        "history = model.fit(x_train, y_train, batch_size=batch_size, epochs=epochs)"
      ]
    },
    {
      "cell_type": "code",
      "execution_count": 23,
      "metadata": {
        "colab": {
          "base_uri": "https://localhost:8080/"
        },
        "id": "ujX5_VJDsPb-",
        "outputId": "58333700-dee9-4a2b-aca9-deeb1392a782"
      },
      "outputs": [
        {
          "name": "stdout",
          "output_type": "stream",
          "text": [
            "rmse: 385.33\n",
            "trmse: 391.68\n"
          ]
        }
      ],
      "source": [
        "\n",
        "# Get the predicted values\n",
        "predictions = model.predict(testX)\n",
        "predictions = mmscaler.inverse_transform(predictions)\n",
        "  \n",
        "rmse = np.sqrt(np.mean(predictions - y_test) ** 2)\n",
        " \n",
        "print('rmse: ' + str(round(rmse, 2)))\n",
        "\n",
        "# Get the predicted values\n",
        "tpredictions = model.predict(trainX)\n",
        "tpredictions = mmscaler.inverse_transform(tpredictions)\n",
        "  \n",
        "trmse = np.sqrt(np.mean(tpredictions - y_train) ** 2)\n",
        " \n",
        "print('trmse: ' + str(round(trmse, 2)))"
      ]
    },
    {
      "cell_type": "code",
      "execution_count": null,
      "metadata": {},
      "outputs": [],
      "source": []
    }
  ],
  "metadata": {
    "colab": {
      "name": "stock market using lstm one_step_ahead.ipynb",
      "provenance": []
    },
    "kernelspec": {
      "display_name": "Python 3.10.4 ('dbsenvalt')",
      "language": "python",
      "name": "python3"
    },
    "language_info": {
      "codemirror_mode": {
        "name": "ipython",
        "version": 3
      },
      "file_extension": ".py",
      "mimetype": "text/x-python",
      "name": "python",
      "nbconvert_exporter": "python",
      "pygments_lexer": "ipython3",
      "version": "3.10.4"
    },
    "vscode": {
      "interpreter": {
        "hash": "b69cd713fd987fe7d1cd2532bcfe146cd06eada8a7acd24118ab58f0a54103e8"
      }
    }
  },
  "nbformat": 4,
  "nbformat_minor": 0
}
