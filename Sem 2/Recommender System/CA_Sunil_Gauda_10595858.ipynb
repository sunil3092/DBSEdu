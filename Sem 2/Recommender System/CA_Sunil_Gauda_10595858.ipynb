{
 "cells": [
  {
   "cell_type": "code",
   "execution_count": 1,
   "metadata": {},
   "outputs": [],
   "source": [
    "import pandas as pd\n",
    "import numpy as np\n",
    "import sklearn\n",
    "import datetime\n",
    "from sklearn.model_selection import train_test_split\n",
    "import matplotlib.pyplot as plt\n",
    "import seaborn as sns\n",
    "from scipy.sparse import csr_matrix\n",
    "from sklearn.decomposition import NMF\n",
    "from annoy import AnnoyIndex\n",
    "import pickle\n",
    "import tensorflow as tf\n",
    "from tensorflow import keras\n",
    "from keras.models import load_model"
   ]
  },
  {
   "cell_type": "code",
   "execution_count": 3,
   "metadata": {},
   "outputs": [],
   "source": [
    "rating_df = pd.read_csv('../../../DataSets/movielense/ratings.csv')\n",
    "movie_df = pd.read_csv('../../../DataSets/movielense/movies.csv')"
   ]
  },
  {
   "cell_type": "code",
   "execution_count": null,
   "metadata": {},
   "outputs": [],
   "source": [
    "class EnsRecommender():\n",
    "    def __init__(self,rating_df,movie_df, rating_matrix, item_vector):\n",
    "        self.rating_df = rating_df\n",
    "        self.movie_df = movie_df\n",
    "        self.rating_matrix = rating_matrix # User and movie matrix\n",
    "        self.item_vector = item_vector # Vec representation of each movie learned by MF\n",
    "        self.user_ids = rating_df['userId'].unique()\n",
    "        self.movie_ids = rating_df['movieId'].unique()\n",
    "        self.user2user_encoded = {x: i for i, x in enumerate(self.user_ids)}\n",
    "        self.movie2movie_encoded = {x: i for i, x in enumerate(self.movie_ids)}\n",
    "        self.movie_encoded2movie = {i: x for i, x in enumerate(self.movie_ids)}\n",
    "\n",
    "    def NCF_recommendation(self,userId, top_k = 20):\n",
    "        \n",
    "\n"
   ]
  }
 ],
 "metadata": {
  "kernelspec": {
   "display_name": "Python 3.10.4 ('dbsenv')",
   "language": "python",
   "name": "python3"
  },
  "language_info": {
   "codemirror_mode": {
    "name": "ipython",
    "version": 3
   },
   "file_extension": ".py",
   "mimetype": "text/x-python",
   "name": "python",
   "nbconvert_exporter": "python",
   "pygments_lexer": "ipython3",
   "version": "3.10.4"
  },
  "orig_nbformat": 4,
  "vscode": {
   "interpreter": {
    "hash": "142828a991f0141af2f84ebd0d287daae8516e1494cb3e9d37e0a13eaaf32cec"
   }
  }
 },
 "nbformat": 4,
 "nbformat_minor": 2
}
