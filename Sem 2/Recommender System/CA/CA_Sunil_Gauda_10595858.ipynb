{
 "cells": [
  {
   "cell_type": "markdown",
   "metadata": {},
   "source": [
    "## <p style=\"text-align: center;\">B9AI103_2122_TMD3_CA_1</p>\n",
    "### <p style=\"text-align: center;\"> Details </p>\n",
    "#### <p style=\"text-align: center;\">Name: Sunil Judhistira Gauda</p>\n",
    "#### <p style=\"text-align: center;\">Student ID : 10595858 </p>"
   ]
  },
  {
   "cell_type": "markdown",
   "metadata": {},
   "source": [
    "## Hybrid Movie Recommendation using Movie Lense Large Data set"
   ]
  },
  {
   "cell_type": "markdown",
   "metadata": {},
   "source": [
    "Note : \n",
    "* Running cosine similarity might take some computaion and time"
   ]
  },
  {
   "cell_type": "markdown",
   "metadata": {},
   "source": [
    "### Imports\n",
    "1. numpy, pandas - for numeric computation and data management\n",
    "2. scikit learn - for TFIDF Vectorising and cosine similarity\n",
    "3. surprise - scikit learn extension to work on rating based data\n",
    "    * surprise may or may not install directly depending on OS, below is the direct way of downloading and installing scikit-surprise\n",
    "    * Installation Instructions\n",
    "        * pip install numpy cython\n",
    "        * git clone https://github.com/NicolasHug/surprise.git\n",
    "        * cd surprise\n",
    "        * python setup.py install\n",
    "4. wordcloud - represent word density\n",
    "5. itertools - create a combination to work with"
   ]
  },
  {
   "cell_type": "code",
   "execution_count": 1,
   "metadata": {},
   "outputs": [],
   "source": [
    "import numpy as np\n",
    "import pandas as pd\n",
    "from sklearn.feature_extraction.text import TfidfVectorizer\n",
    "from surprise import Reader, Dataset, SVD\n",
    "from surprise.model_selection import KFold\n",
    "from surprise.model_selection.validation import cross_validate\n",
    "import matplotlib.pyplot as plt\n",
    "from  wordcloud import WordCloud\n",
    "from itertools import combinations\n",
    "from sklearn.metrics.pairwise import cosine_similarity\n"
   ]
  },
  {
   "cell_type": "markdown",
   "metadata": {},
   "source": [
    "### Importing the data\n",
    "* Data we require are as follows\n",
    "    * Meta-Data like **Genre** for **content based** filtering\n",
    "    * User Data like **Ratings** for **collaberative** filtering\n",
    "* **Hybrid** recommendation will be the combination of **content and collaberative** filtering"
   ]
  },
  {
   "cell_type": "markdown",
   "metadata": {},
   "source": [
    "Note : \n",
    "Use the following link for smaller data set as the large dataset can fail on calculateing cosine simliarity with less memory\n",
    "* https://files.grouplens.org/datasets/movielens/ml-latest-small.zip\n",
    "* **update the path of the data**\n",
    "* **use_large** should be **False**"
   ]
  },
  {
   "cell_type": "code",
   "execution_count": 2,
   "metadata": {},
   "outputs": [],
   "source": [
    "use_large = False\n",
    "if use_large:\n",
    "    movies = pd.read_csv(\"../../../../DataSets/ml-latest/movies.csv\")\n",
    "    ratings = pd.read_csv(\"../../../../DataSets/ml-latest/ratings.csv\")\n",
    "    tags = pd.read_csv(\"../../../../DataSets/ml-latest/tags.csv\")\n",
    "    links = pd.read_csv(\"../../../../DataSets/ml-latest/links.csv\")\n",
    "else :\n",
    "    movies = pd.read_csv(\"../../../../DataSets/ml-latest-small/movies.csv\")\n",
    "    ratings = pd.read_csv(\"../../../../DataSets/ml-latest-small/ratings.csv\")\n",
    "    tags = pd.read_csv(\"../../../../DataSets/ml-latest-small/tags.csv\")\n",
    "    links = pd.read_csv(\"../../../../DataSets/ml-latest-small/links.csv\")"
   ]
  },
  {
   "cell_type": "markdown",
   "metadata": {},
   "source": [
    "### Exploratory Analysis of the Data\n",
    "Steps inncluded for Data Analysis includes\n",
    "* Data Preparation\n",
    "* Data Exploration\n",
    "* Data Visualisation"
   ]
  },
  {
   "cell_type": "markdown",
   "metadata": {},
   "source": [
    "#### Data Preparation"
   ]
  },
  {
   "cell_type": "markdown",
   "metadata": {},
   "source": [
    "##### Seperating **Year** from the **Titile** of the movie\n",
    "* As the data we have merged the title of the movie with the date it was released we dont have any seperate data for year of release\n",
    "* Using few techniques below we will seperate date from the title and convert date into int and title into string"
   ]
  },
  {
   "cell_type": "code",
   "execution_count": 3,
   "metadata": {},
   "outputs": [
    {
     "data": {
      "text/html": [
       "<div>\n",
       "<style scoped>\n",
       "    .dataframe tbody tr th:only-of-type {\n",
       "        vertical-align: middle;\n",
       "    }\n",
       "\n",
       "    .dataframe tbody tr th {\n",
       "        vertical-align: top;\n",
       "    }\n",
       "\n",
       "    .dataframe thead th {\n",
       "        text-align: right;\n",
       "    }\n",
       "</style>\n",
       "<table border=\"1\" class=\"dataframe\">\n",
       "  <thead>\n",
       "    <tr style=\"text-align: right;\">\n",
       "      <th></th>\n",
       "      <th>movieId</th>\n",
       "      <th>title</th>\n",
       "      <th>genres</th>\n",
       "      <th>year</th>\n",
       "    </tr>\n",
       "  </thead>\n",
       "  <tbody>\n",
       "    <tr>\n",
       "      <th>0</th>\n",
       "      <td>1</td>\n",
       "      <td>toy story</td>\n",
       "      <td>Adventure|Animation|Children|Comedy|Fantasy</td>\n",
       "      <td>1995</td>\n",
       "    </tr>\n",
       "    <tr>\n",
       "      <th>1</th>\n",
       "      <td>2</td>\n",
       "      <td>jumanji</td>\n",
       "      <td>Adventure|Children|Fantasy</td>\n",
       "      <td>1995</td>\n",
       "    </tr>\n",
       "    <tr>\n",
       "      <th>2</th>\n",
       "      <td>3</td>\n",
       "      <td>grumpier old men</td>\n",
       "      <td>Comedy|Romance</td>\n",
       "      <td>1995</td>\n",
       "    </tr>\n",
       "    <tr>\n",
       "      <th>3</th>\n",
       "      <td>4</td>\n",
       "      <td>waiting to exhale</td>\n",
       "      <td>Comedy|Drama|Romance</td>\n",
       "      <td>1995</td>\n",
       "    </tr>\n",
       "    <tr>\n",
       "      <th>4</th>\n",
       "      <td>5</td>\n",
       "      <td>father of the bride part ii</td>\n",
       "      <td>Comedy</td>\n",
       "      <td>1995</td>\n",
       "    </tr>\n",
       "  </tbody>\n",
       "</table>\n",
       "</div>"
      ],
      "text/plain": [
       "   movieId                        title  \\\n",
       "0        1                    toy story   \n",
       "1        2                      jumanji   \n",
       "2        3             grumpier old men   \n",
       "3        4            waiting to exhale   \n",
       "4        5  father of the bride part ii   \n",
       "\n",
       "                                        genres  year  \n",
       "0  Adventure|Animation|Children|Comedy|Fantasy  1995  \n",
       "1                   Adventure|Children|Fantasy  1995  \n",
       "2                               Comedy|Romance  1995  \n",
       "3                         Comedy|Drama|Romance  1995  \n",
       "4                                       Comedy  1995  "
      ]
     },
     "execution_count": 3,
     "metadata": {},
     "output_type": "execute_result"
    }
   ],
   "source": [
    "movies['year'] = movies['title'].str.extract('.*\\((.*)\\).*',expand = False)\n",
    "movies['year'] = movies['year'].str.extract('(\\d+)', expand=False)\n",
    "movies.dropna(inplace=True)\n",
    "movies['year'] = movies['year'].astype(int)\n",
    "movies['title'] = movies['title'].replace(r'\\([^)]*\\)', '', regex=True).str.lower()\n",
    "movies['title'] = movies['title'].str.rstrip()\n",
    "movies['title'] = movies['title'].str.lstrip()\n",
    "movies['title'] = movies['title'].astype(\"string\")\n",
    "movies.head()"
   ]
  },
  {
   "cell_type": "markdown",
   "metadata": {},
   "source": [
    "##### Preparing the final DataFrame\n",
    "Final Data Frame contains all the data required for exploratory analysis of the data and visualise the data using various techniques."
   ]
  },
  {
   "cell_type": "code",
   "execution_count": 4,
   "metadata": {},
   "outputs": [],
   "source": [
    "# Preparing the Data frame by combining all necessary columns from other dataframes\n",
    "movies_final_df = movies\n",
    "movies_final_df[\"userid\"] = ratings[\"userId\"]\n",
    "movies_final_df[\"rating\"] = ratings[\"rating\"]\n",
    "movies_final_df[\"timestamp\"] = ratings[\"timestamp\"]\n",
    "movies_final_df[\"tag\"] = tags[\"tag\"]\n",
    "movies_final_df[\"tmdbId\"] = links[\"tmdbId\"]\n"
   ]
  },
  {
   "cell_type": "markdown",
   "metadata": {},
   "source": [
    "##### Dropping the NA columns\n",
    "As we have a huge amount of data, and the NA counts for tags only, that is also few hundread of the entire dataset we can get rid of NA rows."
   ]
  },
  {
   "cell_type": "code",
   "execution_count": 5,
   "metadata": {},
   "outputs": [
    {
     "data": {
      "text/plain": [
       "movieId      0\n",
       "title        0\n",
       "genres       0\n",
       "year         0\n",
       "userid       0\n",
       "rating       0\n",
       "timestamp    0\n",
       "tag          0\n",
       "tmdbId       0\n",
       "dtype: int64"
      ]
     },
     "execution_count": 5,
     "metadata": {},
     "output_type": "execute_result"
    }
   ],
   "source": [
    "movies_final_df.dropna(inplace=True)\n",
    "movies_final_df.isna().sum()"
   ]
  },
  {
   "cell_type": "markdown",
   "metadata": {},
   "source": [
    "#### Data Exploration"
   ]
  },
  {
   "cell_type": "markdown",
   "metadata": {},
   "source": [
    "**Sample of our final data set**"
   ]
  },
  {
   "cell_type": "code",
   "execution_count": 6,
   "metadata": {},
   "outputs": [
    {
     "data": {
      "text/html": [
       "<div>\n",
       "<style scoped>\n",
       "    .dataframe tbody tr th:only-of-type {\n",
       "        vertical-align: middle;\n",
       "    }\n",
       "\n",
       "    .dataframe tbody tr th {\n",
       "        vertical-align: top;\n",
       "    }\n",
       "\n",
       "    .dataframe thead th {\n",
       "        text-align: right;\n",
       "    }\n",
       "</style>\n",
       "<table border=\"1\" class=\"dataframe\">\n",
       "  <thead>\n",
       "    <tr style=\"text-align: right;\">\n",
       "      <th></th>\n",
       "      <th>movieId</th>\n",
       "      <th>title</th>\n",
       "      <th>genres</th>\n",
       "      <th>year</th>\n",
       "      <th>userid</th>\n",
       "      <th>rating</th>\n",
       "      <th>timestamp</th>\n",
       "      <th>tag</th>\n",
       "      <th>tmdbId</th>\n",
       "    </tr>\n",
       "  </thead>\n",
       "  <tbody>\n",
       "    <tr>\n",
       "      <th>0</th>\n",
       "      <td>1</td>\n",
       "      <td>toy story</td>\n",
       "      <td>Adventure|Animation|Children|Comedy|Fantasy</td>\n",
       "      <td>1995</td>\n",
       "      <td>1</td>\n",
       "      <td>4.0</td>\n",
       "      <td>964982703</td>\n",
       "      <td>funny</td>\n",
       "      <td>862.0</td>\n",
       "    </tr>\n",
       "    <tr>\n",
       "      <th>1</th>\n",
       "      <td>2</td>\n",
       "      <td>jumanji</td>\n",
       "      <td>Adventure|Children|Fantasy</td>\n",
       "      <td>1995</td>\n",
       "      <td>1</td>\n",
       "      <td>4.0</td>\n",
       "      <td>964981247</td>\n",
       "      <td>Highly quotable</td>\n",
       "      <td>8844.0</td>\n",
       "    </tr>\n",
       "    <tr>\n",
       "      <th>2</th>\n",
       "      <td>3</td>\n",
       "      <td>grumpier old men</td>\n",
       "      <td>Comedy|Romance</td>\n",
       "      <td>1995</td>\n",
       "      <td>1</td>\n",
       "      <td>4.0</td>\n",
       "      <td>964982224</td>\n",
       "      <td>will ferrell</td>\n",
       "      <td>15602.0</td>\n",
       "    </tr>\n",
       "    <tr>\n",
       "      <th>3</th>\n",
       "      <td>4</td>\n",
       "      <td>waiting to exhale</td>\n",
       "      <td>Comedy|Drama|Romance</td>\n",
       "      <td>1995</td>\n",
       "      <td>1</td>\n",
       "      <td>5.0</td>\n",
       "      <td>964983815</td>\n",
       "      <td>Boxing story</td>\n",
       "      <td>31357.0</td>\n",
       "    </tr>\n",
       "    <tr>\n",
       "      <th>4</th>\n",
       "      <td>5</td>\n",
       "      <td>father of the bride part ii</td>\n",
       "      <td>Comedy</td>\n",
       "      <td>1995</td>\n",
       "      <td>1</td>\n",
       "      <td>5.0</td>\n",
       "      <td>964982931</td>\n",
       "      <td>MMA</td>\n",
       "      <td>11862.0</td>\n",
       "    </tr>\n",
       "  </tbody>\n",
       "</table>\n",
       "</div>"
      ],
      "text/plain": [
       "   movieId                        title  \\\n",
       "0        1                    toy story   \n",
       "1        2                      jumanji   \n",
       "2        3             grumpier old men   \n",
       "3        4            waiting to exhale   \n",
       "4        5  father of the bride part ii   \n",
       "\n",
       "                                        genres  year  userid  rating  \\\n",
       "0  Adventure|Animation|Children|Comedy|Fantasy  1995       1     4.0   \n",
       "1                   Adventure|Children|Fantasy  1995       1     4.0   \n",
       "2                               Comedy|Romance  1995       1     4.0   \n",
       "3                         Comedy|Drama|Romance  1995       1     5.0   \n",
       "4                                       Comedy  1995       1     5.0   \n",
       "\n",
       "   timestamp              tag   tmdbId  \n",
       "0  964982703            funny    862.0  \n",
       "1  964981247  Highly quotable   8844.0  \n",
       "2  964982224     will ferrell  15602.0  \n",
       "3  964983815     Boxing story  31357.0  \n",
       "4  964982931              MMA  11862.0  "
      ]
     },
     "execution_count": 6,
     "metadata": {},
     "output_type": "execute_result"
    }
   ],
   "source": [
    "movies_final_df.head()\n"
   ]
  },
  {
   "cell_type": "markdown",
   "metadata": {},
   "source": [
    "**Shape of the Data**"
   ]
  },
  {
   "cell_type": "code",
   "execution_count": 7,
   "metadata": {},
   "outputs": [
    {
     "data": {
      "text/plain": [
       "(3679, 9)"
      ]
     },
     "execution_count": 7,
     "metadata": {},
     "output_type": "execute_result"
    }
   ],
   "source": [
    "movies_final_df.shape"
   ]
  },
  {
   "cell_type": "markdown",
   "metadata": {},
   "source": [
    "**Data Description**"
   ]
  },
  {
   "cell_type": "code",
   "execution_count": 8,
   "metadata": {},
   "outputs": [
    {
     "name": "stdout",
     "output_type": "stream",
     "text": [
      "<class 'pandas.core.frame.DataFrame'>\n",
      "Int64Index: 3679 entries, 0 to 3682\n",
      "Data columns (total 9 columns):\n",
      " #   Column     Non-Null Count  Dtype  \n",
      "---  ------     --------------  -----  \n",
      " 0   movieId    3679 non-null   int64  \n",
      " 1   title      3679 non-null   string \n",
      " 2   genres     3679 non-null   object \n",
      " 3   year       3679 non-null   int32  \n",
      " 4   userid     3679 non-null   int64  \n",
      " 5   rating     3679 non-null   float64\n",
      " 6   timestamp  3679 non-null   int64  \n",
      " 7   tag        3679 non-null   object \n",
      " 8   tmdbId     3679 non-null   float64\n",
      "dtypes: float64(2), int32(1), int64(3), object(2), string(1)\n",
      "memory usage: 273.1+ KB\n"
     ]
    }
   ],
   "source": [
    "movies_final_df.info()\n"
   ]
  },
  {
   "cell_type": "markdown",
   "metadata": {},
   "source": [
    "##### Listing the top 10 rated movies"
   ]
  },
  {
   "cell_type": "code",
   "execution_count": 9,
   "metadata": {},
   "outputs": [
    {
     "data": {
      "text/html": [
       "<div>\n",
       "<style scoped>\n",
       "    .dataframe tbody tr th:only-of-type {\n",
       "        vertical-align: middle;\n",
       "    }\n",
       "\n",
       "    .dataframe tbody tr th {\n",
       "        vertical-align: top;\n",
       "    }\n",
       "\n",
       "    .dataframe thead th {\n",
       "        text-align: right;\n",
       "    }\n",
       "</style>\n",
       "<table border=\"1\" class=\"dataframe\">\n",
       "  <thead>\n",
       "    <tr style=\"text-align: right;\">\n",
       "      <th></th>\n",
       "      <th>title</th>\n",
       "      <th>rating</th>\n",
       "    </tr>\n",
       "  </thead>\n",
       "  <tbody>\n",
       "    <tr>\n",
       "      <th>1841</th>\n",
       "      <td>virus</td>\n",
       "      <td>5.0</td>\n",
       "    </tr>\n",
       "    <tr>\n",
       "      <th>421</th>\n",
       "      <td>lassie</td>\n",
       "      <td>5.0</td>\n",
       "    </tr>\n",
       "    <tr>\n",
       "      <th>3070</th>\n",
       "      <td>ishtar</td>\n",
       "      <td>5.0</td>\n",
       "    </tr>\n",
       "    <tr>\n",
       "      <th>3066</th>\n",
       "      <td>hiding out</td>\n",
       "      <td>5.0</td>\n",
       "    </tr>\n",
       "    <tr>\n",
       "      <th>3064</th>\n",
       "      <td>gardens of stone</td>\n",
       "      <td>5.0</td>\n",
       "    </tr>\n",
       "    <tr>\n",
       "      <th>1466</th>\n",
       "      <td>child's play</td>\n",
       "      <td>5.0</td>\n",
       "    </tr>\n",
       "    <tr>\n",
       "      <th>419</th>\n",
       "      <td>kalifornia</td>\n",
       "      <td>5.0</td>\n",
       "    </tr>\n",
       "    <tr>\n",
       "      <th>3057</th>\n",
       "      <td>cop</td>\n",
       "      <td>5.0</td>\n",
       "    </tr>\n",
       "    <tr>\n",
       "      <th>1467</th>\n",
       "      <td>child's play 2</td>\n",
       "      <td>5.0</td>\n",
       "    </tr>\n",
       "    <tr>\n",
       "      <th>407</th>\n",
       "      <td>house of the spirits, the</td>\n",
       "      <td>5.0</td>\n",
       "    </tr>\n",
       "  </tbody>\n",
       "</table>\n",
       "</div>"
      ],
      "text/plain": [
       "                          title  rating\n",
       "1841                      virus     5.0\n",
       "421                      lassie     5.0\n",
       "3070                     ishtar     5.0\n",
       "3066                 hiding out     5.0\n",
       "3064           gardens of stone     5.0\n",
       "1466               child's play     5.0\n",
       "419                  kalifornia     5.0\n",
       "3057                        cop     5.0\n",
       "1467             child's play 2     5.0\n",
       "407   house of the spirits, the     5.0"
      ]
     },
     "execution_count": 9,
     "metadata": {},
     "output_type": "execute_result"
    }
   ],
   "source": [
    "movies_final_df[['title', 'rating']].sort_values(\n",
    "    'rating', ascending=False).head(10)\n"
   ]
  },
  {
   "cell_type": "markdown",
   "metadata": {},
   "source": [
    "#### Data Visualization"
   ]
  },
  {
   "cell_type": "markdown",
   "metadata": {},
   "source": [
    "##### Movies released per year\n",
    "By plotting movies angainst the year of release we can clearly see that by the year 1980 - 2000 the release was at peak, i.e maximum movies were released that year as per our data set."
   ]
  },
  {
   "cell_type": "code",
   "execution_count": 10,
   "metadata": {},
   "outputs": [
    {
     "data": {
      "image/png": "[encoded data removed]",
      "text/plain": [
       "<Figure size 432x288 with 1 Axes>"
      ]
     },
     "metadata": {
      "needs_background": "light"
     },
     "output_type": "display_data"
    },
    {
     "name": "stdout",
     "output_type": "stream",
     "text": [
      "Maximum Number of Movies Relesed = 250\n",
      "year = 1996\n"
     ]
    },
    {
     "data": {
      "text/plain": [
       "count     82.000000\n",
       "mean      44.865854\n",
       "std       66.135245\n",
       "min        1.000000\n",
       "25%        7.250000\n",
       "50%       17.000000\n",
       "75%       46.000000\n",
       "max      250.000000\n",
       "Name: title, dtype: float64"
      ]
     },
     "execution_count": 10,
     "metadata": {},
     "output_type": "execute_result"
    }
   ],
   "source": [
    "plt.plot(movies_final_df.groupby('year').title.count())\n",
    "plt.show()\n",
    "\n",
    "a = movies_final_df.groupby('year').title.count()\n",
    "\n",
    "print('Maximum Number of Movies Relesed =', a.max())\n",
    "for i in a.index:\n",
    "    if a[i] == a.max():\n",
    "        print('year =', i)\n",
    "a.describe()\n"
   ]
  },
  {
   "cell_type": "markdown",
   "metadata": {},
   "source": [
    "##### Exploring Genre's"
   ]
  },
  {
   "cell_type": "code",
   "execution_count": 11,
   "metadata": {},
   "outputs": [
    {
     "data": {
      "text/plain": [
       "Drama        1720\n",
       "Comedy       1374\n",
       "Thriller      687\n",
       "Romance       669\n",
       "Action        597\n",
       "Adventure     445\n",
       "Crime         411\n",
       "Horror        350\n",
       "Sci-Fi        322\n",
       "Children      275\n",
       "Name: genres, dtype: int64"
      ]
     },
     "execution_count": 11,
     "metadata": {},
     "output_type": "execute_result"
    }
   ],
   "source": [
    "popular_genre = (movies_final_df.genres.str.split('|')\n",
    "                      .explode()\n",
    "                      .value_counts()\n",
    "                      .sort_values(ascending=False))\n",
    "popular_genre.head(10)\n"
   ]
  },
  {
   "cell_type": "markdown",
   "metadata": {},
   "source": [
    "**Drama**, **Romance**, **Comedy** are the most focused genre"
   ]
  },
  {
   "cell_type": "code",
   "execution_count": 12,
   "metadata": {},
   "outputs": [
    {
     "data": {
      "text/plain": [
       "(-0.5, 999.5, 399.5, -0.5)"
      ]
     },
     "execution_count": 12,
     "metadata": {},
     "output_type": "execute_result"
    },
    {
     "data": {
      "image/png": "[encoded data removed]",
      "text/plain": [
       "<Figure size 1152x576 with 1 Axes>"
      ]
     },
     "metadata": {
      "needs_background": "light"
     },
     "output_type": "display_data"
    }
   ],
   "source": [
    "word_cloud_genre = WordCloud(width=1000,height=400,background_color='white')\n",
    "word_cloud_genre.generate_from_frequencies(popular_genre.to_dict())\n",
    "\n",
    "plt.figure(figsize=(16, 8))\n",
    "plt.imshow(word_cloud_genre, interpolation=\"bilinear\")\n",
    "plt.axis('off')"
   ]
  },
  {
   "cell_type": "markdown",
   "metadata": {},
   "source": [
    "#### Content Based Filtering\n",
    "There are two types of filtering in content based movie recommendation\n",
    "1. Description Based - Based on textual description of the movie or the taglines/punchlines\n",
    "2. **Meta data based** - Genre, Keywords etc <br />\n",
    "    * **As we only have metadata of the movies, we will work with Meta Data based filtering**"
   ]
  },
  {
   "cell_type": "markdown",
   "metadata": {},
   "source": [
    "##### TFIDF\n",
    "\n",
    "1. Using TFIDF Vetorising we will check the frequency of **genre** in our data\n",
    "2. Appling TFIDF we get a matrix representaion of the frequency of the keywords\n"
   ]
  },
  {
   "cell_type": "code",
   "execution_count": 13,
   "metadata": {},
   "outputs": [
    {
     "data": {
      "text/plain": [
       "(3679, 538)"
      ]
     },
     "execution_count": 13,
     "metadata": {},
     "output_type": "execute_result"
    }
   ],
   "source": [
    "tfidf = TfidfVectorizer(analyzer=lambda s: (c for i in range(1,4)\n",
    "                     for c in combinations(s.split('|'), r=i)))\n",
    "tfidf_mat = tfidf.fit_transform(movies['genres'])\n",
    "tfidf_mat.shape\n"
   ]
  },
  {
   "cell_type": "markdown",
   "metadata": {},
   "source": [
    "**Cosine Similarity**\n",
    "Using Cosine Similarity we can find the closeness between the movie genre, as we dont need to consider the size of the data to estimate the genre, genre is independent of meaning depending on where its placed in our data, genre in any movie assignes same meaning to the data."
   ]
  },
  {
   "cell_type": "code",
   "execution_count": 14,
   "metadata": {},
   "outputs": [],
   "source": [
    "cosine_sim = cosine_similarity(tfidf_mat)"
   ]
  },
  {
   "cell_type": "markdown",
   "metadata": {},
   "source": [
    "##### Creating an Index of the movies by title to help us get the list of data while predicting."
   ]
  },
  {
   "cell_type": "code",
   "execution_count": 15,
   "metadata": {},
   "outputs": [],
   "source": [
    "movie_indices = pd.Series(movies_final_df.index, index=movies_final_df['title']).drop_duplicates()"
   ]
  },
  {
   "cell_type": "code",
   "execution_count": 16,
   "metadata": {},
   "outputs": [
    {
     "data": {
      "text/plain": [
       "title\n",
       "toy story                         0\n",
       "jumanji                           1\n",
       "grumpier old men                  2\n",
       "waiting to exhale                 3\n",
       "father of the bride part ii       4\n",
       "                               ... \n",
       "walk to remember, a            3678\n",
       "beijing bicycle                3679\n",
       "escaflowne: the movie          3680\n",
       "maelström                      3681\n",
       "metropolis                     3682\n",
       "Length: 3679, dtype: int64"
      ]
     },
     "execution_count": 16,
     "metadata": {},
     "output_type": "execute_result"
    }
   ],
   "source": [
    "movies_final_df.head()\n",
    "movie_indices\n"
   ]
  },
  {
   "cell_type": "markdown",
   "metadata": {},
   "source": [
    "#### Recommend using Content Based Filtering by Meta Data\n",
    "To recommend based on Meta Data / Content of the movie we require the following.\n",
    "* Title - Title is the key of **Index** we have created to fetch data.\n",
    "* Cosine Similarity - It will help us get the titles that are close to the genre of the Movie title we provide"
   ]
  },
  {
   "cell_type": "code",
   "execution_count": 17,
   "metadata": {},
   "outputs": [],
   "source": [
    "# Recommend Method\n",
    "def recommend_movies(title, cosine_sim = cosine_sim) :\n",
    "    # Get the movie we out of index using the title provided\n",
    "    m_id = movie_indices[title]\n",
    "\n",
    "    # Find Movies with similar index to the title provided\n",
    "    sim_scores = list(enumerate(cosine_sim[m_id]))\n",
    "\n",
    "    # Sort the data as per the similarty of the title\n",
    "    sim_scores = sorted(sim_scores, key = lambda x:x[1], reverse = True)\n",
    "\n",
    "    # Fetch the Top 15 of the Data which has similar score\n",
    "    sim_scores = sim_scores[1:16]\n",
    "\n",
    "    # Create the list of indexs after removing duplicates to sort movie data\n",
    "    f_movie_indices = [i[0] for i in sim_scores]\n",
    "\n",
    "    # Removing outliers or movies with lower rating\n",
    "    for i in f_movie_indices:\n",
    "        pop = movies_final_df.at[i, 'rating']\n",
    "        if pop<5 or pop>10:\n",
    "            f_movie_indices.remove(i)\n",
    "\n",
    "    return movies_final_df[[\"title\", \"rating\"]].iloc[f_movie_indices]\n"
   ]
  },
  {
   "cell_type": "markdown",
   "metadata": {},
   "source": [
    "##### Checking the Content based recommendation function"
   ]
  },
  {
   "cell_type": "code",
   "execution_count": 18,
   "metadata": {},
   "outputs": [
    {
     "data": {
      "text/html": [
       "<div>\n",
       "<style scoped>\n",
       "    .dataframe tbody tr th:only-of-type {\n",
       "        vertical-align: middle;\n",
       "    }\n",
       "\n",
       "    .dataframe tbody tr th {\n",
       "        vertical-align: top;\n",
       "    }\n",
       "\n",
       "    .dataframe thead th {\n",
       "        text-align: right;\n",
       "    }\n",
       "</style>\n",
       "<table border=\"1\" class=\"dataframe\">\n",
       "  <thead>\n",
       "    <tr style=\"text-align: right;\">\n",
       "      <th></th>\n",
       "      <th>title</th>\n",
       "      <th>rating</th>\n",
       "    </tr>\n",
       "  </thead>\n",
       "  <tbody>\n",
       "    <tr>\n",
       "      <th>2355</th>\n",
       "      <td>toy story 2</td>\n",
       "      <td>2.0</td>\n",
       "    </tr>\n",
       "    <tr>\n",
       "      <th>3000</th>\n",
       "      <td>emperor's new groove, the</td>\n",
       "      <td>2.5</td>\n",
       "    </tr>\n",
       "    <tr>\n",
       "      <th>1505</th>\n",
       "      <td>black cauldron, the</td>\n",
       "      <td>3.0</td>\n",
       "    </tr>\n",
       "    <tr>\n",
       "      <th>2539</th>\n",
       "      <td>we're back! a dinosaur's story</td>\n",
       "      <td>3.0</td>\n",
       "    </tr>\n",
       "    <tr>\n",
       "      <th>3336</th>\n",
       "      <td>land before time, the</td>\n",
       "      <td>4.5</td>\n",
       "    </tr>\n",
       "    <tr>\n",
       "      <th>1757</th>\n",
       "      <td>bug's life, a</td>\n",
       "      <td>4.5</td>\n",
       "    </tr>\n",
       "    <tr>\n",
       "      <th>3194</th>\n",
       "      <td>shrek</td>\n",
       "      <td>4.5</td>\n",
       "    </tr>\n",
       "  </tbody>\n",
       "</table>\n",
       "</div>"
      ],
      "text/plain": [
       "                               title  rating\n",
       "2355                     toy story 2     2.0\n",
       "3000       emperor's new groove, the     2.5\n",
       "1505             black cauldron, the     3.0\n",
       "2539  we're back! a dinosaur's story     3.0\n",
       "3336           land before time, the     4.5\n",
       "1757                   bug's life, a     4.5\n",
       "3194                           shrek     4.5"
      ]
     },
     "execution_count": 18,
     "metadata": {},
     "output_type": "execute_result"
    }
   ],
   "source": [
    "\n",
    "recommend_movies('toy story')\n"
   ]
  },
  {
   "cell_type": "markdown",
   "metadata": {},
   "source": [
    "#### Collaberative Filtering\n",
    "1. Content Based Filtering is limited by recommendations based on types of genre that are close to each other, it does not consider any aspects of user prefrence and customised user recommendation\n",
    "2. Collaberative filtering we use user specific data and SVD to minimise RMSE and provide recommendations to what a user is personally interested in."
   ]
  },
  {
   "cell_type": "markdown",
   "metadata": {},
   "source": [
    "**Tools Used**\n",
    "For implemneting collaberative filtering over our data, we use scikit-surprise that is a library built upon scikit learn and provides great tools like Reader, SVD to compute and manage the data."
   ]
  },
  {
   "cell_type": "code",
   "execution_count": 19,
   "metadata": {},
   "outputs": [
    {
     "data": {
      "text/plain": [
       "<generator object KFold.split at 0x000001CA2270A2D0>"
      ]
     },
     "execution_count": 19,
     "metadata": {},
     "output_type": "execute_result"
    }
   ],
   "source": [
    "# Reader is used to parse rating based data\n",
    "reader = Reader()\n",
    "\n",
    "# Using Reader to parse user specific Rating based data\n",
    "u_df = Dataset.load_from_df(ratings[['userId', 'rating', 'movieId']], reader)\n",
    "\n",
    "# Generalising data using Kfold\n",
    "kf = KFold(n_splits=5)\n",
    "kf.split(u_df)"
   ]
  },
  {
   "cell_type": "markdown",
   "metadata": {},
   "source": [
    "##### Using SVD - Single Value Decomposition to Reduce the RMSE over the data that has beed Generalised using KFlod and fitting the training set to it."
   ]
  },
  {
   "cell_type": "code",
   "execution_count": 20,
   "metadata": {},
   "outputs": [
    {
     "data": {
      "text/plain": [
       "<surprise.prediction_algorithms.matrix_factorization.SVD at 0x1ca225abf40>"
      ]
     },
     "execution_count": 20,
     "metadata": {},
     "output_type": "execute_result"
    }
   ],
   "source": [
    "# SVD Object\n",
    "svd = SVD()\n",
    "\n",
    "# Crossvalidating against our dataset for RMSE reduction\n",
    "cross_validate(svd, u_df, measures=['RMSE', 'MAE'])\n",
    "\n",
    "# Fetching the training set\n",
    "trainset = u_df.build_full_trainset()\n",
    "\n",
    "# Fitting the Traing set to SVD\n",
    "svd.fit(trainset)\n"
   ]
  },
  {
   "cell_type": "markdown",
   "metadata": {},
   "source": [
    "##### Preparing Movie Data to be used for estimating movies using Hybrid Method of estimation"
   ]
  },
  {
   "cell_type": "code",
   "execution_count": 21,
   "metadata": {},
   "outputs": [],
   "source": [
    "cols = np.array(links['tmdbId'], np.int64)\n",
    "\n",
    "links['tmdbId'] = cols\n",
    "\n",
    "# Merge movies_metadata.csv and links_small.csv files\n",
    "links = links.merge(\n",
    "    movies_final_df[['title', 'tmdbId']], on='tmdbId').set_index('title')\n",
    "links_index = links.set_index('tmdbId')\n"
   ]
  },
  {
   "cell_type": "markdown",
   "metadata": {},
   "source": [
    "##### Hybrid Recommendation Function\n",
    "1. Content Based\n",
    "    * The function below uses cosine similarity to fetch the closeness by genre\n",
    "    * Sorts the data as per cosine similarity scores\n",
    "    * Fetching the top 30 of the data\n",
    "    * Creates a list of **Movie Indexes** using the Cosine Similarity Score\n",
    "2. Collaberative Filtering\n",
    "    * Using our Movies Data frame to fetch necessary columns, with the **Movie Indexes** data.\n",
    "    * Estimating Movies as per the list of moves by collaberative filtering with SVD Predict Function, by using the Content Based List.\n",
    "    * Returing the top 15 estimated data"
   ]
  },
  {
   "cell_type": "code",
   "execution_count": 24,
   "metadata": {},
   "outputs": [],
   "source": [
    "# Hybrid recommendation Function\n",
    "def hybrid(userId, title):\n",
    "\n",
    "    # find the movie ID using the title\n",
    "    m_id = movie_indices[title]\n",
    "\n",
    "    # extract similarity scores\n",
    "    sim_scores = list(enumerate(cosine_sim[m_id]))\n",
    "    sim_scores = sorted(sim_scores, key=lambda x: x[1], reverse=True)\n",
    "    sim_scores = sim_scores[1:31]  # Scores of the 30 most similar movies\n",
    "\n",
    "    # Get movie indexes of the score\n",
    "    f_movie_indices = [i[0] for i in sim_scores]\n",
    "\n",
    "    # Extract the movie data from our movie DF\n",
    "    movies = movies_final_df.iloc[f_movie_indices][['title','rating','tmdbId']]\n",
    "    \n",
    "    # Predict the movies\n",
    "    movies['est'] = movies['tmdbId'].apply(lambda x: svd.predict(\n",
    "        userId, links_index.loc[x]['movieId']).est)\n",
    "\n",
    "    # Rank movies according to the predicted values\n",
    "    movies = movies.sort_values('est', ascending=False)\n",
    "    movies.columns = ['Title' , 'Rating',\n",
    "                      'TMDb Id', 'Estimated Prediction']\n",
    "                      \n",
    "    return movies.head(15)  # Display top 15 similar movies\n"
   ]
  },
  {
   "cell_type": "code",
   "execution_count": 25,
   "metadata": {},
   "outputs": [
    {
     "data": {
      "text/html": [
       "<div>\n",
       "<style scoped>\n",
       "    .dataframe tbody tr th:only-of-type {\n",
       "        vertical-align: middle;\n",
       "    }\n",
       "\n",
       "    .dataframe tbody tr th {\n",
       "        vertical-align: top;\n",
       "    }\n",
       "\n",
       "    .dataframe thead th {\n",
       "        text-align: right;\n",
       "    }\n",
       "</style>\n",
       "<table border=\"1\" class=\"dataframe\">\n",
       "  <thead>\n",
       "    <tr style=\"text-align: right;\">\n",
       "      <th></th>\n",
       "      <th>Title</th>\n",
       "      <th>Rating</th>\n",
       "      <th>TMDb Id</th>\n",
       "      <th>Estimated Prediction</th>\n",
       "    </tr>\n",
       "  </thead>\n",
       "  <tbody>\n",
       "    <tr>\n",
       "      <th>53</th>\n",
       "      <td>indian in the cupboard, the</td>\n",
       "      <td>5.0</td>\n",
       "      <td>11359.0</td>\n",
       "      <td>5</td>\n",
       "    </tr>\n",
       "    <tr>\n",
       "      <th>109</th>\n",
       "      <td>neverending story iii, the</td>\n",
       "      <td>4.0</td>\n",
       "      <td>27793.0</td>\n",
       "      <td>5</td>\n",
       "    </tr>\n",
       "    <tr>\n",
       "      <th>635</th>\n",
       "      <td>alaska</td>\n",
       "      <td>3.0</td>\n",
       "      <td>36344.0</td>\n",
       "      <td>5</td>\n",
       "    </tr>\n",
       "    <tr>\n",
       "      <th>580</th>\n",
       "      <td>flipper</td>\n",
       "      <td>3.0</td>\n",
       "      <td>36355.0</td>\n",
       "      <td>5</td>\n",
       "    </tr>\n",
       "    <tr>\n",
       "      <th>521</th>\n",
       "      <td>homeward bound ii: lost in san francisco</td>\n",
       "      <td>4.0</td>\n",
       "      <td>25059.0</td>\n",
       "      <td>5</td>\n",
       "    </tr>\n",
       "    <tr>\n",
       "      <th>421</th>\n",
       "      <td>lassie</td>\n",
       "      <td>5.0</td>\n",
       "      <td>29918.0</td>\n",
       "      <td>5</td>\n",
       "    </tr>\n",
       "    <tr>\n",
       "      <th>204</th>\n",
       "      <td>far from home: the adventures of yellow dog</td>\n",
       "      <td>4.0</td>\n",
       "      <td>27985.0</td>\n",
       "      <td>5</td>\n",
       "    </tr>\n",
       "    <tr>\n",
       "      <th>131</th>\n",
       "      <td>casper</td>\n",
       "      <td>4.0</td>\n",
       "      <td>8839.0</td>\n",
       "      <td>5</td>\n",
       "    </tr>\n",
       "    <tr>\n",
       "      <th>119</th>\n",
       "      <td>amazing panda adventure, the</td>\n",
       "      <td>4.0</td>\n",
       "      <td>30765.0</td>\n",
       "      <td>5</td>\n",
       "    </tr>\n",
       "    <tr>\n",
       "      <th>7</th>\n",
       "      <td>tom and huck</td>\n",
       "      <td>4.0</td>\n",
       "      <td>45325.0</td>\n",
       "      <td>5</td>\n",
       "    </tr>\n",
       "    <tr>\n",
       "      <th>3638</th>\n",
       "      <td>lord of the rings: the fellowship of the ring,...</td>\n",
       "      <td>4.5</td>\n",
       "      <td>120.0</td>\n",
       "      <td>5</td>\n",
       "    </tr>\n",
       "    <tr>\n",
       "      <th>2845</th>\n",
       "      <td>sinbad and the eye of the tiger</td>\n",
       "      <td>3.0</td>\n",
       "      <td>11940.0</td>\n",
       "      <td>5</td>\n",
       "    </tr>\n",
       "    <tr>\n",
       "      <th>2157</th>\n",
       "      <td>excalibur</td>\n",
       "      <td>2.5</td>\n",
       "      <td>11527.0</td>\n",
       "      <td>5</td>\n",
       "    </tr>\n",
       "    <tr>\n",
       "      <th>1598</th>\n",
       "      <td>dark crystal, the</td>\n",
       "      <td>4.0</td>\n",
       "      <td>11639.0</td>\n",
       "      <td>5</td>\n",
       "    </tr>\n",
       "    <tr>\n",
       "      <th>701</th>\n",
       "      <td>wizard of oz, the</td>\n",
       "      <td>5.0</td>\n",
       "      <td>630.0</td>\n",
       "      <td>5</td>\n",
       "    </tr>\n",
       "  </tbody>\n",
       "</table>\n",
       "</div>"
      ],
      "text/plain": [
       "                                                  Title  Rating  TMDb Id  \\\n",
       "53                          indian in the cupboard, the     5.0  11359.0   \n",
       "109                          neverending story iii, the     4.0  27793.0   \n",
       "635                                              alaska     3.0  36344.0   \n",
       "580                                             flipper     3.0  36355.0   \n",
       "521            homeward bound ii: lost in san francisco     4.0  25059.0   \n",
       "421                                              lassie     5.0  29918.0   \n",
       "204         far from home: the adventures of yellow dog     4.0  27985.0   \n",
       "131                                              casper     4.0   8839.0   \n",
       "119                        amazing panda adventure, the     4.0  30765.0   \n",
       "7                                          tom and huck     4.0  45325.0   \n",
       "3638  lord of the rings: the fellowship of the ring,...     4.5    120.0   \n",
       "2845                    sinbad and the eye of the tiger     3.0  11940.0   \n",
       "2157                                          excalibur     2.5  11527.0   \n",
       "1598                                  dark crystal, the     4.0  11639.0   \n",
       "701                                   wizard of oz, the     5.0    630.0   \n",
       "\n",
       "      Estimated Prediction  \n",
       "53                       5  \n",
       "109                      5  \n",
       "635                      5  \n",
       "580                      5  \n",
       "521                      5  \n",
       "421                      5  \n",
       "204                      5  \n",
       "131                      5  \n",
       "119                      5  \n",
       "7                        5  \n",
       "3638                     5  \n",
       "2845                     5  \n",
       "2157                     5  \n",
       "1598                     5  \n",
       "701                      5  "
      ]
     },
     "execution_count": 25,
     "metadata": {},
     "output_type": "execute_result"
    }
   ],
   "source": [
    "hybrid(1, 'jumanji')\n"
   ]
  },
  {
   "cell_type": "code",
   "execution_count": null,
   "metadata": {},
   "outputs": [],
   "source": []
  }
 ],
 "metadata": {
  "kernelspec": {
   "display_name": "Python 3.10.4 ('dbsenvalt')",
   "language": "python",
   "name": "python3"
  },
  "language_info": {
   "codemirror_mode": {
    "name": "ipython",
    "version": 3
   },
   "file_extension": ".py",
   "mimetype": "text/x-python",
   "name": "python",
   "nbconvert_exporter": "python",
   "pygments_lexer": "ipython3",
   "version": "3.10.4"
  },
  "orig_nbformat": 4,
  "vscode": {
   "interpreter": {
    "hash": "b69cd713fd987fe7d1cd2532bcfe146cd06eada8a7acd24118ab58f0a54103e8"
   }
  }
 },
 "nbformat": 4,
 "nbformat_minor": 2
}
