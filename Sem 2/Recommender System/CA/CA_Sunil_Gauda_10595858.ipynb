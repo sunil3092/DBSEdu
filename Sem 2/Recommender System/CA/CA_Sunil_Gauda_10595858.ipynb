{
 "cells": [
  {
   "cell_type": "markdown",
   "metadata": {},
   "source": [
    "## <p style=\"text-align: center;\">B9AI103_2122_TMD3_CA_1</p>\n",
    "### <p style=\"text-align: center;\"> Details </p>\n",
    "#### <p style=\"text-align: center;\">Name: Sunil Judhistira Gauda</p>\n",
    "#### <p style=\"text-align: center;\">Student ID : 10595858 </p>"
   ]
  },
  {
   "cell_type": "markdown",
   "metadata": {},
   "source": [
    "## Hybrid Movie Recommendation using Movie Lense Large Data set"
   ]
  },
  {
   "cell_type": "markdown",
   "metadata": {},
   "source": [
    "Note : \n",
    "* Running cosine similarity might take some computaion and time"
   ]
  },
  {
   "cell_type": "markdown",
   "metadata": {},
   "source": [
    "### Imports\n",
    "1. numpy, pandas - for numeric computation and data management\n",
    "2. scikit learn - for TFIDF Vectorising and cosine similarity\n",
    "3. surprise - scikit learn extension to work on rating based data\n",
    "    * surprise may or may not install directly depending on OS, below is the direct way of downloading and installing scikit-surprise\n",
    "    * Installation Instructions\n",
    "        * pip install numpy cython\n",
    "        * git clone https://github.com/NicolasHug/surprise.git\n",
    "        * cd surprise\n",
    "        * python setup.py install\n",
    "4. wordcloud - represent word density\n",
    "5. itertools - create a combination to work with"
   ]
  },
  {
   "cell_type": "code",
   "execution_count": 2,
   "metadata": {},
   "outputs": [],
   "source": [
    "import numpy as np\n",
    "import pandas as pd\n",
    "from sklearn.feature_extraction.text import TfidfVectorizer\n",
    "from surprise import Reader, Dataset, SVD\n",
    "from surprise.model_selection import KFold\n",
    "from surprise.model_selection.validation import cross_validate\n",
    "import matplotlib.pyplot as plt\n",
    "from  wordcloud import WordCloud\n",
    "from itertools import combinations\n",
    "from sklearn.metrics.pairwise import cosine_similarity\n"
   ]
  },
  {
   "cell_type": "markdown",
   "metadata": {},
   "source": [
    "### Importing the data\n",
    "* Data we require are as follows\n",
    "    * Meta-Data like **Genre** for **content based** filtering\n",
    "    * User Data like **Ratings** for **collaberative** filtering\n",
    "* **Hybrid** recommendation will be the combination of **content and collaberative** filtering"
   ]
  },
  {
   "cell_type": "code",
   "execution_count": 3,
   "metadata": {},
   "outputs": [],
   "source": [
    "use_large = False\n",
    "if use_large:\n",
    "    movies = pd.read_csv(\"../../../../DataSets/ml-latest/movies.csv\")\n",
    "    ratings = pd.read_csv(\"../../../../DataSets/ml-latest/ratings.csv\")\n",
    "    tags = pd.read_csv(\"../../../../DataSets/ml-latest/tags.csv\")\n",
    "    links = pd.read_csv(\"../../../../DataSets/ml-latest/links.csv\")\n",
    "    g_tags = pd.read_csv(\"../../../../DataSets/ml-latest/genome-tags.csv\")\n",
    "    g_scores = pd.read_csv(\"../../../../DataSets/ml-latest/genome-scores.csv\")\n",
    "else :\n",
    "    movies = pd.read_csv(\"../../../../DataSets/ml-latest-small/movies.csv\")\n",
    "    ratings = pd.read_csv(\"../../../../DataSets/ml-latest-small/ratings.csv\")\n",
    "    tags = pd.read_csv(\"../../../../DataSets/ml-latest-small/tags.csv\")\n",
    "    links = pd.read_csv(\"../../../../DataSets/ml-latest-small/links.csv\")"
   ]
  },
  {
   "cell_type": "markdown",
   "metadata": {},
   "source": [
    "### Exploratory Analysis of the Data\n",
    "Steps inncluded for Data Analysis includes\n",
    "* Data Preparation\n",
    "* Data Exploration\n",
    "* Data Visualisation"
   ]
  },
  {
   "cell_type": "markdown",
   "metadata": {},
   "source": [
    "#### Data Preparation"
   ]
  },
  {
   "cell_type": "markdown",
   "metadata": {},
   "source": [
    "##### Seperating **Year** from the **Titile** of the movie\n",
    "* As the data we have merged the title of the movie with the date it was released we dont have any seperate data for year of release\n",
    "* Using few techniques below we will seperate date from the title and convert date into int and title into string"
   ]
  },
  {
   "cell_type": "code",
   "execution_count": 4,
   "metadata": {},
   "outputs": [
    {
     "data": {
      "text/html": [
       "<div>\n",
       "<style scoped>\n",
       "    .dataframe tbody tr th:only-of-type {\n",
       "        vertical-align: middle;\n",
       "    }\n",
       "\n",
       "    .dataframe tbody tr th {\n",
       "        vertical-align: top;\n",
       "    }\n",
       "\n",
       "    .dataframe thead th {\n",
       "        text-align: right;\n",
       "    }\n",
       "</style>\n",
       "<table border=\"1\" class=\"dataframe\">\n",
       "  <thead>\n",
       "    <tr style=\"text-align: right;\">\n",
       "      <th></th>\n",
       "      <th>movieId</th>\n",
       "      <th>title</th>\n",
       "      <th>genres</th>\n",
       "      <th>year</th>\n",
       "    </tr>\n",
       "  </thead>\n",
       "  <tbody>\n",
       "    <tr>\n",
       "      <th>0</th>\n",
       "      <td>1</td>\n",
       "      <td>toy story</td>\n",
       "      <td>Adventure|Animation|Children|Comedy|Fantasy</td>\n",
       "      <td>1995</td>\n",
       "    </tr>\n",
       "    <tr>\n",
       "      <th>1</th>\n",
       "      <td>2</td>\n",
       "      <td>jumanji</td>\n",
       "      <td>Adventure|Children|Fantasy</td>\n",
       "      <td>1995</td>\n",
       "    </tr>\n",
       "    <tr>\n",
       "      <th>2</th>\n",
       "      <td>3</td>\n",
       "      <td>grumpier old men</td>\n",
       "      <td>Comedy|Romance</td>\n",
       "      <td>1995</td>\n",
       "    </tr>\n",
       "    <tr>\n",
       "      <th>3</th>\n",
       "      <td>4</td>\n",
       "      <td>waiting to exhale</td>\n",
       "      <td>Comedy|Drama|Romance</td>\n",
       "      <td>1995</td>\n",
       "    </tr>\n",
       "    <tr>\n",
       "      <th>4</th>\n",
       "      <td>5</td>\n",
       "      <td>father of the bride part ii</td>\n",
       "      <td>Comedy</td>\n",
       "      <td>1995</td>\n",
       "    </tr>\n",
       "  </tbody>\n",
       "</table>\n",
       "</div>"
      ],
      "text/plain": [
       "   movieId                         title  \\\n",
       "0        1                    toy story    \n",
       "1        2                      jumanji    \n",
       "2        3             grumpier old men    \n",
       "3        4            waiting to exhale    \n",
       "4        5  father of the bride part ii    \n",
       "\n",
       "                                        genres  year  \n",
       "0  Adventure|Animation|Children|Comedy|Fantasy  1995  \n",
       "1                   Adventure|Children|Fantasy  1995  \n",
       "2                               Comedy|Romance  1995  \n",
       "3                         Comedy|Drama|Romance  1995  \n",
       "4                                       Comedy  1995  "
      ]
     },
     "execution_count": 4,
     "metadata": {},
     "output_type": "execute_result"
    }
   ],
   "source": [
    "movies['year'] = movies['title'].str.extract('.*\\((.*)\\).*',expand = False)\n",
    "movies['year'] = movies['year'].str.extract('(\\d+)', expand=False)\n",
    "movies.dropna(inplace=True)\n",
    "movies['year'] = movies['year'].astype(int)\n",
    "movies['title'] = movies['title'].replace(r'\\([^)]*\\)', '', regex=True).str.lower()\n",
    "movies['title'] = movies['title'].astype(\"string\")\n",
    "movies.head()"
   ]
  },
  {
   "cell_type": "markdown",
   "metadata": {},
   "source": [
    "##### Preparing the final DataFrame\n",
    "Final Data Frame contains all the data required for exploratory analysis of the data and visualise the data using various techniques."
   ]
  },
  {
   "cell_type": "code",
   "execution_count": 8,
   "metadata": {},
   "outputs": [],
   "source": [
    "# Preparing the Data frame by combining all necessary columns from other dataframes\n",
    "final_df = movies\n",
    "final_df[\"userid\"] = ratings[\"userId\"]\n",
    "final_df[\"rating\"] = ratings[\"rating\"]\n",
    "final_df[\"timestamp\"] = ratings[\"timestamp\"]\n",
    "final_df[\"tag\"] = tags[\"tag\"]\n",
    "final_df[\"tmdbId\"] = links[\"tmdbId\"]\n"
   ]
  },
  {
   "cell_type": "markdown",
   "metadata": {},
   "source": [
    "##### Dropping the NA columns\n",
    "As we have a huge amount of data, and the NA counts for tags only, that is also few hundread of the entire dataset we can get rid of NA rows."
   ]
  },
  {
   "cell_type": "code",
   "execution_count": 9,
   "metadata": {},
   "outputs": [
    {
     "data": {
      "text/plain": [
       "movieId      0\n",
       "title        0\n",
       "genres       0\n",
       "year         0\n",
       "userid       0\n",
       "rating       0\n",
       "timestamp    0\n",
       "tag          0\n",
       "tmdbId       0\n",
       "dtype: int64"
      ]
     },
     "execution_count": 9,
     "metadata": {},
     "output_type": "execute_result"
    }
   ],
   "source": [
    "final_df.dropna(inplace=True)\n",
    "final_df.isna().sum()"
   ]
  },
  {
   "cell_type": "markdown",
   "metadata": {},
   "source": [
    "#### Data Exploration"
   ]
  },
  {
   "cell_type": "markdown",
   "metadata": {},
   "source": [
    "**Sample of our final data set**"
   ]
  },
  {
   "cell_type": "code",
   "execution_count": null,
   "metadata": {},
   "outputs": [
    {
     "data": {
      "text/html": [
       "<div>\n",
       "<style scoped>\n",
       "    .dataframe tbody tr th:only-of-type {\n",
       "        vertical-align: middle;\n",
       "    }\n",
       "\n",
       "    .dataframe tbody tr th {\n",
       "        vertical-align: top;\n",
       "    }\n",
       "\n",
       "    .dataframe thead th {\n",
       "        text-align: right;\n",
       "    }\n",
       "</style>\n",
       "<table border=\"1\" class=\"dataframe\">\n",
       "  <thead>\n",
       "    <tr style=\"text-align: right;\">\n",
       "      <th></th>\n",
       "      <th>movieId</th>\n",
       "      <th>title</th>\n",
       "      <th>genres</th>\n",
       "      <th>year</th>\n",
       "      <th>userid</th>\n",
       "      <th>rating</th>\n",
       "      <th>timestamp</th>\n",
       "      <th>tag</th>\n",
       "      <th>tmdbId</th>\n",
       "    </tr>\n",
       "  </thead>\n",
       "  <tbody>\n",
       "    <tr>\n",
       "      <th>0</th>\n",
       "      <td>1</td>\n",
       "      <td>toy story</td>\n",
       "      <td>Adventure|Animation|Children|Comedy|Fantasy</td>\n",
       "      <td>1995</td>\n",
       "      <td>1</td>\n",
       "      <td>4.0</td>\n",
       "      <td>964982703</td>\n",
       "      <td>funny</td>\n",
       "      <td>862.0</td>\n",
       "    </tr>\n",
       "    <tr>\n",
       "      <th>1</th>\n",
       "      <td>2</td>\n",
       "      <td>jumanji</td>\n",
       "      <td>Adventure|Children|Fantasy</td>\n",
       "      <td>1995</td>\n",
       "      <td>1</td>\n",
       "      <td>4.0</td>\n",
       "      <td>964981247</td>\n",
       "      <td>Highly quotable</td>\n",
       "      <td>8844.0</td>\n",
       "    </tr>\n",
       "    <tr>\n",
       "      <th>2</th>\n",
       "      <td>3</td>\n",
       "      <td>grumpier old men</td>\n",
       "      <td>Comedy|Romance</td>\n",
       "      <td>1995</td>\n",
       "      <td>1</td>\n",
       "      <td>4.0</td>\n",
       "      <td>964982224</td>\n",
       "      <td>will ferrell</td>\n",
       "      <td>15602.0</td>\n",
       "    </tr>\n",
       "    <tr>\n",
       "      <th>3</th>\n",
       "      <td>4</td>\n",
       "      <td>waiting to exhale</td>\n",
       "      <td>Comedy|Drama|Romance</td>\n",
       "      <td>1995</td>\n",
       "      <td>1</td>\n",
       "      <td>5.0</td>\n",
       "      <td>964983815</td>\n",
       "      <td>Boxing story</td>\n",
       "      <td>31357.0</td>\n",
       "    </tr>\n",
       "    <tr>\n",
       "      <th>4</th>\n",
       "      <td>5</td>\n",
       "      <td>father of the bride part ii</td>\n",
       "      <td>Comedy</td>\n",
       "      <td>1995</td>\n",
       "      <td>1</td>\n",
       "      <td>5.0</td>\n",
       "      <td>964982931</td>\n",
       "      <td>MMA</td>\n",
       "      <td>11862.0</td>\n",
       "    </tr>\n",
       "  </tbody>\n",
       "</table>\n",
       "</div>"
      ],
      "text/plain": [
       "   movieId                         title  \\\n",
       "0        1                    toy story    \n",
       "1        2                      jumanji    \n",
       "2        3             grumpier old men    \n",
       "3        4            waiting to exhale    \n",
       "4        5  father of the bride part ii    \n",
       "\n",
       "                                        genres  year  userid  rating  \\\n",
       "0  Adventure|Animation|Children|Comedy|Fantasy  1995       1     4.0   \n",
       "1                   Adventure|Children|Fantasy  1995       1     4.0   \n",
       "2                               Comedy|Romance  1995       1     4.0   \n",
       "3                         Comedy|Drama|Romance  1995       1     5.0   \n",
       "4                                       Comedy  1995       1     5.0   \n",
       "\n",
       "   timestamp              tag   tmdbId  \n",
       "0  964982703            funny    862.0  \n",
       "1  964981247  Highly quotable   8844.0  \n",
       "2  964982224     will ferrell  15602.0  \n",
       "3  964983815     Boxing story  31357.0  \n",
       "4  964982931              MMA  11862.0  "
      ]
     },
     "execution_count": 350,
     "metadata": {},
     "output_type": "execute_result"
    }
   ],
   "source": [
    "final_df.head()"
   ]
  },
  {
   "cell_type": "markdown",
   "metadata": {},
   "source": [
    "**Shape of the Data**"
   ]
  },
  {
   "cell_type": "code",
   "execution_count": null,
   "metadata": {},
   "outputs": [
    {
     "data": {
      "text/plain": [
       "(3679, 9)"
      ]
     },
     "execution_count": 351,
     "metadata": {},
     "output_type": "execute_result"
    }
   ],
   "source": [
    "final_df.shape"
   ]
  },
  {
   "cell_type": "markdown",
   "metadata": {},
   "source": [
    "**Data Description**"
   ]
  },
  {
   "cell_type": "code",
   "execution_count": null,
   "metadata": {},
   "outputs": [
    {
     "name": "stdout",
     "output_type": "stream",
     "text": [
      "<class 'pandas.core.frame.DataFrame'>\n",
      "Int64Index: 3679 entries, 0 to 3682\n",
      "Data columns (total 9 columns):\n",
      " #   Column     Non-Null Count  Dtype  \n",
      "---  ------     --------------  -----  \n",
      " 0   movieId    3679 non-null   int64  \n",
      " 1   title      3679 non-null   string \n",
      " 2   genres     3679 non-null   object \n",
      " 3   year       3679 non-null   int32  \n",
      " 4   userid     3679 non-null   int64  \n",
      " 5   rating     3679 non-null   float64\n",
      " 6   timestamp  3679 non-null   int64  \n",
      " 7   tag        3679 non-null   object \n",
      " 8   tmdbId     3679 non-null   float64\n",
      "dtypes: float64(2), int32(1), int64(3), object(2), string(1)\n",
      "memory usage: 273.1+ KB\n"
     ]
    }
   ],
   "source": [
    "final_df.info();"
   ]
  },
  {
   "cell_type": "markdown",
   "metadata": {},
   "source": [
    "##### Listing the top 10 rated movies"
   ]
  },
  {
   "cell_type": "code",
   "execution_count": null,
   "metadata": {},
   "outputs": [
    {
     "data": {
      "text/html": [
       "<div>\n",
       "<style scoped>\n",
       "    .dataframe tbody tr th:only-of-type {\n",
       "        vertical-align: middle;\n",
       "    }\n",
       "\n",
       "    .dataframe tbody tr th {\n",
       "        vertical-align: top;\n",
       "    }\n",
       "\n",
       "    .dataframe thead th {\n",
       "        text-align: right;\n",
       "    }\n",
       "</style>\n",
       "<table border=\"1\" class=\"dataframe\">\n",
       "  <thead>\n",
       "    <tr style=\"text-align: right;\">\n",
       "      <th></th>\n",
       "      <th>title</th>\n",
       "      <th>rating</th>\n",
       "    </tr>\n",
       "  </thead>\n",
       "  <tbody>\n",
       "    <tr>\n",
       "      <th>1841</th>\n",
       "      <td>virus</td>\n",
       "      <td>5.0</td>\n",
       "    </tr>\n",
       "    <tr>\n",
       "      <th>421</th>\n",
       "      <td>lassie</td>\n",
       "      <td>5.0</td>\n",
       "    </tr>\n",
       "    <tr>\n",
       "      <th>3070</th>\n",
       "      <td>ishtar</td>\n",
       "      <td>5.0</td>\n",
       "    </tr>\n",
       "    <tr>\n",
       "      <th>3066</th>\n",
       "      <td>hiding out</td>\n",
       "      <td>5.0</td>\n",
       "    </tr>\n",
       "    <tr>\n",
       "      <th>3064</th>\n",
       "      <td>gardens of stone</td>\n",
       "      <td>5.0</td>\n",
       "    </tr>\n",
       "    <tr>\n",
       "      <th>1466</th>\n",
       "      <td>child's play</td>\n",
       "      <td>5.0</td>\n",
       "    </tr>\n",
       "    <tr>\n",
       "      <th>419</th>\n",
       "      <td>kalifornia</td>\n",
       "      <td>5.0</td>\n",
       "    </tr>\n",
       "    <tr>\n",
       "      <th>3057</th>\n",
       "      <td>cop</td>\n",
       "      <td>5.0</td>\n",
       "    </tr>\n",
       "    <tr>\n",
       "      <th>1467</th>\n",
       "      <td>child's play 2</td>\n",
       "      <td>5.0</td>\n",
       "    </tr>\n",
       "    <tr>\n",
       "      <th>407</th>\n",
       "      <td>house of the spirits, the</td>\n",
       "      <td>5.0</td>\n",
       "    </tr>\n",
       "  </tbody>\n",
       "</table>\n",
       "</div>"
      ],
      "text/plain": [
       "                           title  rating\n",
       "1841                      virus      5.0\n",
       "421                      lassie      5.0\n",
       "3070                     ishtar      5.0\n",
       "3066                 hiding out      5.0\n",
       "3064           gardens of stone      5.0\n",
       "1466               child's play      5.0\n",
       "419                  kalifornia      5.0\n",
       "3057                        cop      5.0\n",
       "1467             child's play 2      5.0\n",
       "407   house of the spirits, the      5.0"
      ]
     },
     "execution_count": 353,
     "metadata": {},
     "output_type": "execute_result"
    }
   ],
   "source": [
    "final_df[['title', 'rating']].sort_values('rating', ascending=False).head(10)"
   ]
  },
  {
   "cell_type": "markdown",
   "metadata": {},
   "source": [
    "#### Data Visualization"
   ]
  },
  {
   "cell_type": "markdown",
   "metadata": {},
   "source": [
    "##### Movies released per year\n",
    "By plotting movies angainst the year of release we can clearly see that by the year 1980 - 2000 the release was at peak, i.e maximum movies were released that year as per our data set."
   ]
  },
  {
   "cell_type": "code",
   "execution_count": 10,
   "metadata": {},
   "outputs": [
    {
     "data": {
      "image/png": "[encoded data removed]",
      "text/plain": [
       "<Figure size 432x288 with 1 Axes>"
      ]
     },
     "metadata": {
      "needs_background": "light"
     },
     "output_type": "display_data"
    },
    {
     "name": "stdout",
     "output_type": "stream",
     "text": [
      "Max No.of Movies Relesed = 250\n",
      "year = 1996\n"
     ]
    },
    {
     "data": {
      "text/plain": [
       "count     82.000000\n",
       "mean      44.865854\n",
       "std       66.135245\n",
       "min        1.000000\n",
       "25%        7.250000\n",
       "50%       17.000000\n",
       "75%       46.000000\n",
       "max      250.000000\n",
       "Name: title, dtype: float64"
      ]
     },
     "execution_count": 10,
     "metadata": {},
     "output_type": "execute_result"
    }
   ],
   "source": [
    "plt.plot(final_df.groupby('year').title.count())\n",
    "plt.show()\n",
    "a = final_df.groupby('year').title.count()\n",
    "print('Max No.of Movies Relesed =', a.max())\n",
    "for i in a.index:\n",
    "    if a[i] == a.max():\n",
    "        print('year =', i)\n",
    "a.describe()\n"
   ]
  },
  {
   "cell_type": "markdown",
   "metadata": {},
   "source": [
    "##### Exploring Genre's"
   ]
  },
  {
   "cell_type": "code",
   "execution_count": null,
   "metadata": {},
   "outputs": [
    {
     "data": {
      "text/plain": [
       "Drama        1720\n",
       "Comedy       1374\n",
       "Thriller      687\n",
       "Romance       669\n",
       "Action        597\n",
       "Adventure     445\n",
       "Crime         411\n",
       "Horror        350\n",
       "Sci-Fi        322\n",
       "Children      275\n",
       "Name: genres, dtype: int64"
      ]
     },
     "execution_count": 355,
     "metadata": {},
     "output_type": "execute_result"
    }
   ],
   "source": [
    "genre_popularity = (final_df.genres.str.split('|')\n",
    "                      .explode()\n",
    "                      .value_counts()\n",
    "                      .sort_values(ascending=False))\n",
    "genre_popularity.head(10)\n"
   ]
  },
  {
   "cell_type": "code",
   "execution_count": null,
   "metadata": {},
   "outputs": [
    {
     "data": {
      "text/plain": [
       "(-0.5, 999.5, 399.5, -0.5)"
      ]
     },
     "execution_count": 356,
     "metadata": {},
     "output_type": "execute_result"
    },
    {
     "data": {
      "image/png": "[encoded data removed]",
      "text/plain": [
       "<Figure size 1152x576 with 1 Axes>"
      ]
     },
     "metadata": {
      "needs_background": "light"
     },
     "output_type": "display_data"
    }
   ],
   "source": [
    "genre_wc = WordCloud(width=1000,height=400,background_color='white')\n",
    "genre_wc.generate_from_frequencies(genre_popularity.to_dict())\n",
    "plt.figure(figsize=(16, 8))\n",
    "plt.imshow(genre_wc, interpolation=\"bilinear\")\n",
    "plt.axis('off')"
   ]
  },
  {
   "cell_type": "markdown",
   "metadata": {},
   "source": [
    "#### Content Based Filtering\n",
    "There are two types of filtering in content based movie recommendation\n",
    "1. Description Based - Based on textual description of the movie or the taglines/punchlines\n",
    "2. Meta data based - Genre, Keywords etc <br />\n",
    "As we only have metadata of the movies, we will work with Meta Data based filtering"
   ]
  },
  {
   "cell_type": "code",
   "execution_count": null,
   "metadata": {},
   "outputs": [
    {
     "data": {
      "text/plain": [
       "(3679, 538)"
      ]
     },
     "execution_count": 357,
     "metadata": {},
     "output_type": "execute_result"
    }
   ],
   "source": [
    "tf = TfidfVectorizer(analyzer=lambda s: (c for i in range(1,4)\n",
    "                     for c in combinations(s.split('|'), r=i)))\n",
    "tfidf_matrix = tf.fit_transform(movies['genres'])\n",
    "tfidf_matrix.shape\n"
   ]
  },
  {
   "cell_type": "code",
   "execution_count": null,
   "metadata": {},
   "outputs": [],
   "source": [
    "cosine_sim = cosine_similarity(tfidf_matrix)"
   ]
  },
  {
   "cell_type": "code",
   "execution_count": null,
   "metadata": {},
   "outputs": [],
   "source": [
    "indices = pd.Series(final_df.index, index=final_df['title']).drop_duplicates()"
   ]
  },
  {
   "cell_type": "code",
   "execution_count": null,
   "metadata": {},
   "outputs": [],
   "source": [
    "def recommend(title, cosine_sim=cosine_sim) :\n",
    "    idx = indices[title]\n",
    "    sim_scores = list(enumerate(cosine_sim[idx]))\n",
    "    sim_scores = sorted(sim_scores, key = lambda x:x[1], reverse = True)\n",
    "    # Top 15\n",
    "    sim_scores = sim_scores[1:16]\n",
    "    movie_indices = [i[0] for i in sim_scores]\n",
    "    for i in movie_indices:\n",
    "        pop = final_df.at[i, 'rating']\n",
    "        if pop<5 or pop>10:\n",
    "            movie_indices.remove(i)\n",
    "\n",
    "    return final_df[[\"title\", \"rating\"]].iloc[movie_indices]"
   ]
  },
  {
   "cell_type": "code",
   "execution_count": null,
   "metadata": {},
   "outputs": [
    {
     "data": {
      "text/plain": [
       "title\n",
       "toy story                          0\n",
       "jumanji                            1\n",
       "grumpier old men                   2\n",
       "waiting to exhale                  3\n",
       "father of the bride part ii        4\n",
       "                                ... \n",
       "walk to remember, a             3678\n",
       "beijing bicycle                 3679\n",
       "escaflowne: the movie           3680\n",
       "maelström                       3681\n",
       "metropolis                      3682\n",
       "Length: 3679, dtype: int64"
      ]
     },
     "execution_count": 372,
     "metadata": {},
     "output_type": "execute_result"
    }
   ],
   "source": [
    "final_df.head()\n",
    "indices\n"
   ]
  },
  {
   "cell_type": "code",
   "execution_count": null,
   "metadata": {},
   "outputs": [
    {
     "name": "stdout",
     "output_type": "stream",
     "text": [
      "toy story \n"
     ]
    },
    {
     "data": {
      "text/html": [
       "<div>\n",
       "<style scoped>\n",
       "    .dataframe tbody tr th:only-of-type {\n",
       "        vertical-align: middle;\n",
       "    }\n",
       "\n",
       "    .dataframe tbody tr th {\n",
       "        vertical-align: top;\n",
       "    }\n",
       "\n",
       "    .dataframe thead th {\n",
       "        text-align: right;\n",
       "    }\n",
       "</style>\n",
       "<table border=\"1\" class=\"dataframe\">\n",
       "  <thead>\n",
       "    <tr style=\"text-align: right;\">\n",
       "      <th></th>\n",
       "      <th>title</th>\n",
       "      <th>rating</th>\n",
       "    </tr>\n",
       "  </thead>\n",
       "  <tbody>\n",
       "    <tr>\n",
       "      <th>2355</th>\n",
       "      <td>toy story 2</td>\n",
       "      <td>2.0</td>\n",
       "    </tr>\n",
       "    <tr>\n",
       "      <th>3000</th>\n",
       "      <td>emperor's new groove, the</td>\n",
       "      <td>2.5</td>\n",
       "    </tr>\n",
       "    <tr>\n",
       "      <th>1505</th>\n",
       "      <td>black cauldron, the</td>\n",
       "      <td>3.0</td>\n",
       "    </tr>\n",
       "    <tr>\n",
       "      <th>2539</th>\n",
       "      <td>we're back! a dinosaur's story</td>\n",
       "      <td>3.0</td>\n",
       "    </tr>\n",
       "    <tr>\n",
       "      <th>3336</th>\n",
       "      <td>land before time, the</td>\n",
       "      <td>4.5</td>\n",
       "    </tr>\n",
       "    <tr>\n",
       "      <th>1757</th>\n",
       "      <td>bug's life, a</td>\n",
       "      <td>4.5</td>\n",
       "    </tr>\n",
       "    <tr>\n",
       "      <th>3194</th>\n",
       "      <td>shrek</td>\n",
       "      <td>4.5</td>\n",
       "    </tr>\n",
       "  </tbody>\n",
       "</table>\n",
       "</div>"
      ],
      "text/plain": [
       "                                title  rating\n",
       "2355                     toy story 2      2.0\n",
       "3000       emperor's new groove, the      2.5\n",
       "1505             black cauldron, the      3.0\n",
       "2539  we're back! a dinosaur's story      3.0\n",
       "3336           land before time, the      4.5\n",
       "1757                   bug's life, a      4.5\n",
       "3194                           shrek      4.5"
      ]
     },
     "execution_count": 373,
     "metadata": {},
     "output_type": "execute_result"
    }
   ],
   "source": [
    "var_v = indices.keys()\n",
    "var_v = var_v[0]\n",
    "print(var_v)\n",
    "recommend(var_v)"
   ]
  },
  {
   "cell_type": "code",
   "execution_count": null,
   "metadata": {},
   "outputs": [
    {
     "data": {
      "text/plain": [
       "<generator object KFold.split at 0x0000024F089E06D0>"
      ]
     },
     "execution_count": 363,
     "metadata": {},
     "output_type": "execute_result"
    }
   ],
   "source": [
    "reader = Reader()\n",
    "u_df = Dataset.load_from_df(ratings[['userId', 'rating', 'movieId']], reader)\n",
    "kf = KFold(n_splits=5)\n",
    "kf.split(u_df)"
   ]
  },
  {
   "cell_type": "code",
   "execution_count": null,
   "metadata": {},
   "outputs": [
    {
     "data": {
      "text/plain": [
       "<surprise.prediction_algorithms.matrix_factorization.SVD at 0x24f089e7070>"
      ]
     },
     "execution_count": 364,
     "metadata": {},
     "output_type": "execute_result"
    }
   ],
   "source": [
    "svd = SVD()\n",
    "cross_validate(svd, u_df, measures=['RMSE', 'MAE'])\n",
    "trainset = u_df.build_full_trainset()\n",
    "svd.fit(trainset)\n"
   ]
  },
  {
   "cell_type": "code",
   "execution_count": null,
   "metadata": {},
   "outputs": [
    {
     "data": {
      "text/html": [
       "<div>\n",
       "<style scoped>\n",
       "    .dataframe tbody tr th:only-of-type {\n",
       "        vertical-align: middle;\n",
       "    }\n",
       "\n",
       "    .dataframe tbody tr th {\n",
       "        vertical-align: top;\n",
       "    }\n",
       "\n",
       "    .dataframe thead th {\n",
       "        text-align: right;\n",
       "    }\n",
       "</style>\n",
       "<table border=\"1\" class=\"dataframe\">\n",
       "  <thead>\n",
       "    <tr style=\"text-align: right;\">\n",
       "      <th></th>\n",
       "      <th>movieId</th>\n",
       "      <th>imdbId</th>\n",
       "      <th>tmdbId</th>\n",
       "    </tr>\n",
       "  </thead>\n",
       "  <tbody>\n",
       "    <tr>\n",
       "      <th>0</th>\n",
       "      <td>1</td>\n",
       "      <td>114709</td>\n",
       "      <td>862.0</td>\n",
       "    </tr>\n",
       "    <tr>\n",
       "      <th>1</th>\n",
       "      <td>2</td>\n",
       "      <td>113497</td>\n",
       "      <td>8844.0</td>\n",
       "    </tr>\n",
       "    <tr>\n",
       "      <th>2</th>\n",
       "      <td>3</td>\n",
       "      <td>113228</td>\n",
       "      <td>15602.0</td>\n",
       "    </tr>\n",
       "    <tr>\n",
       "      <th>3</th>\n",
       "      <td>4</td>\n",
       "      <td>114885</td>\n",
       "      <td>31357.0</td>\n",
       "    </tr>\n",
       "    <tr>\n",
       "      <th>4</th>\n",
       "      <td>5</td>\n",
       "      <td>113041</td>\n",
       "      <td>11862.0</td>\n",
       "    </tr>\n",
       "    <tr>\n",
       "      <th>...</th>\n",
       "      <td>...</td>\n",
       "      <td>...</td>\n",
       "      <td>...</td>\n",
       "    </tr>\n",
       "    <tr>\n",
       "      <th>9737</th>\n",
       "      <td>193581</td>\n",
       "      <td>5476944</td>\n",
       "      <td>432131.0</td>\n",
       "    </tr>\n",
       "    <tr>\n",
       "      <th>9738</th>\n",
       "      <td>193583</td>\n",
       "      <td>5914996</td>\n",
       "      <td>445030.0</td>\n",
       "    </tr>\n",
       "    <tr>\n",
       "      <th>9739</th>\n",
       "      <td>193585</td>\n",
       "      <td>6397426</td>\n",
       "      <td>479308.0</td>\n",
       "    </tr>\n",
       "    <tr>\n",
       "      <th>9740</th>\n",
       "      <td>193587</td>\n",
       "      <td>8391976</td>\n",
       "      <td>483455.0</td>\n",
       "    </tr>\n",
       "    <tr>\n",
       "      <th>9741</th>\n",
       "      <td>193609</td>\n",
       "      <td>101726</td>\n",
       "      <td>37891.0</td>\n",
       "    </tr>\n",
       "  </tbody>\n",
       "</table>\n",
       "<p>9742 rows × 3 columns</p>\n",
       "</div>"
      ],
      "text/plain": [
       "      movieId   imdbId    tmdbId\n",
       "0           1   114709     862.0\n",
       "1           2   113497    8844.0\n",
       "2           3   113228   15602.0\n",
       "3           4   114885   31357.0\n",
       "4           5   113041   11862.0\n",
       "...       ...      ...       ...\n",
       "9737   193581  5476944  432131.0\n",
       "9738   193583  5914996  445030.0\n",
       "9739   193585  6397426  479308.0\n",
       "9740   193587  8391976  483455.0\n",
       "9741   193609   101726   37891.0\n",
       "\n",
       "[9742 rows x 3 columns]"
      ]
     },
     "execution_count": 365,
     "metadata": {},
     "output_type": "execute_result"
    }
   ],
   "source": [
    "links"
   ]
  },
  {
   "cell_type": "code",
   "execution_count": null,
   "metadata": {},
   "outputs": [],
   "source": [
    "col = np.array(links['tmdbId'], np.int64)\n",
    "links['tmdbId'] = col\n",
    "\n",
    "# Merge movies_metadata.csv and links_small.csv files\n",
    "links = links.merge(\n",
    "    final_df[['title', 'tmdbId']], on='tmdbId').set_index('title')\n",
    "links_index = links.set_index('tmdbId')\n"
   ]
  },
  {
   "cell_type": "code",
   "execution_count": null,
   "metadata": {},
   "outputs": [],
   "source": [
    "# Recommendation function\n",
    "def hybrid(userId, title):\n",
    "    idx = indices[title]\n",
    "\n",
    "    sim_scores = list(enumerate(cosine_sim[idx]))\n",
    "    sim_scores = sorted(sim_scores, key=lambda x: x[1], reverse=True)\n",
    "    sim_scores = sim_scores[1:31]  # Scores of the 30 most similar movies\n",
    "    movie_indices = [i[0] for i in sim_scores]\n",
    "\n",
    "    movies = final_df.iloc[movie_indices][['title','rating','tmdbId']]\n",
    "    movies['est'] = movies['tmdbId'].apply(lambda x: svd.predict(\n",
    "        userId, links_index.loc[x]['movieId']).est)  # Estimated prediction using svd\n",
    "    # Rank movies according to the predicted values\n",
    "    movies = movies.sort_values('est', ascending=False)\n",
    "    movies.columns = ['Title' , 'Rating',\n",
    "                      'TMDb Id', 'Estimated Prediction']\n",
    "    return movies.head(15)  # Display top 15 similar movies\n"
   ]
  },
  {
   "cell_type": "code",
   "execution_count": null,
   "metadata": {},
   "outputs": [
    {
     "name": "stdout",
     "output_type": "stream",
     "text": [
      "toy story \n"
     ]
    },
    {
     "data": {
      "text/html": [
       "<div>\n",
       "<style scoped>\n",
       "    .dataframe tbody tr th:only-of-type {\n",
       "        vertical-align: middle;\n",
       "    }\n",
       "\n",
       "    .dataframe tbody tr th {\n",
       "        vertical-align: top;\n",
       "    }\n",
       "\n",
       "    .dataframe thead th {\n",
       "        text-align: right;\n",
       "    }\n",
       "</style>\n",
       "<table border=\"1\" class=\"dataframe\">\n",
       "  <thead>\n",
       "    <tr style=\"text-align: right;\">\n",
       "      <th></th>\n",
       "      <th>Title</th>\n",
       "      <th>Rating</th>\n",
       "      <th>TMDb Id</th>\n",
       "      <th>Estimated Prediction</th>\n",
       "    </tr>\n",
       "  </thead>\n",
       "  <tbody>\n",
       "    <tr>\n",
       "      <th>1706</th>\n",
       "      <td>antz</td>\n",
       "      <td>4.5</td>\n",
       "      <td>8916.0</td>\n",
       "      <td>5</td>\n",
       "    </tr>\n",
       "    <tr>\n",
       "      <th>2355</th>\n",
       "      <td>toy story 2</td>\n",
       "      <td>2.0</td>\n",
       "      <td>863.0</td>\n",
       "      <td>5</td>\n",
       "    </tr>\n",
       "    <tr>\n",
       "      <th>1756</th>\n",
       "      <td>rugrats movie, the</td>\n",
       "      <td>4.0</td>\n",
       "      <td>14444.0</td>\n",
       "      <td>5</td>\n",
       "    </tr>\n",
       "    <tr>\n",
       "      <th>599</th>\n",
       "      <td>wallace &amp; gromit: a close shave</td>\n",
       "      <td>3.0</td>\n",
       "      <td>532.0</td>\n",
       "      <td>5</td>\n",
       "    </tr>\n",
       "    <tr>\n",
       "      <th>2250</th>\n",
       "      <td>who framed roger rabbit?</td>\n",
       "      <td>4.0</td>\n",
       "      <td>856.0</td>\n",
       "      <td>5</td>\n",
       "    </tr>\n",
       "    <tr>\n",
       "      <th>1372</th>\n",
       "      <td>quest for camelot</td>\n",
       "      <td>4.0</td>\n",
       "      <td>18937.0</td>\n",
       "      <td>5</td>\n",
       "    </tr>\n",
       "    <tr>\n",
       "      <th>789</th>\n",
       "      <td>alice in wonderland</td>\n",
       "      <td>3.0</td>\n",
       "      <td>12092.0</td>\n",
       "      <td>5</td>\n",
       "    </tr>\n",
       "    <tr>\n",
       "      <th>551</th>\n",
       "      <td>james and the giant peach</td>\n",
       "      <td>4.0</td>\n",
       "      <td>10539.0</td>\n",
       "      <td>5</td>\n",
       "    </tr>\n",
       "    <tr>\n",
       "      <th>585</th>\n",
       "      <td>wallace &amp; gromit: the best of aardman animation</td>\n",
       "      <td>4.0</td>\n",
       "      <td>503475.0</td>\n",
       "      <td>5</td>\n",
       "    </tr>\n",
       "    <tr>\n",
       "      <th>2106</th>\n",
       "      <td>little nemo: adventures in slumberland</td>\n",
       "      <td>4.5</td>\n",
       "      <td>22611.0</td>\n",
       "      <td>5</td>\n",
       "    </tr>\n",
       "    <tr>\n",
       "      <th>1596</th>\n",
       "      <td>watership down</td>\n",
       "      <td>3.5</td>\n",
       "      <td>11837.0</td>\n",
       "      <td>5</td>\n",
       "    </tr>\n",
       "    <tr>\n",
       "      <th>2160</th>\n",
       "      <td>thumbelina</td>\n",
       "      <td>3.0</td>\n",
       "      <td>28032.0</td>\n",
       "      <td>5</td>\n",
       "    </tr>\n",
       "    <tr>\n",
       "      <th>2144</th>\n",
       "      <td>yellow submarine</td>\n",
       "      <td>3.5</td>\n",
       "      <td>12105.0</td>\n",
       "      <td>5</td>\n",
       "    </tr>\n",
       "    <tr>\n",
       "      <th>1584</th>\n",
       "      <td>all dogs go to heaven</td>\n",
       "      <td>4.0</td>\n",
       "      <td>11497.0</td>\n",
       "      <td>5</td>\n",
       "    </tr>\n",
       "    <tr>\n",
       "      <th>3098</th>\n",
       "      <td>monkeybone</td>\n",
       "      <td>1.0</td>\n",
       "      <td>23685.0</td>\n",
       "      <td>5</td>\n",
       "    </tr>\n",
       "  </tbody>\n",
       "</table>\n",
       "</div>"
      ],
      "text/plain": [
       "                                                 Title  Rating   TMDb Id  \\\n",
       "1706                                             antz      4.5    8916.0   \n",
       "2355                                      toy story 2      2.0     863.0   \n",
       "1756                               rugrats movie, the      4.0   14444.0   \n",
       "599                   wallace & gromit: a close shave      3.0     532.0   \n",
       "2250                         who framed roger rabbit?      4.0     856.0   \n",
       "1372                                quest for camelot      4.0   18937.0   \n",
       "789                               alice in wonderland      3.0   12092.0   \n",
       "551                         james and the giant peach      4.0   10539.0   \n",
       "585   wallace & gromit: the best of aardman animation      4.0  503475.0   \n",
       "2106           little nemo: adventures in slumberland      4.5   22611.0   \n",
       "1596                                   watership down      3.5   11837.0   \n",
       "2160                                       thumbelina      3.0   28032.0   \n",
       "2144                                 yellow submarine      3.5   12105.0   \n",
       "1584                            all dogs go to heaven      4.0   11497.0   \n",
       "3098                                       monkeybone      1.0   23685.0   \n",
       "\n",
       "      Estimated Prediction  \n",
       "1706                     5  \n",
       "2355                     5  \n",
       "1756                     5  \n",
       "599                      5  \n",
       "2250                     5  \n",
       "1372                     5  \n",
       "789                      5  \n",
       "551                      5  \n",
       "585                      5  \n",
       "2106                     5  \n",
       "1596                     5  \n",
       "2160                     5  \n",
       "2144                     5  \n",
       "1584                     5  \n",
       "3098                     5  "
      ]
     },
     "execution_count": 368,
     "metadata": {},
     "output_type": "execute_result"
    }
   ],
   "source": [
    "var_v = indices.keys()\n",
    "var_v = var_v[0]\n",
    "print(var_v)\n",
    "hybrid(1, var_v)\n"
   ]
  },
  {
   "cell_type": "code",
   "execution_count": null,
   "metadata": {},
   "outputs": [
    {
     "data": {
      "text/plain": [
       "pandas.core.series.Series"
      ]
     },
     "execution_count": 369,
     "metadata": {},
     "output_type": "execute_result"
    }
   ],
   "source": [
    "type(indices)"
   ]
  }
 ],
 "metadata": {
  "kernelspec": {
   "display_name": "Python 3.10.4 ('dbsenv')",
   "language": "python",
   "name": "python3"
  },
  "language_info": {
   "codemirror_mode": {
    "name": "ipython",
    "version": 3
   },
   "file_extension": ".py",
   "mimetype": "text/x-python",
   "name": "python",
   "nbconvert_exporter": "python",
   "pygments_lexer": "ipython3",
   "version": "3.10.4"
  },
  "orig_nbformat": 4,
  "vscode": {
   "interpreter": {
    "hash": "0eb6bb04252975c90295594e78ec2387e6fa9638ace48a5a51a817955c2e6864"
   }
  }
 },
 "nbformat": 4,
 "nbformat_minor": 2
}
