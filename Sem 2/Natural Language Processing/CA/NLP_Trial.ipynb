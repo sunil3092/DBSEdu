{
 "cells": [
  {
   "cell_type": "code",
   "execution_count": 2,
   "metadata": {},
   "outputs": [
    {
     "ename": "FileNotFoundError",
     "evalue": "[Errno 2] No such file or directory: '/Users/kenny/Desktop/NLP_Proj/aud2 (mp3cut.net).wav'",
     "output_type": "error",
     "traceback": [
      "\u001b[1;31m---------------------------------------------------------------------------\u001b[0m",
      "\u001b[1;31mFileNotFoundError\u001b[0m                         Traceback (most recent call last)",
      "\u001b[1;32mc:\\Users\\sunil\\DBS Repo\\DBS\\DBSEdu\\Sem 2\\Natural Language Processing\\CA\\NLP_Trial.ipynb Cell 1\u001b[0m in \u001b[0;36m<cell line: 9>\u001b[1;34m()\u001b[0m\n\u001b[0;32m      <a href='vscode-notebook-cell:/c%3A/Users/sunil/DBS%20Repo/DBS/DBSEdu/Sem%202/Natural%20Language%20Processing/CA/NLP_Trial.ipynb#ch0000000?line=6'>7</a>\u001b[0m \u001b[39m# use the audio file as the audio source\u001b[39;00m\n\u001b[0;32m      <a href='vscode-notebook-cell:/c%3A/Users/sunil/DBS%20Repo/DBS/DBSEdu/Sem%202/Natural%20Language%20Processing/CA/NLP_Trial.ipynb#ch0000000?line=7'>8</a>\u001b[0m r \u001b[39m=\u001b[39m sr\u001b[39m.\u001b[39mRecognizer()\n\u001b[1;32m----> <a href='vscode-notebook-cell:/c%3A/Users/sunil/DBS%20Repo/DBS/DBSEdu/Sem%202/Natural%20Language%20Processing/CA/NLP_Trial.ipynb#ch0000000?line=8'>9</a>\u001b[0m \u001b[39mwith\u001b[39;00m sr\u001b[39m.\u001b[39mAudioFile(AUDIO_FILE) \u001b[39mas\u001b[39;00m source:\n\u001b[0;32m     <a href='vscode-notebook-cell:/c%3A/Users/sunil/DBS%20Repo/DBS/DBSEdu/Sem%202/Natural%20Language%20Processing/CA/NLP_Trial.ipynb#ch0000000?line=9'>10</a>\u001b[0m     \u001b[39mprint\u001b[39m(\u001b[39m\"\u001b[39m\u001b[39mSay something!\u001b[39m\u001b[39m\"\u001b[39m)\n\u001b[0;32m     <a href='vscode-notebook-cell:/c%3A/Users/sunil/DBS%20Repo/DBS/DBSEdu/Sem%202/Natural%20Language%20Processing/CA/NLP_Trial.ipynb#ch0000000?line=10'>11</a>\u001b[0m     audio \u001b[39m=\u001b[39m r\u001b[39m.\u001b[39mrecord(source)  \u001b[39m# read the entire audio file\u001b[39;00m\n",
      "File \u001b[1;32mc:\\Users\\sunil\\miniconda3\\envs\\dbsenv\\lib\\site-packages\\speech_recognition\\__init__.py:203\u001b[0m, in \u001b[0;36mAudioFile.__enter__\u001b[1;34m(self)\u001b[0m\n\u001b[0;32m    200\u001b[0m \u001b[39massert\u001b[39;00m \u001b[39mself\u001b[39m\u001b[39m.\u001b[39mstream \u001b[39mis\u001b[39;00m \u001b[39mNone\u001b[39;00m, \u001b[39m\"\u001b[39m\u001b[39mThis audio source is already inside a context manager\u001b[39m\u001b[39m\"\u001b[39m\n\u001b[0;32m    201\u001b[0m \u001b[39mtry\u001b[39;00m:\n\u001b[0;32m    202\u001b[0m     \u001b[39m# attempt to read the file as WAV\u001b[39;00m\n\u001b[1;32m--> 203\u001b[0m     \u001b[39mself\u001b[39m\u001b[39m.\u001b[39maudio_reader \u001b[39m=\u001b[39m wave\u001b[39m.\u001b[39;49mopen(\u001b[39mself\u001b[39;49m\u001b[39m.\u001b[39;49mfilename_or_fileobject, \u001b[39m\"\u001b[39;49m\u001b[39mrb\u001b[39;49m\u001b[39m\"\u001b[39;49m)\n\u001b[0;32m    204\u001b[0m     \u001b[39mself\u001b[39m\u001b[39m.\u001b[39mlittle_endian \u001b[39m=\u001b[39m \u001b[39mTrue\u001b[39;00m  \u001b[39m# RIFF WAV is a little-endian format (most ``audioop`` operations assume that the frames are stored in little-endian form)\u001b[39;00m\n\u001b[0;32m    205\u001b[0m \u001b[39mexcept\u001b[39;00m (wave\u001b[39m.\u001b[39mError, \u001b[39mEOFError\u001b[39;00m):\n",
      "File \u001b[1;32mc:\\Users\\sunil\\miniconda3\\envs\\dbsenv\\lib\\wave.py:509\u001b[0m, in \u001b[0;36mopen\u001b[1;34m(f, mode)\u001b[0m\n\u001b[0;32m    507\u001b[0m         mode \u001b[39m=\u001b[39m \u001b[39m'\u001b[39m\u001b[39mrb\u001b[39m\u001b[39m'\u001b[39m\n\u001b[0;32m    508\u001b[0m \u001b[39mif\u001b[39;00m mode \u001b[39min\u001b[39;00m (\u001b[39m'\u001b[39m\u001b[39mr\u001b[39m\u001b[39m'\u001b[39m, \u001b[39m'\u001b[39m\u001b[39mrb\u001b[39m\u001b[39m'\u001b[39m):\n\u001b[1;32m--> 509\u001b[0m     \u001b[39mreturn\u001b[39;00m Wave_read(f)\n\u001b[0;32m    510\u001b[0m \u001b[39melif\u001b[39;00m mode \u001b[39min\u001b[39;00m (\u001b[39m'\u001b[39m\u001b[39mw\u001b[39m\u001b[39m'\u001b[39m, \u001b[39m'\u001b[39m\u001b[39mwb\u001b[39m\u001b[39m'\u001b[39m):\n\u001b[0;32m    511\u001b[0m     \u001b[39mreturn\u001b[39;00m Wave_write(f)\n",
      "File \u001b[1;32mc:\\Users\\sunil\\miniconda3\\envs\\dbsenv\\lib\\wave.py:159\u001b[0m, in \u001b[0;36mWave_read.__init__\u001b[1;34m(self, f)\u001b[0m\n\u001b[0;32m    157\u001b[0m \u001b[39mself\u001b[39m\u001b[39m.\u001b[39m_i_opened_the_file \u001b[39m=\u001b[39m \u001b[39mNone\u001b[39;00m\n\u001b[0;32m    158\u001b[0m \u001b[39mif\u001b[39;00m \u001b[39misinstance\u001b[39m(f, \u001b[39mstr\u001b[39m):\n\u001b[1;32m--> 159\u001b[0m     f \u001b[39m=\u001b[39m builtins\u001b[39m.\u001b[39;49mopen(f, \u001b[39m'\u001b[39;49m\u001b[39mrb\u001b[39;49m\u001b[39m'\u001b[39;49m)\n\u001b[0;32m    160\u001b[0m     \u001b[39mself\u001b[39m\u001b[39m.\u001b[39m_i_opened_the_file \u001b[39m=\u001b[39m f\n\u001b[0;32m    161\u001b[0m \u001b[39m# else, assume it is an open file object already\u001b[39;00m\n",
      "\u001b[1;31mFileNotFoundError\u001b[0m: [Errno 2] No such file or directory: '/Users/kenny/Desktop/NLP_Proj/aud2 (mp3cut.net).wav'"
     ]
    }
   ],
   "source": [
    "import speech_recognition as sr\n",
    "\n",
    "# obtain path to \"Daily_English_Conversation_02_Do_you_speak_English.wav\" in the same folder as this script\n",
    "from os import path\n",
    "AUDIO_FILE = path.join(\"/Users/kenny/Desktop/NLP_Proj/aud2 (mp3cut.net).wav\")\n",
    "\n",
    "# use the audio file as the audio source\n",
    "r = sr.Recognizer()\n",
    "with sr.AudioFile(AUDIO_FILE) as source:\n",
    "    print(\"Say something!\")\n",
    "    audio = r.record(source)  # read the entire audio file\n",
    "try:\n",
    "    # for testing purposes, we're just using the default API key\n",
    "    # to use another API key, use `r.recognize_google(audio, key=\"GOOGLE_SPEECH_RECOGNITION_API_KEY\")`\n",
    "    # instead of `r.recognize_google(audio)`\n",
    "    print(\"Google Speech Recognition thinks you said : \" + r.recognize_google(audio))\n",
    "except sr.UnknownValueError:\n",
    "    print(\"Google Speech Recognition could not understand audio\")\n",
    "except sr.RequestError as e:\n",
    "    print(\"Could not request results from Google Speech Recognition service; {0}\".format(e))"
   ]
  },
  {
   "cell_type": "code",
   "execution_count": null,
   "metadata": {},
   "outputs": [
    {
     "name": "stdout",
     "output_type": "stream",
     "text": [
      "...Start Recording\n",
      "Recording Stopped...\n"
     ]
    }
   ],
   "source": [
    "import pyaudio\n",
    "import wave\n",
    "\n",
    "chunk = 1024\n",
    "format = pyaudio.paInt16\n",
    "channels = 1\n",
    "rate = 44100\n",
    "\n",
    "p = pyaudio.PyAudio()\n",
    "\n",
    "stream = p.open(format = format,\n",
    "channels = channels,\n",
    "rate = rate,\n",
    "input = True,\n",
    "frames_per_buffer=chunk)\n",
    "\n",
    "print(\"...Start Recording\")\n",
    "\n",
    "frames=[]\n",
    "seconds=3\n",
    "for i in range (0, int(rate/chunk*seconds)):\n",
    "    data = stream.read(chunk)\n",
    "    frames.append(data)\n",
    "\n",
    "print(\"Recording Stopped...\")\n",
    "\n",
    "stream.stop_stream()\n",
    "stream.close()\n",
    "p.terminate()\n",
    "\n",
    "wf = wave.open(\"output.wav\", \"wb\")\n",
    "wf.setnchannels(channels)\n",
    "wf.setsampwidth(p.get_sample_size(format))\n",
    "wf.setframerate(rate)\n",
    "wf.writeframes(b''.join(frames))\n",
    "wf.close()\n",
    "\n"
   ]
  },
  {
   "cell_type": "code",
   "execution_count": null,
   "metadata": {},
   "outputs": [
    {
     "name": "stdout",
     "output_type": "stream",
     "text": [
      "Say something!\n",
      "Google Speech Recognition thinks you said : hello guys is going to enjoy\n"
     ]
    }
   ],
   "source": [
    "import speech_recognition as sr\n",
    "\n",
    "# obtain path to \"Daily_English_Conversation_02_Do_you_speak_English.wav\" in the same folder as this script\n",
    "from os import path\n",
    "AUDIO_FILE = path.join(\"/Users/kenny/Desktop/NLP_Proj/output.wav\")\n",
    "\n",
    "# use the audio file as the audio source\n",
    "r = sr.Recognizer()\n",
    "with sr.AudioFile(AUDIO_FILE) as source:\n",
    "    print(\"Say something!\")\n",
    "    audio = r.record(source)  # read the entire audio file\n",
    "try:\n",
    "    # for testing purposes, we're just using the default API key\n",
    "    # to use another API key, use `r.recognize_google(audio, key=\"GOOGLE_SPEECH_RECOGNITION_API_KEY\")`\n",
    "    # instead of `r.recognize_google(audio)`\n",
    "    print(\"Google Speech Recognition thinks you said : \" + r.recognize_google(audio))\n",
    "except sr.UnknownValueError:\n",
    "    print(\"Google Speech Recognition could not understand audio\")\n",
    "except sr.RequestError as e:\n",
    "    print(\"Could not request results from Google Speech Recognition service; {0}\".format(e))"
   ]
  },
  {
   "cell_type": "code",
   "execution_count": null,
   "metadata": {},
   "outputs": [],
   "source": [
    "import librosa\n",
    "import torch\n",
    "from transformers import Wav2Vec2ForCTC, Wav2Vec2Tokenizer\n",
    "#load pre-trained model and tokenizer\n",
    "tokenizer = Wav2Vec2Tokenizer.from_pretrained(\"facebook/wav2vec2-base-960h\")\n",
    "model = Wav2Vec2ForCTC.from_pretrained(\"facebook/wav2vec2-base-960h\")\n",
    "#load any audio file of your choice\n",
    "speech, rate = librosa.load(\"/Users/kenny/Desktop/NLP_Proj/output.wav\",sr=16000)\n",
    "\n",
    "input_values = tokenizer(speech, return_tensors = 'pt').input_values\n",
    "\n",
    "# print(input_values)\n",
    "\n",
    "#Store logits (non-normalized predictions)\n",
    "logits = model(input_values).logits\n"
   ]
  },
  {
   "cell_type": "code",
   "execution_count": null,
   "metadata": {},
   "outputs": [],
   "source": []
  },
  {
   "cell_type": "code",
   "execution_count": null,
   "metadata": {},
   "outputs": [
    {
     "name": "stdout",
     "output_type": "stream",
     "text": [
      "...Start Recording\n"
     ]
    },
    {
     "ename": "OSError",
     "evalue": "[Errno -9988] Stream closed",
     "output_type": "error",
     "traceback": [
      "\u001b[0;31m---------------------------------------------------------------------------\u001b[0m",
      "\u001b[0;31mOSError\u001b[0m                                   Traceback (most recent call last)",
      "\u001b[1;32m/Users/kenny/Desktop/NLP_Proj/NLP_Trial.ipynb Cell 6\u001b[0m in \u001b[0;36m<cell line: 5>\u001b[0;34m()\u001b[0m\n\u001b[1;32m      <a href='vscode-notebook-cell:/Users/kenny/Desktop/NLP_Proj/NLP_Trial.ipynb#ch0000005?line=3'>4</a>\u001b[0m seconds\u001b[39m=\u001b[39m\u001b[39m3\u001b[39m\n\u001b[1;32m      <a href='vscode-notebook-cell:/Users/kenny/Desktop/NLP_Proj/NLP_Trial.ipynb#ch0000005?line=4'>5</a>\u001b[0m \u001b[39mfor\u001b[39;00m i \u001b[39min\u001b[39;00m \u001b[39mrange\u001b[39m (\u001b[39m0\u001b[39m, \u001b[39mint\u001b[39m(rate\u001b[39m/\u001b[39mchunk\u001b[39m*\u001b[39mseconds)):\n\u001b[0;32m----> <a href='vscode-notebook-cell:/Users/kenny/Desktop/NLP_Proj/NLP_Trial.ipynb#ch0000005?line=5'>6</a>\u001b[0m     data \u001b[39m=\u001b[39m stream\u001b[39m.\u001b[39;49mread(chunk)\n\u001b[1;32m      <a href='vscode-notebook-cell:/Users/kenny/Desktop/NLP_Proj/NLP_Trial.ipynb#ch0000005?line=6'>7</a>\u001b[0m     frames\u001b[39m.\u001b[39mappend(data)\n\u001b[1;32m      <a href='vscode-notebook-cell:/Users/kenny/Desktop/NLP_Proj/NLP_Trial.ipynb#ch0000005?line=8'>9</a>\u001b[0m \u001b[39mprint\u001b[39m(\u001b[39m\"\u001b[39m\u001b[39mRecording Stopped...\u001b[39m\u001b[39m\"\u001b[39m)\n",
      "File \u001b[0;32m/Library/Frameworks/Python.framework/Versions/3.9/lib/python3.9/site-packages/pyaudio.py:608\u001b[0m, in \u001b[0;36mStream.read\u001b[0;34m(self, num_frames, exception_on_overflow)\u001b[0m\n\u001b[1;32m    604\u001b[0m \u001b[39mif\u001b[39;00m \u001b[39mnot\u001b[39;00m \u001b[39mself\u001b[39m\u001b[39m.\u001b[39m_is_input:\n\u001b[1;32m    605\u001b[0m     \u001b[39mraise\u001b[39;00m \u001b[39mIOError\u001b[39;00m(\u001b[39m\"\u001b[39m\u001b[39mNot input stream\u001b[39m\u001b[39m\"\u001b[39m,\n\u001b[1;32m    606\u001b[0m                   paCanNotReadFromAnOutputOnlyStream)\n\u001b[0;32m--> 608\u001b[0m \u001b[39mreturn\u001b[39;00m pa\u001b[39m.\u001b[39;49mread_stream(\u001b[39mself\u001b[39;49m\u001b[39m.\u001b[39;49m_stream, num_frames, exception_on_overflow)\n",
      "\u001b[0;31mOSError\u001b[0m: [Errno -9988] Stream closed"
     ]
    }
   ],
   "source": []
  },
  {
   "cell_type": "code",
   "execution_count": null,
   "metadata": {},
   "outputs": [],
   "source": []
  }
 ],
 "metadata": {
  "kernelspec": {
   "display_name": "Python 3.10.4 ('dbsenv')",
   "language": "python",
   "name": "python3"
  },
  "language_info": {
   "codemirror_mode": {
    "name": "ipython",
    "version": 3
   },
   "file_extension": ".py",
   "mimetype": "text/x-python",
   "name": "python",
   "nbconvert_exporter": "python",
   "pygments_lexer": "ipython3",
   "version": "3.10.4"
  },
  "orig_nbformat": 4,
  "vscode": {
   "interpreter": {
    "hash": "142828a991f0141af2f84ebd0d287daae8516e1494cb3e9d37e0a13eaaf32cec"
   }
  }
 },
 "nbformat": 4,
 "nbformat_minor": 2
}
