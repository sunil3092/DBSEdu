{
 "cells": [
  {
   "cell_type": "markdown",
   "metadata": {},
   "source": [
    "## <p style=\"text-align: center;\">B9AI103_2122_TMD3_CA_1</p>\n",
    "### <p style=\"text-align: center;\"> Details </p>\n",
    "#### <p style=\"text-align: center;\">Name: Sunil Judhistira Gauda</p>\n",
    "#### <p style=\"text-align: center;\">Student ID : 10595858 </p>"
   ]
  },
  {
   "cell_type": "markdown",
   "metadata": {},
   "source": [
    "#### Project - Speeach Emotion Detection using Audio Processing and Speeach Recognition API\n",
    "##### Description\n",
    "- Capture - Recording Audio and Saving it for analysis.\n",
    "- Analysis - Checking the wawe of audio to get visual view of how our audio looks graphically\n",
    "- Audio\n",
    "- Using Logistic Regression and Datasets from the gratious Yelp, Amazon and imdb Datasets i have trained this models and provided a sentiment analysis over the input statement"
   ]
  },
  {
   "cell_type": "markdown",
   "metadata": {},
   "source": [
    "### Business Undestanding\n",
    "Words we use to speak provides combinations of diffrent letters to express emotion of a individual, with speach recognition and NLP we can use those words to describe a particular range of emotion, in this project 2 such extreme emotions are detected to analyze weather the person is **Happy** or **Sad**"
   ]
  },
  {
   "cell_type": "markdown",
   "metadata": {},
   "source": [
    "#### Imports\n",
    "\n",
    "Note : Some imports like pyaudio requires windows sepcific installation for VC++ library, please follow the instructions below with an andminstartor window of a Shell, inside your project environment.\n",
    "* pip install pipwin\n",
    "* pipwin install pyaudio"
   ]
  },
  {
   "cell_type": "code",
   "execution_count": 92,
   "metadata": {},
   "outputs": [],
   "source": [
    "import pyaudio\n",
    "import numpy as np\n",
    "import wave\n",
    "import speech_recognition as sr\n",
    "from os import path\n",
    "from sklearn.feature_extraction.text import CountVectorizer\n",
    "from sklearn.model_selection import train_test_split\n",
    "import pandas as pd\n",
    "from sklearn.linear_model import LogisticRegression\n",
    "import matplotlib.pyplot as plt\n",
    "import pickle\n"
   ]
  },
  {
   "cell_type": "markdown",
   "metadata": {},
   "source": [
    "#### Data Understanding\n",
    "\n",
    "The data we consume is live data recorded via pyaudio interface, exploration of the data will begin after we record the audio."
   ]
  },
  {
   "cell_type": "markdown",
   "metadata": {},
   "source": [
    "##### Audio Parameters\n",
    "\n",
    "* chunk - defines the arbitary number frame in terms of a memory chunk for the recorded audio\n",
    "* format - defines output format which we will use to analysie the audio\n",
    "* channels - defines number of audio channels we will be recording the audio in\n",
    "* rate - defines what is the rate of playback as per each frame"
   ]
  },
  {
   "cell_type": "code",
   "execution_count": 93,
   "metadata": {},
   "outputs": [],
   "source": [
    "chunk = 1024\n",
    "format = pyaudio.paInt16\n",
    "channels = 1\n",
    "rate = 44100\n"
   ]
  },
  {
   "cell_type": "markdown",
   "metadata": {},
   "source": [
    "##### Audio Recording\n",
    "\n",
    "Audio Recording is done by using **pyaudio** , pyaudio provides us implementaion for recording and storing audio, which we will use to capture and analyse the data."
   ]
  },
  {
   "cell_type": "code",
   "execution_count": 94,
   "metadata": {},
   "outputs": [
    {
     "name": "stdout",
     "output_type": "stream",
     "text": [
      "...Start Recording\n",
      "Recording Stopped...\n"
     ]
    }
   ],
   "source": [
    "# Py audio Instance\n",
    "p = pyaudio.PyAudio()\n",
    "\n",
    "# Defining the audio Params and opening the record stream\n",
    "stream = p.open(format=format,\n",
    "                channels=channels,\n",
    "                rate=rate,\n",
    "                input=True,\n",
    "                frames_per_buffer=chunk)\n",
    "\n",
    "print(\"...Start Recording\")\n",
    "\n",
    "# Frame Variable - to capture the frames as int values\n",
    "frames = []\n",
    "\n",
    "# Mximum number of recording time - can be changed as required\n",
    "seconds = 6\n",
    "\n",
    "# Recording the audio\n",
    "for i in range(0, int(rate/chunk*seconds)):\n",
    "    data = stream.read(chunk)\n",
    "    frames.append(data)\n",
    "\n",
    "print(\"Recording Stopped...\")\n",
    "\n",
    "# Closing the record steam\n",
    "stream.stop_stream()\n",
    "stream.close()\n",
    "p.terminate()\n",
    "\n",
    "# Setting the audio params and saving it\n",
    "wf = wave.open(\"output.wav\", \"wb\")\n",
    "wf.setnchannels(channels)\n",
    "wf.setsampwidth(p.get_sample_size(format))\n",
    "wf.setframerate(rate)\n",
    "wf.writeframes(b''.join(frames))\n",
    "wf.close()\n"
   ]
  },
  {
   "cell_type": "markdown",
   "metadata": {},
   "source": [
    "#### Data Undestanding\n",
    "\n",
    "Exploratory analysis of the data to check the params and visual output of the recorded and sample data"
   ]
  },
  {
   "cell_type": "markdown",
   "metadata": {},
   "source": [
    "##### Audio Analysis\n",
    "* Open the Audio file\n",
    "* Check the Params\n",
    "* Derive the length\n",
    "* Check Frames\n",
    "* Visualise the frames for a samples and recorded audio "
   ]
  },
  {
   "cell_type": "markdown",
   "metadata": {},
   "source": [
    "**Open the Audio File**"
   ]
  },
  {
   "cell_type": "code",
   "execution_count": 95,
   "metadata": {},
   "outputs": [],
   "source": [
    "w_obj = wave.open(\"output.wav\")"
   ]
  },
  {
   "cell_type": "markdown",
   "metadata": {},
   "source": [
    "**Check the Params**"
   ]
  },
  {
   "cell_type": "code",
   "execution_count": 96,
   "metadata": {},
   "outputs": [
    {
     "name": "stdout",
     "output_type": "stream",
     "text": [
      "Number of Channels 1\n",
      "Sample Width 2\n",
      "Frame Rate 44100\n",
      "Number of Frames 264192\n",
      "Values in each frame _wave_params(nchannels=1, sampwidth=2, framerate=44100, nframes=264192, comptype='NONE', compname='not compressed')\n"
     ]
    }
   ],
   "source": [
    "print(\"Number of Channels\", w_obj.getnchannels())\n",
    "print(\"Sample Width\", w_obj.getsampwidth())\n",
    "print(\"Frame Rate\", w_obj.getframerate())\n",
    "print(\"Number of Frames\", w_obj.getnframes())\n",
    "print(\"Values in each frame\", w_obj.getparams())\n"
   ]
  },
  {
   "cell_type": "markdown",
   "metadata": {},
   "source": [
    "**Derive the length**"
   ]
  },
  {
   "cell_type": "code",
   "execution_count": 97,
   "metadata": {},
   "outputs": [
    {
     "name": "stdout",
     "output_type": "stream",
     "text": [
      "Time in Seconds 5.990748299319728\n"
     ]
    }
   ],
   "source": [
    "# Time of the audio\n",
    "t_audio = w_obj.getnframes()/ w_obj.getframerate()\n",
    "print(\"Time in Seconds\",t_audio)"
   ]
  },
  {
   "cell_type": "markdown",
   "metadata": {},
   "source": [
    "**Check Frames**"
   ]
  },
  {
   "cell_type": "code",
   "execution_count": 98,
   "metadata": {},
   "outputs": [
    {
     "name": "stdout",
     "output_type": "stream",
     "text": [
      "<class 'bytes'> <class 'int'>\n",
      "528384\n"
     ]
    }
   ],
   "source": [
    "# Get the frames\n",
    "#  -1 reads all frames\n",
    "frames = w_obj.readframes(-1)\n",
    "print(type(frames), type(frames[0]))\n",
    "# It is as per sample rate i.e, two bytes per sample.\n",
    "print(len(frames))\n",
    "w_obj.close()\n"
   ]
  },
  {
   "cell_type": "markdown",
   "metadata": {},
   "source": [
    "**Visualise Recorded Audio**"
   ]
  },
  {
   "cell_type": "code",
   "execution_count": 99,
   "metadata": {},
   "outputs": [
    {
     "data": {
      "image/png": "[encoded data removed]",
      "text/plain": [
       "<Figure size 1080x360 with 1 Axes>"
      ]
     },
     "metadata": {
      "needs_background": "light"
     },
     "output_type": "display_data"
    }
   ],
   "source": [
    "signal_array = np.frombuffer(frames, dtype=np.int16)\n",
    "times = np.linspace(0, t_audio, num=w_obj.getnframes())\n",
    "plt.figure(figsize=(15, 5))\n",
    "plt.plot(times, signal_array)\n",
    "plt.title(\"Audio Signal\")\n",
    "plt.ylabel(\"Signal wave\")\n",
    "plt.xlabel(\"Time (s)\")\n",
    "plt.xlim(0, t_audio)\n",
    "plt.show()\n"
   ]
  },
  {
   "cell_type": "markdown",
   "metadata": {},
   "source": [
    "**Visualise Speeach Audio**"
   ]
  },
  {
   "cell_type": "code",
   "execution_count": 100,
   "metadata": {},
   "outputs": [
    {
     "data": {
      "image/png": "[encoded data removed]",
      "text/plain": [
       "<Figure size 1080x360 with 1 Axes>"
      ]
     },
     "metadata": {
      "needs_background": "light"
     },
     "output_type": "display_data"
    }
   ],
   "source": [
    "s_obj = wave.open(\"speech_output.wav\")\n",
    "s_frames = s_obj.readframes(-1)\n",
    "signal_array = np.frombuffer(s_frames, dtype=np.int16)\n",
    "times = np.linspace(0, t_audio, num=s_obj.getnframes())\n",
    "plt.figure(figsize=(15, 5))\n",
    "plt.plot(times, signal_array)\n",
    "plt.title(\"Audio Signal\")\n",
    "plt.ylabel(\"Signal wave\")\n",
    "plt.xlabel(\"Time (s)\")\n",
    "plt.xlim(0, t_audio)\n",
    "plt.show()\n"
   ]
  },
  {
   "cell_type": "markdown",
   "metadata": {},
   "source": [
    "**Visualise Blank Audio**"
   ]
  },
  {
   "cell_type": "code",
   "execution_count": 101,
   "metadata": {},
   "outputs": [
    {
     "data": {
      "image/png": "[encoded data removed]",
      "text/plain": [
       "<Figure size 1080x360 with 1 Axes>"
      ]
     },
     "metadata": {
      "needs_background": "light"
     },
     "output_type": "display_data"
    }
   ],
   "source": [
    "b_obj = wave.open(\"blank_output.wav\")\n",
    "b_frames = b_obj.readframes(-1)\n",
    "signal_array = np.frombuffer(b_frames, dtype=np.int16)\n",
    "times = np.linspace(0, t_audio, num=b_obj.getnframes())\n",
    "plt.figure(figsize=(15, 5))\n",
    "plt.plot(times, signal_array)\n",
    "plt.title(\"Audio Signal\")\n",
    "plt.ylabel(\"Signal wave\")\n",
    "plt.xlabel(\"Time (s)\")\n",
    "plt.xlim(0, t_audio)\n",
    "plt.show()\n"
   ]
  },
  {
   "cell_type": "markdown",
   "metadata": {},
   "source": [
    "#### Data Preparation\n",
    "* Open the output file\n",
    "* Feed the output file to Speeach Recognisation API\n",
    "* Analyse the Audio\n"
   ]
  },
  {
   "cell_type": "markdown",
   "metadata": {},
   "source": [
    "**Opening the output file and using the Google API to get the text and analysing it**"
   ]
  },
  {
   "cell_type": "code",
   "execution_count": 102,
   "metadata": {},
   "outputs": [
    {
     "name": "stdout",
     "output_type": "stream",
     "text": [
      "Say something!\n",
      "Decoded Audio:\n",
      "hi how are you I don't feel alright today\n"
     ]
    }
   ],
   "source": [
    "\n",
    "# obtain path to \"Daily_English_Conversation_02_Do_you_speak_English.wav\" in the same folder as this script\n",
    "AUDIO_FILE = path.join(\"output.wav\")\n",
    "sentence = []\n",
    "\n",
    "# use the audio file as the audio source\n",
    "r = sr.Recognizer()\n",
    "with sr.AudioFile(AUDIO_FILE) as source:\n",
    "    print(\"Say something!\")\n",
    "    audio = r.record(source)  # read the entire audio file\n",
    "try:\n",
    "    # for testing purposes, we're just using the default API key\n",
    "    # to use another API key, use `r.recognize_google(audio, key=\"GOOGLE_SPEECH_RECOGNITION_API_KEY\")`\n",
    "    # instead of `r.recognize_google(audio)`\n",
    "    print(\"Decoded Audio:\\n\"+ r.recognize_google(audio))\n",
    "    sentence.append(r.recognize_google(audio))\n",
    "except sr.UnknownValueError:\n",
    "    print(\"Google Speech Recognition could not understand audio\")\n",
    "except sr.RequestError as e:\n",
    "    print(\"Could not request results from Google Speech Recognition service; {0}\".format(e))"
   ]
  },
  {
   "cell_type": "markdown",
   "metadata": {},
   "source": [
    "##### Vectorisation of the data and importing datasets for analysis"
   ]
  },
  {
   "cell_type": "code",
   "execution_count": 103,
   "metadata": {},
   "outputs": [
    {
     "name": "stdout",
     "output_type": "stream",
     "text": [
      "sentence    Wow... Loved this place.\n",
      "label                              1\n",
      "source                          yelp\n",
      "Name: 0, dtype: object\n"
     ]
    }
   ],
   "source": [
    "\n",
    "\n",
    "filepath_dict = {'yelp':   'yelp_labelled.txt',\n",
    "                 'amazon': 'amazon_cells_labelled.txt',\n",
    "                 'imdb':   'imdb_labelled.txt'}\n",
    "\n",
    "df_list = []\n",
    "for source, filepath in filepath_dict.items():\n",
    "    df = pd.read_csv(filepath, names=['sentence', 'label'], sep='\\t')\n",
    "    df['source'] = source\n",
    "    df_list.append(df)\n",
    "\n",
    "df = pd.concat(df_list)\n",
    "print(df.iloc[0])\n",
    "\n",
    "df_yelp = df[df['source'] == 'yelp']\n",
    "\n",
    "sentences = df_yelp['sentence'].values\n",
    "y = df_yelp['label'].values\n",
    "\n",
    "sentences_train, sentences_test, y_train, y_test = train_test_split(\n",
    "   sentences, y, test_size=0.25, random_state=1000)\n",
    "\n",
    "vectorizer = CountVectorizer()\n",
    "try :\n",
    "    vectorizer.fit(sentence)\n",
    "    vectorizer.vocabulary_\n",
    "    predictor=vectorizer.transform(sentence)\n",
    "    X_train = vectorizer.transform(sentences_train)\n",
    "    X_test  = vectorizer.transform(sentences_test)\n",
    "except :\n",
    "    print(\"Improper Audio Input, please check if the audio is recorded and has speeach in it\")"
   ]
  },
  {
   "cell_type": "markdown",
   "metadata": {},
   "source": [
    "#### Modeling\n",
    "Using the prepared data to run through a model prepared to train the model to determine the desirable outcome, in this case **Happy** or **Sad**"
   ]
  },
  {
   "cell_type": "code",
   "execution_count": 104,
   "metadata": {},
   "outputs": [
    {
     "name": "stdout",
     "output_type": "stream",
     "text": [
      "Accuracy: 0.516\n"
     ]
    }
   ],
   "source": [
    "\n",
    "try :\n",
    "    classifier = LogisticRegression()\n",
    "    classifier.fit(X_train, y_train)\n",
    "    score = classifier.score(X_test, y_test)\n",
    "\n",
    "    print(\"Accuracy:\", score)\n",
    "except :\n",
    "    print(\"No Input Provided\")"
   ]
  },
  {
   "cell_type": "markdown",
   "metadata": {},
   "source": [
    "#### Evaluation\n",
    "Checking the accuracy against the refernce data set , that is yelp, amazon, imdb data."
   ]
  },
  {
   "cell_type": "code",
   "execution_count": 105,
   "metadata": {},
   "outputs": [
    {
     "name": "stdout",
     "output_type": "stream",
     "text": [
      "Accuracy for yelp data: 0.7960\n",
      "Accuracy for amazon data: 0.7960\n",
      "Accuracy for imdb data: 0.7487\n"
     ]
    }
   ],
   "source": [
    "for source in df['source'].unique():\n",
    "    df_source = df[df['source'] == source]\n",
    "    sentences = df_source['sentence'].values\n",
    "    y = df_source['label'].values\n",
    "\n",
    "    sentences_train, sentences_test, y_train, y_test = train_test_split(\n",
    "        sentences, y, test_size=0.25, random_state=1000)\n",
    "\n",
    "    vectorizer = CountVectorizer()\n",
    "    vectorizer.fit(sentences_train)\n",
    "    X_train = vectorizer.transform(sentences_train)\n",
    "    X_test  = vectorizer.transform(sentences_test)\n",
    "    predictor = vectorizer.transform(sentence)\n",
    "\n",
    "    model = LogisticRegression()\n",
    "    model.fit(X_train, y_train)\n",
    "    score = model.score(X_test, y_test)\n",
    "    print('Accuracy for {} data: {:.4f}'.format(source, score))"
   ]
  },
  {
   "cell_type": "markdown",
   "metadata": {},
   "source": [
    "#### Deployment of the model"
   ]
  },
  {
   "cell_type": "code",
   "execution_count": 106,
   "metadata": {},
   "outputs": [
    {
     "name": "stdout",
     "output_type": "stream",
     "text": [
      "\"hi how are you I don't feel alright today\" -> This Statment says you are Happy\n"
     ]
    }
   ],
   "source": [
    "try :\n",
    "    modsent = str(sentence).replace('[','').replace(']','')\n",
    "\n",
    "    if model.predict(predictor) == 1:\n",
    "        print(modsent+\" -> This Statment says you are Happy\")\n",
    "    else: print(modsent+\" -> This Statment says you are Sad\")\n",
    "except :\n",
    "    print(\"The Output is not available as there is no input\")"
   ]
  },
  {
   "cell_type": "code",
   "execution_count": 107,
   "metadata": {},
   "outputs": [],
   "source": [
    "pickle.dump(model, open('model.pkl', 'wb'))\n"
   ]
  },
  {
   "cell_type": "markdown",
   "metadata": {},
   "source": [
    "### Using the Pickled Model\n",
    "Deployment has many options as per availabe resources , we have loaded and run the model as our option 1 states.\n",
    "1. We can use the pickled model as shown below\n",
    "2. we can use it as a static file in a flask or any web python framework\n",
    "3. We can use it as a simple python file in a local application"
   ]
  },
  {
   "cell_type": "code",
   "execution_count": 108,
   "metadata": {},
   "outputs": [
    {
     "name": "stdout",
     "output_type": "stream",
     "text": [
      "\"hi how are you I don't feel alright today\" -> This Statment says you are Happy\n"
     ]
    }
   ],
   "source": [
    "pickled_model = pickle.load(open('model.pkl', 'rb'))\n",
    "pickled_model.predict(X_test)\n",
    "\n",
    "\n",
    "try :\n",
    "    modsent = str(sentence).replace('[','').replace(']','')\n",
    "\n",
    "    if pickled_model.predict(predictor) == 1:\n",
    "        print(modsent+\" -> This Statment says you are Happy\")\n",
    "    else: print(modsent+\" -> This Statment says you are Sad\")\n",
    "except :\n",
    "    print(\"The Output is not available as there is no input\")"
   ]
  }
 ],
 "metadata": {
  "kernelspec": {
   "display_name": "Python 3.10.4 ('dbsenvalt')",
   "language": "python",
   "name": "python3"
  },
  "language_info": {
   "codemirror_mode": {
    "name": "ipython",
    "version": 3
   },
   "file_extension": ".py",
   "mimetype": "text/x-python",
   "name": "python",
   "nbconvert_exporter": "python",
   "pygments_lexer": "ipython3",
   "version": "3.10.4"
  },
  "orig_nbformat": 4,
  "vscode": {
   "interpreter": {
    "hash": "b69cd713fd987fe7d1cd2532bcfe146cd06eada8a7acd24118ab58f0a54103e8"
   }
  }
 },
 "nbformat": 4,
 "nbformat_minor": 2
}
