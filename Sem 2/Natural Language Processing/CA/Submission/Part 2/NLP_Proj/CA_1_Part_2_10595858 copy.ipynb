{
 "cells": [
  {
   "cell_type": "markdown",
   "metadata": {},
   "source": [
    "## <p style=\"text-align: center;\">B9AI103_2122_TMD3_CA_1</p>\n",
    "### <p style=\"text-align: center;\"> Details </p>\n",
    "#### <p style=\"text-align: center;\">Name: Sunil Judhistira Gauda</p>\n",
    "#### <p style=\"text-align: center;\">Student ID : 10595858 </p>"
   ]
  },
  {
   "cell_type": "markdown",
   "metadata": {},
   "source": [
    "#### Project - Speeach Emotion Detection using Audio Processing and Speeach Recognition API\n",
    "##### Description\n",
    "- Capture - Recording Audio and Saving it for analysis.\n",
    "- Analysis - Checking the wawe of audio to get visual view of how our audio looks graphically\n",
    "- Audio\n",
    "- Using Logistic Regression and Datasets from the gratious Yelp, Amazon and imdb Datasets i have trained this models and provided a sentiment analysis over the input statement"
   ]
  },
  {
   "cell_type": "markdown",
   "metadata": {},
   "source": [
    "### Business Undestanding\n",
    "Words we use to speak provides combinations of diffrent letters to express emotion of a individual, with speach recognition and NLP we can use those words to describe a particular range of emotion, in this project 2 such extreme emotions are detected to analyze weather the person is **Happy** or **Sad**"
   ]
  },
  {
   "cell_type": "markdown",
   "metadata": {},
   "source": [
    "#### Imports\n",
    "\n",
    "Note : Some imports like pyaudio requires windows sepcific installation for VC++ library, please follow the instructions below with an andminstartor window of a Shell, inside your project environment.\n",
    "* pip install pipwin\n",
    "* pipwin install pyaudio"
   ]
  },
  {
   "cell_type": "code",
   "execution_count": 109,
   "metadata": {},
   "outputs": [
    {
     "name": "stderr",
     "output_type": "stream",
     "text": [
      "[nltk_data] Downloading package stopwords to\n",
      "[nltk_data]     C:\\Users\\sunil\\AppData\\Roaming\\nltk_data...\n",
      "[nltk_data]   Package stopwords is already up-to-date!\n"
     ]
    }
   ],
   "source": [
    "from sklearn.feature_extraction.text import TfidfVectorizer\n",
    "from sklearn.cluster import MiniBatchKMeans\n",
    "from sklearn.metrics import silhouette_score\n",
    "from nltk.sentiment.util import *\n",
    "from nltk.sentiment.vader import SentimentIntensityAnalyzer\n",
    "import pyaudio\n",
    "import numpy as np\n",
    "import wave\n",
    "import speech_recognition as sr\n",
    "from os import path\n",
    "from sklearn.feature_extraction.text import CountVectorizer\n",
    "from sklearn.model_selection import train_test_split\n",
    "import pandas as pd\n",
    "from sklearn.linear_model import LogisticRegression\n",
    "import matplotlib.pyplot as plt\n",
    "import pickle\n",
    "from wordcloud import WordCloud, STOPWORDS\n",
    "from sklearn.cluster import KMeans\n",
    "import matplotlib.pyplot as plt\n",
    "from sklearn import metrics\n",
    "import nltk\n",
    "nltk.download('stopwords')\n",
    "from nltk.corpus import stopwords\n",
    "from sklearn.cluster import KMeans\n"
   ]
  },
  {
   "cell_type": "markdown",
   "metadata": {},
   "source": [
    "#### Data Understanding\n",
    "\n",
    "The data we consume is live data recorded via pyaudio interface, exploration of the data will begin after we record the audio."
   ]
  },
  {
   "cell_type": "markdown",
   "metadata": {},
   "source": [
    "##### Audio Parameters\n",
    "\n",
    "* chunk - defines the arbitary number frame in terms of a memory chunk for the recorded audio\n",
    "* format - defines output format which we will use to analysie the audio\n",
    "* channels - defines number of audio channels we will be recording the audio in\n",
    "* rate - defines what is the rate of playback as per each frame"
   ]
  },
  {
   "cell_type": "code",
   "execution_count": 2,
   "metadata": {},
   "outputs": [],
   "source": [
    "chunk = 1024\n",
    "format = pyaudio.paInt16\n",
    "channels = 1\n",
    "rate = 44100\n"
   ]
  },
  {
   "cell_type": "markdown",
   "metadata": {},
   "source": [
    "##### Audio Recording\n",
    "\n",
    "Audio Recording is done by using **pyaudio** , pyaudio provides us implementaion for recording and storing audio, which we will use to capture and analyse the data."
   ]
  },
  {
   "cell_type": "code",
   "execution_count": 3,
   "metadata": {},
   "outputs": [
    {
     "name": "stdout",
     "output_type": "stream",
     "text": [
      "...Start Recording\n",
      "Recording Stopped...\n"
     ]
    }
   ],
   "source": [
    "# Py audio Instance\n",
    "p = pyaudio.PyAudio()\n",
    "\n",
    "# Defining the audio Params and opening the record stream\n",
    "stream = p.open(format=format,\n",
    "                channels=channels,\n",
    "                rate=rate,\n",
    "                input=True,\n",
    "                frames_per_buffer=chunk)\n",
    "\n",
    "print(\"...Start Recording\")\n",
    "\n",
    "# Frame Variable - to capture the frames as int values\n",
    "frames = []\n",
    "\n",
    "# Mximum number of recording time - can be changed as required\n",
    "seconds = 6\n",
    "\n",
    "# Recording the audio\n",
    "for i in range(0, int(rate/chunk*seconds)):\n",
    "    data = stream.read(chunk)\n",
    "    frames.append(data)\n",
    "\n",
    "print(\"Recording Stopped...\")\n",
    "\n",
    "# Closing the record steam\n",
    "stream.stop_stream()\n",
    "stream.close()\n",
    "p.terminate()\n",
    "\n",
    "# Setting the audio params and saving it\n",
    "wf = wave.open(\"output.wav\", \"wb\")\n",
    "wf.setnchannels(channels)\n",
    "wf.setsampwidth(p.get_sample_size(format))\n",
    "wf.setframerate(rate)\n",
    "wf.writeframes(b''.join(frames))\n",
    "wf.close()\n"
   ]
  },
  {
   "cell_type": "markdown",
   "metadata": {},
   "source": [
    "#### Data Undestanding\n",
    "\n",
    "Exploratory analysis of the data to check the params and visual output of the recorded and sample data"
   ]
  },
  {
   "cell_type": "markdown",
   "metadata": {},
   "source": [
    "##### Audio Analysis\n",
    "* Open the Audio file\n",
    "* Check the Params\n",
    "* Derive the length\n",
    "* Check Frames\n",
    "* Visualise the frames for a samples and recorded audio "
   ]
  },
  {
   "cell_type": "markdown",
   "metadata": {},
   "source": [
    "**Open the Audio File**"
   ]
  },
  {
   "cell_type": "code",
   "execution_count": 4,
   "metadata": {},
   "outputs": [],
   "source": [
    "w_obj = wave.open(\"output.wav\")"
   ]
  },
  {
   "cell_type": "markdown",
   "metadata": {},
   "source": [
    "**Check the Params**"
   ]
  },
  {
   "cell_type": "code",
   "execution_count": 5,
   "metadata": {},
   "outputs": [
    {
     "name": "stdout",
     "output_type": "stream",
     "text": [
      "Number of Channels 1\n",
      "Sample Width 2\n",
      "Frame Rate 44100\n",
      "Number of Frames 264192\n",
      "Values in each frame _wave_params(nchannels=1, sampwidth=2, framerate=44100, nframes=264192, comptype='NONE', compname='not compressed')\n"
     ]
    }
   ],
   "source": [
    "print(\"Number of Channels\", w_obj.getnchannels())\n",
    "print(\"Sample Width\", w_obj.getsampwidth())\n",
    "print(\"Frame Rate\", w_obj.getframerate())\n",
    "print(\"Number of Frames\", w_obj.getnframes())\n",
    "print(\"Values in each frame\", w_obj.getparams())\n"
   ]
  },
  {
   "cell_type": "markdown",
   "metadata": {},
   "source": [
    "**Derive the length**"
   ]
  },
  {
   "cell_type": "code",
   "execution_count": 6,
   "metadata": {},
   "outputs": [
    {
     "name": "stdout",
     "output_type": "stream",
     "text": [
      "Time in Seconds 5.990748299319728\n"
     ]
    }
   ],
   "source": [
    "# Time of the audio\n",
    "t_audio = w_obj.getnframes()/ w_obj.getframerate()\n",
    "print(\"Time in Seconds\",t_audio)"
   ]
  },
  {
   "cell_type": "markdown",
   "metadata": {},
   "source": [
    "**Check Frames**"
   ]
  },
  {
   "cell_type": "code",
   "execution_count": 7,
   "metadata": {},
   "outputs": [
    {
     "name": "stdout",
     "output_type": "stream",
     "text": [
      "<class 'bytes'> <class 'int'>\n",
      "528384\n"
     ]
    }
   ],
   "source": [
    "# Get the frames\n",
    "#  -1 reads all frames\n",
    "frames = w_obj.readframes(-1)\n",
    "print(type(frames), type(frames[0]))\n",
    "# It is as per sample rate i.e, two bytes per sample.\n",
    "print(len(frames))\n",
    "w_obj.close()\n"
   ]
  },
  {
   "cell_type": "markdown",
   "metadata": {},
   "source": [
    "**Visualise Recorded Audio**"
   ]
  },
  {
   "cell_type": "code",
   "execution_count": 8,
   "metadata": {},
   "outputs": [
    {
     "data": {
      "image/png": "[encoded data removed]",
      "text/plain": [
       "<Figure size 1080x360 with 1 Axes>"
      ]
     },
     "metadata": {
      "needs_background": "light"
     },
     "output_type": "display_data"
    }
   ],
   "source": [
    "signal_array = np.frombuffer(frames, dtype=np.int16)\n",
    "times = np.linspace(0, t_audio, num=w_obj.getnframes())\n",
    "plt.figure(figsize=(15, 5))\n",
    "plt.plot(times, signal_array)\n",
    "plt.title(\"Audio Signal\")\n",
    "plt.ylabel(\"Signal wave\")\n",
    "plt.xlabel(\"Time (s)\")\n",
    "plt.xlim(0, t_audio)\n",
    "plt.show()\n"
   ]
  },
  {
   "cell_type": "markdown",
   "metadata": {},
   "source": [
    "**Visualise Speeach Audio**"
   ]
  },
  {
   "cell_type": "code",
   "execution_count": 9,
   "metadata": {},
   "outputs": [
    {
     "data": {
      "image/png": "[encoded data removed]",
      "text/plain": [
       "<Figure size 1080x360 with 1 Axes>"
      ]
     },
     "metadata": {
      "needs_background": "light"
     },
     "output_type": "display_data"
    }
   ],
   "source": [
    "s_obj = wave.open(\"speech_output.wav\")\n",
    "s_frames = s_obj.readframes(-1)\n",
    "signal_array = np.frombuffer(s_frames, dtype=np.int16)\n",
    "times = np.linspace(0, t_audio, num=s_obj.getnframes())\n",
    "plt.figure(figsize=(15, 5))\n",
    "plt.plot(times, signal_array)\n",
    "plt.title(\"Audio Signal\")\n",
    "plt.ylabel(\"Signal wave\")\n",
    "plt.xlabel(\"Time (s)\")\n",
    "plt.xlim(0, t_audio)\n",
    "plt.show()\n"
   ]
  },
  {
   "cell_type": "markdown",
   "metadata": {},
   "source": [
    "**Visualise Blank Audio**"
   ]
  },
  {
   "cell_type": "code",
   "execution_count": 10,
   "metadata": {},
   "outputs": [
    {
     "data": {
      "image/png": "[encoded data removed]",
      "text/plain": [
       "<Figure size 1080x360 with 1 Axes>"
      ]
     },
     "metadata": {
      "needs_background": "light"
     },
     "output_type": "display_data"
    }
   ],
   "source": [
    "b_obj = wave.open(\"blank_output.wav\")\n",
    "b_frames = b_obj.readframes(-1)\n",
    "signal_array = np.frombuffer(b_frames, dtype=np.int16)\n",
    "times = np.linspace(0, t_audio, num=b_obj.getnframes())\n",
    "plt.figure(figsize=(15, 5))\n",
    "plt.plot(times, signal_array)\n",
    "plt.title(\"Audio Signal\")\n",
    "plt.ylabel(\"Signal wave\")\n",
    "plt.xlabel(\"Time (s)\")\n",
    "plt.xlim(0, t_audio)\n",
    "plt.show()\n"
   ]
  },
  {
   "cell_type": "markdown",
   "metadata": {},
   "source": [
    "#### Data Preparation\n",
    "* Open the output file\n",
    "* Feed the output file to Speeach Recognisation API\n",
    "* Analyse the Audio\n"
   ]
  },
  {
   "cell_type": "markdown",
   "metadata": {},
   "source": [
    "**Opening the output file and using the Google API to get the text and analysing it**"
   ]
  },
  {
   "cell_type": "code",
   "execution_count": 11,
   "metadata": {},
   "outputs": [
    {
     "name": "stdout",
     "output_type": "stream",
     "text": [
      "Say something!\n",
      "Decoded Audio:\n",
      "hey at 17 thank you\n"
     ]
    }
   ],
   "source": [
    "\n",
    "# obtain path to \"Daily_English_Conversation_02_Do_you_speak_English.wav\" in the same folder as this script\n",
    "AUDIO_FILE = path.join(\"output.wav\")\n",
    "sentence = []\n",
    "\n",
    "# use the audio file as the audio source\n",
    "r = sr.Recognizer()\n",
    "with sr.AudioFile(AUDIO_FILE) as source:\n",
    "    print(\"Say something!\")\n",
    "    audio = r.record(source)  # read the entire audio file\n",
    "try:\n",
    "    # for testing purposes, we're just using the default API key\n",
    "    # to use another API key, use `r.recognize_google(audio, key=\"GOOGLE_SPEECH_RECOGNITION_API_KEY\")`\n",
    "    # instead of `r.recognize_google(audio)`\n",
    "    print(\"Decoded Audio:\\n\"+ r.recognize_google(audio))\n",
    "    sentence.append(r.recognize_google(audio))\n",
    "except sr.UnknownValueError:\n",
    "    print(\"Google Speech Recognition could not understand audio\")\n",
    "except sr.RequestError as e:\n",
    "    print(\"Could not request results from Google Speech Recognition service; {0}\".format(e))"
   ]
  },
  {
   "cell_type": "markdown",
   "metadata": {},
   "source": [
    "**Generating** a **wordcloud** to see what words are contained in our sentence"
   ]
  },
  {
   "cell_type": "code",
   "execution_count": 12,
   "metadata": {},
   "outputs": [
    {
     "data": {
      "image/png": "[encoded data removed]",
      "text/plain": [
       "<Figure size 576x576 with 1 Axes>"
      ]
     },
     "metadata": {
      "needs_background": "light"
     },
     "output_type": "display_data"
    }
   ],
   "source": [
    "wordcloud = WordCloud(width = 800, height = 800,\n",
    "                background_color ='white',\n",
    "                stopwords = STOPWORDS,\n",
    "                min_font_size = 10).generate(sentence[0])\n",
    " \n",
    "# plot the WordCloud image                      \n",
    "plt.figure(figsize = (8, 8), facecolor = None)\n",
    "plt.imshow(wordcloud)\n",
    "plt.axis(\"off\")\n",
    "plt.tight_layout(pad = 0)\n",
    " \n",
    "plt.show()"
   ]
  },
  {
   "cell_type": "markdown",
   "metadata": {},
   "source": [
    "### Logistic Regression Model"
   ]
  },
  {
   "cell_type": "markdown",
   "metadata": {},
   "source": [
    "##### Vectorisation of the data and importing datasets for analysis"
   ]
  },
  {
   "cell_type": "code",
   "execution_count": 13,
   "metadata": {},
   "outputs": [
    {
     "name": "stdout",
     "output_type": "stream",
     "text": [
      "sentence    Wow... Loved this place.\n",
      "label                              1\n",
      "source                          yelp\n",
      "Name: 0, dtype: object\n"
     ]
    }
   ],
   "source": [
    "\n",
    "\n",
    "filepath_dict = {'yelp':   'yelp_labelled.txt',\n",
    "                 'amazon': 'amazon_cells_labelled.txt',\n",
    "                 'imdb':   'imdb_labelled.txt'}\n",
    "\n",
    "df_list = []\n",
    "for source, filepath in filepath_dict.items():\n",
    "    df = pd.read_csv(filepath, names=['sentence', 'label'], sep='\\t')\n",
    "    df['source'] = source\n",
    "    df_list.append(df)\n",
    "\n",
    "df = pd.concat(df_list)\n",
    "print(df.iloc[0])\n",
    "\n",
    "df_yelp = df[df['source'] == 'yelp']\n",
    "\n",
    "sentences = df_yelp['sentence'].values\n",
    "y = df_yelp['label'].values\n",
    "\n",
    "sentences_train, sentences_test, y_train, y_test = train_test_split(\n",
    "   sentences, y, test_size=0.25, random_state=1000)\n",
    "\n",
    "vectorizer = CountVectorizer()\n",
    "try :\n",
    "    vectorizer.fit(sentence)\n",
    "    vectorizer.vocabulary_\n",
    "    predictor=vectorizer.transform(sentence)\n",
    "    X_train = vectorizer.transform(sentences_train)\n",
    "    X_test  = vectorizer.transform(sentences_test)\n",
    "except :\n",
    "    print(\"Improper Audio Input, please check if the audio is recorded and has speeach in it\")"
   ]
  },
  {
   "cell_type": "markdown",
   "metadata": {},
   "source": [
    "#### Modeling\n",
    "Using the prepared data to run through a model prepared to train the model to determine the desirable outcome, in this case **Happy** or **Sad**"
   ]
  },
  {
   "cell_type": "code",
   "execution_count": 107,
   "metadata": {},
   "outputs": [
    {
     "name": "stdout",
     "output_type": "stream",
     "text": [
      "Accuracy: 0.524\n"
     ]
    }
   ],
   "source": [
    "\n",
    "try :\n",
    "    classifier = LogisticRegression()\n",
    "    classifier.fit(X_train, y_train)\n",
    "    score = classifier.score(X_test, y_test)\n",
    "\n",
    "    print(\"Accuracy:\", score)\n",
    "except :\n",
    "    print(\"No Input Provided\")"
   ]
  },
  {
   "cell_type": "markdown",
   "metadata": {},
   "source": [
    "#### Evaluation\n",
    "Checking the accuracy against the refernce data set , that is yelp, amazon, imdb data."
   ]
  },
  {
   "cell_type": "code",
   "execution_count": 136,
   "metadata": {},
   "outputs": [
    {
     "name": "stdout",
     "output_type": "stream",
     "text": [
      "Accuracy for yelp data: 0.7960\n",
      "Accuracy for amazon data: 0.7960\n",
      "Accuracy for imdb data: 0.7487\n"
     ]
    }
   ],
   "source": [
    "for source in df['source'].unique():\n",
    "    df_source = df[df['source'] == source]\n",
    "    sentences = df_source['sentence'].values\n",
    "    y = df_source['label'].values\n",
    "\n",
    "    sentences_train, sentences_test, y_train, y_test = train_test_split(\n",
    "        sentences, y, test_size=0.25, random_state=1000)\n",
    "\n",
    "    vectorizer = CountVectorizer()\n",
    "    vectorizer.fit(sentences_train)\n",
    "    X_train = vectorizer.transform(sentences_train)\n",
    "    X_test  = vectorizer.transform(sentences_test)\n",
    "    predictor = vectorizer.transform(sentence)\n",
    "\n",
    "    model = LogisticRegression()\n",
    "    model.fit(X_train, y_train)\n",
    "    score = model.score(X_test, y_test)\n",
    "    y_preds = model.predict(X_test)\n",
    "    accu = metrics.accuracy_score(y_test ,y_preds)\n",
    "    print('Accuracy for {} data: {:.4f}'.format(source, score))"
   ]
  },
  {
   "cell_type": "code",
   "execution_count": 137,
   "metadata": {},
   "outputs": [
    {
     "name": "stdout",
     "output_type": "stream",
     "text": [
      "'hey at 17 thank you' -> This Statment says you are Sad\n"
     ]
    }
   ],
   "source": [
    "try :\n",
    "    modsent = str(sentence).replace('[','').replace(']','')\n",
    "\n",
    "    if model.predict(predictor) == 1:\n",
    "        print(modsent+\" -> This Statment says you are Happy\")\n",
    "    else: print(modsent+\" -> This Statment says you are Sad\")\n",
    "except :\n",
    "    print(\"The Output is not available as there is no input\")"
   ]
  },
  {
   "cell_type": "markdown",
   "metadata": {},
   "source": [
    "### K-Means Unspervised Model Clustering"
   ]
  },
  {
   "cell_type": "code",
   "execution_count": 141,
   "metadata": {},
   "outputs": [
    {
     "name": "stderr",
     "output_type": "stream",
     "text": [
      "C:\\Users\\sunil\\AppData\\Local\\Temp\\ipykernel_4036\\871922901.py:4: FutureWarning: The frame.append method is deprecated and will be removed from pandas in a future version. Use pandas.concat instead.\n",
      "  final_df = am_df.append(ye_df)\n",
      "C:\\Users\\sunil\\AppData\\Local\\Temp\\ipykernel_4036\\871922901.py:5: FutureWarning: The frame.append method is deprecated and will be removed from pandas in a future version. Use pandas.concat instead.\n",
      "  final_df.append(im_df)\n"
     ]
    },
    {
     "data": {
      "text/html": [
       "<div>\n",
       "<style scoped>\n",
       "    .dataframe tbody tr th:only-of-type {\n",
       "        vertical-align: middle;\n",
       "    }\n",
       "\n",
       "    .dataframe tbody tr th {\n",
       "        vertical-align: top;\n",
       "    }\n",
       "\n",
       "    .dataframe thead th {\n",
       "        text-align: right;\n",
       "    }\n",
       "</style>\n",
       "<table border=\"1\" class=\"dataframe\">\n",
       "  <thead>\n",
       "    <tr style=\"text-align: right;\">\n",
       "      <th></th>\n",
       "      <th>sentence</th>\n",
       "      <th>label</th>\n",
       "    </tr>\n",
       "  </thead>\n",
       "  <tbody>\n",
       "    <tr>\n",
       "      <th>0</th>\n",
       "      <td>Wow... Loved this place.</td>\n",
       "      <td>1</td>\n",
       "    </tr>\n",
       "    <tr>\n",
       "      <th>1</th>\n",
       "      <td>Crust is not good.</td>\n",
       "      <td>0</td>\n",
       "    </tr>\n",
       "    <tr>\n",
       "      <th>2</th>\n",
       "      <td>Not tasty and the texture was just nasty.</td>\n",
       "      <td>0</td>\n",
       "    </tr>\n",
       "    <tr>\n",
       "      <th>3</th>\n",
       "      <td>Stopped by during the late May bank holiday of...</td>\n",
       "      <td>1</td>\n",
       "    </tr>\n",
       "    <tr>\n",
       "      <th>4</th>\n",
       "      <td>The selection on the menu was great and so wer...</td>\n",
       "      <td>1</td>\n",
       "    </tr>\n",
       "    <tr>\n",
       "      <th>...</th>\n",
       "      <td>...</td>\n",
       "      <td>...</td>\n",
       "    </tr>\n",
       "    <tr>\n",
       "      <th>743</th>\n",
       "      <td>I just got bored watching Jessice Lange take h...</td>\n",
       "      <td>0</td>\n",
       "    </tr>\n",
       "    <tr>\n",
       "      <th>744</th>\n",
       "      <td>Unfortunately, any virtue in this film's produ...</td>\n",
       "      <td>0</td>\n",
       "    </tr>\n",
       "    <tr>\n",
       "      <th>745</th>\n",
       "      <td>In a word, it is embarrassing.</td>\n",
       "      <td>0</td>\n",
       "    </tr>\n",
       "    <tr>\n",
       "      <th>746</th>\n",
       "      <td>Exceptionally bad!</td>\n",
       "      <td>0</td>\n",
       "    </tr>\n",
       "    <tr>\n",
       "      <th>747</th>\n",
       "      <td>All in all its an insult to one's intelligence...</td>\n",
       "      <td>0</td>\n",
       "    </tr>\n",
       "  </tbody>\n",
       "</table>\n",
       "<p>2748 rows × 2 columns</p>\n",
       "</div>"
      ],
      "text/plain": [
       "                                              sentence  label\n",
       "0                             Wow... Loved this place.      1\n",
       "1                                   Crust is not good.      0\n",
       "2            Not tasty and the texture was just nasty.      0\n",
       "3    Stopped by during the late May bank holiday of...      1\n",
       "4    The selection on the menu was great and so wer...      1\n",
       "..                                                 ...    ...\n",
       "743  I just got bored watching Jessice Lange take h...      0\n",
       "744  Unfortunately, any virtue in this film's produ...      0\n",
       "745                   In a word, it is embarrassing.        0\n",
       "746                               Exceptionally bad!        0\n",
       "747  All in all its an insult to one's intelligence...      0\n",
       "\n",
       "[2748 rows x 2 columns]"
      ]
     },
     "execution_count": 141,
     "metadata": {},
     "output_type": "execute_result"
    }
   ],
   "source": [
    "am_df = pd.read_csv('yelp_labelled.txt', names=['sentence', 'label'], sep='\\t')\n",
    "ye_df = pd.read_csv('amazon_cells_labelled.txt', names=['sentence', 'label'], sep='\\t')\n",
    "im_df = pd.read_csv('imdb_labelled.txt', names=['sentence', 'label'], sep='\\t')\n",
    "final_df = am_df.append(ye_df)\n",
    "final_df.append(im_df)"
   ]
  },
  {
   "cell_type": "code",
   "execution_count": 142,
   "metadata": {},
   "outputs": [
    {
     "data": {
      "text/plain": [
       "\"i, me, my, myself, we, our, ours, ourselves, you, you're, you've, you'll, you'd, your, yours, yourself, yourselves, he, him, his, himself, she, she's, her, hers, herself, it, it's, its, itself, they, them, their, theirs, themselves, what, which, who, whom, this, that, that'll, these, those, am, is, are, was, were, be, been, being, have, has, had, having, do, does, did, doing, a, an, the, and, but, if, or, because, as, until, while, of, at, by, for, with, about, against, between, into, through, during, before, after, above, below, to, from, up, down, in, out, on, off, over, under, again, further, then, once, here, there, when, where, why, how, all, any, both, each, few, more, most, other, some, such, no, nor, not, only, own, same, so, than, too, very, s, t, can, will, just, don, don't, should, should've, now, d, ll, m, o, re, ve, y, ain, aren, aren't, couldn, couldn't, didn, didn't, doesn, doesn't, hadn, hadn't, hasn, hasn't, haven, haven't, isn, isn't, ma, mightn, mightn't, mustn, mustn't, needn, needn't, shan, shan't, shouldn, shouldn't, wasn, wasn't, weren, weren't, won, won't, wouldn, wouldn't\""
      ]
     },
     "execution_count": 142,
     "metadata": {},
     "output_type": "execute_result"
    }
   ],
   "source": [
    "\", \".join(stopwords.words('english'))\n"
   ]
  },
  {
   "cell_type": "code",
   "execution_count": 143,
   "metadata": {},
   "outputs": [],
   "source": [
    "STOPWORDS = set(stopwords.words('english'))\n",
    "\n",
    "\n",
    "def remove_stopwords(text):\n",
    "    \"\"\"custom function to remove the stopwords\"\"\"\n",
    "    return \" \".join([word for word in str(text).split() if word not in STOPWORDS])\n"
   ]
  },
  {
   "cell_type": "code",
   "execution_count": 144,
   "metadata": {},
   "outputs": [
    {
     "data": {
      "text/plain": [
       "0                                  Wow... Loved place.\n",
       "1                                          Crust good.\n",
       "2                             Not tasty texture nasty.\n",
       "3    Stopped late May bank holiday Rick Steve recom...\n",
       "4                     The selection menu great prices.\n",
       "Name: sentence, dtype: object"
      ]
     },
     "execution_count": 144,
     "metadata": {},
     "output_type": "execute_result"
    }
   ],
   "source": [
    "final_df['sentence'] = final_df['sentence'].apply(remove_stopwords)\n",
    "final_df['sentence'].head()"
   ]
  },
  {
   "cell_type": "code",
   "execution_count": 145,
   "metadata": {},
   "outputs": [
    {
     "data": {
      "text/plain": [
       "[('I', 597),\n",
       " ('The', 274),\n",
       " ('phone', 110),\n",
       " ('good', 109),\n",
       " ('This', 99),\n",
       " ('It', 88),\n",
       " ('food', 80),\n",
       " ('place', 78),\n",
       " ('like', 75),\n",
       " ('great', 70)]"
      ]
     },
     "execution_count": 145,
     "metadata": {},
     "output_type": "execute_result"
    }
   ],
   "source": [
    "from collections import Counter\n",
    "cnt = Counter()\n",
    "for text in final_df['sentence'].values:\n",
    "    for word in text.split():\n",
    "        cnt[word] += 1\n",
    "cnt.most_common(10)"
   ]
  },
  {
   "cell_type": "code",
   "execution_count": 146,
   "metadata": {},
   "outputs": [
    {
     "data": {
      "text/plain": [
       "[('once!', 1),\n",
       " ('unit,', 1),\n",
       " ('answer', 1),\n",
       " ('(irda).', 1),\n",
       " ('port', 1),\n",
       " ('infra', 1),\n",
       " ('disappoint', 1),\n",
       " ('Picture.', 1),\n",
       " ('Match', 1)]"
      ]
     },
     "execution_count": 146,
     "metadata": {},
     "output_type": "execute_result"
    }
   ],
   "source": [
    "cnt.most_common()[:-10:-1]\n"
   ]
  },
  {
   "cell_type": "code",
   "execution_count": 147,
   "metadata": {},
   "outputs": [],
   "source": [
    "vectorizer = CountVectorizer(analyzer='word',\n",
    "                             lowercase=False, )\n"
   ]
  },
  {
   "cell_type": "code",
   "execution_count": 148,
   "metadata": {},
   "outputs": [
    {
     "name": "stderr",
     "output_type": "stream",
     "text": [
      "c:\\ProgramData\\Miniconda3\\envs\\dbsenvalt\\lib\\site-packages\\sklearn\\utils\\deprecation.py:87: FutureWarning: Function get_feature_names is deprecated; get_feature_names is deprecated in 1.0 and will be removed in 1.2. Please use get_feature_names_out instead.\n",
      "  warnings.warn(msg, category=FutureWarning)\n"
     ]
    }
   ],
   "source": [
    "vectorizer = TfidfVectorizer(min_df=4, max_features=10000)\n",
    "vz = vectorizer.fit_transform(final_df['sentence'])\n",
    "tfidf = dict(zip(vectorizer.get_feature_names(), vectorizer.idf_))\n"
   ]
  },
  {
   "cell_type": "code",
   "execution_count": 149,
   "metadata": {},
   "outputs": [
    {
     "name": "stderr",
     "output_type": "stream",
     "text": [
      "[nltk_data] Downloading package vader_lexicon to\n",
      "[nltk_data]     C:\\Users\\sunil\\AppData\\Roaming\\nltk_data...\n",
      "[nltk_data]   Package vader_lexicon is already up-to-date!\n"
     ]
    },
    {
     "data": {
      "text/plain": [
       "True"
      ]
     },
     "execution_count": 149,
     "metadata": {},
     "output_type": "execute_result"
    }
   ],
   "source": [
    "nltk.download('vader_lexicon')\n"
   ]
  },
  {
   "cell_type": "code",
   "execution_count": 150,
   "metadata": {},
   "outputs": [],
   "source": [
    "\n",
    "\n",
    "sentiAnalyzer = SentimentIntensityAnalyzer()\n"
   ]
  },
  {
   "cell_type": "code",
   "execution_count": 151,
   "metadata": {},
   "outputs": [
    {
     "data": {
      "text/plain": [
       "<AxesSubplot:title={'center':'sentiment analysis'}>"
      ]
     },
     "execution_count": 151,
     "metadata": {},
     "output_type": "execute_result"
    },
    {
     "data": {
      "image/png": "[encoded data removed]",
      "text/plain": [
       "<Figure size 432x288 with 1 Axes>"
      ]
     },
     "metadata": {
      "needs_background": "light"
     },
     "output_type": "display_data"
    }
   ],
   "source": [
    "final_df['sentiment_compound_polarity']=final_df['sentence'].apply(lambda x:sentiAnalyzer.polarity_scores(x)['compound'])\n",
    "final_df['sentiment_neutral']=final_df['sentence'].apply(lambda x:sentiAnalyzer.polarity_scores(x)['neu'])\n",
    "final_df['sentiment_negative']=final_df['sentence'].apply(lambda x:sentiAnalyzer.polarity_scores(x)['neg'])\n",
    "final_df['sentiment_pos']=final_df['sentence'].apply(lambda x:sentiAnalyzer.polarity_scores(x)['pos'])\n",
    "final_df['sentiment_type']=''\n",
    "final_df.loc[final_df.sentiment_compound_polarity>0,'sentiment_type']='POSITIVE'\n",
    "final_df.loc[final_df.sentiment_compound_polarity==0,'sentiment_type']='NEUTRAL'\n",
    "final_df.loc[final_df.sentiment_compound_polarity<0,'sentiment_type']='NEGATIVE'\n",
    "final_df.sentiment_type.value_counts().plot(kind='bar',title=\"sentiment analysis\")"
   ]
  },
  {
   "cell_type": "code",
   "execution_count": 152,
   "metadata": {},
   "outputs": [
    {
     "name": "stderr",
     "output_type": "stream",
     "text": [
      "c:\\ProgramData\\Miniconda3\\envs\\dbsenvalt\\lib\\site-packages\\sklearn\\utils\\deprecation.py:87: FutureWarning: Function get_feature_names is deprecated; get_feature_names is deprecated in 1.0 and will be removed in 1.2. Please use get_feature_names_out instead.\n",
      "  warnings.warn(msg, category=FutureWarning)\n"
     ]
    }
   ],
   "source": [
    "\n",
    "num_clusters = 6\n",
    "kmeans_model = MiniBatchKMeans(n_clusters=num_clusters, init='k-means++', n_init=1, \n",
    "                         init_size=1000, batch_size=1000, verbose=False, max_iter=1000)\n",
    "kmeans = kmeans_model.fit(vz)\n",
    "kmeans_clusters = kmeans.predict(vz)\n",
    "kmeans_distances = kmeans.transform(vz)\n",
    "sorted_centroids = kmeans.cluster_centers_.argsort()[:, ::-1]\n",
    "terms = vectorizer.get_feature_names()\n",
    "# for i in range(num_clusters):\n",
    "#     print(\"Cluster %d:\" % i)\n",
    "#     for j in sorted_centroids[i, :10]:\n",
    "#         print(' %s' % terms[j])\n",
    "#     print()"
   ]
  },
  {
   "cell_type": "code",
   "execution_count": 153,
   "metadata": {},
   "outputs": [],
   "source": [
    "features = vectorizer.fit_transform(final_df['sentence'])"
   ]
  },
  {
   "cell_type": "code",
   "execution_count": 154,
   "metadata": {},
   "outputs": [],
   "source": [
    "twss = []\n",
    "sa = []\n",
    "for i in range(2, 10):\n",
    "    kmeans = KMeans(n_clusters=i, init='k-means++')\n",
    "    kmeans.fit(vz)\n",
    "    Ypreds = kmeans.predict(vz)\n",
    "    twss.append(kmeans.inertia_)\n",
    "    if i > 1:\n",
    "        sa.append(silhouette_score(vz, Ypreds))\n"
   ]
  },
  {
   "cell_type": "code",
   "execution_count": 155,
   "metadata": {},
   "outputs": [
    {
     "data": {
      "text/plain": [
       "0.061"
      ]
     },
     "execution_count": 155,
     "metadata": {},
     "output_type": "execute_result"
    }
   ],
   "source": [
    "metrics.accuracy_score(final_df['label'], Ypreds)\n"
   ]
  },
  {
   "cell_type": "code",
   "execution_count": 156,
   "metadata": {},
   "outputs": [],
   "source": [
    "features_nd = features.toarray()\n"
   ]
  },
  {
   "cell_type": "code",
   "execution_count": 157,
   "metadata": {},
   "outputs": [
    {
     "data": {
      "text/plain": [
       "Text(0, 0.5, 'Total within-cluster sum of squares')"
      ]
     },
     "execution_count": 157,
     "metadata": {},
     "output_type": "execute_result"
    },
    {
     "data": {
      "image/png": "[encoded data removed]",
      "text/plain": [
       "<Figure size 432x288 with 1 Axes>"
      ]
     },
     "metadata": {
      "needs_background": "light"
     },
     "output_type": "display_data"
    }
   ],
   "source": [
    "plt.plot(range(2, 10), twss)\n",
    "plt.title('The Elbow Method')\n",
    "plt.xlabel('Number of Clusters')\n",
    "plt.ylabel('Total within-cluster sum of squares')\n"
   ]
  },
  {
   "cell_type": "code",
   "execution_count": 158,
   "metadata": {},
   "outputs": [
    {
     "data": {
      "text/plain": [
       "Text(0, 0.5, 'Average silhouette score')"
      ]
     },
     "execution_count": 158,
     "metadata": {},
     "output_type": "execute_result"
    },
    {
     "data": {
      "image/png": "[encoded data removed]",
      "text/plain": [
       "<Figure size 432x288 with 1 Axes>"
      ]
     },
     "metadata": {
      "needs_background": "light"
     },
     "output_type": "display_data"
    }
   ],
   "source": [
    "plt.plot(range(2, 10), sa)\n",
    "plt.title('silhouette analysis')\n",
    "plt.xlabel('Number of Clusters')\n",
    "plt.ylabel('Average silhouette score')\n"
   ]
  },
  {
   "cell_type": "code",
   "execution_count": 159,
   "metadata": {},
   "outputs": [
    {
     "name": "stdout",
     "output_type": "stream",
     "text": [
      "'hey at 17 thank you' -> This Statment says you are Sad\n"
     ]
    }
   ],
   "source": [
    "\n",
    "transformed = vectorizer.transform(sentence)\n",
    "pred_val = kmeans.predict(transformed)\n",
    "if pred_val[0] == 1:\n",
    "    print(modsent+\" -> This Statment says you are Happy\")\n",
    "else: \n",
    "    print(modsent+\" -> This Statment says you are Sad\")"
   ]
  },
  {
   "cell_type": "markdown",
   "metadata": {},
   "source": [
    "#### Deployment of the model"
   ]
  },
  {
   "cell_type": "code",
   "execution_count": 128,
   "metadata": {},
   "outputs": [
    {
     "ename": "NameError",
     "evalue": "name 'model' is not defined",
     "output_type": "error",
     "traceback": [
      "\u001b[1;31m---------------------------------------------------------------------------\u001b[0m",
      "\u001b[1;31mNameError\u001b[0m                                 Traceback (most recent call last)",
      "\u001b[1;32md:\\Overtime\\github\\DBSEdu\\Sem 2\\Natural Language Processing\\CA\\Submission\\Part 2\\NLP_Proj\\CA_1_Part_2_10595858 copy.ipynb Cell 60\u001b[0m in \u001b[0;36m<cell line: 1>\u001b[1;34m()\u001b[0m\n\u001b[1;32m----> <a href='vscode-notebook-cell:/d%3A/Overtime/github/DBSEdu/Sem%202/Natural%20Language%20Processing/CA/Submission/Part%202/NLP_Proj/CA_1_Part_2_10595858%20copy.ipynb#ch0000093?line=0'>1</a>\u001b[0m pickle\u001b[39m.\u001b[39mdump(model, \u001b[39mopen\u001b[39m(\u001b[39m'\u001b[39m\u001b[39mmodel.pkl\u001b[39m\u001b[39m'\u001b[39m, \u001b[39m'\u001b[39m\u001b[39mwb\u001b[39m\u001b[39m'\u001b[39m))\n",
      "\u001b[1;31mNameError\u001b[0m: name 'model' is not defined"
     ]
    }
   ],
   "source": [
    "pickle.dump(model, open('model.pkl', 'wb'))\n"
   ]
  },
  {
   "cell_type": "markdown",
   "metadata": {},
   "source": [
    "### Using the Pickled Model\n",
    "Deployment has many options as per availabe resources , we have loaded and run the model as our option 1 states.\n",
    "1. We can use the pickled model as shown below\n",
    "2. we can use it as a static file in a flask or any web python framework\n",
    "3. We can use it as a simple python file in a local application"
   ]
  },
  {
   "cell_type": "code",
   "execution_count": null,
   "metadata": {},
   "outputs": [],
   "source": [
    "pickled_model = pickle.load(open('model.pkl', 'rb'))\n",
    "pickled_model.predict(X_test)\n",
    "\n",
    "\n",
    "try :\n",
    "    modsent = str(sentence).replace('[','').replace(']','')\n",
    "\n",
    "    if pickled_model.predict(predictor) == 1:\n",
    "        print(modsent+\" -> This Statment says you are Happy\")\n",
    "    else: print(modsent+\" -> This Statment says you are Sad\")\n",
    "except :\n",
    "    print(\"The Output is not available as there is no input\")"
   ]
  }
 ],
 "metadata": {
  "kernelspec": {
   "display_name": "Python 3.10.4 ('dbsenvalt')",
   "language": "python",
   "name": "python3"
  },
  "language_info": {
   "codemirror_mode": {
    "name": "ipython",
    "version": 3
   },
   "file_extension": ".py",
   "mimetype": "text/x-python",
   "name": "python",
   "nbconvert_exporter": "python",
   "pygments_lexer": "ipython3",
   "version": "3.10.4"
  },
  "orig_nbformat": 4,
  "vscode": {
   "interpreter": {
    "hash": "b69cd713fd987fe7d1cd2532bcfe146cd06eada8a7acd24118ab58f0a54103e8"
   }
  }
 },
 "nbformat": 4,
 "nbformat_minor": 2
}
