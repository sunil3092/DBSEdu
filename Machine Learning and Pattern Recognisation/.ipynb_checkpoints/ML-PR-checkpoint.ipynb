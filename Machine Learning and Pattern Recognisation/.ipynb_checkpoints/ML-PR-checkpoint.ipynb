{
 "cells": [
  {
   "cell_type": "code",
   "execution_count": 1,
   "id": "07648575",
   "metadata": {},
   "outputs": [
    {
     "data": {
      "text/plain": [
       "array([[1, 0, 0],\n",
       "       [0, 1, 0],\n",
       "       [1, 0, 0],\n",
       "       [0, 0, 1],\n",
       "       [1, 0, 0],\n",
       "       [0, 0, 1],\n",
       "       [0, 0, 1],\n",
       "       [0, 0, 1],\n",
       "       [0, 0, 1],\n",
       "       [0, 1, 0]])"
      ]
     },
     "execution_count": 1,
     "metadata": {},
     "output_type": "execute_result"
    }
   ],
   "source": [
    "from scipy.stats import multinomial\n",
    "data=multinomial.rvs(1, [0.3, 0.2, 0.5],size=10)\n",
    "data"
   ]
  },
  {
   "cell_type": "code",
   "execution_count": 4,
   "id": "92c5dc91",
   "metadata": {
    "scrolled": true
   },
   "outputs": [
    {
     "data": {
      "text/plain": [
       "array([[1, 1, 1],\n",
       "       [0, 2, 1],\n",
       "       [1, 2, 0],\n",
       "       [1, 2, 0]])"
      ]
     },
     "execution_count": 4,
     "metadata": {},
     "output_type": "execute_result"
    }
   ],
   "source": [
    "outcome=multinomial.rvs(3, [0.1, 0.7,0.2],size=4)\n",
    "outcome"
   ]
  },
  {
   "cell_type": "code",
   "execution_count": 16,
   "id": "fa89c615",
   "metadata": {},
   "outputs": [
    {
     "data": {
      "text/plain": [
       "0.002359296000000007"
      ]
     },
     "execution_count": 16,
     "metadata": {},
     "output_type": "execute_result"
    }
   ],
   "source": [
    "outcome=multinomial.pmf(x = [8,1,1,0],p= [0.4, 0.2,0.2,0.2],n=10)\n",
    "outcome"
   ]
  },
  {
   "cell_type": "code",
   "execution_count": 17,
   "id": "9ff63905",
   "metadata": {},
   "outputs": [
    {
     "data": {
      "text/plain": [
       "0.13500000000000018"
      ]
     },
     "execution_count": 17,
     "metadata": {},
     "output_type": "execute_result"
    }
   ],
   "source": [
    "outcome=multinomial.pmf(x = [1,2,3],p= [0.2, 0.3,0.5],n=6)\n",
    "outcome"
   ]
  },
  {
   "cell_type": "code",
   "execution_count": 1,
   "id": "f50b8dca",
   "metadata": {},
   "outputs": [
    {
     "data": {
      "text/plain": [
       "0.049787068367863944"
      ]
     },
     "execution_count": 1,
     "metadata": {},
     "output_type": "execute_result"
    }
   ],
   "source": [
    "rate=3\n",
    "from scipy.stats import poisson, multinomial\n",
    "#a\n",
    "x=0 \n",
    "pmf = poisson.pmf(x, rate) \n",
    "pmf\n"
   ]
  },
  {
   "cell_type": "code",
   "execution_count": null,
   "id": "51d67709",
   "metadata": {},
   "outputs": [],
   "source": []
  }
 ],
 "metadata": {
  "kernelspec": {
   "display_name": "Python 3 (ipykernel)",
   "language": "python",
   "name": "python3"
  },
  "language_info": {
   "codemirror_mode": {
    "name": "ipython",
    "version": 3
   },
   "file_extension": ".py",
   "mimetype": "text/x-python",
   "name": "python",
   "nbconvert_exporter": "python",
   "pygments_lexer": "ipython3",
   "version": "3.9.7"
  }
 },
 "nbformat": 4,
 "nbformat_minor": 5
}
