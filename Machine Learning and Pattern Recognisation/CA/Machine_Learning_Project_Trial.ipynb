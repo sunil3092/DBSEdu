{
  "cells": [
    {
      "cell_type": "markdown",
      "metadata": {
        "id": "FRQZMKTiokHW"
      },
      "source": [
        "# Trial\n"
      ]
    },
    {
      "cell_type": "code",
      "execution_count": 2,
      "metadata": {
        "colab": {
          "base_uri": "https://localhost:8080/",
          "height": 543
        },
        "id": "pth6p7pcop-o",
        "outputId": "c8fc7c21-d8c4-4095-bee6-d202916924a3"
      },
      "outputs": [
        {
          "name": "stderr",
          "output_type": "stream",
          "text": [
            "C:\\Users\\sunil\\miniconda3\\lib\\site-packages\\statsmodels\\tsa\\tsatools.py:142: FutureWarning: In a future version of pandas all arguments of concat except for the argument 'objs' will be keyword-only.\n",
            "  x = pd.concat(x[::order], 1)\n"
          ]
        },
        {
          "data": {
            "text/html": [
              "<table class=\"simpletable\">\n",
              "<caption>Generalized Linear Model Regression Results</caption>\n",
              "<tr>\n",
              "  <th>Dep. Variable:</th>         <td>price</td>      <th>  No. Observations:  </th>   <td> 15289</td>  \n",
              "</tr>\n",
              "<tr>\n",
              "  <th>Model:</th>                  <td>GLM</td>       <th>  Df Residuals:      </th>   <td> 15284</td>  \n",
              "</tr>\n",
              "<tr>\n",
              "  <th>Model Family:</th>        <td>Binomial</td>     <th>  Df Model:          </th>   <td>     4</td>  \n",
              "</tr>\n",
              "<tr>\n",
              "  <th>Link Function:</th>         <td>logit</td>      <th>  Scale:             </th>  <td>  1.0000</td> \n",
              "</tr>\n",
              "<tr>\n",
              "  <th>Method:</th>                <td>IRLS</td>       <th>  Log-Likelihood:    </th>  <td>    -inf</td> \n",
              "</tr>\n",
              "<tr>\n",
              "  <th>Date:</th>            <td>Tue, 29 Mar 2022</td> <th>  Deviance:          </th> <td>2.7461e+10</td>\n",
              "</tr>\n",
              "<tr>\n",
              "  <th>Time:</th>                <td>16:52:29</td>     <th>  Pearson chi2:      </th>  <td>5.27e+28</td> \n",
              "</tr>\n",
              "<tr>\n",
              "  <th>No. Iterations:</th>          <td>2</td>        <th>                     </th>      <td> </td>    \n",
              "</tr>\n",
              "<tr>\n",
              "  <th>Covariance Type:</th>     <td>nonrobust</td>    <th>                     </th>      <td> </td>    \n",
              "</tr>\n",
              "</table>\n",
              "<table class=\"simpletable\">\n",
              "<tr>\n",
              "          <td></td>             <th>coef</th>     <th>std err</th>      <th>z</th>      <th>P>|z|</th>  <th>[0.025</th>    <th>0.975]</th>  \n",
              "</tr>\n",
              "<tr>\n",
              "  <th>const</th>             <td> 3.084e+20</td> <td> 1.59e+06</td> <td> 1.94e+14</td> <td> 0.000</td> <td> 3.08e+20</td> <td> 3.08e+20</td>\n",
              "</tr>\n",
              "<tr>\n",
              "  <th>duration</th>          <td> 5.807e+16</td> <td> 9.12e+04</td> <td> 6.36e+11</td> <td> 0.000</td> <td> 5.81e+16</td> <td> 5.81e+16</td>\n",
              "</tr>\n",
              "<tr>\n",
              "  <th>stops_two_or_more</th> <td> 4.871e+17</td> <td> 7.89e+06</td> <td> 6.17e+10</td> <td> 0.000</td> <td> 4.87e+17</td> <td> 4.87e+17</td>\n",
              "</tr>\n",
              "<tr>\n",
              "  <th>stops_zero</th>        <td>-4.967e+19</td> <td>  1.6e+06</td> <td> -3.1e+13</td> <td> 0.000</td> <td>-4.97e+19</td> <td>-4.97e+19</td>\n",
              "</tr>\n",
              "<tr>\n",
              "  <th>class_Economy</th>     <td>-2.552e+20</td> <td> 1.16e+06</td> <td>-2.21e+14</td> <td> 0.000</td> <td>-2.55e+20</td> <td>-2.55e+20</td>\n",
              "</tr>\n",
              "</table>"
            ],
            "text/plain": [
              "<class 'statsmodels.iolib.summary.Summary'>\n",
              "\"\"\"\n",
              "                 Generalized Linear Model Regression Results                  \n",
              "==============================================================================\n",
              "Dep. Variable:                  price   No. Observations:                15289\n",
              "Model:                            GLM   Df Residuals:                    15284\n",
              "Model Family:                Binomial   Df Model:                            4\n",
              "Link Function:                  logit   Scale:                          1.0000\n",
              "Method:                          IRLS   Log-Likelihood:                   -inf\n",
              "Date:                Tue, 29 Mar 2022   Deviance:                   2.7461e+10\n",
              "Time:                        16:52:29   Pearson chi2:                 5.27e+28\n",
              "No. Iterations:                     2                                         \n",
              "Covariance Type:            nonrobust                                         \n",
              "=====================================================================================\n",
              "                        coef    std err          z      P>|z|      [0.025      0.975]\n",
              "-------------------------------------------------------------------------------------\n",
              "const              3.084e+20   1.59e+06   1.94e+14      0.000    3.08e+20    3.08e+20\n",
              "duration           5.807e+16   9.12e+04   6.36e+11      0.000    5.81e+16    5.81e+16\n",
              "stops_two_or_more  4.871e+17   7.89e+06   6.17e+10      0.000    4.87e+17    4.87e+17\n",
              "stops_zero        -4.967e+19    1.6e+06   -3.1e+13      0.000   -4.97e+19   -4.97e+19\n",
              "class_Economy     -2.552e+20   1.16e+06  -2.21e+14      0.000   -2.55e+20   -2.55e+20\n",
              "=====================================================================================\n",
              "\"\"\""
            ]
          },
          "execution_count": 2,
          "metadata": {},
          "output_type": "execute_result"
        }
      ],
      "source": [
        "import pandas as pd\n",
        "import numpy as np\n",
        "import statsmodels.api as sm\n",
        "\n",
        "dataset= pd.read_csv('Clean_Dataset.csv')\n",
        "df = pd.DataFrame(dataset)\n",
        "\n",
        "#Cleaning Data Using flights from Delhi to Mumbai Only!\n",
        "df = df.loc[(df[\"source_city\"] == \"Delhi\") & (df[\"destination_city\"] == \"Mumbai\")]\n",
        "#Selecting Input\n",
        "X=df.drop(['price','Unnamed: 0','airline','flight','departure_time','arrival_time','days_left','source_city','destination_city'],axis=1)\n",
        "y=df['price'] \n",
        "\n",
        "X = sm.add_constant(X)\n",
        "X = pd.get_dummies(X, columns=['stops','class'], drop_first=True)\n",
        "model_logistic= sm.GLM(y, X, family=sm.families.Binomial()) \n",
        "res = model_logistic.fit()\n",
        "res.summary()"
      ]
    },
    {
      "cell_type": "markdown",
      "metadata": {
        "id": "8jNK9ODn3dwR"
      },
      "source": [
        "# To Find The Outliers\n"
      ]
    },
    {
      "cell_type": "code",
      "execution_count": 3,
      "metadata": {
        "id": "cqMTd4Lc3c6p"
      },
      "outputs": [
        {
          "name": "stdout",
          "output_type": "stream",
          "text": [
            "4381.0 36712.0\n",
            "outliers in dataset is [95657, 85527, 86137, 86137, 86776, 91575, 85801, 85801, 85801, 87929, 87817, 85801, 85801, 90281, 90281]\n",
            "85208.5 -44115.5\n"
          ]
        }
      ],
      "source": [
        "Q1=y.quantile(0.25)\n",
        "Q3=y.quantile(0.75)\n",
        "print(Q1,Q3)\n",
        "\n",
        "IQR=Q3-Q1\n",
        "LW=Q1-1.5*IQR\n",
        "UW=Q3+1.5*IQR\n",
        "\n",
        "outliers = [] \n",
        "for i in y: \n",
        "    if i > UW or i<LW: \n",
        "        outliers.append(i) \n",
        "print('outliers in dataset is', outliers)\n",
        "print(UW, LW)"
      ]
    },
    {
      "cell_type": "markdown",
      "metadata": {
        "id": "MBxRx_mm6Ak7"
      },
      "source": [
        "# ML Part"
      ]
    },
    {
      "cell_type": "code",
      "execution_count": 4,
      "metadata": {
        "colab": {
          "base_uri": "https://localhost:8080/"
        },
        "id": "mVq00ALCtefs",
        "outputId": "082f8399-8cf7-44a0-a5ef-d4cc9cc143ca"
      },
      "outputs": [
        {
          "name": "stdout",
          "output_type": "stream",
          "text": [
            "RMSE test SVR - RBF 22935.150576946096\n",
            "RMSE test SVR - linear 20262.440989694976\n",
            "RMSE test linear Regresion  7014.534637286703\n",
            "RMSE test SVR - poly 22555.005114786745\n"
          ]
        },
        {
          "data": {
            "text/plain": [
              "[None, None, None, None]"
            ]
          },
          "execution_count": 4,
          "metadata": {},
          "output_type": "execute_result"
        }
      ],
      "source": [
        "import pandas as pd\n",
        "import seaborn as sns \n",
        "from sklearn.metrics import mean_squared_error\n",
        "from math import sqrt\n",
        "from sklearn.svm import SVR\n",
        "from sklearn.linear_model import LinearRegression\n",
        "import numpy as np\n",
        "import matplotlib.pyplot as plt\n",
        "import time\n",
        "from sklearn.model_selection import train_test_split \n",
        "from numpy import mean\n",
        "\n",
        "\n",
        "svr_rbf = SVR(kernel='rbf')\n",
        "svr_lin = SVR(kernel='linear')\n",
        "svr_poly=SVR(kernel='poly')\n",
        "\n",
        "lr = LinearRegression()\n",
        "\n",
        "def launch_model(name,model, X, y):\n",
        "  RMSE=[]\n",
        "  for i in range(1):\n",
        "    X_train,X_test,y_train,y_test=train_test_split(X,y,test_size=0.5)\n",
        "    model.fit(X_train, y_train)\n",
        "    y_pred = model.predict(X_test)\n",
        "    rmse=sqrt(mean_squared_error(y_test, y_pred))\n",
        "    RMSE.append(rmse)\n",
        "  print ('RMSE test',name, mean(RMSE))\n",
        "\n",
        "\n",
        "results = []\n",
        "results.append(launch_model('SVR - RBF', svr_rbf, X,y))\n",
        "results.append(launch_model('SVR - linear', svr_lin, X,y))\n",
        "results.append(launch_model('linear Regresion ', lr, X,y))\n",
        "results.append(launch_model('SVR - poly', svr_poly, X,y))\n",
        "results"
      ]
    },
    {
      "cell_type": "code",
      "execution_count": null,
      "metadata": {
        "id": "mOwEQWcq6ebU"
      },
      "outputs": [],
      "source": []
    }
  ],
  "metadata": {
    "colab": {
      "name": "Machine_Learning Project_Trial.ipynb",
      "provenance": []
    },
    "kernelspec": {
      "display_name": "Python 3",
      "name": "python3"
    },
    "language_info": {
      "codemirror_mode": {
        "name": "ipython",
        "version": 3
      },
      "file_extension": ".py",
      "mimetype": "text/x-python",
      "name": "python",
      "nbconvert_exporter": "python",
      "pygments_lexer": "ipython3",
      "version": "3.9.7"
    }
  },
  "nbformat": 4,
  "nbformat_minor": 0
}
