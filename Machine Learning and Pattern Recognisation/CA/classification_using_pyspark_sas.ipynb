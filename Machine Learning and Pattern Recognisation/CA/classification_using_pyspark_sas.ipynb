{
  "cells": [
    {
      "cell_type": "markdown",
      "metadata": {
        "id": "fqLlo1OfBJ88"
      },
      "source": [
        "#MLLib for classification problem using PySpark"
      ]
    },
    {
      "cell_type": "code",
      "execution_count": 2,
      "metadata": {
        "colab": {
          "base_uri": "https://localhost:8080/"
        },
        "id": "OE5J5uEvBHE8",
        "outputId": "7904b113-81a9-4d03-80f7-35112cbf6efd"
      },
      "outputs": [
        {
          "name": "stdout",
          "output_type": "stream",
          "text": [
            "Requirement already satisfied: pyspark in c:\\users\\sunil\\miniconda3\\lib\\site-packages (3.2.1)\n",
            "Requirement already satisfied: py4j==0.10.9.3 in c:\\users\\sunil\\miniconda3\\lib\\site-packages (from pyspark) (0.10.9.3)\n"
          ]
        }
      ],
      "source": [
        "!pip install pyspark"
      ]
    },
    {
      "cell_type": "code",
      "execution_count": 3,
      "metadata": {
        "id": "ZhUdMozkBf4C"
      },
      "outputs": [],
      "source": [
        "#   We'll start by loading the required libraries for this tutorial.\n",
        "from pyspark import SparkContext\n",
        "from pyspark.sql import SQLContext\n",
        "from pyspark.ml.feature import VectorAssembler \n",
        "import pandas as pd"
      ]
    },
    {
      "cell_type": "code",
      "execution_count": 4,
      "metadata": {
        "id": "JIlywDfcCXXB"
      },
      "outputs": [],
      "source": [
        "# create a spark session \n",
        "from pyspark.sql import SparkSession\n",
        "\n",
        "spark = SparkSession \\\n",
        "    .builder \\\n",
        "    .appName(\"ML using pyspark\") \\\n",
        "    .getOrCreate()"
      ]
    },
    {
      "cell_type": "markdown",
      "metadata": {
        "id": "AXrOfHBoaTyr"
      },
      "source": []
    },
    {
      "cell_type": "code",
      "execution_count": 5,
      "metadata": {
        "colab": {
          "base_uri": "https://localhost:8080/"
        },
        "id": "GsJTa___B4VB",
        "outputId": "29fc3301-e73f-41ac-e545-5462c0c32083"
      },
      "outputs": [
        {
          "name": "stderr",
          "output_type": "stream",
          "text": [
            "C:\\Users\\sunil\\miniconda3\\lib\\site-packages\\pyspark\\sql\\context.py:77: FutureWarning: Deprecated in 3.0.0. Use SparkSession.builder.getOrCreate() instead.\n",
            "  warnings.warn(\n"
          ]
        },
        {
          "ename": "AnalysisException",
          "evalue": "Path does not exist: file:/c:/Users/sunil/DBS Repo/DBS/DBSEdu/Machine Learning and Pattern Recognisation/CA/Seed_Data.csv",
          "output_type": "error",
          "traceback": [
            "\u001b[1;31m---------------------------------------------------------------------------\u001b[0m",
            "\u001b[1;31mAnalysisException\u001b[0m                         Traceback (most recent call last)",
            "\u001b[1;32m~\\AppData\\Local\\Temp/ipykernel_21896/2895240174.py\u001b[0m in \u001b[0;36m<module>\u001b[1;34m\u001b[0m\n\u001b[0;32m      3\u001b[0m \u001b[1;33m\u001b[0m\u001b[0m\n\u001b[0;32m      4\u001b[0m \u001b[0msqlContext\u001b[0m \u001b[1;33m=\u001b[0m \u001b[0mSQLContext\u001b[0m\u001b[1;33m(\u001b[0m\u001b[0mspark\u001b[0m\u001b[1;33m)\u001b[0m\u001b[1;33m\u001b[0m\u001b[1;33m\u001b[0m\u001b[0m\n\u001b[1;32m----> 5\u001b[1;33m \u001b[0mdf\u001b[0m \u001b[1;33m=\u001b[0m \u001b[0msqlContext\u001b[0m\u001b[1;33m.\u001b[0m\u001b[0mread\u001b[0m\u001b[1;33m.\u001b[0m\u001b[0mformat\u001b[0m\u001b[1;33m(\u001b[0m\u001b[1;34m'com.databricks.spark.csv'\u001b[0m\u001b[1;33m)\u001b[0m\u001b[1;33m.\u001b[0m\u001b[0moptions\u001b[0m\u001b[1;33m(\u001b[0m\u001b[0mheader\u001b[0m\u001b[1;33m=\u001b[0m\u001b[1;34m'true'\u001b[0m\u001b[1;33m,\u001b[0m \u001b[0minferschema\u001b[0m\u001b[1;33m=\u001b[0m\u001b[1;34m'true'\u001b[0m\u001b[1;33m)\u001b[0m\u001b[1;33m.\u001b[0m\u001b[0mload\u001b[0m\u001b[1;33m(\u001b[0m\u001b[1;34m'Seed_Data.csv'\u001b[0m\u001b[1;33m)\u001b[0m\u001b[1;33m\u001b[0m\u001b[1;33m\u001b[0m\u001b[0m\n\u001b[0m\u001b[0;32m      6\u001b[0m \u001b[0mdf\u001b[0m\u001b[1;33m.\u001b[0m\u001b[0mtake\u001b[0m\u001b[1;33m(\u001b[0m\u001b[1;36m5\u001b[0m\u001b[1;33m)\u001b[0m\u001b[1;33m\u001b[0m\u001b[1;33m\u001b[0m\u001b[0m\n",
            "\u001b[1;32m~\\miniconda3\\lib\\site-packages\\pyspark\\sql\\readwriter.py\u001b[0m in \u001b[0;36mload\u001b[1;34m(self, path, format, schema, **options)\u001b[0m\n\u001b[0;32m    156\u001b[0m         \u001b[0mself\u001b[0m\u001b[1;33m.\u001b[0m\u001b[0moptions\u001b[0m\u001b[1;33m(\u001b[0m\u001b[1;33m**\u001b[0m\u001b[0moptions\u001b[0m\u001b[1;33m)\u001b[0m\u001b[1;33m\u001b[0m\u001b[1;33m\u001b[0m\u001b[0m\n\u001b[0;32m    157\u001b[0m         \u001b[1;32mif\u001b[0m \u001b[0misinstance\u001b[0m\u001b[1;33m(\u001b[0m\u001b[0mpath\u001b[0m\u001b[1;33m,\u001b[0m \u001b[0mstr\u001b[0m\u001b[1;33m)\u001b[0m\u001b[1;33m:\u001b[0m\u001b[1;33m\u001b[0m\u001b[1;33m\u001b[0m\u001b[0m\n\u001b[1;32m--> 158\u001b[1;33m             \u001b[1;32mreturn\u001b[0m \u001b[0mself\u001b[0m\u001b[1;33m.\u001b[0m\u001b[0m_df\u001b[0m\u001b[1;33m(\u001b[0m\u001b[0mself\u001b[0m\u001b[1;33m.\u001b[0m\u001b[0m_jreader\u001b[0m\u001b[1;33m.\u001b[0m\u001b[0mload\u001b[0m\u001b[1;33m(\u001b[0m\u001b[0mpath\u001b[0m\u001b[1;33m)\u001b[0m\u001b[1;33m)\u001b[0m\u001b[1;33m\u001b[0m\u001b[1;33m\u001b[0m\u001b[0m\n\u001b[0m\u001b[0;32m    159\u001b[0m         \u001b[1;32melif\u001b[0m \u001b[0mpath\u001b[0m \u001b[1;32mis\u001b[0m \u001b[1;32mnot\u001b[0m \u001b[1;32mNone\u001b[0m\u001b[1;33m:\u001b[0m\u001b[1;33m\u001b[0m\u001b[1;33m\u001b[0m\u001b[0m\n\u001b[0;32m    160\u001b[0m             \u001b[1;32mif\u001b[0m \u001b[0mtype\u001b[0m\u001b[1;33m(\u001b[0m\u001b[0mpath\u001b[0m\u001b[1;33m)\u001b[0m \u001b[1;33m!=\u001b[0m \u001b[0mlist\u001b[0m\u001b[1;33m:\u001b[0m\u001b[1;33m\u001b[0m\u001b[1;33m\u001b[0m\u001b[0m\n",
            "\u001b[1;32m~\\miniconda3\\lib\\site-packages\\py4j\\java_gateway.py\u001b[0m in \u001b[0;36m__call__\u001b[1;34m(self, *args)\u001b[0m\n\u001b[0;32m   1319\u001b[0m \u001b[1;33m\u001b[0m\u001b[0m\n\u001b[0;32m   1320\u001b[0m         \u001b[0manswer\u001b[0m \u001b[1;33m=\u001b[0m \u001b[0mself\u001b[0m\u001b[1;33m.\u001b[0m\u001b[0mgateway_client\u001b[0m\u001b[1;33m.\u001b[0m\u001b[0msend_command\u001b[0m\u001b[1;33m(\u001b[0m\u001b[0mcommand\u001b[0m\u001b[1;33m)\u001b[0m\u001b[1;33m\u001b[0m\u001b[1;33m\u001b[0m\u001b[0m\n\u001b[1;32m-> 1321\u001b[1;33m         return_value = get_return_value(\n\u001b[0m\u001b[0;32m   1322\u001b[0m             answer, self.gateway_client, self.target_id, self.name)\n\u001b[0;32m   1323\u001b[0m \u001b[1;33m\u001b[0m\u001b[0m\n",
            "\u001b[1;32m~\\miniconda3\\lib\\site-packages\\pyspark\\sql\\utils.py\u001b[0m in \u001b[0;36mdeco\u001b[1;34m(*a, **kw)\u001b[0m\n\u001b[0;32m    115\u001b[0m                 \u001b[1;31m# Hide where the exception came from that shows a non-Pythonic\u001b[0m\u001b[1;33m\u001b[0m\u001b[1;33m\u001b[0m\u001b[0m\n\u001b[0;32m    116\u001b[0m                 \u001b[1;31m# JVM exception message.\u001b[0m\u001b[1;33m\u001b[0m\u001b[1;33m\u001b[0m\u001b[0m\n\u001b[1;32m--> 117\u001b[1;33m                 \u001b[1;32mraise\u001b[0m \u001b[0mconverted\u001b[0m \u001b[1;32mfrom\u001b[0m \u001b[1;32mNone\u001b[0m\u001b[1;33m\u001b[0m\u001b[1;33m\u001b[0m\u001b[0m\n\u001b[0m\u001b[0;32m    118\u001b[0m             \u001b[1;32melse\u001b[0m\u001b[1;33m:\u001b[0m\u001b[1;33m\u001b[0m\u001b[1;33m\u001b[0m\u001b[0m\n\u001b[0;32m    119\u001b[0m                 \u001b[1;32mraise\u001b[0m\u001b[1;33m\u001b[0m\u001b[1;33m\u001b[0m\u001b[0m\n",
            "\u001b[1;31mAnalysisException\u001b[0m: Path does not exist: file:/c:/Users/sunil/DBS Repo/DBS/DBSEdu/Machine Learning and Pattern Recognisation/CA/Seed_Data.csv"
          ]
        }
      ],
      "source": [
        "from pyspark import SparkConf, SparkContext\n",
        "from pyspark.sql import SQLContext\n",
        " \n",
        "sqlContext = SQLContext(spark)\n",
        "df = sqlContext.read.format('com.databricks.spark.csv').options(header='true', inferschema='true').load('Seed_Data.csv')\n",
        "df.take(5)"
      ]
    },
    {
      "cell_type": "code",
      "execution_count": null,
      "metadata": {
        "colab": {
          "base_uri": "https://localhost:8080/",
          "height": 327
        },
        "id": "JOKD1c-2C6TC",
        "outputId": "f0673494-fbfd-4022-f4a2-6ba0f14d4655"
      },
      "outputs": [
        {
          "data": {
            "text/html": [
              "<div>\n",
              "<style scoped>\n",
              "    .dataframe tbody tr th:only-of-type {\n",
              "        vertical-align: middle;\n",
              "    }\n",
              "\n",
              "    .dataframe tbody tr th {\n",
              "        vertical-align: top;\n",
              "    }\n",
              "\n",
              "    .dataframe thead th {\n",
              "        text-align: right;\n",
              "    }\n",
              "</style>\n",
              "<table border=\"1\" class=\"dataframe\">\n",
              "  <thead>\n",
              "    <tr style=\"text-align: right;\">\n",
              "      <th></th>\n",
              "      <th>0</th>\n",
              "      <th>1</th>\n",
              "      <th>2</th>\n",
              "      <th>3</th>\n",
              "      <th>4</th>\n",
              "    </tr>\n",
              "  </thead>\n",
              "  <tbody>\n",
              "    <tr>\n",
              "      <th>summary</th>\n",
              "      <td>count</td>\n",
              "      <td>mean</td>\n",
              "      <td>stddev</td>\n",
              "      <td>min</td>\n",
              "      <td>max</td>\n",
              "    </tr>\n",
              "    <tr>\n",
              "      <th>A</th>\n",
              "      <td>210</td>\n",
              "      <td>14.847523809523816</td>\n",
              "      <td>2.9096994306873647</td>\n",
              "      <td>10.59</td>\n",
              "      <td>21.18</td>\n",
              "    </tr>\n",
              "    <tr>\n",
              "      <th>P</th>\n",
              "      <td>210</td>\n",
              "      <td>14.559285714285718</td>\n",
              "      <td>1.3059587265640225</td>\n",
              "      <td>12.41</td>\n",
              "      <td>17.25</td>\n",
              "    </tr>\n",
              "    <tr>\n",
              "      <th>C</th>\n",
              "      <td>210</td>\n",
              "      <td>0.8709985714285714</td>\n",
              "      <td>0.023629416583846364</td>\n",
              "      <td>0.8081</td>\n",
              "      <td>0.9183</td>\n",
              "    </tr>\n",
              "    <tr>\n",
              "      <th>LK</th>\n",
              "      <td>210</td>\n",
              "      <td>5.628533333333335</td>\n",
              "      <td>0.44306347772645016</td>\n",
              "      <td>4.899</td>\n",
              "      <td>6.675</td>\n",
              "    </tr>\n",
              "    <tr>\n",
              "      <th>WK</th>\n",
              "      <td>210</td>\n",
              "      <td>3.258604761904762</td>\n",
              "      <td>0.37771444490658673</td>\n",
              "      <td>2.63</td>\n",
              "      <td>4.033</td>\n",
              "    </tr>\n",
              "    <tr>\n",
              "      <th>A_Coef</th>\n",
              "      <td>210</td>\n",
              "      <td>3.7002009523809516</td>\n",
              "      <td>1.503557130821779</td>\n",
              "      <td>0.7651</td>\n",
              "      <td>8.456</td>\n",
              "    </tr>\n",
              "    <tr>\n",
              "      <th>LKG</th>\n",
              "      <td>210</td>\n",
              "      <td>5.408071428571429</td>\n",
              "      <td>0.4914804991024053</td>\n",
              "      <td>4.519</td>\n",
              "      <td>6.55</td>\n",
              "    </tr>\n",
              "    <tr>\n",
              "      <th>target</th>\n",
              "      <td>210</td>\n",
              "      <td>1.0</td>\n",
              "      <td>0.818447591071135</td>\n",
              "      <td>0</td>\n",
              "      <td>2</td>\n",
              "    </tr>\n",
              "  </tbody>\n",
              "</table>\n",
              "</div>"
            ],
            "text/plain": [
              "             0                   1                     2       3       4\n",
              "summary  count                mean                stddev     min     max\n",
              "A          210  14.847523809523816    2.9096994306873647   10.59   21.18\n",
              "P          210  14.559285714285718    1.3059587265640225   12.41   17.25\n",
              "C          210  0.8709985714285714  0.023629416583846364  0.8081  0.9183\n",
              "LK         210   5.628533333333335   0.44306347772645016   4.899   6.675\n",
              "WK         210   3.258604761904762   0.37771444490658673    2.63   4.033\n",
              "A_Coef     210  3.7002009523809516     1.503557130821779  0.7651   8.456\n",
              "LKG        210   5.408071428571429    0.4914804991024053   4.519    6.55\n",
              "target     210                 1.0     0.818447591071135       0       2"
            ]
          },
          "execution_count": 7,
          "metadata": {
            "tags": []
          },
          "output_type": "execute_result"
        }
      ],
      "source": [
        "df.describe()\n",
        "\n",
        "df.describe().toPandas().transpose()"
      ]
    },
    {
      "cell_type": "code",
      "execution_count": null,
      "metadata": {
        "colab": {
          "base_uri": "https://localhost:8080/"
        },
        "id": "Sbh-4vabDGWR",
        "outputId": "307e4fe1-1a4b-43a9-c515-f21ba79ee990"
      },
      "outputs": [
        {
          "name": "stdout",
          "output_type": "stream",
          "text": [
            "+--------------------+------+\n",
            "|            features|target|\n",
            "+--------------------+------+\n",
            "|[15.26,14.84,0.87...|     0|\n",
            "|[14.88,14.57,0.88...|     0|\n",
            "|[14.29,14.09,0.90...|     0|\n",
            "+--------------------+------+\n",
            "only showing top 3 rows\n",
            "\n"
          ]
        }
      ],
      "source": [
        "#data prepration \n",
        "\n",
        "from pyspark.ml.feature import VectorAssembler\n",
        "inputs=['A', 'P', 'C', 'LK', 'WK','A_Coef', 'LKG']\n",
        "vectorAssembler = VectorAssembler(inputCols = inputs, outputCol = 'features')\n",
        "v_df = vectorAssembler.transform(df)\n",
        "v_df = v_df.select(['features', 'target'])\n",
        "v_df.show(3)"
      ]
    },
    {
      "cell_type": "code",
      "execution_count": null,
      "metadata": {
        "id": "kJAlDka0DsnB"
      },
      "outputs": [],
      "source": [
        "#split the dataset\n",
        "\n",
        "splits = v_df.randomSplit([0.7, 0.3])\n",
        "train_df = splits[0]\n",
        "test_df = splits[1]\n",
        " "
      ]
    },
    {
      "cell_type": "markdown",
      "metadata": {
        "id": "7JdboSiwe2_X"
      },
      "source": [
        "# apply logistic regression in pyspark"
      ]
    },
    {
      "cell_type": "markdown",
      "metadata": {
        "id": "QCD0nfylfL44"
      },
      "source": [
        "train the model using trainset"
      ]
    },
    {
      "cell_type": "code",
      "execution_count": null,
      "metadata": {
        "id": "jfVlg_erB3DJ"
      },
      "outputs": [],
      "source": [
        "from pyspark.ml.classification import LogisticRegression\n",
        "\n",
        " \n",
        "lr = LogisticRegression(featuresCol = 'features', labelCol = 'target', maxIter=10)\n",
        "lrModel = lr.fit(train_df)"
      ]
    },
    {
      "cell_type": "markdown",
      "metadata": {
        "id": "BfmkrwC-fQIy"
      },
      "source": [
        "evaluate the model"
      ]
    },
    {
      "cell_type": "code",
      "execution_count": null,
      "metadata": {
        "colab": {
          "base_uri": "https://localhost:8080/"
        },
        "id": "V7BoBHc4HPnR",
        "outputId": "e5caadcb-b122-4a02-f803-a395cc453544"
      },
      "outputs": [
        {
          "name": "stdout",
          "output_type": "stream",
          "text": [
            "0.9215686274509803 0.9215686274509804 0.9215686274509804\n"
          ]
        }
      ],
      "source": [
        " trainingSummary = lrModel.summary\n",
        "accuracy = trainingSummary.accuracy\n",
        "precision = trainingSummary.weightedPrecision\n",
        "recall = trainingSummary.weightedRecall\n",
        "print(accuracy,precision,recall)"
      ]
    },
    {
      "cell_type": "markdown",
      "metadata": {
        "id": "d4oGLnnQJTE4"
      },
      "source": [
        "#Example 2: redo the task of classification using Decision Tree  classifier."
      ]
    },
    {
      "cell_type": "code",
      "execution_count": null,
      "metadata": {
        "id": "QEB0lwio-0av"
      },
      "outputs": [],
      "source": [
        "from pyspark.ml.classification import DecisionTreeClassifier\n",
        "\n",
        " \n",
        "dtc = DecisionTreeClassifier(featuresCol = 'features', labelCol = 'target')\n",
        "dtcModel = dtc.fit(train_df)"
      ]
    },
    {
      "cell_type": "code",
      "execution_count": null,
      "metadata": {
        "colab": {
          "base_uri": "https://localhost:8080/"
        },
        "id": "_2F7oN8M-2X6",
        "outputId": "95b4bca5-9334-4c64-833d-c64d166e63ca"
      },
      "outputs": [
        {
          "data": {
            "text/plain": [
              "DataFrame[features: vector, target: int, rawPrediction: vector, probability: vector, prediction: double]"
            ]
          },
          "execution_count": 20,
          "metadata": {
            "tags": []
          },
          "output_type": "execute_result"
        }
      ],
      "source": [
        "# Make predictions.\n",
        "predictions = dtcModel.transform(test_df)\n",
        "predictions\n",
        " "
      ]
    },
    {
      "cell_type": "code",
      "execution_count": null,
      "metadata": {
        "colab": {
          "base_uri": "https://localhost:8080/"
        },
        "id": "sdpq-EbKAIr-",
        "outputId": "e16fff3e-faf4-4001-9b3f-50e398ec8bc1"
      },
      "outputs": [
        {
          "name": "stdout",
          "output_type": "stream",
          "text": [
            "Accuracy = 0.929825 \n"
          ]
        }
      ],
      "source": [
        "from pyspark.ml.evaluation import MulticlassClassificationEvaluator\n",
        "evaluator = MulticlassClassificationEvaluator(\n",
        "    labelCol=\"target\", predictionCol=\"prediction\", metricName=\"accuracy\")\n",
        "accuracy = evaluator.evaluate(predictions)\n",
        "print(\"Accuracy = %g \" % (accuracy))"
      ]
    },
    {
      "cell_type": "markdown",
      "metadata": {
        "id": "Mltf_gKoJZ0q"
      },
      "source": [
        "#Example 3: redo the task of classification using Random forest classifier"
      ]
    },
    {
      "cell_type": "markdown",
      "metadata": {
        "id": "TM-B5VX6ApwT"
      },
      "source": []
    },
    {
      "cell_type": "markdown",
      "metadata": {
        "id": "Q1A7_ayDmbxk"
      },
      "source": [
        "#Example 4:\n",
        "use winequality-red dataset, to predict quality using logistic regression and dt classifier in pyspark. compute the value of accuracy. "
      ]
    },
    {
      "cell_type": "code",
      "execution_count": null,
      "metadata": {
        "colab": {
          "base_uri": "https://localhost:8080/"
        },
        "id": "zH-WSFIooo42",
        "outputId": "24cffaa9-f661-40f6-a4ef-34c27647c07e"
      },
      "outputs": [
        {
          "data": {
            "text/plain": [
              "[Row(fixed acidity=7.4, volatile acidity=0.7, citric acid=0.0, residual sugar=1.9, chlorides=0.076, free sulfur dioxide=11.0, total sulfur dioxide=34.0, density=0.9978, pH=3.51, sulphates=0.56, alcohol=9.4, quality=5),\n",
              " Row(fixed acidity=7.8, volatile acidity=0.88, citric acid=0.0, residual sugar=2.6, chlorides=0.098, free sulfur dioxide=25.0, total sulfur dioxide=67.0, density=0.9968, pH=3.2, sulphates=0.68, alcohol=9.8, quality=5),\n",
              " Row(fixed acidity=7.8, volatile acidity=0.76, citric acid=0.04, residual sugar=2.3, chlorides=0.092, free sulfur dioxide=15.0, total sulfur dioxide=54.0, density=0.997, pH=3.26, sulphates=0.65, alcohol=9.8, quality=5),\n",
              " Row(fixed acidity=11.2, volatile acidity=0.28, citric acid=0.56, residual sugar=1.9, chlorides=0.075, free sulfur dioxide=17.0, total sulfur dioxide=60.0, density=0.998, pH=3.16, sulphates=0.58, alcohol=9.8, quality=6),\n",
              " Row(fixed acidity=7.4, volatile acidity=0.7, citric acid=0.0, residual sugar=1.9, chlorides=0.076, free sulfur dioxide=11.0, total sulfur dioxide=34.0, density=0.9978, pH=3.51, sulphates=0.56, alcohol=9.4, quality=5)]"
            ]
          },
          "execution_count": 8,
          "metadata": {},
          "output_type": "execute_result"
        }
      ],
      "source": [
        " \n",
        "df = sqlContext.read.format('com.databricks.spark.csv').options(header='true', inferschema='true').load('winequality-red.csv')\n",
        "df.take(5)"
      ]
    },
    {
      "cell_type": "markdown",
      "metadata": {
        "id": "9SW3DRbPo4qB"
      },
      "source": [
        "#apply assembler"
      ]
    },
    {
      "cell_type": "code",
      "execution_count": null,
      "metadata": {
        "colab": {
          "base_uri": "https://localhost:8080/"
        },
        "id": "9tTrar-Ko6jq",
        "outputId": "763069ad-3bdb-4c5a-dfe6-8d6eae7dd70a"
      },
      "outputs": [
        {
          "name": "stdout",
          "output_type": "stream",
          "text": [
            "+---------------+-------+\n",
            "|       features|quality|\n",
            "+---------------+-------+\n",
            "|  [7.4,0.7,0.0]|      5|\n",
            "| [7.8,0.88,0.0]|      5|\n",
            "|[7.8,0.76,0.04]|      5|\n",
            "+---------------+-------+\n",
            "only showing top 3 rows\n",
            "\n"
          ]
        }
      ],
      "source": [
        "from pyspark.ml.feature import VectorAssembler\n",
        "inputs=['fixed acidity',\t'volatile acidity',\t'citric acid']\n",
        "vectorAssembler = VectorAssembler(inputCols = inputs, outputCol = 'features')\n",
        "v_df = vectorAssembler.transform(df)\n",
        "v_df = v_df.select(['features', 'quality'])\n",
        "v_df.show(3)"
      ]
    },
    {
      "cell_type": "code",
      "execution_count": null,
      "metadata": {
        "id": "DhRcPlC9p4L2"
      },
      "outputs": [],
      "source": [
        "#split the dataset\n",
        "\n",
        "splits = v_df.randomSplit([0.7, 0.3])\n",
        "train_df = splits[0]\n",
        "test_df = splits[1]"
      ]
    },
    {
      "cell_type": "markdown",
      "metadata": {
        "id": "Qyhz7SPfp-Vh"
      },
      "source": [
        "#apply logistic reg"
      ]
    },
    {
      "cell_type": "code",
      "execution_count": null,
      "metadata": {
        "colab": {
          "base_uri": "https://localhost:8080/"
        },
        "id": "LcnPlEczqAg-",
        "outputId": "a97a7510-fb61-4f8d-83d3-537c01715982"
      },
      "outputs": [
        {
          "name": "stdout",
          "output_type": "stream",
          "text": [
            "Accuracy = 0.492341 \n"
          ]
        }
      ],
      "source": [
        "from pyspark.ml.evaluation import MulticlassClassificationEvaluator\n",
        "lr = LogisticRegression(featuresCol = 'features', labelCol = 'quality', maxIter=10)\n",
        "lrModel = lr.fit(train_df)\n",
        "# Make predictions.\n",
        "pred_lr = lrModel.transform(test_df)\n",
        "\n",
        "evaluator = MulticlassClassificationEvaluator(\n",
        "    labelCol=\"quality\", predictionCol=\"prediction\", metricName=\"accuracy\")\n",
        "accuracy = evaluator.evaluate(pred_lr)\n",
        "print(\"Accuracy = %g \" % (accuracy))\n",
        "Accuracy = 0.492341 "
      ]
    },
    {
      "cell_type": "code",
      "execution_count": null,
      "metadata": {
        "colab": {
          "base_uri": "https://localhost:8080/"
        },
        "id": "dhepsCQLbyYb",
        "outputId": "c1cc40d6-54f0-46f1-c198-81c59526804b"
      },
      "outputs": [
        {
          "name": "stdout",
          "output_type": "stream",
          "text": [
            "Accuracy = 0.461707 \n"
          ]
        }
      ],
      "source": [
        "from pyspark.ml.classification import DecisionTreeClassifier\n",
        "#fit dt\n",
        "dtc = DecisionTreeClassifier(featuresCol = 'features', labelCol = 'quality')\n",
        "dtcModel = dtc.fit(train_df)\n",
        "\n",
        "# Make predictions \n",
        "pred_dt = dtcModel.transform(test_df)\n",
        "\n",
        "# evaluate dt \n",
        "evaluator = MulticlassClassificationEvaluator(\n",
        "    labelCol=\"quality\", predictionCol=\"prediction\", metricName=\"accuracy\")\n",
        "accuracy = evaluator.evaluate(pred_dt)\n",
        "print(\"Accuracy = %g \" % (accuracy))\n",
        "Accuracy = 0.461707"
      ]
    },
    {
      "cell_type": "code",
      "execution_count": null,
      "metadata": {
        "colab": {
          "base_uri": "https://localhost:8080/"
        },
        "id": "c7CePdjAqJC7",
        "outputId": "8c4643e0-5cfc-4cb2-a4ac-740be1023a20"
      },
      "outputs": [
        {
          "name": "stdout",
          "output_type": "stream",
          "text": [
            "0.4682971014492754 0.4041527984554447 0.4682971014492754\n"
          ]
        }
      ],
      "source": [
        " trainingSummary = lrModel.summary\n",
        "accuracy = trainingSummary.accuracy\n",
        "precision = trainingSummary.weightedPrecision\n",
        "recall = trainingSummary.weightedRecall\n",
        "print(accuracy,precision,recall)"
      ]
    },
    {
      "cell_type": "markdown",
      "metadata": {
        "id": "baOEhgOnqSfJ"
      },
      "source": [
        "#apply dt"
      ]
    },
    {
      "cell_type": "code",
      "execution_count": null,
      "metadata": {
        "colab": {
          "base_uri": "https://localhost:8080/"
        },
        "id": "X6HfCDy-qRda",
        "outputId": "20de92a8-2998-47a1-d181-5fcf0255393e"
      },
      "outputs": [
        {
          "name": "stdout",
          "output_type": "stream",
          "text": [
            "Accuracy = 0.492929 \n"
          ]
        }
      ],
      "source": [
        "#fit dt\n",
        "dtc = DecisionTreeClassifier(featuresCol = 'features', labelCol = 'quality')\n",
        "dtcModel = dtc.fit(train_df)\n",
        "\n",
        "# Make predictions.\n",
        "predictions = dtcModel.transform(test_df)\n",
        "\n",
        " \n",
        "evaluator = MulticlassClassificationEvaluator(\n",
        "    labelCol=\"quality\", predictionCol=\"prediction\", metricName=\"accuracy\")\n",
        "accuracy = evaluator.evaluate(predictions)\n",
        "print(\"Accuracy = %g \" % (accuracy))\n",
        "\n",
        "\n"
      ]
    }
  ],
  "metadata": {
    "colab": {
      "name": "classification_using_pyspark_sas.ipynb",
      "provenance": []
    },
    "kernelspec": {
      "display_name": "Python 3",
      "name": "python3"
    },
    "language_info": {
      "codemirror_mode": {
        "name": "ipython",
        "version": 3
      },
      "file_extension": ".py",
      "mimetype": "text/x-python",
      "name": "python",
      "nbconvert_exporter": "python",
      "pygments_lexer": "ipython3",
      "version": "3.9.7"
    }
  },
  "nbformat": 4,
  "nbformat_minor": 0
}
