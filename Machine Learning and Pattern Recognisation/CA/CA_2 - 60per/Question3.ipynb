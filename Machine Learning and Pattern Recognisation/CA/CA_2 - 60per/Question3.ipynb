{
 "cells": [
  {
   "cell_type": "markdown",
   "metadata": {},
   "source": [
    "Question 3\n",
    "\n",
    "Use dataset available on http://users.stat.ufl.edu/~winner/data/nfl2008_fga.csv\n",
    "\n",
    "* Use LDA to classify the dataset into few classes so that at least 90% of information of dataset is explained through new classification. (Hint: model the variable “qtr” to variables “togo”, “kicker”, and “ydline”). How many LDs do you choose? Explain the reason.\n",
    "* Apply PCA, and identify the important principle components involving at least 90% of dataset variation. Explain your decision strategy?  Plot principle components versus their variance."
   ]
  },
  {
   "cell_type": "code",
   "execution_count": 62,
   "metadata": {},
   "outputs": [],
   "source": [
    "import pandas as pd\n",
    "from sklearn.discriminant_analysis import LinearDiscriminantAnalysis\n",
    "from sklearn.ensemble import RandomForestClassifier\n",
    "from sklearn.linear_model import LogisticRegression\n",
    "from sklearn.tree import DecisionTreeClassifier\n",
    "from sklearn.model_selection import train_test_split\n",
    "from sklearn.metrics import accuracy_score\n",
    "from sklearn.naive_bayes import GaussianNB\n",
    "import warnings"
   ]
  },
  {
   "cell_type": "code",
   "execution_count": 63,
   "metadata": {},
   "outputs": [
    {
     "data": {
      "text/html": [
       "<div>\n",
       "<style scoped>\n",
       "    .dataframe tbody tr th:only-of-type {\n",
       "        vertical-align: middle;\n",
       "    }\n",
       "\n",
       "    .dataframe tbody tr th {\n",
       "        vertical-align: top;\n",
       "    }\n",
       "\n",
       "    .dataframe thead th {\n",
       "        text-align: right;\n",
       "    }\n",
       "</style>\n",
       "<table border=\"1\" class=\"dataframe\">\n",
       "  <thead>\n",
       "    <tr style=\"text-align: right;\">\n",
       "      <th></th>\n",
       "      <th>GameDate</th>\n",
       "      <th>AwayTeam</th>\n",
       "      <th>HomeTeam</th>\n",
       "      <th>qtr</th>\n",
       "      <th>min</th>\n",
       "      <th>sec</th>\n",
       "      <th>kickteam</th>\n",
       "      <th>def</th>\n",
       "      <th>down</th>\n",
       "      <th>togo</th>\n",
       "      <th>...</th>\n",
       "      <th>distance</th>\n",
       "      <th>homekick</th>\n",
       "      <th>kickdiff</th>\n",
       "      <th>timerem</th>\n",
       "      <th>offscore</th>\n",
       "      <th>defscore</th>\n",
       "      <th>season</th>\n",
       "      <th>GOOD</th>\n",
       "      <th>Missed</th>\n",
       "      <th>Blocked</th>\n",
       "    </tr>\n",
       "  </thead>\n",
       "  <tbody>\n",
       "    <tr>\n",
       "      <th>0</th>\n",
       "      <td>20081130</td>\n",
       "      <td>IND</td>\n",
       "      <td>CLE</td>\n",
       "      <td>1</td>\n",
       "      <td>47</td>\n",
       "      <td>2</td>\n",
       "      <td>IND</td>\n",
       "      <td>CLE</td>\n",
       "      <td>4.0</td>\n",
       "      <td>11.0</td>\n",
       "      <td>...</td>\n",
       "      <td>30</td>\n",
       "      <td>0</td>\n",
       "      <td>-3</td>\n",
       "      <td>2822</td>\n",
       "      <td>0</td>\n",
       "      <td>3</td>\n",
       "      <td>2008</td>\n",
       "      <td>1</td>\n",
       "      <td>0</td>\n",
       "      <td>0</td>\n",
       "    </tr>\n",
       "    <tr>\n",
       "      <th>1</th>\n",
       "      <td>20081005</td>\n",
       "      <td>IND</td>\n",
       "      <td>HOU</td>\n",
       "      <td>1</td>\n",
       "      <td>54</td>\n",
       "      <td>47</td>\n",
       "      <td>IND</td>\n",
       "      <td>HOU</td>\n",
       "      <td>4.0</td>\n",
       "      <td>3.0</td>\n",
       "      <td>...</td>\n",
       "      <td>46</td>\n",
       "      <td>0</td>\n",
       "      <td>0</td>\n",
       "      <td>3287</td>\n",
       "      <td>0</td>\n",
       "      <td>0</td>\n",
       "      <td>2008</td>\n",
       "      <td>1</td>\n",
       "      <td>0</td>\n",
       "      <td>0</td>\n",
       "    </tr>\n",
       "    <tr>\n",
       "      <th>2</th>\n",
       "      <td>20081228</td>\n",
       "      <td>TEN</td>\n",
       "      <td>IND</td>\n",
       "      <td>1</td>\n",
       "      <td>45</td>\n",
       "      <td>20</td>\n",
       "      <td>IND</td>\n",
       "      <td>TEN</td>\n",
       "      <td>4.0</td>\n",
       "      <td>3.0</td>\n",
       "      <td>...</td>\n",
       "      <td>28</td>\n",
       "      <td>1</td>\n",
       "      <td>7</td>\n",
       "      <td>2720</td>\n",
       "      <td>7</td>\n",
       "      <td>0</td>\n",
       "      <td>2008</td>\n",
       "      <td>1</td>\n",
       "      <td>0</td>\n",
       "      <td>0</td>\n",
       "    </tr>\n",
       "    <tr>\n",
       "      <th>3</th>\n",
       "      <td>20081012</td>\n",
       "      <td>BAL</td>\n",
       "      <td>IND</td>\n",
       "      <td>1</td>\n",
       "      <td>45</td>\n",
       "      <td>42</td>\n",
       "      <td>IND</td>\n",
       "      <td>BAL</td>\n",
       "      <td>4.0</td>\n",
       "      <td>1.0</td>\n",
       "      <td>...</td>\n",
       "      <td>37</td>\n",
       "      <td>1</td>\n",
       "      <td>14</td>\n",
       "      <td>2742</td>\n",
       "      <td>14</td>\n",
       "      <td>0</td>\n",
       "      <td>2008</td>\n",
       "      <td>1</td>\n",
       "      <td>0</td>\n",
       "      <td>0</td>\n",
       "    </tr>\n",
       "    <tr>\n",
       "      <th>4</th>\n",
       "      <td>20080907</td>\n",
       "      <td>CHI</td>\n",
       "      <td>IND</td>\n",
       "      <td>1</td>\n",
       "      <td>50</td>\n",
       "      <td>56</td>\n",
       "      <td>IND</td>\n",
       "      <td>CHI</td>\n",
       "      <td>4.0</td>\n",
       "      <td>21.0</td>\n",
       "      <td>...</td>\n",
       "      <td>39</td>\n",
       "      <td>1</td>\n",
       "      <td>0</td>\n",
       "      <td>3056</td>\n",
       "      <td>0</td>\n",
       "      <td>0</td>\n",
       "      <td>2008</td>\n",
       "      <td>1</td>\n",
       "      <td>0</td>\n",
       "      <td>0</td>\n",
       "    </tr>\n",
       "  </tbody>\n",
       "</table>\n",
       "<p>5 rows × 23 columns</p>\n",
       "</div>"
      ],
      "text/plain": [
       "   GameDate AwayTeam HomeTeam  qtr  min  sec kickteam  def  down  togo  ...  \\\n",
       "0  20081130      IND      CLE    1   47    2      IND  CLE   4.0  11.0  ...   \n",
       "1  20081005      IND      HOU    1   54   47      IND  HOU   4.0   3.0  ...   \n",
       "2  20081228      TEN      IND    1   45   20      IND  TEN   4.0   3.0  ...   \n",
       "3  20081012      BAL      IND    1   45   42      IND  BAL   4.0   1.0  ...   \n",
       "4  20080907      CHI      IND    1   50   56      IND  CHI   4.0  21.0  ...   \n",
       "\n",
       "   distance  homekick kickdiff  timerem  offscore  defscore  season  GOOD  \\\n",
       "0        30         0       -3     2822         0         3    2008     1   \n",
       "1        46         0        0     3287         0         0    2008     1   \n",
       "2        28         1        7     2720         7         0    2008     1   \n",
       "3        37         1       14     2742        14         0    2008     1   \n",
       "4        39         1        0     3056         0         0    2008     1   \n",
       "\n",
       "   Missed  Blocked  \n",
       "0       0        0  \n",
       "1       0        0  \n",
       "2       0        0  \n",
       "3       0        0  \n",
       "4       0        0  \n",
       "\n",
       "[5 rows x 23 columns]"
      ]
     },
     "execution_count": 63,
     "metadata": {},
     "output_type": "execute_result"
    }
   ],
   "source": [
    "nfl_df = pd.read_csv(\"http://users.stat.ufl.edu/~winner/data/nfl2008_fga.csv\")\n",
    "nfl_df.head()"
   ]
  },
  {
   "cell_type": "code",
   "execution_count": 64,
   "metadata": {},
   "outputs": [
    {
     "data": {
      "text/plain": [
       "array([1, 2, 3, 4, 5], dtype=int64)"
      ]
     },
     "execution_count": 64,
     "metadata": {},
     "output_type": "execute_result"
    }
   ],
   "source": [
    "nfl_df[\"qtr\"].unique()"
   ]
  },
  {
   "cell_type": "code",
   "execution_count": 65,
   "metadata": {},
   "outputs": [
    {
     "data": {
      "text/plain": [
       "GameDate    0\n",
       "AwayTeam    0\n",
       "HomeTeam    0\n",
       "qtr         0\n",
       "min         0\n",
       "sec         0\n",
       "kickteam    0\n",
       "def         0\n",
       "down        2\n",
       "togo        2\n",
       "kicker      0\n",
       "ydline      0\n",
       "name        0\n",
       "distance    0\n",
       "homekick    0\n",
       "kickdiff    0\n",
       "timerem     0\n",
       "offscore    0\n",
       "defscore    0\n",
       "season      0\n",
       "GOOD        0\n",
       "Missed      0\n",
       "Blocked     0\n",
       "dtype: int64"
      ]
     },
     "execution_count": 65,
     "metadata": {},
     "output_type": "execute_result"
    }
   ],
   "source": [
    "nfl_df.isna().sum()"
   ]
  },
  {
   "cell_type": "code",
   "execution_count": 66,
   "metadata": {},
   "outputs": [
    {
     "data": {
      "text/plain": [
       "GameDate    0\n",
       "AwayTeam    0\n",
       "HomeTeam    0\n",
       "qtr         0\n",
       "min         0\n",
       "sec         0\n",
       "kickteam    0\n",
       "def         0\n",
       "down        0\n",
       "togo        0\n",
       "kicker      0\n",
       "ydline      0\n",
       "name        0\n",
       "distance    0\n",
       "homekick    0\n",
       "kickdiff    0\n",
       "timerem     0\n",
       "offscore    0\n",
       "defscore    0\n",
       "season      0\n",
       "GOOD        0\n",
       "Missed      0\n",
       "Blocked     0\n",
       "dtype: int64"
      ]
     },
     "execution_count": 66,
     "metadata": {},
     "output_type": "execute_result"
    }
   ],
   "source": [
    "nfl_df = nfl_df.fillna(0)\n",
    "nfl_df.isna().sum()"
   ]
  },
  {
   "cell_type": "code",
   "execution_count": 67,
   "metadata": {},
   "outputs": [],
   "source": [
    "nfl_df = nfl_df.drop([\"GameDate\",\"AwayTeam\",\"HomeTeam\",\"kickteam\",\"def\", \"name\"], axis=1)"
   ]
  },
  {
   "cell_type": "code",
   "execution_count": 68,
   "metadata": {},
   "outputs": [
    {
     "name": "stdout",
     "output_type": "stream",
     "text": [
      "<class 'pandas.core.frame.DataFrame'>\n",
      "RangeIndex: 1039 entries, 0 to 1038\n",
      "Data columns (total 17 columns):\n",
      " #   Column    Non-Null Count  Dtype  \n",
      "---  ------    --------------  -----  \n",
      " 0   qtr       1039 non-null   int64  \n",
      " 1   min       1039 non-null   int64  \n",
      " 2   sec       1039 non-null   int64  \n",
      " 3   down      1039 non-null   float64\n",
      " 4   togo      1039 non-null   float64\n",
      " 5   kicker    1039 non-null   int64  \n",
      " 6   ydline    1039 non-null   int64  \n",
      " 7   distance  1039 non-null   int64  \n",
      " 8   homekick  1039 non-null   int64  \n",
      " 9   kickdiff  1039 non-null   int64  \n",
      " 10  timerem   1039 non-null   int64  \n",
      " 11  offscore  1039 non-null   int64  \n",
      " 12  defscore  1039 non-null   int64  \n",
      " 13  season    1039 non-null   int64  \n",
      " 14  GOOD      1039 non-null   int64  \n",
      " 15  Missed    1039 non-null   int64  \n",
      " 16  Blocked   1039 non-null   int64  \n",
      "dtypes: float64(2), int64(15)\n",
      "memory usage: 138.1 KB\n"
     ]
    }
   ],
   "source": [
    "nfl_df.info()"
   ]
  },
  {
   "cell_type": "code",
   "execution_count": 69,
   "metadata": {},
   "outputs": [],
   "source": [
    "X = nfl_df.drop(\"qtr\", axis=1)\n",
    "y = nfl_df[\"qtr\"]"
   ]
  },
  {
   "cell_type": "code",
   "execution_count": 70,
   "metadata": {},
   "outputs": [],
   "source": [
    "clfs = {\n",
    "    \"DT\" : DecisionTreeClassifier(),\n",
    "    \"LR\" : LogisticRegression(),\n",
    "    \"RFC\" : RandomForestClassifier(),\n",
    "    \"GB\" : GaussianNB()\n",
    "}"
   ]
  },
  {
   "cell_type": "code",
   "execution_count": 71,
   "metadata": {},
   "outputs": [
    {
     "data": {
      "text/html": [
       "<div>\n",
       "<style scoped>\n",
       "    .dataframe tbody tr th:only-of-type {\n",
       "        vertical-align: middle;\n",
       "    }\n",
       "\n",
       "    .dataframe tbody tr th {\n",
       "        vertical-align: top;\n",
       "    }\n",
       "\n",
       "    .dataframe thead th {\n",
       "        text-align: right;\n",
       "    }\n",
       "</style>\n",
       "<table border=\"1\" class=\"dataframe\">\n",
       "  <thead>\n",
       "    <tr style=\"text-align: right;\">\n",
       "      <th></th>\n",
       "      <th>DT</th>\n",
       "      <th>LR</th>\n",
       "      <th>RFC</th>\n",
       "      <th>GB</th>\n",
       "    </tr>\n",
       "  </thead>\n",
       "  <tbody>\n",
       "    <tr>\n",
       "      <th>0</th>\n",
       "      <td>1.0</td>\n",
       "      <td>0.996795</td>\n",
       "      <td>1.0</td>\n",
       "      <td>0.945513</td>\n",
       "    </tr>\n",
       "  </tbody>\n",
       "</table>\n",
       "</div>"
      ],
      "text/plain": [
       "    DT        LR  RFC        GB\n",
       "0  1.0  0.996795  1.0  0.945513"
      ]
     },
     "execution_count": 71,
     "metadata": {},
     "output_type": "execute_result"
    }
   ],
   "source": [
    "accuracy = {}\n",
    "y_preds = {}\n",
    "for key in clfs:\n",
    "    for i in range(1000):\n",
    "        X_train, X_test, y_train, y_test = train_test_split(X, y, test_size = 0.3, random_state= 42)\n",
    "        clf = clfs[key]\n",
    "        t_clf = clf.fit(X_train, y_train)\n",
    "        y_pred = t_clf.predict(X_test)\n",
    "        a = accuracy_score(y_test, y_pred)\n",
    "        accuracy[key]= a\n",
    "        y_preds[key]= y_preds\n",
    "warnings.filterwarnings(\"ignore\")\n",
    "pd.DataFrame([accuracy])"
   ]
  },
  {
   "cell_type": "markdown",
   "metadata": {},
   "source": [
    "#### Using LDA\n",
    "\n",
    "LDA Creates a linier combinations of the original features\n",
    "\n",
    "`n_componets = 0.5 * x1 + 0.2 * x2 + 0.3 *x3`"
   ]
  },
  {
   "cell_type": "code",
   "execution_count": 72,
   "metadata": {},
   "outputs": [],
   "source": [
    "lda_based_model = LinearDiscriminantAnalysis(n_components=1)\n",
    "lda_X = lda_based_model.fit_transform(X, y)"
   ]
  },
  {
   "cell_type": "code",
   "execution_count": 73,
   "metadata": {},
   "outputs": [
    {
     "data": {
      "text/plain": [
       "array([0.99244456])"
      ]
     },
     "execution_count": 73,
     "metadata": {},
     "output_type": "execute_result"
    }
   ],
   "source": [
    "var_ratio_lda = lda_based_model.explained_variance_ratio_\n",
    "var_ratio_lda"
   ]
  },
  {
   "cell_type": "markdown",
   "metadata": {},
   "source": [
    "#### Creating a function to select n_components"
   ]
  },
  {
   "cell_type": "code",
   "execution_count": 75,
   "metadata": {},
   "outputs": [],
   "source": [
    "def n_components(var_ratio_lda, des_var) -> int:\n",
    "    variance = 0.0\n",
    "    n_comp = 0\n",
    "    for var_ratio in var_ratio_lda:\n",
    "        variance = variance + var_ratio\n",
    "        n_comp += 1\n",
    "        if variance >= des_var:\n",
    "            break\n",
    "    return n_comp"
   ]
  },
  {
   "cell_type": "code",
   "execution_count": 77,
   "metadata": {},
   "outputs": [
    {
     "data": {
      "text/plain": [
       "1"
      ]
     },
     "execution_count": 77,
     "metadata": {},
     "output_type": "execute_result"
    }
   ],
   "source": [
    "comp = n_components(var_ratio_lda, 0.90)\n",
    "comp"
   ]
  },
  {
   "cell_type": "code",
   "execution_count": 79,
   "metadata": {},
   "outputs": [],
   "source": [
    "lda_df = pd.DataFrame(lda_X)\n",
    "lda_df.columns = ['ldaOne']"
   ]
  },
  {
   "cell_type": "code",
   "execution_count": 82,
   "metadata": {},
   "outputs": [
    {
     "data": {
      "text/html": [
       "<div>\n",
       "<style scoped>\n",
       "    .dataframe tbody tr th:only-of-type {\n",
       "        vertical-align: middle;\n",
       "    }\n",
       "\n",
       "    .dataframe tbody tr th {\n",
       "        vertical-align: top;\n",
       "    }\n",
       "\n",
       "    .dataframe thead th {\n",
       "        text-align: right;\n",
       "    }\n",
       "</style>\n",
       "<table border=\"1\" class=\"dataframe\">\n",
       "  <thead>\n",
       "    <tr style=\"text-align: right;\">\n",
       "      <th></th>\n",
       "      <th>DT</th>\n",
       "      <th>LR</th>\n",
       "      <th>RFC</th>\n",
       "      <th>GB</th>\n",
       "    </tr>\n",
       "  </thead>\n",
       "  <tbody>\n",
       "    <tr>\n",
       "      <th>0</th>\n",
       "      <td>0.980769</td>\n",
       "      <td>0.971154</td>\n",
       "      <td>0.980769</td>\n",
       "      <td>0.967949</td>\n",
       "    </tr>\n",
       "  </tbody>\n",
       "</table>\n",
       "</div>"
      ],
      "text/plain": [
       "         DT        LR       RFC        GB\n",
       "0  0.980769  0.971154  0.980769  0.967949"
      ]
     },
     "execution_count": 82,
     "metadata": {},
     "output_type": "execute_result"
    }
   ],
   "source": [
    "accuracy = {}\n",
    "y_preds = {}\n",
    "for key in clfs:\n",
    "    for i in range(1000):\n",
    "        X_train, X_test, y_train, y_test = train_test_split(lda_X, y, test_size = 0.3, random_state= 42)\n",
    "        clf = clfs[key]\n",
    "        t_clf = clf.fit(X_train, y_train)\n",
    "        y_pred = t_clf.predict(X_test)\n",
    "        a = accuracy_score(y_test, y_pred)\n",
    "        accuracy[key]= a\n",
    "        y_preds[key]= y_preds\n",
    "warnings.filterwarnings(\"ignore\")\n",
    "pd.DataFrame([accuracy])"
   ]
  },
  {
   "cell_type": "code",
   "execution_count": null,
   "metadata": {},
   "outputs": [],
   "source": []
  }
 ],
 "metadata": {
  "interpreter": {
   "hash": "770de8dd6b209f8d3e8fd0cc8c5ca67965109b50de697453c6f2fa2334472852"
  },
  "kernelspec": {
   "display_name": "Python 3.9.7 ('base')",
   "language": "python",
   "name": "python3"
  },
  "language_info": {
   "codemirror_mode": {
    "name": "ipython",
    "version": 3
   },
   "file_extension": ".py",
   "mimetype": "text/x-python",
   "name": "python",
   "nbconvert_exporter": "python",
   "pygments_lexer": "ipython3",
   "version": "3.9.7"
  },
  "orig_nbformat": 4
 },
 "nbformat": 4,
 "nbformat_minor": 2
}
