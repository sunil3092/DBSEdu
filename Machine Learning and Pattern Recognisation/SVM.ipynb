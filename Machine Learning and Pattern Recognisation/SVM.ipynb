{
 "cells": [
  {
   "cell_type": "code",
   "execution_count": 17,
   "metadata": {},
   "outputs": [],
   "source": [
    "import pandas as pd\n",
    "import numpy as np\n",
    "from sklearn.model_selection import train_test_split\n",
    "from sklearn.svm import SVC\n",
    "from sklearn.metrics import accuracy_score "
   ]
  },
  {
   "cell_type": "code",
   "execution_count": 18,
   "metadata": {},
   "outputs": [
    {
     "data": {
      "text/html": [
       "<div>\n",
       "<style scoped>\n",
       "    .dataframe tbody tr th:only-of-type {\n",
       "        vertical-align: middle;\n",
       "    }\n",
       "\n",
       "    .dataframe tbody tr th {\n",
       "        vertical-align: top;\n",
       "    }\n",
       "\n",
       "    .dataframe thead th {\n",
       "        text-align: right;\n",
       "    }\n",
       "</style>\n",
       "<table border=\"1\" class=\"dataframe\">\n",
       "  <thead>\n",
       "    <tr style=\"text-align: right;\">\n",
       "      <th></th>\n",
       "      <th>SepalLengthCm</th>\n",
       "      <th>SepalWidthCm</th>\n",
       "      <th>PetalLengthCm</th>\n",
       "      <th>PetalWidthCm</th>\n",
       "      <th>Species</th>\n",
       "    </tr>\n",
       "  </thead>\n",
       "  <tbody>\n",
       "    <tr>\n",
       "      <th>0</th>\n",
       "      <td>5.1</td>\n",
       "      <td>3.5</td>\n",
       "      <td>1.4</td>\n",
       "      <td>0.2</td>\n",
       "      <td>Iris-setosa</td>\n",
       "    </tr>\n",
       "    <tr>\n",
       "      <th>1</th>\n",
       "      <td>4.9</td>\n",
       "      <td>3.0</td>\n",
       "      <td>1.4</td>\n",
       "      <td>0.2</td>\n",
       "      <td>Iris-setosa</td>\n",
       "    </tr>\n",
       "    <tr>\n",
       "      <th>2</th>\n",
       "      <td>4.7</td>\n",
       "      <td>3.2</td>\n",
       "      <td>1.3</td>\n",
       "      <td>0.2</td>\n",
       "      <td>Iris-setosa</td>\n",
       "    </tr>\n",
       "    <tr>\n",
       "      <th>3</th>\n",
       "      <td>4.6</td>\n",
       "      <td>3.1</td>\n",
       "      <td>1.5</td>\n",
       "      <td>0.2</td>\n",
       "      <td>Iris-setosa</td>\n",
       "    </tr>\n",
       "    <tr>\n",
       "      <th>4</th>\n",
       "      <td>5.0</td>\n",
       "      <td>3.6</td>\n",
       "      <td>1.4</td>\n",
       "      <td>0.2</td>\n",
       "      <td>Iris-setosa</td>\n",
       "    </tr>\n",
       "  </tbody>\n",
       "</table>\n",
       "</div>"
      ],
      "text/plain": [
       "   SepalLengthCm  SepalWidthCm  PetalLengthCm  PetalWidthCm      Species\n",
       "0            5.1           3.5            1.4           0.2  Iris-setosa\n",
       "1            4.9           3.0            1.4           0.2  Iris-setosa\n",
       "2            4.7           3.2            1.3           0.2  Iris-setosa\n",
       "3            4.6           3.1            1.5           0.2  Iris-setosa\n",
       "4            5.0           3.6            1.4           0.2  Iris-setosa"
      ]
     },
     "execution_count": 18,
     "metadata": {},
     "output_type": "execute_result"
    }
   ],
   "source": [
    "dataset = pd.read_csv(\"./DataSets/Iris.csv\")\n",
    "dataset.head()"
   ]
  },
  {
   "cell_type": "code",
   "execution_count": 19,
   "metadata": {},
   "outputs": [],
   "source": [
    "X = dataset.drop('Species', axis=1)\n",
    "y = dataset[\"Species\"]\n",
    "X_train, X_test, y_train, y_test = train_test_split(X,y,test_size=0.2,random_state=3)"
   ]
  },
  {
   "cell_type": "code",
   "execution_count": 20,
   "metadata": {},
   "outputs": [
    {
     "data": {
      "text/plain": [
       "SVC()"
      ]
     },
     "execution_count": 20,
     "metadata": {},
     "output_type": "execute_result"
    }
   ],
   "source": [
    "SVC()"
   ]
  },
  {
   "cell_type": "code",
   "execution_count": 21,
   "metadata": {},
   "outputs": [
    {
     "name": "stdout",
     "output_type": "stream",
     "text": [
      "[0.9777777777777777, 0.8888888888888888, 1.0, 0.26666666666666666]\n"
     ]
    }
   ],
   "source": [
    "acc = []\n",
    "ker = ['linear','poly','rbf','sigmoid']\n",
    "for i in ker:\n",
    "    X_train, X_test, y_train, y_test = train_test_split(X,y,test_size=0.3)\n",
    "    model = SVC(kernel=i)\n",
    "    model.fit(X_train,y_train)\n",
    "    pred_svc = model.predict(X_test)\n",
    "    accu = accuracy_score(y_test,pred_svc)\n",
    "    acc.append(accu)\n",
    "\n",
    "print(acc)"
   ]
  },
  {
   "cell_type": "code",
   "execution_count": 25,
   "metadata": {},
   "outputs": [
    {
     "name": "stdout",
     "output_type": "stream",
     "text": [
      "[0.26666666666666666, 0.3111111111111111, 0.24444444444444444, 0.28888888888888886, 0.28888888888888886, 0.3111111111111111, 0.24444444444444444, 0.28888888888888886, 0.15555555555555556, 0.24444444444444444, 0.28888888888888886, 0.2, 0.2222222222222222, 0.2, 0.2222222222222222, 0.3111111111111111, 0.3111111111111111, 0.28888888888888886, 0.28888888888888886, 0.2, 0.1111111111111111, 0.28888888888888886, 0.28888888888888886, 0.28888888888888886, 0.26666666666666666, 0.26666666666666666, 0.26666666666666666, 0.28888888888888886, 0.24444444444444444, 0.26666666666666666, 0.28888888888888886, 0.24444444444444444, 0.28888888888888886, 0.24444444444444444, 0.26666666666666666, 0.15555555555555556, 0.28888888888888886, 0.2222222222222222, 0.26666666666666666, 0.3111111111111111, 0.2222222222222222, 0.28888888888888886, 0.3111111111111111, 0.26666666666666666, 0.26666666666666666, 0.26666666666666666, 0.26666666666666666, 0.26666666666666666, 0.24444444444444444, 0.24444444444444444, 0.28888888888888886, 0.26666666666666666, 0.28888888888888886, 0.3111111111111111, 0.24444444444444444, 0.26666666666666666, 0.28888888888888886, 0.3111111111111111, 0.28888888888888886, 0.24444444444444444, 0.3111111111111111, 0.26666666666666666, 0.24444444444444444, 0.2222222222222222, 0.08888888888888889, 0.24444444444444444, 0.08888888888888889, 0.2, 0.2, 0.2222222222222222, 0.06666666666666667, 0.28888888888888886, 0.26666666666666666, 0.24444444444444444, 0.28888888888888886, 0.26666666666666666, 0.28888888888888886, 0.24444444444444444, 0.26666666666666666, 0.2, 0.26666666666666666, 0.28888888888888886, 0.06666666666666667, 0.2222222222222222, 0.24444444444444444, 0.24444444444444444, 0.28888888888888886, 0.28888888888888886, 0.13333333333333333, 0.3111111111111111, 0.26666666666666666, 0.2, 0.3111111111111111, 0.28888888888888886, 0.28888888888888886, 0.28888888888888886, 0.28888888888888886, 0.2, 0.13333333333333333, 0.26666666666666666]\n"
     ]
    }
   ],
   "source": [
    "acc = []\n",
    "ker = ['linear','poly','rbf','sigmoid']\n",
    "for i in ker:\n",
    "    mc_acc = []\n",
    "    for j in range(100):\n",
    "        X_train, X_test, y_train, y_test = train_test_split(X,y,test_size=0.3)\n",
    "        model = SVC(kernel=i, C=1.1)\n",
    "        model.fit(X_train,y_train)\n",
    "        pred_svc = model.predict(X_test)\n",
    "        accu = accuracy_score(y_test,pred_svc)\n",
    "        mc_acc.append(accu)\n",
    "acc.append(np.mean(mc_acc))\n",
    "print(mc_acc)"
   ]
  },
  {
   "cell_type": "code",
   "execution_count": null,
   "metadata": {},
   "outputs": [],
   "source": []
  }
 ],
 "metadata": {
  "interpreter": {
   "hash": "770de8dd6b209f8d3e8fd0cc8c5ca67965109b50de697453c6f2fa2334472852"
  },
  "kernelspec": {
   "display_name": "Python 3.9.7 ('base')",
   "language": "python",
   "name": "python3"
  },
  "language_info": {
   "codemirror_mode": {
    "name": "ipython",
    "version": 3
   },
   "file_extension": ".py",
   "mimetype": "text/x-python",
   "name": "python",
   "nbconvert_exporter": "python",
   "pygments_lexer": "ipython3",
   "version": "3.9.7"
  },
  "orig_nbformat": 4
 },
 "nbformat": 4,
 "nbformat_minor": 2
}
