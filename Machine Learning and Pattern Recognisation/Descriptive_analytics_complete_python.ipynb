{
  "nbformat": 4,
  "nbformat_minor": 0,
  "metadata": {
    "colab": {
      "name": "Descriptive analytics_complete_python.ipynb",
      "provenance": [],
      "collapsed_sections": []
    },
    "kernelspec": {
      "name": "python3",
      "display_name": "Python 3"
    }
  },
  "cells": [
    {
      "cell_type": "markdown",
      "source": [
        "**Lecturer:** Dr Shahram Azizi Sazi\n",
        "\n",
        "**Qualifications:** BSc.,MSc., PhD. in Data and Knowlege processing, TCD. \n",
        "\n",
        "**Email:** shahram.azizisazi@dbs.ie\n",
        "\n",
        "**LinkedIn: ** https://www.linkedin.com/in/shahram-azizi-6149342a/"
      ],
      "metadata": {
        "id": "UT8FJosOxTD2"
      }
    },
    {
      "cell_type": "markdown",
      "source": [
        "Link for dataset:  https://github.com/shazizisazi/Datasets \n"
      ],
      "metadata": {
        "id": "tev_4YRJxG03"
      }
    },
    {
      "cell_type": "code",
      "metadata": {
        "colab": {
          "base_uri": "https://localhost:8080/",
          "height": 206
        },
        "id": "jo8KUKh_hosG",
        "outputId": "6886e3c1-f18a-4754-d2d2-29a9e73e2394"
      },
      "source": [
        "from pandas import read_csv\n",
        "data=read_csv('/content/mtcars.csv')\n",
        "data.head()"
      ],
      "execution_count": null,
      "outputs": [
        {
          "output_type": "execute_result",
          "data": {
            "text/html": [
              "\n",
              "  <div id=\"df-b447b868-c921-450c-b757-9bd050e82c3e\">\n",
              "    <div class=\"colab-df-container\">\n",
              "      <div>\n",
              "<style scoped>\n",
              "    .dataframe tbody tr th:only-of-type {\n",
              "        vertical-align: middle;\n",
              "    }\n",
              "\n",
              "    .dataframe tbody tr th {\n",
              "        vertical-align: top;\n",
              "    }\n",
              "\n",
              "    .dataframe thead th {\n",
              "        text-align: right;\n",
              "    }\n",
              "</style>\n",
              "<table border=\"1\" class=\"dataframe\">\n",
              "  <thead>\n",
              "    <tr style=\"text-align: right;\">\n",
              "      <th></th>\n",
              "      <th>model</th>\n",
              "      <th>mpg</th>\n",
              "      <th>cyl</th>\n",
              "      <th>disp</th>\n",
              "      <th>hp</th>\n",
              "      <th>drat</th>\n",
              "      <th>wt</th>\n",
              "      <th>qsec</th>\n",
              "      <th>vs</th>\n",
              "      <th>am</th>\n",
              "      <th>gear</th>\n",
              "      <th>carb</th>\n",
              "    </tr>\n",
              "  </thead>\n",
              "  <tbody>\n",
              "    <tr>\n",
              "      <th>0</th>\n",
              "      <td>Mazda RX4</td>\n",
              "      <td>21.0</td>\n",
              "      <td>6</td>\n",
              "      <td>160.0</td>\n",
              "      <td>110</td>\n",
              "      <td>3.90</td>\n",
              "      <td>2.620</td>\n",
              "      <td>16.46</td>\n",
              "      <td>0</td>\n",
              "      <td>1</td>\n",
              "      <td>4</td>\n",
              "      <td>4</td>\n",
              "    </tr>\n",
              "    <tr>\n",
              "      <th>1</th>\n",
              "      <td>Mazda RX4 Wag</td>\n",
              "      <td>21.0</td>\n",
              "      <td>6</td>\n",
              "      <td>160.0</td>\n",
              "      <td>110</td>\n",
              "      <td>3.90</td>\n",
              "      <td>2.875</td>\n",
              "      <td>17.02</td>\n",
              "      <td>0</td>\n",
              "      <td>1</td>\n",
              "      <td>4</td>\n",
              "      <td>4</td>\n",
              "    </tr>\n",
              "    <tr>\n",
              "      <th>2</th>\n",
              "      <td>Datsun 710</td>\n",
              "      <td>22.8</td>\n",
              "      <td>4</td>\n",
              "      <td>108.0</td>\n",
              "      <td>93</td>\n",
              "      <td>3.85</td>\n",
              "      <td>2.320</td>\n",
              "      <td>18.61</td>\n",
              "      <td>1</td>\n",
              "      <td>1</td>\n",
              "      <td>4</td>\n",
              "      <td>1</td>\n",
              "    </tr>\n",
              "    <tr>\n",
              "      <th>3</th>\n",
              "      <td>Hornet 4 Drive</td>\n",
              "      <td>21.4</td>\n",
              "      <td>6</td>\n",
              "      <td>258.0</td>\n",
              "      <td>110</td>\n",
              "      <td>3.08</td>\n",
              "      <td>3.215</td>\n",
              "      <td>19.44</td>\n",
              "      <td>1</td>\n",
              "      <td>0</td>\n",
              "      <td>3</td>\n",
              "      <td>1</td>\n",
              "    </tr>\n",
              "    <tr>\n",
              "      <th>4</th>\n",
              "      <td>Hornet Sportabout</td>\n",
              "      <td>18.7</td>\n",
              "      <td>8</td>\n",
              "      <td>360.0</td>\n",
              "      <td>175</td>\n",
              "      <td>3.15</td>\n",
              "      <td>3.440</td>\n",
              "      <td>17.02</td>\n",
              "      <td>0</td>\n",
              "      <td>0</td>\n",
              "      <td>3</td>\n",
              "      <td>2</td>\n",
              "    </tr>\n",
              "  </tbody>\n",
              "</table>\n",
              "</div>\n",
              "      <button class=\"colab-df-convert\" onclick=\"convertToInteractive('df-b447b868-c921-450c-b757-9bd050e82c3e')\"\n",
              "              title=\"Convert this dataframe to an interactive table.\"\n",
              "              style=\"display:none;\">\n",
              "        \n",
              "  <svg xmlns=\"http://www.w3.org/2000/svg\" height=\"24px\"viewBox=\"0 0 24 24\"\n",
              "       width=\"24px\">\n",
              "    <path d=\"M0 0h24v24H0V0z\" fill=\"none\"/>\n",
              "    <path d=\"M18.56 5.44l.94 2.06.94-2.06 2.06-.94-2.06-.94-.94-2.06-.94 2.06-2.06.94zm-11 1L8.5 8.5l.94-2.06 2.06-.94-2.06-.94L8.5 2.5l-.94 2.06-2.06.94zm10 10l.94 2.06.94-2.06 2.06-.94-2.06-.94-.94-2.06-.94 2.06-2.06.94z\"/><path d=\"M17.41 7.96l-1.37-1.37c-.4-.4-.92-.59-1.43-.59-.52 0-1.04.2-1.43.59L10.3 9.45l-7.72 7.72c-.78.78-.78 2.05 0 2.83L4 21.41c.39.39.9.59 1.41.59.51 0 1.02-.2 1.41-.59l7.78-7.78 2.81-2.81c.8-.78.8-2.07 0-2.86zM5.41 20L4 18.59l7.72-7.72 1.47 1.35L5.41 20z\"/>\n",
              "  </svg>\n",
              "      </button>\n",
              "      \n",
              "  <style>\n",
              "    .colab-df-container {\n",
              "      display:flex;\n",
              "      flex-wrap:wrap;\n",
              "      gap: 12px;\n",
              "    }\n",
              "\n",
              "    .colab-df-convert {\n",
              "      background-color: #E8F0FE;\n",
              "      border: none;\n",
              "      border-radius: 50%;\n",
              "      cursor: pointer;\n",
              "      display: none;\n",
              "      fill: #1967D2;\n",
              "      height: 32px;\n",
              "      padding: 0 0 0 0;\n",
              "      width: 32px;\n",
              "    }\n",
              "\n",
              "    .colab-df-convert:hover {\n",
              "      background-color: #E2EBFA;\n",
              "      box-shadow: 0px 1px 2px rgba(60, 64, 67, 0.3), 0px 1px 3px 1px rgba(60, 64, 67, 0.15);\n",
              "      fill: #174EA6;\n",
              "    }\n",
              "\n",
              "    [theme=dark] .colab-df-convert {\n",
              "      background-color: #3B4455;\n",
              "      fill: #D2E3FC;\n",
              "    }\n",
              "\n",
              "    [theme=dark] .colab-df-convert:hover {\n",
              "      background-color: #434B5C;\n",
              "      box-shadow: 0px 1px 3px 1px rgba(0, 0, 0, 0.15);\n",
              "      filter: drop-shadow(0px 1px 2px rgba(0, 0, 0, 0.3));\n",
              "      fill: #FFFFFF;\n",
              "    }\n",
              "  </style>\n",
              "\n",
              "      <script>\n",
              "        const buttonEl =\n",
              "          document.querySelector('#df-b447b868-c921-450c-b757-9bd050e82c3e button.colab-df-convert');\n",
              "        buttonEl.style.display =\n",
              "          google.colab.kernel.accessAllowed ? 'block' : 'none';\n",
              "\n",
              "        async function convertToInteractive(key) {\n",
              "          const element = document.querySelector('#df-b447b868-c921-450c-b757-9bd050e82c3e');\n",
              "          const dataTable =\n",
              "            await google.colab.kernel.invokeFunction('convertToInteractive',\n",
              "                                                     [key], {});\n",
              "          if (!dataTable) return;\n",
              "\n",
              "          const docLinkHtml = 'Like what you see? Visit the ' +\n",
              "            '<a target=\"_blank\" href=https://colab.research.google.com/notebooks/data_table.ipynb>data table notebook</a>'\n",
              "            + ' to learn more about interactive tables.';\n",
              "          element.innerHTML = '';\n",
              "          dataTable['output_type'] = 'display_data';\n",
              "          await google.colab.output.renderOutput(dataTable, element);\n",
              "          const docLink = document.createElement('div');\n",
              "          docLink.innerHTML = docLinkHtml;\n",
              "          element.appendChild(docLink);\n",
              "        }\n",
              "      </script>\n",
              "    </div>\n",
              "  </div>\n",
              "  "
            ],
            "text/plain": [
              "               model   mpg  cyl   disp   hp  ...   qsec  vs  am  gear  carb\n",
              "0          Mazda RX4  21.0    6  160.0  110  ...  16.46   0   1     4     4\n",
              "1      Mazda RX4 Wag  21.0    6  160.0  110  ...  17.02   0   1     4     4\n",
              "2         Datsun 710  22.8    4  108.0   93  ...  18.61   1   1     4     1\n",
              "3     Hornet 4 Drive  21.4    6  258.0  110  ...  19.44   1   0     3     1\n",
              "4  Hornet Sportabout  18.7    8  360.0  175  ...  17.02   0   0     3     2\n",
              "\n",
              "[5 rows x 12 columns]"
            ]
          },
          "metadata": {},
          "execution_count": 20
        }
      ]
    },
    {
      "cell_type": "code",
      "source": [
        "data2=read_csv('Iris.csv')\n",
        "data2.tail()"
      ],
      "metadata": {
        "colab": {
          "base_uri": "https://localhost:8080/",
          "height": 206
        },
        "id": "hev8eF1RxIYk",
        "outputId": "1ea98638-a977-41c1-ff09-f65669c2cc45"
      },
      "execution_count": null,
      "outputs": [
        {
          "output_type": "execute_result",
          "data": {
            "text/html": [
              "\n",
              "  <div id=\"df-ebc67b12-ecc3-46b9-80be-80a1545c0331\">\n",
              "    <div class=\"colab-df-container\">\n",
              "      <div>\n",
              "<style scoped>\n",
              "    .dataframe tbody tr th:only-of-type {\n",
              "        vertical-align: middle;\n",
              "    }\n",
              "\n",
              "    .dataframe tbody tr th {\n",
              "        vertical-align: top;\n",
              "    }\n",
              "\n",
              "    .dataframe thead th {\n",
              "        text-align: right;\n",
              "    }\n",
              "</style>\n",
              "<table border=\"1\" class=\"dataframe\">\n",
              "  <thead>\n",
              "    <tr style=\"text-align: right;\">\n",
              "      <th></th>\n",
              "      <th>SepalLengthCm</th>\n",
              "      <th>SepalWidthCm</th>\n",
              "      <th>PetalLengthCm</th>\n",
              "      <th>PetalWidthCm</th>\n",
              "      <th>Species</th>\n",
              "    </tr>\n",
              "  </thead>\n",
              "  <tbody>\n",
              "    <tr>\n",
              "      <th>145</th>\n",
              "      <td>6.7</td>\n",
              "      <td>3.0</td>\n",
              "      <td>5.2</td>\n",
              "      <td>2.3</td>\n",
              "      <td>Iris-virginica</td>\n",
              "    </tr>\n",
              "    <tr>\n",
              "      <th>146</th>\n",
              "      <td>6.3</td>\n",
              "      <td>2.5</td>\n",
              "      <td>5.0</td>\n",
              "      <td>1.9</td>\n",
              "      <td>Iris-virginica</td>\n",
              "    </tr>\n",
              "    <tr>\n",
              "      <th>147</th>\n",
              "      <td>6.5</td>\n",
              "      <td>3.0</td>\n",
              "      <td>5.2</td>\n",
              "      <td>2.0</td>\n",
              "      <td>Iris-virginica</td>\n",
              "    </tr>\n",
              "    <tr>\n",
              "      <th>148</th>\n",
              "      <td>6.2</td>\n",
              "      <td>3.4</td>\n",
              "      <td>5.4</td>\n",
              "      <td>2.3</td>\n",
              "      <td>Iris-virginica</td>\n",
              "    </tr>\n",
              "    <tr>\n",
              "      <th>149</th>\n",
              "      <td>5.9</td>\n",
              "      <td>3.0</td>\n",
              "      <td>5.1</td>\n",
              "      <td>1.8</td>\n",
              "      <td>Iris-virginica</td>\n",
              "    </tr>\n",
              "  </tbody>\n",
              "</table>\n",
              "</div>\n",
              "      <button class=\"colab-df-convert\" onclick=\"convertToInteractive('df-ebc67b12-ecc3-46b9-80be-80a1545c0331')\"\n",
              "              title=\"Convert this dataframe to an interactive table.\"\n",
              "              style=\"display:none;\">\n",
              "        \n",
              "  <svg xmlns=\"http://www.w3.org/2000/svg\" height=\"24px\"viewBox=\"0 0 24 24\"\n",
              "       width=\"24px\">\n",
              "    <path d=\"M0 0h24v24H0V0z\" fill=\"none\"/>\n",
              "    <path d=\"M18.56 5.44l.94 2.06.94-2.06 2.06-.94-2.06-.94-.94-2.06-.94 2.06-2.06.94zm-11 1L8.5 8.5l.94-2.06 2.06-.94-2.06-.94L8.5 2.5l-.94 2.06-2.06.94zm10 10l.94 2.06.94-2.06 2.06-.94-2.06-.94-.94-2.06-.94 2.06-2.06.94z\"/><path d=\"M17.41 7.96l-1.37-1.37c-.4-.4-.92-.59-1.43-.59-.52 0-1.04.2-1.43.59L10.3 9.45l-7.72 7.72c-.78.78-.78 2.05 0 2.83L4 21.41c.39.39.9.59 1.41.59.51 0 1.02-.2 1.41-.59l7.78-7.78 2.81-2.81c.8-.78.8-2.07 0-2.86zM5.41 20L4 18.59l7.72-7.72 1.47 1.35L5.41 20z\"/>\n",
              "  </svg>\n",
              "      </button>\n",
              "      \n",
              "  <style>\n",
              "    .colab-df-container {\n",
              "      display:flex;\n",
              "      flex-wrap:wrap;\n",
              "      gap: 12px;\n",
              "    }\n",
              "\n",
              "    .colab-df-convert {\n",
              "      background-color: #E8F0FE;\n",
              "      border: none;\n",
              "      border-radius: 50%;\n",
              "      cursor: pointer;\n",
              "      display: none;\n",
              "      fill: #1967D2;\n",
              "      height: 32px;\n",
              "      padding: 0 0 0 0;\n",
              "      width: 32px;\n",
              "    }\n",
              "\n",
              "    .colab-df-convert:hover {\n",
              "      background-color: #E2EBFA;\n",
              "      box-shadow: 0px 1px 2px rgba(60, 64, 67, 0.3), 0px 1px 3px 1px rgba(60, 64, 67, 0.15);\n",
              "      fill: #174EA6;\n",
              "    }\n",
              "\n",
              "    [theme=dark] .colab-df-convert {\n",
              "      background-color: #3B4455;\n",
              "      fill: #D2E3FC;\n",
              "    }\n",
              "\n",
              "    [theme=dark] .colab-df-convert:hover {\n",
              "      background-color: #434B5C;\n",
              "      box-shadow: 0px 1px 3px 1px rgba(0, 0, 0, 0.15);\n",
              "      filter: drop-shadow(0px 1px 2px rgba(0, 0, 0, 0.3));\n",
              "      fill: #FFFFFF;\n",
              "    }\n",
              "  </style>\n",
              "\n",
              "      <script>\n",
              "        const buttonEl =\n",
              "          document.querySelector('#df-ebc67b12-ecc3-46b9-80be-80a1545c0331 button.colab-df-convert');\n",
              "        buttonEl.style.display =\n",
              "          google.colab.kernel.accessAllowed ? 'block' : 'none';\n",
              "\n",
              "        async function convertToInteractive(key) {\n",
              "          const element = document.querySelector('#df-ebc67b12-ecc3-46b9-80be-80a1545c0331');\n",
              "          const dataTable =\n",
              "            await google.colab.kernel.invokeFunction('convertToInteractive',\n",
              "                                                     [key], {});\n",
              "          if (!dataTable) return;\n",
              "\n",
              "          const docLinkHtml = 'Like what you see? Visit the ' +\n",
              "            '<a target=\"_blank\" href=https://colab.research.google.com/notebooks/data_table.ipynb>data table notebook</a>'\n",
              "            + ' to learn more about interactive tables.';\n",
              "          element.innerHTML = '';\n",
              "          dataTable['output_type'] = 'display_data';\n",
              "          await google.colab.output.renderOutput(dataTable, element);\n",
              "          const docLink = document.createElement('div');\n",
              "          docLink.innerHTML = docLinkHtml;\n",
              "          element.appendChild(docLink);\n",
              "        }\n",
              "      </script>\n",
              "    </div>\n",
              "  </div>\n",
              "  "
            ],
            "text/plain": [
              "     SepalLengthCm  SepalWidthCm  PetalLengthCm  PetalWidthCm         Species\n",
              "145            6.7           3.0            5.2           2.3  Iris-virginica\n",
              "146            6.3           2.5            5.0           1.9  Iris-virginica\n",
              "147            6.5           3.0            5.2           2.0  Iris-virginica\n",
              "148            6.2           3.4            5.4           2.3  Iris-virginica\n",
              "149            5.9           3.0            5.1           1.8  Iris-virginica"
            ]
          },
          "metadata": {},
          "execution_count": 23
        }
      ]
    },
    {
      "cell_type": "code",
      "source": [
        "%load_ext rpy2.ipython"
      ],
      "metadata": {
        "id": "3zKrF6VQz1QK"
      },
      "execution_count": null,
      "outputs": []
    },
    {
      "cell_type": "code",
      "source": [
        "%%R\n",
        "data=read.csv('mtcars.csv')\n",
        "head(data,4)"
      ],
      "metadata": {
        "colab": {
          "base_uri": "https://localhost:8080/",
          "height": 206
        },
        "id": "EKGBAaT5z_QU",
        "outputId": "b4abd49c-6372-4c36-8f95-51b7982d9207"
      },
      "execution_count": null,
      "outputs": [
        {
          "output_type": "error",
          "ename": "NameError",
          "evalue": "ignored",
          "traceback": [
            "\u001b[0;31m---------------------------------------------------------------------------\u001b[0m",
            "\u001b[0;31mNameError\u001b[0m                                 Traceback (most recent call last)",
            "\u001b[0;32m<ipython-input-8-921c2ce72823>\u001b[0m in \u001b[0;36m<module>\u001b[0;34m()\u001b[0m\n\u001b[1;32m      1\u001b[0m \u001b[0;34m\u001b[0m\u001b[0m\n\u001b[0;32m----> 2\u001b[0;31m \u001b[0mdata\u001b[0m\u001b[0;34m=\u001b[0m\u001b[0mread\u001b[0m\u001b[0;34m.\u001b[0m\u001b[0mcsv\u001b[0m\u001b[0;34m(\u001b[0m\u001b[0;34m'mtcars.csv'\u001b[0m\u001b[0;34m)\u001b[0m\u001b[0;34m\u001b[0m\u001b[0;34m\u001b[0m\u001b[0m\n\u001b[0m\u001b[1;32m      3\u001b[0m \u001b[0mhead\u001b[0m\u001b[0;34m(\u001b[0m\u001b[0mdata\u001b[0m\u001b[0;34m,\u001b[0m\u001b[0;36m4\u001b[0m\u001b[0;34m)\u001b[0m\u001b[0;34m\u001b[0m\u001b[0;34m\u001b[0m\u001b[0m\n",
            "\u001b[0;31mNameError\u001b[0m: name 'read' is not defined"
          ]
        }
      ]
    },
    {
      "cell_type": "markdown",
      "source": [
        "![image.png](data:image/png;base64,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)"
      ],
      "metadata": {
        "id": "p9Cg9WmSxuKl"
      }
    },
    {
      "cell_type": "code",
      "source": [
        "data3=read_csv('mtcars.csv')"
      ],
      "metadata": {
        "id": "OpBGvBy1xwKc"
      },
      "execution_count": null,
      "outputs": []
    },
    {
      "cell_type": "code",
      "source": [
        "data3.head()"
      ],
      "metadata": {
        "colab": {
          "base_uri": "https://localhost:8080/",
          "height": 206
        },
        "id": "eyhTH62F2Sk8",
        "outputId": "fe184d13-84fc-462e-b2b7-6bb34f60dacc"
      },
      "execution_count": null,
      "outputs": [
        {
          "output_type": "execute_result",
          "data": {
            "text/html": [
              "\n",
              "  <div id=\"df-11c5cc32-1572-4d50-b3ce-e1cbcdd99e31\">\n",
              "    <div class=\"colab-df-container\">\n",
              "      <div>\n",
              "<style scoped>\n",
              "    .dataframe tbody tr th:only-of-type {\n",
              "        vertical-align: middle;\n",
              "    }\n",
              "\n",
              "    .dataframe tbody tr th {\n",
              "        vertical-align: top;\n",
              "    }\n",
              "\n",
              "    .dataframe thead th {\n",
              "        text-align: right;\n",
              "    }\n",
              "</style>\n",
              "<table border=\"1\" class=\"dataframe\">\n",
              "  <thead>\n",
              "    <tr style=\"text-align: right;\">\n",
              "      <th></th>\n",
              "      <th>model</th>\n",
              "      <th>mpg</th>\n",
              "      <th>cyl</th>\n",
              "      <th>disp</th>\n",
              "      <th>hp</th>\n",
              "      <th>drat</th>\n",
              "      <th>wt</th>\n",
              "      <th>qsec</th>\n",
              "      <th>vs</th>\n",
              "      <th>am</th>\n",
              "      <th>gear</th>\n",
              "      <th>carb</th>\n",
              "    </tr>\n",
              "  </thead>\n",
              "  <tbody>\n",
              "    <tr>\n",
              "      <th>0</th>\n",
              "      <td>Mazda RX4</td>\n",
              "      <td>21.0</td>\n",
              "      <td>6</td>\n",
              "      <td>160.0</td>\n",
              "      <td>110</td>\n",
              "      <td>3.90</td>\n",
              "      <td>2.620</td>\n",
              "      <td>16.46</td>\n",
              "      <td>0</td>\n",
              "      <td>1</td>\n",
              "      <td>4</td>\n",
              "      <td>4</td>\n",
              "    </tr>\n",
              "    <tr>\n",
              "      <th>1</th>\n",
              "      <td>Mazda RX4 Wag</td>\n",
              "      <td>21.0</td>\n",
              "      <td>6</td>\n",
              "      <td>160.0</td>\n",
              "      <td>110</td>\n",
              "      <td>3.90</td>\n",
              "      <td>2.875</td>\n",
              "      <td>17.02</td>\n",
              "      <td>0</td>\n",
              "      <td>1</td>\n",
              "      <td>4</td>\n",
              "      <td>4</td>\n",
              "    </tr>\n",
              "    <tr>\n",
              "      <th>2</th>\n",
              "      <td>Datsun 710</td>\n",
              "      <td>22.8</td>\n",
              "      <td>4</td>\n",
              "      <td>108.0</td>\n",
              "      <td>93</td>\n",
              "      <td>3.85</td>\n",
              "      <td>2.320</td>\n",
              "      <td>18.61</td>\n",
              "      <td>1</td>\n",
              "      <td>1</td>\n",
              "      <td>4</td>\n",
              "      <td>1</td>\n",
              "    </tr>\n",
              "    <tr>\n",
              "      <th>3</th>\n",
              "      <td>Hornet 4 Drive</td>\n",
              "      <td>21.4</td>\n",
              "      <td>6</td>\n",
              "      <td>258.0</td>\n",
              "      <td>110</td>\n",
              "      <td>3.08</td>\n",
              "      <td>3.215</td>\n",
              "      <td>19.44</td>\n",
              "      <td>1</td>\n",
              "      <td>0</td>\n",
              "      <td>3</td>\n",
              "      <td>1</td>\n",
              "    </tr>\n",
              "    <tr>\n",
              "      <th>4</th>\n",
              "      <td>Hornet Sportabout</td>\n",
              "      <td>18.7</td>\n",
              "      <td>8</td>\n",
              "      <td>360.0</td>\n",
              "      <td>175</td>\n",
              "      <td>3.15</td>\n",
              "      <td>3.440</td>\n",
              "      <td>17.02</td>\n",
              "      <td>0</td>\n",
              "      <td>0</td>\n",
              "      <td>3</td>\n",
              "      <td>2</td>\n",
              "    </tr>\n",
              "  </tbody>\n",
              "</table>\n",
              "</div>\n",
              "      <button class=\"colab-df-convert\" onclick=\"convertToInteractive('df-11c5cc32-1572-4d50-b3ce-e1cbcdd99e31')\"\n",
              "              title=\"Convert this dataframe to an interactive table.\"\n",
              "              style=\"display:none;\">\n",
              "        \n",
              "  <svg xmlns=\"http://www.w3.org/2000/svg\" height=\"24px\"viewBox=\"0 0 24 24\"\n",
              "       width=\"24px\">\n",
              "    <path d=\"M0 0h24v24H0V0z\" fill=\"none\"/>\n",
              "    <path d=\"M18.56 5.44l.94 2.06.94-2.06 2.06-.94-2.06-.94-.94-2.06-.94 2.06-2.06.94zm-11 1L8.5 8.5l.94-2.06 2.06-.94-2.06-.94L8.5 2.5l-.94 2.06-2.06.94zm10 10l.94 2.06.94-2.06 2.06-.94-2.06-.94-.94-2.06-.94 2.06-2.06.94z\"/><path d=\"M17.41 7.96l-1.37-1.37c-.4-.4-.92-.59-1.43-.59-.52 0-1.04.2-1.43.59L10.3 9.45l-7.72 7.72c-.78.78-.78 2.05 0 2.83L4 21.41c.39.39.9.59 1.41.59.51 0 1.02-.2 1.41-.59l7.78-7.78 2.81-2.81c.8-.78.8-2.07 0-2.86zM5.41 20L4 18.59l7.72-7.72 1.47 1.35L5.41 20z\"/>\n",
              "  </svg>\n",
              "      </button>\n",
              "      \n",
              "  <style>\n",
              "    .colab-df-container {\n",
              "      display:flex;\n",
              "      flex-wrap:wrap;\n",
              "      gap: 12px;\n",
              "    }\n",
              "\n",
              "    .colab-df-convert {\n",
              "      background-color: #E8F0FE;\n",
              "      border: none;\n",
              "      border-radius: 50%;\n",
              "      cursor: pointer;\n",
              "      display: none;\n",
              "      fill: #1967D2;\n",
              "      height: 32px;\n",
              "      padding: 0 0 0 0;\n",
              "      width: 32px;\n",
              "    }\n",
              "\n",
              "    .colab-df-convert:hover {\n",
              "      background-color: #E2EBFA;\n",
              "      box-shadow: 0px 1px 2px rgba(60, 64, 67, 0.3), 0px 1px 3px 1px rgba(60, 64, 67, 0.15);\n",
              "      fill: #174EA6;\n",
              "    }\n",
              "\n",
              "    [theme=dark] .colab-df-convert {\n",
              "      background-color: #3B4455;\n",
              "      fill: #D2E3FC;\n",
              "    }\n",
              "\n",
              "    [theme=dark] .colab-df-convert:hover {\n",
              "      background-color: #434B5C;\n",
              "      box-shadow: 0px 1px 3px 1px rgba(0, 0, 0, 0.15);\n",
              "      filter: drop-shadow(0px 1px 2px rgba(0, 0, 0, 0.3));\n",
              "      fill: #FFFFFF;\n",
              "    }\n",
              "  </style>\n",
              "\n",
              "      <script>\n",
              "        const buttonEl =\n",
              "          document.querySelector('#df-11c5cc32-1572-4d50-b3ce-e1cbcdd99e31 button.colab-df-convert');\n",
              "        buttonEl.style.display =\n",
              "          google.colab.kernel.accessAllowed ? 'block' : 'none';\n",
              "\n",
              "        async function convertToInteractive(key) {\n",
              "          const element = document.querySelector('#df-11c5cc32-1572-4d50-b3ce-e1cbcdd99e31');\n",
              "          const dataTable =\n",
              "            await google.colab.kernel.invokeFunction('convertToInteractive',\n",
              "                                                     [key], {});\n",
              "          if (!dataTable) return;\n",
              "\n",
              "          const docLinkHtml = 'Like what you see? Visit the ' +\n",
              "            '<a target=\"_blank\" href=https://colab.research.google.com/notebooks/data_table.ipynb>data table notebook</a>'\n",
              "            + ' to learn more about interactive tables.';\n",
              "          element.innerHTML = '';\n",
              "          dataTable['output_type'] = 'display_data';\n",
              "          await google.colab.output.renderOutput(dataTable, element);\n",
              "          const docLink = document.createElement('div');\n",
              "          docLink.innerHTML = docLinkHtml;\n",
              "          element.appendChild(docLink);\n",
              "        }\n",
              "      </script>\n",
              "    </div>\n",
              "  </div>\n",
              "  "
            ],
            "text/plain": [
              "               model   mpg  cyl   disp   hp  ...   qsec  vs  am  gear  carb\n",
              "0          Mazda RX4  21.0    6  160.0  110  ...  16.46   0   1     4     4\n",
              "1      Mazda RX4 Wag  21.0    6  160.0  110  ...  17.02   0   1     4     4\n",
              "2         Datsun 710  22.8    4  108.0   93  ...  18.61   1   1     4     1\n",
              "3     Hornet 4 Drive  21.4    6  258.0  110  ...  19.44   1   0     3     1\n",
              "4  Hornet Sportabout  18.7    8  360.0  175  ...  17.02   0   0     3     2\n",
              "\n",
              "[5 rows x 12 columns]"
            ]
          },
          "metadata": {},
          "execution_count": 9
        }
      ]
    },
    {
      "cell_type": "markdown",
      "metadata": {
        "id": "hjGXNL3pHIf1"
      },
      "source": [
        "# central measures:\n",
        "\n",
        "\n",
        "1.   mean\n",
        "2.   median\n",
        "3.   mode\n",
        "\n"
      ]
    },
    {
      "cell_type": "markdown",
      "metadata": {
        "id": "Pq7uzI7uTTiK"
      },
      "source": [
        "#Example 1:\n",
        " compute the mean and median for D. "
      ]
    },
    {
      "cell_type": "code",
      "metadata": {
        "id": "qmwuRuwjTWhx",
        "colab": {
          "base_uri": "https://localhost:8080/"
        },
        "outputId": "40dc9b9a-5326-4c0b-adfa-7b40e7192eef"
      },
      "source": [
        "# med: odd number of samples: the middle datapoint\n",
        "# med: even number of samples: the average of two middle datapoints\n",
        "D=[1,0,1,2, 6,5] # [0,1,1,2,5,6]\n",
        "from numpy import mean, median \n",
        "m=mean(D) ; med=median(D)\n",
        "[m,med]\n",
        "\n",
        "\n"
      ],
      "execution_count": null,
      "outputs": [
        {
          "output_type": "execute_result",
          "data": {
            "text/plain": [
              "[2.5, 1.5]"
            ]
          },
          "metadata": {},
          "execution_count": 8
        }
      ]
    },
    {
      "cell_type": "code",
      "source": [
        "X=data3['disp'] \n",
        "mean(X)"
      ],
      "metadata": {
        "colab": {
          "base_uri": "https://localhost:8080/"
        },
        "id": "JtyfjYdH2lKX",
        "outputId": "0a714eaa-a91c-4b07-c4cd-c3355917aee6"
      },
      "execution_count": null,
      "outputs": [
        {
          "output_type": "execute_result",
          "data": {
            "text/plain": [
              "230.72187500000004"
            ]
          },
          "metadata": {},
          "execution_count": 6
        }
      ]
    },
    {
      "cell_type": "markdown",
      "metadata": {
        "id": "tgyBwOcHnA9u"
      },
      "source": [
        "# Example 2:\n",
        "compute the mean and median of **Sepal.Length** in **iris** dataset. \n",
        "\n"
      ]
    },
    {
      "cell_type": "code",
      "source": [
        "data2.head()"
      ],
      "metadata": {
        "colab": {
          "base_uri": "https://localhost:8080/",
          "height": 206
        },
        "id": "cM6o-OzZ7Znm",
        "outputId": "78fcfea5-8c06-4a45-856a-524962fabaa6"
      },
      "execution_count": null,
      "outputs": [
        {
          "output_type": "execute_result",
          "data": {
            "text/html": [
              "\n",
              "  <div id=\"df-0b970acc-34ee-4dc2-9c48-abddff92898e\">\n",
              "    <div class=\"colab-df-container\">\n",
              "      <div>\n",
              "<style scoped>\n",
              "    .dataframe tbody tr th:only-of-type {\n",
              "        vertical-align: middle;\n",
              "    }\n",
              "\n",
              "    .dataframe tbody tr th {\n",
              "        vertical-align: top;\n",
              "    }\n",
              "\n",
              "    .dataframe thead th {\n",
              "        text-align: right;\n",
              "    }\n",
              "</style>\n",
              "<table border=\"1\" class=\"dataframe\">\n",
              "  <thead>\n",
              "    <tr style=\"text-align: right;\">\n",
              "      <th></th>\n",
              "      <th>SepalLengthCm</th>\n",
              "      <th>SepalWidthCm</th>\n",
              "      <th>PetalLengthCm</th>\n",
              "      <th>PetalWidthCm</th>\n",
              "      <th>Species</th>\n",
              "    </tr>\n",
              "  </thead>\n",
              "  <tbody>\n",
              "    <tr>\n",
              "      <th>0</th>\n",
              "      <td>5.1</td>\n",
              "      <td>3.5</td>\n",
              "      <td>1.4</td>\n",
              "      <td>0.2</td>\n",
              "      <td>Iris-setosa</td>\n",
              "    </tr>\n",
              "    <tr>\n",
              "      <th>1</th>\n",
              "      <td>4.9</td>\n",
              "      <td>3.0</td>\n",
              "      <td>1.4</td>\n",
              "      <td>0.2</td>\n",
              "      <td>Iris-setosa</td>\n",
              "    </tr>\n",
              "    <tr>\n",
              "      <th>2</th>\n",
              "      <td>4.7</td>\n",
              "      <td>3.2</td>\n",
              "      <td>1.3</td>\n",
              "      <td>0.2</td>\n",
              "      <td>Iris-setosa</td>\n",
              "    </tr>\n",
              "    <tr>\n",
              "      <th>3</th>\n",
              "      <td>4.6</td>\n",
              "      <td>3.1</td>\n",
              "      <td>1.5</td>\n",
              "      <td>0.2</td>\n",
              "      <td>Iris-setosa</td>\n",
              "    </tr>\n",
              "    <tr>\n",
              "      <th>4</th>\n",
              "      <td>5.0</td>\n",
              "      <td>3.6</td>\n",
              "      <td>1.4</td>\n",
              "      <td>0.2</td>\n",
              "      <td>Iris-setosa</td>\n",
              "    </tr>\n",
              "  </tbody>\n",
              "</table>\n",
              "</div>\n",
              "      <button class=\"colab-df-convert\" onclick=\"convertToInteractive('df-0b970acc-34ee-4dc2-9c48-abddff92898e')\"\n",
              "              title=\"Convert this dataframe to an interactive table.\"\n",
              "              style=\"display:none;\">\n",
              "        \n",
              "  <svg xmlns=\"http://www.w3.org/2000/svg\" height=\"24px\"viewBox=\"0 0 24 24\"\n",
              "       width=\"24px\">\n",
              "    <path d=\"M0 0h24v24H0V0z\" fill=\"none\"/>\n",
              "    <path d=\"M18.56 5.44l.94 2.06.94-2.06 2.06-.94-2.06-.94-.94-2.06-.94 2.06-2.06.94zm-11 1L8.5 8.5l.94-2.06 2.06-.94-2.06-.94L8.5 2.5l-.94 2.06-2.06.94zm10 10l.94 2.06.94-2.06 2.06-.94-2.06-.94-.94-2.06-.94 2.06-2.06.94z\"/><path d=\"M17.41 7.96l-1.37-1.37c-.4-.4-.92-.59-1.43-.59-.52 0-1.04.2-1.43.59L10.3 9.45l-7.72 7.72c-.78.78-.78 2.05 0 2.83L4 21.41c.39.39.9.59 1.41.59.51 0 1.02-.2 1.41-.59l7.78-7.78 2.81-2.81c.8-.78.8-2.07 0-2.86zM5.41 20L4 18.59l7.72-7.72 1.47 1.35L5.41 20z\"/>\n",
              "  </svg>\n",
              "      </button>\n",
              "      \n",
              "  <style>\n",
              "    .colab-df-container {\n",
              "      display:flex;\n",
              "      flex-wrap:wrap;\n",
              "      gap: 12px;\n",
              "    }\n",
              "\n",
              "    .colab-df-convert {\n",
              "      background-color: #E8F0FE;\n",
              "      border: none;\n",
              "      border-radius: 50%;\n",
              "      cursor: pointer;\n",
              "      display: none;\n",
              "      fill: #1967D2;\n",
              "      height: 32px;\n",
              "      padding: 0 0 0 0;\n",
              "      width: 32px;\n",
              "    }\n",
              "\n",
              "    .colab-df-convert:hover {\n",
              "      background-color: #E2EBFA;\n",
              "      box-shadow: 0px 1px 2px rgba(60, 64, 67, 0.3), 0px 1px 3px 1px rgba(60, 64, 67, 0.15);\n",
              "      fill: #174EA6;\n",
              "    }\n",
              "\n",
              "    [theme=dark] .colab-df-convert {\n",
              "      background-color: #3B4455;\n",
              "      fill: #D2E3FC;\n",
              "    }\n",
              "\n",
              "    [theme=dark] .colab-df-convert:hover {\n",
              "      background-color: #434B5C;\n",
              "      box-shadow: 0px 1px 3px 1px rgba(0, 0, 0, 0.15);\n",
              "      filter: drop-shadow(0px 1px 2px rgba(0, 0, 0, 0.3));\n",
              "      fill: #FFFFFF;\n",
              "    }\n",
              "  </style>\n",
              "\n",
              "      <script>\n",
              "        const buttonEl =\n",
              "          document.querySelector('#df-0b970acc-34ee-4dc2-9c48-abddff92898e button.colab-df-convert');\n",
              "        buttonEl.style.display =\n",
              "          google.colab.kernel.accessAllowed ? 'block' : 'none';\n",
              "\n",
              "        async function convertToInteractive(key) {\n",
              "          const element = document.querySelector('#df-0b970acc-34ee-4dc2-9c48-abddff92898e');\n",
              "          const dataTable =\n",
              "            await google.colab.kernel.invokeFunction('convertToInteractive',\n",
              "                                                     [key], {});\n",
              "          if (!dataTable) return;\n",
              "\n",
              "          const docLinkHtml = 'Like what you see? Visit the ' +\n",
              "            '<a target=\"_blank\" href=https://colab.research.google.com/notebooks/data_table.ipynb>data table notebook</a>'\n",
              "            + ' to learn more about interactive tables.';\n",
              "          element.innerHTML = '';\n",
              "          dataTable['output_type'] = 'display_data';\n",
              "          await google.colab.output.renderOutput(dataTable, element);\n",
              "          const docLink = document.createElement('div');\n",
              "          docLink.innerHTML = docLinkHtml;\n",
              "          element.appendChild(docLink);\n",
              "        }\n",
              "      </script>\n",
              "    </div>\n",
              "  </div>\n",
              "  "
            ],
            "text/plain": [
              "   SepalLengthCm  SepalWidthCm  PetalLengthCm  PetalWidthCm      Species\n",
              "0            5.1           3.5            1.4           0.2  Iris-setosa\n",
              "1            4.9           3.0            1.4           0.2  Iris-setosa\n",
              "2            4.7           3.2            1.3           0.2  Iris-setosa\n",
              "3            4.6           3.1            1.5           0.2  Iris-setosa\n",
              "4            5.0           3.6            1.4           0.2  Iris-setosa"
            ]
          },
          "metadata": {},
          "execution_count": 24
        }
      ]
    },
    {
      "cell_type": "code",
      "metadata": {
        "colab": {
          "base_uri": "https://localhost:8080/"
        },
        "id": "Yph6eTRSp9iI",
        "outputId": "f3c54660-ca2a-44d4-cdd5-2da8deb26f6e"
      },
      "source": [
        "X=data2['SepalLengthCm']\n",
        "m=mean(X); med=median(X)\n",
        "[m,med]"
      ],
      "execution_count": null,
      "outputs": [
        {
          "output_type": "execute_result",
          "data": {
            "text/plain": [
              "[5.843333333333335, 5.8]"
            ]
          },
          "metadata": {},
          "execution_count": 7
        }
      ]
    },
    {
      "cell_type": "markdown",
      "metadata": {
        "id": "wRRyS3gprOnP"
      },
      "source": [
        "#Example3: \n",
        "find mode for **cyl** in **mtcars** dataset. \n",
        "\n"
      ]
    },
    {
      "cell_type": "code",
      "metadata": {
        "colab": {
          "base_uri": "https://localhost:8080/"
        },
        "id": "kX8IDuTervEU",
        "outputId": "86416243-798a-40ac-e0a9-b47efef688d8"
      },
      "source": [
        "from statistics import mode\n",
        "data3=read_csv('mtcars.csv')\n",
        "X=data3['cyl']\n",
        "y=data3['mpg']\n",
        "M=mode(X)\n",
        "M"
      ],
      "execution_count": null,
      "outputs": [
        {
          "output_type": "execute_result",
          "data": {
            "text/plain": [
              "8"
            ]
          },
          "metadata": {},
          "execution_count": 27
        }
      ]
    },
    {
      "cell_type": "code",
      "metadata": {
        "colab": {
          "base_uri": "https://localhost:8080/"
        },
        "id": "ilp8hiRFG-Rn",
        "outputId": "d6de0c3a-f743-4188-a714-2780b07c8046"
      },
      "source": [
        "\n",
        "import pandas as pd\n",
        "import numpy as np\n",
        "xbar=np.mean(D)\n",
        "from numpy import mean\n",
        "mean(D)\n",
        "import statistics as st \n",
        "st.mean(D) # mean\n",
        "st.median(D) # median\n",
        "st.variance(D) #  variance \n",
        "st.stdev(D) # standard deviation\n",
        "Range=max(D)-min(D)  # range\n",
        "Range"
      ],
      "execution_count": null,
      "outputs": [
        {
          "output_type": "execute_result",
          "data": {
            "text/plain": [
              "6"
            ]
          },
          "metadata": {
            "tags": []
          },
          "execution_count": 6
        }
      ]
    },
    {
      "cell_type": "code",
      "metadata": {
        "colab": {
          "base_uri": "https://localhost:8080/"
        },
        "id": "I4u4YFNngtMM",
        "outputId": "eea0f87c-656d-4e75-ec3f-f66a4186fb52"
      },
      "source": [
        "D=[1,0,1,6,5]\n",
        "D=np.array(D)\n",
        "import numpy as np\n",
        "np.mean(D)\n",
        "np.std(D)\n",
        "import pandas as pd\n",
        "y=pd.DataFrame(D) \n",
        "Q1=y.quantile(0.25)\n",
        "Q3=y.quantile(0.75)\n",
        "Q3-Q1"
      ],
      "execution_count": null,
      "outputs": [
        {
          "output_type": "execute_result",
          "data": {
            "text/plain": [
              "0    4.0\n",
              "dtype: float64"
            ]
          },
          "metadata": {
            "tags": []
          },
          "execution_count": 53
        }
      ]
    },
    {
      "cell_type": "code",
      "metadata": {
        "id": "FfXIgVYJ_faK",
        "colab": {
          "resources": {
            "http://localhost:8080/nbextensions/google.colab/files.js": {
              "data": "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",
              "ok": true,
              "headers": [
                [
                  "content-type",
                  "application/javascript"
                ]
              ],
              "status": 200,
              "status_text": ""
            }
          },
          "base_uri": "https://localhost:8080/",
          "height": 73
        },
        "outputId": "73744a20-7b9e-4104-ae45-3c5bfad00810"
      },
      "source": [
        "from google.colab import files\n",
        "uploaded = files.upload()\n"
      ],
      "execution_count": null,
      "outputs": [
        {
          "output_type": "display_data",
          "data": {
            "text/html": [
              "\n",
              "     <input type=\"file\" id=\"files-fd27a5f0-728f-4f03-acc7-c3fdf29c2f70\" name=\"files[]\" multiple disabled\n",
              "        style=\"border:none\" />\n",
              "     <output id=\"result-fd27a5f0-728f-4f03-acc7-c3fdf29c2f70\">\n",
              "      Upload widget is only available when the cell has been executed in the\n",
              "      current browser session. Please rerun this cell to enable.\n",
              "      </output>\n",
              "      <script src=\"/nbextensions/google.colab/files.js\"></script> "
            ],
            "text/plain": [
              "<IPython.core.display.HTML object>"
            ]
          },
          "metadata": {
            "tags": []
          }
        },
        {
          "output_type": "stream",
          "text": [
            "Saving Iris.csv to Iris.csv\n"
          ],
          "name": "stdout"
        }
      ]
    },
    {
      "cell_type": "code",
      "metadata": {
        "colab": {
          "base_uri": "https://localhost:8080/",
          "height": 195
        },
        "id": "tCyPYk5tKIbH",
        "outputId": "82e6242b-0b5a-4221-b734-b1c1e5a9a8d3"
      },
      "source": [
        "import pandas as pd\n",
        "from pandas import read_csv\n",
        "dataset =read_csv('Iris.csv')\n",
        "dataset.head()\n",
        "#dataset.shape"
      ],
      "execution_count": null,
      "outputs": [
        {
          "output_type": "execute_result",
          "data": {
            "text/html": [
              "<div>\n",
              "<style scoped>\n",
              "    .dataframe tbody tr th:only-of-type {\n",
              "        vertical-align: middle;\n",
              "    }\n",
              "\n",
              "    .dataframe tbody tr th {\n",
              "        vertical-align: top;\n",
              "    }\n",
              "\n",
              "    .dataframe thead th {\n",
              "        text-align: right;\n",
              "    }\n",
              "</style>\n",
              "<table border=\"1\" class=\"dataframe\">\n",
              "  <thead>\n",
              "    <tr style=\"text-align: right;\">\n",
              "      <th></th>\n",
              "      <th>SepalLengthCm</th>\n",
              "      <th>SepalWidthCm</th>\n",
              "      <th>PetalLengthCm</th>\n",
              "      <th>PetalWidthCm</th>\n",
              "      <th>Species</th>\n",
              "    </tr>\n",
              "  </thead>\n",
              "  <tbody>\n",
              "    <tr>\n",
              "      <th>0</th>\n",
              "      <td>5.1</td>\n",
              "      <td>3.5</td>\n",
              "      <td>1.4</td>\n",
              "      <td>0.2</td>\n",
              "      <td>Iris-setosa</td>\n",
              "    </tr>\n",
              "    <tr>\n",
              "      <th>1</th>\n",
              "      <td>4.9</td>\n",
              "      <td>3.0</td>\n",
              "      <td>1.4</td>\n",
              "      <td>0.2</td>\n",
              "      <td>Iris-setosa</td>\n",
              "    </tr>\n",
              "    <tr>\n",
              "      <th>2</th>\n",
              "      <td>4.7</td>\n",
              "      <td>3.2</td>\n",
              "      <td>1.3</td>\n",
              "      <td>0.2</td>\n",
              "      <td>Iris-setosa</td>\n",
              "    </tr>\n",
              "    <tr>\n",
              "      <th>3</th>\n",
              "      <td>4.6</td>\n",
              "      <td>3.1</td>\n",
              "      <td>1.5</td>\n",
              "      <td>0.2</td>\n",
              "      <td>Iris-setosa</td>\n",
              "    </tr>\n",
              "    <tr>\n",
              "      <th>4</th>\n",
              "      <td>5.0</td>\n",
              "      <td>3.6</td>\n",
              "      <td>1.4</td>\n",
              "      <td>0.2</td>\n",
              "      <td>Iris-setosa</td>\n",
              "    </tr>\n",
              "  </tbody>\n",
              "</table>\n",
              "</div>"
            ],
            "text/plain": [
              "   SepalLengthCm  SepalWidthCm  PetalLengthCm  PetalWidthCm      Species\n",
              "0            5.1           3.5            1.4           0.2  Iris-setosa\n",
              "1            4.9           3.0            1.4           0.2  Iris-setosa\n",
              "2            4.7           3.2            1.3           0.2  Iris-setosa\n",
              "3            4.6           3.1            1.5           0.2  Iris-setosa\n",
              "4            5.0           3.6            1.4           0.2  Iris-setosa"
            ]
          },
          "metadata": {
            "tags": []
          },
          "execution_count": 1
        }
      ]
    },
    {
      "cell_type": "code",
      "metadata": {
        "colab": {
          "base_uri": "https://localhost:8080/"
        },
        "id": "ea2VliLWKfv7",
        "outputId": "b6cdd9ed-8901-4ca6-8fcb-61a416672079"
      },
      "source": [
        "X=dataset['SepalLengthCm']\n",
        "import statistics as st\n",
        "xbar=st.mean(X) # mean\n",
        "med=st.median(X) # median\n",
        "var=st.variance(X) #  variance \n",
        "s=st.stdev(X) # standard deviation\n",
        "r=Range=max(X)-min(X)  # range\n",
        "print(xbar,med,var,s,r)\n"
      ],
      "execution_count": null,
      "outputs": [
        {
          "output_type": "stream",
          "text": [
            "5.843333333333334 5.8 0.6856935123042506 0.8280661279778629 3.6000000000000005\n"
          ],
          "name": "stdout"
        }
      ]
    },
    {
      "cell_type": "code",
      "metadata": {
        "colab": {
          "base_uri": "https://localhost:8080/",
          "height": 143
        },
        "id": "7hiZ0WRmrhgJ",
        "outputId": "84cbfd40-67f8-4de6-bdf5-8270eabed3bc"
      },
      "source": [
        "import pandas as pd\n",
        "dataset = pd.read_csv('mtcars.csv')\n",
        "dataset.head(3)\n",
        "#dataset.shape"
      ],
      "execution_count": null,
      "outputs": [
        {
          "output_type": "execute_result",
          "data": {
            "text/html": [
              "<div>\n",
              "<style scoped>\n",
              "    .dataframe tbody tr th:only-of-type {\n",
              "        vertical-align: middle;\n",
              "    }\n",
              "\n",
              "    .dataframe tbody tr th {\n",
              "        vertical-align: top;\n",
              "    }\n",
              "\n",
              "    .dataframe thead th {\n",
              "        text-align: right;\n",
              "    }\n",
              "</style>\n",
              "<table border=\"1\" class=\"dataframe\">\n",
              "  <thead>\n",
              "    <tr style=\"text-align: right;\">\n",
              "      <th></th>\n",
              "      <th>model</th>\n",
              "      <th>mpg</th>\n",
              "      <th>cyl</th>\n",
              "      <th>disp</th>\n",
              "      <th>hp</th>\n",
              "      <th>drat</th>\n",
              "      <th>wt</th>\n",
              "      <th>qsec</th>\n",
              "      <th>vs</th>\n",
              "      <th>am</th>\n",
              "      <th>gear</th>\n",
              "      <th>carb</th>\n",
              "    </tr>\n",
              "  </thead>\n",
              "  <tbody>\n",
              "    <tr>\n",
              "      <th>0</th>\n",
              "      <td>Mazda RX4</td>\n",
              "      <td>21.0</td>\n",
              "      <td>6</td>\n",
              "      <td>160.0</td>\n",
              "      <td>110</td>\n",
              "      <td>3.90</td>\n",
              "      <td>2.620</td>\n",
              "      <td>16.46</td>\n",
              "      <td>0</td>\n",
              "      <td>1</td>\n",
              "      <td>4</td>\n",
              "      <td>4</td>\n",
              "    </tr>\n",
              "    <tr>\n",
              "      <th>1</th>\n",
              "      <td>Mazda RX4 Wag</td>\n",
              "      <td>21.0</td>\n",
              "      <td>6</td>\n",
              "      <td>160.0</td>\n",
              "      <td>110</td>\n",
              "      <td>3.90</td>\n",
              "      <td>2.875</td>\n",
              "      <td>17.02</td>\n",
              "      <td>0</td>\n",
              "      <td>1</td>\n",
              "      <td>4</td>\n",
              "      <td>4</td>\n",
              "    </tr>\n",
              "    <tr>\n",
              "      <th>2</th>\n",
              "      <td>Datsun 710</td>\n",
              "      <td>22.8</td>\n",
              "      <td>4</td>\n",
              "      <td>108.0</td>\n",
              "      <td>93</td>\n",
              "      <td>3.85</td>\n",
              "      <td>2.320</td>\n",
              "      <td>18.61</td>\n",
              "      <td>1</td>\n",
              "      <td>1</td>\n",
              "      <td>4</td>\n",
              "      <td>1</td>\n",
              "    </tr>\n",
              "  </tbody>\n",
              "</table>\n",
              "</div>"
            ],
            "text/plain": [
              "           model   mpg  cyl   disp   hp  drat     wt   qsec  vs  am  gear  carb\n",
              "0      Mazda RX4  21.0    6  160.0  110  3.90  2.620  16.46   0   1     4     4\n",
              "1  Mazda RX4 Wag  21.0    6  160.0  110  3.90  2.875  17.02   0   1     4     4\n",
              "2     Datsun 710  22.8    4  108.0   93  3.85  2.320  18.61   1   1     4     1"
            ]
          },
          "metadata": {},
          "execution_count": 15
        }
      ]
    },
    {
      "cell_type": "markdown",
      "metadata": {
        "id": "EsQA6djhvGb9"
      },
      "source": [
        ""
      ]
    },
    {
      "cell_type": "markdown",
      "metadata": {
        "id": "tWj967Iyt2_F"
      },
      "source": [
        "## Measures of Variability\n",
        "A measure of variability is a summary statistic that represents the amount of dispersion in a dataset.\n",
        "\n",
        "1. Range\n",
        "2. Interquartile Range\n",
        "3. Variance\n",
        "4. Standard Deviation\n",
        "\n",
        " \n",
        "\n"
      ]
    },
    {
      "cell_type": "markdown",
      "metadata": {
        "id": "caZC9BAkt538"
      },
      "source": [
        "###Range\n",
        "The Range is the difference between the lowest and highest values."
      ]
    },
    {
      "cell_type": "markdown",
      "metadata": {
        "id": "wajLN5JhQRpk"
      },
      "source": [
        "**Illustrative Example 7:** Let the dataset be D={4, 6, 9, 3, 7}, what is the range?\n",
        "\n",
        "the lowest value is 3, and the highest is 9.\n",
        "\n",
        "So the range is 9 − 3 = 6."
      ]
    },
    {
      "cell_type": "markdown",
      "metadata": {
        "id": "3ZJp9PNzLgcH"
      },
      "source": [
        "**Illustrative Example 8:**\n",
        "what is the range of **disp** in **mtcars** dataset?"
      ]
    },
    {
      "cell_type": "code",
      "source": [
        "X=data3['disp']\n",
        "R=max(X)-min(X)\n",
        "R"
      ],
      "metadata": {
        "colab": {
          "base_uri": "https://localhost:8080/"
        },
        "id": "waSK7W1Y62mr",
        "outputId": "df085529-e61c-43ac-de0b-23582209354e"
      },
      "execution_count": null,
      "outputs": [
        {
          "output_type": "execute_result",
          "data": {
            "text/plain": [
              "400.9"
            ]
          },
          "metadata": {},
          "execution_count": 16
        }
      ]
    },
    {
      "cell_type": "code",
      "source": [
        "%load_ext rpy2.ipython"
      ],
      "metadata": {
        "id": "n8HuN7Rw7H1c",
        "colab": {
          "base_uri": "https://localhost:8080/"
        },
        "outputId": "d2dd9abe-b65c-4ff3-a140-cb85ace5e986"
      },
      "execution_count": null,
      "outputs": [
        {
          "output_type": "stream",
          "name": "stdout",
          "text": [
            "The rpy2.ipython extension is already loaded. To reload it, use:\n",
            "  %reload_ext rpy2.ipython\n"
          ]
        }
      ]
    },
    {
      "cell_type": "code",
      "metadata": {
        "colab": {
          "base_uri": "https://localhost:8080/"
        },
        "id": "5_51aRcLLorH",
        "outputId": "7067e801-08f9-4c69-8304-a1a94c08a4e2"
      },
      "source": [
        "\n",
        "%%R\n",
        "# r script for FYI\n",
        "d=mtcars$disp\n",
        "R=max(d)-min(d)\n",
        "R # range"
      ],
      "execution_count": null,
      "outputs": [
        {
          "output_type": "stream",
          "name": "stdout",
          "text": [
            "[1] 400.9\n"
          ]
        }
      ]
    },
    {
      "cell_type": "code",
      "source": [
        ""
      ],
      "metadata": {
        "id": "kCZ7qHyoiF-c"
      },
      "execution_count": null,
      "outputs": []
    },
    {
      "cell_type": "markdown",
      "metadata": {
        "id": "47zAp42IQnmr"
      },
      "source": [
        "###Interquartile Range (IQR)\n",
        "The IQR is the range of 50% of middle data points when are sorted from minmum to maximum. To find the interquartile range (IQR), ​first find the median (middle value) of the lower and upper half of the data. These values are quartile 1 (Q1) and quartile 3 (Q3). The IQR is the difference between Q3 and Q1.\n",
        "\n",
        "![image.png](data:image/png;base64,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)"
      ]
    },
    {
      "cell_type": "markdown",
      "metadata": {
        "id": "qQStLxnmNyKW"
      },
      "source": [
        "**Illustrative Example 8:** Let D be D={1,4,3,2,8,9}, compute IQR. \n",
        "\n",
        "D={1,4,3,2,8,9}={1,2,3,4,8,9}\n",
        "\n",
        "Q1=2,\n",
        "\n",
        "Q3=8,\n",
        "\n",
        "IQR=Q3-Q1=8-2=6"
      ]
    },
    {
      "cell_type": "markdown",
      "metadata": {
        "id": "j1WEgos2OueF"
      },
      "source": [
        "**Illustrative Example 9:**\n",
        "Find IQR for the **mpg** in the **mtcars** dataset. "
      ]
    },
    {
      "cell_type": "code",
      "metadata": {
        "id": "gVD1WtaoO6G-",
        "colab": {
          "base_uri": "https://localhost:8080/"
        },
        "outputId": "3a62d0eb-4190-42a0-fc86-922413afeab6"
      },
      "source": [
        "\n",
        "m=data3['mpg']\n",
        "Q1=m.quantile(0.25)  # the first quartile \n",
        "Q3=m.quantile(0.75)  # the third quartile \n",
        "IQR=Q3-Q1\n",
        "print(IQR)"
      ],
      "execution_count": null,
      "outputs": [
        {
          "output_type": "stream",
          "name": "stdout",
          "text": [
            "7.375\n"
          ]
        }
      ]
    },
    {
      "cell_type": "markdown",
      "source": [
        "#Example: \n",
        "Compute the variance and the standard deviation of mpg. "
      ],
      "metadata": {
        "id": "Ts8dBczeGovS"
      }
    },
    {
      "cell_type": "markdown",
      "source": [
        ""
      ],
      "metadata": {
        "id": "owEvOSChxEpv"
      }
    },
    {
      "cell_type": "code",
      "source": [
        "from statistics import variance, stdev\n",
        "V=variance(m); sd=stdev(m)\n",
        "[V,sd]"
      ],
      "metadata": {
        "colab": {
          "base_uri": "https://localhost:8080/"
        },
        "id": "jXiZ9MbJGxoP",
        "outputId": "db870025-e16e-45b5-bb89-2863b07b639c"
      },
      "execution_count": null,
      "outputs": [
        {
          "output_type": "execute_result",
          "data": {
            "text/plain": [
              "[36.32410282258064, 6.026948052089104]"
            ]
          },
          "metadata": {},
          "execution_count": 13
        }
      ]
    },
    {
      "cell_type": "markdown",
      "source": [
        "# Example 8: \n",
        "what is the variance  of sepallength in iris dataset?"
      ],
      "metadata": {
        "id": "lQluTonl93Bu"
      }
    },
    {
      "cell_type": "code",
      "source": [
        "sl=data2['SepalLengthCm']\n",
        "from statistics import variance, stdev\n",
        "V=variance(sl) ; s=stdev(sl)\n",
        "[V,s]"
      ],
      "metadata": {
        "colab": {
          "base_uri": "https://localhost:8080/"
        },
        "id": "Rw8er8jQ9vSK",
        "outputId": "e85c69cc-9a44-46d3-f5ac-527b8a75f7cb"
      },
      "execution_count": null,
      "outputs": [
        {
          "output_type": "execute_result",
          "data": {
            "text/plain": [
              "[0.6856935123042506, 0.8280661279778629]"
            ]
          },
          "metadata": {},
          "execution_count": 21
        }
      ]
    },
    {
      "cell_type": "code",
      "source": [
        "%load_ext rpy2.ipython"
      ],
      "metadata": {
        "id": "gzhNH_WnFF2t"
      },
      "execution_count": null,
      "outputs": []
    },
    {
      "cell_type": "code",
      "source": [
        ""
      ],
      "metadata": {
        "id": "DzvpjMXh9t91"
      },
      "execution_count": null,
      "outputs": []
    },
    {
      "cell_type": "code",
      "metadata": {
        "colab": {
          "base_uri": "https://localhost:8080/"
        },
        "id": "RILjQD27PyhM",
        "outputId": "59c6e60a-f92e-4e03-ac6c-1ce132402611"
      },
      "source": [
        "%%R\n",
        "data3=read.csv('mtcars.csv')\n",
        "m=data3$mpg\n",
        "Q=quantile(m)\n",
        "IQR=Q[4]-Q[2]\n",
        "IQR"
      ],
      "execution_count": null,
      "outputs": [
        {
          "output_type": "stream",
          "name": "stdout",
          "text": [
            "  75% \n",
            "7.375 \n"
          ]
        }
      ]
    },
    {
      "cell_type": "markdown",
      "metadata": {
        "id": "RR8zU4sJQWKp"
      },
      "source": [
        "**Illustrative Example 10:**\n",
        "Let **Petal.Width** be the variable of interest in **iris** dataset. Compute the mean, median, Range and IQR of this variable. "
      ]
    },
    {
      "cell_type": "code",
      "metadata": {
        "colab": {
          "base_uri": "https://localhost:8080/"
        },
        "id": "dBDOrXiBQ6pb",
        "outputId": "c5f64370-a419-4870-f698-8600853b602e"
      },
      "source": [
        "%%R\n",
        "print(head(iris))\n",
        "dim(iris)\n",
        " "
      ],
      "execution_count": null,
      "outputs": [
        {
          "output_type": "stream",
          "text": [
            "  Sepal.Length Sepal.Width Petal.Length Petal.Width Species\n",
            "1          5.1         3.5          1.4         0.2  setosa\n",
            "2          4.9         3.0          1.4         0.2  setosa\n",
            "3          4.7         3.2          1.3         0.2  setosa\n",
            "4          4.6         3.1          1.5         0.2  setosa\n",
            "5          5.0         3.6          1.4         0.2  setosa\n",
            "6          5.4         3.9          1.7         0.4  setosa\n",
            "[1] 150   5\n"
          ],
          "name": "stdout"
        }
      ]
    },
    {
      "cell_type": "code",
      "metadata": {
        "colab": {
          "base_uri": "https://localhost:8080/"
        },
        "id": "KH5Z5wbtksgD",
        "outputId": "dad56ada-ca8a-449b-a29d-424fdc5c8270"
      },
      "source": [
        "%%R\n",
        "X=iris$Petal.Width\n",
        "#mean\n",
        "m=mean(X)\n",
        "print(c('mean is:',m))\n",
        "#median\n",
        "med=median(X)\n",
        "print(med)\n",
        "#range\n",
        "R=max(X)-min(X)\n",
        "print(R)\n",
        "#IQR\n",
        "Q=quantile(X)\n",
        "Q1=Q[2]; Q3=Q[4]\n",
        "IQR=Q3-Q1\n",
        "print(IQR)\n"
      ],
      "execution_count": null,
      "outputs": [
        {
          "output_type": "stream",
          "name": "stdout",
          "text": [
            "[1] \"mean is:\"         \"1.19933333333333\"\n",
            "[1] 1.3\n",
            "[1] 2.4\n",
            "75% \n",
            "1.5 \n"
          ]
        }
      ]
    },
    {
      "cell_type": "markdown",
      "metadata": {
        "id": "gPDW9t3LRa7k"
      },
      "source": [
        "###Variance\n",
        "\n",
        "The variance is a measure of variability. It is calculated by taking the average of squared deviations from the mean."
      ]
    },
    {
      "cell_type": "markdown",
      "metadata": {
        "id": "EEAgSpJYSHNr"
      },
      "source": [
        "![image.png](data:image/png;base64,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)"
      ]
    },
    {
      "cell_type": "markdown",
      "metadata": {
        "id": "vePd45U_o8-O"
      },
      "source": [
        "**Illustrative Example 11:**\n",
        "Let **sepal.length** be the variable of interest in **iris** dataset. Compute the variance of this variable. "
      ]
    },
    {
      "cell_type": "code",
      "metadata": {
        "colab": {
          "base_uri": "https://localhost:8080/"
        },
        "id": "aBvkMAtgpGMG",
        "outputId": "fdb5fcd2-6fd9-4bba-f973-10ffd6db62c9"
      },
      "source": [
        "%%R\n",
        "X=iris$Sepal.Length\n",
        "#variance\n",
        "V=var(X)\n",
        "print(V)"
      ],
      "execution_count": null,
      "outputs": [
        {
          "output_type": "stream",
          "text": [
            "[1] 0.6856935\n"
          ],
          "name": "stdout"
        }
      ]
    },
    {
      "cell_type": "markdown",
      "metadata": {
        "id": "aXKJ4vf_SJhD"
      },
      "source": [
        "###Standard deviation\n",
        "\n",
        "The standard deviation is the squared root of the variance which has the same scale with the data points.\n",
        "\n",
        "A high standard deviation means that values are generally far from the mean, while a low standard deviation indicates that values are clustered close to the mean."
      ]
    },
    {
      "cell_type": "markdown",
      "source": [
        "![image.png](data:image/png;base64,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)"
      ],
      "metadata": {
        "id": "KpB0U02ugPom"
      }
    },
    {
      "cell_type": "markdown",
      "metadata": {
        "id": "vGmv5AYWpUR-"
      },
      "source": [
        "**Illustrative Example 12:**\n",
        "Let **Petal.Width** be the variable of interest in **iris** dataset. Compute the standard deviation of this variable."
      ]
    },
    {
      "cell_type": "code",
      "metadata": {
        "colab": {
          "base_uri": "https://localhost:8080/"
        },
        "id": "q6btwzgopgts",
        "outputId": "3da83793-8266-4cf8-d5b3-b0b6a5726fc6"
      },
      "source": [
        "%%R\n",
        "X=iris$Petal.Width\n",
        "#variance\n",
        "S=sd(X)\n",
        "print(S)"
      ],
      "execution_count": null,
      "outputs": [
        {
          "output_type": "stream",
          "text": [
            "[1] 0.7622377\n"
          ],
          "name": "stdout"
        }
      ]
    },
    {
      "cell_type": "markdown",
      "metadata": {
        "id": "XiKhhHEkvNwT"
      },
      "source": [
        "## Measures of Variability\n",
        "A measure of variability is a summary statistic that represents the amount of dispersion in a dataset.\n",
        "\n",
        "1. Range\n",
        "2. Interquartile Range\n",
        "3. Variance\n",
        "4. Standard Deviation\n"
      ]
    },
    {
      "cell_type": "markdown",
      "metadata": {
        "id": "tffDolgzupEs"
      },
      "source": [
        "#Example 4:\n",
        "\n",
        "compute the range for **wt** in **mtcars** dataset. "
      ]
    },
    {
      "cell_type": "code",
      "metadata": {
        "colab": {
          "base_uri": "https://localhost:8080/"
        },
        "id": "TXB-Jv1Yuwj_",
        "outputId": "81ee9774-cd5f-485d-c2d9-c878cae7c7d3"
      },
      "source": [
        "X=dataset['wt']\n",
        "R=max(X)-min(X)\n",
        "R"
      ],
      "execution_count": null,
      "outputs": [
        {
          "output_type": "execute_result",
          "data": {
            "text/plain": [
              "3.9109999999999996"
            ]
          },
          "metadata": {},
          "execution_count": 16
        }
      ]
    },
    {
      "cell_type": "code",
      "metadata": {
        "colab": {
          "base_uri": "https://localhost:8080/"
        },
        "id": "kRSGN9CewTU0",
        "outputId": "13fe47ec-539e-4ce4-e17f-5de686c7c8fc"
      },
      "source": [
        "# IQR\n",
        "from numpy import quantile\n",
        "Q1=quantile(X,0.25) \n",
        "Q3=quantile(X,0.75) \n",
        "IQR=Q3-Q1\n",
        "IQR"
      ],
      "execution_count": null,
      "outputs": [
        {
          "output_type": "execute_result",
          "data": {
            "text/plain": [
              "1.02875"
            ]
          },
          "metadata": {},
          "execution_count": 19
        }
      ]
    },
    {
      "cell_type": "markdown",
      "metadata": {
        "id": "SjWRr_CNxPCn"
      },
      "source": [
        "#Example 5:\n",
        "\n",
        "compute the IQR of **medv** in **Boston** dataset. "
      ]
    },
    {
      "cell_type": "code",
      "metadata": {
        "colab": {
          "base_uri": "https://localhost:8080/"
        },
        "id": "_b1j3oNuxggV",
        "outputId": "89e071da-6394-4a68-f0fd-9c1280173e8d"
      },
      "source": [
        "data=read_csv('boston_house_prices.csv')\n",
        "data.head()\n",
        "X=data['MEDV']\n",
        "Q1=quantile(X,0.25) ; Q3=quantile(X,0.75)\n",
        "IQR=Q3-Q1\n",
        "IQR"
      ],
      "execution_count": null,
      "outputs": [
        {
          "output_type": "execute_result",
          "data": {
            "text/plain": [
              "7.975000000000001"
            ]
          },
          "metadata": {},
          "execution_count": 21
        }
      ]
    },
    {
      "cell_type": "markdown",
      "metadata": {
        "id": "aG_JFrxC0weu"
      },
      "source": [
        "# Example 6:\n",
        "\n",
        "compute the variance and standard deviation of **TAX** in the **Boston** dataset"
      ]
    },
    {
      "cell_type": "code",
      "metadata": {
        "colab": {
          "base_uri": "https://localhost:8080/"
        },
        "id": "tB2oQn9C05jf",
        "outputId": "5c8753bb-1859-46a6-afb0-50d372c2b114"
      },
      "source": [
        "Y=data['TAX']\n",
        "from statistics import variance, stdev\n",
        "V=variance(Y)\n",
        " \n",
        "s=stdev(Y)\n",
        "print(V,s)\n",
        " "
      ],
      "execution_count": null,
      "outputs": [
        {
          "output_type": "stream",
          "name": "stdout",
          "text": [
            "28404.759488122727 28404.759488122727\n"
          ]
        }
      ]
    },
    {
      "cell_type": "markdown",
      "metadata": {
        "id": "2ae6ssxsfUHR"
      },
      "source": [
        "# How to compute central and variatioal measures "
      ]
    },
    {
      "cell_type": "code",
      "metadata": {
        "id": "IPJYGIBefbBd",
        "colab": {
          "base_uri": "https://localhost:8080/"
        },
        "outputId": "a4d79610-dbad-4590-ae92-c8b201046a67"
      },
      "source": [
        "import numpy as np\n",
        "X=dataset['mpg'] # variable of interest \n",
        "mean = np.mean(X) # mean of disp\n",
        "std = np.std(X)  # standard deviation \n",
        "print('mean of the dataset is', mean) \n",
        "print('std. deviation is', std) \n",
        "np.median(X)"
      ],
      "execution_count": null,
      "outputs": [
        {
          "output_type": "stream",
          "text": [
            "mean of the dataset is 20.090624999999996\n",
            "std. deviation is 5.932029552301219\n"
          ],
          "name": "stdout"
        },
        {
          "output_type": "execute_result",
          "data": {
            "text/plain": [
              "19.2"
            ]
          },
          "metadata": {
            "tags": []
          },
          "execution_count": 5
        }
      ]
    },
    {
      "cell_type": "code",
      "metadata": {
        "colab": {
          "base_uri": "https://localhost:8080/"
        },
        "id": "jaXKJGxpYadt",
        "outputId": "9044edd2-f6fb-4bc3-81e3-8e26d8c0402a"
      },
      "source": [
        "#compute median and mode\n",
        "import statistics as st\n",
        "\n",
        "y=dataset['gear']\n",
        "M=st.mode(y) # the class of variable with the highest frequency is mode\n",
        "M"
      ],
      "execution_count": null,
      "outputs": [
        {
          "output_type": "execute_result",
          "data": {
            "text/plain": [
              "3"
            ]
          },
          "metadata": {
            "tags": []
          },
          "execution_count": 6
        }
      ]
    },
    {
      "cell_type": "markdown",
      "metadata": {
        "id": "l7MJP8CMZ2JS"
      },
      "source": [
        "variational measures\n",
        "range\n",
        "variance\n",
        "standard deviation"
      ]
    },
    {
      "cell_type": "code",
      "metadata": {
        "colab": {
          "base_uri": "https://localhost:8080/"
        },
        "id": "g_TkPb5Se5dj",
        "outputId": "385f8721-3c89-4b40-f3b9-b98cf9088acf"
      },
      "source": [
        "r=max(X)-min(X) # range\n",
        "r"
      ],
      "execution_count": null,
      "outputs": [
        {
          "output_type": "execute_result",
          "data": {
            "text/plain": [
              "23.5"
            ]
          },
          "metadata": {
            "tags": []
          },
          "execution_count": 4
        }
      ]
    },
    {
      "cell_type": "code",
      "metadata": {
        "colab": {
          "base_uri": "https://localhost:8080/"
        },
        "id": "bG7yBA4naFrI",
        "outputId": "7c149a0e-f0b5-4789-95ff-399ee71f339a"
      },
      "source": [
        "# variance and std\n",
        "V=stat.variance(X)\n",
        "s=stat.stdev(X)\n",
        "print('variance,standard deviation:',V,s)"
      ],
      "execution_count": null,
      "outputs": [
        {
          "output_type": "stream",
          "text": [
            "variance,standard deviation: 36.32410282258064 6.026948052089104\n"
          ],
          "name": "stdout"
        }
      ]
    },
    {
      "cell_type": "markdown",
      "metadata": {
        "id": "z1HHqZRFaDn4"
      },
      "source": [
        ""
      ]
    },
    {
      "cell_type": "code",
      "metadata": {
        "colab": {
          "base_uri": "https://localhost:8080/"
        },
        "id": "lPnmQYJJGv74",
        "outputId": "303ed29a-f7a5-4b32-fb37-e8dc84170c41"
      },
      "source": [
        "# median\n",
        "\n",
        "import statistics as st\n",
        "Y=dataset['gear']\n",
        "M=st.mode(Y)\n",
        "V=st.variance(X)\n",
        "m=st.median(X)\n",
        "print(M,V,m)"
      ],
      "execution_count": null,
      "outputs": [
        {
          "output_type": "stream",
          "text": [
            "3 36.32410282258064 19.2\n"
          ],
          "name": "stdout"
        }
      ]
    },
    {
      "cell_type": "markdown",
      "metadata": {
        "id": "6lOnIN-CBuc-"
      },
      "source": [
        "# Key application of numerical measures\n",
        "\n",
        "1. data normalization\n",
        "\n",
        "2. data scaling \n",
        "\n",
        "3. outliers detection\n",
        "\n",
        "4. missing value imputation \n",
        "\n",
        "\n"
      ]
    },
    {
      "cell_type": "markdown",
      "metadata": {
        "id": "Oj-DhLfnCZXU"
      },
      "source": [
        "# data normalization\n",
        "Z=(X-mean(X))/std(X)\n",
        "\n"
      ]
    },
    {
      "cell_type": "markdown",
      "source": [
        "![image.png](data:image/png;base64,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)"
      ],
      "metadata": {
        "id": "6IlZco7rDtW2"
      }
    },
    {
      "cell_type": "markdown",
      "metadata": {
        "id": "PrQ1YijzGSgR"
      },
      "source": [
        "# Example: \n",
        "Use **Iris** dataset, consider **Sepal.Length** as the variable of interest, normalize this varaible, print out the dataset including the original and normalized **Sepal.Length**."
      ]
    },
    {
      "cell_type": "code",
      "metadata": {
        "id": "glWB2r7PGqv0",
        "colab": {
          "base_uri": "https://localhost:8080/",
          "height": 206
        },
        "outputId": "c61cea8e-2869-416a-84ed-44b8337904f6"
      },
      "source": [
        "from numpy import mean, std, transpose \n",
        "from pandas import read_csv, DataFrame\n",
        "data=read_csv('Iris.csv')\n",
        "data.head()\n",
        "\n",
        "X=data['SepalLengthCm']\n",
        "m=mean(X)  # central metric\n",
        "s=std(X)  # variational metric \n",
        "Z=(X-m)/s # z-score\n",
        "[min(Z), max(Z)] \n",
        "# create a dataframe based on original and normalized value \n",
        "df=DataFrame([X,Z])\n",
        "\n",
        "df=df.transpose()\n",
        "df.columns=['original','z-score']\n",
        "df.head()\n"
      ],
      "execution_count": null,
      "outputs": [
        {
          "output_type": "execute_result",
          "data": {
            "text/html": [
              "\n",
              "  <div id=\"df-d8d08521-57c5-4499-8193-1955f36494f7\">\n",
              "    <div class=\"colab-df-container\">\n",
              "      <div>\n",
              "<style scoped>\n",
              "    .dataframe tbody tr th:only-of-type {\n",
              "        vertical-align: middle;\n",
              "    }\n",
              "\n",
              "    .dataframe tbody tr th {\n",
              "        vertical-align: top;\n",
              "    }\n",
              "\n",
              "    .dataframe thead th {\n",
              "        text-align: right;\n",
              "    }\n",
              "</style>\n",
              "<table border=\"1\" class=\"dataframe\">\n",
              "  <thead>\n",
              "    <tr style=\"text-align: right;\">\n",
              "      <th></th>\n",
              "      <th>original</th>\n",
              "      <th>z-score</th>\n",
              "    </tr>\n",
              "  </thead>\n",
              "  <tbody>\n",
              "    <tr>\n",
              "      <th>0</th>\n",
              "      <td>5.1</td>\n",
              "      <td>-0.900681</td>\n",
              "    </tr>\n",
              "    <tr>\n",
              "      <th>1</th>\n",
              "      <td>4.9</td>\n",
              "      <td>-1.143017</td>\n",
              "    </tr>\n",
              "    <tr>\n",
              "      <th>2</th>\n",
              "      <td>4.7</td>\n",
              "      <td>-1.385353</td>\n",
              "    </tr>\n",
              "    <tr>\n",
              "      <th>3</th>\n",
              "      <td>4.6</td>\n",
              "      <td>-1.506521</td>\n",
              "    </tr>\n",
              "    <tr>\n",
              "      <th>4</th>\n",
              "      <td>5.0</td>\n",
              "      <td>-1.021849</td>\n",
              "    </tr>\n",
              "  </tbody>\n",
              "</table>\n",
              "</div>\n",
              "      <button class=\"colab-df-convert\" onclick=\"convertToInteractive('df-d8d08521-57c5-4499-8193-1955f36494f7')\"\n",
              "              title=\"Convert this dataframe to an interactive table.\"\n",
              "              style=\"display:none;\">\n",
              "        \n",
              "  <svg xmlns=\"http://www.w3.org/2000/svg\" height=\"24px\"viewBox=\"0 0 24 24\"\n",
              "       width=\"24px\">\n",
              "    <path d=\"M0 0h24v24H0V0z\" fill=\"none\"/>\n",
              "    <path d=\"M18.56 5.44l.94 2.06.94-2.06 2.06-.94-2.06-.94-.94-2.06-.94 2.06-2.06.94zm-11 1L8.5 8.5l.94-2.06 2.06-.94-2.06-.94L8.5 2.5l-.94 2.06-2.06.94zm10 10l.94 2.06.94-2.06 2.06-.94-2.06-.94-.94-2.06-.94 2.06-2.06.94z\"/><path d=\"M17.41 7.96l-1.37-1.37c-.4-.4-.92-.59-1.43-.59-.52 0-1.04.2-1.43.59L10.3 9.45l-7.72 7.72c-.78.78-.78 2.05 0 2.83L4 21.41c.39.39.9.59 1.41.59.51 0 1.02-.2 1.41-.59l7.78-7.78 2.81-2.81c.8-.78.8-2.07 0-2.86zM5.41 20L4 18.59l7.72-7.72 1.47 1.35L5.41 20z\"/>\n",
              "  </svg>\n",
              "      </button>\n",
              "      \n",
              "  <style>\n",
              "    .colab-df-container {\n",
              "      display:flex;\n",
              "      flex-wrap:wrap;\n",
              "      gap: 12px;\n",
              "    }\n",
              "\n",
              "    .colab-df-convert {\n",
              "      background-color: #E8F0FE;\n",
              "      border: none;\n",
              "      border-radius: 50%;\n",
              "      cursor: pointer;\n",
              "      display: none;\n",
              "      fill: #1967D2;\n",
              "      height: 32px;\n",
              "      padding: 0 0 0 0;\n",
              "      width: 32px;\n",
              "    }\n",
              "\n",
              "    .colab-df-convert:hover {\n",
              "      background-color: #E2EBFA;\n",
              "      box-shadow: 0px 1px 2px rgba(60, 64, 67, 0.3), 0px 1px 3px 1px rgba(60, 64, 67, 0.15);\n",
              "      fill: #174EA6;\n",
              "    }\n",
              "\n",
              "    [theme=dark] .colab-df-convert {\n",
              "      background-color: #3B4455;\n",
              "      fill: #D2E3FC;\n",
              "    }\n",
              "\n",
              "    [theme=dark] .colab-df-convert:hover {\n",
              "      background-color: #434B5C;\n",
              "      box-shadow: 0px 1px 3px 1px rgba(0, 0, 0, 0.15);\n",
              "      filter: drop-shadow(0px 1px 2px rgba(0, 0, 0, 0.3));\n",
              "      fill: #FFFFFF;\n",
              "    }\n",
              "  </style>\n",
              "\n",
              "      <script>\n",
              "        const buttonEl =\n",
              "          document.querySelector('#df-d8d08521-57c5-4499-8193-1955f36494f7 button.colab-df-convert');\n",
              "        buttonEl.style.display =\n",
              "          google.colab.kernel.accessAllowed ? 'block' : 'none';\n",
              "\n",
              "        async function convertToInteractive(key) {\n",
              "          const element = document.querySelector('#df-d8d08521-57c5-4499-8193-1955f36494f7');\n",
              "          const dataTable =\n",
              "            await google.colab.kernel.invokeFunction('convertToInteractive',\n",
              "                                                     [key], {});\n",
              "          if (!dataTable) return;\n",
              "\n",
              "          const docLinkHtml = 'Like what you see? Visit the ' +\n",
              "            '<a target=\"_blank\" href=https://colab.research.google.com/notebooks/data_table.ipynb>data table notebook</a>'\n",
              "            + ' to learn more about interactive tables.';\n",
              "          element.innerHTML = '';\n",
              "          dataTable['output_type'] = 'display_data';\n",
              "          await google.colab.output.renderOutput(dataTable, element);\n",
              "          const docLink = document.createElement('div');\n",
              "          docLink.innerHTML = docLinkHtml;\n",
              "          element.appendChild(docLink);\n",
              "        }\n",
              "      </script>\n",
              "    </div>\n",
              "  </div>\n",
              "  "
            ],
            "text/plain": [
              "   original   z-score\n",
              "0       5.1 -0.900681\n",
              "1       4.9 -1.143017\n",
              "2       4.7 -1.385353\n",
              "3       4.6 -1.506521\n",
              "4       5.0 -1.021849"
            ]
          },
          "metadata": {},
          "execution_count": 6
        }
      ]
    },
    {
      "cell_type": "markdown",
      "metadata": {
        "id": "up0-RoVbJUOu"
      },
      "source": [
        "# Example: \n",
        "Use **boston_house_prices** dataset, consider **MEDV** as the variable of interest, normalize this varaible, print out the dataset including the original and normalized **MEDV**."
      ]
    },
    {
      "cell_type": "code",
      "metadata": {
        "colab": {
          "base_uri": "https://localhost:8080/",
          "height": 206
        },
        "id": "XUOF4SuWJSaW",
        "outputId": "b758ccc7-50ed-403f-b62f-83095a56188b"
      },
      "source": [
        "data=read_csv('/content/boston_house_prices.csv')\n",
        "data.head()\n",
        "\n",
        "X=data['MEDV']\n",
        "m=mean(X)  # central metric\n",
        "s=std(X)  # variational metric \n",
        "Z=(X-m)/s # z-score\n",
        "\n",
        "# create a dataframe based on original and normalized value \n",
        "df=DataFrame([X,Z])\n",
        "\n",
        "df=df.transpose()\n",
        "df.columns=['original','z-score']\n",
        "df.head()\n"
      ],
      "execution_count": null,
      "outputs": [
        {
          "output_type": "execute_result",
          "data": {
            "text/html": [
              "\n",
              "  <div id=\"df-78feae06-aad9-430f-8b11-f164cad8eacc\">\n",
              "    <div class=\"colab-df-container\">\n",
              "      <div>\n",
              "<style scoped>\n",
              "    .dataframe tbody tr th:only-of-type {\n",
              "        vertical-align: middle;\n",
              "    }\n",
              "\n",
              "    .dataframe tbody tr th {\n",
              "        vertical-align: top;\n",
              "    }\n",
              "\n",
              "    .dataframe thead th {\n",
              "        text-align: right;\n",
              "    }\n",
              "</style>\n",
              "<table border=\"1\" class=\"dataframe\">\n",
              "  <thead>\n",
              "    <tr style=\"text-align: right;\">\n",
              "      <th></th>\n",
              "      <th>CRIM</th>\n",
              "      <th>ZN</th>\n",
              "      <th>INDUS</th>\n",
              "      <th>CHAS</th>\n",
              "      <th>NOX</th>\n",
              "      <th>RM</th>\n",
              "      <th>AGE</th>\n",
              "      <th>DIS</th>\n",
              "      <th>RAD</th>\n",
              "      <th>TAX</th>\n",
              "      <th>PTRATIO</th>\n",
              "      <th>B</th>\n",
              "      <th>LSTAT</th>\n",
              "      <th>MEDV</th>\n",
              "    </tr>\n",
              "  </thead>\n",
              "  <tbody>\n",
              "    <tr>\n",
              "      <th>0</th>\n",
              "      <td>0.00632</td>\n",
              "      <td>18.0</td>\n",
              "      <td>2.31</td>\n",
              "      <td>0</td>\n",
              "      <td>0.538</td>\n",
              "      <td>6.575</td>\n",
              "      <td>65.2</td>\n",
              "      <td>4.0900</td>\n",
              "      <td>1</td>\n",
              "      <td>296</td>\n",
              "      <td>15.3</td>\n",
              "      <td>396.90</td>\n",
              "      <td>4.98</td>\n",
              "      <td>24.0</td>\n",
              "    </tr>\n",
              "    <tr>\n",
              "      <th>1</th>\n",
              "      <td>0.02731</td>\n",
              "      <td>0.0</td>\n",
              "      <td>7.07</td>\n",
              "      <td>0</td>\n",
              "      <td>0.469</td>\n",
              "      <td>6.421</td>\n",
              "      <td>78.9</td>\n",
              "      <td>4.9671</td>\n",
              "      <td>2</td>\n",
              "      <td>242</td>\n",
              "      <td>17.8</td>\n",
              "      <td>396.90</td>\n",
              "      <td>9.14</td>\n",
              "      <td>21.6</td>\n",
              "    </tr>\n",
              "    <tr>\n",
              "      <th>2</th>\n",
              "      <td>0.02729</td>\n",
              "      <td>0.0</td>\n",
              "      <td>7.07</td>\n",
              "      <td>0</td>\n",
              "      <td>0.469</td>\n",
              "      <td>7.185</td>\n",
              "      <td>61.1</td>\n",
              "      <td>4.9671</td>\n",
              "      <td>2</td>\n",
              "      <td>242</td>\n",
              "      <td>17.8</td>\n",
              "      <td>392.83</td>\n",
              "      <td>4.03</td>\n",
              "      <td>34.7</td>\n",
              "    </tr>\n",
              "    <tr>\n",
              "      <th>3</th>\n",
              "      <td>0.03237</td>\n",
              "      <td>0.0</td>\n",
              "      <td>2.18</td>\n",
              "      <td>0</td>\n",
              "      <td>0.458</td>\n",
              "      <td>6.998</td>\n",
              "      <td>45.8</td>\n",
              "      <td>6.0622</td>\n",
              "      <td>3</td>\n",
              "      <td>222</td>\n",
              "      <td>18.7</td>\n",
              "      <td>394.63</td>\n",
              "      <td>2.94</td>\n",
              "      <td>33.4</td>\n",
              "    </tr>\n",
              "    <tr>\n",
              "      <th>4</th>\n",
              "      <td>0.06905</td>\n",
              "      <td>0.0</td>\n",
              "      <td>2.18</td>\n",
              "      <td>0</td>\n",
              "      <td>0.458</td>\n",
              "      <td>7.147</td>\n",
              "      <td>54.2</td>\n",
              "      <td>6.0622</td>\n",
              "      <td>3</td>\n",
              "      <td>222</td>\n",
              "      <td>18.7</td>\n",
              "      <td>396.90</td>\n",
              "      <td>5.33</td>\n",
              "      <td>36.2</td>\n",
              "    </tr>\n",
              "  </tbody>\n",
              "</table>\n",
              "</div>\n",
              "      <button class=\"colab-df-convert\" onclick=\"convertToInteractive('df-78feae06-aad9-430f-8b11-f164cad8eacc')\"\n",
              "              title=\"Convert this dataframe to an interactive table.\"\n",
              "              style=\"display:none;\">\n",
              "        \n",
              "  <svg xmlns=\"http://www.w3.org/2000/svg\" height=\"24px\"viewBox=\"0 0 24 24\"\n",
              "       width=\"24px\">\n",
              "    <path d=\"M0 0h24v24H0V0z\" fill=\"none\"/>\n",
              "    <path d=\"M18.56 5.44l.94 2.06.94-2.06 2.06-.94-2.06-.94-.94-2.06-.94 2.06-2.06.94zm-11 1L8.5 8.5l.94-2.06 2.06-.94-2.06-.94L8.5 2.5l-.94 2.06-2.06.94zm10 10l.94 2.06.94-2.06 2.06-.94-2.06-.94-.94-2.06-.94 2.06-2.06.94z\"/><path d=\"M17.41 7.96l-1.37-1.37c-.4-.4-.92-.59-1.43-.59-.52 0-1.04.2-1.43.59L10.3 9.45l-7.72 7.72c-.78.78-.78 2.05 0 2.83L4 21.41c.39.39.9.59 1.41.59.51 0 1.02-.2 1.41-.59l7.78-7.78 2.81-2.81c.8-.78.8-2.07 0-2.86zM5.41 20L4 18.59l7.72-7.72 1.47 1.35L5.41 20z\"/>\n",
              "  </svg>\n",
              "      </button>\n",
              "      \n",
              "  <style>\n",
              "    .colab-df-container {\n",
              "      display:flex;\n",
              "      flex-wrap:wrap;\n",
              "      gap: 12px;\n",
              "    }\n",
              "\n",
              "    .colab-df-convert {\n",
              "      background-color: #E8F0FE;\n",
              "      border: none;\n",
              "      border-radius: 50%;\n",
              "      cursor: pointer;\n",
              "      display: none;\n",
              "      fill: #1967D2;\n",
              "      height: 32px;\n",
              "      padding: 0 0 0 0;\n",
              "      width: 32px;\n",
              "    }\n",
              "\n",
              "    .colab-df-convert:hover {\n",
              "      background-color: #E2EBFA;\n",
              "      box-shadow: 0px 1px 2px rgba(60, 64, 67, 0.3), 0px 1px 3px 1px rgba(60, 64, 67, 0.15);\n",
              "      fill: #174EA6;\n",
              "    }\n",
              "\n",
              "    [theme=dark] .colab-df-convert {\n",
              "      background-color: #3B4455;\n",
              "      fill: #D2E3FC;\n",
              "    }\n",
              "\n",
              "    [theme=dark] .colab-df-convert:hover {\n",
              "      background-color: #434B5C;\n",
              "      box-shadow: 0px 1px 3px 1px rgba(0, 0, 0, 0.15);\n",
              "      filter: drop-shadow(0px 1px 2px rgba(0, 0, 0, 0.3));\n",
              "      fill: #FFFFFF;\n",
              "    }\n",
              "  </style>\n",
              "\n",
              "      <script>\n",
              "        const buttonEl =\n",
              "          document.querySelector('#df-78feae06-aad9-430f-8b11-f164cad8eacc button.colab-df-convert');\n",
              "        buttonEl.style.display =\n",
              "          google.colab.kernel.accessAllowed ? 'block' : 'none';\n",
              "\n",
              "        async function convertToInteractive(key) {\n",
              "          const element = document.querySelector('#df-78feae06-aad9-430f-8b11-f164cad8eacc');\n",
              "          const dataTable =\n",
              "            await google.colab.kernel.invokeFunction('convertToInteractive',\n",
              "                                                     [key], {});\n",
              "          if (!dataTable) return;\n",
              "\n",
              "          const docLinkHtml = 'Like what you see? Visit the ' +\n",
              "            '<a target=\"_blank\" href=https://colab.research.google.com/notebooks/data_table.ipynb>data table notebook</a>'\n",
              "            + ' to learn more about interactive tables.';\n",
              "          element.innerHTML = '';\n",
              "          dataTable['output_type'] = 'display_data';\n",
              "          await google.colab.output.renderOutput(dataTable, element);\n",
              "          const docLink = document.createElement('div');\n",
              "          docLink.innerHTML = docLinkHtml;\n",
              "          element.appendChild(docLink);\n",
              "        }\n",
              "      </script>\n",
              "    </div>\n",
              "  </div>\n",
              "  "
            ],
            "text/plain": [
              "      CRIM    ZN  INDUS  CHAS    NOX  ...  TAX  PTRATIO       B  LSTAT  MEDV\n",
              "0  0.00632  18.0   2.31     0  0.538  ...  296     15.3  396.90   4.98  24.0\n",
              "1  0.02731   0.0   7.07     0  0.469  ...  242     17.8  396.90   9.14  21.6\n",
              "2  0.02729   0.0   7.07     0  0.469  ...  242     17.8  392.83   4.03  34.7\n",
              "3  0.03237   0.0   2.18     0  0.458  ...  222     18.7  394.63   2.94  33.4\n",
              "4  0.06905   0.0   2.18     0  0.458  ...  222     18.7  396.90   5.33  36.2\n",
              "\n",
              "[5 rows x 14 columns]"
            ]
          },
          "metadata": {},
          "execution_count": 7
        }
      ]
    },
    {
      "cell_type": "markdown",
      "metadata": {
        "id": "eup4AiD7LUhU"
      },
      "source": [
        "#minmaxscalar\n",
        "\n",
        "Y=(X-min(X))/Range, the scale is on (0,1)"
      ]
    },
    {
      "cell_type": "markdown",
      "metadata": {
        "id": "2Z4ALdj6MgoP"
      },
      "source": [
        "# Example: \n",
        "Use **boston_house_prices** dataset, consider **MEDV** as the variable of interest, rescale this varaible on (0,1), print out the dataset including the original and transformed **MEDV**.\n",
        "\n"
      ]
    },
    {
      "cell_type": "code",
      "metadata": {
        "id": "VpA8LeJ2gImo",
        "colab": {
          "base_uri": "https://localhost:8080/",
          "height": 206
        },
        "outputId": "ffb15463-0f58-4eb3-b733-cb7c433e27d1"
      },
      "source": [
        "X=data['MEDV']\n",
        "Y=(X-min(X))/(max(X)-min(X))\n",
        "df=DataFrame([X,Y])\n",
        "df=transpose(df)\n",
        "df.columns=['X','Y']\n",
        "df.head()\n"
      ],
      "execution_count": null,
      "outputs": [
        {
          "output_type": "execute_result",
          "data": {
            "text/html": [
              "\n",
              "  <div id=\"df-74d84fee-c94a-4cfb-997d-b178961ca44e\">\n",
              "    <div class=\"colab-df-container\">\n",
              "      <div>\n",
              "<style scoped>\n",
              "    .dataframe tbody tr th:only-of-type {\n",
              "        vertical-align: middle;\n",
              "    }\n",
              "\n",
              "    .dataframe tbody tr th {\n",
              "        vertical-align: top;\n",
              "    }\n",
              "\n",
              "    .dataframe thead th {\n",
              "        text-align: right;\n",
              "    }\n",
              "</style>\n",
              "<table border=\"1\" class=\"dataframe\">\n",
              "  <thead>\n",
              "    <tr style=\"text-align: right;\">\n",
              "      <th></th>\n",
              "      <th>X</th>\n",
              "      <th>Y</th>\n",
              "    </tr>\n",
              "  </thead>\n",
              "  <tbody>\n",
              "    <tr>\n",
              "      <th>0</th>\n",
              "      <td>24.0</td>\n",
              "      <td>0.422222</td>\n",
              "    </tr>\n",
              "    <tr>\n",
              "      <th>1</th>\n",
              "      <td>21.6</td>\n",
              "      <td>0.368889</td>\n",
              "    </tr>\n",
              "    <tr>\n",
              "      <th>2</th>\n",
              "      <td>34.7</td>\n",
              "      <td>0.660000</td>\n",
              "    </tr>\n",
              "    <tr>\n",
              "      <th>3</th>\n",
              "      <td>33.4</td>\n",
              "      <td>0.631111</td>\n",
              "    </tr>\n",
              "    <tr>\n",
              "      <th>4</th>\n",
              "      <td>36.2</td>\n",
              "      <td>0.693333</td>\n",
              "    </tr>\n",
              "  </tbody>\n",
              "</table>\n",
              "</div>\n",
              "      <button class=\"colab-df-convert\" onclick=\"convertToInteractive('df-74d84fee-c94a-4cfb-997d-b178961ca44e')\"\n",
              "              title=\"Convert this dataframe to an interactive table.\"\n",
              "              style=\"display:none;\">\n",
              "        \n",
              "  <svg xmlns=\"http://www.w3.org/2000/svg\" height=\"24px\"viewBox=\"0 0 24 24\"\n",
              "       width=\"24px\">\n",
              "    <path d=\"M0 0h24v24H0V0z\" fill=\"none\"/>\n",
              "    <path d=\"M18.56 5.44l.94 2.06.94-2.06 2.06-.94-2.06-.94-.94-2.06-.94 2.06-2.06.94zm-11 1L8.5 8.5l.94-2.06 2.06-.94-2.06-.94L8.5 2.5l-.94 2.06-2.06.94zm10 10l.94 2.06.94-2.06 2.06-.94-2.06-.94-.94-2.06-.94 2.06-2.06.94z\"/><path d=\"M17.41 7.96l-1.37-1.37c-.4-.4-.92-.59-1.43-.59-.52 0-1.04.2-1.43.59L10.3 9.45l-7.72 7.72c-.78.78-.78 2.05 0 2.83L4 21.41c.39.39.9.59 1.41.59.51 0 1.02-.2 1.41-.59l7.78-7.78 2.81-2.81c.8-.78.8-2.07 0-2.86zM5.41 20L4 18.59l7.72-7.72 1.47 1.35L5.41 20z\"/>\n",
              "  </svg>\n",
              "      </button>\n",
              "      \n",
              "  <style>\n",
              "    .colab-df-container {\n",
              "      display:flex;\n",
              "      flex-wrap:wrap;\n",
              "      gap: 12px;\n",
              "    }\n",
              "\n",
              "    .colab-df-convert {\n",
              "      background-color: #E8F0FE;\n",
              "      border: none;\n",
              "      border-radius: 50%;\n",
              "      cursor: pointer;\n",
              "      display: none;\n",
              "      fill: #1967D2;\n",
              "      height: 32px;\n",
              "      padding: 0 0 0 0;\n",
              "      width: 32px;\n",
              "    }\n",
              "\n",
              "    .colab-df-convert:hover {\n",
              "      background-color: #E2EBFA;\n",
              "      box-shadow: 0px 1px 2px rgba(60, 64, 67, 0.3), 0px 1px 3px 1px rgba(60, 64, 67, 0.15);\n",
              "      fill: #174EA6;\n",
              "    }\n",
              "\n",
              "    [theme=dark] .colab-df-convert {\n",
              "      background-color: #3B4455;\n",
              "      fill: #D2E3FC;\n",
              "    }\n",
              "\n",
              "    [theme=dark] .colab-df-convert:hover {\n",
              "      background-color: #434B5C;\n",
              "      box-shadow: 0px 1px 3px 1px rgba(0, 0, 0, 0.15);\n",
              "      filter: drop-shadow(0px 1px 2px rgba(0, 0, 0, 0.3));\n",
              "      fill: #FFFFFF;\n",
              "    }\n",
              "  </style>\n",
              "\n",
              "      <script>\n",
              "        const buttonEl =\n",
              "          document.querySelector('#df-74d84fee-c94a-4cfb-997d-b178961ca44e button.colab-df-convert');\n",
              "        buttonEl.style.display =\n",
              "          google.colab.kernel.accessAllowed ? 'block' : 'none';\n",
              "\n",
              "        async function convertToInteractive(key) {\n",
              "          const element = document.querySelector('#df-74d84fee-c94a-4cfb-997d-b178961ca44e');\n",
              "          const dataTable =\n",
              "            await google.colab.kernel.invokeFunction('convertToInteractive',\n",
              "                                                     [key], {});\n",
              "          if (!dataTable) return;\n",
              "\n",
              "          const docLinkHtml = 'Like what you see? Visit the ' +\n",
              "            '<a target=\"_blank\" href=https://colab.research.google.com/notebooks/data_table.ipynb>data table notebook</a>'\n",
              "            + ' to learn more about interactive tables.';\n",
              "          element.innerHTML = '';\n",
              "          dataTable['output_type'] = 'display_data';\n",
              "          await google.colab.output.renderOutput(dataTable, element);\n",
              "          const docLink = document.createElement('div');\n",
              "          docLink.innerHTML = docLinkHtml;\n",
              "          element.appendChild(docLink);\n",
              "        }\n",
              "      </script>\n",
              "    </div>\n",
              "  </div>\n",
              "  "
            ],
            "text/plain": [
              "      X         Y\n",
              "0  24.0  0.422222\n",
              "1  21.6  0.368889\n",
              "2  34.7  0.660000\n",
              "3  33.4  0.631111\n",
              "4  36.2  0.693333"
            ]
          },
          "metadata": {},
          "execution_count": 8
        }
      ]
    },
    {
      "cell_type": "markdown",
      "metadata": {
        "id": "jQ9Rnju302QP"
      },
      "source": [
        "Quiz:\n",
        "Take **Seed_Data**, consider **P** as the variable of interest, normalize **P** using Z score, rescale that using minmaxscalar, and create a data frame inclusing X, Z and the output of minmaxscalar.\n",
        "\n"
      ]
    },
    {
      "cell_type": "code",
      "metadata": {
        "id": "Q3zzZYIS1lnw",
        "colab": {
          "base_uri": "https://localhost:8080/",
          "height": 206
        },
        "outputId": "58583b13-26d2-4205-ef4a-1db3a8cfc49b"
      },
      "source": [
        "data=read_csv('Seed_Data.csv')\n",
        "data.head()\n",
        "\n",
        "X=data['P']\n",
        "Z=(X-mean(X))/std(X)  # z score\n",
        "Y=(X-min(X))/(max(X)-min(X))  # minmaxscalar\n",
        "df=DataFrame([X,Y,Z]) # df based on original, zscore and  0-1 scaler\n",
        "df=transpose(df)\n",
        "df.columns=['X','Y','Z']\n",
        "df.head()\n",
        "\n"
      ],
      "execution_count": null,
      "outputs": [
        {
          "output_type": "execute_result",
          "data": {
            "text/html": [
              "\n",
              "  <div id=\"df-9dd53aba-df90-4f4d-90b3-587cffe6f6fb\">\n",
              "    <div class=\"colab-df-container\">\n",
              "      <div>\n",
              "<style scoped>\n",
              "    .dataframe tbody tr th:only-of-type {\n",
              "        vertical-align: middle;\n",
              "    }\n",
              "\n",
              "    .dataframe tbody tr th {\n",
              "        vertical-align: top;\n",
              "    }\n",
              "\n",
              "    .dataframe thead th {\n",
              "        text-align: right;\n",
              "    }\n",
              "</style>\n",
              "<table border=\"1\" class=\"dataframe\">\n",
              "  <thead>\n",
              "    <tr style=\"text-align: right;\">\n",
              "      <th></th>\n",
              "      <th>X</th>\n",
              "      <th>Y</th>\n",
              "      <th>Z</th>\n",
              "    </tr>\n",
              "  </thead>\n",
              "  <tbody>\n",
              "    <tr>\n",
              "      <th>0</th>\n",
              "      <td>14.84</td>\n",
              "      <td>0.502066</td>\n",
              "      <td>0.215462</td>\n",
              "    </tr>\n",
              "    <tr>\n",
              "      <th>1</th>\n",
              "      <td>14.57</td>\n",
              "      <td>0.446281</td>\n",
              "      <td>0.008224</td>\n",
              "    </tr>\n",
              "    <tr>\n",
              "      <th>2</th>\n",
              "      <td>14.09</td>\n",
              "      <td>0.347107</td>\n",
              "      <td>-0.360201</td>\n",
              "    </tr>\n",
              "    <tr>\n",
              "      <th>3</th>\n",
              "      <td>13.94</td>\n",
              "      <td>0.316116</td>\n",
              "      <td>-0.475333</td>\n",
              "    </tr>\n",
              "    <tr>\n",
              "      <th>4</th>\n",
              "      <td>14.99</td>\n",
              "      <td>0.533058</td>\n",
              "      <td>0.330595</td>\n",
              "    </tr>\n",
              "  </tbody>\n",
              "</table>\n",
              "</div>\n",
              "      <button class=\"colab-df-convert\" onclick=\"convertToInteractive('df-9dd53aba-df90-4f4d-90b3-587cffe6f6fb')\"\n",
              "              title=\"Convert this dataframe to an interactive table.\"\n",
              "              style=\"display:none;\">\n",
              "        \n",
              "  <svg xmlns=\"http://www.w3.org/2000/svg\" height=\"24px\"viewBox=\"0 0 24 24\"\n",
              "       width=\"24px\">\n",
              "    <path d=\"M0 0h24v24H0V0z\" fill=\"none\"/>\n",
              "    <path d=\"M18.56 5.44l.94 2.06.94-2.06 2.06-.94-2.06-.94-.94-2.06-.94 2.06-2.06.94zm-11 1L8.5 8.5l.94-2.06 2.06-.94-2.06-.94L8.5 2.5l-.94 2.06-2.06.94zm10 10l.94 2.06.94-2.06 2.06-.94-2.06-.94-.94-2.06-.94 2.06-2.06.94z\"/><path d=\"M17.41 7.96l-1.37-1.37c-.4-.4-.92-.59-1.43-.59-.52 0-1.04.2-1.43.59L10.3 9.45l-7.72 7.72c-.78.78-.78 2.05 0 2.83L4 21.41c.39.39.9.59 1.41.59.51 0 1.02-.2 1.41-.59l7.78-7.78 2.81-2.81c.8-.78.8-2.07 0-2.86zM5.41 20L4 18.59l7.72-7.72 1.47 1.35L5.41 20z\"/>\n",
              "  </svg>\n",
              "      </button>\n",
              "      \n",
              "  <style>\n",
              "    .colab-df-container {\n",
              "      display:flex;\n",
              "      flex-wrap:wrap;\n",
              "      gap: 12px;\n",
              "    }\n",
              "\n",
              "    .colab-df-convert {\n",
              "      background-color: #E8F0FE;\n",
              "      border: none;\n",
              "      border-radius: 50%;\n",
              "      cursor: pointer;\n",
              "      display: none;\n",
              "      fill: #1967D2;\n",
              "      height: 32px;\n",
              "      padding: 0 0 0 0;\n",
              "      width: 32px;\n",
              "    }\n",
              "\n",
              "    .colab-df-convert:hover {\n",
              "      background-color: #E2EBFA;\n",
              "      box-shadow: 0px 1px 2px rgba(60, 64, 67, 0.3), 0px 1px 3px 1px rgba(60, 64, 67, 0.15);\n",
              "      fill: #174EA6;\n",
              "    }\n",
              "\n",
              "    [theme=dark] .colab-df-convert {\n",
              "      background-color: #3B4455;\n",
              "      fill: #D2E3FC;\n",
              "    }\n",
              "\n",
              "    [theme=dark] .colab-df-convert:hover {\n",
              "      background-color: #434B5C;\n",
              "      box-shadow: 0px 1px 3px 1px rgba(0, 0, 0, 0.15);\n",
              "      filter: drop-shadow(0px 1px 2px rgba(0, 0, 0, 0.3));\n",
              "      fill: #FFFFFF;\n",
              "    }\n",
              "  </style>\n",
              "\n",
              "      <script>\n",
              "        const buttonEl =\n",
              "          document.querySelector('#df-9dd53aba-df90-4f4d-90b3-587cffe6f6fb button.colab-df-convert');\n",
              "        buttonEl.style.display =\n",
              "          google.colab.kernel.accessAllowed ? 'block' : 'none';\n",
              "\n",
              "        async function convertToInteractive(key) {\n",
              "          const element = document.querySelector('#df-9dd53aba-df90-4f4d-90b3-587cffe6f6fb');\n",
              "          const dataTable =\n",
              "            await google.colab.kernel.invokeFunction('convertToInteractive',\n",
              "                                                     [key], {});\n",
              "          if (!dataTable) return;\n",
              "\n",
              "          const docLinkHtml = 'Like what you see? Visit the ' +\n",
              "            '<a target=\"_blank\" href=https://colab.research.google.com/notebooks/data_table.ipynb>data table notebook</a>'\n",
              "            + ' to learn more about interactive tables.';\n",
              "          element.innerHTML = '';\n",
              "          dataTable['output_type'] = 'display_data';\n",
              "          await google.colab.output.renderOutput(dataTable, element);\n",
              "          const docLink = document.createElement('div');\n",
              "          docLink.innerHTML = docLinkHtml;\n",
              "          element.appendChild(docLink);\n",
              "        }\n",
              "      </script>\n",
              "    </div>\n",
              "  </div>\n",
              "  "
            ],
            "text/plain": [
              "       X         Y         Z\n",
              "0  14.84  0.502066  0.215462\n",
              "1  14.57  0.446281  0.008224\n",
              "2  14.09  0.347107 -0.360201\n",
              "3  13.94  0.316116 -0.475333\n",
              "4  14.99  0.533058  0.330595"
            ]
          },
          "metadata": {},
          "execution_count": 9
        }
      ]
    },
    {
      "cell_type": "markdown",
      "metadata": {
        "id": "k1qWjNmuSLwb"
      },
      "source": [
        "#outlier detection\n",
        "1. Cheybeshev' rule \n",
        "\n",
        "\n",
        "*    one-sigma interval estimation (xbar-s,xbar+s)\n",
        "*   two-sigma interval estimation (xbar-2*s,xbar+2*s)\n",
        "*   three-sigma interval estimation (xbar-3*s,xbar+3*s)\n",
        "\n",
        "\n",
        "2. Box plot technique"
      ]
    },
    {
      "cell_type": "markdown",
      "metadata": {
        "id": "-ywXfQCCgeCb"
      },
      "source": [
        "#Example: \n",
        "use **one-sigma interval estimation** for X= **mpg** in the **mtcars** dataset to filter out outliers if any. (hint: use for and if statement ) \n"
      ]
    },
    {
      "cell_type": "code",
      "metadata": {
        "colab": {
          "base_uri": "https://localhost:8080/"
        },
        "id": "pbemm99RUpRe",
        "outputId": "9e283794-2271-4ecb-cfd1-8e4b05e979b9"
      },
      "source": [
        "from pandas import read_csv\n",
        "dataset=read_csv('mtcars.csv')\n",
        "dataset.head()\n",
        "dataset.shape"
      ],
      "execution_count": null,
      "outputs": [
        {
          "output_type": "execute_result",
          "data": {
            "text/plain": [
              "(32, 12)"
            ]
          },
          "metadata": {},
          "execution_count": 11
        }
      ]
    },
    {
      "cell_type": "code",
      "metadata": {
        "id": "6FiLHiZyicsV",
        "colab": {
          "base_uri": "https://localhost:8080/"
        },
        "outputId": "58156b6a-c89f-4aed-df0d-0cb61126dac7"
      },
      "source": [
        "#solution \n",
        " \n",
        "from numpy import mean, std\n",
        "X=dataset['mpg']\n",
        "xbar = mean(X) \n",
        "s = std(X)\n",
        "L=xbar-s  # lower bound \n",
        "U=xbar+s # upper bound\n",
        "print(L,U)\n",
        " "
      ],
      "execution_count": null,
      "outputs": [
        {
          "output_type": "stream",
          "name": "stdout",
          "text": [
            "14.158595447698776 26.022654552301216\n"
          ]
        }
      ]
    },
    {
      "cell_type": "code",
      "metadata": {
        "colab": {
          "base_uri": "https://localhost:8080/"
        },
        "id": "NirSBGw54PkY",
        "outputId": "2a78e19b-872e-431f-c39b-18623da3a11d"
      },
      "source": [
        "#print(L,U)\n",
        "# a filter to detect outliers\n",
        "outliers = [] \n",
        "for i in X: \n",
        "    if i > U or i<L: \n",
        "        outliers.append(i) \n",
        "print('outliers in dataset is', outliers) "
      ],
      "execution_count": null,
      "outputs": [
        {
          "output_type": "stream",
          "name": "stdout",
          "text": [
            "outliers in dataset is [10.4, 10.4, 32.4, 30.4, 33.9, 13.3, 27.3, 30.4]\n"
          ]
        }
      ]
    },
    {
      "cell_type": "markdown",
      "source": [
        "# how to filter out proper values of X"
      ],
      "metadata": {
        "id": "Q6WvEN0Ppsbg"
      }
    },
    {
      "cell_type": "code",
      "source": [
        "#print(L,U)\n",
        "# a filter to detect outliers\n",
        "Pdata = [] \n",
        "for i in X: \n",
        "    if i>L or i < U: \n",
        "        Pdata.append(i) \n",
        "print('Pdata is', Pdata) "
      ],
      "metadata": {
        "colab": {
          "base_uri": "https://localhost:8080/"
        },
        "id": "YPapQyGuq1Cg",
        "outputId": "92fe6132-bd7d-42ee-c009-291a704cddcf"
      },
      "execution_count": null,
      "outputs": [
        {
          "output_type": "stream",
          "name": "stdout",
          "text": [
            "Pdata is [21.0, 21.0, 22.8, 21.4, 18.7, 18.1, 14.3, 24.4, 22.8, 19.2, 17.8, 16.4, 17.3, 15.2, 10.4, 10.4, 14.7, 32.4, 30.4, 33.9, 21.5, 15.5, 15.2, 13.3, 19.2, 27.3, 26.0, 30.4, 15.8, 19.7, 15.0, 21.4]\n"
          ]
        }
      ]
    },
    {
      "cell_type": "markdown",
      "metadata": {
        "id": "nVv7VaCgcAh7"
      },
      "source": [
        "# Example: \n",
        "consider wt as the variable of interest, using two-sigma interval estimation, detect outliers if any. "
      ]
    },
    {
      "cell_type": "code",
      "metadata": {
        "colab": {
          "base_uri": "https://localhost:8080/"
        },
        "id": "SoW25747eDk5",
        "outputId": "9e33b559-9fbf-4389-ec0c-722aa5c03a95"
      },
      "source": [
        "X=dataset['wt']\n",
        "xbar = mean(X) \n",
        "s = std(X)\n",
        "L=xbar-2*s  # lower bound \n",
        "U=xbar+2*s # upper bound\n",
        "print(L,U)\n",
        "\n",
        "outliers = [] \n",
        "for i in X: \n",
        "    if i > U or i<L: \n",
        "        outliers.append(i) \n",
        "print('outliers in dataset is', outliers) \n",
        "\n"
      ],
      "execution_count": null,
      "outputs": [
        {
          "output_type": "stream",
          "name": "stdout",
          "text": [
            "1.291154597378416 5.143345402621583\n",
            "outliers in dataset is [5.25, 5.4239999999999995, 5.345]\n"
          ]
        }
      ]
    },
    {
      "cell_type": "markdown",
      "metadata": {
        "id": "UzhuZpT3gifL"
      },
      "source": [
        "#Exp: Use mtcar dataset to do the following tasks:create a proper interval estimation using boxplot technique for the variable 'mpg' and filter out outliers \n",
        " "
      ]
    },
    {
      "cell_type": "markdown",
      "metadata": {
        "id": "YXVZhCGC-zSN"
      },
      "source": [
        "![image.png](data:image/png;base64,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)"
      ]
    },
    {
      "cell_type": "markdown",
      "metadata": {
        "id": "BmRSY-R-bJn_"
      },
      "source": [
        "LW=QL-1.5*IQR\n",
        "\n",
        "\n",
        "UW=QU+1.5*IQR\n"
      ]
    },
    {
      "cell_type": "markdown",
      "metadata": {
        "id": "W5z6wXSWbofi"
      },
      "source": [
        "# Example:\n",
        " consider **mpg** as the variable of interest, apply box plot technique and detect outliers if any."
      ]
    },
    {
      "cell_type": "code",
      "metadata": {
        "colab": {
          "base_uri": "https://localhost:8080/"
        },
        "id": "8OzHoCbEhLUX",
        "outputId": "85b64b09-b644-499f-b674-73d6b386df57"
      },
      "source": [
        "X=dataset['mpg']\n",
        "Q1=X.quantile(0.25)\n",
        "Q3=X.quantile(0.75)\n",
        "print(Q1,Q3)"
      ],
      "execution_count": null,
      "outputs": [
        {
          "output_type": "stream",
          "name": "stdout",
          "text": [
            "15.425 22.8\n"
          ]
        }
      ]
    },
    {
      "cell_type": "code",
      "metadata": {
        "colab": {
          "base_uri": "https://localhost:8080/"
        },
        "id": "iaOFvnehhG_V",
        "outputId": "2af55b2e-757f-4025-bc87-aac5e6dc9e09"
      },
      "source": [
        "IQR=Q3-Q1\n",
        "LW=Q1-1.5*IQR\n",
        "UW=Q3+1.5*IQR\n",
        "\n",
        "outliers = [] \n",
        "for i in X: \n",
        "    if i > UW or i<LW: \n",
        "        outliers.append(i) \n",
        "print('outliers in dataset is', outliers)"
      ],
      "execution_count": null,
      "outputs": [
        {
          "output_type": "stream",
          "name": "stdout",
          "text": [
            "outliers in dataset is [33.9]\n"
          ]
        }
      ]
    },
    {
      "cell_type": "markdown",
      "metadata": {
        "id": "kKSafgO5_0AH"
      },
      "source": [
        "#Example "
      ]
    },
    {
      "cell_type": "markdown",
      "metadata": {
        "id": "TQmgfQZfhaMY"
      },
      "source": [
        "# Example: \n",
        "consider **wt** as the variable of interest, apply box-plot technique and detect outliers if any."
      ]
    },
    {
      "cell_type": "code",
      "metadata": {
        "id": "rDV9DL48ji9k"
      },
      "source": [
        "data=read_csv('/content/mtcars.csv')\n",
        "data.head()\n",
        "X=data['wt']"
      ],
      "execution_count": null,
      "outputs": []
    },
    {
      "cell_type": "code",
      "metadata": {
        "colab": {
          "base_uri": "https://localhost:8080/"
        },
        "id": "Y90Cq61Tgl9J",
        "outputId": "be79fc23-8368-4139-edce-27a4c3b259ac"
      },
      "source": [
        "\n",
        "Q1=X.quantile(0.25) # lower quartile \n",
        "Q3=X.quantile(0.75) # upper quartile \n",
        "\n",
        "IQR=Q3-Q1\n",
        "LW=Q1-1.5*IQR\n",
        "UW=Q3+1.5*IQR\n",
        "[LW,UW]"
      ],
      "execution_count": null,
      "outputs": [
        {
          "output_type": "execute_result",
          "data": {
            "text/plain": [
              "[1.0381249999999997, 5.153125]"
            ]
          },
          "metadata": {},
          "execution_count": 28
        }
      ]
    },
    {
      "cell_type": "code",
      "source": [
        "outliers = [] \n",
        "for i in X: \n",
        "    if i > UW or i<LW: \n",
        "        outliers.append(i) \n",
        "print('outliers in dataset is', outliers)"
      ],
      "metadata": {
        "colab": {
          "base_uri": "https://localhost:8080/"
        },
        "id": "0wp9hCrGwhAv",
        "outputId": "0dbc0a77-1558-4900-de79-d4623ab8b714"
      },
      "execution_count": null,
      "outputs": [
        {
          "output_type": "stream",
          "name": "stdout",
          "text": [
            "outliers in dataset is [5.25, 5.4239999999999995, 5.345]\n"
          ]
        }
      ]
    },
    {
      "cell_type": "markdown",
      "metadata": {
        "id": "U2WjOnR3AUYc"
      },
      "source": [
        "# Example:\n",
        " consider **pH** as the variable of interest in **winequality-red** dataset\n",
        " apply box plot technique and detect outliers if any\n",
        "\n",
        "1.   apply **box plot technique **and detect outliers if any\n",
        "2.    apply CR technique with **2-sigma interval estimation **and detect outliers if any\n",
        "\n"
      ]
    },
    {
      "cell_type": "code",
      "metadata": {
        "colab": {
          "base_uri": "https://localhost:8080/"
        },
        "id": "rTaFEf7aEWsD",
        "outputId": "670a1844-c635-4de0-a132-39da194bc7d1"
      },
      "source": [
        "data=read_csv('winequality-red.csv')\n",
        "data.head()\n",
        "X=data['pH']\n",
        "\n",
        "##################boxplot technique#############\n",
        "Q1=X.quantile(0.25)\n",
        "Q3=X.quantile(0.75)\n",
        "IQR=Q3-Q1\n",
        "LW=Q1-1.5*IQR; UW=Q3+1.5*IQR\n",
        "print(LW,UW)\n",
        "outliers = [] \n",
        "for i in X: \n",
        "    if i > UW or i<LW: \n",
        "        outliers.append(i) \n",
        "print('outliers in dataset is', outliers)\n",
        "\n",
        "#################################CR technique with two-sigma interval estimation########\n",
        "L=mean(X)-2*std(X) ; U=mean(X)+2*std(X)\n",
        "print(L,U)\n",
        "\n",
        "Out_2sigma = [] \n",
        "for i in X: \n",
        "    if i > U or i<L: \n",
        "        Out_2sigma.append(i) \n",
        "print('outliers in dataset is', Out_2sigma)\n"
      ],
      "execution_count": null,
      "outputs": [
        {
          "output_type": "stream",
          "name": "stdout",
          "text": [
            "2.925 3.6849999999999996\n",
            "outliers in dataset is [3.9, 3.75, 3.85, 2.74, 3.69, 3.69, 2.88, 2.86, 3.74, 2.92, 2.92, 2.92, 3.72, 2.87, 2.89, 2.89, 2.92, 3.9, 3.71, 3.69, 3.69, 3.71, 3.71, 2.89, 2.89, 3.78, 3.7, 3.78, 4.01, 2.9, 4.01, 3.71, 2.88, 3.72, 3.72]\n",
            "3.00243683292614 3.619789558568546\n",
            "outliers in dataset is [3.9, 2.93, 2.93, 2.93, 3.75, 3.85, 3.63, 3.63, 3.68, 3.68, 2.74, 3.0, 3.0, 3.69, 3.69, 3.67, 3.67, 3.68, 2.99, 3.62, 3.0, 2.88, 2.95, 2.98, 2.86, 3.74, 2.92, 2.92, 2.92, 2.98, 3.72, 3.0, 2.98, 2.87, 2.89, 2.98, 2.89, 2.92, 2.94, 2.94, 3.63, 3.9, 2.94, 3.66, 3.66, 2.99, 3.71, 3.66, 3.62, 3.69, 3.69, 3.71, 3.71, 2.89, 2.89, 2.98, 3.78, 3.62, 2.94, 3.68, 3.68, 3.7, 3.62, 3.78, 4.01, 2.9, 4.01, 3.0, 3.0, 3.71, 2.88, 3.66, 3.72, 3.72, 3.67]\n"
          ]
        }
      ]
    },
    {
      "cell_type": "code",
      "metadata": {
        "colab": {
          "base_uri": "https://localhost:8080/"
        },
        "id": "avBBxrVKFK1N",
        "outputId": "0abcebb6-7ecb-4e16-9e24-4acd7a75b382"
      },
      "source": [
        "#solution (2)\n",
        "\n",
        "xbar=np.mean(X)\n",
        "s=np.std(X)\n",
        "L=xbar-2*s ; U=xbar+2*s\n",
        "\n",
        "out_cr = [] \n",
        "for i in X: \n",
        "    if i > U or i<L: \n",
        "        out_cr.append(i) \n",
        "print('outliers based on 2 sigma IE using CR technique in dataset is', out_cr)\n"
      ],
      "execution_count": null,
      "outputs": [
        {
          "output_type": "stream",
          "text": [
            "outliers based on 2 sigma IE using CR technique in dataset is [3.9, 2.93, 2.93, 2.93, 3.75, 3.85, 3.63, 3.63, 3.68, 3.68, 2.74, 3.0, 3.0, 3.69, 3.69, 3.67, 3.67, 3.68, 2.99, 3.62, 3.0, 2.88, 2.95, 2.98, 2.86, 3.74, 2.92, 2.92, 2.92, 2.98, 3.72, 3.0, 2.98, 2.87, 2.89, 2.98, 2.89, 2.92, 2.94, 2.94, 3.63, 3.9, 2.94, 3.66, 3.66, 2.99, 3.71, 3.66, 3.62, 3.69, 3.69, 3.71, 3.71, 2.89, 2.89, 2.98, 3.78, 3.62, 2.94, 3.68, 3.68, 3.7, 3.62, 3.78, 4.01, 2.9, 4.01, 3.0, 3.0, 3.71, 2.88, 3.66, 3.72, 3.72, 3.67]\n"
          ],
          "name": "stdout"
        }
      ]
    },
    {
      "cell_type": "markdown",
      "metadata": {
        "id": "4rCH7qdBEWIc"
      },
      "source": [
        ""
      ]
    },
    {
      "cell_type": "code",
      "metadata": {
        "colab": {
          "base_uri": "https://localhost:8080/",
          "height": 49
        },
        "id": "bt5KtT__icFS",
        "outputId": "b699e598-4f76-4601-ac79-4c62daae2856"
      },
      "source": [
        " dataset[(dataset.mpg >= LW) & (dataset.mpg <= UW)]\n",
        " "
      ],
      "execution_count": null,
      "outputs": [
        {
          "output_type": "execute_result",
          "data": {
            "text/html": [
              "<div>\n",
              "<style scoped>\n",
              "    .dataframe tbody tr th:only-of-type {\n",
              "        vertical-align: middle;\n",
              "    }\n",
              "\n",
              "    .dataframe tbody tr th {\n",
              "        vertical-align: top;\n",
              "    }\n",
              "\n",
              "    .dataframe thead th {\n",
              "        text-align: right;\n",
              "    }\n",
              "</style>\n",
              "<table border=\"1\" class=\"dataframe\">\n",
              "  <thead>\n",
              "    <tr style=\"text-align: right;\">\n",
              "      <th></th>\n",
              "      <th>model</th>\n",
              "      <th>mpg</th>\n",
              "      <th>cyl</th>\n",
              "      <th>disp</th>\n",
              "      <th>hp</th>\n",
              "      <th>drat</th>\n",
              "      <th>wt</th>\n",
              "      <th>qsec</th>\n",
              "      <th>vs</th>\n",
              "      <th>am</th>\n",
              "      <th>gear</th>\n",
              "      <th>carb</th>\n",
              "    </tr>\n",
              "  </thead>\n",
              "  <tbody>\n",
              "  </tbody>\n",
              "</table>\n",
              "</div>"
            ],
            "text/plain": [
              "Empty DataFrame\n",
              "Columns: [model, mpg, cyl, disp, hp, drat, wt, qsec, vs, am, gear, carb]\n",
              "Index: []"
            ]
          },
          "metadata": {
            "tags": []
          },
          "execution_count": 24
        }
      ]
    },
    {
      "cell_type": "code",
      "metadata": {
        "colab": {
          "base_uri": "https://localhost:8080/",
          "height": 79
        },
        "id": "809ENoXRKBMH",
        "outputId": "1d091d9e-9742-47fd-f596-157e7350915d"
      },
      "source": [
        "dataset.head(1)"
      ],
      "execution_count": null,
      "outputs": [
        {
          "output_type": "execute_result",
          "data": {
            "text/html": [
              "<div>\n",
              "<style scoped>\n",
              "    .dataframe tbody tr th:only-of-type {\n",
              "        vertical-align: middle;\n",
              "    }\n",
              "\n",
              "    .dataframe tbody tr th {\n",
              "        vertical-align: top;\n",
              "    }\n",
              "\n",
              "    .dataframe thead th {\n",
              "        text-align: right;\n",
              "    }\n",
              "</style>\n",
              "<table border=\"1\" class=\"dataframe\">\n",
              "  <thead>\n",
              "    <tr style=\"text-align: right;\">\n",
              "      <th></th>\n",
              "      <th>model</th>\n",
              "      <th>mpg</th>\n",
              "      <th>cyl</th>\n",
              "      <th>disp</th>\n",
              "      <th>hp</th>\n",
              "      <th>drat</th>\n",
              "      <th>wt</th>\n",
              "      <th>qsec</th>\n",
              "      <th>vs</th>\n",
              "      <th>am</th>\n",
              "      <th>gear</th>\n",
              "      <th>carb</th>\n",
              "    </tr>\n",
              "  </thead>\n",
              "  <tbody>\n",
              "    <tr>\n",
              "      <th>0</th>\n",
              "      <td>Mazda RX4</td>\n",
              "      <td>21.0</td>\n",
              "      <td>6</td>\n",
              "      <td>160.0</td>\n",
              "      <td>110</td>\n",
              "      <td>3.9</td>\n",
              "      <td>2.62</td>\n",
              "      <td>16.46</td>\n",
              "      <td>0</td>\n",
              "      <td>1</td>\n",
              "      <td>4</td>\n",
              "      <td>4</td>\n",
              "    </tr>\n",
              "  </tbody>\n",
              "</table>\n",
              "</div>"
            ],
            "text/plain": [
              "       model   mpg  cyl   disp   hp  drat    wt   qsec  vs  am  gear  carb\n",
              "0  Mazda RX4  21.0    6  160.0  110   3.9  2.62  16.46   0   1     4     4"
            ]
          },
          "metadata": {
            "tags": []
          },
          "execution_count": 18
        }
      ]
    },
    {
      "cell_type": "markdown",
      "metadata": {
        "id": "5WJBopDsKGgM"
      },
      "source": [
        "# use mtcars dataset, consider qsec as the variable of interest, \n",
        "#find outliers based on 2-sigma interval estimation and filter them out. "
      ]
    },
    {
      "cell_type": "code",
      "metadata": {
        "colab": {
          "base_uri": "https://localhost:8080/"
        },
        "id": "xkGSdYS3Nmej",
        "outputId": "b1ee364e-0571-4e49-a456-23406cd5a5c3"
      },
      "source": [
        "#solution \n",
        "X=dataset['qsec']\n",
        "xbar = np.mean(X) \n",
        "s = np.std(X)\n",
        "L=xbar-2*s\n",
        "U=xbar+2*s\n",
        "#print(L,U)\n",
        "outliers = [] \n",
        "for i in X: \n",
        "    if i > U or i<L: \n",
        "        outliers.append(i) \n",
        "print('outliers in dataset is', outliers) "
      ],
      "execution_count": null,
      "outputs": [
        {
          "output_type": "stream",
          "text": [
            "outliers in dataset is [22.9]\n"
          ],
          "name": "stdout"
        }
      ]
    },
    {
      "cell_type": "markdown",
      "metadata": {
        "id": "u4sjW3oVODaM"
      },
      "source": [
        "# Example2: use wt as the variable of interest, compute central and variational \n",
        "#measures. filter out outliers based on 3-sgima interval estimation. "
      ]
    },
    {
      "cell_type": "code",
      "metadata": {
        "colab": {
          "base_uri": "https://localhost:8080/"
        },
        "id": "8ZsZDcFwQa79",
        "outputId": "7df36ce2-1aff-4f3b-87cd-f41fac7adfba"
      },
      "source": [
        "# central measures\n",
        "z=dataset['wt']\n",
        "xbar=np.mean(z) \n",
        "med=np.median(z)\n",
        "mo=st.mode(z)\n",
        "####variational measures\n",
        "s=np.std(z)\n",
        "v=st.variance(z)\n",
        "r=max(z)-min(z)\n",
        "print('central measures:', [xbar, med, mo])\n",
        "print('variational measures:', [s, v, r])\n",
        "#outlier detection\n",
        "L=xbar-3*s\n",
        "U=xbar+3*s\n",
        "#print(L,U)\n",
        "outliers = [] \n",
        "for i in z: \n",
        "    if i > U or i<L: \n",
        "        outliers.append(i) \n",
        "print('outliers in dataset is', outliers)\n"
      ],
      "execution_count": null,
      "outputs": [
        {
          "output_type": "stream",
          "text": [
            "central measures: [3.2172499999999995, 3.325, 3.44]\n",
            "variational measures: [0.9630477013107918, 0.9573789677419353, 3.9109999999999996]\n",
            "outliers in dataset is []\n"
          ],
          "name": "stdout"
        }
      ]
    },
    {
      "cell_type": "code",
      "metadata": {
        "colab": {
          "base_uri": "https://localhost:8080/"
        },
        "id": "Gpr_anbLjM4e",
        "outputId": "9dd6dd28-6df6-4914-ca9a-e69c6a2ad5d2"
      },
      "source": [
        "import statistics as st\n",
        "from statistics import mean, median, mode, stdev, variance\n",
        "X=dataset['door']\n",
        "Mode=mode(X)\n",
        "med=median(X)\n",
        "V=variance(X)\n",
        "print([Mode, med, V])"
      ],
      "execution_count": null,
      "outputs": [
        {
          "output_type": "stream",
          "text": [
            "[4, 4.0, 0.25846153846153846]\n"
          ],
          "name": "stdout"
        }
      ]
    },
    {
      "cell_type": "code",
      "metadata": {
        "id": "SG1SBoBQS15p"
      },
      "source": [
        ""
      ],
      "execution_count": null,
      "outputs": []
    },
    {
      "cell_type": "markdown",
      "metadata": {
        "id": "hUAgpTeca787"
      },
      "source": [
        "# Example:\n",
        " Prepare dataset via removing rows where 'mpg' is recognized as the outlier based on two-sigma intervale estimation and print out the cleaned data"
      ]
    },
    {
      "cell_type": "code",
      "metadata": {
        "id": "H8Lrl3cIb86D"
      },
      "source": [
        "from numpy import mean , std\n",
        "X=dataset['mpg']\n",
        "xbar=mean(X) ; s=std(X)\n",
        "L=xbar-2*s; U=xbar+2*s\n",
        "print(L,U)\n",
        "dataset[(dataset.mpg >= L) & (dataset.mpg <= U)]"
      ],
      "execution_count": null,
      "outputs": []
    },
    {
      "cell_type": "markdown",
      "metadata": {
        "id": "Z4CUPPx8k50i"
      },
      "source": [
        "# Example:\n",
        " Prepare dataset via removing rows where **p** in **Seed_Data**  is recognized as the outlier based on **three-sigma** interval estimation and print out the cleaned data"
      ]
    },
    {
      "cell_type": "code",
      "metadata": {
        "colab": {
          "base_uri": "https://localhost:8080/",
          "height": 434
        },
        "id": "4-WqT-5Vm6DN",
        "outputId": "c7985b45-e667-45d9-dc3c-80c9f9736888"
      },
      "source": [
        "data=read_csv('Seed_Data.csv')\n",
        "data.head()\n",
        "X=data['P']\n",
        " \n",
        "xbar=mean(X) ; s=std(X)\n",
        "L=xbar-3*s; U=xbar+3*s\n",
        "print(L,U)\n",
        "data[(data.P >= L) & (data.P <= U)]\n"
      ],
      "execution_count": null,
      "outputs": [
        {
          "output_type": "stream",
          "name": "stdout",
          "text": [
            "10.650748942822826 18.46782248574861\n"
          ]
        },
        {
          "output_type": "execute_result",
          "data": {
            "text/html": [
              "<div>\n",
              "<style scoped>\n",
              "    .dataframe tbody tr th:only-of-type {\n",
              "        vertical-align: middle;\n",
              "    }\n",
              "\n",
              "    .dataframe tbody tr th {\n",
              "        vertical-align: top;\n",
              "    }\n",
              "\n",
              "    .dataframe thead th {\n",
              "        text-align: right;\n",
              "    }\n",
              "</style>\n",
              "<table border=\"1\" class=\"dataframe\">\n",
              "  <thead>\n",
              "    <tr style=\"text-align: right;\">\n",
              "      <th></th>\n",
              "      <th>A</th>\n",
              "      <th>P</th>\n",
              "      <th>C</th>\n",
              "      <th>LK</th>\n",
              "      <th>WK</th>\n",
              "      <th>A_Coef</th>\n",
              "      <th>LKG</th>\n",
              "      <th>target</th>\n",
              "    </tr>\n",
              "  </thead>\n",
              "  <tbody>\n",
              "    <tr>\n",
              "      <th>0</th>\n",
              "      <td>15.26</td>\n",
              "      <td>14.84</td>\n",
              "      <td>0.8710</td>\n",
              "      <td>5.763</td>\n",
              "      <td>3.312</td>\n",
              "      <td>2.221</td>\n",
              "      <td>5.220</td>\n",
              "      <td>0</td>\n",
              "    </tr>\n",
              "    <tr>\n",
              "      <th>1</th>\n",
              "      <td>14.88</td>\n",
              "      <td>14.57</td>\n",
              "      <td>0.8811</td>\n",
              "      <td>5.554</td>\n",
              "      <td>3.333</td>\n",
              "      <td>1.018</td>\n",
              "      <td>4.956</td>\n",
              "      <td>0</td>\n",
              "    </tr>\n",
              "    <tr>\n",
              "      <th>2</th>\n",
              "      <td>14.29</td>\n",
              "      <td>14.09</td>\n",
              "      <td>0.9050</td>\n",
              "      <td>5.291</td>\n",
              "      <td>3.337</td>\n",
              "      <td>2.699</td>\n",
              "      <td>4.825</td>\n",
              "      <td>0</td>\n",
              "    </tr>\n",
              "    <tr>\n",
              "      <th>3</th>\n",
              "      <td>13.84</td>\n",
              "      <td>13.94</td>\n",
              "      <td>0.8955</td>\n",
              "      <td>5.324</td>\n",
              "      <td>3.379</td>\n",
              "      <td>2.259</td>\n",
              "      <td>4.805</td>\n",
              "      <td>0</td>\n",
              "    </tr>\n",
              "    <tr>\n",
              "      <th>4</th>\n",
              "      <td>16.14</td>\n",
              "      <td>14.99</td>\n",
              "      <td>0.9034</td>\n",
              "      <td>5.658</td>\n",
              "      <td>3.562</td>\n",
              "      <td>1.355</td>\n",
              "      <td>5.175</td>\n",
              "      <td>0</td>\n",
              "    </tr>\n",
              "    <tr>\n",
              "      <th>...</th>\n",
              "      <td>...</td>\n",
              "      <td>...</td>\n",
              "      <td>...</td>\n",
              "      <td>...</td>\n",
              "      <td>...</td>\n",
              "      <td>...</td>\n",
              "      <td>...</td>\n",
              "      <td>...</td>\n",
              "    </tr>\n",
              "    <tr>\n",
              "      <th>205</th>\n",
              "      <td>12.19</td>\n",
              "      <td>13.20</td>\n",
              "      <td>0.8783</td>\n",
              "      <td>5.137</td>\n",
              "      <td>2.981</td>\n",
              "      <td>3.631</td>\n",
              "      <td>4.870</td>\n",
              "      <td>2</td>\n",
              "    </tr>\n",
              "    <tr>\n",
              "      <th>206</th>\n",
              "      <td>11.23</td>\n",
              "      <td>12.88</td>\n",
              "      <td>0.8511</td>\n",
              "      <td>5.140</td>\n",
              "      <td>2.795</td>\n",
              "      <td>4.325</td>\n",
              "      <td>5.003</td>\n",
              "      <td>2</td>\n",
              "    </tr>\n",
              "    <tr>\n",
              "      <th>207</th>\n",
              "      <td>13.20</td>\n",
              "      <td>13.66</td>\n",
              "      <td>0.8883</td>\n",
              "      <td>5.236</td>\n",
              "      <td>3.232</td>\n",
              "      <td>8.315</td>\n",
              "      <td>5.056</td>\n",
              "      <td>2</td>\n",
              "    </tr>\n",
              "    <tr>\n",
              "      <th>208</th>\n",
              "      <td>11.84</td>\n",
              "      <td>13.21</td>\n",
              "      <td>0.8521</td>\n",
              "      <td>5.175</td>\n",
              "      <td>2.836</td>\n",
              "      <td>3.598</td>\n",
              "      <td>5.044</td>\n",
              "      <td>2</td>\n",
              "    </tr>\n",
              "    <tr>\n",
              "      <th>209</th>\n",
              "      <td>12.30</td>\n",
              "      <td>13.34</td>\n",
              "      <td>0.8684</td>\n",
              "      <td>5.243</td>\n",
              "      <td>2.974</td>\n",
              "      <td>5.637</td>\n",
              "      <td>5.063</td>\n",
              "      <td>2</td>\n",
              "    </tr>\n",
              "  </tbody>\n",
              "</table>\n",
              "<p>210 rows × 8 columns</p>\n",
              "</div>"
            ],
            "text/plain": [
              "         A      P       C     LK     WK  A_Coef    LKG  target\n",
              "0    15.26  14.84  0.8710  5.763  3.312   2.221  5.220       0\n",
              "1    14.88  14.57  0.8811  5.554  3.333   1.018  4.956       0\n",
              "2    14.29  14.09  0.9050  5.291  3.337   2.699  4.825       0\n",
              "3    13.84  13.94  0.8955  5.324  3.379   2.259  4.805       0\n",
              "4    16.14  14.99  0.9034  5.658  3.562   1.355  5.175       0\n",
              "..     ...    ...     ...    ...    ...     ...    ...     ...\n",
              "205  12.19  13.20  0.8783  5.137  2.981   3.631  4.870       2\n",
              "206  11.23  12.88  0.8511  5.140  2.795   4.325  5.003       2\n",
              "207  13.20  13.66  0.8883  5.236  3.232   8.315  5.056       2\n",
              "208  11.84  13.21  0.8521  5.175  2.836   3.598  5.044       2\n",
              "209  12.30  13.34  0.8684  5.243  2.974   5.637  5.063       2\n",
              "\n",
              "[210 rows x 8 columns]"
            ]
          },
          "metadata": {},
          "execution_count": 13
        }
      ]
    },
    {
      "cell_type": "markdown",
      "metadata": {
        "id": "8_7llFeynn7t"
      },
      "source": [
        "# data normalization"
      ]
    },
    {
      "cell_type": "code",
      "metadata": {
        "id": "Bcl-Ryx3nCuy"
      },
      "source": [
        "#normalize the variable mpg  in mtcars dataset\n",
        "\n",
        "X=dataset['mpg']\n",
        "xbar=mean(X) ; s=std(X)\n",
        "z=(X-xbar)/s   # z in (-3,3) # z-score equation\n",
        "z"
      ],
      "execution_count": null,
      "outputs": []
    },
    {
      "cell_type": "markdown",
      "metadata": {
        "id": "oxpPr4IHog28"
      },
      "source": [
        "standard normal distribution\n",
        "\n",
        "xbar=0 ; s=1\n",
        "\n",
        "3-sigma interval est:   (0-3, 0+3)"
      ]
    },
    {
      "cell_type": "markdown",
      "metadata": {
        "id": "G6wROuyPnrHb"
      },
      "source": [
        "# Example:\n",
        "Use **boston** dataset and consider  **medv** as the variable of interest\n",
        "\n",
        "\n",
        "1.   compute central and variational measure\n",
        "2.   find 2-sigma interval estimation and detect outliers\n",
        "3.    use box-plot technique and detect outliers\n",
        "4.    normalize this variable \n",
        "\n"
      ]
    },
    {
      "cell_type": "code",
      "metadata": {
        "id": "1mpMYuL9pzNX",
        "colab": {
          "base_uri": "https://localhost:8080/",
          "height": 142
        },
        "outputId": "a6613e3d-289d-44c3-9576-876de6bfb7da"
      },
      "source": [
        "dataset=read_csv('boston_house_prices.csv')\n",
        "dataset.head(3)\n",
        "X=dataset['MEDV']\n"
      ],
      "execution_count": null,
      "outputs": [
        {
          "output_type": "execute_result",
          "data": {
            "text/html": [
              "<div>\n",
              "<style scoped>\n",
              "    .dataframe tbody tr th:only-of-type {\n",
              "        vertical-align: middle;\n",
              "    }\n",
              "\n",
              "    .dataframe tbody tr th {\n",
              "        vertical-align: top;\n",
              "    }\n",
              "\n",
              "    .dataframe thead th {\n",
              "        text-align: right;\n",
              "    }\n",
              "</style>\n",
              "<table border=\"1\" class=\"dataframe\">\n",
              "  <thead>\n",
              "    <tr style=\"text-align: right;\">\n",
              "      <th></th>\n",
              "      <th>CRIM</th>\n",
              "      <th>ZN</th>\n",
              "      <th>INDUS</th>\n",
              "      <th>CHAS</th>\n",
              "      <th>NOX</th>\n",
              "      <th>RM</th>\n",
              "      <th>AGE</th>\n",
              "      <th>DIS</th>\n",
              "      <th>RAD</th>\n",
              "      <th>TAX</th>\n",
              "      <th>PTRATIO</th>\n",
              "      <th>B</th>\n",
              "      <th>LSTAT</th>\n",
              "      <th>MEDV</th>\n",
              "    </tr>\n",
              "  </thead>\n",
              "  <tbody>\n",
              "    <tr>\n",
              "      <th>0</th>\n",
              "      <td>0.00632</td>\n",
              "      <td>18.0</td>\n",
              "      <td>2.31</td>\n",
              "      <td>0</td>\n",
              "      <td>0.538</td>\n",
              "      <td>6.575</td>\n",
              "      <td>65.2</td>\n",
              "      <td>4.0900</td>\n",
              "      <td>1</td>\n",
              "      <td>296</td>\n",
              "      <td>15.3</td>\n",
              "      <td>396.90</td>\n",
              "      <td>4.98</td>\n",
              "      <td>24.0</td>\n",
              "    </tr>\n",
              "    <tr>\n",
              "      <th>1</th>\n",
              "      <td>0.02731</td>\n",
              "      <td>0.0</td>\n",
              "      <td>7.07</td>\n",
              "      <td>0</td>\n",
              "      <td>0.469</td>\n",
              "      <td>6.421</td>\n",
              "      <td>78.9</td>\n",
              "      <td>4.9671</td>\n",
              "      <td>2</td>\n",
              "      <td>242</td>\n",
              "      <td>17.8</td>\n",
              "      <td>396.90</td>\n",
              "      <td>9.14</td>\n",
              "      <td>21.6</td>\n",
              "    </tr>\n",
              "    <tr>\n",
              "      <th>2</th>\n",
              "      <td>0.02729</td>\n",
              "      <td>0.0</td>\n",
              "      <td>7.07</td>\n",
              "      <td>0</td>\n",
              "      <td>0.469</td>\n",
              "      <td>7.185</td>\n",
              "      <td>61.1</td>\n",
              "      <td>4.9671</td>\n",
              "      <td>2</td>\n",
              "      <td>242</td>\n",
              "      <td>17.8</td>\n",
              "      <td>392.83</td>\n",
              "      <td>4.03</td>\n",
              "      <td>34.7</td>\n",
              "    </tr>\n",
              "  </tbody>\n",
              "</table>\n",
              "</div>"
            ],
            "text/plain": [
              "      CRIM    ZN  INDUS  CHAS    NOX  ...  TAX  PTRATIO       B  LSTAT  MEDV\n",
              "0  0.00632  18.0   2.31     0  0.538  ...  296     15.3  396.90   4.98  24.0\n",
              "1  0.02731   0.0   7.07     0  0.469  ...  242     17.8  396.90   9.14  21.6\n",
              "2  0.02729   0.0   7.07     0  0.469  ...  242     17.8  392.83   4.03  34.7\n",
              "\n",
              "[3 rows x 14 columns]"
            ]
          },
          "metadata": {},
          "execution_count": 16
        }
      ]
    },
    {
      "cell_type": "code",
      "metadata": {
        "colab": {
          "base_uri": "https://localhost:8080/"
        },
        "id": "vT3taZXuq4i5",
        "outputId": "e0a53852-1dd5-48ae-d40d-42e003d310f4"
      },
      "source": [
        "#central measures\n",
        "import statistics as st\n",
        "xbar=st.mean(X)\n",
        "med=st.median(X)\n",
        "print('central measures:',xbar, med)\n",
        "#variantional measures\n",
        "R=max(X)-min(X)\n",
        "s=st.stdev(X)\n",
        "V=st.variance(X)\n",
        "print('variantional measures:',R, s,V)"
      ],
      "execution_count": null,
      "outputs": [
        {
          "output_type": "stream",
          "name": "stdout",
          "text": [
            "central measures: 20.090625 19.2\n",
            "variantional measures: 23.5 6.026948052089104 36.32410282258064\n"
          ]
        }
      ]
    },
    {
      "cell_type": "code",
      "metadata": {
        "colab": {
          "base_uri": "https://localhost:8080/"
        },
        "id": "dLTdu_aKsYpc",
        "outputId": "b500bc03-c863-490b-e5f7-b1000f624b03"
      },
      "source": [
        "#part 2: outliers detection based on 2-sigma interval estimation\n",
        "L=xbar-2*s\n",
        "U=xbar+2*s\n",
        "#print(L,U)\n",
        "outliers = [] \n",
        "for i in X: \n",
        "    if i > U or i<L: \n",
        "        outliers.append(i) \n",
        "print('outliers in dataset is', outliers)"
      ],
      "execution_count": null,
      "outputs": [
        {
          "output_type": "stream",
          "text": [
            "outliers in dataset is [43.8, 41.3, 50.0, 50.0, 50.0, 50.0, 50.0, 50.0, 42.3, 48.5, 50.0, 44.8, 50.0, 46.7, 41.7, 48.3, 42.8, 44.0, 50.0, 43.1, 48.8, 50.0, 43.5, 45.4, 46.0, 50.0, 50.0, 50.0, 50.0, 50.0, 50.0]\n"
          ],
          "name": "stdout"
        }
      ]
    },
    {
      "cell_type": "code",
      "metadata": {
        "colab": {
          "base_uri": "https://localhost:8080/"
        },
        "id": "go3JIMr6tfPE",
        "outputId": "bb1c3ff9-5cb6-449a-b4ea-00fab2f5eb44"
      },
      "source": [
        "#part 3: outliers detection using boxplot technique\n",
        "Q1=X.quantile(0.25) # lower quartile\n",
        "Q3=X.quantile(0.75) #upper quartile\n",
        "IQR=Q3-Q1 #interquartile range\n",
        "LW=Q1-1.5*IQR; UW=Q3+1.5*IQR\n",
        "\n",
        "outliers = [] \n",
        "for i in X: \n",
        "    if i > UW or i<LW: \n",
        "        outliers.append(i) \n",
        "print('outliers in dataset is', outliers)"
      ],
      "execution_count": null,
      "outputs": [
        {
          "output_type": "stream",
          "text": [
            "outliers in dataset is [38.7, 43.8, 41.3, 50.0, 50.0, 50.0, 50.0, 37.2, 39.8, 37.9, 50.0, 37.0, 50.0, 42.3, 48.5, 50.0, 44.8, 50.0, 37.6, 46.7, 41.7, 48.3, 42.8, 44.0, 50.0, 43.1, 48.8, 50.0, 43.5, 45.4, 46.0, 50.0, 37.3, 50.0, 50.0, 50.0, 50.0, 50.0, 5.0, 5.0]\n"
          ],
          "name": "stdout"
        }
      ]
    },
    {
      "cell_type": "markdown",
      "metadata": {
        "id": "ZQxcgniFGm6z"
      },
      "source": [
        "# The second application of central and variational measures is data normalization. For this purpose, let us consider pH in the winequality dataset, normalize this variable and create a dataframe using the original variabe and the normalized one. "
      ]
    },
    {
      "cell_type": "code",
      "metadata": {
        "colab": {
          "base_uri": "https://localhost:8080/"
        },
        "id": "qFi0nXMTtz3Z",
        "outputId": "ef46414b-ec38-4623-8aaf-bc29460dde76"
      },
      "source": [
        "# part 4 data normalization\n",
        "X=dataset['pH']\n",
        "xbar=np.mean(X) ; s=np.std(X)\n",
        "z=(X-xbar)/s\n",
        "z\n",
        "#df=pd.DataFrame(X,z)\n",
        "#df\n"
      ],
      "execution_count": null,
      "outputs": [
        {
          "output_type": "execute_result",
          "data": {
            "text/plain": [
              "0       1.288643\n",
              "1      -0.719933\n",
              "2      -0.331177\n",
              "3      -0.979104\n",
              "4       1.288643\n",
              "          ...   \n",
              "1594    0.899886\n",
              "1595    1.353436\n",
              "1596    0.705508\n",
              "1597    1.677400\n",
              "1598    0.511130\n",
              "Name: pH, Length: 1599, dtype: float64"
            ]
          },
          "metadata": {
            "tags": []
          },
          "execution_count": 24
        }
      ]
    },
    {
      "cell_type": "code",
      "metadata": {
        "colab": {
          "base_uri": "https://localhost:8080/"
        },
        "id": "0fh5ctEXrYs3",
        "outputId": "0f8db5a2-37df-4ca7-b5a5-32d5b6a4b970"
      },
      "source": [
        ""
      ],
      "execution_count": null,
      "outputs": [
        {
          "output_type": "stream",
          "text": [
            "variantional measures: 45.0 9.197104087379817 84.58672359409854\n"
          ],
          "name": "stdout"
        }
      ]
    },
    {
      "cell_type": "markdown",
      "metadata": {
        "id": "fHBZkeOagGG8"
      },
      "source": [
        "# scaling the dataset\n",
        "\n",
        "#Example: Use boston dataset, and normalize the last four variables\n",
        "#of this dataset.  "
      ]
    },
    {
      "cell_type": "code",
      "metadata": {
        "colab": {
          "resources": {
            "http://localhost:8080/nbextensions/google.colab/files.js": {
              "data": "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",
              "ok": true,
              "headers": [
                [
                  "content-type",
                  "application/javascript"
                ]
              ],
              "status": 200,
              "status_text": ""
            }
          },
          "base_uri": "https://localhost:8080/",
          "height": 73
        },
        "id": "laufPQZGj4mQ",
        "outputId": "b38d546a-48f3-431f-d5fa-cddec1e1dfa6"
      },
      "source": [
        "from google.colab import files\n",
        "uploaded = files.upload()"
      ],
      "execution_count": null,
      "outputs": [
        {
          "output_type": "display_data",
          "data": {
            "text/html": [
              "\n",
              "     <input type=\"file\" id=\"files-4655d2cd-ad85-4539-8994-6d02cd9b6fa3\" name=\"files[]\" multiple disabled\n",
              "        style=\"border:none\" />\n",
              "     <output id=\"result-4655d2cd-ad85-4539-8994-6d02cd9b6fa3\">\n",
              "      Upload widget is only available when the cell has been executed in the\n",
              "      current browser session. Please rerun this cell to enable.\n",
              "      </output>\n",
              "      <script src=\"/nbextensions/google.colab/files.js\"></script> "
            ],
            "text/plain": [
              "<IPython.core.display.HTML object>"
            ]
          },
          "metadata": {
            "tags": []
          }
        },
        {
          "output_type": "stream",
          "text": [
            "Saving boston_house_prices.csv to boston_house_prices.csv\n"
          ],
          "name": "stdout"
        }
      ]
    },
    {
      "cell_type": "code",
      "metadata": {
        "id": "5z8Wt5xagips"
      },
      "source": [
        "import pandas as pd\n",
        "dataset = pd.read_csv('boston_house_prices.csv')\n",
        "dataset.head()\n",
        "#dataset.shape"
      ],
      "execution_count": null,
      "outputs": []
    },
    {
      "cell_type": "code",
      "metadata": {
        "id": "VCQBTxNwWyND"
      },
      "source": [
        "dataset.drop(['MEDV'],axis=1)"
      ],
      "execution_count": null,
      "outputs": []
    },
    {
      "cell_type": "code",
      "metadata": {
        "colab": {
          "base_uri": "https://localhost:8080/",
          "height": 206
        },
        "id": "C0oKMNsUgJ1V",
        "outputId": "5cb73c55-6b8a-4143-cf49-6224442bfff7"
      },
      "source": [
        "\n",
        "# Get column names first\n",
        "df =dataset [['TAX',\t'PTRATIO',\t'B',\t'LSTAT']]\n",
        "names=df.columns\n",
        "df.head()"
      ],
      "execution_count": null,
      "outputs": [
        {
          "output_type": "execute_result",
          "data": {
            "text/html": [
              "\n",
              "  <div id=\"df-a81a6c49-d4f3-4d4b-abc9-b47766b770de\">\n",
              "    <div class=\"colab-df-container\">\n",
              "      <div>\n",
              "<style scoped>\n",
              "    .dataframe tbody tr th:only-of-type {\n",
              "        vertical-align: middle;\n",
              "    }\n",
              "\n",
              "    .dataframe tbody tr th {\n",
              "        vertical-align: top;\n",
              "    }\n",
              "\n",
              "    .dataframe thead th {\n",
              "        text-align: right;\n",
              "    }\n",
              "</style>\n",
              "<table border=\"1\" class=\"dataframe\">\n",
              "  <thead>\n",
              "    <tr style=\"text-align: right;\">\n",
              "      <th></th>\n",
              "      <th>TAX</th>\n",
              "      <th>PTRATIO</th>\n",
              "      <th>B</th>\n",
              "      <th>LSTAT</th>\n",
              "    </tr>\n",
              "  </thead>\n",
              "  <tbody>\n",
              "    <tr>\n",
              "      <th>0</th>\n",
              "      <td>296</td>\n",
              "      <td>15.3</td>\n",
              "      <td>396.90</td>\n",
              "      <td>4.98</td>\n",
              "    </tr>\n",
              "    <tr>\n",
              "      <th>1</th>\n",
              "      <td>242</td>\n",
              "      <td>17.8</td>\n",
              "      <td>396.90</td>\n",
              "      <td>9.14</td>\n",
              "    </tr>\n",
              "    <tr>\n",
              "      <th>2</th>\n",
              "      <td>242</td>\n",
              "      <td>17.8</td>\n",
              "      <td>392.83</td>\n",
              "      <td>4.03</td>\n",
              "    </tr>\n",
              "    <tr>\n",
              "      <th>3</th>\n",
              "      <td>222</td>\n",
              "      <td>18.7</td>\n",
              "      <td>394.63</td>\n",
              "      <td>2.94</td>\n",
              "    </tr>\n",
              "    <tr>\n",
              "      <th>4</th>\n",
              "      <td>222</td>\n",
              "      <td>18.7</td>\n",
              "      <td>396.90</td>\n",
              "      <td>5.33</td>\n",
              "    </tr>\n",
              "  </tbody>\n",
              "</table>\n",
              "</div>\n",
              "      <button class=\"colab-df-convert\" onclick=\"convertToInteractive('df-a81a6c49-d4f3-4d4b-abc9-b47766b770de')\"\n",
              "              title=\"Convert this dataframe to an interactive table.\"\n",
              "              style=\"display:none;\">\n",
              "        \n",
              "  <svg xmlns=\"http://www.w3.org/2000/svg\" height=\"24px\"viewBox=\"0 0 24 24\"\n",
              "       width=\"24px\">\n",
              "    <path d=\"M0 0h24v24H0V0z\" fill=\"none\"/>\n",
              "    <path d=\"M18.56 5.44l.94 2.06.94-2.06 2.06-.94-2.06-.94-.94-2.06-.94 2.06-2.06.94zm-11 1L8.5 8.5l.94-2.06 2.06-.94-2.06-.94L8.5 2.5l-.94 2.06-2.06.94zm10 10l.94 2.06.94-2.06 2.06-.94-2.06-.94-.94-2.06-.94 2.06-2.06.94z\"/><path d=\"M17.41 7.96l-1.37-1.37c-.4-.4-.92-.59-1.43-.59-.52 0-1.04.2-1.43.59L10.3 9.45l-7.72 7.72c-.78.78-.78 2.05 0 2.83L4 21.41c.39.39.9.59 1.41.59.51 0 1.02-.2 1.41-.59l7.78-7.78 2.81-2.81c.8-.78.8-2.07 0-2.86zM5.41 20L4 18.59l7.72-7.72 1.47 1.35L5.41 20z\"/>\n",
              "  </svg>\n",
              "      </button>\n",
              "      \n",
              "  <style>\n",
              "    .colab-df-container {\n",
              "      display:flex;\n",
              "      flex-wrap:wrap;\n",
              "      gap: 12px;\n",
              "    }\n",
              "\n",
              "    .colab-df-convert {\n",
              "      background-color: #E8F0FE;\n",
              "      border: none;\n",
              "      border-radius: 50%;\n",
              "      cursor: pointer;\n",
              "      display: none;\n",
              "      fill: #1967D2;\n",
              "      height: 32px;\n",
              "      padding: 0 0 0 0;\n",
              "      width: 32px;\n",
              "    }\n",
              "\n",
              "    .colab-df-convert:hover {\n",
              "      background-color: #E2EBFA;\n",
              "      box-shadow: 0px 1px 2px rgba(60, 64, 67, 0.3), 0px 1px 3px 1px rgba(60, 64, 67, 0.15);\n",
              "      fill: #174EA6;\n",
              "    }\n",
              "\n",
              "    [theme=dark] .colab-df-convert {\n",
              "      background-color: #3B4455;\n",
              "      fill: #D2E3FC;\n",
              "    }\n",
              "\n",
              "    [theme=dark] .colab-df-convert:hover {\n",
              "      background-color: #434B5C;\n",
              "      box-shadow: 0px 1px 3px 1px rgba(0, 0, 0, 0.15);\n",
              "      filter: drop-shadow(0px 1px 2px rgba(0, 0, 0, 0.3));\n",
              "      fill: #FFFFFF;\n",
              "    }\n",
              "  </style>\n",
              "\n",
              "      <script>\n",
              "        const buttonEl =\n",
              "          document.querySelector('#df-a81a6c49-d4f3-4d4b-abc9-b47766b770de button.colab-df-convert');\n",
              "        buttonEl.style.display =\n",
              "          google.colab.kernel.accessAllowed ? 'block' : 'none';\n",
              "\n",
              "        async function convertToInteractive(key) {\n",
              "          const element = document.querySelector('#df-a81a6c49-d4f3-4d4b-abc9-b47766b770de');\n",
              "          const dataTable =\n",
              "            await google.colab.kernel.invokeFunction('convertToInteractive',\n",
              "                                                     [key], {});\n",
              "          if (!dataTable) return;\n",
              "\n",
              "          const docLinkHtml = 'Like what you see? Visit the ' +\n",
              "            '<a target=\"_blank\" href=https://colab.research.google.com/notebooks/data_table.ipynb>data table notebook</a>'\n",
              "            + ' to learn more about interactive tables.';\n",
              "          element.innerHTML = '';\n",
              "          dataTable['output_type'] = 'display_data';\n",
              "          await google.colab.output.renderOutput(dataTable, element);\n",
              "          const docLink = document.createElement('div');\n",
              "          docLink.innerHTML = docLinkHtml;\n",
              "          element.appendChild(docLink);\n",
              "        }\n",
              "      </script>\n",
              "    </div>\n",
              "  </div>\n",
              "  "
            ],
            "text/plain": [
              "   TAX  PTRATIO       B  LSTAT\n",
              "0  296     15.3  396.90   4.98\n",
              "1  242     17.8  396.90   9.14\n",
              "2  242     17.8  392.83   4.03\n",
              "3  222     18.7  394.63   2.94\n",
              "4  222     18.7  396.90   5.33"
            ]
          },
          "metadata": {},
          "execution_count": 31
        }
      ]
    },
    {
      "cell_type": "code",
      "source": [
        "# Create the Scaler object\n",
        "from sklearn.preprocessing import StandardScaler()\n",
        "from pandas import DataFrame\n",
        "scaler = preprocessing.StandardScaler() #  normal scaler z=(x-xbar)/s\n",
        "# Fit your data on the scaler object\n",
        "scaled_df = scaler.fit_transform(df)\n",
        "scaled_df\n",
        "scaled_df = DataFrame(scaled_df, columns=names)\n",
        "scaled_df.head()"
      ],
      "metadata": {
        "id": "kf-GvOUF3MYm"
      },
      "execution_count": null,
      "outputs": []
    },
    {
      "cell_type": "code",
      "metadata": {
        "colab": {
          "base_uri": "https://localhost:8080/",
          "height": 206
        },
        "id": "L7g0gOq7JX3i",
        "outputId": "c5853fd2-c6e2-4505-b1a8-f1646099851c"
      },
      "source": [
        "# Create the Scaler object\n",
        "from sklearn import preprocessing\n",
        "from pandas import DataFrame\n",
        "scaler = preprocessing.StandardScaler() #  normal scaler z=(x-xbar)/s\n",
        "# Fit your data on the scaler object\n",
        "scaled_df = scaler.fit_transform(df)\n",
        "scaled_df\n",
        "scaled_df = DataFrame(scaled_df, columns=names)\n",
        "scaled_df.head()\n",
        "\n"
      ],
      "execution_count": null,
      "outputs": [
        {
          "output_type": "execute_result",
          "data": {
            "text/html": [
              "\n",
              "  <div id=\"df-5ec173e8-570f-4d9f-bd59-15a0cd694392\">\n",
              "    <div class=\"colab-df-container\">\n",
              "      <div>\n",
              "<style scoped>\n",
              "    .dataframe tbody tr th:only-of-type {\n",
              "        vertical-align: middle;\n",
              "    }\n",
              "\n",
              "    .dataframe tbody tr th {\n",
              "        vertical-align: top;\n",
              "    }\n",
              "\n",
              "    .dataframe thead th {\n",
              "        text-align: right;\n",
              "    }\n",
              "</style>\n",
              "<table border=\"1\" class=\"dataframe\">\n",
              "  <thead>\n",
              "    <tr style=\"text-align: right;\">\n",
              "      <th></th>\n",
              "      <th>TAX</th>\n",
              "      <th>PTRATIO</th>\n",
              "      <th>B</th>\n",
              "      <th>LSTAT</th>\n",
              "    </tr>\n",
              "  </thead>\n",
              "  <tbody>\n",
              "    <tr>\n",
              "      <th>0</th>\n",
              "      <td>-0.666608</td>\n",
              "      <td>-1.459000</td>\n",
              "      <td>0.441052</td>\n",
              "      <td>-1.075562</td>\n",
              "    </tr>\n",
              "    <tr>\n",
              "      <th>1</th>\n",
              "      <td>-0.987329</td>\n",
              "      <td>-0.303094</td>\n",
              "      <td>0.441052</td>\n",
              "      <td>-0.492439</td>\n",
              "    </tr>\n",
              "    <tr>\n",
              "      <th>2</th>\n",
              "      <td>-0.987329</td>\n",
              "      <td>-0.303094</td>\n",
              "      <td>0.396427</td>\n",
              "      <td>-1.208727</td>\n",
              "    </tr>\n",
              "    <tr>\n",
              "      <th>3</th>\n",
              "      <td>-1.106115</td>\n",
              "      <td>0.113032</td>\n",
              "      <td>0.416163</td>\n",
              "      <td>-1.361517</td>\n",
              "    </tr>\n",
              "    <tr>\n",
              "      <th>4</th>\n",
              "      <td>-1.106115</td>\n",
              "      <td>0.113032</td>\n",
              "      <td>0.441052</td>\n",
              "      <td>-1.026501</td>\n",
              "    </tr>\n",
              "  </tbody>\n",
              "</table>\n",
              "</div>\n",
              "      <button class=\"colab-df-convert\" onclick=\"convertToInteractive('df-5ec173e8-570f-4d9f-bd59-15a0cd694392')\"\n",
              "              title=\"Convert this dataframe to an interactive table.\"\n",
              "              style=\"display:none;\">\n",
              "        \n",
              "  <svg xmlns=\"http://www.w3.org/2000/svg\" height=\"24px\"viewBox=\"0 0 24 24\"\n",
              "       width=\"24px\">\n",
              "    <path d=\"M0 0h24v24H0V0z\" fill=\"none\"/>\n",
              "    <path d=\"M18.56 5.44l.94 2.06.94-2.06 2.06-.94-2.06-.94-.94-2.06-.94 2.06-2.06.94zm-11 1L8.5 8.5l.94-2.06 2.06-.94-2.06-.94L8.5 2.5l-.94 2.06-2.06.94zm10 10l.94 2.06.94-2.06 2.06-.94-2.06-.94-.94-2.06-.94 2.06-2.06.94z\"/><path d=\"M17.41 7.96l-1.37-1.37c-.4-.4-.92-.59-1.43-.59-.52 0-1.04.2-1.43.59L10.3 9.45l-7.72 7.72c-.78.78-.78 2.05 0 2.83L4 21.41c.39.39.9.59 1.41.59.51 0 1.02-.2 1.41-.59l7.78-7.78 2.81-2.81c.8-.78.8-2.07 0-2.86zM5.41 20L4 18.59l7.72-7.72 1.47 1.35L5.41 20z\"/>\n",
              "  </svg>\n",
              "      </button>\n",
              "      \n",
              "  <style>\n",
              "    .colab-df-container {\n",
              "      display:flex;\n",
              "      flex-wrap:wrap;\n",
              "      gap: 12px;\n",
              "    }\n",
              "\n",
              "    .colab-df-convert {\n",
              "      background-color: #E8F0FE;\n",
              "      border: none;\n",
              "      border-radius: 50%;\n",
              "      cursor: pointer;\n",
              "      display: none;\n",
              "      fill: #1967D2;\n",
              "      height: 32px;\n",
              "      padding: 0 0 0 0;\n",
              "      width: 32px;\n",
              "    }\n",
              "\n",
              "    .colab-df-convert:hover {\n",
              "      background-color: #E2EBFA;\n",
              "      box-shadow: 0px 1px 2px rgba(60, 64, 67, 0.3), 0px 1px 3px 1px rgba(60, 64, 67, 0.15);\n",
              "      fill: #174EA6;\n",
              "    }\n",
              "\n",
              "    [theme=dark] .colab-df-convert {\n",
              "      background-color: #3B4455;\n",
              "      fill: #D2E3FC;\n",
              "    }\n",
              "\n",
              "    [theme=dark] .colab-df-convert:hover {\n",
              "      background-color: #434B5C;\n",
              "      box-shadow: 0px 1px 3px 1px rgba(0, 0, 0, 0.15);\n",
              "      filter: drop-shadow(0px 1px 2px rgba(0, 0, 0, 0.3));\n",
              "      fill: #FFFFFF;\n",
              "    }\n",
              "  </style>\n",
              "\n",
              "      <script>\n",
              "        const buttonEl =\n",
              "          document.querySelector('#df-5ec173e8-570f-4d9f-bd59-15a0cd694392 button.colab-df-convert');\n",
              "        buttonEl.style.display =\n",
              "          google.colab.kernel.accessAllowed ? 'block' : 'none';\n",
              "\n",
              "        async function convertToInteractive(key) {\n",
              "          const element = document.querySelector('#df-5ec173e8-570f-4d9f-bd59-15a0cd694392');\n",
              "          const dataTable =\n",
              "            await google.colab.kernel.invokeFunction('convertToInteractive',\n",
              "                                                     [key], {});\n",
              "          if (!dataTable) return;\n",
              "\n",
              "          const docLinkHtml = 'Like what you see? Visit the ' +\n",
              "            '<a target=\"_blank\" href=https://colab.research.google.com/notebooks/data_table.ipynb>data table notebook</a>'\n",
              "            + ' to learn more about interactive tables.';\n",
              "          element.innerHTML = '';\n",
              "          dataTable['output_type'] = 'display_data';\n",
              "          await google.colab.output.renderOutput(dataTable, element);\n",
              "          const docLink = document.createElement('div');\n",
              "          docLink.innerHTML = docLinkHtml;\n",
              "          element.appendChild(docLink);\n",
              "        }\n",
              "      </script>\n",
              "    </div>\n",
              "  </div>\n",
              "  "
            ],
            "text/plain": [
              "        TAX   PTRATIO         B     LSTAT\n",
              "0 -0.666608 -1.459000  0.441052 -1.075562\n",
              "1 -0.987329 -0.303094  0.441052 -0.492439\n",
              "2 -0.987329 -0.303094  0.396427 -1.208727\n",
              "3 -1.106115  0.113032  0.416163 -1.361517\n",
              "4 -1.106115  0.113032  0.441052 -1.026501"
            ]
          },
          "metadata": {},
          "execution_count": 33
        }
      ]
    },
    {
      "cell_type": "code",
      "metadata": {
        "id": "ZY2cmn4-hKsb",
        "colab": {
          "base_uri": "https://localhost:8080/"
        },
        "outputId": "53c75cb0-6c70-4589-be8e-f53d01afff3a"
      },
      "source": [
        "x=dataset['NOX']\n",
        "z=(x-np.mean(x))/np.std(x)  # on scale (-3,3)\n",
        "len(x)"
      ],
      "execution_count": null,
      "outputs": [
        {
          "output_type": "execute_result",
          "data": {
            "text/plain": [
              "506"
            ]
          },
          "metadata": {
            "tags": []
          },
          "execution_count": 55
        }
      ]
    },
    {
      "cell_type": "markdown",
      "metadata": {
        "id": "2J3vFTFTKvGj"
      },
      "source": [
        "# redo data transformation using minmaxscalar() "
      ]
    },
    {
      "cell_type": "code",
      "metadata": {
        "colab": {
          "base_uri": "https://localhost:8080/",
          "height": 206
        },
        "id": "pUt0rl7BK3wQ",
        "outputId": "7672edcf-4cd4-4c92-e5db-329bd0099a3f"
      },
      "source": [
        "from sklearn.preprocessing import StandardScaler, MinMaxScaler # to convert variable on scale (0,1)\n",
        "scaler = preprocessing.MinMaxScaler() #  normal scaler z=(x-xbar)/s\n",
        "# Fit your data on the scaler object\n",
        "scaled_df = scaler.fit_transform(df)\n",
        "scaled_mm = pd.DataFrame(scaled_df, columns=names)\n",
        "scaled_mm.head()\n"
      ],
      "execution_count": null,
      "outputs": [
        {
          "output_type": "execute_result",
          "data": {
            "text/html": [
              "\n",
              "  <div id=\"df-92d7fa0e-6126-43b6-9e5c-92881b1847af\">\n",
              "    <div class=\"colab-df-container\">\n",
              "      <div>\n",
              "<style scoped>\n",
              "    .dataframe tbody tr th:only-of-type {\n",
              "        vertical-align: middle;\n",
              "    }\n",
              "\n",
              "    .dataframe tbody tr th {\n",
              "        vertical-align: top;\n",
              "    }\n",
              "\n",
              "    .dataframe thead th {\n",
              "        text-align: right;\n",
              "    }\n",
              "</style>\n",
              "<table border=\"1\" class=\"dataframe\">\n",
              "  <thead>\n",
              "    <tr style=\"text-align: right;\">\n",
              "      <th></th>\n",
              "      <th>TAX</th>\n",
              "      <th>PTRATIO</th>\n",
              "      <th>B</th>\n",
              "      <th>LSTAT</th>\n",
              "    </tr>\n",
              "  </thead>\n",
              "  <tbody>\n",
              "    <tr>\n",
              "      <th>0</th>\n",
              "      <td>0.208015</td>\n",
              "      <td>0.287234</td>\n",
              "      <td>1.000000</td>\n",
              "      <td>0.089680</td>\n",
              "    </tr>\n",
              "    <tr>\n",
              "      <th>1</th>\n",
              "      <td>0.104962</td>\n",
              "      <td>0.553191</td>\n",
              "      <td>1.000000</td>\n",
              "      <td>0.204470</td>\n",
              "    </tr>\n",
              "    <tr>\n",
              "      <th>2</th>\n",
              "      <td>0.104962</td>\n",
              "      <td>0.553191</td>\n",
              "      <td>0.989737</td>\n",
              "      <td>0.063466</td>\n",
              "    </tr>\n",
              "    <tr>\n",
              "      <th>3</th>\n",
              "      <td>0.066794</td>\n",
              "      <td>0.648936</td>\n",
              "      <td>0.994276</td>\n",
              "      <td>0.033389</td>\n",
              "    </tr>\n",
              "    <tr>\n",
              "      <th>4</th>\n",
              "      <td>0.066794</td>\n",
              "      <td>0.648936</td>\n",
              "      <td>1.000000</td>\n",
              "      <td>0.099338</td>\n",
              "    </tr>\n",
              "  </tbody>\n",
              "</table>\n",
              "</div>\n",
              "      <button class=\"colab-df-convert\" onclick=\"convertToInteractive('df-92d7fa0e-6126-43b6-9e5c-92881b1847af')\"\n",
              "              title=\"Convert this dataframe to an interactive table.\"\n",
              "              style=\"display:none;\">\n",
              "        \n",
              "  <svg xmlns=\"http://www.w3.org/2000/svg\" height=\"24px\"viewBox=\"0 0 24 24\"\n",
              "       width=\"24px\">\n",
              "    <path d=\"M0 0h24v24H0V0z\" fill=\"none\"/>\n",
              "    <path d=\"M18.56 5.44l.94 2.06.94-2.06 2.06-.94-2.06-.94-.94-2.06-.94 2.06-2.06.94zm-11 1L8.5 8.5l.94-2.06 2.06-.94-2.06-.94L8.5 2.5l-.94 2.06-2.06.94zm10 10l.94 2.06.94-2.06 2.06-.94-2.06-.94-.94-2.06-.94 2.06-2.06.94z\"/><path d=\"M17.41 7.96l-1.37-1.37c-.4-.4-.92-.59-1.43-.59-.52 0-1.04.2-1.43.59L10.3 9.45l-7.72 7.72c-.78.78-.78 2.05 0 2.83L4 21.41c.39.39.9.59 1.41.59.51 0 1.02-.2 1.41-.59l7.78-7.78 2.81-2.81c.8-.78.8-2.07 0-2.86zM5.41 20L4 18.59l7.72-7.72 1.47 1.35L5.41 20z\"/>\n",
              "  </svg>\n",
              "      </button>\n",
              "      \n",
              "  <style>\n",
              "    .colab-df-container {\n",
              "      display:flex;\n",
              "      flex-wrap:wrap;\n",
              "      gap: 12px;\n",
              "    }\n",
              "\n",
              "    .colab-df-convert {\n",
              "      background-color: #E8F0FE;\n",
              "      border: none;\n",
              "      border-radius: 50%;\n",
              "      cursor: pointer;\n",
              "      display: none;\n",
              "      fill: #1967D2;\n",
              "      height: 32px;\n",
              "      padding: 0 0 0 0;\n",
              "      width: 32px;\n",
              "    }\n",
              "\n",
              "    .colab-df-convert:hover {\n",
              "      background-color: #E2EBFA;\n",
              "      box-shadow: 0px 1px 2px rgba(60, 64, 67, 0.3), 0px 1px 3px 1px rgba(60, 64, 67, 0.15);\n",
              "      fill: #174EA6;\n",
              "    }\n",
              "\n",
              "    [theme=dark] .colab-df-convert {\n",
              "      background-color: #3B4455;\n",
              "      fill: #D2E3FC;\n",
              "    }\n",
              "\n",
              "    [theme=dark] .colab-df-convert:hover {\n",
              "      background-color: #434B5C;\n",
              "      box-shadow: 0px 1px 3px 1px rgba(0, 0, 0, 0.15);\n",
              "      filter: drop-shadow(0px 1px 2px rgba(0, 0, 0, 0.3));\n",
              "      fill: #FFFFFF;\n",
              "    }\n",
              "  </style>\n",
              "\n",
              "      <script>\n",
              "        const buttonEl =\n",
              "          document.querySelector('#df-92d7fa0e-6126-43b6-9e5c-92881b1847af button.colab-df-convert');\n",
              "        buttonEl.style.display =\n",
              "          google.colab.kernel.accessAllowed ? 'block' : 'none';\n",
              "\n",
              "        async function convertToInteractive(key) {\n",
              "          const element = document.querySelector('#df-92d7fa0e-6126-43b6-9e5c-92881b1847af');\n",
              "          const dataTable =\n",
              "            await google.colab.kernel.invokeFunction('convertToInteractive',\n",
              "                                                     [key], {});\n",
              "          if (!dataTable) return;\n",
              "\n",
              "          const docLinkHtml = 'Like what you see? Visit the ' +\n",
              "            '<a target=\"_blank\" href=https://colab.research.google.com/notebooks/data_table.ipynb>data table notebook</a>'\n",
              "            + ' to learn more about interactive tables.';\n",
              "          element.innerHTML = '';\n",
              "          dataTable['output_type'] = 'display_data';\n",
              "          await google.colab.output.renderOutput(dataTable, element);\n",
              "          const docLink = document.createElement('div');\n",
              "          docLink.innerHTML = docLinkHtml;\n",
              "          element.appendChild(docLink);\n",
              "        }\n",
              "      </script>\n",
              "    </div>\n",
              "  </div>\n",
              "  "
            ],
            "text/plain": [
              "        TAX   PTRATIO         B     LSTAT\n",
              "0  0.208015  0.287234  1.000000  0.089680\n",
              "1  0.104962  0.553191  1.000000  0.204470\n",
              "2  0.104962  0.553191  0.989737  0.063466\n",
              "3  0.066794  0.648936  0.994276  0.033389\n",
              "4  0.066794  0.648936  1.000000  0.099338"
            ]
          },
          "metadata": {},
          "execution_count": 34
        }
      ]
    },
    {
      "cell_type": "code",
      "metadata": {
        "id": "WRlhzrfFjfcI",
        "colab": {
          "base_uri": "https://localhost:8080/"
        },
        "outputId": "3453b8ce-ce46-4cac-e24b-3a28b7409f8f"
      },
      "source": [
        "\n",
        " \n",
        " \n",
        "# define min max scaler\n",
        "scaler = MinMaxScaler()   # (x-min)/(max-min)\n",
        "# transform data\n",
        "import numpy as np\n",
        "x=dataset['NOX']\n",
        "x=np.array(x)\n",
        "\n",
        "scaled = scaler.fit_transform(x.reshape(-1, 1))\n",
        "scaled_df = pd.DataFrame(scaled)\n",
        "max(scaled_df) #?\n"
      ],
      "execution_count": null,
      "outputs": [
        {
          "output_type": "execute_result",
          "data": {
            "text/plain": [
              "0"
            ]
          },
          "metadata": {
            "tags": []
          },
          "execution_count": 52
        }
      ]
    },
    {
      "cell_type": "markdown",
      "metadata": {
        "id": "HWT0m-9DmE80"
      },
      "source": [
        ""
      ]
    },
    {
      "cell_type": "code",
      "metadata": {
        "colab": {
          "resources": {
            "http://localhost:8080/nbextensions/google.colab/files.js": {
              "data": "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",
              "ok": true,
              "headers": [
                [
                  "content-type",
                  "application/javascript"
                ]
              ],
              "status": 200,
              "status_text": ""
            }
          },
          "base_uri": "https://localhost:8080/",
          "height": 73
        },
        "id": "FkgxhwAV0mM4",
        "outputId": "a9e8c082-ee1b-4ce8-d3fe-368549f70a7e"
      },
      "source": [
        "from google.colab import files\n",
        "uploaded = files.upload()"
      ],
      "execution_count": null,
      "outputs": [
        {
          "output_type": "display_data",
          "data": {
            "text/html": [
              "\n",
              "     <input type=\"file\" id=\"files-be1cd92e-0a5f-429c-b363-51570fc827eb\" name=\"files[]\" multiple disabled\n",
              "        style=\"border:none\" />\n",
              "     <output id=\"result-be1cd92e-0a5f-429c-b363-51570fc827eb\">\n",
              "      Upload widget is only available when the cell has been executed in the\n",
              "      current browser session. Please rerun this cell to enable.\n",
              "      </output>\n",
              "      <script src=\"/nbextensions/google.colab/files.js\"></script> "
            ],
            "text/plain": [
              "<IPython.core.display.HTML object>"
            ]
          },
          "metadata": {
            "tags": []
          }
        },
        {
          "output_type": "stream",
          "text": [
            "Saving dataset_GLM.csv to dataset_GLM.csv\n"
          ],
          "name": "stdout"
        }
      ]
    },
    {
      "cell_type": "code",
      "metadata": {
        "id": "C5JSxaburkcG",
        "colab": {
          "base_uri": "https://localhost:8080/"
        },
        "outputId": "d4022cd4-0edb-4b88-a1a1-395a4692e83b"
      },
      "source": [
        "import io\n",
        "# creating our dataframe\n",
        "dataset = pd.read_csv(io.BytesIO(uploaded['dataset_GLM.csv']))\n",
        "dataset.head(1)\n",
        "dataset.info()\n",
        "dataset.shape"
      ],
      "execution_count": null,
      "outputs": [
        {
          "output_type": "stream",
          "text": [
            "<class 'pandas.core.frame.DataFrame'>\n",
            "RangeIndex: 436 entries, 0 to 435\n",
            "Data columns (total 23 columns):\n",
            " #   Column        Non-Null Count  Dtype  \n",
            "---  ------        --------------  -----  \n",
            " 0   ids           435 non-null    float64\n",
            " 1   bday          435 non-null    object \n",
            " 2   enrolldate    435 non-null    object \n",
            " 3   expgradate    435 non-null    object \n",
            " 4   Rank          435 non-null    object \n",
            " 5   Major         434 non-null    object \n",
            " 6   Gender        435 non-null    object \n",
            " 7   Athlete       435 non-null    float64\n",
            " 8   Height        435 non-null    object \n",
            " 9   Weight        436 non-null    float64\n",
            " 10  Smoking       435 non-null    object \n",
            " 11  Sprint        435 non-null    object \n",
            " 12  MileMinDur    435 non-null    object \n",
            " 13  English       435 non-null    object \n",
            " 14  Reading       436 non-null    object \n",
            " 15  Math          436 non-null    object \n",
            " 16  Writing       435 non-null    object \n",
            " 17  State         435 non-null    object \n",
            " 18  LiveOnCampus  435 non-null    object \n",
            " 19  HowCommute    435 non-null    object \n",
            " 20  CommuteTime   435 non-null    object \n",
            " 21  SleepTime     435 non-null    object \n",
            " 22  StudyTime     435 non-null    object \n",
            "dtypes: float64(3), object(20)\n",
            "memory usage: 78.5+ KB\n"
          ],
          "name": "stdout"
        },
        {
          "output_type": "execute_result",
          "data": {
            "text/plain": [
              "(436, 23)"
            ]
          },
          "metadata": {
            "tags": []
          },
          "execution_count": 23
        }
      ]
    },
    {
      "cell_type": "markdown",
      "metadata": {
        "id": "q3-Cw7blsI-L"
      },
      "source": [
        "**dealing with missing values in the dataset**"
      ]
    },
    {
      "cell_type": "markdown",
      "metadata": {
        "id": "nZ0Ogy6Bs7gD"
      },
      "source": [
        "1- remove rows with missing values "
      ]
    },
    {
      "cell_type": "code",
      "metadata": {
        "colab": {
          "base_uri": "https://localhost:8080/"
        },
        "id": "YVtDGmDRsFWf",
        "outputId": "6afe7f92-0283-4a66-93e3-aa4a8b977a7a"
      },
      "source": [
        "\n",
        "# drop rows with missing values\n",
        "import pandas as pd\n",
        "min\n",
        "# summarize the shape of the data with missing rows removed\n",
        "print(dataset1.shape) "
      ],
      "execution_count": null,
      "outputs": [
        {
          "output_type": "stream",
          "text": [
            "(434, 23)\n"
          ],
          "name": "stdout"
        }
      ]
    },
    {
      "cell_type": "markdown",
      "metadata": {
        "id": "j1Lo2Zb8tRBs"
      },
      "source": [
        "2- Impute Missing Values"
      ]
    },
    {
      "cell_type": "code",
      "metadata": {
        "id": "cKF_vDi7tVHF"
      },
      "source": [
        "dataset.fillna(dataset.mean(), inplace=True)\n",
        "# count the number of NaN values in each column\n",
        "print(dataset.isnull().sum())"
      ],
      "execution_count": null,
      "outputs": []
    },
    {
      "cell_type": "code",
      "metadata": {
        "colab": {
          "base_uri": "https://localhost:8080/"
        },
        "id": "IgCPicF0tU-F",
        "outputId": "c3c733fd-7da5-451b-ac9a-2c3ab4583c6c"
      },
      "source": [
        "dataset2=dataset\n",
        "dataset2.shape"
      ],
      "execution_count": null,
      "outputs": [
        {
          "output_type": "execute_result",
          "data": {
            "text/plain": [
              "(436, 23)"
            ]
          },
          "metadata": {
            "tags": []
          },
          "execution_count": 45
        }
      ]
    },
    {
      "cell_type": "markdown",
      "metadata": {
        "id": "DOXM0HkwwNK8"
      },
      "source": [
        "** replace with zero\n"
      ]
    },
    {
      "cell_type": "code",
      "metadata": {
        "colab": {
          "base_uri": "https://localhost:8080/"
        },
        "id": "J6qkKbdNwgLh",
        "outputId": "468b833e-fe71-4cc5-f71f-a5a4b09f533d"
      },
      "source": [
        " dataset3=dataset['Height']\n",
        " print(dataset3.isnull().sum())\n",
        " \n",
        "#replace with 0\n",
        "dataset3.fillna(0, inplace=True)\n",
        "print(dataset3.isnull().sum())"
      ],
      "execution_count": null,
      "outputs": [
        {
          "output_type": "stream",
          "text": [
            "0\n"
          ],
          "name": "stdout"
        }
      ]
    },
    {
      "cell_type": "markdown",
      "metadata": {
        "id": "fPog55Zs3_8R"
      },
      "source": [
        "# Exp: Use glm_dataset dataset to do the following tasks: \n",
        "*  propose one-sigma interval estimation for 'Weight'\n",
        "* create a proper interval estimation using boxplot technique\n",
        "* find the shortest interval estimation using both technique\n",
        "* specify outliers based on shortest interval estimation         "
      ]
    },
    {
      "cell_type": "code",
      "metadata": {
        "colab": {
          "base_uri": "https://localhost:8080/"
        },
        "id": "DFzd0uNM_S9a",
        "outputId": "59ee696f-fd78-4200-a333-4bce5209fcde"
      },
      "source": [
        "from pandas import read_csv\n",
        "from numpy import mean, std\n",
        "data=read_csv('dataset_GLM.csv')\n",
        "data.head()\n",
        "X=data['Weight']\n",
        "####CR one-sigma-------------\n",
        "L=mean(X)-std(X)\n",
        "U=mean(X)+std(X)\n",
        "print('one-sigma interval:',[L,U])\n",
        "#################### box plot#######################\n",
        "Q1=X.quantile(0.25); Q3=X.quantile(0.75)\n",
        "IQR=Q3-Q1\n",
        "LW=Q1-1.5*IQR \n",
        "UW=Q3+1.5*IQR\n",
        "[LW,UW]\n",
        "########################\n",
        "# one-sigma is the shortest int\n",
        "Out=[]\n",
        "for i in X:\n",
        "  if i<L or i>U:\n",
        "    Out.append(i)\n",
        "\n",
        "print('Outliers:',Out)\n"
      ],
      "execution_count": null,
      "outputs": [
        {
          "output_type": "stream",
          "name": "stdout",
          "text": [
            "one-sigma interval: [141.3850319606106, 220.67810632379286]\n",
            "Outliers: [101.71, 103.44, 106.48, 106.97, 108.01, 109.93, 110.62, 113.11, 113.66, 113.7, 115.19, 115.83, 115.98, 116.99, 118.99, 119.07, 119.99, 122.24, 122.67, 122.85, 123.31, 123.84, 124.09, 124.59, 126.47, 126.63, 126.82, 127.14, 127.16, 127.17, 127.69, 127.89, 128.17, 128.4, 128.73, 128.98, 129.16, 129.98, 130.07, 130.69, 131.92, 132.69, 132.78, 133.01, 134.77, 134.85, 135.52, 135.69, 136.96, 137.0, 137.81, 138.24, 139.85, 139.95, 140.92, 220.77, 221.5, 221.55, 221.92, 222.87, 224.02, 224.44, 224.57, 224.92, 225.58, 226.48, 227.08, 227.9, 228.27, 228.36, 230.27, 230.42, 230.59, 234.64, 236.64, 237.06, 238.64, 238.91, 240.42, 244.67, 246.64, 251.41, 253.22, 253.6, 256.03, 261.08, 261.59, 261.92, 264.16, 266.78, 267.24, 267.37, 267.88, 269.38, 269.82, 270.29, 272.51, 272.58, 274.67, 275.79, 291.73, 291.99, 297.21, 300.24, 318.87, 319.65, 321.24, 329.2, 334.44, 350.07]\n"
          ]
        }
      ]
    },
    {
      "cell_type": "markdown",
      "metadata": {
        "id": "HxW8oTVPzz2d"
      },
      "source": [
        "#outlier detection \n",
        "![image.png](data:image/png;base64,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)"
      ]
    },
    {
      "cell_type": "code",
      "metadata": {
        "colab": {
          "base_uri": "https://localhost:8080/",
          "height": 147
        },
        "id": "IDmxMXL332B2",
        "outputId": "38c73edd-fd96-4d8d-faef-c8f20468352f"
      },
      "source": [
        "import io\n",
        "import pandas as pd\n",
        "# creating our dataframe\n",
        "dataset = pd.read_csv(io.BytesIO(uploaded['dataset_GLM.csv']))\n",
        "dataset.head(1)"
      ],
      "execution_count": null,
      "outputs": [
        {
          "output_type": "execute_result",
          "data": {
            "text/html": [
              "<div>\n",
              "<style scoped>\n",
              "    .dataframe tbody tr th:only-of-type {\n",
              "        vertical-align: middle;\n",
              "    }\n",
              "\n",
              "    .dataframe tbody tr th {\n",
              "        vertical-align: top;\n",
              "    }\n",
              "\n",
              "    .dataframe thead th {\n",
              "        text-align: right;\n",
              "    }\n",
              "</style>\n",
              "<table border=\"1\" class=\"dataframe\">\n",
              "  <thead>\n",
              "    <tr style=\"text-align: right;\">\n",
              "      <th></th>\n",
              "      <th>ids</th>\n",
              "      <th>bday</th>\n",
              "      <th>enrolldate</th>\n",
              "      <th>expgradate</th>\n",
              "      <th>Rank</th>\n",
              "      <th>Major</th>\n",
              "      <th>Gender</th>\n",
              "      <th>Athlete</th>\n",
              "      <th>Height</th>\n",
              "      <th>Weight</th>\n",
              "      <th>Smoking</th>\n",
              "      <th>Sprint</th>\n",
              "      <th>MileMinDur</th>\n",
              "      <th>English</th>\n",
              "      <th>Reading</th>\n",
              "      <th>Math</th>\n",
              "      <th>Writing</th>\n",
              "      <th>State</th>\n",
              "      <th>LiveOnCampus</th>\n",
              "      <th>HowCommute</th>\n",
              "      <th>CommuteTime</th>\n",
              "      <th>SleepTime</th>\n",
              "      <th>StudyTime</th>\n",
              "    </tr>\n",
              "  </thead>\n",
              "  <tbody>\n",
              "    <tr>\n",
              "      <th>0</th>\n",
              "      <td>41870.0</td>\n",
              "      <td>04/11/1994</td>\n",
              "      <td>05-Aug-13</td>\n",
              "      <td>13-May-19</td>\n",
              "      <td>2</td>\n",
              "      <td>I am currently exploring options</td>\n",
              "      <td>1</td>\n",
              "      <td>0.0</td>\n",
              "      <td>55</td>\n",
              "      <td>101.71</td>\n",
              "      <td>0</td>\n",
              "      <td>7.433</td>\n",
              "      <td>00:10:08</td>\n",
              "      <td>86.23</td>\n",
              "      <td>89.19</td>\n",
              "      <td>61.2</td>\n",
              "      <td>88.91</td>\n",
              "      <td>Out of state</td>\n",
              "      <td></td>\n",
              "      <td>3</td>\n",
              "      <td>24</td>\n",
              "      <td>9</td>\n",
              "      <td>3</td>\n",
              "    </tr>\n",
              "  </tbody>\n",
              "</table>\n",
              "</div>"
            ],
            "text/plain": [
              "       ids        bday enrolldate  ... CommuteTime SleepTime StudyTime\n",
              "0  41870.0  04/11/1994  05-Aug-13  ...          24         9         3\n",
              "\n",
              "[1 rows x 23 columns]"
            ]
          },
          "metadata": {
            "tags": []
          },
          "execution_count": 78
        }
      ]
    },
    {
      "cell_type": "markdown",
      "metadata": {
        "id": "Yp31hJDg2jqt"
      },
      "source": [
        "**practice in Python"
      ]
    },
    {
      "cell_type": "code",
      "metadata": {
        "colab": {
          "base_uri": "https://localhost:8080/"
        },
        "id": "uuvxsyiBzOZn",
        "outputId": "36c8623f-0fc9-4f05-f600-336d40ea50cd"
      },
      "source": [
        "import pandas as pd\n",
        "mean = np.mean(dataset) \n",
        "std = np.std(dataset) \n",
        "print('mean of the dataset is', mean) \n",
        "print('std. deviation is', std) "
      ],
      "execution_count": null,
      "outputs": [
        {
          "output_type": "stream",
          "text": [
            "mean of the dataset is ids        35279.022989\n",
            "Athlete        0.422989\n",
            "Weight       181.031569\n",
            "dtype: float64\n",
            "std. deviation is ids        8627.799463\n",
            "Athlete       0.494034\n",
            "Weight       39.646537\n",
            "dtype: float64\n"
          ],
          "name": "stdout"
        }
      ]
    },
    {
      "cell_type": "code",
      "metadata": {
        "id": "4gfNw_0cxz90"
      },
      "source": [
        " dataset.dropna(inplace=True)\n",
        "dataset1=dataset\n",
        "print(dataset1.isnull().sum())\n",
        "dataset1.info()\n"
      ],
      "execution_count": null,
      "outputs": []
    },
    {
      "cell_type": "markdown",
      "metadata": {
        "id": "h-j0PP6v7Xn_"
      },
      "source": [
        "#Example: detect outliers for the attribute Weight using z score based on one-sigma interval estimation\n"
      ]
    },
    {
      "cell_type": "code",
      "metadata": {
        "colab": {
          "base_uri": "https://localhost:8080/"
        },
        "id": "9gBmHlUTtUvz",
        "outputId": "aadc6021-58df-4203-c5b7-9ead8e8bd400"
      },
      "source": [
        "#solution \n",
        "import pandas as pd\n",
        "x=dataset1['Weight']\n",
        "mean1 = np.mean(x) \n",
        "std1 = np.std(x)\n",
        "print('mean of the dataset is', mean1)\n",
        "print('std. deviation is', std1) \n",
        "threshold = 1\n",
        "outlier = [] \n",
        "for i in x: \n",
        "    z = (i-mean1)/std1 \n",
        "    if z > threshold: \n",
        "        outlier.append(i) \n",
        "print('outlier in dataset is', outlier) "
      ],
      "execution_count": null,
      "outputs": [
        {
          "output_type": "stream",
          "text": [
            "mean of the dataset is 180.98171100668193\n",
            "std. deviation is 39.72417540485133\n",
            "outlier in dataset is [220.77, 221.5, 221.55, 221.92, 222.87, 224.02, 224.44, 224.57, 224.92, 225.58, 226.48, 227.08, 227.9, 228.27, 228.36, 230.27, 230.42, 230.59, 234.64, 236.64, 237.06, 238.64, 238.91, 240.42, 244.67, 246.64, 251.41, 253.22, 253.6, 256.03, 261.08, 261.59, 261.92, 264.16, 266.78, 267.24, 267.37, 267.88, 269.38, 269.82, 270.29, 272.51, 272.58, 274.67, 275.79, 291.73, 291.99, 297.21, 300.24, 318.87, 319.65, 321.24, 329.2, 334.44, 350.07]\n"
          ],
          "name": "stdout"
        }
      ]
    },
    {
      "cell_type": "markdown",
      "metadata": {
        "id": "FlKX965Z8C4H"
      },
      "source": [
        "## Exercise: \n",
        "*load the dataset in below link\n",
        "\"http://users.stat.ufl.edu/~winner/data/stature_hand_foot.csv\"\n",
        "find two-sigma interval estimation for the attribute 'handLen'. detect outliers if any* "
      ]
    },
    {
      "cell_type": "code",
      "metadata": {
        "id": "Lu_LbtxCkk63"
      },
      "source": [
        "url=\"http://users.stat.ufl.edu/~winner/data/stature_hand_foot.csv\"\n",
        "#URL='http://users.stat.ufl.edu/~winner/data/productliability_award.csv'\n",
        "df = read_csv(url)\n",
        "df.head(2)\n",
        "#df.info()\n",
        "dataset=df.drop('idGen',axis=1)\n",
        "dataset.head()\n",
        "N=dataset.columns"
      ],
      "execution_count": null,
      "outputs": []
    },
    {
      "cell_type": "code",
      "metadata": {
        "colab": {
          "base_uri": "https://localhost:8080/"
        },
        "id": "URI8LpfWlFt5",
        "outputId": "8990f4e6-c4f0-46ab-9db9-5cc40a22289d"
      },
      "source": [
        "from numpy import mean,std\n",
        "X=df['handLen']\n",
        "xbar =mean(X) \n",
        "s = std(X)\n",
        "L=xbar-2*s  # 2 sigma-interval estimation\n",
        "U=xbar+2*s\n",
        "\n",
        "outliers = [] \n",
        "for i in X: \n",
        "    if i > U or i<L: \n",
        "        outliers.append(i) \n",
        "print('outliers in dataset is', outliers)"
      ],
      "execution_count": null,
      "outputs": [
        {
          "output_type": "stream",
          "name": "stdout",
          "text": [
            "outliers in dataset is [226.77, 228.8512, 168.2262, 170.0202, 167.6348]\n"
          ]
        }
      ]
    },
    {
      "cell_type": "markdown",
      "source": [
        "# Exercise 1\n",
        "\n",
        "transform the above dataset on normal scale\n",
        "\n",
        "transform the above dataset on 0-1 scale\n",
        "\n",
        "apply boxplot technique to detect outliers of 'HandLen'\n",
        "\n",
        "\n"
      ],
      "metadata": {
        "id": "Yez-FzE_B1zE"
      }
    },
    {
      "cell_type": "code",
      "source": [
        "#a\n",
        "scaler = preprocessing.StandardScaler() #  normal scaler \n",
        "# Fit your data on the scaler object\n",
        "scaled_dataset = scaler.fit_transform(dataset)\n",
        "DF=DataFrame(scaled_dataset, columns=N)\n",
        "DF.head(2)\n"
      ],
      "metadata": {
        "colab": {
          "base_uri": "https://localhost:8080/",
          "height": 112
        },
        "id": "zb9u0-tHHvd3",
        "outputId": "9bead3f9-599f-4018-beb5-1497a7f4fb6b"
      },
      "execution_count": null,
      "outputs": [
        {
          "output_type": "execute_result",
          "data": {
            "text/html": [
              "\n",
              "  <div id=\"df-2a3588cc-4f33-4d9e-8ddb-e04fbf269cc7\">\n",
              "    <div class=\"colab-df-container\">\n",
              "      <div>\n",
              "<style scoped>\n",
              "    .dataframe tbody tr th:only-of-type {\n",
              "        vertical-align: middle;\n",
              "    }\n",
              "\n",
              "    .dataframe tbody tr th {\n",
              "        vertical-align: top;\n",
              "    }\n",
              "\n",
              "    .dataframe thead th {\n",
              "        text-align: right;\n",
              "    }\n",
              "</style>\n",
              "<table border=\"1\" class=\"dataframe\">\n",
              "  <thead>\n",
              "    <tr style=\"text-align: right;\">\n",
              "      <th></th>\n",
              "      <th>gender</th>\n",
              "      <th>height</th>\n",
              "      <th>handLen</th>\n",
              "      <th>footLen</th>\n",
              "    </tr>\n",
              "  </thead>\n",
              "  <tbody>\n",
              "    <tr>\n",
              "      <th>0</th>\n",
              "      <td>-0.968246</td>\n",
              "      <td>1.622064</td>\n",
              "      <td>0.470408</td>\n",
              "      <td>2.438022</td>\n",
              "    </tr>\n",
              "    <tr>\n",
              "      <th>1</th>\n",
              "      <td>-0.968246</td>\n",
              "      <td>0.563479</td>\n",
              "      <td>-0.142501</td>\n",
              "      <td>1.845797</td>\n",
              "    </tr>\n",
              "  </tbody>\n",
              "</table>\n",
              "</div>\n",
              "      <button class=\"colab-df-convert\" onclick=\"convertToInteractive('df-2a3588cc-4f33-4d9e-8ddb-e04fbf269cc7')\"\n",
              "              title=\"Convert this dataframe to an interactive table.\"\n",
              "              style=\"display:none;\">\n",
              "        \n",
              "  <svg xmlns=\"http://www.w3.org/2000/svg\" height=\"24px\"viewBox=\"0 0 24 24\"\n",
              "       width=\"24px\">\n",
              "    <path d=\"M0 0h24v24H0V0z\" fill=\"none\"/>\n",
              "    <path d=\"M18.56 5.44l.94 2.06.94-2.06 2.06-.94-2.06-.94-.94-2.06-.94 2.06-2.06.94zm-11 1L8.5 8.5l.94-2.06 2.06-.94-2.06-.94L8.5 2.5l-.94 2.06-2.06.94zm10 10l.94 2.06.94-2.06 2.06-.94-2.06-.94-.94-2.06-.94 2.06-2.06.94z\"/><path d=\"M17.41 7.96l-1.37-1.37c-.4-.4-.92-.59-1.43-.59-.52 0-1.04.2-1.43.59L10.3 9.45l-7.72 7.72c-.78.78-.78 2.05 0 2.83L4 21.41c.39.39.9.59 1.41.59.51 0 1.02-.2 1.41-.59l7.78-7.78 2.81-2.81c.8-.78.8-2.07 0-2.86zM5.41 20L4 18.59l7.72-7.72 1.47 1.35L5.41 20z\"/>\n",
              "  </svg>\n",
              "      </button>\n",
              "      \n",
              "  <style>\n",
              "    .colab-df-container {\n",
              "      display:flex;\n",
              "      flex-wrap:wrap;\n",
              "      gap: 12px;\n",
              "    }\n",
              "\n",
              "    .colab-df-convert {\n",
              "      background-color: #E8F0FE;\n",
              "      border: none;\n",
              "      border-radius: 50%;\n",
              "      cursor: pointer;\n",
              "      display: none;\n",
              "      fill: #1967D2;\n",
              "      height: 32px;\n",
              "      padding: 0 0 0 0;\n",
              "      width: 32px;\n",
              "    }\n",
              "\n",
              "    .colab-df-convert:hover {\n",
              "      background-color: #E2EBFA;\n",
              "      box-shadow: 0px 1px 2px rgba(60, 64, 67, 0.3), 0px 1px 3px 1px rgba(60, 64, 67, 0.15);\n",
              "      fill: #174EA6;\n",
              "    }\n",
              "\n",
              "    [theme=dark] .colab-df-convert {\n",
              "      background-color: #3B4455;\n",
              "      fill: #D2E3FC;\n",
              "    }\n",
              "\n",
              "    [theme=dark] .colab-df-convert:hover {\n",
              "      background-color: #434B5C;\n",
              "      box-shadow: 0px 1px 3px 1px rgba(0, 0, 0, 0.15);\n",
              "      filter: drop-shadow(0px 1px 2px rgba(0, 0, 0, 0.3));\n",
              "      fill: #FFFFFF;\n",
              "    }\n",
              "  </style>\n",
              "\n",
              "      <script>\n",
              "        const buttonEl =\n",
              "          document.querySelector('#df-2a3588cc-4f33-4d9e-8ddb-e04fbf269cc7 button.colab-df-convert');\n",
              "        buttonEl.style.display =\n",
              "          google.colab.kernel.accessAllowed ? 'block' : 'none';\n",
              "\n",
              "        async function convertToInteractive(key) {\n",
              "          const element = document.querySelector('#df-2a3588cc-4f33-4d9e-8ddb-e04fbf269cc7');\n",
              "          const dataTable =\n",
              "            await google.colab.kernel.invokeFunction('convertToInteractive',\n",
              "                                                     [key], {});\n",
              "          if (!dataTable) return;\n",
              "\n",
              "          const docLinkHtml = 'Like what you see? Visit the ' +\n",
              "            '<a target=\"_blank\" href=https://colab.research.google.com/notebooks/data_table.ipynb>data table notebook</a>'\n",
              "            + ' to learn more about interactive tables.';\n",
              "          element.innerHTML = '';\n",
              "          dataTable['output_type'] = 'display_data';\n",
              "          await google.colab.output.renderOutput(dataTable, element);\n",
              "          const docLink = document.createElement('div');\n",
              "          docLink.innerHTML = docLinkHtml;\n",
              "          element.appendChild(docLink);\n",
              "        }\n",
              "      </script>\n",
              "    </div>\n",
              "  </div>\n",
              "  "
            ],
            "text/plain": [
              "     gender    height   handLen   footLen\n",
              "0 -0.968246  1.622064  0.470408  2.438022\n",
              "1 -0.968246  0.563479 -0.142501  1.845797"
            ]
          },
          "metadata": {},
          "execution_count": 57
        }
      ]
    },
    {
      "cell_type": "code",
      "source": [
        "X=DF['handLen']\n",
        "Q1 =X.quantile(0.25)\n",
        "Q3=X.quantile(0.75)\n",
        "IQR=Q3-Q1\n",
        "LW=Q1-1.5*IQR   \n",
        "UW=Q3+1.5*IQR\n",
        "\n",
        "outliers = [] \n",
        "for i in X: \n",
        "    if i > UW or i<LW: \n",
        "        outliers.append(i) \n",
        "print('outliers in dataset is', outliers)"
      ],
      "metadata": {
        "colab": {
          "base_uri": "https://localhost:8080/"
        },
        "id": "guAXj_uTKKnk",
        "outputId": "47f192c1-f6ba-453b-c2c9-35d11c8c0313"
      },
      "execution_count": null,
      "outputs": [
        {
          "output_type": "stream",
          "name": "stdout",
          "text": [
            "outliers in dataset is []\n"
          ]
        }
      ]
    },
    {
      "cell_type": "code",
      "source": [
        "#b\n",
        "scaler = preprocessing.MinMaxScaler() #  normal scaler \n",
        "# Fit your data on the scaler object\n",
        "scaled_dataset = scaler.fit_transform(dataset)\n",
        "DF=DataFrame(scaled_dataset, columns=N)\n",
        "DF.head(2)"
      ],
      "metadata": {
        "colab": {
          "base_uri": "https://localhost:8080/",
          "height": 112
        },
        "id": "tIse2tLHJiAB",
        "outputId": "423d08e5-34c8-4bca-954e-3dc43bc9541d"
      },
      "execution_count": null,
      "outputs": [
        {
          "output_type": "execute_result",
          "data": {
            "text/html": [
              "\n",
              "  <div id=\"df-c92c9b76-7ca6-43e2-8a00-d9759ca86b5c\">\n",
              "    <div class=\"colab-df-container\">\n",
              "      <div>\n",
              "<style scoped>\n",
              "    .dataframe tbody tr th:only-of-type {\n",
              "        vertical-align: middle;\n",
              "    }\n",
              "\n",
              "    .dataframe tbody tr th {\n",
              "        vertical-align: top;\n",
              "    }\n",
              "\n",
              "    .dataframe thead th {\n",
              "        text-align: right;\n",
              "    }\n",
              "</style>\n",
              "<table border=\"1\" class=\"dataframe\">\n",
              "  <thead>\n",
              "    <tr style=\"text-align: right;\">\n",
              "      <th></th>\n",
              "      <th>gender</th>\n",
              "      <th>height</th>\n",
              "      <th>handLen</th>\n",
              "      <th>footLen</th>\n",
              "    </tr>\n",
              "  </thead>\n",
              "  <tbody>\n",
              "    <tr>\n",
              "      <th>0</th>\n",
              "      <td>0.0</td>\n",
              "      <td>0.801320</td>\n",
              "      <td>0.622557</td>\n",
              "      <td>0.878016</td>\n",
              "    </tr>\n",
              "    <tr>\n",
              "      <th>1</th>\n",
              "      <td>0.0</td>\n",
              "      <td>0.575087</td>\n",
              "      <td>0.489408</td>\n",
              "      <td>0.770167</td>\n",
              "    </tr>\n",
              "  </tbody>\n",
              "</table>\n",
              "</div>\n",
              "      <button class=\"colab-df-convert\" onclick=\"convertToInteractive('df-c92c9b76-7ca6-43e2-8a00-d9759ca86b5c')\"\n",
              "              title=\"Convert this dataframe to an interactive table.\"\n",
              "              style=\"display:none;\">\n",
              "        \n",
              "  <svg xmlns=\"http://www.w3.org/2000/svg\" height=\"24px\"viewBox=\"0 0 24 24\"\n",
              "       width=\"24px\">\n",
              "    <path d=\"M0 0h24v24H0V0z\" fill=\"none\"/>\n",
              "    <path d=\"M18.56 5.44l.94 2.06.94-2.06 2.06-.94-2.06-.94-.94-2.06-.94 2.06-2.06.94zm-11 1L8.5 8.5l.94-2.06 2.06-.94-2.06-.94L8.5 2.5l-.94 2.06-2.06.94zm10 10l.94 2.06.94-2.06 2.06-.94-2.06-.94-.94-2.06-.94 2.06-2.06.94z\"/><path d=\"M17.41 7.96l-1.37-1.37c-.4-.4-.92-.59-1.43-.59-.52 0-1.04.2-1.43.59L10.3 9.45l-7.72 7.72c-.78.78-.78 2.05 0 2.83L4 21.41c.39.39.9.59 1.41.59.51 0 1.02-.2 1.41-.59l7.78-7.78 2.81-2.81c.8-.78.8-2.07 0-2.86zM5.41 20L4 18.59l7.72-7.72 1.47 1.35L5.41 20z\"/>\n",
              "  </svg>\n",
              "      </button>\n",
              "      \n",
              "  <style>\n",
              "    .colab-df-container {\n",
              "      display:flex;\n",
              "      flex-wrap:wrap;\n",
              "      gap: 12px;\n",
              "    }\n",
              "\n",
              "    .colab-df-convert {\n",
              "      background-color: #E8F0FE;\n",
              "      border: none;\n",
              "      border-radius: 50%;\n",
              "      cursor: pointer;\n",
              "      display: none;\n",
              "      fill: #1967D2;\n",
              "      height: 32px;\n",
              "      padding: 0 0 0 0;\n",
              "      width: 32px;\n",
              "    }\n",
              "\n",
              "    .colab-df-convert:hover {\n",
              "      background-color: #E2EBFA;\n",
              "      box-shadow: 0px 1px 2px rgba(60, 64, 67, 0.3), 0px 1px 3px 1px rgba(60, 64, 67, 0.15);\n",
              "      fill: #174EA6;\n",
              "    }\n",
              "\n",
              "    [theme=dark] .colab-df-convert {\n",
              "      background-color: #3B4455;\n",
              "      fill: #D2E3FC;\n",
              "    }\n",
              "\n",
              "    [theme=dark] .colab-df-convert:hover {\n",
              "      background-color: #434B5C;\n",
              "      box-shadow: 0px 1px 3px 1px rgba(0, 0, 0, 0.15);\n",
              "      filter: drop-shadow(0px 1px 2px rgba(0, 0, 0, 0.3));\n",
              "      fill: #FFFFFF;\n",
              "    }\n",
              "  </style>\n",
              "\n",
              "      <script>\n",
              "        const buttonEl =\n",
              "          document.querySelector('#df-c92c9b76-7ca6-43e2-8a00-d9759ca86b5c button.colab-df-convert');\n",
              "        buttonEl.style.display =\n",
              "          google.colab.kernel.accessAllowed ? 'block' : 'none';\n",
              "\n",
              "        async function convertToInteractive(key) {\n",
              "          const element = document.querySelector('#df-c92c9b76-7ca6-43e2-8a00-d9759ca86b5c');\n",
              "          const dataTable =\n",
              "            await google.colab.kernel.invokeFunction('convertToInteractive',\n",
              "                                                     [key], {});\n",
              "          if (!dataTable) return;\n",
              "\n",
              "          const docLinkHtml = 'Like what you see? Visit the ' +\n",
              "            '<a target=\"_blank\" href=https://colab.research.google.com/notebooks/data_table.ipynb>data table notebook</a>'\n",
              "            + ' to learn more about interactive tables.';\n",
              "          element.innerHTML = '';\n",
              "          dataTable['output_type'] = 'display_data';\n",
              "          await google.colab.output.renderOutput(dataTable, element);\n",
              "          const docLink = document.createElement('div');\n",
              "          docLink.innerHTML = docLinkHtml;\n",
              "          element.appendChild(docLink);\n",
              "        }\n",
              "      </script>\n",
              "    </div>\n",
              "  </div>\n",
              "  "
            ],
            "text/plain": [
              "   gender    height   handLen   footLen\n",
              "0     0.0  0.801320  0.622557  0.878016\n",
              "1     0.0  0.575087  0.489408  0.770167"
            ]
          },
          "metadata": {},
          "execution_count": 59
        }
      ]
    },
    {
      "cell_type": "code",
      "metadata": {
        "colab": {
          "base_uri": "https://localhost:8080/",
          "height": 402
        },
        "id": "WuZZLN-hmaXs",
        "outputId": "6440875f-cd95-4dba-ac5f-22ac63653ed9"
      },
      "source": [
        "X=df['handLen']\n",
        "xbar=np.mean(X)\n",
        "s=np.std(X)\n",
        "\n",
        "Output=[]\n",
        "for i in X:\n",
        "  z=(i-xbar)/s\n",
        "  Output.append(z)\n",
        "Y=pd.DataFrame(Output)\n",
        "Y.columns=['new']\n"
      ],
      "execution_count": null,
      "outputs": [
        {
          "output_type": "execute_result",
          "data": {
            "text/html": [
              "<div>\n",
              "<style scoped>\n",
              "    .dataframe tbody tr th:only-of-type {\n",
              "        vertical-align: middle;\n",
              "    }\n",
              "\n",
              "    .dataframe tbody tr th {\n",
              "        vertical-align: top;\n",
              "    }\n",
              "\n",
              "    .dataframe thead th {\n",
              "        text-align: right;\n",
              "    }\n",
              "</style>\n",
              "<table border=\"1\" class=\"dataframe\">\n",
              "  <thead>\n",
              "    <tr style=\"text-align: right;\">\n",
              "      <th></th>\n",
              "      <th>new</th>\n",
              "    </tr>\n",
              "  </thead>\n",
              "  <tbody>\n",
              "    <tr>\n",
              "      <th>0</th>\n",
              "      <td>0.470408</td>\n",
              "    </tr>\n",
              "    <tr>\n",
              "      <th>1</th>\n",
              "      <td>-0.142501</td>\n",
              "    </tr>\n",
              "    <tr>\n",
              "      <th>2</th>\n",
              "      <td>-0.442733</td>\n",
              "    </tr>\n",
              "    <tr>\n",
              "      <th>3</th>\n",
              "      <td>1.888131</td>\n",
              "    </tr>\n",
              "    <tr>\n",
              "      <th>4</th>\n",
              "      <td>0.098688</td>\n",
              "    </tr>\n",
              "    <tr>\n",
              "      <th>...</th>\n",
              "      <td>...</td>\n",
              "    </tr>\n",
              "    <tr>\n",
              "      <th>150</th>\n",
              "      <td>-1.287867</td>\n",
              "    </tr>\n",
              "    <tr>\n",
              "      <th>151</th>\n",
              "      <td>-0.853246</td>\n",
              "    </tr>\n",
              "    <tr>\n",
              "      <th>152</th>\n",
              "      <td>-0.736408</td>\n",
              "    </tr>\n",
              "    <tr>\n",
              "      <th>153</th>\n",
              "      <td>-0.854750</td>\n",
              "    </tr>\n",
              "    <tr>\n",
              "      <th>154</th>\n",
              "      <td>0.144196</td>\n",
              "    </tr>\n",
              "  </tbody>\n",
              "</table>\n",
              "<p>155 rows × 1 columns</p>\n",
              "</div>"
            ],
            "text/plain": [
              "          new\n",
              "0    0.470408\n",
              "1   -0.142501\n",
              "2   -0.442733\n",
              "3    1.888131\n",
              "4    0.098688\n",
              "..        ...\n",
              "150 -1.287867\n",
              "151 -0.853246\n",
              "152 -0.736408\n",
              "153 -0.854750\n",
              "154  0.144196\n",
              "\n",
              "[155 rows x 1 columns]"
            ]
          },
          "metadata": {
            "tags": []
          },
          "execution_count": 32
        }
      ]
    },
    {
      "cell_type": "code",
      "metadata": {
        "colab": {
          "base_uri": "https://localhost:8080/"
        },
        "id": "a9jB073kf_gd",
        "outputId": "297f2626-df0c-4c6f-a7f8-5adae1c5375c"
      },
      "source": [
        "# filtering outliers using box-plot technique\n",
        "Q1=X.quantile(0.25)\n",
        "Q3=X.quantile(0.75)\n",
        "IQR=Q3-Q1\n",
        "LW=Q1-1.5*IQR \n",
        "UW=Q3+1.5*IQR \n",
        "\n",
        "outliers = [] \n",
        "for i in X: \n",
        "    if i > UW or i<LW: \n",
        "        outliers.append(i) \n",
        "print('outliers in dataset is', outliers)"
      ],
      "execution_count": null,
      "outputs": [
        {
          "output_type": "stream",
          "text": [
            "outliers in dataset is []\n"
          ],
          "name": "stdout"
        }
      ]
    },
    {
      "cell_type": "code",
      "metadata": {
        "colab": {
          "base_uri": "https://localhost:8080/",
          "height": 346
        },
        "id": "b-kvUh2shEK1",
        "outputId": "3614b608-ca57-4afe-d9d3-a0cc43be6176"
      },
      "source": [
        "from sklearn.preprocessing import MinMaxScaler # to convert variable on scale (0,1)\n",
        " \n",
        " \n",
        "# define min max scaler\n",
        "scaler = MinMaxScaler()   # (x-min)/(max-min)\n",
        "# transform data\n",
        "X=X.reshape(-1, 1)\n",
        "scaled = scaler.fit_transform(X)\n",
        "scaled_df = pd.DataFrame(scaled, columns=names)\n",
        "scaled_df "
      ],
      "execution_count": null,
      "outputs": [
        {
          "output_type": "error",
          "ename": "AttributeError",
          "evalue": "ignored",
          "traceback": [
            "\u001b[0;31m---------------------------------------------------------------------------\u001b[0m",
            "\u001b[0;31mAttributeError\u001b[0m                            Traceback (most recent call last)",
            "\u001b[0;32m<ipython-input-11-749b0e71a15f>\u001b[0m in \u001b[0;36m<module>\u001b[0;34m()\u001b[0m\n\u001b[1;32m      5\u001b[0m \u001b[0mscaler\u001b[0m \u001b[0;34m=\u001b[0m \u001b[0mMinMaxScaler\u001b[0m\u001b[0;34m(\u001b[0m\u001b[0;34m)\u001b[0m   \u001b[0;31m# (x-min)/(max-min)\u001b[0m\u001b[0;34m\u001b[0m\u001b[0;34m\u001b[0m\u001b[0m\n\u001b[1;32m      6\u001b[0m \u001b[0;31m# transform data\u001b[0m\u001b[0;34m\u001b[0m\u001b[0;34m\u001b[0m\u001b[0;34m\u001b[0m\u001b[0m\n\u001b[0;32m----> 7\u001b[0;31m \u001b[0mX\u001b[0m\u001b[0;34m=\u001b[0m\u001b[0mX\u001b[0m\u001b[0;34m.\u001b[0m\u001b[0mreshape\u001b[0m\u001b[0;34m(\u001b[0m\u001b[0;34m-\u001b[0m\u001b[0;36m1\u001b[0m\u001b[0;34m,\u001b[0m \u001b[0;36m1\u001b[0m\u001b[0;34m)\u001b[0m\u001b[0;34m\u001b[0m\u001b[0;34m\u001b[0m\u001b[0m\n\u001b[0m\u001b[1;32m      8\u001b[0m \u001b[0mscaled\u001b[0m \u001b[0;34m=\u001b[0m \u001b[0mscaler\u001b[0m\u001b[0;34m.\u001b[0m\u001b[0mfit_transform\u001b[0m\u001b[0;34m(\u001b[0m\u001b[0mX\u001b[0m\u001b[0;34m)\u001b[0m\u001b[0;34m\u001b[0m\u001b[0;34m\u001b[0m\u001b[0m\n\u001b[1;32m      9\u001b[0m \u001b[0mscaled_df\u001b[0m \u001b[0;34m=\u001b[0m \u001b[0mpd\u001b[0m\u001b[0;34m.\u001b[0m\u001b[0mDataFrame\u001b[0m\u001b[0;34m(\u001b[0m\u001b[0mscaled\u001b[0m\u001b[0;34m,\u001b[0m \u001b[0mcolumns\u001b[0m\u001b[0;34m=\u001b[0m\u001b[0mnames\u001b[0m\u001b[0;34m)\u001b[0m\u001b[0;34m\u001b[0m\u001b[0;34m\u001b[0m\u001b[0m\n",
            "\u001b[0;32m/usr/local/lib/python3.7/dist-packages/pandas/core/generic.py\u001b[0m in \u001b[0;36m__getattr__\u001b[0;34m(self, name)\u001b[0m\n\u001b[1;32m   5139\u001b[0m             \u001b[0;32mif\u001b[0m \u001b[0mself\u001b[0m\u001b[0;34m.\u001b[0m\u001b[0m_info_axis\u001b[0m\u001b[0;34m.\u001b[0m\u001b[0m_can_hold_identifiers_and_holds_name\u001b[0m\u001b[0;34m(\u001b[0m\u001b[0mname\u001b[0m\u001b[0;34m)\u001b[0m\u001b[0;34m:\u001b[0m\u001b[0;34m\u001b[0m\u001b[0;34m\u001b[0m\u001b[0m\n\u001b[1;32m   5140\u001b[0m                 \u001b[0;32mreturn\u001b[0m \u001b[0mself\u001b[0m\u001b[0;34m[\u001b[0m\u001b[0mname\u001b[0m\u001b[0;34m]\u001b[0m\u001b[0;34m\u001b[0m\u001b[0;34m\u001b[0m\u001b[0m\n\u001b[0;32m-> 5141\u001b[0;31m             \u001b[0;32mreturn\u001b[0m \u001b[0mobject\u001b[0m\u001b[0;34m.\u001b[0m\u001b[0m__getattribute__\u001b[0m\u001b[0;34m(\u001b[0m\u001b[0mself\u001b[0m\u001b[0;34m,\u001b[0m \u001b[0mname\u001b[0m\u001b[0;34m)\u001b[0m\u001b[0;34m\u001b[0m\u001b[0;34m\u001b[0m\u001b[0m\n\u001b[0m\u001b[1;32m   5142\u001b[0m \u001b[0;34m\u001b[0m\u001b[0m\n\u001b[1;32m   5143\u001b[0m     \u001b[0;32mdef\u001b[0m \u001b[0m__setattr__\u001b[0m\u001b[0;34m(\u001b[0m\u001b[0mself\u001b[0m\u001b[0;34m,\u001b[0m \u001b[0mname\u001b[0m\u001b[0;34m:\u001b[0m \u001b[0mstr\u001b[0m\u001b[0;34m,\u001b[0m \u001b[0mvalue\u001b[0m\u001b[0;34m)\u001b[0m \u001b[0;34m->\u001b[0m \u001b[0;32mNone\u001b[0m\u001b[0;34m:\u001b[0m\u001b[0;34m\u001b[0m\u001b[0;34m\u001b[0m\u001b[0m\n",
            "\u001b[0;31mAttributeError\u001b[0m: 'Series' object has no attribute 'reshape'"
          ]
        }
      ]
    },
    {
      "cell_type": "markdown",
      "metadata": {
        "id": "3p-6LHZa_gSj"
      },
      "source": [
        "# Descriptive Analytics \n"
      ]
    },
    {
      "cell_type": "code",
      "metadata": {
        "id": "sXiIndjDBqqT"
      },
      "source": [
        "x=df['height']\n",
        "sum_score = sum(x)\n",
        "\n",
        "\n"
      ],
      "execution_count": null,
      "outputs": []
    },
    {
      "cell_type": "code",
      "metadata": {
        "colab": {
          "base_uri": "https://localhost:8080/"
        },
        "id": "feK9fAGrCJfr",
        "outputId": "4f9239ec-d7f2-46f7-87fe-185e89af416f"
      },
      "source": [
        "xbar=sum(x)/len(x)\n",
        "xbar"
      ],
      "execution_count": null,
      "outputs": [
        {
          "output_type": "execute_result",
          "data": {
            "text/plain": [
              "1677.5148516129027"
            ]
          },
          "metadata": {
            "tags": []
          },
          "execution_count": 8
        }
      ]
    },
    {
      "cell_type": "code",
      "metadata": {
        "colab": {
          "base_uri": "https://localhost:8080/"
        },
        "id": "F-CIEJIGCejJ",
        "outputId": "0c0cb281-9a14-4847-adb5-3316ae524903"
      },
      "source": [
        "import statistics as st\n",
        "xbar=st.mean(x)\n",
        "xbar"
      ],
      "execution_count": null,
      "outputs": [
        {
          "output_type": "execute_result",
          "data": {
            "text/plain": [
              "1677.5148516129032"
            ]
          },
          "metadata": {
            "tags": []
          },
          "execution_count": 14
        }
      ]
    },
    {
      "cell_type": "code",
      "metadata": {
        "colab": {
          "base_uri": "https://localhost:8080/"
        },
        "id": "VQTtGBIyDEuK",
        "outputId": "4ade526e-3080-4946-b1cd-dca7a2f963ce"
      },
      "source": [
        "med=st.median(x)\n",
        "med"
      ],
      "execution_count": null,
      "outputs": [
        {
          "output_type": "execute_result",
          "data": {
            "text/plain": [
              "1670.996"
            ]
          },
          "metadata": {
            "tags": []
          },
          "execution_count": 17
        }
      ]
    },
    {
      "cell_type": "code",
      "metadata": {
        "colab": {
          "base_uri": "https://localhost:8080/",
          "height": 296
        },
        "id": "itbqNGduDZG7",
        "outputId": "ea8d2e38-65bf-4873-9199-2c78fe271e58"
      },
      "source": [
        "M=st.mode(x)\n",
        "M"
      ],
      "execution_count": null,
      "outputs": [
        {
          "output_type": "error",
          "ename": "StatisticsError",
          "evalue": "ignored",
          "traceback": [
            "\u001b[0;31m---------------------------------------------------------------------------\u001b[0m",
            "\u001b[0;31mStatisticsError\u001b[0m                           Traceback (most recent call last)",
            "\u001b[0;32m<ipython-input-18-01afed405ab5>\u001b[0m in \u001b[0;36m<module>\u001b[0;34m()\u001b[0m\n\u001b[0;32m----> 1\u001b[0;31m \u001b[0mM\u001b[0m\u001b[0;34m=\u001b[0m\u001b[0mst\u001b[0m\u001b[0;34m.\u001b[0m\u001b[0mmode\u001b[0m\u001b[0;34m(\u001b[0m\u001b[0mx\u001b[0m\u001b[0;34m)\u001b[0m\u001b[0;34m\u001b[0m\u001b[0;34m\u001b[0m\u001b[0m\n\u001b[0m\u001b[1;32m      2\u001b[0m \u001b[0mM\u001b[0m\u001b[0;34m\u001b[0m\u001b[0;34m\u001b[0m\u001b[0m\n",
            "\u001b[0;32m/usr/lib/python3.6/statistics.py\u001b[0m in \u001b[0;36mmode\u001b[0;34m(data)\u001b[0m\n\u001b[1;32m    505\u001b[0m     \u001b[0;32melif\u001b[0m \u001b[0mtable\u001b[0m\u001b[0;34m:\u001b[0m\u001b[0;34m\u001b[0m\u001b[0;34m\u001b[0m\u001b[0m\n\u001b[1;32m    506\u001b[0m         raise StatisticsError(\n\u001b[0;32m--> 507\u001b[0;31m                 \u001b[0;34m'no unique mode; found %d equally common values'\u001b[0m \u001b[0;34m%\u001b[0m \u001b[0mlen\u001b[0m\u001b[0;34m(\u001b[0m\u001b[0mtable\u001b[0m\u001b[0;34m)\u001b[0m\u001b[0;34m\u001b[0m\u001b[0;34m\u001b[0m\u001b[0m\n\u001b[0m\u001b[1;32m    508\u001b[0m                 )\n\u001b[1;32m    509\u001b[0m     \u001b[0;32melse\u001b[0m\u001b[0;34m:\u001b[0m\u001b[0;34m\u001b[0m\u001b[0;34m\u001b[0m\u001b[0m\n",
            "\u001b[0;31mStatisticsError\u001b[0m: no unique mode; found 155 equally common values"
          ]
        }
      ]
    },
    {
      "cell_type": "code",
      "metadata": {
        "id": "dUXAvMELDduC",
        "colab": {
          "base_uri": "https://localhost:8080/"
        },
        "outputId": "a02d7c80-0fa9-4ced-a6a0-333ce8a844bc"
      },
      "source": [
        "\n",
        "SD=st.stdev(x)\n",
        "SD"
      ],
      "execution_count": null,
      "outputs": [
        {
          "output_type": "execute_result",
          "data": {
            "text/plain": [
              "93.91326596101774"
            ]
          },
          "metadata": {
            "tags": []
          },
          "execution_count": 19
        }
      ]
    },
    {
      "cell_type": "code",
      "metadata": {
        "colab": {
          "base_uri": "https://localhost:8080/",
          "height": 284
        },
        "id": "gaE-TIToK3KC",
        "outputId": "995975b5-68bd-4ba2-f245-d81c4d775fef"
      },
      "source": [
        "import pandas as pd\n",
        "df.describe()"
      ],
      "execution_count": null,
      "outputs": [
        {
          "output_type": "execute_result",
          "data": {
            "text/html": [
              "<div>\n",
              "<style scoped>\n",
              "    .dataframe tbody tr th:only-of-type {\n",
              "        vertical-align: middle;\n",
              "    }\n",
              "\n",
              "    .dataframe tbody tr th {\n",
              "        vertical-align: top;\n",
              "    }\n",
              "\n",
              "    .dataframe thead th {\n",
              "        text-align: right;\n",
              "    }\n",
              "</style>\n",
              "<table border=\"1\" class=\"dataframe\">\n",
              "  <thead>\n",
              "    <tr style=\"text-align: right;\">\n",
              "      <th></th>\n",
              "      <th>idGen</th>\n",
              "      <th>gender</th>\n",
              "      <th>height</th>\n",
              "      <th>handLen</th>\n",
              "      <th>footLen</th>\n",
              "    </tr>\n",
              "  </thead>\n",
              "  <tbody>\n",
              "    <tr>\n",
              "      <th>count</th>\n",
              "      <td>155.000000</td>\n",
              "      <td>155.000000</td>\n",
              "      <td>155.000000</td>\n",
              "      <td>155.000000</td>\n",
              "      <td>155.00000</td>\n",
              "    </tr>\n",
              "    <tr>\n",
              "      <th>mean</th>\n",
              "      <td>39.290323</td>\n",
              "      <td>1.483871</td>\n",
              "      <td>1677.514852</td>\n",
              "      <td>199.489678</td>\n",
              "      <td>249.10355</td>\n",
              "    </tr>\n",
              "    <tr>\n",
              "      <th>std</th>\n",
              "      <td>22.512902</td>\n",
              "      <td>0.501360</td>\n",
              "      <td>93.913266</td>\n",
              "      <td>13.341823</td>\n",
              "      <td>18.54731</td>\n",
              "    </tr>\n",
              "    <tr>\n",
              "      <th>min</th>\n",
              "      <td>1.000000</td>\n",
              "      <td>1.000000</td>\n",
              "      <td>1478.364000</td>\n",
              "      <td>167.634800</td>\n",
              "      <td>205.04120</td>\n",
              "    </tr>\n",
              "    <tr>\n",
              "      <th>25%</th>\n",
              "      <td>20.000000</td>\n",
              "      <td>1.000000</td>\n",
              "      <td>1603.108000</td>\n",
              "      <td>189.516600</td>\n",
              "      <td>236.43255</td>\n",
              "    </tr>\n",
              "    <tr>\n",
              "      <th>50%</th>\n",
              "      <td>39.000000</td>\n",
              "      <td>1.000000</td>\n",
              "      <td>1670.996000</td>\n",
              "      <td>199.565100</td>\n",
              "      <td>250.27810</td>\n",
              "    </tr>\n",
              "    <tr>\n",
              "      <th>75%</th>\n",
              "      <td>58.500000</td>\n",
              "      <td>2.000000</td>\n",
              "      <td>1750.701500</td>\n",
              "      <td>209.265850</td>\n",
              "      <td>262.70260</td>\n",
              "    </tr>\n",
              "    <tr>\n",
              "      <th>max</th>\n",
              "      <td>80.000000</td>\n",
              "      <td>2.000000</td>\n",
              "      <td>1916.381000</td>\n",
              "      <td>228.851200</td>\n",
              "      <td>306.55980</td>\n",
              "    </tr>\n",
              "  </tbody>\n",
              "</table>\n",
              "</div>"
            ],
            "text/plain": [
              "            idGen      gender       height     handLen    footLen\n",
              "count  155.000000  155.000000   155.000000  155.000000  155.00000\n",
              "mean    39.290323    1.483871  1677.514852  199.489678  249.10355\n",
              "std     22.512902    0.501360    93.913266   13.341823   18.54731\n",
              "min      1.000000    1.000000  1478.364000  167.634800  205.04120\n",
              "25%     20.000000    1.000000  1603.108000  189.516600  236.43255\n",
              "50%     39.000000    1.000000  1670.996000  199.565100  250.27810\n",
              "75%     58.500000    2.000000  1750.701500  209.265850  262.70260\n",
              "max     80.000000    2.000000  1916.381000  228.851200  306.55980"
            ]
          },
          "metadata": {
            "tags": []
          },
          "execution_count": 23
        }
      ]
    },
    {
      "cell_type": "code",
      "metadata": {
        "colab": {
          "base_uri": "https://localhost:8080/",
          "height": 195
        },
        "id": "lfLaGzFULZk3",
        "outputId": "c4a97efc-1707-459b-9ed7-e1544ce637b8"
      },
      "source": [
        "df.agg({ \"height\": [\"min\", \"max\", \"median\", \"skew\"],\"handLen\": [\"min\", \"max\", \"median\", \"mean\"]})\n"
      ],
      "execution_count": null,
      "outputs": [
        {
          "output_type": "execute_result",
          "data": {
            "text/html": [
              "<div>\n",
              "<style scoped>\n",
              "    .dataframe tbody tr th:only-of-type {\n",
              "        vertical-align: middle;\n",
              "    }\n",
              "\n",
              "    .dataframe tbody tr th {\n",
              "        vertical-align: top;\n",
              "    }\n",
              "\n",
              "    .dataframe thead th {\n",
              "        text-align: right;\n",
              "    }\n",
              "</style>\n",
              "<table border=\"1\" class=\"dataframe\">\n",
              "  <thead>\n",
              "    <tr style=\"text-align: right;\">\n",
              "      <th></th>\n",
              "      <th>height</th>\n",
              "      <th>handLen</th>\n",
              "    </tr>\n",
              "  </thead>\n",
              "  <tbody>\n",
              "    <tr>\n",
              "      <th>max</th>\n",
              "      <td>1916.381000</td>\n",
              "      <td>228.851200</td>\n",
              "    </tr>\n",
              "    <tr>\n",
              "      <th>mean</th>\n",
              "      <td>NaN</td>\n",
              "      <td>199.489678</td>\n",
              "    </tr>\n",
              "    <tr>\n",
              "      <th>median</th>\n",
              "      <td>1670.996000</td>\n",
              "      <td>199.565100</td>\n",
              "    </tr>\n",
              "    <tr>\n",
              "      <th>min</th>\n",
              "      <td>1478.364000</td>\n",
              "      <td>167.634800</td>\n",
              "    </tr>\n",
              "    <tr>\n",
              "      <th>skew</th>\n",
              "      <td>0.172629</td>\n",
              "      <td>NaN</td>\n",
              "    </tr>\n",
              "  </tbody>\n",
              "</table>\n",
              "</div>"
            ],
            "text/plain": [
              "             height     handLen\n",
              "max     1916.381000  228.851200\n",
              "mean            NaN  199.489678\n",
              "median  1670.996000  199.565100\n",
              "min     1478.364000  167.634800\n",
              "skew       0.172629         NaN"
            ]
          },
          "metadata": {
            "tags": []
          },
          "execution_count": 26
        }
      ]
    },
    {
      "cell_type": "code",
      "metadata": {
        "id": "C4CeF2gDL6OC"
      },
      "source": [
        ""
      ],
      "execution_count": null,
      "outputs": []
    },
    {
      "cell_type": "markdown",
      "metadata": {
        "id": "_rggekrmM7ju"
      },
      "source": [
        "#Using the below link \n",
        "http://users.stat.ufl.edu/~winner/data/hybrid_reg.csv\n",
        "#a) compute central and variational measures for the attribute accelrate.\n",
        "#b) summarize the attributes accelrate, mpg using the main quartiles\n",
        "#c) What is the average msrp in terms of different level of carclass?  \n"
      ]
    },
    {
      "cell_type": "code",
      "metadata": {
        "id": "-_N0ZLrINM2J",
        "colab": {
          "base_uri": "https://localhost:8080/"
        },
        "outputId": "36a70bfe-a0c4-4955-91ca-9dade1a55817"
      },
      "source": [
        "url=\"http://users.stat.ufl.edu/~winner/data/hybrid_reg.csv\"\n",
        "df = pd.read_csv(url)\n",
        "df.head()\n",
        "df.info()"
      ],
      "execution_count": null,
      "outputs": [
        {
          "output_type": "stream",
          "text": [
            "<class 'pandas.core.frame.DataFrame'>\n",
            "RangeIndex: 153 entries, 0 to 152\n",
            "Data columns (total 9 columns):\n",
            " #   Column       Non-Null Count  Dtype  \n",
            "---  ------       --------------  -----  \n",
            " 0   carid        153 non-null    int64  \n",
            " 1   vehicle      153 non-null    object \n",
            " 2   year         153 non-null    int64  \n",
            " 3   msrp         153 non-null    float64\n",
            " 4   accelrate    153 non-null    float64\n",
            " 5   mpg          153 non-null    float64\n",
            " 6   mpgmpge      153 non-null    float64\n",
            " 7   carclass     153 non-null    object \n",
            " 8   carclass_id  153 non-null    int64  \n",
            "dtypes: float64(4), int64(3), object(2)\n",
            "memory usage: 10.9+ KB\n"
          ],
          "name": "stdout"
        }
      ]
    },
    {
      "cell_type": "code",
      "metadata": {
        "colab": {
          "base_uri": "https://localhost:8080/"
        },
        "id": "6lwazRiVPRwc",
        "outputId": "acfe7452-e18f-4444-acfc-0484df2a797f"
      },
      "source": [
        "df.columns[df.isnull().any()]"
      ],
      "execution_count": null,
      "outputs": [
        {
          "output_type": "execute_result",
          "data": {
            "text/plain": [
              "Index([], dtype='object')"
            ]
          },
          "metadata": {
            "tags": []
          },
          "execution_count": 26
        }
      ]
    },
    {
      "cell_type": "code",
      "metadata": {
        "id": "edK9E3Wvvtxk",
        "colab": {
          "base_uri": "https://localhost:8080/",
          "height": 294
        },
        "outputId": "cfb05ca7-e1a3-4087-b8f9-8f47f20af48b"
      },
      "source": [
        "df.describe()\n"
      ],
      "execution_count": null,
      "outputs": [
        {
          "output_type": "execute_result",
          "data": {
            "text/html": [
              "<div>\n",
              "<style scoped>\n",
              "    .dataframe tbody tr th:only-of-type {\n",
              "        vertical-align: middle;\n",
              "    }\n",
              "\n",
              "    .dataframe tbody tr th {\n",
              "        vertical-align: top;\n",
              "    }\n",
              "\n",
              "    .dataframe thead th {\n",
              "        text-align: right;\n",
              "    }\n",
              "</style>\n",
              "<table border=\"1\" class=\"dataframe\">\n",
              "  <thead>\n",
              "    <tr style=\"text-align: right;\">\n",
              "      <th></th>\n",
              "      <th>carid</th>\n",
              "      <th>year</th>\n",
              "      <th>msrp</th>\n",
              "      <th>accelrate</th>\n",
              "      <th>mpg</th>\n",
              "      <th>mpgmpge</th>\n",
              "      <th>carclass_id</th>\n",
              "    </tr>\n",
              "  </thead>\n",
              "  <tbody>\n",
              "    <tr>\n",
              "      <th>count</th>\n",
              "      <td>153.000000</td>\n",
              "      <td>153.000000</td>\n",
              "      <td>153.000000</td>\n",
              "      <td>153.000000</td>\n",
              "      <td>153.000000</td>\n",
              "      <td>153.000000</td>\n",
              "      <td>153.000000</td>\n",
              "    </tr>\n",
              "    <tr>\n",
              "      <th>mean</th>\n",
              "      <td>77.117647</td>\n",
              "      <td>2009.718954</td>\n",
              "      <td>39319.434706</td>\n",
              "      <td>11.958497</td>\n",
              "      <td>34.797451</td>\n",
              "      <td>38.453268</td>\n",
              "      <td>3.607843</td>\n",
              "    </tr>\n",
              "    <tr>\n",
              "      <th>std</th>\n",
              "      <td>44.492599</td>\n",
              "      <td>3.459270</td>\n",
              "      <td>21421.126089</td>\n",
              "      <td>2.940225</td>\n",
              "      <td>10.972522</td>\n",
              "      <td>18.363146</td>\n",
              "      <td>1.964271</td>\n",
              "    </tr>\n",
              "    <tr>\n",
              "      <th>min</th>\n",
              "      <td>1.000000</td>\n",
              "      <td>1997.000000</td>\n",
              "      <td>11849.430000</td>\n",
              "      <td>6.290000</td>\n",
              "      <td>17.000000</td>\n",
              "      <td>17.000000</td>\n",
              "      <td>1.000000</td>\n",
              "    </tr>\n",
              "    <tr>\n",
              "      <th>25%</th>\n",
              "      <td>39.000000</td>\n",
              "      <td>2008.000000</td>\n",
              "      <td>24995.000000</td>\n",
              "      <td>9.520000</td>\n",
              "      <td>26.000000</td>\n",
              "      <td>26.000000</td>\n",
              "      <td>2.000000</td>\n",
              "    </tr>\n",
              "    <tr>\n",
              "      <th>50%</th>\n",
              "      <td>77.000000</td>\n",
              "      <td>2011.000000</td>\n",
              "      <td>31950.000000</td>\n",
              "      <td>11.630000</td>\n",
              "      <td>33.000000</td>\n",
              "      <td>33.640000</td>\n",
              "      <td>3.000000</td>\n",
              "    </tr>\n",
              "    <tr>\n",
              "      <th>75%</th>\n",
              "      <td>115.000000</td>\n",
              "      <td>2013.000000</td>\n",
              "      <td>49650.000000</td>\n",
              "      <td>13.470000</td>\n",
              "      <td>41.260000</td>\n",
              "      <td>43.000000</td>\n",
              "      <td>6.000000</td>\n",
              "    </tr>\n",
              "    <tr>\n",
              "      <th>max</th>\n",
              "      <td>154.000000</td>\n",
              "      <td>2013.000000</td>\n",
              "      <td>118543.600000</td>\n",
              "      <td>20.410000</td>\n",
              "      <td>72.920000</td>\n",
              "      <td>100.000000</td>\n",
              "      <td>7.000000</td>\n",
              "    </tr>\n",
              "  </tbody>\n",
              "</table>\n",
              "</div>"
            ],
            "text/plain": [
              "            carid         year  ...     mpgmpge  carclass_id\n",
              "count  153.000000   153.000000  ...  153.000000   153.000000\n",
              "mean    77.117647  2009.718954  ...   38.453268     3.607843\n",
              "std     44.492599     3.459270  ...   18.363146     1.964271\n",
              "min      1.000000  1997.000000  ...   17.000000     1.000000\n",
              "25%     39.000000  2008.000000  ...   26.000000     2.000000\n",
              "50%     77.000000  2011.000000  ...   33.640000     3.000000\n",
              "75%    115.000000  2013.000000  ...   43.000000     6.000000\n",
              "max    154.000000  2013.000000  ...  100.000000     7.000000\n",
              "\n",
              "[8 rows x 7 columns]"
            ]
          },
          "metadata": {
            "tags": []
          },
          "execution_count": 27
        }
      ]
    },
    {
      "cell_type": "code",
      "metadata": {
        "id": "q0zyyIvHQCQ3",
        "colab": {
          "base_uri": "https://localhost:8080/",
          "height": 294
        },
        "outputId": "78709ff0-8572-413e-bfae-06a005247ccd"
      },
      "source": [
        "subset=df[['accelrate','mpg']]\n",
        "subset.describe()\n"
      ],
      "execution_count": null,
      "outputs": [
        {
          "output_type": "execute_result",
          "data": {
            "text/html": [
              "<div>\n",
              "<style scoped>\n",
              "    .dataframe tbody tr th:only-of-type {\n",
              "        vertical-align: middle;\n",
              "    }\n",
              "\n",
              "    .dataframe tbody tr th {\n",
              "        vertical-align: top;\n",
              "    }\n",
              "\n",
              "    .dataframe thead th {\n",
              "        text-align: right;\n",
              "    }\n",
              "</style>\n",
              "<table border=\"1\" class=\"dataframe\">\n",
              "  <thead>\n",
              "    <tr style=\"text-align: right;\">\n",
              "      <th></th>\n",
              "      <th>accelrate</th>\n",
              "      <th>mpg</th>\n",
              "    </tr>\n",
              "  </thead>\n",
              "  <tbody>\n",
              "    <tr>\n",
              "      <th>count</th>\n",
              "      <td>153.000000</td>\n",
              "      <td>153.000000</td>\n",
              "    </tr>\n",
              "    <tr>\n",
              "      <th>mean</th>\n",
              "      <td>11.958497</td>\n",
              "      <td>34.797451</td>\n",
              "    </tr>\n",
              "    <tr>\n",
              "      <th>std</th>\n",
              "      <td>2.940225</td>\n",
              "      <td>10.972522</td>\n",
              "    </tr>\n",
              "    <tr>\n",
              "      <th>min</th>\n",
              "      <td>6.290000</td>\n",
              "      <td>17.000000</td>\n",
              "    </tr>\n",
              "    <tr>\n",
              "      <th>25%</th>\n",
              "      <td>9.520000</td>\n",
              "      <td>26.000000</td>\n",
              "    </tr>\n",
              "    <tr>\n",
              "      <th>50%</th>\n",
              "      <td>11.630000</td>\n",
              "      <td>33.000000</td>\n",
              "    </tr>\n",
              "    <tr>\n",
              "      <th>75%</th>\n",
              "      <td>13.470000</td>\n",
              "      <td>41.260000</td>\n",
              "    </tr>\n",
              "    <tr>\n",
              "      <th>max</th>\n",
              "      <td>20.410000</td>\n",
              "      <td>72.920000</td>\n",
              "    </tr>\n",
              "  </tbody>\n",
              "</table>\n",
              "</div>"
            ],
            "text/plain": [
              "        accelrate         mpg\n",
              "count  153.000000  153.000000\n",
              "mean    11.958497   34.797451\n",
              "std      2.940225   10.972522\n",
              "min      6.290000   17.000000\n",
              "25%      9.520000   26.000000\n",
              "50%     11.630000   33.000000\n",
              "75%     13.470000   41.260000\n",
              "max     20.410000   72.920000"
            ]
          },
          "metadata": {
            "tags": []
          },
          "execution_count": 28
        }
      ]
    },
    {
      "cell_type": "code",
      "metadata": {
        "id": "qZuKGB2wQ0Ja",
        "colab": {
          "base_uri": "https://localhost:8080/",
          "height": 141
        },
        "outputId": "a7ec9e36-19b3-4df4-88f3-b3082323b369"
      },
      "source": [
        "subset.quantile([ .25, .5, .75])   # main quartiles "
      ],
      "execution_count": null,
      "outputs": [
        {
          "output_type": "execute_result",
          "data": {
            "text/html": [
              "<div>\n",
              "<style scoped>\n",
              "    .dataframe tbody tr th:only-of-type {\n",
              "        vertical-align: middle;\n",
              "    }\n",
              "\n",
              "    .dataframe tbody tr th {\n",
              "        vertical-align: top;\n",
              "    }\n",
              "\n",
              "    .dataframe thead th {\n",
              "        text-align: right;\n",
              "    }\n",
              "</style>\n",
              "<table border=\"1\" class=\"dataframe\">\n",
              "  <thead>\n",
              "    <tr style=\"text-align: right;\">\n",
              "      <th></th>\n",
              "      <th>accelrate</th>\n",
              "      <th>mpg</th>\n",
              "    </tr>\n",
              "  </thead>\n",
              "  <tbody>\n",
              "    <tr>\n",
              "      <th>0.25</th>\n",
              "      <td>9.52</td>\n",
              "      <td>26.00</td>\n",
              "    </tr>\n",
              "    <tr>\n",
              "      <th>0.50</th>\n",
              "      <td>11.63</td>\n",
              "      <td>33.00</td>\n",
              "    </tr>\n",
              "    <tr>\n",
              "      <th>0.75</th>\n",
              "      <td>13.47</td>\n",
              "      <td>41.26</td>\n",
              "    </tr>\n",
              "  </tbody>\n",
              "</table>\n",
              "</div>"
            ],
            "text/plain": [
              "      accelrate    mpg\n",
              "0.25       9.52  26.00\n",
              "0.50      11.63  33.00\n",
              "0.75      13.47  41.26"
            ]
          },
          "metadata": {
            "tags": []
          },
          "execution_count": 29
        }
      ]
    },
    {
      "cell_type": "code",
      "metadata": {
        "colab": {
          "base_uri": "https://localhost:8080/"
        },
        "id": "_2aao4e8N_wI",
        "outputId": "57fe907a-a9d8-45c1-b441-3cda5ab59eae"
      },
      "source": [
        "\n",
        "df.groupby('carclass')['msrp'].mean()"
      ],
      "execution_count": null,
      "outputs": [
        {
          "output_type": "execute_result",
          "data": {
            "text/plain": [
              "carclass\n",
              "C      27907.912500\n",
              "L      85250.748750\n",
              "M      37335.000714\n",
              "MV     29615.975000\n",
              "PT     36422.448333\n",
              "SUV    47624.234359\n",
              "TS     19463.818750\n",
              "Name: msrp, dtype: float64"
            ]
          },
          "metadata": {
            "tags": []
          },
          "execution_count": 30
        }
      ]
    },
    {
      "cell_type": "markdown",
      "metadata": {
        "id": "qdewQhHEZ5_O"
      },
      "source": [
        "##EXp: detect outliers of 'mpg' using boxplot technique and filter them out. "
      ]
    },
    {
      "cell_type": "code",
      "metadata": {
        "id": "ye4PglWvm-Vq",
        "colab": {
          "base_uri": "https://localhost:8080/"
        },
        "outputId": "70901217-9587-493a-d3b4-d1e644b99bb0"
      },
      "source": [
        "X=dataset['mpg']\n",
        "Q1=X.quantile(0.25) ; Q3=X.quantile(0.75)\n",
        "IQR=Q3-Q1\n",
        "LW=Q1-1.5*IQR; UW=Q3+1.5*IQR\n",
        "\n",
        "outliers = [] \n",
        "for i in X: \n",
        "    if i > UW or i<LW: \n",
        "        outliers.append(i) \n",
        "print('outliers in dataset is', outliers)\n",
        "\n",
        "\n"
      ],
      "execution_count": null,
      "outputs": [
        {
          "output_type": "stream",
          "text": [
            "outliers in dataset is [33.9]\n"
          ],
          "name": "stdout"
        }
      ]
    },
    {
      "cell_type": "markdown",
      "metadata": {
        "id": "JvZ2aF2HrEyo"
      },
      "source": [
        ""
      ]
    },
    {
      "cell_type": "markdown",
      "metadata": {
        "id": "s98SOA2zmH2e"
      },
      "source": [
        "#For data visualization, please refer to the following link\n",
        "\n",
        "https://pandas.pydata.org/pandas-docs/stable/user_guide/visualization.html\n",
        "\n"
      ]
    },
    {
      "cell_type": "code",
      "metadata": {
        "colab": {
          "base_uri": "https://localhost:8080/",
          "height": 195
        },
        "id": "Cu94tLiht1WE",
        "outputId": "c34be40b-eba5-4ec6-e049-c825c0ec88a1"
      },
      "source": [
        "dataset.head()"
      ],
      "execution_count": null,
      "outputs": [
        {
          "output_type": "execute_result",
          "data": {
            "text/html": [
              "<div>\n",
              "<style scoped>\n",
              "    .dataframe tbody tr th:only-of-type {\n",
              "        vertical-align: middle;\n",
              "    }\n",
              "\n",
              "    .dataframe tbody tr th {\n",
              "        vertical-align: top;\n",
              "    }\n",
              "\n",
              "    .dataframe thead th {\n",
              "        text-align: right;\n",
              "    }\n",
              "</style>\n",
              "<table border=\"1\" class=\"dataframe\">\n",
              "  <thead>\n",
              "    <tr style=\"text-align: right;\">\n",
              "      <th></th>\n",
              "      <th>model</th>\n",
              "      <th>mpg</th>\n",
              "      <th>cyl</th>\n",
              "      <th>disp</th>\n",
              "      <th>hp</th>\n",
              "      <th>drat</th>\n",
              "      <th>wt</th>\n",
              "      <th>qsec</th>\n",
              "      <th>vs</th>\n",
              "      <th>am</th>\n",
              "      <th>gear</th>\n",
              "      <th>carb</th>\n",
              "    </tr>\n",
              "  </thead>\n",
              "  <tbody>\n",
              "    <tr>\n",
              "      <th>0</th>\n",
              "      <td>Mazda RX4</td>\n",
              "      <td>21.0</td>\n",
              "      <td>6</td>\n",
              "      <td>160.0</td>\n",
              "      <td>110</td>\n",
              "      <td>3.90</td>\n",
              "      <td>2.620</td>\n",
              "      <td>16.46</td>\n",
              "      <td>0</td>\n",
              "      <td>1</td>\n",
              "      <td>4</td>\n",
              "      <td>4</td>\n",
              "    </tr>\n",
              "    <tr>\n",
              "      <th>1</th>\n",
              "      <td>Mazda RX4 Wag</td>\n",
              "      <td>21.0</td>\n",
              "      <td>6</td>\n",
              "      <td>160.0</td>\n",
              "      <td>110</td>\n",
              "      <td>3.90</td>\n",
              "      <td>2.875</td>\n",
              "      <td>17.02</td>\n",
              "      <td>0</td>\n",
              "      <td>1</td>\n",
              "      <td>4</td>\n",
              "      <td>4</td>\n",
              "    </tr>\n",
              "    <tr>\n",
              "      <th>2</th>\n",
              "      <td>Datsun 710</td>\n",
              "      <td>22.8</td>\n",
              "      <td>4</td>\n",
              "      <td>108.0</td>\n",
              "      <td>93</td>\n",
              "      <td>3.85</td>\n",
              "      <td>2.320</td>\n",
              "      <td>18.61</td>\n",
              "      <td>1</td>\n",
              "      <td>1</td>\n",
              "      <td>4</td>\n",
              "      <td>1</td>\n",
              "    </tr>\n",
              "    <tr>\n",
              "      <th>3</th>\n",
              "      <td>Hornet 4 Drive</td>\n",
              "      <td>21.4</td>\n",
              "      <td>6</td>\n",
              "      <td>258.0</td>\n",
              "      <td>110</td>\n",
              "      <td>3.08</td>\n",
              "      <td>3.215</td>\n",
              "      <td>19.44</td>\n",
              "      <td>1</td>\n",
              "      <td>0</td>\n",
              "      <td>3</td>\n",
              "      <td>1</td>\n",
              "    </tr>\n",
              "    <tr>\n",
              "      <th>4</th>\n",
              "      <td>Hornet Sportabout</td>\n",
              "      <td>18.7</td>\n",
              "      <td>8</td>\n",
              "      <td>360.0</td>\n",
              "      <td>175</td>\n",
              "      <td>3.15</td>\n",
              "      <td>3.440</td>\n",
              "      <td>17.02</td>\n",
              "      <td>0</td>\n",
              "      <td>0</td>\n",
              "      <td>3</td>\n",
              "      <td>2</td>\n",
              "    </tr>\n",
              "  </tbody>\n",
              "</table>\n",
              "</div>"
            ],
            "text/plain": [
              "               model   mpg  cyl   disp   hp  ...   qsec  vs  am  gear  carb\n",
              "0          Mazda RX4  21.0    6  160.0  110  ...  16.46   0   1     4     4\n",
              "1      Mazda RX4 Wag  21.0    6  160.0  110  ...  17.02   0   1     4     4\n",
              "2         Datsun 710  22.8    4  108.0   93  ...  18.61   1   1     4     1\n",
              "3     Hornet 4 Drive  21.4    6  258.0  110  ...  19.44   1   0     3     1\n",
              "4  Hornet Sportabout  18.7    8  360.0  175  ...  17.02   0   0     3     2\n",
              "\n",
              "[5 rows x 12 columns]"
            ]
          },
          "metadata": {
            "tags": []
          },
          "execution_count": 28
        }
      ]
    },
    {
      "cell_type": "code",
      "metadata": {
        "colab": {
          "base_uri": "https://localhost:8080/",
          "height": 302
        },
        "id": "Po4iYA4XtwTX",
        "outputId": "ebb5cdad-e9e9-40fa-85e5-aed6d3cec0ef"
      },
      "source": [
        "import matplotlib.pyplot as plt\n",
        "X=dataset[['cyl','gear']]\n",
        "plt.figure();\n",
        "X.plot(kind=\"bar\") \n",
        "  "
      ],
      "execution_count": null,
      "outputs": [
        {
          "output_type": "execute_result",
          "data": {
            "text/plain": [
              "<matplotlib.axes._subplots.AxesSubplot at 0x7f81a3a0de48>"
            ]
          },
          "metadata": {
            "tags": []
          },
          "execution_count": 35
        },
        {
          "output_type": "display_data",
          "data": {
            "text/plain": [
              "<Figure size 432x288 with 0 Axes>"
            ]
          },
          "metadata": {
            "tags": []
          }
        },
        {
          "output_type": "display_data",
          "data": {
            "image/png": "[encoded data removed]",
            "text/plain": [
              "<Figure size 432x288 with 1 Axes>"
            ]
          },
          "metadata": {
            "tags": [],
            "needs_background": "light"
          }
        }
      ]
    },
    {
      "cell_type": "markdown",
      "metadata": {
        "id": "spWl_VmTp5Yx"
      },
      "source": [
        "#Example 1: use Seed_Data, consider 'LKG' as the attribute of interest, \n",
        "\n",
        "\n",
        "1.   compute the appropriate numerical measures for this variable and printout \n",
        "2.   apply one-sgima interval estimation to filter out outliers of 'LKG'\n",
        "3.   apply box-plot technique to filter out outliers of 'LKG'\n",
        "4.   normalize the attribute 'LKG'\n"
      ]
    },
    {
      "cell_type": "code",
      "metadata": {
        "id": "pAMJo1r5uzmK"
      },
      "source": [
        "import pandas as pd\n",
        "df = pd.read_csv('Seed_Data.csv')\n",
        "df.head(7)\n",
        "X=df['LKG']"
      ],
      "execution_count": null,
      "outputs": []
    },
    {
      "cell_type": "markdown",
      "metadata": {
        "id": "k3rdTjIquzDP"
      },
      "source": [
        "1- central measures: mean and median\n",
        "2- variational measures: range, variance and standard deviation "
      ]
    },
    {
      "cell_type": "code",
      "metadata": {
        "colab": {
          "base_uri": "https://localhost:8080/"
        },
        "id": "QNCP4uItvn6E",
        "outputId": "472f3c24-c265-465a-a0c6-38ffcfcce8fe"
      },
      "source": [
        "import statistics as st\n",
        "xbar=st.mean(X) # mean\n",
        "med=st.median(X) # median\n",
        "R=max(X)-min(X) # range\n",
        "V=st.variance(X) # variance\n",
        "s=st.stdev(X) # standard deviation\n",
        "\n",
        "print(xbar,med,R,V,s)\n"
      ],
      "execution_count": null,
      "outputs": [
        {
          "output_type": "stream",
          "text": [
            "5.408071428571429 5.223000000000001 2.0309999999999997 0.24155308099794937 0.49148049910240527\n"
          ],
          "name": "stdout"
        }
      ]
    },
    {
      "cell_type": "code",
      "metadata": {
        "colab": {
          "base_uri": "https://localhost:8080/"
        },
        "id": "8Oh52Yvpw0ao",
        "outputId": "c78a2a86-9562-4725-e7a5-897cb17cf731"
      },
      "source": [
        "from math import sqrt\n",
        "sqrt(V)"
      ],
      "execution_count": null,
      "outputs": [
        {
          "output_type": "execute_result",
          "data": {
            "text/plain": [
              "0.49148049910240527"
            ]
          },
          "metadata": {
            "tags": []
          },
          "execution_count": 9
        }
      ]
    },
    {
      "cell_type": "code",
      "metadata": {
        "colab": {
          "base_uri": "https://localhost:8080/"
        },
        "id": "s3N9QJXzxPgy",
        "outputId": "5a383fed-ab64-41d6-bdec-0d0cb78a5d9b"
      },
      "source": [
        "# solution 2: apply one-sgima interval estimation to filter out outliers of 'LKG'\n",
        "L=xbar-s  # 2 sigma-interval estimation\n",
        "U=xbar+s\n",
        "\n",
        "outliers = [] \n",
        "for i in X: \n",
        "    if i > U or i<L: \n",
        "        outliers.append(i) \n",
        "print('outliers in dataset is', outliers)"
      ],
      "execution_count": null,
      "outputs": [
        {
          "output_type": "stream",
          "text": [
            "outliers in dataset is [4.825, 4.805, 4.738, 4.872, 4.825, 4.781000000000001, 4.781000000000001, 4.649, 4.914, 4.825, 4.869, 4.783, 4.519, 4.607, 4.703, 4.605, 4.782, 4.607, 6.06, 6.079, 5.922000000000001, 6.4510000000000005, 6.362, 6.187, 6.273, 6.185, 6.197, 6.109, 6.497999999999999, 6.231, 6.321000000000001, 6.449, 6.053, 6.053, 6.4479999999999995, 5.9670000000000005, 6.2379999999999995, 6.452999999999999, 6.273, 6.097, 6.0089999999999995, 6.229, 6.148, 6.2, 5.928999999999999, 6.55, 5.965, 5.9239999999999995, 6.053, 6.316, 6.162999999999999, 6.185, 5.966, 6.32, 6.188, 6.011, 5.905, 5.992000000000001, 6.102, 5.919, 6.185, 5.962000000000001, 5.949, 5.971, 5.922000000000001, 4.825, 4.794, 4.914, 4.83, 4.745, 4.828, 4.87]\n"
          ],
          "name": "stdout"
        }
      ]
    },
    {
      "cell_type": "code",
      "metadata": {
        "colab": {
          "base_uri": "https://localhost:8080/"
        },
        "id": "IV-xNyVMxpe2",
        "outputId": "79ce830c-9576-40b9-ac9c-a0ca50f7d5bb"
      },
      "source": [
        "#part 3: apply box-plot technique to filter out outliers of 'LKG'\n",
        "Q1=X.quantile(0.25) ; Q3=X.quantile(0.75)\n",
        "IQR=Q3-Q1\n",
        "LW=Q1-1.5*IQR; UW=Q3+1.5*IQR\n",
        "\n",
        "outliers = [] \n",
        "for i in X: \n",
        "    if i > UW or i<LW: \n",
        "        outliers.append(i) \n",
        "print('outliers in dataset is', outliers)\n"
      ],
      "execution_count": null,
      "outputs": [
        {
          "output_type": "stream",
          "text": [
            "outliers in dataset is []\n"
          ],
          "name": "stdout"
        }
      ]
    },
    {
      "cell_type": "code",
      "metadata": {
        "colab": {
          "base_uri": "https://localhost:8080/"
        },
        "id": "sRFa27YiyF4I",
        "outputId": "efb84c93-30e5-457f-a061-5bac66a52396"
      },
      "source": [
        "# solution part 4:  normalize the attribute 'LKG' z=(X-xbar)/s\n",
        "\n",
        "z=(X-xbar)/s\n",
        "z"
      ],
      "execution_count": null,
      "outputs": [
        {
          "output_type": "execute_result",
          "data": {
            "text/plain": [
              "0     -0.382663\n",
              "1     -0.919816\n",
              "2     -1.186357\n",
              "3     -1.227051\n",
              "4     -0.474223\n",
              "         ...   \n",
              "205   -1.094797\n",
              "206   -0.824186\n",
              "207   -0.716349\n",
              "208   -0.740765\n",
              "209   -0.702106\n",
              "Name: LKG, Length: 210, dtype: float64"
            ]
          },
          "metadata": {
            "tags": []
          },
          "execution_count": 12
        }
      ]
    },
    {
      "cell_type": "markdown",
      "metadata": {
        "id": "5H-MoVwJy3Qx"
      },
      "source": [
        "#Exmample: redo the pervious example for 'ga'"
      ]
    },
    {
      "cell_type": "code",
      "metadata": {
        "colab": {
          "base_uri": "https://localhost:8080/",
          "height": 195
        },
        "id": "6okGhQIJy3n1",
        "outputId": "b7483bb7-59a2-49c4-c7a2-99f69a34c6f1"
      },
      "source": [
        "url='http://users.stat.ufl.edu/~winner/data/rockstrength.csv'\n",
        "df = pd.read_csv(url)\n",
        "df.head()\n"
      ],
      "execution_count": null,
      "outputs": [
        {
          "output_type": "execute_result",
          "data": {
            "text/html": [
              "<div>\n",
              "<style scoped>\n",
              "    .dataframe tbody tr th:only-of-type {\n",
              "        vertical-align: middle;\n",
              "    }\n",
              "\n",
              "    .dataframe tbody tr th {\n",
              "        vertical-align: top;\n",
              "    }\n",
              "\n",
              "    .dataframe thead th {\n",
              "        text-align: right;\n",
              "    }\n",
              "</style>\n",
              "<table border=\"1\" class=\"dataframe\">\n",
              "  <thead>\n",
              "    <tr style=\"text-align: right;\">\n",
              "      <th></th>\n",
              "      <th>sample_id</th>\n",
              "      <th>UCS</th>\n",
              "      <th>quartz</th>\n",
              "      <th>plag</th>\n",
              "      <th>kfds</th>\n",
              "      <th>hb</th>\n",
              "      <th>gs</th>\n",
              "      <th>ga</th>\n",
              "      <th>sf</th>\n",
              "      <th>ar</th>\n",
              "    </tr>\n",
              "  </thead>\n",
              "  <tbody>\n",
              "    <tr>\n",
              "      <th>0</th>\n",
              "      <td>1</td>\n",
              "      <td>100.6</td>\n",
              "      <td>40.3</td>\n",
              "      <td>9.98</td>\n",
              "      <td>17.01</td>\n",
              "      <td>21.57</td>\n",
              "      <td>0.031</td>\n",
              "      <td>754.4</td>\n",
              "      <td>0.594</td>\n",
              "      <td>0.630</td>\n",
              "    </tr>\n",
              "    <tr>\n",
              "      <th>1</th>\n",
              "      <td>2</td>\n",
              "      <td>112.0</td>\n",
              "      <td>47.1</td>\n",
              "      <td>8.50</td>\n",
              "      <td>15.00</td>\n",
              "      <td>23.00</td>\n",
              "      <td>0.025</td>\n",
              "      <td>490.6</td>\n",
              "      <td>0.612</td>\n",
              "      <td>0.612</td>\n",
              "    </tr>\n",
              "    <tr>\n",
              "      <th>2</th>\n",
              "      <td>3</td>\n",
              "      <td>117.5</td>\n",
              "      <td>45.4</td>\n",
              "      <td>9.10</td>\n",
              "      <td>16.20</td>\n",
              "      <td>24.00</td>\n",
              "      <td>0.022</td>\n",
              "      <td>379.9</td>\n",
              "      <td>0.628</td>\n",
              "      <td>0.628</td>\n",
              "    </tr>\n",
              "    <tr>\n",
              "      <th>3</th>\n",
              "      <td>4</td>\n",
              "      <td>100.9</td>\n",
              "      <td>41.3</td>\n",
              "      <td>7.72</td>\n",
              "      <td>11.02</td>\n",
              "      <td>18.86</td>\n",
              "      <td>0.044</td>\n",
              "      <td>1519.8</td>\n",
              "      <td>0.571</td>\n",
              "      <td>0.667</td>\n",
              "    </tr>\n",
              "    <tr>\n",
              "      <th>4</th>\n",
              "      <td>5</td>\n",
              "      <td>94.5</td>\n",
              "      <td>33.8</td>\n",
              "      <td>4.10</td>\n",
              "      <td>14.00</td>\n",
              "      <td>16.00</td>\n",
              "      <td>0.043</td>\n",
              "      <td>1451.5</td>\n",
              "      <td>0.575</td>\n",
              "      <td>0.662</td>\n",
              "    </tr>\n",
              "  </tbody>\n",
              "</table>\n",
              "</div>"
            ],
            "text/plain": [
              "   sample_id    UCS  quartz  plag   kfds     hb     gs      ga     sf     ar\n",
              "0          1  100.6    40.3  9.98  17.01  21.57  0.031   754.4  0.594  0.630\n",
              "1          2  112.0    47.1  8.50  15.00  23.00  0.025   490.6  0.612  0.612\n",
              "2          3  117.5    45.4  9.10  16.20  24.00  0.022   379.9  0.628  0.628\n",
              "3          4  100.9    41.3  7.72  11.02  18.86  0.044  1519.8  0.571  0.667\n",
              "4          5   94.5    33.8  4.10  14.00  16.00  0.043  1451.5  0.575  0.662"
            ]
          },
          "metadata": {
            "tags": []
          },
          "execution_count": 13
        }
      ]
    }
  ]
}