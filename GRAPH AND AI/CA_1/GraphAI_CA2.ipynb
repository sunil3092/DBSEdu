{
  "cells": [
    {
      "cell_type": "code",
      "execution_count": 1,
      "metadata": {
        "id": "-c_JvTeNNwIo"
      },
      "outputs": [],
      "source": [
        "import pandas as pd\n",
        "from py2neo import Graph\n",
        "import matplotlib.pyplot as plt\n",
        "plt.style.use('seaborn-whitegrid')\n",
        "import time"
      ]
    },
    {
      "cell_type": "code",
      "execution_count": 70,
      "metadata": {
        "colab": {
          "base_uri": "https://localhost:8080/"
        },
        "id": "G-AJdB6X2wtH",
        "outputId": "fa23be5f-4b01-4586-a776-9f9becca0507"
      },
      "outputs": [
        {
          "data": {
            "text/plain": [
              "38"
            ]
          },
          "execution_count": 70,
          "metadata": {},
          "output_type": "execute_result"
        }
      ],
      "source": [
        "googleDrive = False\n",
        "if googleDrive:\n",
        "    #Adding via Google Drive...make sure you give the right directory.\n",
        "    from google.colab import drive\n",
        "    drive.mount('/content/drive')\n",
        "    df = pd.read_csv(\"/content/drive/MyDrive/IMDB_Top250Engmovies2_OMDB_Detailed.csv\")\n",
        "else:\n",
        "    #Adding the dataset Manually into the runtime\n",
        "    df = pd.read_csv('./DataSet/IMDB_Top250Engmovies2_OMDB_Detailed.csv')\n",
        "df.head()\n",
        "len(df.columns)\n",
        "\n"
      ]
    },
    {
      "cell_type": "code",
      "execution_count": 66,
      "metadata": {
        "colab": {
          "base_uri": "https://localhost:8080/",
          "height": 367
        },
        "id": "eliM4pSR2eer",
        "outputId": "078eaf49-6ea2-4d6c-ffbb-48d5188ba157"
      },
      "outputs": [
        {
          "ename": "IndexError",
          "evalue": "index 10 is out of bounds for axis 0 with size 8",
          "output_type": "error",
          "traceback": [
            "\u001b[1;31m---------------------------------------------------------------------------\u001b[0m",
            "\u001b[1;31mIndexError\u001b[0m                                Traceback (most recent call last)",
            "\u001b[1;32m~\\AppData\\Local\\Temp/ipykernel_3100/2915300787.py\u001b[0m in \u001b[0;36m<module>\u001b[1;34m\u001b[0m\n\u001b[0;32m      1\u001b[0m \u001b[0mcols_to_drop\u001b[0m \u001b[1;33m=\u001b[0m \u001b[1;33m[\u001b[0m\u001b[1;36m3\u001b[0m\u001b[1;33m,\u001b[0m\u001b[1;36m4\u001b[0m\u001b[1;33m,\u001b[0m\u001b[1;36m5\u001b[0m\u001b[1;33m,\u001b[0m\u001b[1;36m10\u001b[0m\u001b[1;33m,\u001b[0m\u001b[1;36m11\u001b[0m\u001b[1;33m,\u001b[0m\u001b[1;36m12\u001b[0m\u001b[1;33m,\u001b[0m\u001b[1;36m13\u001b[0m\u001b[1;33m,\u001b[0m\u001b[1;36m14\u001b[0m\u001b[1;33m,\u001b[0m\u001b[1;36m15\u001b[0m\u001b[1;33m,\u001b[0m\u001b[1;36m16\u001b[0m\u001b[1;33m,\u001b[0m\u001b[1;36m17\u001b[0m\u001b[1;33m,\u001b[0m\u001b[1;36m19\u001b[0m\u001b[1;33m,\u001b[0m\u001b[1;36m20\u001b[0m\u001b[1;33m,\u001b[0m\u001b[1;36m21\u001b[0m\u001b[1;33m,\u001b[0m\u001b[1;36m22\u001b[0m\u001b[1;33m,\u001b[0m\u001b[1;36m23\u001b[0m\u001b[1;33m,\u001b[0m\u001b[1;36m24\u001b[0m\u001b[1;33m,\u001b[0m\u001b[1;36m25\u001b[0m\u001b[1;33m,\u001b[0m\u001b[1;36m26\u001b[0m\u001b[1;33m,\u001b[0m\u001b[1;36m27\u001b[0m\u001b[1;33m,\u001b[0m\u001b[1;36m28\u001b[0m\u001b[1;33m,\u001b[0m\u001b[1;36m29\u001b[0m\u001b[1;33m,\u001b[0m\u001b[1;36m30\u001b[0m\u001b[1;33m,\u001b[0m\u001b[1;36m31\u001b[0m\u001b[1;33m,\u001b[0m\u001b[1;36m32\u001b[0m\u001b[1;33m,\u001b[0m\u001b[1;36m33\u001b[0m\u001b[1;33m,\u001b[0m\u001b[1;36m34\u001b[0m\u001b[1;33m,\u001b[0m\u001b[1;36m35\u001b[0m\u001b[1;33m,\u001b[0m\u001b[1;36m36\u001b[0m\u001b[1;33m,\u001b[0m\u001b[1;36m37\u001b[0m\u001b[1;33m]\u001b[0m\u001b[1;33m\u001b[0m\u001b[1;33m\u001b[0m\u001b[0m\n\u001b[1;32m----> 2\u001b[1;33m \u001b[0mdf\u001b[0m\u001b[1;33m.\u001b[0m\u001b[0mdrop\u001b[0m\u001b[1;33m(\u001b[0m\u001b[0mdf\u001b[0m\u001b[1;33m.\u001b[0m\u001b[0mcolumns\u001b[0m\u001b[1;33m[\u001b[0m\u001b[0mcols_to_drop\u001b[0m\u001b[1;33m]\u001b[0m\u001b[1;33m,\u001b[0m\u001b[0maxis\u001b[0m\u001b[1;33m=\u001b[0m\u001b[1;36m1\u001b[0m\u001b[1;33m,\u001b[0m \u001b[0minplace\u001b[0m \u001b[1;33m=\u001b[0m \u001b[1;32mTrue\u001b[0m\u001b[1;33m)\u001b[0m\u001b[1;33m\u001b[0m\u001b[1;33m\u001b[0m\u001b[0m\n\u001b[0m\u001b[0;32m      3\u001b[0m \u001b[0mdf\u001b[0m\u001b[1;33m.\u001b[0m\u001b[0mhead\u001b[0m\u001b[1;33m(\u001b[0m\u001b[1;33m)\u001b[0m\u001b[1;33m\u001b[0m\u001b[1;33m\u001b[0m\u001b[0m\n\u001b[0;32m      4\u001b[0m \u001b[0mdf\u001b[0m\u001b[1;33m.\u001b[0m\u001b[0mcolumns\u001b[0m\u001b[1;33m(\u001b[0m\u001b[1;33m)\u001b[0m\u001b[1;33m\u001b[0m\u001b[1;33m\u001b[0m\u001b[0m\n",
            "\u001b[1;32m~\\miniconda3\\lib\\site-packages\\pandas\\core\\indexes\\base.py\u001b[0m in \u001b[0;36m__getitem__\u001b[1;34m(self, key)\u001b[0m\n\u001b[0;32m   5053\u001b[0m             \u001b[0mkey\u001b[0m \u001b[1;33m=\u001b[0m \u001b[0mnp\u001b[0m\u001b[1;33m.\u001b[0m\u001b[0masarray\u001b[0m\u001b[1;33m(\u001b[0m\u001b[0mkey\u001b[0m\u001b[1;33m,\u001b[0m \u001b[0mdtype\u001b[0m\u001b[1;33m=\u001b[0m\u001b[0mbool\u001b[0m\u001b[1;33m)\u001b[0m\u001b[1;33m\u001b[0m\u001b[1;33m\u001b[0m\u001b[0m\n\u001b[0;32m   5054\u001b[0m \u001b[1;33m\u001b[0m\u001b[0m\n\u001b[1;32m-> 5055\u001b[1;33m         \u001b[0mresult\u001b[0m \u001b[1;33m=\u001b[0m \u001b[0mgetitem\u001b[0m\u001b[1;33m(\u001b[0m\u001b[0mkey\u001b[0m\u001b[1;33m)\u001b[0m\u001b[1;33m\u001b[0m\u001b[1;33m\u001b[0m\u001b[0m\n\u001b[0m\u001b[0;32m   5056\u001b[0m         \u001b[1;31m# Because we ruled out integer above, we always get an arraylike here\u001b[0m\u001b[1;33m\u001b[0m\u001b[1;33m\u001b[0m\u001b[0m\n\u001b[0;32m   5057\u001b[0m         \u001b[1;32mif\u001b[0m \u001b[0mresult\u001b[0m\u001b[1;33m.\u001b[0m\u001b[0mndim\u001b[0m \u001b[1;33m>\u001b[0m \u001b[1;36m1\u001b[0m\u001b[1;33m:\u001b[0m\u001b[1;33m\u001b[0m\u001b[1;33m\u001b[0m\u001b[0m\n",
            "\u001b[1;31mIndexError\u001b[0m: index 10 is out of bounds for axis 0 with size 8"
          ]
        }
      ],
      "source": [
        "cols_to_drop = [3,4,5,10,11,12,13,14,15,16,17,19,20,21,22,23,24,25,26,27,28,29,30,31,32,33,34,35,36,37]\n",
        "df.drop(df.columns[cols_to_drop],axis=1, inplace = True)\n",
        "df.head()\n"
      ]
    },
    {
      "cell_type": "code",
      "execution_count": 69,
      "metadata": {},
      "outputs": [
        {
          "data": {
            "text/plain": [
              "['Index', 'Title', 'Year', 'Genre', 'Director', 'Writer', 'Actors', 'Rating']"
            ]
          },
          "execution_count": 69,
          "metadata": {},
          "output_type": "execute_result"
        }
      ],
      "source": [
        "df.columns.to_list()"
      ]
    },
    {
      "cell_type": "code",
      "execution_count": 6,
      "metadata": {
        "colab": {
          "base_uri": "https://localhost:8080/",
          "height": 333
        },
        "id": "aJmINuTxqkS-",
        "outputId": "5f4ae244-a159-414f-f886-8bc4607c846f"
      },
      "outputs": [
        {
          "data": {
            "text/html": [
              "<div>\n",
              "<style scoped>\n",
              "    .dataframe tbody tr th:only-of-type {\n",
              "        vertical-align: middle;\n",
              "    }\n",
              "\n",
              "    .dataframe tbody tr th {\n",
              "        vertical-align: top;\n",
              "    }\n",
              "\n",
              "    .dataframe thead th {\n",
              "        text-align: right;\n",
              "    }\n",
              "</style>\n",
              "<table border=\"1\" class=\"dataframe\">\n",
              "  <thead>\n",
              "    <tr style=\"text-align: right;\">\n",
              "      <th></th>\n",
              "      <th>Index</th>\n",
              "      <th>Title</th>\n",
              "      <th>Year</th>\n",
              "      <th>Genre</th>\n",
              "      <th>Director</th>\n",
              "      <th>Writer</th>\n",
              "      <th>Actors</th>\n",
              "      <th>Rating</th>\n",
              "    </tr>\n",
              "  </thead>\n",
              "  <tbody>\n",
              "    <tr>\n",
              "      <th>0</th>\n",
              "      <td>1</td>\n",
              "      <td>The Shawshank Redemption</td>\n",
              "      <td>1994</td>\n",
              "      <td>Crime, Drama</td>\n",
              "      <td>Frank Darabont</td>\n",
              "      <td>Stephen King (short story \"Rita Hayworth and S...</td>\n",
              "      <td>Tim Robbins, Morgan Freeman, Bob Gunton, Willi...</td>\n",
              "      <td>9.3</td>\n",
              "    </tr>\n",
              "    <tr>\n",
              "      <th>1</th>\n",
              "      <td>2</td>\n",
              "      <td>The Godfather</td>\n",
              "      <td>1972</td>\n",
              "      <td>Crime, Drama</td>\n",
              "      <td>Francis Ford Coppola</td>\n",
              "      <td>Mario Puzo (screenplay), Francis Ford Coppola ...</td>\n",
              "      <td>Marlon Brando, Al Pacino, James Caan, Richard ...</td>\n",
              "      <td>9.2</td>\n",
              "    </tr>\n",
              "    <tr>\n",
              "      <th>2</th>\n",
              "      <td>3</td>\n",
              "      <td>The Godfather: Part II</td>\n",
              "      <td>1974</td>\n",
              "      <td>Crime, Drama</td>\n",
              "      <td>Francis Ford Coppola</td>\n",
              "      <td>Francis Ford Coppola (screenplay), Mario Puzo ...</td>\n",
              "      <td>Al Pacino, Robert Duvall, Diane Keaton, Robert...</td>\n",
              "      <td>9.0</td>\n",
              "    </tr>\n",
              "    <tr>\n",
              "      <th>3</th>\n",
              "      <td>4</td>\n",
              "      <td>The Dark Knight</td>\n",
              "      <td>2008</td>\n",
              "      <td>Action, Crime, Drama</td>\n",
              "      <td>Christopher Nolan</td>\n",
              "      <td>Jonathan Nolan (screenplay), Christopher Nolan...</td>\n",
              "      <td>Christian Bale, Heath Ledger, Aaron Eckhart, M...</td>\n",
              "      <td>9.0</td>\n",
              "    </tr>\n",
              "    <tr>\n",
              "      <th>4</th>\n",
              "      <td>5</td>\n",
              "      <td>12 Angry Men</td>\n",
              "      <td>1957</td>\n",
              "      <td>Crime, Drama</td>\n",
              "      <td>Sidney Lumet</td>\n",
              "      <td>Reginald Rose (story), Reginald Rose (screenplay)</td>\n",
              "      <td>Martin Balsam, John Fiedler, Lee J. Cobb, E.G....</td>\n",
              "      <td>8.9</td>\n",
              "    </tr>\n",
              "  </tbody>\n",
              "</table>\n",
              "</div>"
            ],
            "text/plain": [
              "   Index                     Title  Year                 Genre  \\\n",
              "0      1  The Shawshank Redemption  1994          Crime, Drama   \n",
              "1      2             The Godfather  1972          Crime, Drama   \n",
              "2      3    The Godfather: Part II  1974          Crime, Drama   \n",
              "3      4           The Dark Knight  2008  Action, Crime, Drama   \n",
              "4      5              12 Angry Men  1957          Crime, Drama   \n",
              "\n",
              "               Director                                             Writer  \\\n",
              "0        Frank Darabont  Stephen King (short story \"Rita Hayworth and S...   \n",
              "1  Francis Ford Coppola  Mario Puzo (screenplay), Francis Ford Coppola ...   \n",
              "2  Francis Ford Coppola  Francis Ford Coppola (screenplay), Mario Puzo ...   \n",
              "3     Christopher Nolan  Jonathan Nolan (screenplay), Christopher Nolan...   \n",
              "4          Sidney Lumet  Reginald Rose (story), Reginald Rose (screenplay)   \n",
              "\n",
              "                                              Actors  Rating  \n",
              "0  Tim Robbins, Morgan Freeman, Bob Gunton, Willi...     9.3  \n",
              "1  Marlon Brando, Al Pacino, James Caan, Richard ...     9.2  \n",
              "2  Al Pacino, Robert Duvall, Diane Keaton, Robert...     9.0  \n",
              "3  Christian Bale, Heath Ledger, Aaron Eckhart, M...     9.0  \n",
              "4  Martin Balsam, John Fiedler, Lee J. Cobb, E.G....     8.9  "
            ]
          },
          "execution_count": 6,
          "metadata": {},
          "output_type": "execute_result"
        }
      ],
      "source": [
        "df.rename(columns={'Unnamed: 0':'Index','imdbRating':'Rating'},inplace = True)\n",
        "df.head()"
      ]
    },
    {
      "cell_type": "markdown",
      "metadata": {
        "id": "P3vVTTnoa1zi"
      },
      "source": [
        "##Connection details as per System"
      ]
    },
    {
      "cell_type": "code",
      "execution_count": 44,
      "metadata": {
        "id": "8abJhvv2LHU5"
      },
      "outputs": [],
      "source": [
        "#Please add your connection details here.\n",
        "isSandbox = False\n",
        "if isSandbox:\n",
        "    ip=\"3.92.182.226\"\n",
        "    port=\"7474\"\n",
        "    pwd=\"particles-arcs-automobile\"\n",
        "    graph = Graph(\"bolt://3.92.182.226:7687\", auth=(\"neo4j\", pwd))\n",
        "else:\n",
        "    pwd=\"root\"\n",
        "    graph = Graph(\"bolt://localhost:7687\", auth=(\"neo4j\", pwd ))\n"
      ]
    },
    {
      "cell_type": "markdown",
      "metadata": {
        "id": "jvmOUET9Sbv-"
      },
      "source": [
        "## Loding Data"
      ]
    },
    {
      "cell_type": "code",
      "execution_count": 9,
      "metadata": {
        "id": "ftSCTWhtS9bk"
      },
      "outputs": [],
      "source": [
        "LOAD_DATA = True\n",
        "\n",
        "def run_request(request,LOAD_DATA):\n",
        "    if (LOAD_DATA):\n",
        "        start_time = time.time()\n",
        "        print(graph.run(request)) \n",
        "        exec_time = time.time() - start_time\n",
        "        print(f'-- {exec_time} seconds --')"
      ]
    },
    {
      "cell_type": "markdown",
      "metadata": {
        "id": "w3WRiUphR5sB"
      },
      "source": [
        "## Deleting Old Data"
      ]
    },
    {
      "cell_type": "code",
      "execution_count": null,
      "metadata": {
        "colab": {
          "base_uri": "https://localhost:8080/"
        },
        "id": "hHNCjuzATytB",
        "outputId": "8aaf04cd-6bf0-4215-b663-503f8d7815ef"
      },
      "outputs": [
        {
          "name": "stdout",
          "output_type": "stream",
          "text": [
            "(No data)\n",
            "-- 0.5876979827880859 seconds --\n"
          ]
        }
      ],
      "source": [
        "request_delete =\"\"\"\n",
        "MATCH (n) DETACH DELETE n;\n",
        "\"\"\"\n",
        "run_request(request_delete,LOAD_DATA)"
      ]
    },
    {
      "cell_type": "markdown",
      "metadata": {
        "id": "LO7uSJ3VR9bZ"
      },
      "source": [
        "## Creating Movies Nodes"
      ]
    },
    {
      "cell_type": "code",
      "execution_count": 10,
      "metadata": {
        "colab": {
          "base_uri": "https://localhost:8080/"
        },
        "id": "9riuHmcMT5fC",
        "outputId": "0e00edf4-9262-4af3-d143-e8ce295608e2"
      },
      "outputs": [
        {
          "name": "stdout",
          "output_type": "stream",
          "text": [
            "0/250 done ... -- 0.6789305210113525 seconds --\n",
            "50/250 done ... -- 1.2568213939666748 seconds --\n",
            "100/250 done ... -- 1.7631525993347168 seconds --\n",
            "150/250 done ... -- 2.229919672012329 seconds --\n",
            "200/250 done ... -- 2.7316160202026367 seconds --\n",
            " ... End ... -- 3.1800355911254883 seconds --\n"
          ]
        }
      ],
      "source": [
        "# Creating a reqest String \n",
        "request =\"\"\"\n",
        "CREATE (m:Movie {id:$index,name: $Movie_Name})\n",
        "SET \n",
        "m.directors = $director,\n",
        "m.Year = $year, \n",
        "m.rating = $rating,\n",
        "m.cast=$cast,\n",
        "m.writers = $writer,\n",
        "m.genre = $genre\n",
        "\"\"\"\n",
        "start_time = time.time()\n",
        "count=df.shape[0]\n",
        "if (LOAD_DATA):\n",
        "  for index, row in df.iterrows():\n",
        "    graph.run(request,\n",
        "              index=row['Index'],\n",
        "              Movie_Name=row['Title'],\n",
        "              director=None if pd.isnull(row['Director']) else row['Director'],\n",
        "              year= None if pd.isnull(row['Year']) else row['Year'],\n",
        "              rating=None if pd.isnull(row['Rating']) else row['Rating'],          \n",
        "              cast= None if pd.isnull(row['Actors']) else row['Actors'],\n",
        "              writer=None if pd.isnull(row['Writer']) else row['Writer'],\n",
        "              genre = None if pd.isnull(row['Genre']) else row['Genre']\n",
        "              )\n",
        "    if (index%50==0):\n",
        "        exec_time = time.time()- start_time\n",
        "        print(f'{index}/{df.shape[0]} done ... -- {exec_time} seconds --')\n",
        "    \n",
        "  exec_time = time.time()- start_time\n",
        "  print(f' ... End ... -- {exec_time} seconds --') "
      ]
    },
    {
      "cell_type": "markdown",
      "metadata": {
        "id": "9lVwIi5YSSUG"
      },
      "source": [
        "## Creating Persons->Actor"
      ]
    },
    {
      "cell_type": "code",
      "execution_count": 11,
      "metadata": {
        "colab": {
          "base_uri": "https://localhost:8080/"
        },
        "id": "m5FMZ_mJYpoh",
        "outputId": "654d0825-696a-4d8c-a31b-2a5885cf9382"
      },
      "outputs": [
        {
          "name": "stdout",
          "output_type": "stream",
          "text": [
            "(No data)\n",
            "-- 0.8255393505096436 seconds --\n"
          ]
        }
      ],
      "source": [
        "request =\"\"\"\n",
        "MATCH (m:Movie)\n",
        "WHERE m.cast IS NOT NULL\n",
        "WITH m\n",
        "UNWIND split(m.cast, ',') AS actor\n",
        "MERGE (p:Person {name: trim(actor)})\n",
        "MERGE (p)-[r:ACTED_IN]->(m);\n",
        "\"\"\"    \n",
        "run_request(request,LOAD_DATA)"
      ]
    },
    {
      "cell_type": "markdown",
      "metadata": {
        "id": "AwDiGJEESgm8"
      },
      "source": [
        "## Creating Person->Director"
      ]
    },
    {
      "cell_type": "code",
      "execution_count": 12,
      "metadata": {
        "colab": {
          "base_uri": "https://localhost:8080/"
        },
        "id": "dSCmPdUJY7zq",
        "outputId": "a3ddc6da-01ce-4c67-a4cc-d9d4721296de"
      },
      "outputs": [
        {
          "name": "stdout",
          "output_type": "stream",
          "text": [
            "(No data)\n",
            "-- 0.4446096420288086 seconds --\n"
          ]
        }
      ],
      "source": [
        "request =\"\"\" \n",
        "MATCH (m:Movie)\n",
        "WHERE m.directors IS NOT NULL\n",
        "WITH m\n",
        "MERGE (d:Person {name: m.directors})\n",
        "MERGE (d)-[r:DIRECTED]->(m);\n",
        "\"\"\"\n",
        "run_request(request,LOAD_DATA) "
      ]
    },
    {
      "cell_type": "markdown",
      "metadata": {
        "id": "Z5CpxZkWXd99"
      },
      "source": [
        "## Creating Movie->Genre"
      ]
    },
    {
      "cell_type": "code",
      "execution_count": 13,
      "metadata": {
        "colab": {
          "base_uri": "https://localhost:8080/"
        },
        "id": "VKoDbRaZVn-8",
        "outputId": "46c3bccf-890f-458c-9bd9-3ebcc302d3fa"
      },
      "outputs": [
        {
          "name": "stdout",
          "output_type": "stream",
          "text": [
            "(No data)\n",
            "-- 0.24243402481079102 seconds --\n"
          ]
        }
      ],
      "source": [
        "request =\"\"\"    \n",
        "MATCH (m:Movie)\n",
        "WHERE m.genre IS NOT NULL\n",
        "WITH m\n",
        "UNWIND split(m.genre, ',') AS category\n",
        "MERGE (c:Genre {name: trim(category)})\n",
        "MERGE (m)-[r:Genre]->(c);\n",
        "\"\"\"    \n",
        "run_request(request,LOAD_DATA)"
      ]
    },
    {
      "cell_type": "markdown",
      "metadata": {
        "id": "9vacs8HTTJP-"
      },
      "source": [
        "## Creating Actor->Movie<-Actor Relationship"
      ]
    },
    {
      "cell_type": "code",
      "execution_count": 14,
      "metadata": {
        "colab": {
          "base_uri": "https://localhost:8080/"
        },
        "id": "aYanwxGsi4WB",
        "outputId": "518fed24-e41a-45f2-c006-339b09f9f5be"
      },
      "outputs": [
        {
          "name": "stdout",
          "output_type": "stream",
          "text": [
            "(No data)\n",
            "-- 1.6558709144592285 seconds --\n"
          ]
        }
      ],
      "source": [
        "request = \"\"\"\n",
        "MATCH (p:Person)-[rel:ACTED_IN]->(m:Movie)<-[:ACTED_IN]-(p2:Person)\n",
        "MERGE (p)-[r:WORK_WITH]-(p2);\n",
        "\"\"\"\n",
        "run_request(request,LOAD_DATA) "
      ]
    },
    {
      "cell_type": "markdown",
      "metadata": {
        "id": "AyhVhOCfllnC"
      },
      "source": [
        "## Creating Year Relations"
      ]
    },
    {
      "cell_type": "code",
      "execution_count": 15,
      "metadata": {
        "colab": {
          "base_uri": "https://localhost:8080/"
        },
        "id": "ecnJN7w4l3jC",
        "outputId": "b3ed88d0-d0b4-45e1-ae90-8d92a7559db3"
      },
      "outputs": [
        {
          "name": "stdout",
          "output_type": "stream",
          "text": [
            "(No data)\n",
            "-- 0.19932270050048828 seconds --\n"
          ]
        }
      ],
      "source": [
        "request=\"\"\"\n",
        "CREATE INDEX ON :Year(value);\n",
        "\"\"\"\n",
        "run_request(request,LOAD_DATA)"
      ]
    },
    {
      "cell_type": "code",
      "execution_count": 16,
      "metadata": {
        "colab": {
          "base_uri": "https://localhost:8080/"
        },
        "id": "iIOKyR-Rl7hw",
        "outputId": "21b13211-9d69-41b0-ba6e-72aca83c2fb9"
      },
      "outputs": [
        {
          "name": "stdout",
          "output_type": "stream",
          "text": [
            "(No data)\n",
            "-- 0.13647985458374023 seconds --\n"
          ]
        }
      ],
      "source": [
        "request=\"\"\"\n",
        "WITH range(1997, 2019) AS years, range(1,12) AS months\n",
        "FOREACH(year IN years |\n",
        "  CREATE (y:Year {value: year}));\n",
        "\"\"\"\n",
        "run_request(request,LOAD_DATA)"
      ]
    },
    {
      "cell_type": "code",
      "execution_count": 17,
      "metadata": {
        "colab": {
          "base_uri": "https://localhost:8080/"
        },
        "id": "sfp4vykhmAVm",
        "outputId": "64c6a1a5-27ca-4b94-d636-7ae63d45458a"
      },
      "outputs": [
        {
          "name": "stdout",
          "output_type": "stream",
          "text": [
            "(No data)\n",
            "-- 0.28383564949035645 seconds --\n"
          ]
        }
      ],
      "source": [
        "request=\"\"\"\n",
        "MATCH (year:Year)\n",
        "WITH year\n",
        "ORDER BY year.value\n",
        "WITH collect(year) AS years\n",
        "FOREACH(i in RANGE(0, size(years)-2) |\n",
        "    FOREACH(year1 in [years[i]] |\n",
        "        FOREACH(year2 in [years[i+1]] |\n",
        "            MERGE (year1)-[:NEXT]->(year2))));\n",
        "\"\"\"\n",
        "run_request(request,LOAD_DATA)"
      ]
    },
    {
      "cell_type": "code",
      "execution_count": 18,
      "metadata": {
        "colab": {
          "base_uri": "https://localhost:8080/"
        },
        "id": "ex9re8IRmCQN",
        "outputId": "0a44589c-2736-4859-e8b5-12b2bde074ee"
      },
      "outputs": [
        {
          "name": "stdout",
          "output_type": "stream",
          "text": [
            " m                                                                                                                                                                                                                                                                                                                                                         | year                       \n",
            "-----------------------------------------------------------------------------------------------------------------------------------------------------------------------------------------------------------------------------------------------------------------------------------------------------------------------------------------------------------|----------------------------\n",
            " (_3:Movie {Year: 2008, cast: 'Christian Bale, Heath Ledger, Aaron Eckhart, Michael Caine', directors: 'Christopher Nolan', genre: 'Action, Crime, Drama', id: 4, name: 'The Dark Knight', rating: 9.0, writers: 'Jonathan Nolan (screenplay), Christopher Nolan (screenplay), Christopher Nolan (story), David S. Goyer (story), Bob Kane (characters)'}) | (_1199:Year {value: 2008}) \n",
            " (_6:Movie {Year: 2003, cast: 'Noel Appleby, Ali Astin, Sean Astin, David Aston', directors: 'Peter Jackson', genre: 'Adventure, Drama, Fantasy', id: 7, name: 'The Lord of the Rings: The Return of the King', rating: 8.9, writers: 'J.R.R. Tolkien (novel), Fran Walsh (screenplay), Philippa Boyens (screenplay), Peter Jackson (screenplay)'})        | (_1194:Year {value: 2003}) \n",
            " (_8:Movie {Year: 1999, cast: 'Edward Norton, Brad Pitt, Meat Loaf, Zach Grenier', directors: 'David Fincher', genre: 'Drama', id: 9, name: 'Fight Club', rating: 8.8, writers: 'Chuck Palahniuk (novel), Jim Uhls (screenplay)'})                                                                                                                         | (_1190:Year {value: 1999}) \n",
            "\n",
            "-- 0.18631863594055176 seconds --\n"
          ]
        }
      ],
      "source": [
        "request=\"\"\"\n",
        "MATCH (m:Movie)\n",
        "WITH m, m.Year AS y\n",
        "MATCH (year:Year{value:y})\n",
        "MERGE (m)-[:CREATED_ON]->(year)\n",
        "RETURN m,year;\n",
        "\"\"\"\n",
        "run_request(request,LOAD_DATA)"
      ]
    },
    {
      "cell_type": "markdown",
      "metadata": {
        "id": "THzCsSIKufao"
      },
      "source": [
        "## Useful"
      ]
    },
    {
      "cell_type": "code",
      "execution_count": 19,
      "metadata": {
        "colab": {
          "base_uri": "https://localhost:8080/",
          "height": 585
        },
        "id": "pgs_Ca_knSe2",
        "outputId": "4e934600-189b-4af6-c172-487c2a65e241"
      },
      "outputs": [
        {
          "data": {
            "image/png": "[encoded data removed]",
            "text/plain": [
              "<Figure size 720x576 with 1 Axes>"
            ]
          },
          "metadata": {},
          "output_type": "display_data"
        }
      ],
      "source": [
        "result = {\"label\": [], \"count\": []}\n",
        "for label in graph.run(\"CALL db.labels()\").to_series():\n",
        "    query = f\"MATCH (:`{label}`) RETURN count(*) as count\"\n",
        "    count = graph.run(query).to_data_frame().iloc[0]['count']\n",
        "    result[\"label\"].append(label)\n",
        "    result[\"count\"].append(count)\n",
        "nodes_df = pd.DataFrame(data=result)\n",
        "nodes_df.sort_values(\"count\")\n",
        "\n",
        "nodes_df.plot(kind='bar', x='label', y='count', legend=None, title=\"Node Cardinalities\",figsize=(10,8))\n",
        "plt.yscale(\"log\")\n",
        "plt.xticks(rotation=45)\n",
        "plt.tight_layout()\n",
        "plt.show()"
      ]
    },
    {
      "cell_type": "code",
      "execution_count": null,
      "metadata": {
        "colab": {
          "base_uri": "https://localhost:8080/",
          "height": 585
        },
        "id": "KV670wrRqcJM",
        "outputId": "5ca30f9b-dd2a-44cc-d26a-6ba096385790"
      },
      "outputs": [
        {
          "data": {
            "image/png": "[encoded data removed]",
            "text/plain": [
              "<Figure size 720x576 with 1 Axes>"
            ]
          },
          "metadata": {
            "needs_background": "light"
          },
          "output_type": "display_data"
        }
      ],
      "source": [
        "# Relations Ship Cardinalities\n",
        "result = {\"relType\": [], \"count\": []}\n",
        "for relationship_type in graph.run(\"CALL db.relationshipTypes()\").to_series():\n",
        "    query = f\"MATCH ()-[:`{relationship_type}`]->() RETURN count(*) as count\"\n",
        "    count = graph.run(query).to_data_frame().iloc[0]['count']\n",
        "    result[\"relType\"].append(relationship_type)\n",
        "    result[\"count\"].append(count)\n",
        "rels_df = pd.DataFrame(data=result)\n",
        "rels_df.sort_values(\"count\")\n",
        "\n",
        "rels_df.plot(kind='bar', x='relType', y='count', legend=None, title=\"Relationship Cardinalities\",figsize=(10,8))\n",
        "plt.xticks(rotation=45)\n",
        "plt.tight_layout()\n",
        "plt.show()"
      ]
    },
    {
      "cell_type": "code",
      "execution_count": 20,
      "metadata": {
        "colab": {
          "base_uri": "https://localhost:8080/",
          "height": 479
        },
        "id": "0oV17VMCqqSF",
        "outputId": "ac9ddfaa-0f6c-4bc0-f562-862cbf06388a"
      },
      "outputs": [
        {
          "data": {
            "image/png": "[encoded data removed]",
            "text/plain": [
              "<Figure size 720x576 with 1 Axes>"
            ]
          },
          "metadata": {},
          "output_type": "display_data"
        }
      ],
      "source": [
        "request=\"\"\"\n",
        "MATCH (c:Genre)<-[rel:Genre]-(m:Movie)\n",
        "WITH c.name as Genre,count(*) as total\n",
        "RETURN  Genre,total\n",
        "ORDER BY total DESC\n",
        "\"\"\"\n",
        "result = graph.run(request).to_data_frame()\n",
        "result.plot.barh(x='Genre', y='total',figsize=(10,8))\n",
        "plt.show()"
      ]
    },
    {
      "cell_type": "code",
      "execution_count": null,
      "metadata": {
        "colab": {
          "base_uri": "https://localhost:8080/",
          "height": 204
        },
        "id": "0aBLXSE6vBWh",
        "outputId": "0e210730-36a6-47c9-baeb-1807a0df5887"
      },
      "outputs": [
        {
          "data": {
            "text/html": [
              "\n",
              "  <div id=\"df-f4690ad1-c91a-4c49-ab2c-f5828517310f\">\n",
              "    <div class=\"colab-df-container\">\n",
              "      <div>\n",
              "<style scoped>\n",
              "    .dataframe tbody tr th:only-of-type {\n",
              "        vertical-align: middle;\n",
              "    }\n",
              "\n",
              "    .dataframe tbody tr th {\n",
              "        vertical-align: top;\n",
              "    }\n",
              "\n",
              "    .dataframe thead th {\n",
              "        text-align: right;\n",
              "    }\n",
              "</style>\n",
              "<table border=\"1\" class=\"dataframe\">\n",
              "  <thead>\n",
              "    <tr style=\"text-align: right;\">\n",
              "      <th></th>\n",
              "      <th>Actor</th>\n",
              "      <th>Movies_Acted_In</th>\n",
              "      <th>Total_Movies</th>\n",
              "    </tr>\n",
              "  </thead>\n",
              "  <tbody>\n",
              "    <tr>\n",
              "      <th>0</th>\n",
              "      <td>Leonardo DiCaprio</td>\n",
              "      <td>[Inception, The Departed, Django Unchained, Th...</td>\n",
              "      <td>8</td>\n",
              "    </tr>\n",
              "    <tr>\n",
              "      <th>1</th>\n",
              "      <td>James Stewart</td>\n",
              "      <td>[It's a Wonderful Life, Rear Window, Vertigo, ...</td>\n",
              "      <td>7</td>\n",
              "    </tr>\n",
              "    <tr>\n",
              "      <th>2</th>\n",
              "      <td>Robert De Niro</td>\n",
              "      <td>[The Godfather: Part II, Goodfellas, Once Upon...</td>\n",
              "      <td>7</td>\n",
              "    </tr>\n",
              "    <tr>\n",
              "      <th>3</th>\n",
              "      <td>Harrison Ford</td>\n",
              "      <td>[Star Wars: Episode V - The Empire Strikes Bac...</td>\n",
              "      <td>7</td>\n",
              "    </tr>\n",
              "    <tr>\n",
              "      <th>4</th>\n",
              "      <td>Tom Hanks</td>\n",
              "      <td>[Forrest Gump, Saving Private Ryan, The Green ...</td>\n",
              "      <td>6</td>\n",
              "    </tr>\n",
              "  </tbody>\n",
              "</table>\n",
              "</div>\n",
              "      <button class=\"colab-df-convert\" onclick=\"convertToInteractive('df-f4690ad1-c91a-4c49-ab2c-f5828517310f')\"\n",
              "              title=\"Convert this dataframe to an interactive table.\"\n",
              "              style=\"display:none;\">\n",
              "        \n",
              "  <svg xmlns=\"http://www.w3.org/2000/svg\" height=\"24px\"viewBox=\"0 0 24 24\"\n",
              "       width=\"24px\">\n",
              "    <path d=\"M0 0h24v24H0V0z\" fill=\"none\"/>\n",
              "    <path d=\"M18.56 5.44l.94 2.06.94-2.06 2.06-.94-2.06-.94-.94-2.06-.94 2.06-2.06.94zm-11 1L8.5 8.5l.94-2.06 2.06-.94-2.06-.94L8.5 2.5l-.94 2.06-2.06.94zm10 10l.94 2.06.94-2.06 2.06-.94-2.06-.94-.94-2.06-.94 2.06-2.06.94z\"/><path d=\"M17.41 7.96l-1.37-1.37c-.4-.4-.92-.59-1.43-.59-.52 0-1.04.2-1.43.59L10.3 9.45l-7.72 7.72c-.78.78-.78 2.05 0 2.83L4 21.41c.39.39.9.59 1.41.59.51 0 1.02-.2 1.41-.59l7.78-7.78 2.81-2.81c.8-.78.8-2.07 0-2.86zM5.41 20L4 18.59l7.72-7.72 1.47 1.35L5.41 20z\"/>\n",
              "  </svg>\n",
              "      </button>\n",
              "      \n",
              "  <style>\n",
              "    .colab-df-container {\n",
              "      display:flex;\n",
              "      flex-wrap:wrap;\n",
              "      gap: 12px;\n",
              "    }\n",
              "\n",
              "    .colab-df-convert {\n",
              "      background-color: #E8F0FE;\n",
              "      border: none;\n",
              "      border-radius: 50%;\n",
              "      cursor: pointer;\n",
              "      display: none;\n",
              "      fill: #1967D2;\n",
              "      height: 32px;\n",
              "      padding: 0 0 0 0;\n",
              "      width: 32px;\n",
              "    }\n",
              "\n",
              "    .colab-df-convert:hover {\n",
              "      background-color: #E2EBFA;\n",
              "      box-shadow: 0px 1px 2px rgba(60, 64, 67, 0.3), 0px 1px 3px 1px rgba(60, 64, 67, 0.15);\n",
              "      fill: #174EA6;\n",
              "    }\n",
              "\n",
              "    [theme=dark] .colab-df-convert {\n",
              "      background-color: #3B4455;\n",
              "      fill: #D2E3FC;\n",
              "    }\n",
              "\n",
              "    [theme=dark] .colab-df-convert:hover {\n",
              "      background-color: #434B5C;\n",
              "      box-shadow: 0px 1px 3px 1px rgba(0, 0, 0, 0.15);\n",
              "      filter: drop-shadow(0px 1px 2px rgba(0, 0, 0, 0.3));\n",
              "      fill: #FFFFFF;\n",
              "    }\n",
              "  </style>\n",
              "\n",
              "      <script>\n",
              "        const buttonEl =\n",
              "          document.querySelector('#df-f4690ad1-c91a-4c49-ab2c-f5828517310f button.colab-df-convert');\n",
              "        buttonEl.style.display =\n",
              "          google.colab.kernel.accessAllowed ? 'block' : 'none';\n",
              "\n",
              "        async function convertToInteractive(key) {\n",
              "          const element = document.querySelector('#df-f4690ad1-c91a-4c49-ab2c-f5828517310f');\n",
              "          const dataTable =\n",
              "            await google.colab.kernel.invokeFunction('convertToInteractive',\n",
              "                                                     [key], {});\n",
              "          if (!dataTable) return;\n",
              "\n",
              "          const docLinkHtml = 'Like what you see? Visit the ' +\n",
              "            '<a target=\"_blank\" href=https://colab.research.google.com/notebooks/data_table.ipynb>data table notebook</a>'\n",
              "            + ' to learn more about interactive tables.';\n",
              "          element.innerHTML = '';\n",
              "          dataTable['output_type'] = 'display_data';\n",
              "          await google.colab.output.renderOutput(dataTable, element);\n",
              "          const docLink = document.createElement('div');\n",
              "          docLink.innerHTML = docLinkHtml;\n",
              "          element.appendChild(docLink);\n",
              "        }\n",
              "      </script>\n",
              "    </div>\n",
              "  </div>\n",
              "  "
            ],
            "text/plain": [
              "               Actor                                    Movies_Acted_In  \\\n",
              "0  Leonardo DiCaprio  [Inception, The Departed, Django Unchained, Th...   \n",
              "1      James Stewart  [It's a Wonderful Life, Rear Window, Vertigo, ...   \n",
              "2     Robert De Niro  [The Godfather: Part II, Goodfellas, Once Upon...   \n",
              "3      Harrison Ford  [Star Wars: Episode V - The Empire Strikes Bac...   \n",
              "4          Tom Hanks  [Forrest Gump, Saving Private Ryan, The Green ...   \n",
              "\n",
              "   Total_Movies  \n",
              "0             8  \n",
              "1             7  \n",
              "2             7  \n",
              "3             7  \n",
              "4             6  "
            ]
          },
          "execution_count": 28,
          "metadata": {},
          "output_type": "execute_result"
        }
      ],
      "source": [
        "request_top_5_actor=\"\"\"\n",
        "MATCH (p:Person)-[rel:ACTED_IN]->(m:Movie)\n",
        "WITH p,collect(m.name) as movies,count(*) as total\n",
        "RETURN  p.name as Actor, movies As Movies_Acted_In,total As Total_Movies\n",
        "ORDER BY total DESC\n",
        "LIMIT 5\n",
        "\"\"\"\n",
        "graph.run(request_top_5_actor).to_data_frame().head()"
      ]
    },
    {
      "cell_type": "code",
      "execution_count": 21,
      "metadata": {
        "colab": {
          "base_uri": "https://localhost:8080/"
        },
        "id": "0b3YdtLqvH88",
        "outputId": "543204aa-59b6-4d32-c9c2-95afaa0755bf"
      },
      "outputs": [
        {
          "name": "stdout",
          "output_type": "stream",
          "text": [
            "I'm Leonardo DiCaprio\n",
            "I want to meet Brad Pitt\n",
            "(Leonardo DiCaprio)-[:ACTED_IN {}]->(Django Unchained)<-[:ACTED_IN {}]-(Christoph Waltz)-[:ACTED_IN {}]->(Inglourious Basterds)<-[:ACTED_IN {}]-(Brad Pitt)\n",
            "\n",
            "\n",
            "I'm Charles Chaplin\n",
            "I want to meet Virginia Cherrill\n",
            "(Charles Chaplin)-[:DIRECTED {}]->(City Lights)<-[:ACTED_IN {}]-(Virginia Cherrill)\n",
            "\n",
            "\n"
          ]
        }
      ],
      "source": [
        "def who_be_present(I_AM,I_WANT_TO_MEET):\n",
        "    print(f\"I'm {I_AM}\")\n",
        "    print(f\"I want to meet {I_WANT_TO_MEET}\")\n",
        "    request=\"\"\"\n",
        "    MATCH (cs:Person { name: $pfrom }),(ms:Person { name: $pto }), p = shortestPath((cs)-[:ACTED_IN|DIRECTED*]-(ms))\n",
        "    WHERE length(p)> 1 \n",
        "    RETURN p\n",
        "    \"\"\"\n",
        "    cursor = graph.run(request,pfrom=I_AM,pto=I_WANT_TO_MEET)\n",
        "    while cursor.forward():\n",
        "        print(cursor['p'])\n",
        "    print('\\n')\n",
        "        \n",
        "        \n",
        "I_AM='Leonardo DiCaprio'\n",
        "I_WANT_TO_MEET='Brad Pitt'\n",
        "who_be_present(I_AM,I_WANT_TO_MEET)\n",
        "\n",
        "I_AM='Charles Chaplin'\n",
        "I_WANT_TO_MEET='Virginia Cherrill'\n",
        "who_be_present(I_AM,I_WANT_TO_MEET)"
      ]
    },
    {
      "cell_type": "code",
      "execution_count": 83,
      "metadata": {
        "colab": {
          "base_uri": "https://localhost:8080/"
        },
        "id": "jiXZwikWvy3V",
        "outputId": "4007f334-c675-4f25-8089-f71e624e5fc1"
      },
      "outputs": [
        {
          "data": {
            "text/html": [
              "<div>\n",
              "<style scoped>\n",
              "    .dataframe tbody tr th:only-of-type {\n",
              "        vertical-align: middle;\n",
              "    }\n",
              "\n",
              "    .dataframe tbody tr th {\n",
              "        vertical-align: top;\n",
              "    }\n",
              "\n",
              "    .dataframe thead th {\n",
              "        text-align: right;\n",
              "    }\n",
              "</style>\n",
              "<table border=\"1\" class=\"dataframe\">\n",
              "  <thead>\n",
              "    <tr style=\"text-align: right;\">\n",
              "      <th></th>\n",
              "      <th>title</th>\n",
              "      <th>recommendation</th>\n",
              "      <th>score</th>\n",
              "    </tr>\n",
              "  </thead>\n",
              "  <tbody>\n",
              "    <tr>\n",
              "      <th>0</th>\n",
              "      <td>Inception</td>\n",
              "      <td>The Dark Knight Rises</td>\n",
              "      <td>1.650711</td>\n",
              "    </tr>\n",
              "    <tr>\n",
              "      <th>1</th>\n",
              "      <td>Inception</td>\n",
              "      <td>Mad Max: Fury Road</td>\n",
              "      <td>1.178828</td>\n",
              "    </tr>\n",
              "    <tr>\n",
              "      <th>2</th>\n",
              "      <td>Inception</td>\n",
              "      <td>Interstellar</td>\n",
              "      <td>1.069812</td>\n",
              "    </tr>\n",
              "    <tr>\n",
              "      <th>3</th>\n",
              "      <td>Inception</td>\n",
              "      <td>The Revenant</td>\n",
              "      <td>0.882429</td>\n",
              "    </tr>\n",
              "    <tr>\n",
              "      <th>4</th>\n",
              "      <td>Inception</td>\n",
              "      <td>Spider-Man: Homecoming</td>\n",
              "      <td>0.832851</td>\n",
              "    </tr>\n",
              "    <tr>\n",
              "      <th>5</th>\n",
              "      <td>Inception</td>\n",
              "      <td>The Prestige</td>\n",
              "      <td>0.824566</td>\n",
              "    </tr>\n",
              "    <tr>\n",
              "      <th>6</th>\n",
              "      <td>Inception</td>\n",
              "      <td>Shutter Island</td>\n",
              "      <td>0.805105</td>\n",
              "    </tr>\n",
              "    <tr>\n",
              "      <th>7</th>\n",
              "      <td>Inception</td>\n",
              "      <td>The Dark Knight</td>\n",
              "      <td>0.790836</td>\n",
              "    </tr>\n",
              "    <tr>\n",
              "      <th>8</th>\n",
              "      <td>Inception</td>\n",
              "      <td>Toy Story 3</td>\n",
              "      <td>0.759144</td>\n",
              "    </tr>\n",
              "    <tr>\n",
              "      <th>9</th>\n",
              "      <td>Inception</td>\n",
              "      <td>Warrior</td>\n",
              "      <td>0.622914</td>\n",
              "    </tr>\n",
              "  </tbody>\n",
              "</table>\n",
              "</div>"
            ],
            "text/plain": [
              "       title          recommendation     score\n",
              "0  Inception   The Dark Knight Rises  1.650711\n",
              "1  Inception      Mad Max: Fury Road  1.178828\n",
              "2  Inception            Interstellar  1.069812\n",
              "3  Inception            The Revenant  0.882429\n",
              "4  Inception  Spider-Man: Homecoming  0.832851\n",
              "5  Inception            The Prestige  0.824566\n",
              "6  Inception          Shutter Island  0.805105\n",
              "7  Inception         The Dark Knight  0.790836\n",
              "8  Inception             Toy Story 3  0.759144\n",
              "9  Inception                 Warrior  0.622914"
            ]
          },
          "execution_count": 83,
          "metadata": {},
          "output_type": "execute_result"
        }
      ],
      "source": [
        "request_link_prediction_movie=\"\"\"\n",
        "MATCH (a:Movie {name:$ptitle} )-[*4]-(b:Movie)\n",
        "WHERE a <> b AND a.name < b.name\n",
        "WITH DISTINCT a,b\n",
        "RETURN a.name as title, b.name as recommendation, gds.alpha.linkprediction.adamicAdar(a, b) AS score\n",
        "ORDER BY score DESC\n",
        "LIMIT 10\n",
        "\"\"\"\n",
        "recommend_df = graph.run(request_link_prediction_movie,ptitle=\"Inception\").to_data_frame()\n",
        "# recommend_df.to_csv(\"recommend.csv\")\n",
        "recommend_df\n",
        "# print(graph.run(request_link_prediction_movie,ptitle=\"Once Upon a Time in America\").to_data_frame())"
      ]
    },
    {
      "cell_type": "code",
      "execution_count": null,
      "metadata": {},
      "outputs": [],
      "source": [
        "request_link_prediction_movie=\"\"\"\n",
        "MATCH (a:Movie {name:$ptitle} )-[*4]-(b:Movie)\n",
        "WHERE a <> b AND a.name < b.name\n",
        "WITH DISTINCT a,b\n",
        "RETURN a.name as title, b.name as recommendation, gds.alpha.linkprediction.adamicAdar(a, b) AS score\n",
        "ORDER BY score DESC\n",
        "LIMIT 10\n",
        "\"\"\"\n",
        "recommend_df = graph.run(request_link_prediction_movie,ptitle=\"Inception\").to_data_frame()\n",
        "recommend_df"
      ]
    },
    {
      "cell_type": "code",
      "execution_count": 57,
      "metadata": {
        "id": "ep-F9VSGxwAg"
      },
      "outputs": [
        {
          "name": "stdout",
          "output_type": "stream",
          "text": [
            "                                      nodeProjection  \\\n",
            "0  {'Person': {'label': 'Person', 'properties': {}}}   \n",
            "\n",
            "                              relationshipProjection            graphName  \\\n",
            "0  {'DIRECTED': {'orientation': 'NATURAL', 'aggre...  MovieDirectedGraphy   \n",
            "\n",
            "   nodeCount  relationshipCount  createMillis  \n",
            "0        917                  0           100  \n"
          ]
        }
      ],
      "source": [
        "named_graph=\"\"\"\n",
        "CALL gds.graph.create(\n",
        "  'MovieDirectedGraphy',\n",
        "  'Person',\n",
        "  'DIRECTED'\n",
        ");\n",
        "\"\"\"\n",
        "print(graph.run(named_graph).to_data_frame())"
      ]
    },
    {
      "cell_type": "code",
      "execution_count": 32,
      "metadata": {},
      "outputs": [
        {
          "name": "stdout",
          "output_type": "stream",
          "text": [
            "                                      nodeProjection  \\\n",
            "0  {'Person': {'label': 'Person', 'properties': {}}}   \n",
            "\n",
            "                              relationshipProjection        graphName  \\\n",
            "0  {'ACTED_IN': {'orientation': 'NATURAL', 'aggre...  MovieActedGraph   \n",
            "\n",
            "   nodeCount  relationshipCount  createMillis  \n",
            "0        917                  0            19  \n"
          ]
        }
      ],
      "source": [
        "named_graph=\"\"\"\n",
        "CALL gds.graph.create(\n",
        "  'MovieActedGraph',\n",
        "  'Person',\n",
        "  'ACTED_IN'\n",
        ");\n",
        "\"\"\"\n",
        "print(graph.run(named_graph).to_data_frame())"
      ]
    },
    {
      "cell_type": "code",
      "execution_count": 45,
      "metadata": {},
      "outputs": [
        {
          "name": "stdout",
          "output_type": "stream",
          "text": [
            "                                      nodeProjection  \\\n",
            "0  {'Person': {'label': 'Person', 'properties': {}}}   \n",
            "\n",
            "                              relationshipProjection       graphName  \\\n",
            "0  {'WORK_WITH': {'orientation': 'NATURAL', 'aggr...  MovieWorkGraph   \n",
            "\n",
            "   nodeCount  relationshipCount  createMillis  \n",
            "0        917               1454           149  \n"
          ]
        }
      ],
      "source": [
        "named_graphWrk=\"\"\"\n",
        "CALL gds.graph.create(\n",
        "  'MovieWorkGraph',\n",
        "  'Person',\n",
        "  'WORK_WITH'\n",
        ");\n",
        "\"\"\"\n",
        "print(graph.run(named_graphWrk).to_data_frame())"
      ]
    },
    {
      "cell_type": "code",
      "execution_count": 33,
      "metadata": {},
      "outputs": [
        {
          "name": "stdout",
          "output_type": "stream",
          "text": [
            "   nodePropertiesWritten  ranIterations\n",
            "0                    917              1\n"
          ]
        }
      ],
      "source": [
        "page_rank=\"\"\"\n",
        "CALL gds.pageRank.write('MovieDirectedGraphy', {\n",
        "  maxIterations: 20,\n",
        "  dampingFactor: 0.85,\n",
        "  writeProperty: 'pagerank'\n",
        "})\n",
        "YIELD nodePropertiesWritten, ranIterations;\n",
        "\"\"\"\n",
        "print(graph.run(page_rank).to_data_frame())"
      ]
    },
    {
      "cell_type": "code",
      "execution_count": 34,
      "metadata": {},
      "outputs": [
        {
          "name": "stdout",
          "output_type": "stream",
          "text": [
            "   nodePropertiesWritten  ranIterations\n",
            "0                    917              1\n"
          ]
        }
      ],
      "source": [
        "page_rank=\"\"\"\n",
        "CALL gds.pageRank.write('MovieActedGraph', {\n",
        "  maxIterations: 20,\n",
        "  dampingFactor: 0.85,\n",
        "  writeProperty: 'pagerank'\n",
        "})\n",
        "YIELD nodePropertiesWritten, ranIterations;\n",
        "\"\"\"\n",
        "print(graph.run(page_rank).to_data_frame())"
      ]
    },
    {
      "cell_type": "code",
      "execution_count": 42,
      "metadata": {},
      "outputs": [
        {
          "name": "stdout",
          "output_type": "stream",
          "text": [
            "   nodes writeProperty\n",
            "0    917      ActClose\n"
          ]
        }
      ],
      "source": [
        "closeness_act=\"\"\"\n",
        "CALL gds.alpha.closeness.write({\n",
        "  nodeProjection: 'Person',\n",
        "  relationshipProjection: 'WORK_WITH',\n",
        "  writeProperty: 'ActClose'\n",
        "}) YIELD nodes, writeProperty;\n",
        "\"\"\"\n",
        "print(graph.run(closeness_act).to_data_frame())"
      ]
    },
    {
      "cell_type": "code",
      "execution_count": 48,
      "metadata": {},
      "outputs": [
        {
          "data": {
            "text/plain": [
              "array([ 253,  257,  268,  272,  276,  280,  290,  300,  303,  305,  312,\n",
              "        317,  322,  334,  337,  341,  348,  352,  355,  361,  365,  370,\n",
              "        374,  383,  391,  399,  409,  417,  421,  429,  433,  440,  446,\n",
              "        449,  453,  457,  461,  464,  471,  479,  482,  484,  491,  493,\n",
              "        501,  505,  509,  511,  520,  527,  531,  532,  537,  541,  543,\n",
              "        547,  548,  550,  560,  562,  565,  573,  578,  585,  589,  591,\n",
              "        609,  614,  618,  619,  622,  625,  627,  638,  640,  654,  656,\n",
              "        662,  672,  677,  684,  688,  691,  695,  702,  704,  707,  711,\n",
              "        714,  720,  721,  724,  730,  737,  741,  743,  752,  755,  758,\n",
              "        761,  762,  767,  771,  772,  773,  790,  793,  794,  800,  802,\n",
              "        806,  810,  813,  816,  818,  824,  829,  835,  844,  850,  854,\n",
              "        858,  862,  864,  868,  872,  878,  880,  884,  885,  889,  896,\n",
              "        898,  903,  907,  910,  912,  917,  919,  922,  926,  929,  933,\n",
              "        939,  942,  946,  956,  959,  965,  969,  973,  978,  994,  996,\n",
              "        999, 1005, 1006, 1009, 1013, 1016, 1021, 1023, 1024, 1025, 1026,\n",
              "       1027, 1028, 1029, 1030, 1031, 1032, 1033, 1034, 1035, 1036, 1037,\n",
              "       1038, 1039, 1040, 1041, 1042, 1043, 1044, 1045, 1046, 1047, 1048,\n",
              "       1049, 1050, 1051, 1052, 1053, 1054, 1055, 1056, 1057, 1058, 1059,\n",
              "       1060, 1061, 1062, 1063, 1064, 1065, 1066, 1067, 1068, 1069, 1070,\n",
              "       1071, 1072, 1073, 1074, 1075, 1076, 1077, 1078, 1079, 1080, 1081,\n",
              "       1082, 1083, 1084, 1085, 1086, 1087, 1088, 1089, 1090, 1091, 1092,\n",
              "       1093, 1094, 1095, 1096, 1097, 1098, 1099, 1100, 1101, 1102, 1103,\n",
              "       1104, 1105, 1106, 1107, 1108, 1109, 1110, 1111, 1112, 1113, 1114,\n",
              "       1115, 1116, 1117, 1118, 1119, 1120, 1121, 1122, 1123, 1124, 1125,\n",
              "       1126, 1127, 1128, 1129, 1130, 1131, 1132, 1133, 1134, 1135, 1136,\n",
              "       1137, 1138, 1139, 1140, 1141, 1142, 1143, 1144, 1145, 1146, 1147,\n",
              "       1148, 1149, 1150, 1151, 1152, 1153, 1154, 1155, 1156, 1157, 1158,\n",
              "       1159, 1160, 1161, 1162, 1163, 1164, 1165, 1166], dtype=int64)"
            ]
          },
          "execution_count": 48,
          "metadata": {},
          "output_type": "execute_result"
        }
      ],
      "source": [
        "community_detect=\"\"\"\n",
        "CALL gds.labelPropagation.stream('MovieWorkGraph')\n",
        "YIELD nodeId, communityId AS Community\n",
        "RETURN gds.util.asNode(nodeId).name AS Name, Community\n",
        "ORDER BY Community, Name\n",
        "\"\"\"\n",
        "com_val = graph.run(community_detect).to_data_frame()"
      ]
    },
    {
      "cell_type": "code",
      "execution_count": 58,
      "metadata": {},
      "outputs": [],
      "source": [
        "community_detect=\"\"\"\n",
        "CALL gds.labelPropagation.stream('MovieDirectedGraphy')\n",
        "YIELD nodeId, communityId AS Community\n",
        "RETURN gds.util.asNode(nodeId).name AS Name, Community\n",
        "ORDER BY Community, Name\n",
        "\"\"\"\n",
        "com_val = graph.run(community_detect).to_data_frame()"
      ]
    },
    {
      "cell_type": "code",
      "execution_count": 71,
      "metadata": {},
      "outputs": [
        {
          "data": {
            "text/plain": [
              "917"
            ]
          },
          "execution_count": 71,
          "metadata": {},
          "output_type": "execute_result"
        }
      ],
      "source": [
        "len(com_val)"
      ]
    },
    {
      "cell_type": "code",
      "execution_count": 72,
      "metadata": {},
      "outputs": [
        {
          "name": "stdout",
          "output_type": "stream",
          "text": [
            "                                  nodeProjection  \\\n",
            "0  {'Year': {'label': 'Year', 'properties': {}}}   \n",
            "\n",
            "                              relationshipProjection  graphName  nodeCount  \\\n",
            "0  {'CREATED_ON': {'orientation': 'NATURAL', 'agg...  MovieYear         23   \n",
            "\n",
            "   relationshipCount  createMillis  \n",
            "0                  0            20  \n"
          ]
        }
      ],
      "source": [
        "created_on_graph=\"\"\"\n",
        "CALL gds.graph.create(\n",
        "  'MovieYear',\n",
        "  'Year',\n",
        "  'CREATED_ON'\n",
        ");\n",
        "\"\"\"\n",
        "print(graph.run(created_on_graph).to_data_frame())"
      ]
    },
    {
      "cell_type": "code",
      "execution_count": 73,
      "metadata": {},
      "outputs": [],
      "source": [
        "year_community_detect=\"\"\"\n",
        "CALL gds.labelPropagation.stream('MovieYear')\n",
        "YIELD nodeId, communityId AS Community\n",
        "RETURN gds.util.asNode(nodeId).name AS Name, Community\n",
        "ORDER BY Community, Name\n",
        "\"\"\"\n",
        "com_val = graph.run(year_community_detect).to_data_frame()"
      ]
    },
    {
      "cell_type": "code",
      "execution_count": 79,
      "metadata": {},
      "outputs": [
        {
          "data": {
            "text/plain": [
              "<bound method DataFrame.drop_duplicates of     Name  Community\n",
              "0   None       1188\n",
              "1   None       1189\n",
              "2   None       1190\n",
              "3   None       1191\n",
              "4   None       1192\n",
              "5   None       1193\n",
              "6   None       1194\n",
              "7   None       1195\n",
              "8   None       1196\n",
              "9   None       1197\n",
              "10  None       1198\n",
              "11  None       1199\n",
              "12  None       1200\n",
              "13  None       1201\n",
              "14  None       1202\n",
              "15  None       1203\n",
              "16  None       1204\n",
              "17  None       1205\n",
              "18  None       1206\n",
              "19  None       1207\n",
              "20  None       1208\n",
              "21  None       1209\n",
              "22  None       1210>"
            ]
          },
          "execution_count": 79,
          "metadata": {},
          "output_type": "execute_result"
        }
      ],
      "source": [
        "com_val.drop_duplicates"
      ]
    },
    {
      "cell_type": "code",
      "execution_count": 80,
      "metadata": {},
      "outputs": [
        {
          "data": {
            "text/html": [
              "<div>\n",
              "<style scoped>\n",
              "    .dataframe tbody tr th:only-of-type {\n",
              "        vertical-align: middle;\n",
              "    }\n",
              "\n",
              "    .dataframe tbody tr th {\n",
              "        vertical-align: top;\n",
              "    }\n",
              "\n",
              "    .dataframe thead th {\n",
              "        text-align: right;\n",
              "    }\n",
              "</style>\n",
              "<table border=\"1\" class=\"dataframe\">\n",
              "  <thead>\n",
              "    <tr style=\"text-align: right;\">\n",
              "      <th></th>\n",
              "      <th>Name</th>\n",
              "      <th>Community</th>\n",
              "    </tr>\n",
              "  </thead>\n",
              "  <tbody>\n",
              "    <tr>\n",
              "      <th>0</th>\n",
              "      <td>None</td>\n",
              "      <td>1188</td>\n",
              "    </tr>\n",
              "    <tr>\n",
              "      <th>1</th>\n",
              "      <td>None</td>\n",
              "      <td>1189</td>\n",
              "    </tr>\n",
              "    <tr>\n",
              "      <th>2</th>\n",
              "      <td>None</td>\n",
              "      <td>1190</td>\n",
              "    </tr>\n",
              "    <tr>\n",
              "      <th>3</th>\n",
              "      <td>None</td>\n",
              "      <td>1191</td>\n",
              "    </tr>\n",
              "    <tr>\n",
              "      <th>4</th>\n",
              "      <td>None</td>\n",
              "      <td>1192</td>\n",
              "    </tr>\n",
              "    <tr>\n",
              "      <th>5</th>\n",
              "      <td>None</td>\n",
              "      <td>1193</td>\n",
              "    </tr>\n",
              "    <tr>\n",
              "      <th>6</th>\n",
              "      <td>None</td>\n",
              "      <td>1194</td>\n",
              "    </tr>\n",
              "    <tr>\n",
              "      <th>7</th>\n",
              "      <td>None</td>\n",
              "      <td>1195</td>\n",
              "    </tr>\n",
              "    <tr>\n",
              "      <th>8</th>\n",
              "      <td>None</td>\n",
              "      <td>1196</td>\n",
              "    </tr>\n",
              "    <tr>\n",
              "      <th>9</th>\n",
              "      <td>None</td>\n",
              "      <td>1197</td>\n",
              "    </tr>\n",
              "    <tr>\n",
              "      <th>10</th>\n",
              "      <td>None</td>\n",
              "      <td>1198</td>\n",
              "    </tr>\n",
              "    <tr>\n",
              "      <th>11</th>\n",
              "      <td>None</td>\n",
              "      <td>1199</td>\n",
              "    </tr>\n",
              "    <tr>\n",
              "      <th>12</th>\n",
              "      <td>None</td>\n",
              "      <td>1200</td>\n",
              "    </tr>\n",
              "    <tr>\n",
              "      <th>13</th>\n",
              "      <td>None</td>\n",
              "      <td>1201</td>\n",
              "    </tr>\n",
              "    <tr>\n",
              "      <th>14</th>\n",
              "      <td>None</td>\n",
              "      <td>1202</td>\n",
              "    </tr>\n",
              "    <tr>\n",
              "      <th>15</th>\n",
              "      <td>None</td>\n",
              "      <td>1203</td>\n",
              "    </tr>\n",
              "    <tr>\n",
              "      <th>16</th>\n",
              "      <td>None</td>\n",
              "      <td>1204</td>\n",
              "    </tr>\n",
              "    <tr>\n",
              "      <th>17</th>\n",
              "      <td>None</td>\n",
              "      <td>1205</td>\n",
              "    </tr>\n",
              "    <tr>\n",
              "      <th>18</th>\n",
              "      <td>None</td>\n",
              "      <td>1206</td>\n",
              "    </tr>\n",
              "    <tr>\n",
              "      <th>19</th>\n",
              "      <td>None</td>\n",
              "      <td>1207</td>\n",
              "    </tr>\n",
              "    <tr>\n",
              "      <th>20</th>\n",
              "      <td>None</td>\n",
              "      <td>1208</td>\n",
              "    </tr>\n",
              "    <tr>\n",
              "      <th>21</th>\n",
              "      <td>None</td>\n",
              "      <td>1209</td>\n",
              "    </tr>\n",
              "    <tr>\n",
              "      <th>22</th>\n",
              "      <td>None</td>\n",
              "      <td>1210</td>\n",
              "    </tr>\n",
              "  </tbody>\n",
              "</table>\n",
              "</div>"
            ],
            "text/plain": [
              "    Name  Community\n",
              "0   None       1188\n",
              "1   None       1189\n",
              "2   None       1190\n",
              "3   None       1191\n",
              "4   None       1192\n",
              "5   None       1193\n",
              "6   None       1194\n",
              "7   None       1195\n",
              "8   None       1196\n",
              "9   None       1197\n",
              "10  None       1198\n",
              "11  None       1199\n",
              "12  None       1200\n",
              "13  None       1201\n",
              "14  None       1202\n",
              "15  None       1203\n",
              "16  None       1204\n",
              "17  None       1205\n",
              "18  None       1206\n",
              "19  None       1207\n",
              "20  None       1208\n",
              "21  None       1209\n",
              "22  None       1210"
            ]
          },
          "execution_count": 80,
          "metadata": {},
          "output_type": "execute_result"
        }
      ],
      "source": [
        "com_val"
      ]
    },
    {
      "cell_type": "code",
      "execution_count": null,
      "metadata": {},
      "outputs": [],
      "source": []
    }
  ],
  "metadata": {
    "colab": {
      "collapsed_sections": [
        "jvmOUET9Sbv-",
        "w3WRiUphR5sB"
      ],
      "name": "GraphAI_CA2",
      "provenance": []
    },
    "kernelspec": {
      "display_name": "Python 3",
      "name": "python3"
    },
    "language_info": {
      "codemirror_mode": {
        "name": "ipython",
        "version": 3
      },
      "file_extension": ".py",
      "mimetype": "text/x-python",
      "name": "python",
      "nbconvert_exporter": "python",
      "pygments_lexer": "ipython3",
      "version": "3.9.7"
    }
  },
  "nbformat": 4,
  "nbformat_minor": 0
}
