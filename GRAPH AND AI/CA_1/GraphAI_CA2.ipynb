{
  "cells": [
    {
      "cell_type": "code",
      "execution_count": 76,
      "metadata": {
        "colab": {
          "base_uri": "https://localhost:8080/"
        },
        "id": "YF2hLI22K6Pw",
        "outputId": "ca84a09b-5493-4f58-9e54-c61dedd66829"
      },
      "outputs": [],
      "source": [
        "# pip install py2neo"
      ]
    },
    {
      "cell_type": "code",
      "execution_count": 77,
      "metadata": {
        "id": "-c_JvTeNNwIo"
      },
      "outputs": [],
      "source": [
        "import numpy as np \n",
        "import pandas as pd\n",
        "from py2neo import Graph\n",
        "import matplotlib.pyplot as plt\n",
        "plt.style.use('seaborn-whitegrid')\n",
        "import time"
      ]
    },
    {
      "cell_type": "code",
      "execution_count": 78,
      "metadata": {
        "colab": {
          "base_uri": "https://localhost:8080/",
          "height": 381
        },
        "id": "HWbACgUZN0BV",
        "outputId": "404f805a-d79d-49e1-8660-0e5f134d2eb8"
      },
      "outputs": [
        {
          "data": {
            "text/html": [
              "<div>\n",
              "<style scoped>\n",
              "    .dataframe tbody tr th:only-of-type {\n",
              "        vertical-align: middle;\n",
              "    }\n",
              "\n",
              "    .dataframe tbody tr th {\n",
              "        vertical-align: top;\n",
              "    }\n",
              "\n",
              "    .dataframe thead th {\n",
              "        text-align: right;\n",
              "    }\n",
              "</style>\n",
              "<table border=\"1\" class=\"dataframe\">\n",
              "  <thead>\n",
              "    <tr style=\"text-align: right;\">\n",
              "      <th></th>\n",
              "      <th>index</th>\n",
              "      <th>Movie Name</th>\n",
              "      <th>Year</th>\n",
              "      <th>Actors</th>\n",
              "      <th>Directors</th>\n",
              "      <th>Writer</th>\n",
              "      <th>Rating</th>\n",
              "    </tr>\n",
              "  </thead>\n",
              "  <tbody>\n",
              "    <tr>\n",
              "      <th>0</th>\n",
              "      <td>0</td>\n",
              "      <td>Adams Apples</td>\n",
              "      <td>2005-04-15</td>\n",
              "      <td>Ulrich Thomsen, Mads Mikkelsen, Nicolas Bro</td>\n",
              "      <td>Anders Thomas Jensen</td>\n",
              "      <td>Anders Thomas Jensen</td>\n",
              "      <td>7.7</td>\n",
              "    </tr>\n",
              "    <tr>\n",
              "      <th>1</th>\n",
              "      <td>1</td>\n",
              "      <td>Knockin on Heavens Door</td>\n",
              "      <td>1997-02-20</td>\n",
              "      <td>Til Schweiger, Jan Josef Liefers, Thierry van ...</td>\n",
              "      <td>Thomas Jahn</td>\n",
              "      <td>Thomas Jahn, Til Schweiger</td>\n",
              "      <td>7.9</td>\n",
              "    </tr>\n",
              "    <tr>\n",
              "      <th>2</th>\n",
              "      <td>2</td>\n",
              "      <td>Mr. Nobody</td>\n",
              "      <td>2013-09-26</td>\n",
              "      <td>Jared Leto, Sarah Polley, Diane Kruger</td>\n",
              "      <td>Jaco Van Dormael</td>\n",
              "      <td>Jaco Van Dormael</td>\n",
              "      <td>7.8</td>\n",
              "    </tr>\n",
              "    <tr>\n",
              "      <th>3</th>\n",
              "      <td>3</td>\n",
              "      <td>Nostalghia</td>\n",
              "      <td>1992-01-03</td>\n",
              "      <td>Oleg Yankovskiy, Erland Josephson, Domiziana G...</td>\n",
              "      <td>Andrei Tarkovsky</td>\n",
              "      <td>Andrei Tarkovsky, Tonino Guerra</td>\n",
              "      <td>8</td>\n",
              "    </tr>\n",
              "    <tr>\n",
              "      <th>4</th>\n",
              "      <td>4</td>\n",
              "      <td>The Man from Nowhere</td>\n",
              "      <td>2010-05-08</td>\n",
              "      <td>Won Bin, Kim Sae-ron, Kim Tae-hoon</td>\n",
              "      <td>Jeong-beom Lee</td>\n",
              "      <td>Jeong-beom Lee</td>\n",
              "      <td>7.7</td>\n",
              "    </tr>\n",
              "  </tbody>\n",
              "</table>\n",
              "</div>"
            ],
            "text/plain": [
              "   index               Movie Name       Year  \\\n",
              "0      0             Adams Apples 2005-04-15   \n",
              "1      1  Knockin on Heavens Door 1997-02-20   \n",
              "2      2               Mr. Nobody 2013-09-26   \n",
              "3      3               Nostalghia 1992-01-03   \n",
              "4      4     The Man from Nowhere 2010-05-08   \n",
              "\n",
              "                                              Actors             Directors  \\\n",
              "0        Ulrich Thomsen, Mads Mikkelsen, Nicolas Bro  Anders Thomas Jensen   \n",
              "1  Til Schweiger, Jan Josef Liefers, Thierry van ...           Thomas Jahn   \n",
              "2             Jared Leto, Sarah Polley, Diane Kruger      Jaco Van Dormael   \n",
              "3  Oleg Yankovskiy, Erland Josephson, Domiziana G...      Andrei Tarkovsky   \n",
              "4                 Won Bin, Kim Sae-ron, Kim Tae-hoon        Jeong-beom Lee   \n",
              "\n",
              "                            Writer Rating  \n",
              "0             Anders Thomas Jensen    7.7  \n",
              "1       Thomas Jahn, Til Schweiger    7.9  \n",
              "2                 Jaco Van Dormael    7.8  \n",
              "3  Andrei Tarkovsky, Tonino Guerra      8  \n",
              "4                   Jeong-beom Lee    7.7  "
            ]
          },
          "execution_count": 78,
          "metadata": {},
          "output_type": "execute_result"
        }
      ],
      "source": [
        "# df = pd.read_csv('./DataSet/IMDB_Top250Engmovies2_OMDB_Detailed.csv')\n",
        "df = pd.read_csv('./DataSet/Top1000_Movies.csv')\n",
        "df[\"Year\"] = pd.to_datetime(df['Year'])\n",
        "\n",
        "df.head()"
      ]
    },
    {
      "cell_type": "code",
      "execution_count": 79,
      "metadata": {
        "id": "a1_dGk1one9N"
      },
      "outputs": [],
      "source": [
        "df['Year']=df['Year'].dt.strftime('%Y')"
      ]
    },
    {
      "cell_type": "code",
      "execution_count": 80,
      "metadata": {
        "id": "aJmINuTxqkS-"
      },
      "outputs": [
        {
          "data": {
            "text/html": [
              "<div>\n",
              "<style scoped>\n",
              "    .dataframe tbody tr th:only-of-type {\n",
              "        vertical-align: middle;\n",
              "    }\n",
              "\n",
              "    .dataframe tbody tr th {\n",
              "        vertical-align: top;\n",
              "    }\n",
              "\n",
              "    .dataframe thead th {\n",
              "        text-align: right;\n",
              "    }\n",
              "</style>\n",
              "<table border=\"1\" class=\"dataframe\">\n",
              "  <thead>\n",
              "    <tr style=\"text-align: right;\">\n",
              "      <th></th>\n",
              "      <th>index</th>\n",
              "      <th>Movie Name</th>\n",
              "      <th>Year</th>\n",
              "      <th>Actors</th>\n",
              "      <th>Directors</th>\n",
              "      <th>Writer</th>\n",
              "      <th>Rating</th>\n",
              "    </tr>\n",
              "  </thead>\n",
              "  <tbody>\n",
              "    <tr>\n",
              "      <th>994</th>\n",
              "      <td>994</td>\n",
              "      <td>Tumbbad</td>\n",
              "      <td>2018</td>\n",
              "      <td>Sohum Shah, Jyoti Malshe, Anita Date</td>\n",
              "      <td>Rahi Anil Barve, Anand Gandhi, Adesh Prasad</td>\n",
              "      <td>Mitesh Shah, Adesh Prasad, Rahi Anil Barve</td>\n",
              "      <td>8.3</td>\n",
              "    </tr>\n",
              "    <tr>\n",
              "      <th>995</th>\n",
              "      <td>995</td>\n",
              "      <td>The Gentlemen</td>\n",
              "      <td>2020</td>\n",
              "      <td>Matthew McConaughey, Charlie Hunnam, Michelle ...</td>\n",
              "      <td>Guy Ritchie</td>\n",
              "      <td>Guy Ritchie, Ivan Atkinson, Marn Davies</td>\n",
              "      <td>7.8</td>\n",
              "    </tr>\n",
              "    <tr>\n",
              "      <th>996</th>\n",
              "      <td>996</td>\n",
              "      <td>Hamilton</td>\n",
              "      <td>2020</td>\n",
              "      <td>Lin-Manuel Miranda, Phillipa Soo, Leslie Odom Jr.</td>\n",
              "      <td>Thomas Kail</td>\n",
              "      <td>Lin-Manuel Miranda, Ron Chernow</td>\n",
              "      <td>8.4</td>\n",
              "    </tr>\n",
              "    <tr>\n",
              "      <th>997</th>\n",
              "      <td>997</td>\n",
              "      <td>Dark Waters</td>\n",
              "      <td>2019</td>\n",
              "      <td>Mark Ruffalo, Anne Hathaway, Tim Robbins</td>\n",
              "      <td>Todd Haynes</td>\n",
              "      <td>Nathaniel Rich, Mario Correa, Matthew Michael ...</td>\n",
              "      <td>7.6</td>\n",
              "    </tr>\n",
              "    <tr>\n",
              "      <th>998</th>\n",
              "      <td>998</td>\n",
              "      <td>Asuran</td>\n",
              "      <td>2019</td>\n",
              "      <td>Dhanush, Manju Warrier, Prakash Raj</td>\n",
              "      <td>Vetrimaaran</td>\n",
              "      <td>M.S. Manimaran, Vetrimaaran, Suka</td>\n",
              "      <td>8.6</td>\n",
              "    </tr>\n",
              "  </tbody>\n",
              "</table>\n",
              "</div>"
            ],
            "text/plain": [
              "     index     Movie Name  Year  \\\n",
              "994    994        Tumbbad  2018   \n",
              "995    995  The Gentlemen  2020   \n",
              "996    996       Hamilton  2020   \n",
              "997    997    Dark Waters  2019   \n",
              "998    998         Asuran  2019   \n",
              "\n",
              "                                                Actors  \\\n",
              "994               Sohum Shah, Jyoti Malshe, Anita Date   \n",
              "995  Matthew McConaughey, Charlie Hunnam, Michelle ...   \n",
              "996  Lin-Manuel Miranda, Phillipa Soo, Leslie Odom Jr.   \n",
              "997           Mark Ruffalo, Anne Hathaway, Tim Robbins   \n",
              "998                Dhanush, Manju Warrier, Prakash Raj   \n",
              "\n",
              "                                       Directors  \\\n",
              "994  Rahi Anil Barve, Anand Gandhi, Adesh Prasad   \n",
              "995                                  Guy Ritchie   \n",
              "996                                  Thomas Kail   \n",
              "997                                  Todd Haynes   \n",
              "998                                  Vetrimaaran   \n",
              "\n",
              "                                                Writer Rating  \n",
              "994         Mitesh Shah, Adesh Prasad, Rahi Anil Barve    8.3  \n",
              "995            Guy Ritchie, Ivan Atkinson, Marn Davies    7.8  \n",
              "996                    Lin-Manuel Miranda, Ron Chernow    8.4  \n",
              "997  Nathaniel Rich, Mario Correa, Matthew Michael ...    7.6  \n",
              "998                  M.S. Manimaran, Vetrimaaran, Suka    8.6  "
            ]
          },
          "execution_count": 80,
          "metadata": {},
          "output_type": "execute_result"
        }
      ],
      "source": [
        "df.tail()"
      ]
    },
    {
      "cell_type": "code",
      "execution_count": 81,
      "metadata": {
        "id": "8abJhvv2LHU5"
      },
      "outputs": [],
      "source": [
        "sandbox = False\n",
        "\n",
        "if sandbox:\n",
        "    ip=\"34.205.9.217\"\n",
        "    port=\"7474\"\n",
        "    pwd=\"composition-sunlight-mediums\"\n",
        "    graph = Graph(\"bolt://34.205.9.217:7687\", auth=(\"neo4j\", pwd))\n",
        "else :\n",
        "    graph = Graph(\"bolt://localhost:11005\", auth=(\"neo4j\", \"root\"))"
      ]
    },
    {
      "cell_type": "code",
      "execution_count": 82,
      "metadata": {
        "id": "ftSCTWhtS9bk"
      },
      "outputs": [],
      "source": [
        "LOAD_DATA = True\n",
        "\n",
        "def run_request(request,LOAD_DATA):\n",
        "    if (LOAD_DATA):\n",
        "        start_time = time.time()\n",
        "        print(graph.run(request)) \n",
        "        exec_time = time.time() - start_time\n",
        "        print(f'-- {exec_time} seconds --')"
      ]
    },
    {
      "cell_type": "code",
      "execution_count": 83,
      "metadata": {
        "id": "hHNCjuzATytB"
      },
      "outputs": [
        {
          "name": "stdout",
          "output_type": "stream",
          "text": [
            "(No data)\n",
            "-- 0.28655052185058594 seconds --\n"
          ]
        }
      ],
      "source": [
        "request_delete =\"\"\"\n",
        "MATCH (n) DETACH DELETE n;\n",
        "\"\"\"\n",
        "run_request(request_delete,LOAD_DATA)"
      ]
    },
    {
      "cell_type": "code",
      "execution_count": 84,
      "metadata": {},
      "outputs": [
        {
          "data": {
            "text/plain": [
              "['index', 'Movie Name', 'Year', 'Actors', 'Directors', 'Writer', 'Rating']"
            ]
          },
          "execution_count": 84,
          "metadata": {},
          "output_type": "execute_result"
        }
      ],
      "source": [
        "list(df.columns)\n",
        "# len(df.columns)"
      ]
    },
    {
      "cell_type": "code",
      "execution_count": 85,
      "metadata": {
        "id": "9riuHmcMT5fC"
      },
      "outputs": [
        {
          "name": "stdout",
          "output_type": "stream",
          "text": [
            "0/999 done ... -- 0.009245157241821289 seconds --\n",
            "100/999 done ... -- 0.586158037185669 seconds --\n",
            "200/999 done ... -- 1.1177985668182373 seconds --\n",
            "300/999 done ... -- 1.6667449474334717 seconds --\n",
            "400/999 done ... -- 2.1884877681732178 seconds --\n",
            "500/999 done ... -- 2.7620091438293457 seconds --\n",
            "600/999 done ... -- 3.2937381267547607 seconds --\n",
            "700/999 done ... -- 3.8387866020202637 seconds --\n",
            "800/999 done ... -- 4.413896083831787 seconds --\n",
            "900/999 done ... -- 4.960493326187134 seconds --\n",
            " ... End ... -- 5.479809284210205 seconds --\n"
          ]
        }
      ],
      "source": [
        "request =\"\"\"\n",
        "CREATE (m:Movie {id:$index,name: $Movie_Name})\n",
        "SET \n",
        "m.directors = $director,\n",
        "m.Year = $year, \n",
        "m.rating = $rating,\n",
        "m.cast=$cast,\n",
        "m.writers = $writer\n",
        "\"\"\"\n",
        "start_time = time.time()\n",
        "count=df.shape[0]\n",
        "if (LOAD_DATA):\n",
        "  for index, row in df.iterrows():\n",
        "    graph.run(request,\n",
        "              index=row['index'],\n",
        "              Movie_Name=row['Movie Name'],\n",
        "              director=None if pd.isnull(row['Directors']) else row['Directors'],\n",
        "              year= None if pd.isnull(row['Year']) else row['Year'],\n",
        "              rating=None if pd.isnull(row['Rating']) else row['Rating'],          \n",
        "              cast= None if pd.isnull(row['Actors']) else row['Actors'],\n",
        "              writer=None if pd.isnull(row['Writer']) else row['Writer']\n",
        "              )\n",
        "    if (index%100==0):\n",
        "        exec_time = time.time()- start_time\n",
        "        print(f'{index}/{df.shape[0]} done ... -- {exec_time} seconds --')\n",
        "    \n",
        "  exec_time = time.time()- start_time\n",
        "  print(f' ... End ... -- {exec_time} seconds --') "
      ]
    },
    {
      "cell_type": "code",
      "execution_count": 86,
      "metadata": {
        "id": "m5FMZ_mJYpoh"
      },
      "outputs": [
        {
          "name": "stdout",
          "output_type": "stream",
          "text": [
            "(No data)\n",
            "-- 1.0273470878601074 seconds --\n"
          ]
        }
      ],
      "source": [
        "request =\"\"\"\n",
        "MATCH (m:Movie)\n",
        "WHERE m.cast IS NOT NULL\n",
        "WITH m\n",
        "UNWIND split(m.cast, ',') AS actor\n",
        "MERGE (p:Person {name: trim(actor)})\n",
        "MERGE (p)-[r:ACTED_IN]->(m);\n",
        "\"\"\"    \n",
        "run_request(request,LOAD_DATA)"
      ]
    },
    {
      "cell_type": "code",
      "execution_count": 87,
      "metadata": {
        "id": "dSCmPdUJY7zq"
      },
      "outputs": [
        {
          "name": "stdout",
          "output_type": "stream",
          "text": [
            "(No data)\n",
            "-- 0.9247043132781982 seconds --\n"
          ]
        }
      ],
      "source": [
        "request =\"\"\" \n",
        "MATCH (m:Movie)\n",
        "WHERE m.directors IS NOT NULL\n",
        "WITH m\n",
        "MERGE (d:Person {name: m.directors})\n",
        "MERGE (d)-[r:DIRECTED]->(m);\n",
        "\"\"\"\n",
        "run_request(request,LOAD_DATA) "
      ]
    },
    {
      "cell_type": "code",
      "execution_count": 88,
      "metadata": {
        "id": "aYanwxGsi4WB"
      },
      "outputs": [
        {
          "name": "stdout",
          "output_type": "stream",
          "text": [
            "(No data)\n",
            "-- 2.7560949325561523 seconds --\n"
          ]
        }
      ],
      "source": [
        "request = \"\"\"\n",
        "MATCH (p:Person)-[rel:ACTED_IN]->(m:Movie)<-[:ACTED_IN]-(p2:Person)\n",
        "MERGE (p)-[r:WORK_WITH]-(p2);\n",
        "\"\"\"\n",
        "run_request(request,LOAD_DATA) "
      ]
    },
    {
      "cell_type": "markdown",
      "metadata": {
        "id": "THzCsSIKufao"
      },
      "source": [
        "##Useful"
      ]
    },
    {
      "cell_type": "code",
      "execution_count": 89,
      "metadata": {},
      "outputs": [
        {
          "data": {
            "text/plain": [
              "0     Movie\n",
              "1    Person\n",
              "Name: label, dtype: object"
            ]
          },
          "execution_count": 89,
          "metadata": {},
          "output_type": "execute_result"
        }
      ],
      "source": [
        "nodes_df['label']"
      ]
    },
    {
      "cell_type": "code",
      "execution_count": 90,
      "metadata": {
        "id": "RpgnvX46ujUf"
      },
      "outputs": [
        {
          "data": {
            "image/png": "[encoded data removed]",
            "text/plain": [
              "<Figure size 720x576 with 1 Axes>"
            ]
          },
          "metadata": {},
          "output_type": "display_data"
        }
      ],
      "source": [
        "result = {\"relType\": [], \"count\": []}\n",
        "for relationship_type in graph.run(\"CALL db.relationshipTypes()\").to_series():\n",
        "    query = f\"MATCH ()-[:`{relationship_type}`]->() RETURN count(*) as count\"\n",
        "    count = graph.run(query).to_data_frame().iloc[0]['count']\n",
        "    result[\"relType\"].append(relationship_type)\n",
        "    result[\"count\"].append(count)\n",
        "rels_df = pd.DataFrame(data=result)\n",
        "rels_df.sort_values(\"count\")\n",
        "\n",
        "rels_df.plot(kind='bar', x='relType', y='count', legend=None, title=\"Relationship Cardinalities\",figsize=(10,8))\n",
        "plt.xticks(rotation=45)\n",
        "plt.tight_layout()\n",
        "plt.show()"
      ]
    },
    {
      "cell_type": "code",
      "execution_count": 91,
      "metadata": {
        "id": "0aBLXSE6vBWh"
      },
      "outputs": [
        {
          "data": {
            "text/html": [
              "<div>\n",
              "<style scoped>\n",
              "    .dataframe tbody tr th:only-of-type {\n",
              "        vertical-align: middle;\n",
              "    }\n",
              "\n",
              "    .dataframe tbody tr th {\n",
              "        vertical-align: top;\n",
              "    }\n",
              "\n",
              "    .dataframe thead th {\n",
              "        text-align: right;\n",
              "    }\n",
              "</style>\n",
              "<table border=\"1\" class=\"dataframe\">\n",
              "  <thead>\n",
              "    <tr style=\"text-align: right;\">\n",
              "      <th></th>\n",
              "      <th>Actor</th>\n",
              "      <th>Movies_Acted_In</th>\n",
              "      <th>Total_Movies</th>\n",
              "    </tr>\n",
              "  </thead>\n",
              "  <tbody>\n",
              "    <tr>\n",
              "      <th>0</th>\n",
              "      <td>Robert De Niro</td>\n",
              "      <td>[Silver Linings Playbook, Joker, Cape Fear, Th...</td>\n",
              "      <td>17</td>\n",
              "    </tr>\n",
              "    <tr>\n",
              "      <th>1</th>\n",
              "      <td>Al Pacino</td>\n",
              "      <td>[The Godfather, Scarface, The Irishman, Glenga...</td>\n",
              "      <td>14</td>\n",
              "    </tr>\n",
              "    <tr>\n",
              "      <th>2</th>\n",
              "      <td>Tom Hanks</td>\n",
              "      <td>[Road to Perdition, Captain Phillips, The Gree...</td>\n",
              "      <td>14</td>\n",
              "    </tr>\n",
              "    <tr>\n",
              "      <th>3</th>\n",
              "      <td>Christian Bale</td>\n",
              "      <td>[The Fighter, Ford v Ferrari, Batman Begins, T...</td>\n",
              "      <td>11</td>\n",
              "    </tr>\n",
              "    <tr>\n",
              "      <th>4</th>\n",
              "      <td>Leonardo DiCaprio</td>\n",
              "      <td>[The Wolf of Wall Street, Shutter Island, The ...</td>\n",
              "      <td>11</td>\n",
              "    </tr>\n",
              "  </tbody>\n",
              "</table>\n",
              "</div>"
            ],
            "text/plain": [
              "               Actor                                    Movies_Acted_In  \\\n",
              "0     Robert De Niro  [Silver Linings Playbook, Joker, Cape Fear, Th...   \n",
              "1          Al Pacino  [The Godfather, Scarface, The Irishman, Glenga...   \n",
              "2          Tom Hanks  [Road to Perdition, Captain Phillips, The Gree...   \n",
              "3     Christian Bale  [The Fighter, Ford v Ferrari, Batman Begins, T...   \n",
              "4  Leonardo DiCaprio  [The Wolf of Wall Street, Shutter Island, The ...   \n",
              "\n",
              "   Total_Movies  \n",
              "0            17  \n",
              "1            14  \n",
              "2            14  \n",
              "3            11  \n",
              "4            11  "
            ]
          },
          "execution_count": 91,
          "metadata": {},
          "output_type": "execute_result"
        }
      ],
      "source": [
        "request_top_5_actor=\"\"\"\n",
        "MATCH (p:Person)-[rel:ACTED_IN]->(m:Movie)\n",
        "WITH p,collect(m.name) as movies,count(*) as total\n",
        "RETURN  p.name as Actor, movies As Movies_Acted_In,total As Total_Movies\n",
        "ORDER BY total DESC\n",
        "LIMIT 5\n",
        "\"\"\"\n",
        "graph.run(request_top_5_actor).to_data_frame().head()"
      ]
    },
    {
      "cell_type": "code",
      "execution_count": 92,
      "metadata": {
        "id": "0b3YdtLqvH88"
      },
      "outputs": [
        {
          "name": "stdout",
          "output_type": "stream",
          "text": [
            "I'm Brad Anderson\n",
            "I want to meet Brad Pitt\n",
            "(Brad Anderson)-[:DIRECTED {}]->(The Machinist)<-[:ACTED_IN {}]-(Jennifer Jason Leigh)-[:ACTED_IN {}]->(The Hateful Eight)<-[:DIRECTED {}]-(Quentin Tarantino)-[:DIRECTED {}]->(Once Upon a Time... In Hollywood)<-[:ACTED_IN {}]-(Brad Pitt)\n",
            "\n",
            "\n",
            "I'm Charles Chaplin\n",
            "I want to meet Virginia Cherrill\n",
            "(Charles Chaplin)-[:DIRECTED {}]->(City Lights)<-[:ACTED_IN {}]-(Virginia Cherrill)\n",
            "\n",
            "\n"
          ]
        }
      ],
      "source": [
        "def who_be_present(I_AM,I_WANT_TO_MEET):\n",
        "    print(f\"I'm {I_AM}\")\n",
        "    print(f\"I want to meet {I_WANT_TO_MEET}\")\n",
        "    request=\"\"\"\n",
        "    MATCH (cs:Person { name: $pfrom }),(ms:Person { name: $pto }), p = shortestPath((cs)-[:ACTED_IN|DIRECTED*]-(ms))\n",
        "    WHERE length(p)> 1 \n",
        "    RETURN p\n",
        "    \"\"\"\n",
        "    cursor = graph.run(request,pfrom=I_AM,pto=I_WANT_TO_MEET)\n",
        "    while cursor.forward():\n",
        "        print(cursor['p'])\n",
        "    print('\\n')\n",
        "        \n",
        "        \n",
        "I_AM='Brad Anderson'\n",
        "I_WANT_TO_MEET='Brad Pitt'\n",
        "who_be_present(I_AM,I_WANT_TO_MEET)\n",
        "\n",
        "I_AM='Charles Chaplin'\n",
        "I_WANT_TO_MEET='Virginia Cherrill'\n",
        "who_be_present(I_AM,I_WANT_TO_MEET)"
      ]
    },
    {
      "cell_type": "code",
      "execution_count": 97,
      "metadata": {
        "id": "jiXZwikWvy3V"
      },
      "outputs": [
        {
          "name": "stdout",
          "output_type": "stream",
          "text": [
            "    title recommendation     score\n",
            "0  Mirror     Nostalghia  0.558111\n",
            "1  Mirror        Stalker  0.558111\n",
            "2  Mirror  The Sacrifice  0.558111\n",
            "                         title                  recommendation     score\n",
            "0  Once Upon a Time in America  The Good, the Bad and the Ugly  0.621335\n",
            "1  Once Upon a Time in America                     Taxi Driver  0.259730\n",
            "2  Once Upon a Time in America                The Untouchables  0.259730\n",
            "3  Once Upon a Time in America          The Godfather: Part II  0.259730\n",
            "4  Once Upon a Time in America                 The Deer Hunter  0.259730\n",
            "5  Once Upon a Time in America                    The Irishman  0.259730\n",
            "6  Once Upon a Time in America                     Raging Bull  0.259730\n",
            "7  Once Upon a Time in America              The King of Comedy  0.259730\n",
            "8  Once Upon a Time in America         Silver Linings Playbook  0.259730\n",
            "9  Once Upon a Time in America                     The Leopard  0.000000\n"
          ]
        }
      ],
      "source": [
        "request_link_prediction_movie=\"\"\"\n",
        "MATCH (a:Movie {name:$ptitle} )-[*4]-(b:Movie)\n",
        "WHERE a <> b AND a.name < b.name\n",
        "WITH DISTINCT a,b\n",
        "RETURN a.name as title, b.name as recommendation, gds.alpha.linkprediction.adamicAdar(a, b) AS score\n",
        "ORDER BY score DESC\n",
        "LIMIT 10\n",
        "\"\"\"\n",
        "print(graph.run(request_link_prediction_movie,ptitle=\"Mirror\").to_data_frame())\n",
        "print(graph.run(request_link_prediction_movie,ptitle=\"Once Upon a Time in America\").to_data_frame())"
      ]
    },
    {
      "cell_type": "code",
      "execution_count": null,
      "metadata": {},
      "outputs": [],
      "source": []
    }
  ],
  "metadata": {
    "colab": {
      "collapsed_sections": [],
      "name": "GraphAI_CA2",
      "provenance": []
    },
    "kernelspec": {
      "display_name": "Python 3",
      "name": "python3"
    },
    "language_info": {
      "codemirror_mode": {
        "name": "ipython",
        "version": 3
      },
      "file_extension": ".py",
      "mimetype": "text/x-python",
      "name": "python",
      "nbconvert_exporter": "python",
      "pygments_lexer": "ipython3",
      "version": "3.9.7"
    }
  },
  "nbformat": 4,
  "nbformat_minor": 0
}
