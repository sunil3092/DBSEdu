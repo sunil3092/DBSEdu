{
  "cells": [
    {
      "cell_type": "markdown",
      "metadata": {},
      "source": [
        "# Graph And AI - Group Project\n",
        "\n",
        "####    Members\n",
        "1. Sunil Gauda. ID: 10595858\n",
        "2. Abhijith Pr. ID: 10603285\n",
        "3. Kenneth Dsilva ID: 10600644\n"
      ]
    },
    {
      "cell_type": "markdown",
      "metadata": {},
      "source": [
        "### Data Source\n",
        "Link : https://www.kaggle.com/datasets/jillanisofttech/imdb-top-250-eng-movies-dataset"
      ]
    },
    {
      "cell_type": "markdown",
      "metadata": {},
      "source": [
        "#### Business Problem\n",
        "Movies are a daily source of entertainment for people. As the library increases day by day with new releases, we have 8.7 million records in IMDB rated, and it is hard to find the ways to explore that based on personal preferences, that's where the recommendation systems ease our problems, Netflix uses their custom implementaion of graph based recommendation system, and with platforms like Neo4J we have easy and straight forward implementaion of the system.\n",
        "By setting up just 3 simple modules we can load data and have recommendations\n",
        "1. Data Aquisition - Scrapers, API's, CSV's\n",
        "2. Data Processing, Loading and Querying - Python Pipeline\n",
        "3. Data Storage - Neo4j Graph DB"
      ]
    },
    {
      "cell_type": "markdown",
      "metadata": {},
      "source": [
        "#### Basic Imports"
      ]
    },
    {
      "cell_type": "code",
      "execution_count": 1,
      "metadata": {
        "id": "-c_JvTeNNwIo"
      },
      "outputs": [],
      "source": [
        "import pandas as pd\n",
        "from py2neo import Graph\n",
        "import matplotlib.pyplot as plt\n",
        "plt.style.use('seaborn-whitegrid')\n",
        "import time"
      ]
    },
    {
      "cell_type": "markdown",
      "metadata": {},
      "source": [
        "### Data Acquisition"
      ]
    },
    {
      "cell_type": "markdown",
      "metadata": {},
      "source": [
        "#### We are acquiring data from the link below as a CSV\n",
        "Link : https://www.kaggle.com/datasets/jillanisofttech/imdb-top-250-eng-movies-dataset"
      ]
    },
    {
      "cell_type": "code",
      "execution_count": 2,
      "metadata": {
        "colab": {
          "base_uri": "https://localhost:8080/"
        },
        "id": "G-AJdB6X2wtH",
        "outputId": "fa23be5f-4b01-4586-a776-9f9becca0507"
      },
      "outputs": [
        {
          "data": {
            "text/plain": [
              "38"
            ]
          },
          "execution_count": 2,
          "metadata": {},
          "output_type": "execute_result"
        }
      ],
      "source": [
        "googleDrive = False\n",
        "if googleDrive:\n",
        "    # Google Drive link\n",
        "    from google.colab import drive\n",
        "    drive.mount('/content/drive')\n",
        "    df = pd.read_csv(\"/content/drive/MyDrive/IMDB_Top250Engmovies2_OMDB_Detailed.csv\")\n",
        "else:\n",
        "    # Manual Link\n",
        "    df = pd.read_csv('./DataSet/IMDB_Top250Engmovies2_OMDB_Detailed.csv')\n",
        "df.head()\n",
        "len(df.columns)\n",
        "\n"
      ]
    },
    {
      "cell_type": "markdown",
      "metadata": {},
      "source": [
        "#### Data Processing, Loading and Querying"
      ]
    },
    {
      "cell_type": "markdown",
      "metadata": {},
      "source": [
        "##### After we have fetched our data we need to clean in first"
      ]
    },
    {
      "cell_type": "markdown",
      "metadata": {},
      "source": [
        "Required Columns are:\n",
        "\n",
        "* Title - Movie is known for the title.\n",
        "* Year - year it is relased can define preference of customer.\n",
        "* Genre - theme of the movie can narrow down customer preferances, like \"Action Movies of 90's\".\n",
        "* Director - people have favourate directors whos movie they watch regularly.\n",
        "* Writer - writers are the source of story's and one of the major source talent in a movie, without a story there is no movie.\n",
        "* Actors - people have prefferd actors whose move they like to watch regularly.\n",
        "* imdbRating - Rating would define how good the movie is.\n",
        "\n",
        "The Columns that are significant to our use case are kept, further we will Rename and remove other columns as required"
      ]
    },
    {
      "cell_type": "code",
      "execution_count": 3,
      "metadata": {
        "colab": {
          "base_uri": "https://localhost:8080/",
          "height": 367
        },
        "id": "eliM4pSR2eer",
        "outputId": "078eaf49-6ea2-4d6c-ffbb-48d5188ba157"
      },
      "outputs": [
        {
          "data": {
            "text/html": [
              "<div>\n",
              "<style scoped>\n",
              "    .dataframe tbody tr th:only-of-type {\n",
              "        vertical-align: middle;\n",
              "    }\n",
              "\n",
              "    .dataframe tbody tr th {\n",
              "        vertical-align: top;\n",
              "    }\n",
              "\n",
              "    .dataframe thead th {\n",
              "        text-align: right;\n",
              "    }\n",
              "</style>\n",
              "<table border=\"1\" class=\"dataframe\">\n",
              "  <thead>\n",
              "    <tr style=\"text-align: right;\">\n",
              "      <th></th>\n",
              "      <th>Unnamed: 0</th>\n",
              "      <th>Title</th>\n",
              "      <th>Year</th>\n",
              "      <th>Genre</th>\n",
              "      <th>Director</th>\n",
              "      <th>Writer</th>\n",
              "      <th>Actors</th>\n",
              "      <th>imdbRating</th>\n",
              "    </tr>\n",
              "  </thead>\n",
              "  <tbody>\n",
              "    <tr>\n",
              "      <th>0</th>\n",
              "      <td>1</td>\n",
              "      <td>The Shawshank Redemption</td>\n",
              "      <td>1994</td>\n",
              "      <td>Crime, Drama</td>\n",
              "      <td>Frank Darabont</td>\n",
              "      <td>Stephen King (short story \"Rita Hayworth and S...</td>\n",
              "      <td>Tim Robbins, Morgan Freeman, Bob Gunton, Willi...</td>\n",
              "      <td>9.3</td>\n",
              "    </tr>\n",
              "    <tr>\n",
              "      <th>1</th>\n",
              "      <td>2</td>\n",
              "      <td>The Godfather</td>\n",
              "      <td>1972</td>\n",
              "      <td>Crime, Drama</td>\n",
              "      <td>Francis Ford Coppola</td>\n",
              "      <td>Mario Puzo (screenplay), Francis Ford Coppola ...</td>\n",
              "      <td>Marlon Brando, Al Pacino, James Caan, Richard ...</td>\n",
              "      <td>9.2</td>\n",
              "    </tr>\n",
              "    <tr>\n",
              "      <th>2</th>\n",
              "      <td>3</td>\n",
              "      <td>The Godfather: Part II</td>\n",
              "      <td>1974</td>\n",
              "      <td>Crime, Drama</td>\n",
              "      <td>Francis Ford Coppola</td>\n",
              "      <td>Francis Ford Coppola (screenplay), Mario Puzo ...</td>\n",
              "      <td>Al Pacino, Robert Duvall, Diane Keaton, Robert...</td>\n",
              "      <td>9.0</td>\n",
              "    </tr>\n",
              "    <tr>\n",
              "      <th>3</th>\n",
              "      <td>4</td>\n",
              "      <td>The Dark Knight</td>\n",
              "      <td>2008</td>\n",
              "      <td>Action, Crime, Drama</td>\n",
              "      <td>Christopher Nolan</td>\n",
              "      <td>Jonathan Nolan (screenplay), Christopher Nolan...</td>\n",
              "      <td>Christian Bale, Heath Ledger, Aaron Eckhart, M...</td>\n",
              "      <td>9.0</td>\n",
              "    </tr>\n",
              "    <tr>\n",
              "      <th>4</th>\n",
              "      <td>5</td>\n",
              "      <td>12 Angry Men</td>\n",
              "      <td>1957</td>\n",
              "      <td>Crime, Drama</td>\n",
              "      <td>Sidney Lumet</td>\n",
              "      <td>Reginald Rose (story), Reginald Rose (screenplay)</td>\n",
              "      <td>Martin Balsam, John Fiedler, Lee J. Cobb, E.G....</td>\n",
              "      <td>8.9</td>\n",
              "    </tr>\n",
              "  </tbody>\n",
              "</table>\n",
              "</div>"
            ],
            "text/plain": [
              "   Unnamed: 0                     Title  Year                 Genre  \\\n",
              "0           1  The Shawshank Redemption  1994          Crime, Drama   \n",
              "1           2             The Godfather  1972          Crime, Drama   \n",
              "2           3    The Godfather: Part II  1974          Crime, Drama   \n",
              "3           4           The Dark Knight  2008  Action, Crime, Drama   \n",
              "4           5              12 Angry Men  1957          Crime, Drama   \n",
              "\n",
              "               Director                                             Writer  \\\n",
              "0        Frank Darabont  Stephen King (short story \"Rita Hayworth and S...   \n",
              "1  Francis Ford Coppola  Mario Puzo (screenplay), Francis Ford Coppola ...   \n",
              "2  Francis Ford Coppola  Francis Ford Coppola (screenplay), Mario Puzo ...   \n",
              "3     Christopher Nolan  Jonathan Nolan (screenplay), Christopher Nolan...   \n",
              "4          Sidney Lumet  Reginald Rose (story), Reginald Rose (screenplay)   \n",
              "\n",
              "                                              Actors  imdbRating  \n",
              "0  Tim Robbins, Morgan Freeman, Bob Gunton, Willi...         9.3  \n",
              "1  Marlon Brando, Al Pacino, James Caan, Richard ...         9.2  \n",
              "2  Al Pacino, Robert Duvall, Diane Keaton, Robert...         9.0  \n",
              "3  Christian Bale, Heath Ledger, Aaron Eckhart, M...         9.0  \n",
              "4  Martin Balsam, John Fiedler, Lee J. Cobb, E.G....         8.9  "
            ]
          },
          "execution_count": 3,
          "metadata": {},
          "output_type": "execute_result"
        }
      ],
      "source": [
        "cols_to_drop = [3,4,5,10,11,12,13,14,15,16,17,19,20,21,22,23,24,25,26,27,28,29,30,31,32,33,34,35,36,37]\n",
        "df.drop(df.columns[cols_to_drop],axis=1, inplace = True)\n",
        "df.head()\n"
      ]
    },
    {
      "cell_type": "code",
      "execution_count": 4,
      "metadata": {},
      "outputs": [
        {
          "data": {
            "text/plain": [
              "['Unnamed: 0',\n",
              " 'Title',\n",
              " 'Year',\n",
              " 'Genre',\n",
              " 'Director',\n",
              " 'Writer',\n",
              " 'Actors',\n",
              " 'imdbRating']"
            ]
          },
          "execution_count": 4,
          "metadata": {},
          "output_type": "execute_result"
        }
      ],
      "source": [
        "df.columns.to_list()"
      ]
    },
    {
      "cell_type": "code",
      "execution_count": 5,
      "metadata": {
        "colab": {
          "base_uri": "https://localhost:8080/",
          "height": 333
        },
        "id": "aJmINuTxqkS-",
        "outputId": "5f4ae244-a159-414f-f886-8bc4607c846f"
      },
      "outputs": [
        {
          "data": {
            "text/html": [
              "<div>\n",
              "<style scoped>\n",
              "    .dataframe tbody tr th:only-of-type {\n",
              "        vertical-align: middle;\n",
              "    }\n",
              "\n",
              "    .dataframe tbody tr th {\n",
              "        vertical-align: top;\n",
              "    }\n",
              "\n",
              "    .dataframe thead th {\n",
              "        text-align: right;\n",
              "    }\n",
              "</style>\n",
              "<table border=\"1\" class=\"dataframe\">\n",
              "  <thead>\n",
              "    <tr style=\"text-align: right;\">\n",
              "      <th></th>\n",
              "      <th>Index</th>\n",
              "      <th>Title</th>\n",
              "      <th>Year</th>\n",
              "      <th>Genre</th>\n",
              "      <th>Director</th>\n",
              "      <th>Writer</th>\n",
              "      <th>Actors</th>\n",
              "      <th>Rating</th>\n",
              "    </tr>\n",
              "  </thead>\n",
              "  <tbody>\n",
              "    <tr>\n",
              "      <th>0</th>\n",
              "      <td>1</td>\n",
              "      <td>The Shawshank Redemption</td>\n",
              "      <td>1994</td>\n",
              "      <td>Crime, Drama</td>\n",
              "      <td>Frank Darabont</td>\n",
              "      <td>Stephen King (short story \"Rita Hayworth and S...</td>\n",
              "      <td>Tim Robbins, Morgan Freeman, Bob Gunton, Willi...</td>\n",
              "      <td>9.3</td>\n",
              "    </tr>\n",
              "    <tr>\n",
              "      <th>1</th>\n",
              "      <td>2</td>\n",
              "      <td>The Godfather</td>\n",
              "      <td>1972</td>\n",
              "      <td>Crime, Drama</td>\n",
              "      <td>Francis Ford Coppola</td>\n",
              "      <td>Mario Puzo (screenplay), Francis Ford Coppola ...</td>\n",
              "      <td>Marlon Brando, Al Pacino, James Caan, Richard ...</td>\n",
              "      <td>9.2</td>\n",
              "    </tr>\n",
              "    <tr>\n",
              "      <th>2</th>\n",
              "      <td>3</td>\n",
              "      <td>The Godfather: Part II</td>\n",
              "      <td>1974</td>\n",
              "      <td>Crime, Drama</td>\n",
              "      <td>Francis Ford Coppola</td>\n",
              "      <td>Francis Ford Coppola (screenplay), Mario Puzo ...</td>\n",
              "      <td>Al Pacino, Robert Duvall, Diane Keaton, Robert...</td>\n",
              "      <td>9.0</td>\n",
              "    </tr>\n",
              "    <tr>\n",
              "      <th>3</th>\n",
              "      <td>4</td>\n",
              "      <td>The Dark Knight</td>\n",
              "      <td>2008</td>\n",
              "      <td>Action, Crime, Drama</td>\n",
              "      <td>Christopher Nolan</td>\n",
              "      <td>Jonathan Nolan (screenplay), Christopher Nolan...</td>\n",
              "      <td>Christian Bale, Heath Ledger, Aaron Eckhart, M...</td>\n",
              "      <td>9.0</td>\n",
              "    </tr>\n",
              "    <tr>\n",
              "      <th>4</th>\n",
              "      <td>5</td>\n",
              "      <td>12 Angry Men</td>\n",
              "      <td>1957</td>\n",
              "      <td>Crime, Drama</td>\n",
              "      <td>Sidney Lumet</td>\n",
              "      <td>Reginald Rose (story), Reginald Rose (screenplay)</td>\n",
              "      <td>Martin Balsam, John Fiedler, Lee J. Cobb, E.G....</td>\n",
              "      <td>8.9</td>\n",
              "    </tr>\n",
              "  </tbody>\n",
              "</table>\n",
              "</div>"
            ],
            "text/plain": [
              "   Index                     Title  Year                 Genre  \\\n",
              "0      1  The Shawshank Redemption  1994          Crime, Drama   \n",
              "1      2             The Godfather  1972          Crime, Drama   \n",
              "2      3    The Godfather: Part II  1974          Crime, Drama   \n",
              "3      4           The Dark Knight  2008  Action, Crime, Drama   \n",
              "4      5              12 Angry Men  1957          Crime, Drama   \n",
              "\n",
              "               Director                                             Writer  \\\n",
              "0        Frank Darabont  Stephen King (short story \"Rita Hayworth and S...   \n",
              "1  Francis Ford Coppola  Mario Puzo (screenplay), Francis Ford Coppola ...   \n",
              "2  Francis Ford Coppola  Francis Ford Coppola (screenplay), Mario Puzo ...   \n",
              "3     Christopher Nolan  Jonathan Nolan (screenplay), Christopher Nolan...   \n",
              "4          Sidney Lumet  Reginald Rose (story), Reginald Rose (screenplay)   \n",
              "\n",
              "                                              Actors  Rating  \n",
              "0  Tim Robbins, Morgan Freeman, Bob Gunton, Willi...     9.3  \n",
              "1  Marlon Brando, Al Pacino, James Caan, Richard ...     9.2  \n",
              "2  Al Pacino, Robert Duvall, Diane Keaton, Robert...     9.0  \n",
              "3  Christian Bale, Heath Ledger, Aaron Eckhart, M...     9.0  \n",
              "4  Martin Balsam, John Fiedler, Lee J. Cobb, E.G....     8.9  "
            ]
          },
          "execution_count": 5,
          "metadata": {},
          "output_type": "execute_result"
        }
      ],
      "source": [
        "df.rename(columns={'Unnamed: 0':'Index','imdbRating':'Rating'},inplace = True)\n",
        "df.head()"
      ]
    },
    {
      "cell_type": "markdown",
      "metadata": {
        "id": "P3vVTTnoa1zi"
      },
      "source": [
        "## Connection details as per Systems used\n",
        "Note:\n",
        "* Please trun the `isSandbox` flag to `True` before using Neo4j Sandbox\n",
        "* Edit the Credentials for your neo4j Credentials as sandbox stays live for only couple of days"
      ]
    },
    {
      "cell_type": "code",
      "execution_count": 6,
      "metadata": {
        "id": "8abJhvv2LHU5"
      },
      "outputs": [],
      "source": [
        "#Please add your connection details here.\n",
        "isSandbox = False\n",
        "if isSandbox:\n",
        "    ip=\"3.92.182.226\"\n",
        "    port=\"7474\"\n",
        "    pwd=\"particles-arcs-automobile\"\n",
        "    graph = Graph(\"bolt://3.92.182.226:7687\", auth=(\"neo4j\", pwd))\n",
        "else:\n",
        "    pwd=\"root\"\n",
        "    graph = Graph(\"bolt://localhost:7687\", auth=(\"neo4j\", pwd ))\n"
      ]
    },
    {
      "cell_type": "markdown",
      "metadata": {
        "id": "jvmOUET9Sbv-"
      },
      "source": [
        "#### Loding Data\n",
        "The method below has a flag called `LOAD_DATA` which prevents us from writing the preexisting data and increase load on our database with unneccessary load or errors for pre-existing Nodes\n",
        "Note:\n",
        " * Please set the `LOAD_DATA` to `True` for Loading the data for first time"
      ]
    },
    {
      "cell_type": "code",
      "execution_count": 7,
      "metadata": {
        "id": "ftSCTWhtS9bk"
      },
      "outputs": [],
      "source": [
        "LOAD_DATA = False\n",
        "\n",
        "def run_request(request,LOAD_DATA):\n",
        "    if (LOAD_DATA):\n",
        "        start_time = time.time()\n",
        "        print(graph.run(request)) \n",
        "        exec_time = time.time() - start_time\n",
        "        print(f'-- {exec_time} seconds --')"
      ]
    },
    {
      "cell_type": "markdown",
      "metadata": {
        "id": "w3WRiUphR5sB"
      },
      "source": [
        "## Deleting Old Data\n",
        "The method below has a flag called `request_delete` which prevents us from accidently deleting the nodes\n",
        "Note:\n",
        " * Please set the `request_delete` to `True` for Deleting\n",
        " * Keep the `request_delete` to `False` for the rest of the time"
      ]
    },
    {
      "cell_type": "code",
      "execution_count": 8,
      "metadata": {
        "colab": {
          "base_uri": "https://localhost:8080/"
        },
        "id": "hHNCjuzATytB",
        "outputId": "8aaf04cd-6bf0-4215-b663-503f8d7815ef"
      },
      "outputs": [],
      "source": [
        "request_delete =\"\"\"\n",
        "MATCH (n) DETACH DELETE n;\n",
        "\"\"\"\n",
        "run_request(request_delete,LOAD_DATA)"
      ]
    },
    {
      "cell_type": "markdown",
      "metadata": {
        "id": "LO7uSJ3VR9bZ"
      },
      "source": [
        "#### Creating Movies Nodes\n",
        "The First step in creating a Neo4J Graph is to add the data to the DB, as we already have the data ready as a Data Frame, we can just create each node."
      ]
    },
    {
      "cell_type": "code",
      "execution_count": 9,
      "metadata": {
        "colab": {
          "base_uri": "https://localhost:8080/"
        },
        "id": "9riuHmcMT5fC",
        "outputId": "0e00edf4-9262-4af3-d143-e8ce295608e2"
      },
      "outputs": [],
      "source": [
        "# Creating a reqest String \n",
        "request =\"\"\"\n",
        "CREATE (m:Movie {id:$index,name: $Movie_Name})\n",
        "SET \n",
        "m.directors = $director,\n",
        "m.Year = $year, \n",
        "m.rating = $rating,\n",
        "m.cast=$cast,\n",
        "m.writers = $writer,\n",
        "m.genre = $genre\n",
        "\"\"\"\n",
        "start_time = time.time()\n",
        "count=df.shape[0]\n",
        "if (LOAD_DATA):\n",
        "  for index, row in df.iterrows():\n",
        "    graph.run(request,\n",
        "              index=row['Index'],\n",
        "              Movie_Name=row['Title'],\n",
        "              director=None if pd.isnull(row['Director']) else row['Director'],\n",
        "              year= None if pd.isnull(row['Year']) else row['Year'],\n",
        "              rating=None if pd.isnull(row['Rating']) else row['Rating'],          \n",
        "              cast= None if pd.isnull(row['Actors']) else row['Actors'],\n",
        "              writer=None if pd.isnull(row['Writer']) else row['Writer'],\n",
        "              genre = None if pd.isnull(row['Genre']) else row['Genre']\n",
        "              )\n",
        "    if (index%50==0):\n",
        "        exec_time = time.time()- start_time\n",
        "        print(f'{index}/{df.shape[0]} done ... -- {exec_time} seconds --')\n",
        "    \n",
        "  exec_time = time.time()- start_time\n",
        "  print(f' ... End ... -- {exec_time} seconds --') "
      ]
    },
    {
      "cell_type": "markdown",
      "metadata": {},
      "source": [
        "#### Creating relations\n",
        "Its necessary to create relations, that is the basis on which we will setup our recommender system."
      ]
    },
    {
      "cell_type": "markdown",
      "metadata": {
        "id": "9lVwIi5YSSUG"
      },
      "source": [
        "#### Creating Relation between Persons -> Actor"
      ]
    },
    {
      "cell_type": "code",
      "execution_count": 10,
      "metadata": {
        "colab": {
          "base_uri": "https://localhost:8080/"
        },
        "id": "m5FMZ_mJYpoh",
        "outputId": "654d0825-696a-4d8c-a31b-2a5885cf9382"
      },
      "outputs": [],
      "source": [
        "request =\"\"\"\n",
        "MATCH (m:Movie)\n",
        "WHERE m.cast IS NOT NULL\n",
        "WITH m\n",
        "UNWIND split(m.cast, ',') AS actor\n",
        "MERGE (p:Person {name: trim(actor)})\n",
        "MERGE (p)-[r:ACTED_IN]->(m);\n",
        "\"\"\"    \n",
        "run_request(request,LOAD_DATA)"
      ]
    },
    {
      "cell_type": "markdown",
      "metadata": {
        "id": "AwDiGJEESgm8"
      },
      "source": [
        "#### Creating Relation between Person -> Director"
      ]
    },
    {
      "cell_type": "code",
      "execution_count": 11,
      "metadata": {
        "colab": {
          "base_uri": "https://localhost:8080/"
        },
        "id": "dSCmPdUJY7zq",
        "outputId": "a3ddc6da-01ce-4c67-a4cc-d9d4721296de"
      },
      "outputs": [],
      "source": [
        "request =\"\"\" \n",
        "MATCH (m:Movie)\n",
        "WHERE m.directors IS NOT NULL\n",
        "WITH m\n",
        "MERGE (d:Person {name: m.directors})\n",
        "MERGE (d)-[r:DIRECTED]->(m);\n",
        "\"\"\"\n",
        "run_request(request,LOAD_DATA) "
      ]
    },
    {
      "cell_type": "markdown",
      "metadata": {
        "id": "Z5CpxZkWXd99"
      },
      "source": [
        "#### Creating Relation between Movie -> Genre"
      ]
    },
    {
      "cell_type": "code",
      "execution_count": 12,
      "metadata": {
        "colab": {
          "base_uri": "https://localhost:8080/"
        },
        "id": "VKoDbRaZVn-8",
        "outputId": "46c3bccf-890f-458c-9bd9-3ebcc302d3fa"
      },
      "outputs": [],
      "source": [
        "request =\"\"\"    \n",
        "MATCH (m:Movie)\n",
        "WHERE m.genre IS NOT NULL\n",
        "WITH m\n",
        "UNWIND split(m.genre, ',') AS category\n",
        "MERGE (c:Genre {name: trim(category)})\n",
        "MERGE (m)-[r:Genre]->(c);\n",
        "\"\"\"    \n",
        "run_request(request,LOAD_DATA)"
      ]
    },
    {
      "cell_type": "markdown",
      "metadata": {
        "id": "9vacs8HTTJP-"
      },
      "source": [
        "#### Creating Relation between Actor -> Movie <- Actor Relationship"
      ]
    },
    {
      "cell_type": "code",
      "execution_count": 13,
      "metadata": {
        "colab": {
          "base_uri": "https://localhost:8080/"
        },
        "id": "aYanwxGsi4WB",
        "outputId": "518fed24-e41a-45f2-c006-339b09f9f5be"
      },
      "outputs": [],
      "source": [
        "request = \"\"\"\n",
        "MATCH (p:Person)-[rel:ACTED_IN]->(m:Movie)<-[:ACTED_IN]-(p2:Person)\n",
        "MERGE (p)-[r:WORK_WITH]-(p2);\n",
        "\"\"\"\n",
        "run_request(request,LOAD_DATA) "
      ]
    },
    {
      "cell_type": "markdown",
      "metadata": {
        "id": "AyhVhOCfllnC"
      },
      "source": [
        "#### Creating Relations For Year's"
      ]
    },
    {
      "cell_type": "code",
      "execution_count": 14,
      "metadata": {
        "colab": {
          "base_uri": "https://localhost:8080/"
        },
        "id": "ecnJN7w4l3jC",
        "outputId": "b3ed88d0-d0b4-45e1-ae90-8d92a7559db3"
      },
      "outputs": [],
      "source": [
        "request=\"\"\"\n",
        "CREATE INDEX ON :Year(value);\n",
        "\"\"\"\n",
        "run_request(request,LOAD_DATA)"
      ]
    },
    {
      "cell_type": "markdown",
      "metadata": {},
      "source": [
        "`1997` Was the year of first rated movie and `2019` is the last year in our dataset for rated movies"
      ]
    },
    {
      "cell_type": "code",
      "execution_count": 15,
      "metadata": {
        "colab": {
          "base_uri": "https://localhost:8080/"
        },
        "id": "iIOKyR-Rl7hw",
        "outputId": "21b13211-9d69-41b0-ba6e-72aca83c2fb9"
      },
      "outputs": [],
      "source": [
        "request=\"\"\"\n",
        "WITH range(1997, 2019) AS years, range(1,12) AS months\n",
        "FOREACH(year IN years |\n",
        "  CREATE (y:Year {value: year}));\n",
        "\"\"\"\n",
        "run_request(request,LOAD_DATA)"
      ]
    },
    {
      "cell_type": "code",
      "execution_count": 16,
      "metadata": {
        "colab": {
          "base_uri": "https://localhost:8080/"
        },
        "id": "sfp4vykhmAVm",
        "outputId": "64c6a1a5-27ca-4b94-d636-7ae63d45458a"
      },
      "outputs": [],
      "source": [
        "request=\"\"\"\n",
        "MATCH (year:Year)\n",
        "WITH year\n",
        "ORDER BY year.value\n",
        "WITH collect(year) AS years\n",
        "FOREACH(i in RANGE(0, size(years)-2) |\n",
        "    FOREACH(year1 in [years[i]] |\n",
        "        FOREACH(year2 in [years[i+1]] |\n",
        "            MERGE (year1)-[:NEXT]->(year2))));\n",
        "\"\"\"\n",
        "run_request(request,LOAD_DATA)"
      ]
    },
    {
      "cell_type": "code",
      "execution_count": 17,
      "metadata": {
        "colab": {
          "base_uri": "https://localhost:8080/"
        },
        "id": "ex9re8IRmCQN",
        "outputId": "0a44589c-2736-4859-e8b5-12b2bde074ee"
      },
      "outputs": [],
      "source": [
        "request=\"\"\"\n",
        "MATCH (m:Movie)\n",
        "WITH m, m.Year AS y\n",
        "MATCH (year:Year{value:y})\n",
        "MERGE (m)-[:CREATED_ON]->(year)\n",
        "RETURN m,year;\n",
        "\"\"\"\n",
        "run_request(request,LOAD_DATA)"
      ]
    },
    {
      "cell_type": "markdown",
      "metadata": {
        "id": "THzCsSIKufao"
      },
      "source": [
        "## Useful"
      ]
    },
    {
      "cell_type": "code",
      "execution_count": 18,
      "metadata": {
        "colab": {
          "base_uri": "https://localhost:8080/",
          "height": 585
        },
        "id": "pgs_Ca_knSe2",
        "outputId": "4e934600-189b-4af6-c172-487c2a65e241"
      },
      "outputs": [
        {
          "data": {
            "image/png": "[encoded data removed]",
            "text/plain": [
              "<Figure size 720x576 with 1 Axes>"
            ]
          },
          "metadata": {},
          "output_type": "display_data"
        }
      ],
      "source": [
        "result = {\"label\": [], \"count\": []}\n",
        "for label in graph.run(\"CALL db.labels()\").to_series():\n",
        "    query = f\"MATCH (:`{label}`) RETURN count(*) as count\"\n",
        "    count = graph.run(query).to_data_frame().iloc[0]['count']\n",
        "    result[\"label\"].append(label)\n",
        "    result[\"count\"].append(count)\n",
        "nodes_df = pd.DataFrame(data=result)\n",
        "nodes_df.sort_values(\"count\")\n",
        "\n",
        "nodes_df.plot(kind='bar', x='label', y='count', legend=None, title=\"Node Cardinalities\",figsize=(10,8))\n",
        "plt.yscale(\"log\")\n",
        "plt.xticks(rotation=45)\n",
        "plt.tight_layout()\n",
        "plt.show()"
      ]
    },
    {
      "cell_type": "code",
      "execution_count": 19,
      "metadata": {
        "colab": {
          "base_uri": "https://localhost:8080/",
          "height": 585
        },
        "id": "KV670wrRqcJM",
        "outputId": "5ca30f9b-dd2a-44cc-d26a-6ba096385790"
      },
      "outputs": [
        {
          "data": {
            "image/png": "[encoded data removed]",
            "text/plain": [
              "<Figure size 720x576 with 1 Axes>"
            ]
          },
          "metadata": {},
          "output_type": "display_data"
        }
      ],
      "source": [
        "# Relations Ship Cardinalities\n",
        "result = {\"relType\": [], \"count\": []}\n",
        "for relationship_type in graph.run(\"CALL db.relationshipTypes()\").to_series():\n",
        "    query = f\"MATCH ()-[:`{relationship_type}`]->() RETURN count(*) as count\"\n",
        "    count = graph.run(query).to_data_frame().iloc[0]['count']\n",
        "    result[\"relType\"].append(relationship_type)\n",
        "    result[\"count\"].append(count)\n",
        "rels_df = pd.DataFrame(data=result)\n",
        "rels_df.sort_values(\"count\")\n",
        "\n",
        "rels_df.plot(kind='bar', x='relType', y='count', legend=None, title=\"Relationship Cardinalities\",figsize=(10,8))\n",
        "plt.xticks(rotation=45)\n",
        "plt.tight_layout()\n",
        "plt.show()"
      ]
    },
    {
      "cell_type": "code",
      "execution_count": 20,
      "metadata": {
        "colab": {
          "base_uri": "https://localhost:8080/",
          "height": 479
        },
        "id": "0oV17VMCqqSF",
        "outputId": "ac9ddfaa-0f6c-4bc0-f562-862cbf06388a"
      },
      "outputs": [
        {
          "data": {
            "image/png": "[encoded data removed]",
            "text/plain": [
              "<Figure size 720x576 with 1 Axes>"
            ]
          },
          "metadata": {},
          "output_type": "display_data"
        }
      ],
      "source": [
        "request=\"\"\"\n",
        "MATCH (c:Genre)<-[rel:Genre]-(m:Movie)\n",
        "WITH c.name as Genre,count(*) as total\n",
        "RETURN  Genre,total\n",
        "ORDER BY total DESC\n",
        "\"\"\"\n",
        "result = graph.run(request).to_data_frame()\n",
        "result.plot.barh(x='Genre', y='total',figsize=(10,8))\n",
        "plt.show()"
      ]
    },
    {
      "cell_type": "code",
      "execution_count": 21,
      "metadata": {
        "colab": {
          "base_uri": "https://localhost:8080/",
          "height": 204
        },
        "id": "0aBLXSE6vBWh",
        "outputId": "0e210730-36a6-47c9-baeb-1807a0df5887"
      },
      "outputs": [
        {
          "data": {
            "text/html": [
              "<div>\n",
              "<style scoped>\n",
              "    .dataframe tbody tr th:only-of-type {\n",
              "        vertical-align: middle;\n",
              "    }\n",
              "\n",
              "    .dataframe tbody tr th {\n",
              "        vertical-align: top;\n",
              "    }\n",
              "\n",
              "    .dataframe thead th {\n",
              "        text-align: right;\n",
              "    }\n",
              "</style>\n",
              "<table border=\"1\" class=\"dataframe\">\n",
              "  <thead>\n",
              "    <tr style=\"text-align: right;\">\n",
              "      <th></th>\n",
              "      <th>Actor</th>\n",
              "      <th>Movies_Acted_In</th>\n",
              "      <th>Total_Movies</th>\n",
              "    </tr>\n",
              "  </thead>\n",
              "  <tbody>\n",
              "    <tr>\n",
              "      <th>0</th>\n",
              "      <td>Leonardo DiCaprio</td>\n",
              "      <td>[Inception, The Departed, Django Unchained, Th...</td>\n",
              "      <td>8</td>\n",
              "    </tr>\n",
              "    <tr>\n",
              "      <th>1</th>\n",
              "      <td>James Stewart</td>\n",
              "      <td>[It's a Wonderful Life, Rear Window, Vertigo, ...</td>\n",
              "      <td>7</td>\n",
              "    </tr>\n",
              "    <tr>\n",
              "      <th>2</th>\n",
              "      <td>Robert De Niro</td>\n",
              "      <td>[The Godfather: Part II, Goodfellas, Once Upon...</td>\n",
              "      <td>7</td>\n",
              "    </tr>\n",
              "    <tr>\n",
              "      <th>3</th>\n",
              "      <td>Harrison Ford</td>\n",
              "      <td>[Star Wars: Episode V - The Empire Strikes Bac...</td>\n",
              "      <td>7</td>\n",
              "    </tr>\n",
              "    <tr>\n",
              "      <th>4</th>\n",
              "      <td>Tom Hanks</td>\n",
              "      <td>[Forrest Gump, Saving Private Ryan, The Green ...</td>\n",
              "      <td>6</td>\n",
              "    </tr>\n",
              "  </tbody>\n",
              "</table>\n",
              "</div>"
            ],
            "text/plain": [
              "               Actor                                    Movies_Acted_In  \\\n",
              "0  Leonardo DiCaprio  [Inception, The Departed, Django Unchained, Th...   \n",
              "1      James Stewart  [It's a Wonderful Life, Rear Window, Vertigo, ...   \n",
              "2     Robert De Niro  [The Godfather: Part II, Goodfellas, Once Upon...   \n",
              "3      Harrison Ford  [Star Wars: Episode V - The Empire Strikes Bac...   \n",
              "4          Tom Hanks  [Forrest Gump, Saving Private Ryan, The Green ...   \n",
              "\n",
              "   Total_Movies  \n",
              "0             8  \n",
              "1             7  \n",
              "2             7  \n",
              "3             7  \n",
              "4             6  "
            ]
          },
          "execution_count": 21,
          "metadata": {},
          "output_type": "execute_result"
        }
      ],
      "source": [
        "request_top_5_actor=\"\"\"\n",
        "MATCH (p:Person)-[rel:ACTED_IN]->(m:Movie)\n",
        "WITH p,collect(m.name) as movies,count(*) as total\n",
        "RETURN  p.name as Actor, movies As Movies_Acted_In,total As Total_Movies\n",
        "ORDER BY total DESC\n",
        "LIMIT 5\n",
        "\"\"\"\n",
        "graph.run(request_top_5_actor).to_data_frame().head()"
      ]
    },
    {
      "cell_type": "code",
      "execution_count": 22,
      "metadata": {
        "colab": {
          "base_uri": "https://localhost:8080/"
        },
        "id": "0b3YdtLqvH88",
        "outputId": "543204aa-59b6-4d32-c9c2-95afaa0755bf"
      },
      "outputs": [
        {
          "name": "stdout",
          "output_type": "stream",
          "text": [
            "I'm Leonardo DiCaprio\n",
            "I want to meet Brad Pitt\n",
            "(Leonardo DiCaprio)-[:ACTED_IN {}]->(Django Unchained)<-[:ACTED_IN {}]-(Christoph Waltz)-[:ACTED_IN {}]->(Inglourious Basterds)<-[:ACTED_IN {}]-(Brad Pitt)\n",
            "\n",
            "\n",
            "I'm Charles Chaplin\n",
            "I want to meet Virginia Cherrill\n",
            "(Charles Chaplin)-[:DIRECTED {}]->(City Lights)<-[:ACTED_IN {}]-(Virginia Cherrill)\n",
            "\n",
            "\n"
          ]
        }
      ],
      "source": [
        "def who_be_present(I_AM,I_WANT_TO_MEET):\n",
        "    print(f\"I'm {I_AM}\")\n",
        "    print(f\"I want to meet {I_WANT_TO_MEET}\")\n",
        "    request=\"\"\"\n",
        "    MATCH (cs:Person { name: $pfrom }),(ms:Person { name: $pto }), p = shortestPath((cs)-[:ACTED_IN|DIRECTED*]-(ms))\n",
        "    WHERE length(p)> 1 \n",
        "    RETURN p\n",
        "    \"\"\"\n",
        "    cursor = graph.run(request,pfrom=I_AM,pto=I_WANT_TO_MEET)\n",
        "    while cursor.forward():\n",
        "        print(cursor['p'])\n",
        "    print('\\n')\n",
        "        \n",
        "        \n",
        "I_AM='Leonardo DiCaprio'\n",
        "I_WANT_TO_MEET='Brad Pitt'\n",
        "who_be_present(I_AM,I_WANT_TO_MEET)\n",
        "\n",
        "I_AM='Charles Chaplin'\n",
        "I_WANT_TO_MEET='Virginia Cherrill'\n",
        "who_be_present(I_AM,I_WANT_TO_MEET)"
      ]
    },
    {
      "cell_type": "code",
      "execution_count": 39,
      "metadata": {
        "colab": {
          "base_uri": "https://localhost:8080/"
        },
        "id": "jiXZwikWvy3V",
        "outputId": "4007f334-c675-4f25-8089-f71e624e5fc1"
      },
      "outputs": [
        {
          "data": {
            "text/html": [
              "<div>\n",
              "<style scoped>\n",
              "    .dataframe tbody tr th:only-of-type {\n",
              "        vertical-align: middle;\n",
              "    }\n",
              "\n",
              "    .dataframe tbody tr th {\n",
              "        vertical-align: top;\n",
              "    }\n",
              "\n",
              "    .dataframe thead th {\n",
              "        text-align: right;\n",
              "    }\n",
              "</style>\n",
              "<table border=\"1\" class=\"dataframe\">\n",
              "  <thead>\n",
              "    <tr style=\"text-align: right;\">\n",
              "      <th></th>\n",
              "      <th>title</th>\n",
              "      <th>recommendation</th>\n",
              "      <th>score</th>\n",
              "    </tr>\n",
              "  </thead>\n",
              "  <tbody>\n",
              "    <tr>\n",
              "      <th>0</th>\n",
              "      <td>The Lord of the Rings: The Fellowship of the Ring</td>\n",
              "      <td>The Lord of the Rings: The Return of the King</td>\n",
              "      <td>2.627072</td>\n",
              "    </tr>\n",
              "    <tr>\n",
              "      <th>1</th>\n",
              "      <td>The Lord of the Rings: The Fellowship of the Ring</td>\n",
              "      <td>The Lord of the Rings: The Two Towers</td>\n",
              "      <td>2.627072</td>\n",
              "    </tr>\n",
              "    <tr>\n",
              "      <th>2</th>\n",
              "      <td>The Lord of the Rings: The Fellowship of the Ring</td>\n",
              "      <td>The Wizard of Oz</td>\n",
              "      <td>0.573705</td>\n",
              "    </tr>\n",
              "    <tr>\n",
              "      <th>3</th>\n",
              "      <td>The Lord of the Rings: The Fellowship of the Ring</td>\n",
              "      <td>The Princess Bride</td>\n",
              "      <td>0.573705</td>\n",
              "    </tr>\n",
              "    <tr>\n",
              "      <th>4</th>\n",
              "      <td>The Lord of the Rings: The Fellowship of the Ring</td>\n",
              "      <td>The Message</td>\n",
              "      <td>0.440182</td>\n",
              "    </tr>\n",
              "    <tr>\n",
              "      <th>5</th>\n",
              "      <td>The Lord of the Rings: The Fellowship of the Ring</td>\n",
              "      <td>The Revenant</td>\n",
              "      <td>0.440182</td>\n",
              "    </tr>\n",
              "    <tr>\n",
              "      <th>6</th>\n",
              "      <td>The Lord of the Rings: The Fellowship of the Ring</td>\n",
              "      <td>The Martian</td>\n",
              "      <td>0.440182</td>\n",
              "    </tr>\n",
              "    <tr>\n",
              "      <th>7</th>\n",
              "      <td>The Lord of the Rings: The Fellowship of the Ring</td>\n",
              "      <td>The Treasure of the Sierra Madre</td>\n",
              "      <td>0.440182</td>\n",
              "    </tr>\n",
              "    <tr>\n",
              "      <th>8</th>\n",
              "      <td>The Lord of the Rings: The Fellowship of the Ring</td>\n",
              "      <td>The Nightmare Before Christmas</td>\n",
              "      <td>0.328459</td>\n",
              "    </tr>\n",
              "    <tr>\n",
              "      <th>9</th>\n",
              "      <td>The Lord of the Rings: The Fellowship of the Ring</td>\n",
              "      <td>Toy Story</td>\n",
              "      <td>0.245246</td>\n",
              "    </tr>\n",
              "  </tbody>\n",
              "</table>\n",
              "</div>"
            ],
            "text/plain": [
              "                                               title  \\\n",
              "0  The Lord of the Rings: The Fellowship of the Ring   \n",
              "1  The Lord of the Rings: The Fellowship of the Ring   \n",
              "2  The Lord of the Rings: The Fellowship of the Ring   \n",
              "3  The Lord of the Rings: The Fellowship of the Ring   \n",
              "4  The Lord of the Rings: The Fellowship of the Ring   \n",
              "5  The Lord of the Rings: The Fellowship of the Ring   \n",
              "6  The Lord of the Rings: The Fellowship of the Ring   \n",
              "7  The Lord of the Rings: The Fellowship of the Ring   \n",
              "8  The Lord of the Rings: The Fellowship of the Ring   \n",
              "9  The Lord of the Rings: The Fellowship of the Ring   \n",
              "\n",
              "                                  recommendation     score  \n",
              "0  The Lord of the Rings: The Return of the King  2.627072  \n",
              "1          The Lord of the Rings: The Two Towers  2.627072  \n",
              "2                               The Wizard of Oz  0.573705  \n",
              "3                             The Princess Bride  0.573705  \n",
              "4                                    The Message  0.440182  \n",
              "5                                   The Revenant  0.440182  \n",
              "6                                    The Martian  0.440182  \n",
              "7               The Treasure of the Sierra Madre  0.440182  \n",
              "8                 The Nightmare Before Christmas  0.328459  \n",
              "9                                      Toy Story  0.245246  "
            ]
          },
          "execution_count": 39,
          "metadata": {},
          "output_type": "execute_result"
        }
      ],
      "source": [
        "request_link_prediction_movie=\"\"\"\n",
        "MATCH (a:Movie {name:$ptitle} )-[*4]-(b:Movie)\n",
        "WHERE a <> b AND a.name < b.name\n",
        "WITH DISTINCT a,b\n",
        "RETURN a.name as title, b.name as recommendation, gds.alpha.linkprediction.adamicAdar(a, b) AS score\n",
        "ORDER BY score DESC\n",
        "LIMIT 10\n",
        "\"\"\"\n",
        "# The Lord of the Rings: The Fellowship of the Ring\n",
        "recommend_df = graph.run(request_link_prediction_movie,ptitle=\"The Lord of the Rings: The Fellowship of the Ring\").to_data_frame()\n",
        "recommend_df"
      ]
    },
    {
      "cell_type": "code",
      "execution_count": 24,
      "metadata": {},
      "outputs": [
        {
          "data": {
            "text/html": [
              "<div>\n",
              "<style scoped>\n",
              "    .dataframe tbody tr th:only-of-type {\n",
              "        vertical-align: middle;\n",
              "    }\n",
              "\n",
              "    .dataframe tbody tr th {\n",
              "        vertical-align: top;\n",
              "    }\n",
              "\n",
              "    .dataframe thead th {\n",
              "        text-align: right;\n",
              "    }\n",
              "</style>\n",
              "<table border=\"1\" class=\"dataframe\">\n",
              "  <thead>\n",
              "    <tr style=\"text-align: right;\">\n",
              "      <th></th>\n",
              "      <th>title</th>\n",
              "      <th>recommendation</th>\n",
              "      <th>score</th>\n",
              "    </tr>\n",
              "  </thead>\n",
              "  <tbody>\n",
              "    <tr>\n",
              "      <th>0</th>\n",
              "      <td>The Lord of the Rings: The Fellowship of the Ring</td>\n",
              "      <td>The Lord of the Rings: The Return of the King</td>\n",
              "      <td>2.627072</td>\n",
              "    </tr>\n",
              "    <tr>\n",
              "      <th>1</th>\n",
              "      <td>The Lord of the Rings: The Fellowship of the Ring</td>\n",
              "      <td>The Lord of the Rings: The Two Towers</td>\n",
              "      <td>2.627072</td>\n",
              "    </tr>\n",
              "    <tr>\n",
              "      <th>2</th>\n",
              "      <td>The Lord of the Rings: The Fellowship of the Ring</td>\n",
              "      <td>The Wizard of Oz</td>\n",
              "      <td>0.573705</td>\n",
              "    </tr>\n",
              "    <tr>\n",
              "      <th>3</th>\n",
              "      <td>The Lord of the Rings: The Fellowship of the Ring</td>\n",
              "      <td>The Princess Bride</td>\n",
              "      <td>0.573705</td>\n",
              "    </tr>\n",
              "    <tr>\n",
              "      <th>4</th>\n",
              "      <td>The Lord of the Rings: The Fellowship of the Ring</td>\n",
              "      <td>The Message</td>\n",
              "      <td>0.440182</td>\n",
              "    </tr>\n",
              "    <tr>\n",
              "      <th>5</th>\n",
              "      <td>The Lord of the Rings: The Fellowship of the Ring</td>\n",
              "      <td>The Revenant</td>\n",
              "      <td>0.440182</td>\n",
              "    </tr>\n",
              "    <tr>\n",
              "      <th>6</th>\n",
              "      <td>The Lord of the Rings: The Fellowship of the Ring</td>\n",
              "      <td>The Martian</td>\n",
              "      <td>0.440182</td>\n",
              "    </tr>\n",
              "    <tr>\n",
              "      <th>7</th>\n",
              "      <td>The Lord of the Rings: The Fellowship of the Ring</td>\n",
              "      <td>The Treasure of the Sierra Madre</td>\n",
              "      <td>0.440182</td>\n",
              "    </tr>\n",
              "    <tr>\n",
              "      <th>8</th>\n",
              "      <td>The Lord of the Rings: The Fellowship of the Ring</td>\n",
              "      <td>The Nightmare Before Christmas</td>\n",
              "      <td>0.328459</td>\n",
              "    </tr>\n",
              "    <tr>\n",
              "      <th>9</th>\n",
              "      <td>The Lord of the Rings: The Fellowship of the Ring</td>\n",
              "      <td>Toy Story</td>\n",
              "      <td>0.245246</td>\n",
              "    </tr>\n",
              "  </tbody>\n",
              "</table>\n",
              "</div>"
            ],
            "text/plain": [
              "                                               title  \\\n",
              "0  The Lord of the Rings: The Fellowship of the Ring   \n",
              "1  The Lord of the Rings: The Fellowship of the Ring   \n",
              "2  The Lord of the Rings: The Fellowship of the Ring   \n",
              "3  The Lord of the Rings: The Fellowship of the Ring   \n",
              "4  The Lord of the Rings: The Fellowship of the Ring   \n",
              "5  The Lord of the Rings: The Fellowship of the Ring   \n",
              "6  The Lord of the Rings: The Fellowship of the Ring   \n",
              "7  The Lord of the Rings: The Fellowship of the Ring   \n",
              "8  The Lord of the Rings: The Fellowship of the Ring   \n",
              "9  The Lord of the Rings: The Fellowship of the Ring   \n",
              "\n",
              "                                  recommendation     score  \n",
              "0  The Lord of the Rings: The Return of the King  2.627072  \n",
              "1          The Lord of the Rings: The Two Towers  2.627072  \n",
              "2                               The Wizard of Oz  0.573705  \n",
              "3                             The Princess Bride  0.573705  \n",
              "4                                    The Message  0.440182  \n",
              "5                                   The Revenant  0.440182  \n",
              "6                                    The Martian  0.440182  \n",
              "7               The Treasure of the Sierra Madre  0.440182  \n",
              "8                 The Nightmare Before Christmas  0.328459  \n",
              "9                                      Toy Story  0.245246  "
            ]
          },
          "execution_count": 24,
          "metadata": {},
          "output_type": "execute_result"
        }
      ],
      "source": [
        "request_link_prediction_movie=\"\"\"\n",
        "MATCH (a:Movie {name:$ptitle} )-[*4]-(b:Movie)\n",
        "WHERE a <> b AND a.name < b.name\n",
        "WITH DISTINCT a,b\n",
        "RETURN a.name as title, b.name as recommendation, gds.alpha.linkprediction.adamicAdar(a, b) AS score\n",
        "ORDER BY score DESC\n",
        "LIMIT 10\n",
        "\"\"\"\n",
        "recommend_df = graph.run(request_link_prediction_movie,ptitle=\"The Lord of the Rings: The Fellowship of the Ring\").to_data_frame()\n",
        "recommend_df"
      ]
    },
    {
      "cell_type": "code",
      "execution_count": 25,
      "metadata": {
        "id": "ep-F9VSGxwAg"
      },
      "outputs": [
        {
          "name": "stdout",
          "output_type": "stream",
          "text": [
            "                                      nodeProjection  \\\n",
            "0  {'Person': {'label': 'Person', 'properties': {}}}   \n",
            "\n",
            "                              relationshipProjection            graphName  \\\n",
            "0  {'DIRECTED': {'orientation': 'NATURAL', 'aggre...  MovieDirectedGraphy   \n",
            "\n",
            "   nodeCount  relationshipCount  createMillis  \n",
            "0        917                  0           611  \n"
          ]
        }
      ],
      "source": [
        "named_graph=\"\"\"\n",
        "CALL gds.graph.create(\n",
        "  'MovieDirectedGraphy',\n",
        "  'Person',\n",
        "  'DIRECTED'\n",
        ");\n",
        "\"\"\"\n",
        "print(graph.run(named_graph).to_data_frame())"
      ]
    },
    {
      "cell_type": "code",
      "execution_count": 26,
      "metadata": {},
      "outputs": [
        {
          "name": "stdout",
          "output_type": "stream",
          "text": [
            "                                      nodeProjection  \\\n",
            "0  {'Person': {'label': 'Person', 'properties': {}}}   \n",
            "\n",
            "                              relationshipProjection        graphName  \\\n",
            "0  {'ACTED_IN': {'orientation': 'NATURAL', 'aggre...  MovieActedGraph   \n",
            "\n",
            "   nodeCount  relationshipCount  createMillis  \n",
            "0        917                  0            39  \n"
          ]
        }
      ],
      "source": [
        "named_graph=\"\"\"\n",
        "CALL gds.graph.create(\n",
        "  'MovieActedGraph',\n",
        "  'Person',\n",
        "  'ACTED_IN'\n",
        ");\n",
        "\"\"\"\n",
        "print(graph.run(named_graph).to_data_frame())"
      ]
    },
    {
      "cell_type": "code",
      "execution_count": 27,
      "metadata": {},
      "outputs": [
        {
          "name": "stdout",
          "output_type": "stream",
          "text": [
            "                                      nodeProjection  \\\n",
            "0  {'Person': {'label': 'Person', 'properties': {}}}   \n",
            "\n",
            "                              relationshipProjection       graphName  \\\n",
            "0  {'WORK_WITH': {'orientation': 'NATURAL', 'aggr...  MovieWorkGraph   \n",
            "\n",
            "   nodeCount  relationshipCount  createMillis  \n",
            "0        917               1454            63  \n"
          ]
        }
      ],
      "source": [
        "named_graphWrk=\"\"\"\n",
        "CALL gds.graph.create(\n",
        "  'MovieWorkGraph',\n",
        "  'Person',\n",
        "  'WORK_WITH'\n",
        ");\n",
        "\"\"\"\n",
        "print(graph.run(named_graphWrk).to_data_frame())"
      ]
    },
    {
      "cell_type": "code",
      "execution_count": 28,
      "metadata": {},
      "outputs": [
        {
          "name": "stdout",
          "output_type": "stream",
          "text": [
            "   nodePropertiesWritten  ranIterations\n",
            "0                    917              1\n"
          ]
        }
      ],
      "source": [
        "page_rank=\"\"\"\n",
        "CALL gds.pageRank.write('MovieDirectedGraphy', {\n",
        "  maxIterations: 20,\n",
        "  dampingFactor: 0.85,\n",
        "  writeProperty: 'pagerank'\n",
        "})\n",
        "YIELD nodePropertiesWritten, ranIterations;\n",
        "\"\"\"\n",
        "print(graph.run(page_rank).to_data_frame())"
      ]
    },
    {
      "cell_type": "code",
      "execution_count": 29,
      "metadata": {},
      "outputs": [
        {
          "name": "stdout",
          "output_type": "stream",
          "text": [
            "   nodePropertiesWritten  ranIterations\n",
            "0                    917              1\n"
          ]
        }
      ],
      "source": [
        "page_rank=\"\"\"\n",
        "CALL gds.pageRank.write('MovieActedGraph', {\n",
        "  maxIterations: 20,\n",
        "  dampingFactor: 0.85,\n",
        "  writeProperty: 'pagerank'\n",
        "})\n",
        "YIELD nodePropertiesWritten, ranIterations;\n",
        "\"\"\"\n",
        "print(graph.run(page_rank).to_data_frame())"
      ]
    },
    {
      "cell_type": "code",
      "execution_count": 30,
      "metadata": {},
      "outputs": [
        {
          "name": "stdout",
          "output_type": "stream",
          "text": [
            "   nodes writeProperty\n",
            "0    917      ActClose\n"
          ]
        }
      ],
      "source": [
        "closeness_act=\"\"\"\n",
        "CALL gds.alpha.closeness.write({\n",
        "  nodeProjection: 'Person',\n",
        "  relationshipProjection: 'WORK_WITH',\n",
        "  writeProperty: 'ActClose'\n",
        "}) YIELD nodes, writeProperty;\n",
        "\"\"\"\n",
        "print(graph.run(closeness_act).to_data_frame())"
      ]
    },
    {
      "cell_type": "code",
      "execution_count": 31,
      "metadata": {},
      "outputs": [],
      "source": [
        "community_detect=\"\"\"\n",
        "CALL gds.labelPropagation.stream('MovieWorkGraph')\n",
        "YIELD nodeId, communityId AS Community\n",
        "RETURN gds.util.asNode(nodeId).name AS Name, Community\n",
        "ORDER BY Community, Name\n",
        "\"\"\"\n",
        "com_val = graph.run(community_detect).to_data_frame()"
      ]
    },
    {
      "cell_type": "code",
      "execution_count": 32,
      "metadata": {},
      "outputs": [],
      "source": [
        "community_detect=\"\"\"\n",
        "CALL gds.labelPropagation.stream('MovieDirectedGraphy')\n",
        "YIELD nodeId, communityId AS Community\n",
        "RETURN gds.util.asNode(nodeId).name AS Name, Community\n",
        "ORDER BY Community, Name\n",
        "\"\"\"\n",
        "com_val = graph.run(community_detect).to_data_frame()"
      ]
    },
    {
      "cell_type": "code",
      "execution_count": 33,
      "metadata": {},
      "outputs": [
        {
          "data": {
            "text/plain": [
              "917"
            ]
          },
          "execution_count": 33,
          "metadata": {},
          "output_type": "execute_result"
        }
      ],
      "source": [
        "len(com_val)"
      ]
    },
    {
      "cell_type": "code",
      "execution_count": 34,
      "metadata": {},
      "outputs": [
        {
          "name": "stdout",
          "output_type": "stream",
          "text": [
            "                                  nodeProjection  \\\n",
            "0  {'Year': {'label': 'Year', 'properties': {}}}   \n",
            "\n",
            "                              relationshipProjection  graphName  nodeCount  \\\n",
            "0  {'CREATED_ON': {'orientation': 'NATURAL', 'agg...  MovieYear         23   \n",
            "\n",
            "   relationshipCount  createMillis  \n",
            "0                  0            21  \n"
          ]
        }
      ],
      "source": [
        "created_on_graph=\"\"\"\n",
        "CALL gds.graph.create(\n",
        "  'MovieYear',\n",
        "  'Year',\n",
        "  'CREATED_ON'\n",
        ");\n",
        "\"\"\"\n",
        "print(graph.run(created_on_graph).to_data_frame())"
      ]
    },
    {
      "cell_type": "code",
      "execution_count": 35,
      "metadata": {},
      "outputs": [],
      "source": [
        "year_community_detect=\"\"\"\n",
        "CALL gds.labelPropagation.stream('MovieYear')\n",
        "YIELD nodeId, communityId AS Community\n",
        "RETURN gds.util.asNode(nodeId).name AS Name, Community\n",
        "ORDER BY Community, Name\n",
        "\"\"\"\n",
        "com_val = graph.run(year_community_detect).to_data_frame()"
      ]
    },
    {
      "cell_type": "code",
      "execution_count": 36,
      "metadata": {},
      "outputs": [
        {
          "data": {
            "text/plain": [
              "<bound method DataFrame.drop_duplicates of     Name  Community\n",
              "0   None       1188\n",
              "1   None       1189\n",
              "2   None       1190\n",
              "3   None       1191\n",
              "4   None       1192\n",
              "5   None       1193\n",
              "6   None       1194\n",
              "7   None       1195\n",
              "8   None       1196\n",
              "9   None       1197\n",
              "10  None       1198\n",
              "11  None       1199\n",
              "12  None       1200\n",
              "13  None       1201\n",
              "14  None       1202\n",
              "15  None       1203\n",
              "16  None       1204\n",
              "17  None       1205\n",
              "18  None       1206\n",
              "19  None       1207\n",
              "20  None       1208\n",
              "21  None       1209\n",
              "22  None       1210>"
            ]
          },
          "execution_count": 36,
          "metadata": {},
          "output_type": "execute_result"
        }
      ],
      "source": [
        "com_val.drop_duplicates"
      ]
    },
    {
      "cell_type": "code",
      "execution_count": 37,
      "metadata": {},
      "outputs": [
        {
          "data": {
            "text/html": [
              "<div>\n",
              "<style scoped>\n",
              "    .dataframe tbody tr th:only-of-type {\n",
              "        vertical-align: middle;\n",
              "    }\n",
              "\n",
              "    .dataframe tbody tr th {\n",
              "        vertical-align: top;\n",
              "    }\n",
              "\n",
              "    .dataframe thead th {\n",
              "        text-align: right;\n",
              "    }\n",
              "</style>\n",
              "<table border=\"1\" class=\"dataframe\">\n",
              "  <thead>\n",
              "    <tr style=\"text-align: right;\">\n",
              "      <th></th>\n",
              "      <th>Name</th>\n",
              "      <th>Community</th>\n",
              "    </tr>\n",
              "  </thead>\n",
              "  <tbody>\n",
              "    <tr>\n",
              "      <th>0</th>\n",
              "      <td>None</td>\n",
              "      <td>1188</td>\n",
              "    </tr>\n",
              "    <tr>\n",
              "      <th>1</th>\n",
              "      <td>None</td>\n",
              "      <td>1189</td>\n",
              "    </tr>\n",
              "    <tr>\n",
              "      <th>2</th>\n",
              "      <td>None</td>\n",
              "      <td>1190</td>\n",
              "    </tr>\n",
              "    <tr>\n",
              "      <th>3</th>\n",
              "      <td>None</td>\n",
              "      <td>1191</td>\n",
              "    </tr>\n",
              "    <tr>\n",
              "      <th>4</th>\n",
              "      <td>None</td>\n",
              "      <td>1192</td>\n",
              "    </tr>\n",
              "    <tr>\n",
              "      <th>5</th>\n",
              "      <td>None</td>\n",
              "      <td>1193</td>\n",
              "    </tr>\n",
              "    <tr>\n",
              "      <th>6</th>\n",
              "      <td>None</td>\n",
              "      <td>1194</td>\n",
              "    </tr>\n",
              "    <tr>\n",
              "      <th>7</th>\n",
              "      <td>None</td>\n",
              "      <td>1195</td>\n",
              "    </tr>\n",
              "    <tr>\n",
              "      <th>8</th>\n",
              "      <td>None</td>\n",
              "      <td>1196</td>\n",
              "    </tr>\n",
              "    <tr>\n",
              "      <th>9</th>\n",
              "      <td>None</td>\n",
              "      <td>1197</td>\n",
              "    </tr>\n",
              "    <tr>\n",
              "      <th>10</th>\n",
              "      <td>None</td>\n",
              "      <td>1198</td>\n",
              "    </tr>\n",
              "    <tr>\n",
              "      <th>11</th>\n",
              "      <td>None</td>\n",
              "      <td>1199</td>\n",
              "    </tr>\n",
              "    <tr>\n",
              "      <th>12</th>\n",
              "      <td>None</td>\n",
              "      <td>1200</td>\n",
              "    </tr>\n",
              "    <tr>\n",
              "      <th>13</th>\n",
              "      <td>None</td>\n",
              "      <td>1201</td>\n",
              "    </tr>\n",
              "    <tr>\n",
              "      <th>14</th>\n",
              "      <td>None</td>\n",
              "      <td>1202</td>\n",
              "    </tr>\n",
              "    <tr>\n",
              "      <th>15</th>\n",
              "      <td>None</td>\n",
              "      <td>1203</td>\n",
              "    </tr>\n",
              "    <tr>\n",
              "      <th>16</th>\n",
              "      <td>None</td>\n",
              "      <td>1204</td>\n",
              "    </tr>\n",
              "    <tr>\n",
              "      <th>17</th>\n",
              "      <td>None</td>\n",
              "      <td>1205</td>\n",
              "    </tr>\n",
              "    <tr>\n",
              "      <th>18</th>\n",
              "      <td>None</td>\n",
              "      <td>1206</td>\n",
              "    </tr>\n",
              "    <tr>\n",
              "      <th>19</th>\n",
              "      <td>None</td>\n",
              "      <td>1207</td>\n",
              "    </tr>\n",
              "    <tr>\n",
              "      <th>20</th>\n",
              "      <td>None</td>\n",
              "      <td>1208</td>\n",
              "    </tr>\n",
              "    <tr>\n",
              "      <th>21</th>\n",
              "      <td>None</td>\n",
              "      <td>1209</td>\n",
              "    </tr>\n",
              "    <tr>\n",
              "      <th>22</th>\n",
              "      <td>None</td>\n",
              "      <td>1210</td>\n",
              "    </tr>\n",
              "  </tbody>\n",
              "</table>\n",
              "</div>"
            ],
            "text/plain": [
              "    Name  Community\n",
              "0   None       1188\n",
              "1   None       1189\n",
              "2   None       1190\n",
              "3   None       1191\n",
              "4   None       1192\n",
              "5   None       1193\n",
              "6   None       1194\n",
              "7   None       1195\n",
              "8   None       1196\n",
              "9   None       1197\n",
              "10  None       1198\n",
              "11  None       1199\n",
              "12  None       1200\n",
              "13  None       1201\n",
              "14  None       1202\n",
              "15  None       1203\n",
              "16  None       1204\n",
              "17  None       1205\n",
              "18  None       1206\n",
              "19  None       1207\n",
              "20  None       1208\n",
              "21  None       1209\n",
              "22  None       1210"
            ]
          },
          "execution_count": 37,
          "metadata": {},
          "output_type": "execute_result"
        }
      ],
      "source": [
        "com_val"
      ]
    },
    {
      "cell_type": "code",
      "execution_count": null,
      "metadata": {},
      "outputs": [],
      "source": []
    }
  ],
  "metadata": {
    "colab": {
      "collapsed_sections": [
        "jvmOUET9Sbv-",
        "w3WRiUphR5sB"
      ],
      "name": "GraphAI_CA2",
      "provenance": []
    },
    "kernelspec": {
      "display_name": "Python 3",
      "name": "python3"
    },
    "language_info": {
      "codemirror_mode": {
        "name": "ipython",
        "version": 3
      },
      "file_extension": ".py",
      "mimetype": "text/x-python",
      "name": "python",
      "nbconvert_exporter": "python",
      "pygments_lexer": "ipython3",
      "version": "3.9.7"
    }
  },
  "nbformat": 4,
  "nbformat_minor": 0
}
