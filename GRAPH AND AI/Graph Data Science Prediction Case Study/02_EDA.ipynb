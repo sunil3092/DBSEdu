{
 "cells": [
  {
   "cell_type": "markdown",
   "metadata": {
    "colab_type": "text",
    "id": "puVyd8N9Ia7o"
   },
   "source": [
    "# Exploratory Data Analysis\n",
    "\n",
    "In this notebook we're going to explore the citation dataset that we we imported in the previous notebook. As with the previous notebook let's install and import py2neo and pandas. We'll also install matplotlib to create some charts showing us the shape of the data."
   ]
  },
  {
   "cell_type": "code",
   "execution_count": 1,
   "metadata": {
    "colab": {},
    "colab_type": "code",
    "id": "7IPLJCJ0Ia7w"
   },
   "outputs": [
    {
     "name": "stdout",
     "output_type": "stream",
     "text": [
      "Requirement already satisfied: py2neo in c:\\users\\terhoare\\anaconda3\\lib\\site-packages (2021.0.1)\n",
      "Requirement already satisfied: pandas in c:\\users\\terhoare\\anaconda3\\lib\\site-packages (1.1.3)\n",
      "Requirement already satisfied: matplotlib in c:\\users\\terhoare\\anaconda3\\lib\\site-packages (3.3.2)\n",
      "Requirement already satisfied: cryptography in c:\\users\\terhoare\\anaconda3\\lib\\site-packages (from py2neo) (3.1.1)\n",
      "Requirement already satisfied: monotonic in c:\\users\\terhoare\\anaconda3\\lib\\site-packages (from py2neo) (1.5)\n",
      "Requirement already satisfied: english in c:\\users\\terhoare\\anaconda3\\lib\\site-packages (from py2neo) (2020.7.0)\n",
      "Requirement already satisfied: certifi in c:\\users\\terhoare\\anaconda3\\lib\\site-packages (from py2neo) (2020.6.20)\n",
      "Requirement already satisfied: pytz in c:\\users\\terhoare\\anaconda3\\lib\\site-packages (from py2neo) (2020.1)\n",
      "Requirement already satisfied: packaging in c:\\users\\terhoare\\anaconda3\\lib\\site-packages (from py2neo) (20.4)\n",
      "Requirement already satisfied: docker in c:\\users\\terhoare\\anaconda3\\lib\\site-packages (from py2neo) (4.4.4)\n",
      "Requirement already satisfied: six>=1.15.0 in c:\\users\\terhoare\\anaconda3\\lib\\site-packages (from py2neo) (1.15.0)\n",
      "Requirement already satisfied: pansi>=2020.7.3 in c:\\users\\terhoare\\anaconda3\\lib\\site-packages (from py2neo) (2020.7.3)\n",
      "Requirement already satisfied: urllib3 in c:\\users\\terhoare\\anaconda3\\lib\\site-packages (from py2neo) (1.25.11)\n",
      "Requirement already satisfied: pygments>=2.0.0 in c:\\users\\terhoare\\anaconda3\\lib\\site-packages (from py2neo) (2.7.2)\n",
      "Requirement already satisfied: neotime~=1.7.4 in c:\\users\\terhoare\\anaconda3\\lib\\site-packages (from py2neo) (1.7.4)\n",
      "Requirement already satisfied: prompt-toolkit~=2.0.7 in c:\\users\\terhoare\\anaconda3\\lib\\site-packages (from py2neo) (2.0.10)\n",
      "Requirement already satisfied: python-dateutil>=2.7.3 in c:\\users\\terhoare\\anaconda3\\lib\\site-packages (from pandas) (2.8.1)\n",
      "Requirement already satisfied: numpy>=1.15.4 in c:\\users\\terhoare\\anaconda3\\lib\\site-packages (from pandas) (1.19.2)\n",
      "Requirement already satisfied: cycler>=0.10 in c:\\users\\terhoare\\anaconda3\\lib\\site-packages (from matplotlib) (0.10.0)\n",
      "Requirement already satisfied: kiwisolver>=1.0.1 in c:\\users\\terhoare\\anaconda3\\lib\\site-packages (from matplotlib) (1.3.0)\n",
      "Requirement already satisfied: pyparsing!=2.0.4,!=2.1.2,!=2.1.6,>=2.0.3 in c:\\users\\terhoare\\anaconda3\\lib\\site-packages (from matplotlib) (2.4.7)\n",
      "Requirement already satisfied: pillow>=6.2.0 in c:\\users\\terhoare\\anaconda3\\lib\\site-packages (from matplotlib) (8.0.1)\n",
      "Requirement already satisfied: cffi!=1.11.3,>=1.8 in c:\\users\\terhoare\\anaconda3\\lib\\site-packages (from cryptography->py2neo) (1.14.3)\n",
      "Requirement already satisfied: requests!=2.18.0,>=2.14.2 in c:\\users\\terhoare\\anaconda3\\lib\\site-packages (from docker->py2neo) (2.24.0)\n",
      "Requirement already satisfied: websocket-client>=0.32.0 in c:\\users\\terhoare\\anaconda3\\lib\\site-packages (from docker->py2neo) (0.58.0)\n",
      "Requirement already satisfied: pywin32==227; sys_platform == \"win32\" in c:\\users\\terhoare\\anaconda3\\lib\\site-packages (from docker->py2neo) (227)\n",
      "Requirement already satisfied: wcwidth in c:\\users\\terhoare\\anaconda3\\lib\\site-packages (from prompt-toolkit~=2.0.7->py2neo) (0.2.5)\n",
      "Requirement already satisfied: pycparser in c:\\users\\terhoare\\anaconda3\\lib\\site-packages (from cffi!=1.11.3,>=1.8->cryptography->py2neo) (2.20)\n",
      "Requirement already satisfied: idna<3,>=2.5 in c:\\users\\terhoare\\anaconda3\\lib\\site-packages (from requests!=2.18.0,>=2.14.2->docker->py2neo) (2.10)\n",
      "Requirement already satisfied: chardet<4,>=3.0.2 in c:\\users\\terhoare\\anaconda3\\lib\\site-packages (from requests!=2.18.0,>=2.14.2->docker->py2neo) (3.0.4)\n"
     ]
    }
   ],
   "source": [
    "!pip install py2neo pandas matplotlib"
   ]
  },
  {
   "cell_type": "markdown",
   "metadata": {
    "colab_type": "text",
    "id": "NhXqyMs-Ia70"
   },
   "source": [
    "And let's import those libraries:"
   ]
  },
  {
   "cell_type": "code",
   "execution_count": 2,
   "metadata": {
    "colab": {},
    "colab_type": "code",
    "id": "xSA_HV0DIa71"
   },
   "outputs": [],
   "source": [
    "from py2neo import Graph\n",
    "import pandas as pd\n",
    "\n",
    "import matplotlib \n",
    "import matplotlib.pyplot as plt\n",
    "\n",
    "plt.style.use('fivethirtyeight')\n",
    "pd.set_option('display.float_format', lambda x: '%.3f' % x)"
   ]
  },
  {
   "cell_type": "markdown",
   "metadata": {
    "colab_type": "text",
    "id": "Wls3Fs7pIa75"
   },
   "source": [
    "\n",
    "Update the cell below with the same Sandbox credentials that you used in the first notebook:"
   ]
  },
  {
   "cell_type": "code",
   "execution_count": 3,
   "metadata": {
    "colab": {},
    "colab_type": "code",
    "id": "mIGPSDEKIa76"
   },
   "outputs": [],
   "source": [
    "# Change the line of code below to use the IP Address, Bolt Port, and Password of your Sandbox.\n",
    "# graph = Graph(\"bolt://<IP Address>:<Bolt Port>\", auth=(\"neo4j\", \"<Password>\")) \n",
    "\n",
    "# graph = Graph(\"bolt://18.234.168.45:33679\", auth=(\"neo4j\", \"daybreak-cosal-rumbles\")) \n",
    "graph = Graph(\"bolt://localhost\", auth=(\"neo4j\", \"neo\")) "
   ]
  },
  {
   "cell_type": "markdown",
   "metadata": {
    "colab_type": "text",
    "id": "65EGO8yuIa7-"
   },
   "source": [
    "## What's in our database?\n",
    "\n",
    "Now we can run the following query to check how many nodes our database contains:"
   ]
  },
  {
   "cell_type": "code",
   "execution_count": 6,
   "metadata": {
    "colab": {},
    "colab_type": "code",
    "id": "-AbQJHn7Ia7_",
    "outputId": "5b0c90ea-1523-4cc8-bc24-f0e5fdfd8ba1"
   },
   "outputs": [
    {
     "data": {
      "text/plain": [
       "[{'nodes': [Node('Venue', constraints=[\"Constraint( id=6, name='constraint_ae6d9b7b', type='UNIQUENESS', schema=(:Venue {name}), ownedIndex=5 )\"], indexes=[], name='Venue'),\n",
       "   Node('Article', constraints=[\"Constraint( id=2, name='constraint_2e688049', type='UNIQUENESS', schema=(:Article {index}), ownedIndex=1 )\"], indexes=[], name='Article'),\n",
       "   Node('Author', constraints=[\"Constraint( id=4, name='constraint_293d3e9e', type='UNIQUENESS', schema=(:Author {name}), ownedIndex=3 )\"], indexes=[], name='Author')],\n",
       "  'relationships': [VENUE(Node(), Node()),\n",
       "   AUTHOR(Node(), Node()),\n",
       "   CITED(Node(), Node())]}]"
      ]
     },
     "execution_count": 6,
     "metadata": {},
     "output_type": "execute_result"
    }
   ],
   "source": [
    "graph.run(\"CALL db.schema.visualization()\").data()"
   ]
  },
  {
   "cell_type": "markdown",
   "metadata": {
    "colab_type": "text",
    "id": "_OS2SBaPIa8G"
   },
   "source": [
    "If we run that query in the Neo4j Browser, we'll see the following visualisation:\n",
    "\n",
    "<img src=\"https://github.com/mneedham/data-science-training/blob/master/images/data-science-training.png?raw=1\" alt=\"Graph Data Model\"/>\n"
   ]
  },
  {
   "cell_type": "markdown",
   "metadata": {
    "colab_type": "text",
    "id": "wUFE6npjIa8H"
   },
   "source": [
    "Let's drill down a bit. How many nodes do we have for each of these labels?"
   ]
  },
  {
   "cell_type": "code",
   "execution_count": 7,
   "metadata": {
    "colab": {},
    "colab_type": "code",
    "id": "zBew9RbLIa8I",
    "outputId": "d974582d-a95f-4d4e-ef14-d7f4df8d14b7"
   },
   "outputs": [
    {
     "data": {
      "text/html": [
       "<div>\n",
       "<style scoped>\n",
       "    .dataframe tbody tr th:only-of-type {\n",
       "        vertical-align: middle;\n",
       "    }\n",
       "\n",
       "    .dataframe tbody tr th {\n",
       "        vertical-align: top;\n",
       "    }\n",
       "\n",
       "    .dataframe thead th {\n",
       "        text-align: right;\n",
       "    }\n",
       "</style>\n",
       "<table border=\"1\" class=\"dataframe\">\n",
       "  <thead>\n",
       "    <tr style=\"text-align: right;\">\n",
       "      <th></th>\n",
       "      <th>label</th>\n",
       "      <th>count</th>\n",
       "    </tr>\n",
       "  </thead>\n",
       "  <tbody>\n",
       "    <tr>\n",
       "      <th>2</th>\n",
       "      <td>Venue</td>\n",
       "      <td>4</td>\n",
       "    </tr>\n",
       "    <tr>\n",
       "      <th>1</th>\n",
       "      <td>Author</td>\n",
       "      <td>80299</td>\n",
       "    </tr>\n",
       "    <tr>\n",
       "      <th>0</th>\n",
       "      <td>Article</td>\n",
       "      <td>184313</td>\n",
       "    </tr>\n",
       "  </tbody>\n",
       "</table>\n",
       "</div>"
      ],
      "text/plain": [
       "     label   count\n",
       "2    Venue       4\n",
       "1   Author   80299\n",
       "0  Article  184313"
      ]
     },
     "execution_count": 7,
     "metadata": {},
     "output_type": "execute_result"
    }
   ],
   "source": [
    "result = {\"label\": [], \"count\": []}\n",
    "for label in graph.run(\"CALL db.labels()\").to_series():\n",
    "    query = f\"MATCH (:`{label}`) RETURN count(*) as count\"\n",
    "    count = graph.run(query).to_data_frame().iloc[0]['count']\n",
    "    result[\"label\"].append(label)\n",
    "    result[\"count\"].append(count)\n",
    "nodes_df = pd.DataFrame(data=result)\n",
    "nodes_df.sort_values(\"count\")"
   ]
  },
  {
   "cell_type": "markdown",
   "metadata": {
    "colab_type": "text",
    "id": "Bi1DDoF3Ia8M"
   },
   "source": [
    "We can visualize this counts using matplotlib with the following code:"
   ]
  },
  {
   "cell_type": "code",
   "execution_count": 8,
   "metadata": {
    "colab": {},
    "colab_type": "code",
    "id": "yJNt43buIa8N",
    "outputId": "c8277628-8481-48d5-8464-93a3f9b49058"
   },
   "outputs": [
    {
     "data": {
      "image/png": "[encoded data removed]",
      "text/plain": [
       "<Figure size 432x288 with 1 Axes>"
      ]
     },
     "metadata": {},
     "output_type": "display_data"
    }
   ],
   "source": [
    "nodes_df.plot(kind='bar', x='label', y='count', legend=None, title=\"Node Cardinalities\")\n",
    "plt.yscale(\"log\")\n",
    "plt.xticks(rotation=45)\n",
    "plt.tight_layout()\n",
    "plt.show()"
   ]
  },
  {
   "cell_type": "markdown",
   "metadata": {
    "colab_type": "text",
    "id": "qK5W8mVhIa8R"
   },
   "source": [
    "And what types of relationships do we have?"
   ]
  },
  {
   "cell_type": "code",
   "execution_count": 9,
   "metadata": {
    "colab": {},
    "colab_type": "code",
    "id": "DROzh6dMIa8S",
    "outputId": "9a26904a-b163-47f3-a60f-c7352a9faf4e"
   },
   "outputs": [
    {
     "data": {
      "text/html": [
       "<div>\n",
       "<style scoped>\n",
       "    .dataframe tbody tr th:only-of-type {\n",
       "        vertical-align: middle;\n",
       "    }\n",
       "\n",
       "    .dataframe tbody tr th {\n",
       "        vertical-align: top;\n",
       "    }\n",
       "\n",
       "    .dataframe thead th {\n",
       "        text-align: right;\n",
       "    }\n",
       "</style>\n",
       "<table border=\"1\" class=\"dataframe\">\n",
       "  <thead>\n",
       "    <tr style=\"text-align: right;\">\n",
       "      <th></th>\n",
       "      <th>relType</th>\n",
       "      <th>count</th>\n",
       "    </tr>\n",
       "  </thead>\n",
       "  <tbody>\n",
       "    <tr>\n",
       "      <th>0</th>\n",
       "      <td>VENUE</td>\n",
       "      <td>51956</td>\n",
       "    </tr>\n",
       "    <tr>\n",
       "      <th>1</th>\n",
       "      <td>AUTHOR</td>\n",
       "      <td>140575</td>\n",
       "    </tr>\n",
       "    <tr>\n",
       "      <th>2</th>\n",
       "      <td>CITED</td>\n",
       "      <td>289908</td>\n",
       "    </tr>\n",
       "  </tbody>\n",
       "</table>\n",
       "</div>"
      ],
      "text/plain": [
       "  relType   count\n",
       "0   VENUE   51956\n",
       "1  AUTHOR  140575\n",
       "2   CITED  289908"
      ]
     },
     "execution_count": 9,
     "metadata": {},
     "output_type": "execute_result"
    }
   ],
   "source": [
    "result = {\"relType\": [], \"count\": []}\n",
    "for relationship_type in graph.run(\"CALL db.relationshipTypes()\").to_series():\n",
    "    query = f\"MATCH ()-[:`{relationship_type}`]->() RETURN count(*) as count\"\n",
    "    count = graph.run(query).to_data_frame().iloc[0]['count']\n",
    "    result[\"relType\"].append(relationship_type)\n",
    "    result[\"count\"].append(count)\n",
    "rels_df = pd.DataFrame(data=result)\n",
    "rels_df.sort_values(\"count\")"
   ]
  },
  {
   "cell_type": "markdown",
   "metadata": {
    "colab_type": "text",
    "id": "cQhmtp7MIa8W"
   },
   "source": [
    "We can visualize this counts using matplotlib with the following code:"
   ]
  },
  {
   "cell_type": "code",
   "execution_count": 10,
   "metadata": {
    "colab": {},
    "colab_type": "code",
    "id": "oPLkcusBIa8e",
    "outputId": "e49890b8-fcc5-495d-b283-e0462da5bc6f"
   },
   "outputs": [
    {
     "data": {
      "image/png": "[encoded data removed]",
      "text/plain": [
       "<Figure size 432x288 with 1 Axes>"
      ]
     },
     "metadata": {},
     "output_type": "display_data"
    }
   ],
   "source": [
    "rels_df.plot(kind='bar', x='relType', y='count', legend=None, title=\"Relationship Cardinalities\")\n",
    "plt.xticks(rotation=45)\n",
    "plt.tight_layout()\n",
    "plt.show()"
   ]
  },
  {
   "cell_type": "markdown",
   "metadata": {
    "colab_type": "text",
    "id": "3pcy2WusIa8u"
   },
   "source": [
    "Now let's explore the citation data. The following query finds 25 authors, articles, venues, and also shows the number of articles that article has cited, as well as the number of articles that it's been cited by."
   ]
  },
  {
   "cell_type": "code",
   "execution_count": 11,
   "metadata": {
    "colab": {},
    "colab_type": "code",
    "id": "CYhvaiKZIa8w",
    "outputId": "5ca8ca4f-51e7-4429-8e59-dbea1b06fccf"
   },
   "outputs": [
    {
     "data": {
      "text/html": [
       "<div>\n",
       "<style scoped>\n",
       "    .dataframe tbody tr th:only-of-type {\n",
       "        vertical-align: middle;\n",
       "    }\n",
       "\n",
       "    .dataframe tbody tr th {\n",
       "        vertical-align: top;\n",
       "    }\n",
       "\n",
       "    .dataframe thead th {\n",
       "        text-align: right;\n",
       "    }\n",
       "</style>\n",
       "<table border=\"1\" class=\"dataframe\">\n",
       "  <thead>\n",
       "    <tr style=\"text-align: right;\">\n",
       "      <th></th>\n",
       "      <th>article</th>\n",
       "      <th>author</th>\n",
       "      <th>venue</th>\n",
       "      <th>citationsGiven</th>\n",
       "      <th>citationsReceived</th>\n",
       "    </tr>\n",
       "  </thead>\n",
       "  <tbody>\n",
       "    <tr>\n",
       "      <th>0</th>\n",
       "      <td>A hybrid model for forecasting aquatic product...</td>\n",
       "      <td>Zetian Fu</td>\n",
       "      <td>Lecture Notes in Computer Science</td>\n",
       "      <td>2</td>\n",
       "      <td>0</td>\n",
       "    </tr>\n",
       "    <tr>\n",
       "      <th>1</th>\n",
       "      <td>A Multiprocessor Kernel for Active Object-Base...</td>\n",
       "      <td>Pieter Muller</td>\n",
       "      <td>Lecture Notes in Computer Science</td>\n",
       "      <td>10</td>\n",
       "      <td>1</td>\n",
       "    </tr>\n",
       "    <tr>\n",
       "      <th>2</th>\n",
       "      <td>Still more on bed comparisons</td>\n",
       "      <td>Mary Ferguson</td>\n",
       "      <td>Communications of The ACM</td>\n",
       "      <td>0</td>\n",
       "      <td>0</td>\n",
       "    </tr>\n",
       "    <tr>\n",
       "      <th>3</th>\n",
       "      <td>Observability Analysis - Detecting When Improv...</td>\n",
       "      <td>Moti Yung</td>\n",
       "      <td>Lecture Notes in Computer Science</td>\n",
       "      <td>17</td>\n",
       "      <td>1</td>\n",
       "    </tr>\n",
       "    <tr>\n",
       "      <th>4</th>\n",
       "      <td>Object Schizophrenia Problem in Object Role Sy...</td>\n",
       "      <td>K. Chandra Sekharaiah</td>\n",
       "      <td>Lecture Notes in Computer Science</td>\n",
       "      <td>16</td>\n",
       "      <td>1</td>\n",
       "    </tr>\n",
       "    <tr>\n",
       "      <th>5</th>\n",
       "      <td>Characterizing Markov Decision Processes</td>\n",
       "      <td>Doina Precup</td>\n",
       "      <td>Lecture Notes in Computer Science</td>\n",
       "      <td>12</td>\n",
       "      <td>1</td>\n",
       "    </tr>\n",
       "    <tr>\n",
       "      <th>6</th>\n",
       "      <td>Code coverage analysis in practice for large s...</td>\n",
       "      <td>Shmuel Ur</td>\n",
       "      <td>international conference on software engineering</td>\n",
       "      <td>10</td>\n",
       "      <td>0</td>\n",
       "    </tr>\n",
       "    <tr>\n",
       "      <th>7</th>\n",
       "      <td>Generating User-Adapted Hypermedia from Discou...</td>\n",
       "      <td>Fiorella de Rosis</td>\n",
       "      <td>Lecture Notes in Computer Science</td>\n",
       "      <td>6</td>\n",
       "      <td>2</td>\n",
       "    </tr>\n",
       "    <tr>\n",
       "      <th>8</th>\n",
       "      <td>Interaction analysis and integrated control of...</td>\n",
       "      <td>Jing Sun</td>\n",
       "      <td>advances in computing and communications</td>\n",
       "      <td>2</td>\n",
       "      <td>1</td>\n",
       "    </tr>\n",
       "    <tr>\n",
       "      <th>9</th>\n",
       "      <td>Intellectual property for an information age: ...</td>\n",
       "      <td>Pamela Samuelson</td>\n",
       "      <td>Communications of The ACM</td>\n",
       "      <td>0</td>\n",
       "      <td>0</td>\n",
       "    </tr>\n",
       "    <tr>\n",
       "      <th>10</th>\n",
       "      <td>Preciseness of Subtyping on Intersection and U...</td>\n",
       "      <td>Silvia Ghilezan</td>\n",
       "      <td>Lecture Notes in Computer Science</td>\n",
       "      <td>0</td>\n",
       "      <td>0</td>\n",
       "    </tr>\n",
       "    <tr>\n",
       "      <th>11</th>\n",
       "      <td>An algebra for enterprise privacy policies clo...</td>\n",
       "      <td>Rainer Steinwandt</td>\n",
       "      <td>Lecture Notes in Computer Science</td>\n",
       "      <td>16</td>\n",
       "      <td>1</td>\n",
       "    </tr>\n",
       "    <tr>\n",
       "      <th>12</th>\n",
       "      <td>Revising qualitative models of gene regulation</td>\n",
       "      <td>Kazumi Saito</td>\n",
       "      <td>Lecture Notes in Computer Science</td>\n",
       "      <td>0</td>\n",
       "      <td>0</td>\n",
       "    </tr>\n",
       "    <tr>\n",
       "      <th>13</th>\n",
       "      <td>Performance Evaluation of Distributed Object A...</td>\n",
       "      <td>Didier Boudigue</td>\n",
       "      <td>Lecture Notes in Computer Science</td>\n",
       "      <td>1</td>\n",
       "      <td>0</td>\n",
       "    </tr>\n",
       "    <tr>\n",
       "      <th>14</th>\n",
       "      <td>A new technique of determining speaker's inten...</td>\n",
       "      <td>El-Sayed Atlam</td>\n",
       "      <td>Lecture Notes in Computer Science</td>\n",
       "      <td>8</td>\n",
       "      <td>0</td>\n",
       "    </tr>\n",
       "    <tr>\n",
       "      <th>15</th>\n",
       "      <td>An improved OIF elman neural network and its a...</td>\n",
       "      <td>Limin Wang</td>\n",
       "      <td>Lecture Notes in Computer Science</td>\n",
       "      <td>3</td>\n",
       "      <td>0</td>\n",
       "    </tr>\n",
       "    <tr>\n",
       "      <th>16</th>\n",
       "      <td>Digital platforms: when is participation valua...</td>\n",
       "      <td>Marco Ceccagnoli</td>\n",
       "      <td>Communications of The ACM</td>\n",
       "      <td>2</td>\n",
       "      <td>0</td>\n",
       "    </tr>\n",
       "    <tr>\n",
       "      <th>17</th>\n",
       "      <td>Leadership and management in software architec...</td>\n",
       "      <td>Len Bass</td>\n",
       "      <td>international conference on software engineering</td>\n",
       "      <td>0</td>\n",
       "      <td>0</td>\n",
       "    </tr>\n",
       "    <tr>\n",
       "      <th>18</th>\n",
       "      <td>Hardware accelerated image-based rendering wit...</td>\n",
       "      <td>Masaki Kitahara</td>\n",
       "      <td>Lecture Notes in Computer Science</td>\n",
       "      <td>0</td>\n",
       "      <td>0</td>\n",
       "    </tr>\n",
       "    <tr>\n",
       "      <th>19</th>\n",
       "      <td>A metamodel of information flow: a tool to sup...</td>\n",
       "      <td>Niv Ahituv</td>\n",
       "      <td>Communications of The ACM</td>\n",
       "      <td>0</td>\n",
       "      <td>1</td>\n",
       "    </tr>\n",
       "    <tr>\n",
       "      <th>20</th>\n",
       "      <td>Automatic Facial Feature Extraction and Facial...</td>\n",
       "      <td>Jean Pierre Cocquerez</td>\n",
       "      <td>Lecture Notes in Computer Science</td>\n",
       "      <td>6</td>\n",
       "      <td>0</td>\n",
       "    </tr>\n",
       "    <tr>\n",
       "      <th>21</th>\n",
       "      <td>Evaluating agent architectures: Cougaar, aglet...</td>\n",
       "      <td>Judi Thomson</td>\n",
       "      <td>Lecture Notes in Computer Science</td>\n",
       "      <td>0</td>\n",
       "      <td>0</td>\n",
       "    </tr>\n",
       "    <tr>\n",
       "      <th>22</th>\n",
       "      <td>Learning with Distance Substitution Kernels</td>\n",
       "      <td>Bernard Haasdonk</td>\n",
       "      <td>Lecture Notes in Computer Science</td>\n",
       "      <td>12</td>\n",
       "      <td>0</td>\n",
       "    </tr>\n",
       "    <tr>\n",
       "      <th>23</th>\n",
       "      <td>Lateral stability of a periodically forced ele...</td>\n",
       "      <td>Jordan M. Berg</td>\n",
       "      <td>advances in computing and communications</td>\n",
       "      <td>1</td>\n",
       "      <td>0</td>\n",
       "    </tr>\n",
       "    <tr>\n",
       "      <th>24</th>\n",
       "      <td>PRISM: Probabilistic Symbolic Model Checker</td>\n",
       "      <td>Gethin Norman</td>\n",
       "      <td>Lecture Notes in Computer Science</td>\n",
       "      <td>17</td>\n",
       "      <td>12</td>\n",
       "    </tr>\n",
       "  </tbody>\n",
       "</table>\n",
       "</div>"
      ],
      "text/plain": [
       "                                              article                 author  \\\n",
       "0   A hybrid model for forecasting aquatic product...              Zetian Fu   \n",
       "1   A Multiprocessor Kernel for Active Object-Base...          Pieter Muller   \n",
       "2                       Still more on bed comparisons          Mary Ferguson   \n",
       "3   Observability Analysis - Detecting When Improv...              Moti Yung   \n",
       "4   Object Schizophrenia Problem in Object Role Sy...  K. Chandra Sekharaiah   \n",
       "5            Characterizing Markov Decision Processes           Doina Precup   \n",
       "6   Code coverage analysis in practice for large s...              Shmuel Ur   \n",
       "7   Generating User-Adapted Hypermedia from Discou...      Fiorella de Rosis   \n",
       "8   Interaction analysis and integrated control of...               Jing Sun   \n",
       "9   Intellectual property for an information age: ...       Pamela Samuelson   \n",
       "10  Preciseness of Subtyping on Intersection and U...        Silvia Ghilezan   \n",
       "11  An algebra for enterprise privacy policies clo...      Rainer Steinwandt   \n",
       "12     Revising qualitative models of gene regulation           Kazumi Saito   \n",
       "13  Performance Evaluation of Distributed Object A...        Didier Boudigue   \n",
       "14  A new technique of determining speaker's inten...         El-Sayed Atlam   \n",
       "15  An improved OIF elman neural network and its a...             Limin Wang   \n",
       "16  Digital platforms: when is participation valua...       Marco Ceccagnoli   \n",
       "17  Leadership and management in software architec...               Len Bass   \n",
       "18  Hardware accelerated image-based rendering wit...        Masaki Kitahara   \n",
       "19  A metamodel of information flow: a tool to sup...             Niv Ahituv   \n",
       "20  Automatic Facial Feature Extraction and Facial...  Jean Pierre Cocquerez   \n",
       "21  Evaluating agent architectures: Cougaar, aglet...           Judi Thomson   \n",
       "22        Learning with Distance Substitution Kernels       Bernard Haasdonk   \n",
       "23  Lateral stability of a periodically forced ele...         Jordan M. Berg   \n",
       "24        PRISM: Probabilistic Symbolic Model Checker          Gethin Norman   \n",
       "\n",
       "                                               venue  citationsGiven  \\\n",
       "0                  Lecture Notes in Computer Science               2   \n",
       "1                  Lecture Notes in Computer Science              10   \n",
       "2                          Communications of The ACM               0   \n",
       "3                  Lecture Notes in Computer Science              17   \n",
       "4                  Lecture Notes in Computer Science              16   \n",
       "5                  Lecture Notes in Computer Science              12   \n",
       "6   international conference on software engineering              10   \n",
       "7                  Lecture Notes in Computer Science               6   \n",
       "8           advances in computing and communications               2   \n",
       "9                          Communications of The ACM               0   \n",
       "10                 Lecture Notes in Computer Science               0   \n",
       "11                 Lecture Notes in Computer Science              16   \n",
       "12                 Lecture Notes in Computer Science               0   \n",
       "13                 Lecture Notes in Computer Science               1   \n",
       "14                 Lecture Notes in Computer Science               8   \n",
       "15                 Lecture Notes in Computer Science               3   \n",
       "16                         Communications of The ACM               2   \n",
       "17  international conference on software engineering               0   \n",
       "18                 Lecture Notes in Computer Science               0   \n",
       "19                         Communications of The ACM               0   \n",
       "20                 Lecture Notes in Computer Science               6   \n",
       "21                 Lecture Notes in Computer Science               0   \n",
       "22                 Lecture Notes in Computer Science              12   \n",
       "23          advances in computing and communications               1   \n",
       "24                 Lecture Notes in Computer Science              17   \n",
       "\n",
       "    citationsReceived  \n",
       "0                   0  \n",
       "1                   1  \n",
       "2                   0  \n",
       "3                   1  \n",
       "4                   1  \n",
       "5                   1  \n",
       "6                   0  \n",
       "7                   2  \n",
       "8                   1  \n",
       "9                   0  \n",
       "10                  0  \n",
       "11                  1  \n",
       "12                  0  \n",
       "13                  0  \n",
       "14                  0  \n",
       "15                  0  \n",
       "16                  0  \n",
       "17                  0  \n",
       "18                  0  \n",
       "19                  1  \n",
       "20                  0  \n",
       "21                  0  \n",
       "22                  0  \n",
       "23                  0  \n",
       "24                 12  "
      ]
     },
     "execution_count": 11,
     "metadata": {},
     "output_type": "execute_result"
    }
   ],
   "source": [
    "exploratory_query = \"\"\"\n",
    "MATCH (author:Author)<-[:AUTHOR]-(article:Article)-[:VENUE]->(venue)\n",
    "RETURN article.title AS article, author.name AS author, venue.name AS venue, \n",
    "       size((article)-[:CITED]->()) AS citationsGiven, size((article)<-[:CITED]-()) AS citationsReceived\n",
    "ORDER BY rand()\n",
    "LIMIT 25\n",
    "\"\"\"\n",
    "\n",
    "graph.run(exploratory_query).to_data_frame()"
   ]
  },
  {
   "cell_type": "markdown",
   "metadata": {
    "colab_type": "text",
    "id": "ZSMnz__hIa87"
   },
   "source": [
    "Let's look into the citation data more closely."
   ]
  },
  {
   "cell_type": "code",
   "execution_count": 12,
   "metadata": {
    "colab": {},
    "colab_type": "code",
    "id": "dXGEMqnpIa8-",
    "outputId": "a783557f-3bcf-4a41-8cb1-c243dba97cbf"
   },
   "outputs": [
    {
     "data": {
      "text/html": [
       "<div>\n",
       "<style scoped>\n",
       "    .dataframe tbody tr th:only-of-type {\n",
       "        vertical-align: middle;\n",
       "    }\n",
       "\n",
       "    .dataframe tbody tr th {\n",
       "        vertical-align: top;\n",
       "    }\n",
       "\n",
       "    .dataframe thead th {\n",
       "        text-align: right;\n",
       "    }\n",
       "</style>\n",
       "<table border=\"1\" class=\"dataframe\">\n",
       "  <thead>\n",
       "    <tr style=\"text-align: right;\">\n",
       "      <th></th>\n",
       "      <th>citations</th>\n",
       "    </tr>\n",
       "  </thead>\n",
       "  <tbody>\n",
       "    <tr>\n",
       "      <th>count</th>\n",
       "      <td>184313.000</td>\n",
       "    </tr>\n",
       "    <tr>\n",
       "      <th>mean</th>\n",
       "      <td>1.573</td>\n",
       "    </tr>\n",
       "    <tr>\n",
       "      <th>std</th>\n",
       "      <td>3.386</td>\n",
       "    </tr>\n",
       "    <tr>\n",
       "      <th>min</th>\n",
       "      <td>0.000</td>\n",
       "    </tr>\n",
       "    <tr>\n",
       "      <th>25%</th>\n",
       "      <td>1.000</td>\n",
       "    </tr>\n",
       "    <tr>\n",
       "      <th>50%</th>\n",
       "      <td>1.000</td>\n",
       "    </tr>\n",
       "    <tr>\n",
       "      <th>75%</th>\n",
       "      <td>2.000</td>\n",
       "    </tr>\n",
       "    <tr>\n",
       "      <th>90%</th>\n",
       "      <td>3.000</td>\n",
       "    </tr>\n",
       "    <tr>\n",
       "      <th>99%</th>\n",
       "      <td>12.000</td>\n",
       "    </tr>\n",
       "    <tr>\n",
       "      <th>max</th>\n",
       "      <td>276.000</td>\n",
       "    </tr>\n",
       "  </tbody>\n",
       "</table>\n",
       "</div>"
      ],
      "text/plain": [
       "       citations\n",
       "count 184313.000\n",
       "mean       1.573\n",
       "std        3.386\n",
       "min        0.000\n",
       "25%        1.000\n",
       "50%        1.000\n",
       "75%        2.000\n",
       "90%        3.000\n",
       "99%       12.000\n",
       "max      276.000"
      ]
     },
     "execution_count": 12,
     "metadata": {},
     "output_type": "execute_result"
    }
   ],
   "source": [
    "query = \"\"\"\n",
    "MATCH (a:Article)\n",
    "RETURN size((a)<-[:CITED]-()) AS citations\n",
    "\"\"\"\n",
    "\n",
    "citation_df = graph.run(query).to_data_frame()\n",
    "citation_df.describe([.25, .5, .75, .9, .99])"
   ]
  },
  {
   "cell_type": "markdown",
   "metadata": {
    "colab_type": "text",
    "id": "37RCc6XGIa9J"
   },
   "source": [
    "Most articles are being cited very few times. 75% of articles have 3 citations or less. We do, however, have one article that's been cited more than 1,000 times. We'll use a log scale histogram to visualise the data;"
   ]
  },
  {
   "cell_type": "code",
   "execution_count": 13,
   "metadata": {
    "colab": {},
    "colab_type": "code",
    "id": "uUYOoWBzIa9L",
    "outputId": "a2acf61c-10af-4f0c-d881-d5addf4b31e2"
   },
   "outputs": [
    {
     "data": {
      "image/png": "[encoded data removed]",
      "text/plain": [
       "<Figure size 432x288 with 1 Axes>"
      ]
     },
     "metadata": {},
     "output_type": "display_data"
    }
   ],
   "source": [
    "fig1, ax1 = plt.subplots()\n",
    "ax1.hist(pd.Series(citation_df['citations'].dropna()), 1250, density=True, facecolor='g', alpha=0.75)\n",
    "ax1.set_xscale(\"log\")\n",
    "plt.tight_layout()\n",
    "plt.show()"
   ]
  },
  {
   "cell_type": "markdown",
   "metadata": {
    "colab_type": "text",
    "id": "NoPYqJdHIa9Z"
   },
   "source": [
    "## Exercise\n",
    "\n",
    "* Can you create a similar chart showing the articles that cite the most other papers?\n",
    "* What about a distribution of the number of articles published by authors?"
   ]
  }
 ],
 "metadata": {
  "colab": {
   "name": "02_EDA.ipynb",
   "provenance": [],
   "version": "0.3.2"
  },
  "kernelspec": {
   "display_name": "Python 3",
   "language": "python",
   "name": "python3"
  },
  "language_info": {
   "codemirror_mode": {
    "name": "ipython",
    "version": 3
   },
   "file_extension": ".py",
   "mimetype": "text/x-python",
   "name": "python",
   "nbconvert_exporter": "python",
   "pygments_lexer": "ipython3",
   "version": "3.8.5"
  }
 },
 "nbformat": 4,
 "nbformat_minor": 1
}
