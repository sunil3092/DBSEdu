{
 "cells": [
  {
   "cell_type": "markdown",
   "metadata": {},
   "source": [
    "Write a class in python, position, that represents food commodity orders or offers, with a type (‘order’/’offer’), a product name - string, a quantity, price and traderID as private attributes, set in the constructor and accessed by getters. A method, trade, to reduce the outstanding quantity should be included, reducing the quantity remaining to trade by the parameter, amount, and a method to cancel, which sets the quantity to zero."
   ]
  },
  {
   "cell_type": "code",
   "execution_count": 1,
   "metadata": {},
   "outputs": [],
   "source": [
    "class Position:\n",
    "    def __init__(self, name: str, quantity: int, price: float, traider_id: int):\n",
    "        self.__name = name\n",
    "        self.__quantity = quantity\n",
    "        self.__price = price\n",
    "        self.__traider_id = traider_id\n",
    "\n",
    "    def get_name(self):\n",
    "        return self.__name\n",
    "\n",
    "    def get_quantity(self):\n",
    "        return self.__quantity\n",
    "\n",
    "    def get_price(self):\n",
    "        return self.__price\n",
    "\n",
    "    def get_traider_id(self):\n",
    "        return self.__traider_id\n",
    "\n",
    "    def set_quantity(self, val):\n",
    "        self.__quantity = val\n",
    "\n",
    "    def trade(self, qty):\n",
    "        if qty > self.__quantity:\n",
    "            raise ValueError(\"Invalid Qty\")\n",
    "        rem = self.__quantity - qty\n",
    "        self.set_quantity(rem)\n",
    "        return {\"Quantity Purcahsed\" : qty, \"Price of purchase\" : qty * self.get_price(), \"Quantity Remaining\": self.__quantity, \"Price per unit\" : self.get_price}\n",
    "\n",
    "    def cancel(self):\n",
    "        self.set_quantity(0)"
   ]
  },
  {
   "cell_type": "code",
   "execution_count": 2,
   "metadata": {},
   "outputs": [
    {
     "name": "stdout",
     "output_type": "stream",
     "text": [
      "{'Quantity Purcahsed': 12, 'Price of purchase': 154.8, 'Quantity Remaining': 3, 'Price per unit': <bound method Position.get_price of <__main__.Position object at 0x000002A8FE3E0B50>>}\n"
     ]
    }
   ],
   "source": [
    "of = Position(\"Sam\", 15, 12.9, 12345)\n",
    "of.get_quantity()\n",
    "print(of.trade(12))"
   ]
  },
  {
   "cell_type": "code",
   "execution_count": 3,
   "metadata": {},
   "outputs": [
    {
     "name": "stdout",
     "output_type": "stream",
     "text": [
      "0\n"
     ]
    }
   ],
   "source": [
    "of.cancel()\n",
    "print(of.get_quantity())"
   ]
  },
  {
   "cell_type": "markdown",
   "metadata": {},
   "source": [
    "Write a class market, which has an attribute product, and two orderbooks\n",
    "(order/offer) along with methods trade and checkDepth.\n",
    "* trade should accept a position, and if possible match it or partially\n",
    "match against opposite positions, otherwise storing it in the\n",
    "relevant orderbook\n",
    "* checkDepth should take a price and report the quantity on offer\n",
    "below that price, or (negative the quantity on order above that\n",
    "price.\n"
   ]
  },
  {
   "cell_type": "code",
   "execution_count": 4,
   "metadata": {},
   "outputs": [
    {
     "ename": "IndentationError",
     "evalue": "expected an indented block (Temp/ipykernel_23520/1931877039.py, line 7)",
     "output_type": "error",
     "traceback": [
      "\u001b[1;36m  File \u001b[1;32m\"C:\\Users\\sunil\\AppData\\Local\\Temp/ipykernel_23520/1931877039.py\"\u001b[1;36m, line \u001b[1;32m7\u001b[0m\n\u001b[1;33m    \u001b[0m\n\u001b[1;37m    ^\u001b[0m\n\u001b[1;31mIndentationError\u001b[0m\u001b[1;31m:\u001b[0m expected an indented block\n"
     ]
    }
   ],
   "source": [
    "class Market:\n",
    "    def __init__(self):\n",
    "        self.__orders = []\n",
    "        self.__offers = {\"price\" : 12, \"quantity\" : }\n",
    "    \n",
    "    def create_order(self, order: Position):\n",
    "        self.__orders.append(order)"
   ]
  }
 ],
 "metadata": {
  "interpreter": {
   "hash": "770de8dd6b209f8d3e8fd0cc8c5ca67965109b50de697453c6f2fa2334472852"
  },
  "kernelspec": {
   "display_name": "Python 3.9.7 ('base')",
   "language": "python",
   "name": "python3"
  },
  "language_info": {
   "codemirror_mode": {
    "name": "ipython",
    "version": 3
   },
   "file_extension": ".py",
   "mimetype": "text/x-python",
   "name": "python",
   "nbconvert_exporter": "python",
   "pygments_lexer": "ipython3",
   "version": "3.9.7"
  },
  "orig_nbformat": 4
 },
 "nbformat": 4,
 "nbformat_minor": 2
}
