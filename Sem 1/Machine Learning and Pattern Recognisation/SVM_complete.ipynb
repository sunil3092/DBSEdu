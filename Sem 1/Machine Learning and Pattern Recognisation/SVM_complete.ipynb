{
  "cells": [
    {
      "cell_type": "markdown",
      "metadata": {
        "id": "tN1uEHB15oZr"
      },
      "source": [
        "Example: predict **Species** in the **Iris** dataset using Support Vector Machine. \n",
        "\n",
        "\n",
        "*   train the model using 80% and evaluate it based on 20% testset\n",
        "*   apply svm for different kernels\n",
        "*   validate the result in 100 MC runs\n",
        "*   Recommend the type of flower for the first sample in the dataset using the best classifier \n",
        "\n",
        "\n",
        "\n"
      ]
    },
    {
      "cell_type": "code",
      "execution_count": 4,
      "metadata": {
        "colab": {
          "base_uri": "https://localhost:8080/",
          "height": 237
        },
        "id": "VYpobeUeo9Yu",
        "outputId": "fecebca3-2c32-4cbe-ef15-d47764edf5ca"
      },
      "outputs": [
        {
          "data": {
            "text/html": [
              "<div>\n",
              "<style scoped>\n",
              "    .dataframe tbody tr th:only-of-type {\n",
              "        vertical-align: middle;\n",
              "    }\n",
              "\n",
              "    .dataframe tbody tr th {\n",
              "        vertical-align: top;\n",
              "    }\n",
              "\n",
              "    .dataframe thead th {\n",
              "        text-align: right;\n",
              "    }\n",
              "</style>\n",
              "<table border=\"1\" class=\"dataframe\">\n",
              "  <thead>\n",
              "    <tr style=\"text-align: right;\">\n",
              "      <th></th>\n",
              "      <th>SepalLengthCm</th>\n",
              "      <th>SepalWidthCm</th>\n",
              "      <th>PetalLengthCm</th>\n",
              "      <th>PetalWidthCm</th>\n",
              "      <th>Species</th>\n",
              "    </tr>\n",
              "  </thead>\n",
              "  <tbody>\n",
              "    <tr>\n",
              "      <th>0</th>\n",
              "      <td>5.1</td>\n",
              "      <td>3.5</td>\n",
              "      <td>1.4</td>\n",
              "      <td>0.2</td>\n",
              "      <td>Iris-setosa</td>\n",
              "    </tr>\n",
              "    <tr>\n",
              "      <th>1</th>\n",
              "      <td>4.9</td>\n",
              "      <td>3.0</td>\n",
              "      <td>1.4</td>\n",
              "      <td>0.2</td>\n",
              "      <td>Iris-setosa</td>\n",
              "    </tr>\n",
              "    <tr>\n",
              "      <th>2</th>\n",
              "      <td>4.7</td>\n",
              "      <td>3.2</td>\n",
              "      <td>1.3</td>\n",
              "      <td>0.2</td>\n",
              "      <td>Iris-setosa</td>\n",
              "    </tr>\n",
              "    <tr>\n",
              "      <th>3</th>\n",
              "      <td>4.6</td>\n",
              "      <td>3.1</td>\n",
              "      <td>1.5</td>\n",
              "      <td>0.2</td>\n",
              "      <td>Iris-setosa</td>\n",
              "    </tr>\n",
              "    <tr>\n",
              "      <th>4</th>\n",
              "      <td>5.0</td>\n",
              "      <td>3.6</td>\n",
              "      <td>1.4</td>\n",
              "      <td>0.2</td>\n",
              "      <td>Iris-setosa</td>\n",
              "    </tr>\n",
              "    <tr>\n",
              "      <th>5</th>\n",
              "      <td>5.4</td>\n",
              "      <td>3.9</td>\n",
              "      <td>1.7</td>\n",
              "      <td>0.4</td>\n",
              "      <td>Iris-setosa</td>\n",
              "    </tr>\n",
              "  </tbody>\n",
              "</table>\n",
              "</div>"
            ],
            "text/plain": [
              "   SepalLengthCm  SepalWidthCm  PetalLengthCm  PetalWidthCm      Species\n",
              "0            5.1           3.5            1.4           0.2  Iris-setosa\n",
              "1            4.9           3.0            1.4           0.2  Iris-setosa\n",
              "2            4.7           3.2            1.3           0.2  Iris-setosa\n",
              "3            4.6           3.1            1.5           0.2  Iris-setosa\n",
              "4            5.0           3.6            1.4           0.2  Iris-setosa\n",
              "5            5.4           3.9            1.7           0.4  Iris-setosa"
            ]
          },
          "execution_count": 4,
          "metadata": {},
          "output_type": "execute_result"
        }
      ],
      "source": [
        "import pandas as pd\n",
        "from pandas import read_csv\n",
        "dataset= pd.read_csv('DataSets/Iris.csv')\n",
        "dataset.head(6)"
      ]
    },
    {
      "cell_type": "code",
      "execution_count": 5,
      "metadata": {
        "id": "TKaceMr0pVzV"
      },
      "outputs": [],
      "source": [
        "X=dataset.drop('Species',axis=1) # input variables \n",
        "y=dataset['Species']  # target variable=output variable \n",
        "from sklearn.model_selection import train_test_split \n",
        "X_train,X_test,y_train,y_test=train_test_split(X,y,test_size=0.2,random_state=3) # testset is 30%\n"
      ]
    },
    {
      "cell_type": "markdown",
      "metadata": {
        "id": "i2u67bE_Gtrw"
      },
      "source": [
        "![image.png](data:image/png;base64,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)"
      ]
    },
    {
      "cell_type": "markdown",
      "metadata": {
        "id": "MQcDQgWKGwwI"
      },
      "source": [
        "# kernel functions in SVC\n",
        "1.  (kernel='linear')===linear function \n",
        "2.  (kernel='poly')===Polynomial function \n",
        "3.  (kernel='rbf')===Gaussian function --- defualt \n",
        "4.  (kernel='sigmoid')===Sigmoid function"
      ]
    },
    {
      "cell_type": "markdown",
      "metadata": {
        "id": "ZbFZzvBgHjGU"
      },
      "source": [
        "![image.png](data:image/png;base64,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)"
      ]
    },
    {
      "cell_type": "markdown",
      "metadata": {
        "id": "OGOGrPiPIE1T"
      },
      "source": [
        "![image.png](data:image/png;base64,iVBORw0KGgoAAAANSUhEUgAABLAAAAMgCAYAAAAz4JsCAAAgAElEQVR4Aey9CZRlVX3vf7oZRAhPUQNqjAMO0TjkGXwOf6DPvlXY2ELV3aegxCgqCGJiFGNUjEaTfsYseRrjFE3Ul2g0DkHjEAyR2NTZp7shmrRTIhk0PuchqIg4gAx9/+tU9y3uPXWHM+yzzx4+vVatuveeffb+/T7fn6yv33XvrSjiHwQgAAEIQAACEIAABCAAAQhAAAIQgAAEIAABCEAAAhCAAAQgAAEIQAACEIAABCAAAQhAAAIQgAAEIAABCEAAAhCAAAQgAAEIQAACEIAABCAAAQhAAAIQgAAEIAABCEAAAhCAAAQgAAEIQAACEIAABCAAAQhAAAIQgAAEIAABCEAAAhCAAAQgAAEIQAACEIAABCAAAQhAAAIQgAAEIAABCEAAAhCAAAQgAAEIQAACEIAABCAAAQhAAAIQgAAEIAABCEAAAhCAAAQgAAEIQAACEIAABCAAAQhAAAIQgAAEIAABCEAAAhCAAAQgAAEIQAACEIAABCAAAQhAAAIQgAAEIAABCEAAAhCAAAQgAAEIQAACEIAABCAAAQhAAAIQgAAEIAABCEAAAhCAAAQgAAEIQAACEIAABCAAAQhAAAIQgAAEIAABCEAAAhCAAAQgAAEIQAACEIAABCAAAQhAAAIQgAAEIAABCEAAAhCAAAQgAAEIQAACEIAABCAAAQhAAAIQgAAEIAABCEAAAhCAAAQgAAEIQAACEIAABCAAAQhAAAIQgAAEIAABCEAAAhCAAAQgAAEIQAACEIAABCAAAQhAAAIQgAAEIAABCEAAAhCAAAQgAAEIQAACEIAABCAAAQhAAAIQgAAEIAABCEAAAhCAAAQgAAEIQAACEIAABCAAAQhAAAIQgAAEIAABCEAAAhCAAAQgAAEIQAACEIAABCAAAQhAAAIQgAAEIAABCEAAAhCAAAQgAAEIQAACEIAABCAAAQhAAAIQgAAEIAABCEAAAhCAAAQgAAEIQAACEIAABCAAAQhAAAIQgAAEIAABCEAAAhCAAAQgAAEIQAACEIAABCAAAQhAAAIQgAAEIAABCEAAAhCAAAQgAAEIQAACEIAABCAAAQhAAAIQgAAEIAABCEAAAhCAAAQgAAEIQAACEIAABCAAAQhAAAIQgAAEIAABCEAAAhCAAAQgAAEIQAACEIAABCAAAQhAAAIQgAAEIACBBgQeEkXRc6Mo+tsoin4YRdGg8NNga26FAAQgAAEIQAACEIAABCAAAQhAAAIQgEB1AveJoui8KIreE0XRdwphVTG8yp/zDwIQgAAEIAABCEAAAhCAAAQgAAEIQAACRglMCqlmvWa0OA6DAAQgAAEIQAACEIAABCAAAQhAAAIQgEAxrPpKFEXviKLonCiK7j3hHVkQgwAEIAABCEAAAhCAAAQgAAEIQAACEICAUQLFwKp4eDHgKl7nOQQgAAEIQAACEIAABCAAAQhAAAIQgAAEOiVAgNUpfg6HAAQgAAEIQAACEIAABCAAAQhAAAIQmEeAAGseIa5DAAIQgAAEIAABCEAAAhCAAAQgAAEIdEqAAKtT/BwOAQhAAAIQgAAEIAABCEAAAhCAAAQgMI8AAdY8QlyHAAQgAAEIQAACEIAABCAAAQhAAAIQ6JQAAVan+DkcAhCAAAQgAAEIQAACEIAABCAAAQhAYB4BAqx5hLgOAQhAAAIQgAAEIAABCEAAAhCAAAQg0CkBAqxO8XM4BCAAAQhAAAIQgAAEIAABCEAAAhCAwDwCBFjzCHEdAhCAAAQgAAEIQAACEIAABCAAAQhAoFMCBFid4udwCEAAAhCAAAQgAAEIQAACEIAABCAAgXkECLDmEeI6BCAAAQhAAAIQgAAEIAABCEAAAhCAQKcECLA6xc/hEIAABCAAAQhAAAIQgAAEIAABCEAAAvMIEGDNI8R1CEAAAhCAAAQgAAEIQAACEIAABCAAgU4J6Ayw3hpFUZs/nYLicAhAAAIQgAAEIAABCEQXX3zxW/mBATPADDADzAAzYHYGoigaC7Ca8C/upft5k9q41+xcwRvezAAzwAz4PwMvf8Vr3r7z5a/9y9/7369950te9ifvzX9e+Dt/+oEX/M6fffD5L3rrh5792//37/KfZz3vHZc/87l/ueuZF75r13nPes/u/Odpv/7eq576zEs+efYF7/unJ573gc/mP08494P/euY5H/73/Cc5+9Iv5T/y7L/7ytKTL/tG/vP4J15+zY6zPvbdxz3h8mu3n/nx6/OfxTPWbjjtiR/7znDeiFYgYITAxRdfPOAHBswAM8AMMAPMgNkZKIZMTfgX99L9vElt3Gt2ruANb2aAGWAG2p+BV/zhqwcv/4PXDH7/f79u8JKXvXHwot990+CFL/7TwfMueuvgty562+A5z/+/g2f/9tsHz3re2wfPvPBd6z9P/813D8591rsHT/v19w7OvuCvB2dfcMngiU//m/WfM8/5yOCMp31kkDzl0sHyk/9usPzkywY7zvrY+s/21V2Dx565a7C4csVASGXVz2m/9rGNLMFIeMEhEHjlK195AT8wYAaYAWaAGWAGzM5AMWRqwr+4l+7nTWrjXrNzBW94MwPMADMwPgM7d77uwhe/7I0veOGL3/KS33ze2/7wmRe+49XnP+evXv+033jvW85+xvv/8tfO+5v3nnXuh/5m5akf/ljylEvXlp/80b2n/9rf79tx1sc+f+pZl3/h1NVdXznljCuuWVy54rreytoNtoVIXdZzyplXfHc4byQrEGidwDCdb/0gDoCARgIH36Y6yP9jqXFbtoJAqwTyeT3439z8e4r4B4GcwNhHCBsiyf972MaPzhobtsjtEChPAK9QnhUr7SGAVxjX4pTVj99hWz/7xcX+7l8WK+mj40Q9Nk7Uquin58d99Twhs98XMv2jXl+9tSfVJbFUlwuprhKJ+nws1VeFVD/oMtwJ4exYqm/mqpErjM8uz1oiwKC1BJZtWyWAKW0VL5u3RABT2hJYt7d1IRxyoUa3p4DqWyGAV2gFK5u2TMBHr7Bjx2W3EyvpPRZWdv9qLNWOXj97qpDZ8/PgSSTqbRvBU1/9YyzV1UKqrwmprgsh/Gmhx/1CqmvznzxYiqX6Uv4jZLZv/aef7RVSfXz9J1Hvz9kLqd4VS/WW/KfXV68SSXpxT6qXi372ovwnluo3ejK7IO6rc/PwcD1ATNLHiX56ipCpWFze/bD8fxbkCi3/x4HtDxBg0JgEFwlgSl1UjZp9NKWo2piAC+GQCzU2FoIN/COAV/BP0xA6csUrnLp61Z3EGekD4746uSfXzhBJ9ptCpjtjqd4kEvVBIdUeIdV/BPQOqBtjqb5/ICxSXxgGRrFUVxwMjP52PSzqq/cOwyKRZK/Ow6L1d5Gth0XpC/KgKP8RSfrEg0HR6XlQFC+rXk+unZD/5NwXV/YcL2R675NO23NM/pOHhF3/74NcoWsFAjmfQQtEaM/axJR6Jmgg7bhiSgORw5Y2XQiHXKjRFj2pwyICeAWLxKCU0gS69ArbkyuP3dbPHtrrZ48XSfa0OFEvjKV6TU+qd4q++nsh1Wfyd/UIqW5q4Z1DJr+Y/KdCqu+tvzspUZ8TffWPB0Km7APrvSbpnx0IltKX9hL12+uBUj87K+6rpZ5cWxyGSKecvueeeXi0unrJIaUF9nghuYLH4trUGoNmkxrUUpYAprQsKdbZRKBLU2oTB2oZI+BCOORCjWNQeQKBnABegTlwkUAbXkGspj+3LckelL+LJ5bqKT2pLor76vUiUe8XBz5S9hUh1Y0OhFL5R+PyWv81lupKIbOPHfz44VvWvwcrUb938Huxzjv4UbfH9vprjzr4/Vn3yMOmKBpscXEuXKiZXMEFlTyokUHzQMQAW8CUBii6By23YUo9wBJ6Cy6EQy7UGPoc0f8EAniFCVB4yXoCVbzC+ndLyfTevZW1E9c/biaz565/h5FU7xJSpaKv/l1I9WNrgqm+yv96X/79Vv8s+tlHhUzfkX+MLpbqZSKvPcmeLvrpmflH5hbk7kfmH5VbOP2KXzhxee/R1gtHgXwHFjNghgABlhnOnKKXAKZUL092M0Ogiik1UxGnWEDAhXDIhRotkJISbCOAV7BNEeopQ2DUK4hz0iPWP9In186IpXpxLNWfC6kuE1L9i5DqGkuCqe8Kqf4tTlQWS/XXQmZv7CXq90SS/rqQqczDtcVkzwMIocqo7/YacgW39XOmegbNGakodIQApnQEBg+dITBqSp0pmkLbJuBCOORCjW3rxP4OEsArOChaiCXvHGzNv4w7TtRj8y9CT57y0bUznvbhwfYzd10fS3VrByFV/v1WXxdS/dOBd0mpt+ffB3Xgo3np2b3+2qn5X507eWX33YRIDw1RMnqeTIBcYTIXXtVMgEHTDJTtjBDAlBrBzCGaCRBgaQbqx3YuhEMu1OjHNNCFVgJ4Ba042awhgfW/2reSPvrgl6P/Yf79U/GBLxDPP1Zn6gvMvyOk+ux6MJWot+V/NfDgX7w7fWFl96+K1fSufEdUQ6EDvp1cIWDxTbbOoJmkzVm6CGBKdZFkH5MECLBM0rbqrGIAVPd5V00V6+2qDs6FQCUCeIVKuFisgcAJF+w7bHFlz/H5dzjl3+kUS/WW/K/b5X/trtWQqq9uWD+jn+1d/1Lz/Ava+9mLev3sqXktvaW1B2/ffvlRGlpkCwhMJUCuMBUNF3QSYNB00mQvUwQwpaZIc45OAgRYOmk6tVcxAKr7vKumi/V2VQfnQqASAbxCJVwsrkAg/+icSNKHCJmenf/1u/yv4R0MqW7RHVQd/Bjh/zv4F/feIGT2fJFkT+4la3Fvee2Xlpb2HVmhdJZCoDUC5AqtoWXjUQIM2igNHrtCAFPqilLUOUqAAGuURlCPiwFQ3eddQSvW21UdnAuBSgTwCpVwsXgKgdXVqw/P38GUv5spPvDOpr2xVD/RHVQJqa4VMtt3+q/9/b7zn/1Xg2c+9y939eTaCbxzaoowvGwdAXIF6yTxsyAGzU9dfe8KU+q7wn72R4Dlp64BdEWAFYDIPraIV/BR1XZ72p5ceWz+JeX5x++ETN8npPoPrV+knn/UL//eqwPff/WH+fdhiZX00fn3Yw07wysMSfDbNQLkCq4p5mi9DJqjwgVeNqY08AFwtH1MqaPCUTYBFjPgJAG8gpOyGSv6sct77x731VL+ReZCqks1f0/Vtw5+99Vb8jAsPyf/bqzV1UsOmdcgXmEeIa7bSoBcwVZlPKuLQfNM0EDawZQGIrRnbWJKPRM0nHYIsMLR2qtO8QpeyVm7mfwjgNuWs4f3kuzpPaneIKTaHUv1Qw0fAdwvpPpi/qXpvb56SU+unbGtnz1UnJMeUbvYKIrwCk3ocW+XBMgVuqQf0NkMWkBie9QqptQjMQNqBVMakNh+tUqA5ZeewXSDVwhG6rFGt/WzX4ylekos1Z8LqT4jpLqpaVgVS/WzWKpPHdgzfbZI0pNOXN579NjBmp7gFTSBZBvjBMgVjCMP80AGLUzdXe8aU+q6gmHWjykNU3cPuibA8kDEEFvAK4Sh+uLyruPiRK3GUr0llupqDWHVD0U/y7+o/S1CZs/Nw6qm76qqogReoQot1tpEgFzBJjU8roVB81hcj1vDlHosrsetYUo9Ftfv1giw/NbX2+7wCn5KmwdWop+dJZL0z/IvWW8YWH09//6rnlQv7yXZSv49VV1Twyt0rQDn1yVArlCXHPdVIsCgVcLFYksIYEotEYIyKhHAlFbCxWJ7CBBg2aMFlVQggFeoAMvipSev7v759S9bT9KLhcz2Cany754aVPy55eCXtF+af2n7+peqL+86zsa28Qo2qkJNZQiQK5ShxJrGBBi0xgjZoAMCmNIOoHNkYwKY0sYI2aAbAgRY3XDn1IYE8AoNAXZ0+2Ky685xXyVxX71eSPWvNQOrb8VSvTuW6jd6/bVHLS3tO7Kjdiofi1eojIwbLCFArmCJEL6XwaD5rrCf/WFK/dTV964wpb4r7G1/BFjeSut3Y3gFN/QVq+nPiX56ijj4DqtYqlsrvrtqEEv13/lHAUU/e1FPrp0QRYMtbnS/uUq8wmYmvOIGAXIFN3RyvkoGzXkJg2wAUxqk7M43jSl1XsJQGyDAClV5x/vGK9gp4Pbtlx+1EVj1s701/0rgd30JrIoq4RWKRHjuCgFyBVeUcrxOBs1xAQMtH1MaqPCOt40pdVzAcMsnwApXe6c7xyvYI9/25MpjRT97ppDZLiHVLTXeYfV9IdWHeom6cFs/e6jL77CapwpeYR4hrttKgFzBVmU8q4tB80zQQNrBlAYitGdtYko9EzScdgiwwtHaq07xCt3KmX+XVa+fPXX9nVJS3VQxtPqRkOrjGx8J3DnY2m035k7HK5hjzUl6CZAr6OXJblMIMGhTwPCy1QQwpVbLQ3FTCGBKp4DhZdsJEGDZrhD1TSSAV5iIpdUXF5d3HZd/cbpI1FrFd1pdL/rZR0U/fYFYTh+xunrJIa0WavHmeAWLxaG0mQTIFWbi4aIuAgyaLpLsY5IAptQkbc7SRQBTqosk+xgmQIBlGDjH6SGAV9DDcd4uYjW9a6+vniWkSiuEVj8SMvvY+jus+muPEiI9dN45oVzHK4SitH99kiv4p6mVHTFoVspCUXMIYErnAOKylQQwpVbKQlHzCRBgzWfECgsJ4BXaE+Xkld13E0n2m0JmquxfDYyl+n4s1Z+LJH3cCRfsO6y96tzeGa/gtn4hV0+uELL6Bntn0AzC5ihtBDCl2lCykUECmFKDsDlKJwECLJ002csYAbyCXtRiKb3LyHda3VzyO62u7Un1zrivllZXrz5cb0V+7oZX8FPXELoiVwhBZQt6ZNAsEIESKhPAlFZGxg0WEMCUWiACJdQhQIBVhxr3dE4Ar9BcgjqhVf5OK0Kr+uzxCvXZcWe3BMgVuuUfzOkMWjBSe9UoptQrOYNpBlMajNS+NUqA5ZuigfSDV6gn9MLpV/yCkNlz1/8KoFS3lHmn1WhoxccD63Ef3oVXGJLgt2sEyBVcU8zRehk0R4ULvGxMaeAD4Gj7mFJHhaNsAixmwEkCeIXysj12ee/dhUx/S/SzvWW/00pIdU0s1VtEPz2FL2Evz3reSrzCPEJct5UAuYKtynhWF4PmmaCBtIMpDURoz9rElHomaDjtEGCFo7VXneIV5svZk2sn5B/3E1LdVOadVkKq7w0/Hsg7rebzrbMCr1CHGvfYQIBcwQYVAqiBQQtAZA9bxJR6KGoALWFKAxDZzxYJsPzU1fuu8AqTJc6DJ5GkTxQy+0TJ0Oo7PanevJBkC6urlxwyeVde1UUAr6CLJPuYJkCuYJp4oOcxaIEK73jbmFLHBQy0fExpoMK73zYBlvsaBtkBXmFc9lNWP36H/LutYqm+WiK42ninFR8PHOfY9jO8QtuE2b8tAuQKbZFl3zECDNoYDp44QgBT6ohQlDlGAFM6hoMn7hAgwHJHKyodIYBXOABjWz97qEjU24RUP50TXP1A9NM/ETIVvNNqZJAMP8QrGAbOcdoIkCtoQ8lGswgwaLPocM1WAphSW5WhrlkEMKWz6HDNYgIEWBaLQ2nTCQTtFXYOtq5/ubpUlwqp9s8Jrr6YvzNr+/bLj5pOkyumCOAVTJHmHN0EyBV0E2W/iQQYtIlYeNFyAkGbUsu1obzpBDCl09lwxWoCBFhWy0Nx0wiE6BVOXN57dE9mF4i++vc5odVg/S8O9tVSFA22TGPI6+YJ4BXMM+dEPQTIFfRwZJc5BBi0OYC4bCWBEE2plUJQVCUCmNJKuFhsDwECLHu0oJIKBELyCosre44XSXqxkOramcFVX92Q/xXB3tLagyugZKlBAngFg7A5SisBcgWtONlsGgEGbRoZXreZQEim1GYdqK0aAUxpNV6stoYAAZY1UlBIFQIheAWRpCf1pLpESHXLrOAqluqbQqY7F5Ndd67CkLXmCeAVzDPnRD0EyBX0cGSXOQQYtDmAuGwlgRBMqZXgKaoRAUxpI3zc3B0BAqzu2HNyAwK+eoUdOy67Xa+fPVVI9S+zQqsD17J962tFemgDlNxqkABewSBsjtJKgFxBK042m0aAQZtGhtdtJuCrKbWZObU1J4Apbc6QHTohQIDVCXYObUrAN68gVtO75u+iElJ9d1ZwFUv1s/V3Za2kj27KkPvNE8ArmGfOiXoIkCvo4cgucwgwaHMAcdlKAr6ZUishU5R2AphS7UjZ0AwBAiwznDlFMwFfvEJPrp2Qf2+VkOqmOcHVf+ffg7Vw+hW/oBkl2xkkgFcwCJujtBIgV9CKk82mEWDQppHhdZsJ+GJKbWZMbfoJYEr1M2VHIwQIsIxg5hDdBFz3CqKfniL66h9nhVb5tViqT+UfE8w/WqibIfuZJ4BXMM+cE/UQIFfQw5Fd5hBg0OYA4rKVBFw3pVZCpajWCWBKW0fMAe0QIMBqhyu7tkzAVa8gkvQhB7+YfTAtvIqlulVIdWkecrWMke0NE8ArGAbOcdoIkCtoQ8lGswgwaLPocM1WAq6aUlt5UpcZAphSM5w5RTsBAiztSNnQBAHXvIJYTu8nZPo+IdX+acGVkOraXl+9amHlinuZYMgZ5gngFcwz50Q9BMgV9HBklzkEGLQ5gLhsJQHXTKmVECnKOAFMqXHkHKiHAAGWHo7sYpiAK15BLKV3yb+7Skh144zg6otCZs/dvv3yowxj5DjDBPAKhoFznDYC5AraULLRLAIM2iw6XLOVgCum1FZ+1NUNAUxpN9w5tTEBAqzGCNmgCwK2e4UdOz7xP4TM/kBI9eMZwdV/iH56ZhQNtnTBkDPNE8ArmGfOiXoIkCvo4cgucwgwaHMAcdlKArabUiuhUVTnBDClnUtAAfUIEGDV48ZdHROw1Susrl59eE9mFwipvjMjuLomf8eVEOmhHWPkeMME8AqGgXOcNgLkCtpQstEsAgzaLDpcs5WArabUVl7UZQcBTKkdOlBFZQIEWJWRcYMNBKzzCjsHW+NErcZSfWlGcPWj/OOEJy7vPdoGhtRgngBewTxzTtRDgFxBD0d2mUOAQZsDiMtWErDOlFpJiaJsI4AptU0R6ilJgACrJCiW2UXAJq+wILPtQqp/mRpc9dUNIsleferqVXeyiyLVmCaAVzBNnPN0ESBX0EWSfWYSYNBm4uGipQRsMqWWIqIsCwlgSi0UhZLKECDAKkOJNdYRsMEr5H9ZsCfVJdOCq1iqW/Pr25ay+1gHkII6IYBX6AQ7h2ogQK6gASJbzCfAoM1nxAr7CNhgSu2jQkW2E8CU2q4Q9U0hQIA1BQwv202gS6+Q/7VAIdOdc/6y4McXl3c/zG6KVGeaAF7BNHHO00WAXEEXSfaZSYBBm4mHi5YS6NKUWoqEshwggCl1QCRKnESAAGsSFV6znkA3XmGwpdfPnir66tvT3nUl+uofF5azbdYDpMBOCOAVOsHOoRoIkCtogMgW8wkwaPMZscI+At2YUvs4UJFbBDClbulFtRsECLA2UPDAJQKmvcLCyu5fFVL989TgSqr/EjKVLjGkVvME8ArmmXOiHgLkCno4ssscAgzaHEBctpKAaVNqJQSKco4AptQ5ySj4AAECLCbBSQKmvMLS0r4j878cKKS6ZUp49eP1jxOekx7hJEiKNkoAr2AUN4dpJECuoBEmW00nwKBNZ8MVewmYMqX2EqAyFwlgSl1UjZqjKCLAYgycJGDCK4gkPV1I9ZUpwdX+/AvaTzl9zz2dBEjRnRDAK3SCnUM1ECBX0ACRLeYTYNDmM2KFfQRMmFL7uqYi1wlgSl1XMNj6CbCCld7txtv0Co9d3nt3IbMPTAmuBkJmn1iQux/pNkGq74IAXqEL6pypgwC5gg6K7DGXAIM2FxELLCTQpim1sF1K8oQAptQTIcNrgwArPM296LgVr7BzsLXXV8+KpfrhlPDqByJJfz3aOdjqBUSaME4Ar2AcOQdqIkCuoAkk28wmwKDN5sNVOwm0YkrtbJWqPCKAKfVIzLBaIcAKS29vutXtFRbkFfcViVqbElwNhFSXipX0Ht4ApJFOCOAVOsHOoRoIkCtogMgW8wkwaPMZscI+ArpNqX0dUpGPBDClPqoaRE8EWEHI7F+TurzCCRfsO6zXVy8RfXXDlPDqy7FUO/wjSEddEMArdEGdM3UQIFfQQZE95hJg0OYiYoGFBHSZUgtboySPCWBKPRbX79YIsPzW19vudHiFnlw7QUj1mSnB1c29vnpV/lcIvYVIY8YJ4BWMI+dATQTIFTSBZJvZBBi02Xy4aicBHabUzs6oymcCmFKf1fW6NwIsr+X1t7kmXkGckx4RS/V/hFQ3TwmvPr1tOXu4v/TorCsCeIWuyHNuUwLkCk0Jcn8pAgxaKUwssoxAE1NqWSuUExABTGlAYvvVKgGWX3oG001dryCS9CFCqs9ODK7WP0aY7lxdvfrwYEDSqFECeAWjuDlMIwFyBY0w2Wo6AQZtOhuu2Eugrim1tyMqC4EApjQElb3skQDLS1n9b6qyV9g52Cpk9txYqp9NDq+yveKM9IH+k6PDLgngFbqkz9lNCJArNKHHvaUJMGilUbHQIgKVTalFtVNKuAQwpeFq73jnBFiOCxhq+VW8gpDpveNEZZOCq1iqH+bBVrRzsDVUlvRtjgBewRxrTtJLgFxBL092m0KAQZsChpetJlDFlFrdCMUFRQBTGpTcPjVLgOWTmgH1UtYr9GR2gZDqR5PCKyHVP4iV9B4BYaPVjgngFToWgONrEyBXqI2OG6sQYNCq0GKtLQTKmlJb6qUOCOQEMKXMgaMECLAcFS70sud5hcVk152FVH87Jbj6aSzVc6JosCV0jvRvlgBewSxvTtNHgFxBH0t2mkGAQZsBh0vWEphnSq0tnMKCJoApDVp+l5snwHJZvYBrn+UVFuTuRwqp/t+k8CpO1OcWl3c/LGB0tN4hAbxCh/A5uhEBcoVG+P7KdOcAACAASURBVLi5LAEGrSwp1tlEYJYptalOaoHAKAFM6SgNHjtEgADLIbEo9TYCk73CYEv+fVZCqpsmhFc3iyS9mL8weBtDHpkngFcwz5wT9RAgV9DDkV3mEGDQ5gDispUEJptSK0ulKAhsEMCUbqDggVsECLDc0otqDxIoeoXF5V3HrX+nlVSDCeHVF3r9tUcBDwJdE8ArdK0A59clQK5Qlxz3VSLAoFXCxWJLCBRNqSVlUQYEZhLAlM7Ew0V7CRBg2asNlc0gMOoVhExFLNU3JwRXAyGzDwiZ3nHGVlyCgDECeAVjqDlIMwFyBc1A2W4yAQZtMhdetZvAqCm1u1Kqg8BtBDClt7HgkVMECLCckotihwRyr/DKV148WD33Qx+Opbq1GF7FUv1EyOy84Xp+Q8AGAngFG1SghjoEyBXqUOOeygQYtMrIuMECAgRYFohACZUJYEorI+MGOwgQYNmhA1VUJPDyV/zR2896+gcnfVxwIPrq3/mi9opAWW6EAF7BCGYOaYEAuUILUNlyMwEGbTMTXrGfAAGW/RpR4WYCmNLNTHjFCQIEWE7IRJGjBLadkd3/cWf9w7XFd13lz3tSvXP79suPGl3PYwjYQgCvYIsS1FGVALlCVWKsr0WAQauFjZs6JkCA1bEAHF+LAKa0FjZu6p4AAVb3GlBBBQJxXy0Jqa4rhlcHPjKYnl1hK5ZCwDgBvIJx5ByoiQC5giaQbDObAIM2mw9X7SRAgGWnLlQ1mwCmdDYfrlpLgADLWmkobJzAYIvoZy+a9H1XQqqvieX0EePreQYB+wjgFezThIrKESBXKMeJVQ0JMGgNAXJ7JwQIsDrBzqENCWBKGwLk9q4IEGB1RZ5zSxM4cXnv0XGiPlJ811X+/PFnXf5vi8muO5fejIUQ6JAAXqFD+BzdiAC5QiN83FyWAINWlhTrbCJAgGWTGtRSlgCmtCwp1llGgADLMkEoZ5zAgrziviJRn58UXp19wV8PXvGK//Pr43fwDAL2EsAr2KsNlc0mQK4wmw9XNRFg0DSBZBujBAiwjOLmME0EMKWaQLKNaQIEWKaJc15pAgvL2TYh1TUTwqufPuPZf5XmPjf/b2/pDVkIgY4J4BU6FoDjaxMgV6iNjhurEGDQqtBirS0ECLBsUYI6qhDAlFahxVqLCBBgWSQGpdxGIO6r5wmpbp4QXv3Xtn72ULzCbax45A4BvII7WlHpOAFyhXEePGuJAIPWEli2bZUAprRVvGzeEgFMaUtg2bZtAgRYbRNm/0oEduy47Ha9RP3FhOBqECcq255ceWy+IV6hElYWW0IAr2CJEJRRmQC5QmVk3FCHAINWhxr3dE0AU9q1ApxfhwCmtA417rGAAAGWBSJQwgECj13ee3chs09MDK/66vVCpIcOWeEVhiT47RIBvIJLalHrKAFyhVEaPG6NAIPWGlo2bpEAprRFuGzdGgFMaWto2bhdAgRY7fJl95IERJI+JJbqqxPCqxt7Sfb04jZ4hSIRnrtAAK/ggkrUOIkAucIkKrymnQCDph0pGxoggCk1AJkjtBPAlGpHyoZmCBBgmeHMKTMI9OTaopDqugnh1TW9ZC2edCteYRIVXrOdAF7BdoWobxoBcoVpZHhdKwEGTStONjNEAFNqCDTHaCWAKdWKk83MESDAMseakyYQEDI9R0h104Tw6tOnnL7nnhNuWX8JrzCNDK/bTACvYLM61DaLALnCLDpc00aAQdOGko0MEsCUGoTNUdoIYEq1oWQjswQIsMzy5rQNAoMtQmZ/MCG4GohEvf8xq1fdfmPphAd4hQlQeMl6AngF6yWiwCkEyBWmgOFlvQQYNL082c0MAUypGc6copcAplQvT3YzRoAAyxhqDhoSWF29+nAh1bsmhVdxX70+2jnYOlw77TdeYRoZXreZAF7BZnWobRYBcoVZdLimjQCDpg0lGxkkgCk1CJujtBHAlGpDyUZmCRBgmeUd/GlCpncUUqUTwqtben31rLKA8AplSbHOJgJ4BZvUoJYqBMgVqtBibW0CDFptdNzYIQFMaYfwObo2AUxpbXTc2C0BAqxu+Qd1+uLyruOEVJ+ZEF79OO6rpSow8ApVaLHWFgJ4BVuUoI6qBMgVqhJjfS0CDFotbNzUMQFMaccCcHwtApjSWti4qXsCBFjdaxBEBUKm9xZSfWFCePWtnlw7oSoEvEJVYqy3gQBewQYVqKEOAXKFOtS4pzIBBq0yMm6wgACm1AIRKKEyAUxpZWTcYAcBAiw7dPC6isXl3Q8TUn1rU3iVqM/P+kuDs6DgFWbR4ZqtBPAKtipDXfMIkCvMI8R1LQQYNC0Y2cQwAUypYeAcp4UAplQLRjYxT4AAyzzzoE7s9dceJaT6XjG8iqX6pFhK71IXBl6hLjnu65IAXqFL+pzdhAC5QhN63FuaAINWGhULLSKAKbVIDEopTQBTWhoVC+0iQIBllx5eVdNbWTstluonxfBKyGzXict7j27SLF6hCT3u7YoAXqEr8pzblAC5QlOC3F+KAINWChOLLCOAKbVMEMopRQBTWgoTi+wjQIBlnyZeVCRkeraQ6qZieNWT6j0nXLDvsKZN4hWaEuT+LgjgFbqgzpk6CJAr6KDIHnMJMGhzEbHAQgKYUgtFoaS5BDClcxGxwE4CBFh26uJ0VaKfnh9LdWsxvIqlelO0c7BVR3N4BR0U2cM0AbyCaeKcp4sAuYIukuwzkwCDNhMPFy0lgCm1VBjKmkkAUzoTDxftJUCAZa82TlYm+tkzJ4VXIkkv1tkQXkEnTfYyRQCvYIo05+gmQK6gmyj7TSTAoE3EwouWE8CUWi4Q5U0kgCmdiIUX7SdAgGW/Rs5U2EvUbwup9o++82o9zEqy39TdBF5BN1H2M0EAr2CCMme0QYBcoQ2q7LmJAIO2CQkvOEAAU+qASJS4iQCmdBMSXnCDAAGWGzpZX2VPqotGg6uDj2+J++rcNorHK7RBlT3bJoBXaJsw+7dFgFyhLbLsO0aAQRvDwRNHCGBKHRGKMscIYErHcPDEHQIEWO5oZW2lop+9aFJ41etnT22raLxCW2TZt00CeIU26bJ3mwTIFdqky94bBBi0DRQ8cIgAptQhsSh1gwCmdAMFD9wiQIDlll7WVduT6uUTwqubRZI9uc1i8Qpt0mXvtgjgFdoiy75tEyBXaJsw+68TYNAYBBcJYEpdVI2aMaXMgKMECLAcFc6GsuNE/WExvIql+lncV0nb9eEV2ibM/m0QwCu0QZU9TRAgVzBBmTMiBo0hcJEAptRF1agZU8oMOEqAAMtR4bouO5bqZcXwSvTVDbFUO0zUhlcwQZkzdBPAK+gmyn6mCJArmCId+DkMWuAD4Gj7mFJHhQu8bExp4APgbvsEWO5q11nlQmbPL4ZXsVQ/Ef30FFNF4RVMkeYcnQTwCjppspdJAuQKJmkHfBaDFrD4DreOKXVYvIBLx5QGLL7brRNgua2f8epFPz1fSLW/EGDdKJL0cSaLwSuYpM1ZugjgFXSRZB/TBMgVTBMP9DwGLVDhHW8bU+q4gIGWjykNVHj32ybAcl9DYx2IJHtaLNWto+FV/p1XIklPN1bEwYPwCqaJc54OAngFHRTZowsC5ApdUA/wTAYtQNE9aBlT6oGIAbaAKQ1QdD9aJsDyQ8fWuxD99Ewh1S2j4VX+vCezJ7R++IQD8AoToPCS9QTwCtZLRIFTCJArTAHDy3oJMGh6ebKbGQKYUjOcOUUvAUypXp7sZowAAZYx1O4e1JNrZwipbi6GV6KfndVVV3iFrshzbhMCeIUm9Li3SwLkCl3SD+hsBi0gsT1qFVPqkZgBtYIpDUhsv1olwPJLT+3d9OTaopDqxkJ4tT9O1DO0H1ZhQ7xCBVgstYYAXsEaKSikIgFyhYrAWF6PAINWjxt3dUsAU9otf06vRwBTWo8bd3VOgACrcwnsLaDXX3uUkOpHm8IrqX6j66rxCl0rwPl1COAV6lDjHhsIkCvYoEIANTBoAYjsYYuYUg9FDaAlTGkAIvvZIgGWn7o27kok6UNiqb5fCK8GQqa/1XhzDRvgFTRAZAvjBPAKxpFzoCYC5AqaQLLNbAIM2mw+XLWTAKbUTl2oajYBTOlsPly1lgABlrXSdFfY4sqe44VU3yqGV71E/V53VY2fjFcY58EzNwjgFdzQiSo3EyBX2MyEV1ogwKC1AJUtWyeAKW0dMQe0QABT2gJUtjRBgADLBGWHztieXHlsLNV/FsOrWKo32dQGXsEmNailLAG8QllSrLONALmCbYp4Wg+D5qmwnreFKfVcYE/bw5R6Kqz/bRFg+a9x6Q5PWf34HYRUny6GV6Kf/lW0c7C19EYGFuIVDEDmCO0E8ArakbKhIQLkCoZAh34Mgxb6BLjZP6bUTd1CrxpTGvoEONs/AZaz0ukt/DGrV91eSLV7U3gl1aUnXLDvML2nNd8Nr9CcITuYJ4BXMM+cE/UQIFfQw5Fd5hBg0OYA4rKVBDClVspCUXMIYErnAOKyrQQIsGxVxmBdQqSHin720WJ4FScqy4Mtg6WUPgqvUBoVCy0igFewSAxKqUSAXKESLhbXJcCg1SXHfV0SwJR2SZ+z6xLAlNYlx30dEyDA6lgAG47Pv99qQnj1uZNO23OMDfVNqgGvMIkKr9lOAK9gu0LUN40AucI0MryulQCDphUnmxkigCk1BJpjtBLAlGrFyWbmCBBgmWNt5Un5XxYshldCqi8sLu86zsqCDxaFV7BZHWqbRgCvMI0Mr9tOgFzBdoU8qY9B80TIwNrAlAYmuCftYko9ETK8NgiwwtN8o2Mh07OFVPsLAdY1Yjm938YiSx/gFSwVhrJmEsArzMTDRYsJkCtYLI5PpTFoPqkZTi+Y0nC09qlTTKlPagbVCwFWUHLf1mws1Q4h1c2j4VUs1U96/bVH3bbK3kd4BXu1obLpBPAK09lwxW4C5Ap26+NNdQyaN1IG1QimNCi5vWkWU+qNlKE1QoAVmuJRFPXk2glCqh+NhldCqptEkj7OFRx4BVeUos5RAniFURo8dokAuYJLajlcK4PmsHgBl44pDVh8h1vHlDosXtilE2AFpv+2pew+oq++XQiv9sd9da5LKPAKLqlFrUMCeIUhCX67RoBcwTXFHK2XQXNUuMDLxpQGPgCOto8pdVQ4yibACmgGTl296k6xVP9ZCK8GsVQvcw0DXsE1xag3J4BXYA5cJUCu4KpyjtXNoDkmGOWuE8CUMgguEsCUuqgaNUdRRIAVyBiccMG+w2KpriiGVyJRb3MRAV7BRdWoGa/ADLhKgFzBVeUcq5tBc0wwyl0ngCllEFwkgCl1UTVqJsAKZwZEkv7ZpvCqn31UiPRQFyngFVxUjZrxCsyAqwTIFVxVzrG6GTTHBKPcdQKYUgbBRQKYUhdVo2YCrDBmoCfVRZvCK5nt27798qNcJYBXcFW5sOvGK4Stv8vdkyu4rJ5DtTNoDolFqRsEMKUbKHjgEAFMqUNiUeooAT5COErDw8e9lbXThFS3FAKsb4mV9B4ut4tXcFm9cGvHK4Srveudkyu4rqAj9TNojghFmWMEMKVjOHjiCAFMqSNCUWaRAAFWkYhHz7ctZw8XUv24EF79dEHufqTrbeIVXFcwzPrxCmHq7kPX5Ao+qOhADwyaAyJR4iYCmNJNSHjBAQKYUgdEosRJBAiwJlHx4LWTV3bfTUj1tdHwKpbqViFT6UF7EV7BBxXD6wGvEJ7mvnRMruCLkpb3waBZLhDlTSSAKZ2IhRctJ4AptVwgyptGgABrGhmHX3/M6lW3j6X65Gh4lT/OvwvL4bbGSscrjOHgiSME8AqOCEWZmwiQK2xCwgttEGDQ2qDKnm0TwJS2TZj92yCAKW2DKnsaIECAZQCy2SMGW0Si3r8pvErUX5ito93T8Art8mX3dgjgFdrhyq7tEyBXaJ8xJ0RR/vbqQf4DDAi4RABT6pJa1DokgCkdkuC3YwQIsBwTbF65QqYvLYZXQmZqdfXqw+fd69J1vIJLalHrkABeYUiC364RIFdwTTFH62XQHBUu8LIxpYEPgKPtY0odFY6yCbA8moHecrZ84Huu1GAkxPriYrLrzh61ud4KXsE3RcPoB68Qhs4+dkmu4KOqFvbEoFkoCiXNJYApnYuIBRYSwJRaKAollSFAgFWGkgNrestrvySkum4kuMpDrOt7S2sPdqD8yiXiFSoj4wYLCOAVLBCBEmoRIFeohY2bqhJg0KoSY70NBDClNqhADVUJYEqrEmO9JQQIsCwRokkZJ5225xgh1RdGw6v8nVhxXy012dfme/EKNqtDbdMI4BWmkeF12wmQK9iukCf1MWieCBlYG5jSwAT3pF1MqSdChtcGAZbrmu8cbI2l+rvR8Gr9cZL9ruutzaofrzCLDtdsJYBXsFUZ6ppHgFxhHiGuayHAoGnByCaGCWBKDQPnOC0EMKVaMLKJeQIEWOaZaz1RJNmrN4dX6oNRNNii9SDLNsMrWCYI5ZQigFcohYlFFhIgV7BQFB9LYtB8VNX/njCl/mvsY4eYUh9VDaInAiyHZRZJ9uRieBUn6nPbt19+lMNtlSodr1AKE4ssI4BXsEwQyilNgFyhNCoWNiHAoDWhx71dEcCUdkWec5sQwJQ2oce9HRIgwOoQfpOjty1nDxdS/bQQYH1v21J2nyb7unIvXsEVpahzlABeYZQGj10iQK7gkloO18qgOSxewKVjSgMW3+HWMaUOixd26QRYDuqff2l7LNWXCuHVzQtJtuBgO7VKxivUwsZNHRPAK3QsAMfXJkCuUBsdN1YhwKBVocVaWwhgSm1RgjqqEMCUVqHFWosIEGBZJEa5UgZbhFQfKoRXg1iq55S7349VeAU/dAytC7xCaIr70y+5gj9aWt0Jg2a1PBQ3hQCmdAoYXraaAKbUankobjoBAqzpbKy8ImT60mJ41ZPqnVYW22JReIUW4bJ1awTwCq2hZeOWCZArtAyY7Q8QYNCYBBcJYEpdVI2aMaXMgKMECLAcEq4n1xaFVLcUAqx/WVrad6RDbWgpFa+gBSObGCaAVzAMnOO0ESBX0IaSjWYRYNBm0eGarQQwpbYqQ12zCGBKZ9HhmsUECLAsFme0tG397BeFVNcUwqvrxRnpA0fXhfIYrxCK0n71iVfwS8+QuiFXCEntDntl0DqEz9G1CWBKa6Pjxg4JYEo7hM/RTQgQYDWhZ+jeEy7Yd1gs1ZWF8Gp/L8lWDJVg3TF4BeskoaASBPAKJSCxxEoC5ApWyuJfUQyaf5qG0BGmNASV/esRU+qfpoF0RIDlgNA9qd5cCK8Gop+90oHSWysRr9AaWjZukQBeoUW4bN0qAXKFVvGy+ZAAgzYkwW+XCGBKXVKLWocEMKVDEvx2jAABluWC9frZkzaFV4laEyI91PLSWy0Pr9AqXjZviQBeoSWwbNs6AXKF1hFzQE6AQWMOXCSAKXVRNWrGlDIDjhIgwLJYuMVkzwOEVNePBVh99e2TV3bfzeKyjZSGVzCCmUM0E8AraAbKdsYIkCsYQx32QQxa2Pq72j2m1FXlwq4bUxq2/g53T4BlqXjinPQIIdVnx8IrqW4SSXqSpSUbLQuvYBQ3h2kigFfQBJJtjBMgVzCOPMwDGbQwdXe9a0yp6wqGWT+mNEzdPeiaAMtSEWOp/rwQXg16ibrQ0nKNl4VXMI6cAzUQwCtogMgWnRAgV+gEe3iHMmjhae5Dx5hSH1QMrwdMaXiae9IxAZaFQookfWIxvBJS/W0UDbZYWG4nJeEVOsHOoQ0J4BUaAuT2zgiQK3SGPqyDGbSw9PalW0ypL0qG1QemNCy9PeqWAMsyMbedkd2/+L1XsVRfPXX1qjtZVmqn5eAVOsXP4TUJ4BVqguO2zgmQK3QuQRgFMGhh6Oxbl5hS3xQNox9MaRg6e9glAZZFoh783qvPFN59dVOcqMdYVKYVpeAVrJCBIioSwCtUBMZyawiQK1gjhd+FMGh+6+trd5hSX5X1uy9Mqd/6etwdAZZF4vb66q2F8GogZPpbFpVoTSl4BWukoJAKBPAKFWCx1CoC5ApWyeFvMQyav9r63Bmm1Gd1/e0NU+qvtp53RoBlicA9mT1hU3jVzz7K915NFgivMJkLr9pNAK9gtz5UN50AucJ0NlzRSIBB0wiTrYwRwJQaQ81BGglgSjXCZCuTBAiwTNKechbfezUFzIyX8Qoz4HDJWgJ4BWulobA5BMgV5gDish4CDJoejuxilgCm1CxvTtNDAFOqhyO7GCdAgGUc+fiBJ1yw7zAhs08U3n11c29l7cTxlTwbJYBXGKXBY1cI4BVcUYo6iwTIFYpEeN4KAQatFaxs2jIBTGnLgNm+FQKY0lawsmn7BAiw2mc88wSRZK8uhFcD0U9fMPMmLkZ4BYbARQJ4BRdVo+acALkCc2CEAINmBDOHaCaAKdUMlO2MEMCUGsHMIfoJEGDpZ1p6xzhRj42lurUQYF3G917NR4hXmM+IFfYRwCvYpwkVlSNArlCOE6saEmDQGgLk9k4IYEo7wc6hDQlgShsC5PauCBBgdUT+5NXdPy+k+tZoeBVL9d9iNb1rRyU5dSxewSm5KPYgAbwCo+AqAXIFV5VzrG4GzTHBKHedAKaUQXCRAKbURdWoOYoiAqxOxmCwJU7UR0bDKyHV/t7K2mmdlOPgoXgFB0Wj5AivwBC4SoBcwVXlHKubQXNMMMpdJ4ApZRBcJIApdVE1aibA6mYGeom6sBBeDWKpXtNNNW6eildwU7fQq8YrhD4B7vZPruCudk5VzqA5JRfFHiSAKWUUXCSAKXVRNWomwDI/A72ltQcLqX5aCLD+RZyTHmG+GndPxCu4q13IleMVQlbf7d7JFdzWz5nqGTRnpKLQEQKY0hEYPHSGAKbUGakodJwAHyEc59HqszykihP1uUJ49WNxRvrAVg/2cHO8goeiBtASXiEAkT1tkVzBU2Fta4tBs00R6ilDAFNahhJrbCOAKbVNEeopSYAAqyQoHct6Ur25EF4NRD89X8feoe2BVwhNcT/6xSv4oWOIXZArhKh6Bz0zaB1A58jGBDCljRGyQQcEMKUdQOdIHQQIsHRQLLHHQpIt5F/UPhpgxVL9TYlbWTKBAF5hAhResp4AXsF6iShwCgFyhSlgeFkvAQZNL092M0MAU2qGM6foJYAp1cuT3YwRIMAygHr79suPiqX60mh4JaT6+qmrV93JwPFeHoFX8FJW75vCK3gvsbcNkit4K61djTFodulBNeUIYErLcWKVXQQwpXbpQTWlCRBglUZVf2Es1ZsK4dV+IVNRf0fuxCswAy4SwCu4qBo15wTIFZgDIwQYNCOYOUQzAUypZqBsZ4QAptQIZg7RT4AASz/TsR17yVo84aODbxpbxJPKBPAKlZFxgwUE8AoWiEAJtQiQK9TCxk1VCTBoVYmx3gYCmFIbVKCGqgQwpVWJsd4SAgRYLQqxtLTvSCHVFwvvvvrKict7j27x2CC2xisEIbN3TeIVvJM0mIbIFYKRuttGGbRu+XN6PQKY0nrcuKtbApjSbvlzem0CBFi10c2/Ucj0dYXwan+vv3bq/DtZMY8AXmEeIa7bSACvYKMq1FSGALlCGUqsaUyAQWuMkA06IIAp7QA6RzYmgCltjJANuiFAgNUSd7GSPlpIdctYgJWot7V0XHDb4hWCk9yLhvEKXsgYZBPkCkHKbr5pBs08c05sTgBT2pwhO5gngCk1z5wTtRAgwNKCcXyTHTsuu10s1dWj4VUs1TdPOm3PMeMreVaXAF6hLjnu65IAXqFL+pzdhAC5QhN63FuaAINWGhULLSKAKbVIDEopTQBTWhoVC+0iQIDVgh69vnrVaHiVP+4la/0Wjgp2S7xCsNI73ThewWn5gi6eXCFo+c01z6CZY81J+ghgSvWxZCdzBDCl5lhzklYCBFhacUbRgtz9yE0fHZTpOzQfE/x2eIXgR8BJAHgFJ2Wj6CiKyBUYAyMEGDQjmDlEMwFMqWagbGeEAKbUCGYO0U+AAEsj09XVqw8XUv3r2Luv+urbp65edSeNx7DVgf8z9dbc5+b/7QUIBFwhgFdwRSnqLBIgVygS4XkrBBi0VrCyacsECLBaBsz2rRDAlLaClU3bJ0CApZGx6KevGAuv1j86mK1oPIKtDhLAKzAKLhLAK7ioGjXnBMgVmAMjBBg0I5g5RDMBTKlmoGxnhACm1AhmDtFPgABLE9NesvYrQqqbRgOsnlTv0bQ92xQI4BUKQHjqBAG8ghMyUeQEAuQKE6Dwkn4CDJp+puzYPgFMafuMOUE/AUypfqbsaIQAAZYGzEKkh8ZSfWo0vBJSfXd7cuWxGrZniwkE8AoToPCS9QTwCtZLRIFTCJArTAHDy3oJMGh6ebKbGQKYUjOcOUUvAUypXp7sZowAAZYG1L1E/V4hvBrEiVrVsDVbTCGAV5gChpetJoBXsFoeiptBgFxhBhwu6SPAoOljyU7mCGBKzbHmJH0EMKX6WLKTUQIEWA1xb0uyBwmpbhwNsOJEfaThttw+hwBeYQ4gLltJAK9gpSwUVYIAuUIJSCxpToBBa86QHcwTwJSaZ86JzQlgSpszZIdOCBBgNcCef3RQSPVPo+GVkOp7YjW9a4NtubUEAbxCCUgssY4AXsE6SSioJAFyhZKgWNaMAIPWjB93d0MAU9oNd05tRgBT2owfd3dGgACrAXqRpL9TCK8GIsme3GBLbi1JAK9QEhTLrCKAV7BKDoqpQIBcoQIsltYnwKDVZ8ed3RHAlHbHnpPrE8CU1mfHnZ0SIMCqib+3vPZLoq9uGAuw+tlHa27HbRUJ4BUqAmO5FQTwClbIQBE1CJAr1IDGLdUJMGjVmXFH9wQwpd1rQAXVCWBKqzPjDisIEGDVkWHnYKuQas9YeCXVdWIlvUed7binOgG8QnVm3NE9AbxC9xpQQT0C5Ar1uHFXRQIMWkVgLLeCAKbUavJdiAAAIABJREFUChkooiIBTGlFYCy3hQABVg0lhMyeXwivBnFfnVtjK26pSQCvUBMct3VKAK/QKX4Ob0CAXKEBPG4tT4BBK8+KlfYQwJTaowWVlCeAKS3PipVWESDAqijHtqXsPkKqH48HWNmuKBpsqbgVyxsQwCs0gMetnRHAK3SGnoMbEiBXaAiQ28sRYNDKcWKVXQQwpXbpQTXlCGBKy3FilXUECLCqSLJzsDVOVDYaXsVS/fCU0/fcs8o2rG1OAK/QnCE7mCeAVzDPnBP1ECBX0MORXeYQYNDmAOKylQQwpVbKQlFzCGBK5wDisq0ECLAqKBNL9ZzR8Gr9cT97ZoUtWKqJAF5BE0i2MUoAr2AUN4dpJECuoBEmW00nwKBNZ8MVewlgSu3VhsqmE8CUTmfDFasJEGCVlEfI9N5CquvHAqxErfHRwZIANS/DK2gGynZGCOAVjGDmkBYIkCu0AJUtNxNg0DYz4RX7CWBK7deICjcTwJRuZsIrThAgwCol02BLLNXlo+FVLNVPFuQV9y11O4u0E8AraEfKhgYI4BUMQOaIVgiQK7SClU2LBBi0IhGeu0AAU+qCStRYJIApLRLhuSMECLBKCCX62TNHw6v8cf5xwhK3sqQlAniFlsCybasE8Aqt4mXzFgmQK7QIl61vI8Cg3caCR+4QwJS6oxWV3kYAU3obCx45RYAAa45cC6df8QtCqh8UAqyrop2DrXNu5XKLBPAKLcJl69YI4BVaQ8vGLRMgV2gZMNsfIMCgMQkuEsCUuqgaNWNKmQFHCRBgzRFOSHVZIby6cVuSPWjObVxumQBeoWXAbN8KAbxCK1jZ1AABcgUDkDkiihg0psBFAphSF1WjZkwpM+AoAQKsGcLFfXVuIbwaCJk9f8YtXDJEAK9gCDTHaCWAV9CKk80MEiBXMAg75KMYtJDVd7d3TKm72oVcOaY0ZPWd7p0Aa4p8J6/svpuQ6trxACv7xOrqJYdMuYWXDRLAKxiEzVHaCOAVtKFkI8MEyBUMAw/1OAYtVOXd7htT6rZ+oVaPKQ1Veef7JsCaIqFI1AfHwyt1Y29p7cFTlvOyYQJ4BcPAOU4LAbyCFoxs0gEBcoUOoId4JIMWouru94wpdV/DEDvAlIaouhc9E2BNkFEk2ZML4VX+VwdfPGEpL3VEAK/QEXiObUQAr9AIHzd3SIBcoUP4IR3NoIWktj+9Ykr90TKkTjClIantVa8EWAU5xVJ6FyHVNYUA6zMnXLDvsMJSnnZIAK/QIXyOrk0Ar1AbHTd2TIBcoWMBQjmeQQtFab/6xJT6pWco3WBKQ1Hauz4JsAqSikS9vxBe3bxtOXt4YRlPOyaAV+hYAI6vRQCvUAsbN1lAgFzBAhFCKIFBC0Fl/3rElPqnaQgdYUpDUNnLHgmwRmSNE7VaCK/yvzr4+yNLeGgJAbyCJUJQRiUCeIVKuFhsEQFyBYvE8LkUBs1ndf3tDVPqr7Y+d4Yp9Vldr3sjwDoo72Ky685Cqu+MBlhxoj63unr14V5PgKPN4RUcFS7wsvEKgQ+Aw+2TKzgsnkulM2guqUWtQwKY0iEJfrtEAFPqklrUOkKAAOsgjJ5U7xkNr4RUN4vl9BEjrHhoEQG8gkViUEppAniF0qhYaBkBcgXLBPG1HAbNV2X97gtT6re+vnaHKfVVWe/7IsCKokgk6emF8Gog+ukrvFff4QbxCg6LF3DpeIWAxXe8dXIFxwV0pXwGzRWlqHOUAKZ0lAaPXSGAKXVFKeosEAg+wBIyvWMs1TdHA6xYqqt37LjsdgVWPLWIAF7BIjEopTQBvEJpVCy0jAC5gmWC+FoOg+arsn73hSn1W19fu8OU+qqs930FH2D1pHrDaHglpLql1197lPfKO94gXsFxAQMtH68QqPAetE2u4IGILrTAoLmgEjUWCWBKi0R47gIBTKkLKlHjBAJBB1iLy7sftv5dV1INNkKsJHv1BE68ZBkBvIJlglBOKQJ4hVKYWGQhAXIFC0XxsSQGzUdV/e8JU+q/xj52iCn1UdUgego4wBpsEVLt3giupBrEUn11aWnfkUEo73iTeAXHBQy0fLxCoMJ70Da5ggciutACg+aCStRYJIApLRLhuQsEMKUuqESNEwgEG2AJmZ49Gl7lj3ty7YwJjHjJQgJ4BQtFoaS5BPAKcxGxwFIC5AqWCuNbWQyab4qG0Q+mNAydfesSU+qbosH0E2SAdeLy3qOLX9wuZLYrGNU9aBSv4IGIAbaAVwhQdE9aJlfwREjb22DQbFeI+iYRwJROosJrthPAlNquEPVNIRBkgCWS7NWFd1/dtC3JHjSFES9bSACvYKEolDSXAF5hLiIWWEqAXMFSYXwri0HzTdEw+sGUhqGzb11iSn1TNJh+gguwtp2R3V9IdeNogNXrq1cFo7gnjeIVPBEysDbwCoEJ7lG75AoeiWlzKwyazepQ2zQCmNJpZHjdZgKYUpvVobYZBIILsERf/f1oeCX66tunrH78DjMYcclCAngFC0WhpLkE8ApzEbHAUgLkCpYK41tZDJpviobRD6Y0DJ196xJT6puiwfQTVIAl+umZY+FV/sXt/exJwajtUaN4BY/EDKgVvEJAYnvWKrmCZ4La2g6DZqsy1DWLAKZ0Fh2u2UoAU2qrMtQ1h0AwAdZjVq+6vZDqy4UAa08UDbbMYcRlCwngFSwUhZLmEsArzEXEAksJkCtYKoxvZTFovikaRj+Y0jB09q1LTKlvigbTTzABlpDZHxTCq1t6ydqvBKO0Z43iFTwTNJB28AqBCO1hm+QKHopqY0sMmo2qUNM8ApjSeYS4biMBTKmNqlBTCQJBBFgL8or7ir66YTTAivvq9SX4sMRSAngFS4WhrJkE8Aoz8XDRYgLkChaL41NpDJpPaobTC6Y0HK196hRT6pOaQfUSRIAlpLp0LLyS6r+FTO8YlNKeNYtX8EzQQNrBKwQitIdtkit4KKqNLTFoNqpCTfMIYErnEeK6jQQwpTaqQk0lCHgfYMV9tTQaXuWPe0n29BJsWGIxAbyCxeJQ2lQCeIWpaLhgOQFyBcsF8qU8Bs0XJcPqA1Malt6+dIsp9UXJ4PrwOsDaseOy28VS/WchwPrnaOdga3BKe9YwXsEzQQNpB68QiNAetkmu4KGoNrbEoNmoCjXNI4ApnUeI6zYSwJTaqAo1lSDgdYAVS/Wy0fAqlurWBbn7kSW4sMRyAngFywWivIkE8AoTsfCiAwTIFRwQyYcSGTQfVAyvB0xpeJr70DGm1AcVg+zB2wBrWz/7RSHVjwsB1luCVNnDpvEKHooaQEt4hQBE9rRFcgVPhbWtLQbNNkWopwwBTGkZSqyxjQCm1DZFqKckAW8DLCGzD4yGV0Kqa09e3f3zJbmwzHICeAXLBaK8iQTwChOx8KIDBMgVHBDJhxIZNB9UDK8HTGl4mvvQMabUBxWD7MHLAKsn1xYL4dWg11fPClJhT5vGK3gqrOdt4RU8F9jj9sgVPBbXptYYNJvUoJayBDClZUmxziYCmFKb1KCWCgS8C7BOuGDfYUKqfysEWJ9eXb3kkApcWGo5AbyC5QJR3kQCeIWJWHjRAQLkCg6I5EOJDJoPKobXA6Y0PM196BhT6oOKQfbgXYAVJ+qFhfBq/8Jyti1IdT1uGq/gsbget4ZX8Fhcz1sjV/BcYFvaY9BsUYI6qhDAlFahxVpbCGBKbVGCOioS8CrAEqvpXYVU140HWOk7KjJhuQME8AoOiESJmwjgFTYh4QVHCJArOCKU62UyaK4rGGb9mNIwdXe9a0yp6woGW79XAVYs1bvHwyt1/ckru+8WrLoeN45X8Fhcj1vDK3gsruetkSt4LrAt7TFotihBHVUIYEqr0GKtLQQwpbYoQR0VCXgTYIkkPUlItX80wIr76nkVebDcEQJ4BUeEoswxAniFMRw8cYgAuYJDYrlcKoPmsnrh1o4pDVd7lzvHlLqsXtC1exFg5V/QLqT67Fh4JdXV+Re6B62ux83jFTwW1+PW8Aoei+t5a+QKngtsS3sMmi1KUEcVApjSKrRYawsBTKktSlBHRQJeBFi9RF04Gl7ljxeSbKEiC5Y7RACv4JBYlLpBAK+wgYIHjhEgV3BMMFfLZdBcVS7sujGlYevvaveYUleVC75u5wOs7cmVxwqpfjAeYKXvC15ZzwHgFTwX2NP28AqeChtAW+QKAYhsQ4sMmg0qUENVApjSqsRYbwMBTKkNKlBDDQLOB1ixVH8+Gl7FUv1kYeWKe9VgwS0OEcArOCQWpW4QwCtsoOCBYwTIFRwTzNVyGTRXlQu7bkxp2Pq72j2m1FXlgq/b6QBLLKePiKW6tRBgvTh4VQMAgFcIQGQPW8QreChqIC2RKwQidNdtMmhdK8D5dQhgSutQ456uCWBKu1aA82sScDfA2jnYGkv1ydHwSkj1xR07LrtdTRbc5hABvIJDYlHqBgG8wgYKHjhGgFzBMcFcLZdBc1W5sOvGlIatv6vdY0pdVS74up0NsHoyu6AQXg16/ezxwSsaCAC8QiBCe9YmXsEzQQNqh1whILG7bJVB65I+Z9clgCmtS477uiSAKe2SPmc3IOBkgHXSaXuOEVJdMx5gZR9uwIFbHSOAV3BMMMpdJ4BXYBBcJUCu4KpyjtXNoDkmGOWuE8CUMgguEsCUuqgaNUdR5GSA1ZPqzePhlfrptqXsPigaDgG8Qjha+9QpXsEnNcPqhVwhLL0765ZB6ww9BzcggCltAI9bOyOAKe0MPQc3I+BcgLVtOXu4kOqW8QAr3dkMA3e7RgCv4Jpi1JsTwCswB64SIFdwVTnH6mbQHBOMctcJYEoZBBcJYEpdVI2a3XsH1mBLnKhsNLyKpfrq0tK+I1EzLAJ4hbD09qVbvIIvSobXB7lCeJp30jGD1gl2Dm1IAFPaECC3d0IAU9oJdg5tTsCpd2CJJHvaaHh14HEqm2NgB9cI4BVcU4x6cwJ4BebAVQLkCq4q51jdDJpjglHuOgFMKYPgIgFMqYuqUbNL78A6cXnv0UKqbxUCrH9AxTAJ4BXC1N31rvEKrisYbv3kCuFqb7RzBs0obg7TRABTqgkk2xglgCk1ipvD9BFw5h1YvUT98Wh4FUv1s97y2i/pQ8FOLhHAK7ikFrUOCeAVhiT47RoBcgXXFHO0XgbNUeECLxtTGvgAONo+ptRR4SjbiQBrsb/7l4VUN40GWKKfvRL5wiWAVwhXe5c7xyu4rF7YtZMrhK2/se4ZNGOoOUgjAUypRphsZYwAptQYag7SS8CJACuW6oqx8CpR3xCr6c/pRcFuLhHAK7ikFrUOCeAVhiT47RoBcgXXFHO0XgbNUeECLxtTGvgAONo+ptRR4Sjb+gBL9LOzxsIrqQYiSZ+IdGETwCuErb+r3eMVXFWOuskVmAEjBBg0I5g5RDMBTKlmoGxnhACm1AhmDtFPwOoAa2lp35FCqq8UAqw9UTTYoh8FO7pEAK/gklrUOiSAVxiS4LdrBMgVXFPM0XoZNEeFC7xsTGngA+Bo+5hSR4WjbKsDrPx7rgrh1c2Ly7sfhmwQwCswAy4SwCu4qBo15wTIFZgDIwQYNCOYOUQzAUypZqBsZ4QAptQIZg7RT8DaAEssp/cTUt04GmDlf4lQPwJ2dJEAXsFF1agZr8AMuEqAXMFV5Ryrm0FzTDDKXSeAKWUQXCSAKXVRNWqOosjeAEuqvx0Nr4RU3xEyvSOqQSAngFdgDlwkgFdwUTVqzgmQKzAHRggwaEYwc4hmAphSzUDZzggBTKkRzByin4CVAZaQqSiEVwORZE/T3z47ukoAr+CqcmHXjVcIW3+XuydXcFk9h2pn0BwSi1I3CGBKN1DwwCECmFKHxKLUUQL2BVg7B1uFzPaNBlixVJ/ki9tHZeMxXoEZcJEAXsFF1ag5J0CuwBwYIcCgGcHMIZoJYEo1A2U7IwQwpUYwc4h+AtYFWLFUTxkNr/LHcV+drL91dnSZAF7BZfXCrR2vEK72rndOruC6go7Uz6A5IhRljhHAlI7h4IkjBDCljghFmUUCVgVY4pz0iFiqr44GWLFUf1MsmucQwCswAy4SwCu4qBo15wTIFZgDIwQYNCOYOUQzAUypZqBsZ4QAptQIZg7RT8CqAKvXVy8ZDa+EVDctJnseoL9tdnSdAF7BdQXDrB+vEKbuPnRNruCDig70wKA5IBIlbiKAKd2EhBccIIApdUAkSpxEwJoA6+TV3T8vpLpuNMCK++r1k4rmNQjgFZgBFwngFVxUjZpzAuQKzIERAgyaEcwcopkAplQzULYzQgBTagQzh+gnYE2AFUv1ptHwSkj1A7GU3kV/y+zoAwG8gg8qhtcDXiE8zX3pmFzBFyUt74NBs1wgyptIAFM6EQsvWk4AU2q5QJQ3jYAVAVZvee2X8o8LjgZYPakumlY0r0MAr8AMuEgAr+CiatScEyBXYA6MEGDQjGDmEM0EMKWagbKdEQKYUiOYOUQ/ASsCrDhRHxkNr4RUX86/0F1/u+zoCwG8gi9KhtUHXiEsvX3qllzBJzUt7oVBs1gcSptKAFM6FQ0XLCaAKbVYHEqbRaDzAKuXrMWF8GrQ62dPmlU01yCAV2AGXCSAV3BRNWrOCZArMAdGCDBoRjBziGYCmFLNQNnOCAFMqRHMHKKfQMcB1mCLkOqfCwHWp6Odg636W2VHnwjgFXxSM5xe8ArhaO1bp+QKvilqaT8MmqXCUNZMApjSmXi4aCkBTKmlwlDWPAKdBlhCpmcXwqvBQpItzCua6xDAKzADLhLAK7ioGjXnBMgVmAMjBBg0I5g5RDMBTKlmoGxnhACm1AhmDtFPoLMAK/+OKyHVVwoB1of0t8iOPhLAK/ioqv894RX819jXDskVfFXWsr4YNMsEoZxSBDClpTCxyDICmFLLBKGcsgS6C7CS9HcK4dXN25LsQWULZ13YBPAKYevvavd4BVeVo25yBWbACAEGzQhmDtFMAFOqGSjbGSGAKTWCmUP0E+gkwBJL6V2EVNeNBlg9qd6gvz129JUAXsFXZf3uC6/gt74+d0eu4LO6FvXGoFkkBqWUJoApLY2KhRYRwJRaJAalVCHQTYAlszeOhldCqusXl3cdV6Vw1oZNAK8Qtv6udo9XcFU56iZXYAaMEGDQjGDmEM0EMKWagbKdEQKYUiOYOUQ/AeMB1mKy5wFCqpvGAqx+9iL9rbGjzwTwCj6r629veAV/tfW9M3IF3xW2pD8GzRIhKKMSAUxpJVwstoQAptQSISijKgHjAZaQ6kNj4ZVUX19a2ndk1cJZHzYBvELY+rvaPV7BVeWom1yBGTBCgEEzgplDNBPAlGoGynZGCGBKjWDmEP0EjAZYC8vZtkJ4NRBJ9mT9bbGj7wTwCr4r7Gd/eAU/dQ2hK3KFEFS2oEcGzQIRKKEyAUxpZWTcYAEBTKkFIlBCHQIGA6zBFiHVVYUA69PRzsHWOoVzT9gE8Aph6+9q93gFV5WjbnIFZsAIAQbNCGYO0UwAU6oZKNsZIYApNYKZQ/QTMBZg9frZkwrh1aAn1xb1t8SOIRDAK4Sgsn894hX80zSUjsgVQlG64z4ZtI4F4PhaBDCltbBxU8cEMKUdC8DxdQkYCbBWV68+XEj1X+MBVvbhukVzHwTwCsyAiwTwCi6qRs05AXIF5sAIAQbNCGYO0UwAU6oZKNsZIYApNYKZQ/QTMBJgiX72ovHwSt282N/9y/rbYcdQCOAVQlHarz7xCn7pGVI35Aohqd1hrwxah/A5ujYBTGltdNzYIQFMaYfwOboJgdYDrFNXr7pTLNX3xwKsfvonTYrmXgjgFZgBFwngFVxUjZpzAuQKzIERAgyaEcwcopkAplQzULYzQgBTagQzh+gn0HqA1ZPqDWPhlVTXLy7vOk5/K+wYEgG8Qkhq+9MrXsEfLUPrhFwhNMU76pdB6wg8xzYigClthI+bOyKAKe0IPMc2JdBqgLUgr7hvLNXPRgOsWKoXNy2a+yGAV2AGXCSAV3BRNWrOCZArMAdGCDBoRjBziGYCmFLNQNnOCAFMqRHMHKKfQKsBlkjUB0fDK5Gobywt7TtSfxvsGBoBvEJoivvRL17BDx1D7IJcIUTVO+iZQesAOkc2JoApbYyQDToggCntADpH6iDQWoAVJ+oxQqr9owFWLNVTdBTNHhDAKzADLhLAK7ioGjXnBMgVmAMjBBg0I5g5RDMBTKlmoGxnhACm1AhmDtFPoKUAa7AllurK0fBKSPWZaOdgq/4W2DFEAniFEFV3v2e8gvsahtoBuUKoyhvum0EzDJzjtBDAlGrByCaGCWBKDQPnOF0EWgmwYql+rRBeDUQ/PUVX0ewDAbwCM+AiAbyCi6pRc06AXIE5MEKAQTOCmUM0E8CUagbKdkYIYEqNYOYQ/QS0B1irq1cfLqT6r9EAK07UR/SXzo4hE8ArhKy+u73jFdzVLvTKyRVCnwBD/TNohkBzjFYCmFKtONnMEAFMqSHQHKObgPYAK07UC0fDKyHVLb2ltQfrLpz9wiaAVwhbf1e7xyu4qhx1kyswA0YIMGhGMHOIZgKYUs1A2c4IAUypEcwcop+A1gDrpNP2HBNL9f3RACuW6k36y2bH0AngFUKfADf7xyu4qRtV8xFCZsAQAQIsQ6A5RisBTKlWnGxmiACm1BBojtFNQGuAJWT6utHwSkh1vVhN76q7aPaDAF6BGXCRAF7BRdWoOSdArsAcGCHAoBnBzCGaCWBKNQNlOyMEMKVGMHOIfgLaAqzFlT3HC6luHA2wen31Ev0lsyME1v/P1Ftzn5v/txceEHCFAF7BFaWos0iAXKFIhOetEGDQWsHKpi0TIMBqGTDbt0IAU9oKVjZtn4C2AEvI7AOj4ZVI1DeWlvYd2X4LnBAiAbxCiKq73zNewX0NQ+2AXCFU5Q33zaAZBs5xWghgSrVgZBPDBDClhoFznC4CWgIssZI+Wki1fzTA6vWzp+oqkn0gUCSAVygS4bkLBPAKLqhEjZMIkCtMosJr2gkwaNqRsqEBAphSA5A5QjsBTKl2pGxohoCGAGuwRfSzvaPhlZDqs9HOwVYzLXBKiATwCiGq7n7PeAX3NQy1A3KFUJU33DeDZhg4x2khgCnVgpFNDBPAlBoGznG6CDQOsEQ/O6sQXg1EPz1FV4HsA4FJBPAKk6jwmu0E8Aq2K0R90wiQK0wjw+taCTBoWnGymSECmFJDoDlGKwFMqVacbGaOQKMAa3X16sOFVF8sBFiXmiufk0IlgFcIVXm3+8YruK1fyNWTK4SsvsHeGTSDsDlKGwFMqTaUbGSQAKbUIGyO0kmgUYAlZPb8Qnh1S29p7cE6C2QvCEwigFeYRIXXbCeAV7BdIeqbRoBcYRoZXtdKgEHTipPNDBHAlBoCzTFaCWBKteJkM3MEagdYJ5225xgh1ffGAqx+9qfmSuekkAngFUJW393e8Qruahd65eQKoU+Aof4ZNEOgOUYrAUypVpxsZogAptQQaI7RTaB2gCVk9tqx8EqqH4nV9K66C2Q/CEwigFeYRIXXbCeAV7BdIeqbRoBcYRoZXtdKgEHTipPNDBHAlBoCzTFaCWBKteJkM3MEagVYiyt7jhdS3TgeYKUvNVc2J4VOAK8Q+gS42T9ewU3dqDqKyBWYAiMEGDQjmDlEMwFMqWagbGeEAKbUCGYO0U+gVoAlEvX+sfAqUd/Yvv3yo/SXx44QmEwArzCZC6/aTQCvYLc+VDedALnCdDZc0UiAQdMIk62MEcCUGkPNQRoJYEo1wmQrkwQqB1hiJX20kGr/eICVPc1k0ZwFAbwCM+AiAbyCi6pRc06AXIE5MEKAQTOCmUM0E8CUagbKdkYIYEqNYOYQ/QQqB1ixVFeOhVdSfSbaOdiqvzR2hMB0AniF6Wy4Yi8BvIK92lDZbALkCrP5cFUTAQZNE0i2MUoAU2oUN4dpIoAp1QSSbUwTqBRgxX2VFMKrgeinp5gumvMggFdgBlwkgFdwUTVqzgmQKzAHRggwaEYwc4hmAphSzUDZzggBTKkRzByin0DpAEuI9FAh1X8UAqzL9JfEjhCYTwCvMJ8RK+wjgFewTxMqKkeAXKEcJ1Y1JMCgNQTI7Z0QwJR2gp1DGxLAlDYEyO1dESgdYMVS/cZoeBVLdauQ6f/sqnDODZsAXiFs/V3tHq/gqnLUTa7ADBghwKAZwcwhmglgSjUDZTsjBDClRjBziH4CpQIssZr+nOirb48GWL1E/YX+ctgRAuUI4BXKcWKVXQTwCnbpQTXlCZArlGfFygYEGLQG8Li1MwKY0s7Qc3ADApjSBvCm35p/MfhSFEV5UPKvURRdH0XRLQd/58/z10+PoogvEJ/OcN6VcgGWzH5/NLwSfXXDKafvuee8zbkOgbYI4BXaIsu+bRLAK7RJl73bJECu0CZd9t4gwKBtoOCBQwQwpQ6JRakbBDClGyh0PehFUfTvURQVA5ZJz/N1QtfBJfeZVEed10oe19qyYs2bDtqeXHlsLNUPxwOs7JWbFvICBAwSwCsYhM1R2gjgFbShZCPDBMgVDAMP9TgGLVTl3e4bU+q2fqFWjynVqvyFURTdWjK8GgYw+TuznqO1itmbDc9t+nv2Ke1fLda/6cSeVG8eC6+kuvbU1avutGkhL0DAIAG8gkHYHKWNAF5BG0o2MkyAXMEw8FCPY9BCVd7tvjGlbusXavWYUm3KnzshuNodRdGZURTdO4qiI6Iouk8URU+IomjPhLXnaKtk9kbF4Kfu89mntH+1WPfYiYvJngcIqW4aDbDivnre2CKeQKADAniFDqBzZGMCeIXGCNmgIwLkCh2BD+1YBi00xf3oF1Pqh46hdYEp1aL4/aIoumEklNofRdHvztn5ZVEU5euGQUx+/33n3KPj8vC84W8de3axx7D+4e+xGoTMPjAaXgmpvrxjx2W3G1vEEwh0QACv0AF0jmxMAK/QGCEbdESAXKEj8KEdy6DgO8YVAAAgAElEQVSFprgf/WJK/dAxtC4wpVoUf99IEJUHKq8tuevrC/e9t+R9TZYNA5/h7yZ7dXnvsP7h741aFuTuRwqp9o8GWL1+9qSNBTyAQIcE8Aodwufo2gTwCrXRcWPHBMgVOhYglOMZtFCU9qtPTKlfeobSDaa0sdL/s/BOqi8f/LhgmY1vH0VRvn4YwuTvyPqVMjc2WDM8a/i7wVad3jqsf/h7oxiRqLXR8EpI9dlo54C/+LhBiAddEsArdEmfs+sSwCvUJcd9XRMgV+hagUDOZ9ACEdqzNjGlngkaSDuY0sZCF99F9cKKO140EmDlYUzZd29VPGZj+TDwGf7euODYg2H9w9/r5feStX4hvBrEiXqsY71RrscE8Aoei+txa3gFj8X1vDVyBc8FtqU9Bs0WJaijCgFMaRVarLWFAKa0sRJfHQmg8r9AeJeKO+brR/9yYf6OrDb/DQOf4e82z2pz72H9w9/R6uolh4hEfX48wMo+1mYR7A2BqgTwClWJsd4GAngFG1SghjoEyBXqUOOeygQYtMrIuMECAphSC0SghMoEMKWVkY3e8PCR8CoPUj41erHC408X9sk/ltjWv2HgM/zd1jlt7zusf/g7ihP1jNHwKpbq1oWV3b/adiHsD4EqBPAKVWix1hYCeAVblKCOqgTIFaoSY30tAgxaLWzc1DEBTGnHAnB8LQKY0lrYhjc9oxA81f34X37fMIjJf583PKCF36Pn5I9d/TfWx2NWr7q9kOrrowFWT6p3utocdftLAK/gr7Y+d4ZX8Fldv3sjV/BbX2u6Y9CskYJCKhDAlFaAxVJrCGBKG0nxx4Xg6fyauxWDsD+quU+Z28aCnzI3WLpmrA8h05eOhlexVD9bXNlzvKW1U1bABPAKAYvvcOt4BYfFC7x0coXAB8BU+wyaKdKco5MAplQnTfYyRQBT2oh0/v1Ko0HKKTV3y79kfHSfy2ruU+a20XPyx/mX0O+NouibURTdGEXRT6Io+noURfuiKPrTKIqeFEXR0WU2Nrxmo4/DDr/DIJbqh6MBlkiyVxuuh+MgUIoAXqEUJhZZRgCvYJkglFOaALlCaVQsbEKAQWtCj3u7IoAp7Yo85zYhgCltQi+6uhA83b/mbg8o7PP5mvuUuW0j+CmcOev166IoelUURXcsc4ChNRv13v9hFw7GwiupfrCY7LqzoTo4BgKVCOAVKuFisSUE8AqWCEEZlQmQK1RGxg11CDBodahxT9cEMKVdK8D5dQhgSutQ27jna4UQ6NiNK9UeHFfY5yvVbq+0eiP4KZxZ5vW8rv+v0mntLV6v94gj7zbYtvzxsQArTtQL2zuWnSHQjABeoRk/7u6GAF6hG+6c2pwAuUJzhuxQggCDVgISS6wjgCm1ThIKKkEAU1oC0vQl1xZCoLoftfsfhX2+P/3IxleGQVX+kcE3RFH0hCiK8neA5e+uOjSKortEUZT/dcVnR1H0iUJd+b35xwy3Na6i+Qbrffzy//r9sfBKJOob+Re6N9+eHSDQDgG8Qjtc2bVdAniFdvmye3sEyBXaY8vOIwQYtBEYPHSGAKbUGakodIQApnQERvWHNxUCnjwAqvPvsMI+P6uzScl78u+7Oi2Koq0l1+drrynUlwd3XX9B+uDoYx44EDIdC7B6/eypJftiGQQ6IYBX6AQ7hzYkgFdoCJDbOyNArtAZ+rAOZtDC0tuXbjGlvigZVh+Y0kZ66wqw8uBr+M6o/HebAVadhu8VRdG3CjVeUmcjjfcMfuXEPx4Lr+JEfS7aOSgbzGksha0gUJ4AXqE8K1baQwCvYI8WVFKNALlCNV6srkmAQasJjts6JYAp7RQ/h9ckgCmtCe7AbT8ohDoufISwbsMnFnrNg7aH1N2s6X13vuujx8Kr/Evce/21U5vuy/0QaJsAXqFtwuzfBgG8QhtU2dMEAXIFE5Q5I2LQGAIXCWBKXVSNmjGljWagrS9x/2qjqtq7+SOFEOt3Sxw1+s4yLY+3bNk6+F8Lby8GWGmJWlgCgc4J4BU6l4ACahDAK9SAxi1WECBXsEIG/4sYDhq/Lx7AAAbMADPADNg5A8cee+xYIPOCF7yg1n+z8/tGg6Hjjjuu1j5tz8lZZ501Vufxxx8/t87RvnQ9vtu9Hl8Ir9LBS172xrm1tM2H/e383ym6oAszwAwwA8yA/wkKHXZKgP/I8B8ZZoAZYAaYAdtn4P73v/9YoHP++efXClHOO++8sX0e8IAH1NqnbV4XXXTRWJ3HHHPM3Dp1hVbDfbYecvjgMadeMhZgPegRL51bR9ts2J//XjEDzAAzwAwwA/bOQKfhBof7T2D4P37/O6VDnwjwsQCf1AynFz4W0Ejr1w6DlYO/z6u52/mFfV5Tc5+2bzuqUOdPShw4FnoV7q987Z4PeNJYeLVt+eOD2x9193wf/kHACQJ4BSdkosgCAbxCAQhPnSFAruCMVG4XyqC5rV+o1WNKQ1Xe7b4xpY30e0YhkMkDrTr/ikFYHmjZ+O/IQr9lAixtfZx02p5jYqm+n39h+/Dnfg999jAE03YOG0GgTQJ4hTbpsndbBPAKbZFl37YJkCu0TZj91wkwaAyCiwQwpS6qRs2Y0kYz8PBCoPOpmrt9urBPvq+N/+5dqPPLJosUMnvtMLjKf5902t8NDjv8DgRYJkXgrMYE8AqNEbJBBwTwCh1A50gtBMgVtGBkk3kEGLR5hLhuIwFMqY2qUNM8ApjSeYTmXs//YuAwRLkliqI7z71jfEG+/taRPb4yftmqZ08cqTPvebep6oRM7y2kunE0wMo/TjhSj6lSOAcCjQjgFRrh4+aOCOAVOgLPsY0JkCs0RsgGZQgwaGUoscY2AphS2xShnjIEMKVlKM1c8/qRECUPVF4wc/Xmiy8s3P+6zUuseeUDhVp3mqoslurdo+HVYx73gcEhhxxBgGVKAM7RRgCvoA0lGxkkgFcwCJujtBIgV9CKk82mEWDQppHhdZsJYEptVofaphHAlE4jU/r1/ON++0eCnfxjdUeUvPv2URTl64dBTL7Pr5S81/SyEwp95jU/wkQRCyu7fzWW6tbRAOtu9zptyGz420QpnAGBxgTwCo0RskEHBPAKHUDnSC0EyBW0YGSTeQQYtHmEuG4jAUypjapQ0zwCmNJ5hEpdf99ICJUHKmW/zL347q33ljrttkXD8Gb4+7Yreh8dF0VR/tHG4Tn578v0HjF9NyGzXaPhlUjU57ds2TpaS/6YfxBwggBewQmZKLJAAK9QAMJTZwiQKzgjlduFMmhu6xdq9ZjSUJV3u29MqRb97hdF0Q0jAU/+TqqXzNn5pYV3NOX333fOPcXLVUOcT0RRlH+P1eHFjWY8PymKoq+N9Jafmf/1wQfPuEfbJZGkjxsLr/K/QJikpxfqIcDSRpyN2iaAV2ibMPu3QQCv0AZV9jRBgFzBBGXOiBg0hsBFAphSF1WjZkypthl4+oRQJYui6Mwoiu4VRdHtoijK/4rfahRFeyasPbdGJVUDrOH666Moyr/P6tlRFC1EUXTPKIruEEXRIQd/PzCKovOiKPqHCXXeHEXRaTVqrX7LzsFWIdVnxgOsTB3caNjL8Hf1/bkDAh0QwCt0AJ0jGxPAKzRGyAYdESBX6Ah8aMcyaKEp7ke/mFI/dAytC0ypVsV/q/AXBYfhyqzf+V8gvLBmFcV9521TXF/1+beiKNo+7xBd13tJ9vTx8ErtFyvpow/uX6xd17HsA4FWCeAVWsXL5i0RwCu0BJZtWydArtA6Yg7ICTBozIGLBDClLqpGzZhS7TOQv6PpPya8c6kYuOTP83W9BhUU95y3VXF92efXRVGU/3XEu8w7QNf1x6xedXsh1ddGA6yeVO8Z2b9Y+8glHkLAXgJ4BXu1obLpBPAK09lwxW4C5Ap26+NNdQyaN1IG1QimNCi5vWkWU9qKlFujKOpHUfSOKIqujqLoRwffmZX/zp+/PYqi5SiK8nVN/lUNce4WRVH+/VEvPljb7iiKvhBF0bVRFN14sMYfHvzC9n+Moij/kvmzoig6qkmRde4VSfa7o+FVLNXPFuQVo98RVrX3OmVwDwS0E8AraEfKhgYI4BUMQOaIVgiQK7SClU2LBBi0IhGeu0AAU+qCStRYJIApLRLhedcExFJ6FyHVdYUA6zWFugiwCkB46gYBvIIbOlHlOAG8wjgPnrlDgFzBHa2crpRBc1q+YIvHlAYrvdONY0qdls/L4ntSvWE0vBJS/WAx2XXnQrMEWAUgPHWDAF7BDZ2ocpwAXmGcB8/cIUCu4I5WTlfKoDktX7DFY0qDld7pxjGlTsvnXfGLK3uOzz8uOBpg9aS6aEKjBFgToPCS/QTwCvZrRIWbCeAVNjPhFTcIkCu4oZPzVTJozksYZAOY0iBld75pTKnzEnrVgEjU+0fDKyHV15eW9h05oUkCrAlQeMl+AngF+zWiws0E8AqbmfCKGwTIFdzQyfkqGTTnJQyyAUxpkLI73zSm1HkJvWlgQe5+pJBq/2iAFUv1lCkNEmBNAcPLdhPAK9itD9VNJoBXmMyFV+0nQK5gv0ZeVMigeSFjcE1gSoOT3IuGMaVeyOhFE0KqPaPhlZDqs9HOwbS/1EiA5YXq4TWBVwhPcx86xiv4oGKYPZArhKm78a4ZNOPIOVADAUypBohsYZwAptQ4cg6cQEDIVBbCq8H/z96bgEt2lfX6qzNARoYwhykQBiFggFy4hiS9V53uJLbJ6VrVUOB1wKAQUf+CIpOK16goPAoiXq5cEBFBRXKdkfyBpE+t6o5NvDZcFQLIDCozQcbMqfus06eSXfvsqtp711p7r+E9z9NPVe1a61vf935fqn/9S1WdbKDPL1k6vYSBNSXBbVAE0ApBtYtktwigFRiFUAngK4TaucDyZtACaxjpbhJAlDIIIRJAlIbYtbhyHg4vPzpT+tpZA2v8riVVYmAtAcTTfhJAK/jZF7JaTACtsJgPz/pLAF/B395ElRmDFlU7kykGUZpMq6MqFFEaVTuDLCZT+ify5lWm9K1r+w48YUkxGFhLAPG0nwTQCn72hawWE0ArLObDs/4SwFfwtzdRZcagRdXOZIpBlCbT6qgKRZRG1c7gipHD0Umyrz+fN7Ck0n9YoRAMrAqQWOIfAbSCfz0ho+UE0ArLGbHCTwL4Cn72JbqsGLToWppEQYjSJNocXZGI0uhaGlRBUo0umzGv+vr63RcffFCFIjCwKkBiiX8E0Ar+9YSMlhNAKyxnxAo/CeAr+NmX6LJi0KJraRIFIUqTaHN0RSJKo2tpMAVdMPj7e0ulvzFrYI1fXrEADKyKoFjmFwG0gl/9IJtqBNAK1Tixyj8C+Ar+9STKjBi0KNsafVGI0uhbHGWBiNIo2xpEUZnSr58xr5S+7sLhoVMqJo+BVREUy/wigFbwqx9kU40AWqEaJ1b5RwBfwb+eRJkRgxZlW6MvClEafYujLBBRGmVbvS+qt3fjkVLpm2cNrPHzaiSOgVUDFkv9IYBW8KcXZFKdAFqhOitW+kUAX8GvfkSbDYMWbWujLgxRGnV7oy0OURpta70uLBvov5k1r/Qn9+y54s41ksbAqgGLpf4QQCv40wsyqU4ArVCdFSv9IoCv4Fc/os2GQYu2tVEXhiiNur3RFocojba13ha2tne8s2BeTWR//PSaCWNg1QTGcj8IoBX86ANZ1COAVqjHi9X+EMBX8KcXUWfCoEXd3miLQ5RG29qoC0OURt1eD4ub7JBKH8obWJnS/yDEZEfNZDGwagJjuR8E0Ap+9IEs6hFAK9TjxWp/COAr+NOLqDNh0KJub7TFIUqjbW3UhSFKo26vd8WZd1rlzStzf20wXmuQKAZWA2hs6Z4AWqH7HpBBfQJohfrM2OEHAXwFP/oQfRYMWvQtjrJARGmUbY2+KERp9C32psCzLj18rFT6Y3kDy3wXVsMEMbAagmNbtwTQCt3y5/RmBNAKzbixq3sC+Ard9yCJDBi0JNocXZGI0uhamkRBiNIk2uxFkVKNn5c3r6TSt/TWN85omBwGVkNwbOuWAFqhW/6c3owAWqEZN3Z1TwBfofseJJEBg5ZEm6MrElEaXUuTKAhRmkSbOy/ynL1Xn5wp/cW8gZUp/foVEsPAWgEeW7sjgFbojj0nNyeAVmjOjp3dEsBX6JZ/MqczaMm0OqpCEaVRtTOZYhClybS600Jlf/zyvHkllf7WefsO3G+FpDCwVoDH1u4IoBW6Y8/JzQmgFZqzY2e3BPAVuuWfzOkMWjKtjqpQRGlU7UymGERpMq3urNC1i/ffP1P627MG1uiyFRPCwFoRINu7IYBW6IY7p65GAK2wGj92d0cAX6E79kmdzKAl1e5oikWURtPKpApBlCbV7k6KlWr05rx5ZT5KuGfPNXdZMRkMrBUBsr0bAmiFbrhz6moE0Aqr8WN3dwTwFbpjn9TJDFpS7Y6mWERpNK1MqhBEaVLtbr3YXXsPfHem9K15A0sORs+xkAgGlgWIhGifAFqhfeacuDoBtMLqDInQDQF8hW64J3cqg5Zcy6MoGFEaRRuTKwJRmlzLWy1YqvG7ZswrpT9y1qWHj7WQBAaWBYiEaJ8AWqF95py4OgG0wuoMidANAXyFbrgndyqDllzLoygYURpFG5MrAlGaXMtbKzjbq3sF82oi1UhZSgADyxJIwrRLAK3QLm9Os0MArWCHI1HaJ4Cv0D7zJE9k0JJse/BFI0qDb2GSBSBKk2y7+6Ivmxwl1fjwjIHV1+8VYrLD0uEYWJZAEqZdAmiFdnlzmh0CaAU7HInSPgF8hfaZJ3kig5Zk24MvGlEafAuTLABRmmTbnRfd64+fMWNeKT3p7ds4x+LBGFgWYRKqPQJohfZYc5I9AmgFeyyJ1C4BfIV2eSd7GoOWbOuDLhxRGnT7kk0eUZps650VLi8ZHSeV/nTewOopfbnlAzGwLAMlXDsE0ArtcOYUuwTQCnZ5Eq09AvgK7bFO+iQGLen2B1s8ojTY1iWdOKI06fY7Kb6n9Ivy5pVU+qadTxk/3PJhGFiWgRKuHQJohXY4c4pdAmgFuzyJ1h4BfIX2WCd9EoOWdPuDLR5RGmzrkk4cUZp0+60Xf+5FB++eKf3VvIHVU/p3rR8kBAaWA6iEdE8AreCeMSfYJ4BWsM+UiO0QwFdoh3PypzBoyY9AkAAQpUG2LfmkEaXJj4BVAL2B/u28eSWV/sauvVfdx+ohR4JhYDmASkj3BNAK7hlzgn0CaAX7TInYDgF8hXY4J38Kg5b8CAQJAFEaZNuSTxpRmvwIWAMg1eg0qfQNeQOr19e/YO2A2UAYWLM8eBQIAbRCII0izRkCaIUZHDwIiAC+QkDNCjlVBi3k7qWbO6I03d6HXDmiNOTu+ZV7T+k/zZtXmdL/sb5++ARHWWJgOQJLWLcE0Apu+RLdDQG0ghuuRHVPAF/BPWNOEEIwaIxBiAQQpSF2jZwRpcyADQJSjR6XKX1r3sDqDcY/aiP2nBgYWHPAcNlvAmgFv/tDduUE0ArlXLjqPwF8Bf97FEWGDFoUbUyuCERpci2PomBEaRRt7LwIqcZX5c0rqfSHpBwd4zAxDCyHcAntjgBawR1bIrsjgFZwx5bIbgngK7jlS/QtAgwaoxAiAURpiF0jZ0QpM7AqATkYXVwwryaZ0ntWjbtkPwbWEkA87ScBtIKffSGrxQTQCov58Ky/BPAV/O1NVJkxaFG1M5liEKXJtDqqQhGlUbWz9WKGw8uPlkp/oGBgjVpIBAOrBcgcYZ8AWsE+UyK6J4BWcM+YE9wQwFdww5WoBQIMWgEID4MggCgNok0kWSCAKC0A4WEtArI/elbBvLqtpzbOqhWk2WIMrGbc2NUxAbRCxw3g+EYE0AqNsLHJAwL4Ch40IYUUGLQUuhxfjYjS+HqaQkWI0hS67KbGs4eHjpdKf3bGwOqP/tjNaduiYmBtQ8KFEAigFULoEjkWCaAVikR4HAoBfIVQOhV4ngxa4A1MNH1EaaKND7xsRGngDewwfalGL50xr5S+QarRaS2lhIHVEmiOsUsArWCXJ9HaIYBWaIczp9gngK9gnykRSwgwaCVQuOQ9AUSp9y0iwRICiNISKFxaSmDt4v33l0p/M29gZUq/aulGewswsOyxJFKLBNAKLcLmKGsE0ArWUBKoZQL4Ci0DT/U4Bi3VzoddN6I07P6lmj2iNNXOr1a3VPqtBfPqqxcOD52yWtRauzGwauFisS8E0Aq+dII86hBAK9ShxVqfCOAr+NSNiHNh0CJubsSlIUojbm7EpSFKI26uo9LkvtH3SKVvyxtYUo3+P0fHzQuLgTWPDNe9JoBW8Lo9JDeHAFphDhgue08AX8H7FsWRIIMWRx9TqwJRmlrH46gXURpHH9urYrIjU/ofZs0r/aGzLj18bHs5bJ6EgdUycI6zQwCtYIcjUdolgFZolzen2SOAr2CPJZEWEGDQFsDhKW8JIEq9bQ2JLSCAKF0Ah6e2EZBqdEnBvJr0+hsXblvo/gIGlnvGnOCAAFrBAVRCOieAVnCOmAMcEcBXcASWsLMEGLRZHjwKgwCiNIw+keUsAUTpLA8ezScgh6OTMqX/Y9bAGv/1/B1On8HAcoqX4K4IoBVckSWuSwJoBZd0ie2SAL6CS7rEvp0Ag3Y7Cu4ERABRGlCzSPV2AojS21FwZwkB2R+/PG9eZUrfuGtw8BFLtrl6GgPLFVniOiWAVnCKl+COCKAVHIElrHMC+ArOEXOAIcCgMQchEkCUhtg1ckaUMgNVCOzad/Chsq+vzxtYcjB6RZW9jtZgYDkCS1i3BNAKbvkS3Q0BtIIbrkR1TwBfwT1jTsDAYgYCJYAoDbRxiaeNKE18ACqWL5X+qxnzSukv7B5eedeK210sw8ByQZWYzgmgFZwj5gAHBNAKDqASshUCGFitYOYQBo0ZCJEAojTErpEzopQZWEZgbTBeK5hXk6yvn7lsn+PnMbAcAya8GwJoBTdcieqWAFrBLV+iuyOAr+COLZFzBBi0HAzuBkMAURpMq0g0RwBRmoPB3W0EhsPLj5ZK/0vewMqUfp+4bHLUtsXtXsDAapc3p1kigFawBJIwrRJAK7SKm8MsEsBXsAiTUPMJMGjz2fCMvwQQpf72hszmE0CUzmfDM0LIwfin8uaVVPq2rK/P84ANBpYHTSCF+gTQCvWZsaN7AmiF7ntABs0I4Cs048aumgQYtJrAWO4FAUSpF20giZoEEKU1gSW0/NyLDt5dKv3lGQOrP/pjTxBgYHnSCNKoRwCtUI8Xq/0ggFbwow9kUZ8AvkJ9ZuxoQIBBawCNLZ0TQJR23gISaEAAUdoAWiJbekr/7ox5pfR3dl988EGelI+B5UkjSKMeAbRCPV6s9oMAWsGPPpBFfQL4CvWZsaMBAQatATS2dE4AUdp5C0igAQFEaQNoCWzZORg/Sip9U97AypT+JY9Kx8DyqBmkUp0AWqE6K1b6QwCt4E8vyKQeAXyFerxY3ZAAg9YQHNs6JYAo7RQ/hzckgChtCC7ybVKN35U3r6TSn11fP3yCR2VjYHnUDFKpTgCtUJ0VK/0hgFbwpxdkUo8AvkI9XqxuSIBBawiObZ0SQJR2ip/DGxJAlDYEF/G23mCjXzCvJj01fppnJWNgedYQ0qlGAK1QjROr/CKAVvCrH2RTnQC+QnVWrFyBAIO2Ajy2dkYAUdoZeg5egQCidAV4EW4dDq+9U6b0v84YWP3x1UJMdnhWLgaWZw0hnWoE0ArVOLHKLwJoBb/6QTbVCeArVGfFyhUIMGgrwGNrZwQQpZ2h5+AVCCBKV4AX4VbZH784b15lSt8q947+i4elYmB52BRSWk4ArbCcESv8I4BW8K8nZFSNAL5CNU6sWpEAg7YiQLZ3QgBR2gl2Dl2RAKJ0RYARbd+196r7SKX/s2Bgvd7TEjGwPG0MaS0mgFZYzIdn/SSAVvCzL2S1nAC+wnJGrLBAgEGzAJEQrRNAlLaOnAMtEECUWoAYSYjeQL+pYF59XQ5H9/W0PAwsTxtDWosJoBUW8+FZPwmgFfzsC1ktJ4CvsJwRKywQYNAsQCRE6wQQpa0j50ALBBClFiBGEGJt34EnbH5cUOnJ1MTqDfTzPS4NA8vj5pDafAJohflseMZfAmgFf3tDZosJ4Css5sOzlggwaJZAEqZVAojSVnFzmCUCiFJLIIMOM9khlT4wNa62bj+2Z88Vd/a4LAwsj5tDavMJoBXms+EZfwmgFfztDZktJoCvsJgPz1oiwKBZAkmYVgkgSlvFzWGWCCBKLYEMOEyvP/6Bgnk16fXH3+d5SRhYnjeI9MoJoBXKuXDVbwJoBb/7Q3bzCeArzGfDMxYJMGgWYRKqNQKI0tZQc5BFAohSizADDHX28NDxUulPFwys9wRQCgZWAE0ixe0E0ArbmXDFfwJoBf97RIblBPAVyrlw1TIBBs0yUMK1QgBR2gpmDrFMAFFqGWhg4bK+/pWCeXVzb33jjADKwMAKoEmkuJ0AWmE7E674TwCt4H+PyLCcAL5COReuWibAoFkGSrhWCCBKW8HMIZYJIEotAw0o3M7++IGZ0t/OG1iZ0q8KpAQMrEAaRZqzBNAKszx4FAYBtEIYfSLL7QTwFbYz4YoDAgyaA6iEdE4AUeocMQc4IIAodQA1kJCZ0m/Pm1dS6S9JNbpbIOljYAXSKNKcJYBWmOXBozAIoBXC6BNZbieAr7CdCVccEGDQHEAlpHMCiFLniDnAAQFEqQOoAYTs7ds4Ryp924yB1R//eACpT1PEwJqS4DYoAmiFoNpFslsE0AqMQqgE8BVC7VxgeTNogTWMdDcJIEoZhBAJIEpD7NqKOV82OUoq/Y8z5pXS/zQcXn70ipHb3I6B1SZtzrJGAK1gDSWBWiSAVmgRNkdZJYCvYBUnweYRYNDmkeG6zwQQpT53h9zmEUCUziMT7/WeGl9aMK8mUo1kYBVjYAXWMNI9QgCtwH3hFUYAACAASURBVCSESACtEGLXyNkQwFdgDlohwKC1gplDLBNAlFoGSrhWCCBKW8HszSF79lxzF9nXn88bWD2lL/cmweqJYGBVZ8VKjwigFTxqBqlUJoBWqIyKhZ4RwFfwrCGxpsOgxdrZuOtClMbd31irQ5TG2tnyusxvGcybV7Kvr5dqdFr5aq+vYmB53R6Sm0cArTCPDNd9JoBW8Lk75LaIAL7CIjo8Z40Ag2YNJYFaJIAobRE2R1kjgCi1htL7QHLv6GFS6RvyBlZP6V/1PvHyBDGwyrlw1XMCaAXPG0R6pQTQCqVYuBgAAXyFAJoUQ4oMWgxdTK8GRGl6PY+hYkRpDF2sVkOm9Dvz5pUc6H+/4IJ3n1htt3erMLC8awkJVSGAVqhCiTW+EUAr+NYR8qlKAF+hKinWrUSAQVsJH5s7IoAo7Qg8x65EAFG6Er5gNsv+aPeMeaX0RA7GPxhMAdsTxcDazoQrARBAKwTQJFLcRgCtsA0JFwIhgK8QSKNCT5NBC72DaeaPKE2z76FXjSgNvYPL85dydIwc6A8WDKxDQkx2LN/t7QoMLG9bQ2KLCKAVFtHhOV8JoBV87Qx5LSOAr7CMEM9bIcCgWcFIkJYJIEpbBs5xVgggSq1g9DpI1tc/mzevMqVvXVMHnuR10suTw8BazogVHhJAK3jYFFJaSgCtsBQRCzwlgK/gaWNiS4tBi62jadSDKE2jz7FViSiNraOz9Vw4PHRKpvRX8wZWb6DfNLsqyEcYWEG2jaTRCsxAiATQCiF2jZwNAXwF5qAVAgxaK5g5xDIBRKlloIRrhQCitBXMnR0iB6P/lTevpNLfPG/fgft1lpC9gzGw7LEkUosE0AotwuYoawTQCtZQEqhlAvgKLQNP9TgGLdXOh103ojTs/qWaPaI03s73BhtnSqVvmTGwBqOXRFIxBlYkjUytDLRCah2Po160Qhx9TLEKfIUUu95BzQxaB9A5cmUCiNKVERKgAwKI0g6gt3SkVHqUN68ypT8hLxkd19Lxro/BwHJNmPhOCKAVnGAlqGMCaAXHgAnvjAC+gjO0BM4TYNDyNLgfCgFEaSidIs88AURpnkY897OBHubNqyP3RyqeCgUGVkTNTKkUtEJK3Y6nVrRCPL1MrRJ8hdQ63lG9DFpH4Dl2JQKI0pXwsbkjAojSjsA7PNa8y0oq/am8gZUpvd/hkV2ExsDqgjpnrkwArbAyQgJ0QACt0AF0jrRCAF/BCkaCLCPAoC0jxPM+EkCU+tgVclpGAFG6jFB4z8vB+Bfz5pVU+mY5GD0mvEoWZoyBtRAPT/pKAK3ga2fIaxEBtMIiOjznMwF8BZ+7E1FuDFpEzUyoFERpQs2OqFREaUTNFEKsqf2nS6W/M2Ng9UevjavKzWowsCJsagoloRVS6HJ8NaIV4utpKhXhK6TS6Y7rZNA6bgDHNyKAKG2EjU0dE0CUdtwAy8dLpd8zY14pfZ1cH93T8jE+hMPA8qEL5FCbAFqhNjI2eEAAreBBE0ihEQF8hUbY2FSXAINWlxjrfSCAKPWhC+RQlwCitC4xf9fLwfhHCubVRA5Gz/E345Uyw8BaCR+buyKAVuiKPOeuQgCtsAo99nZJAF+hS/oJnc2gJdTsiEpFlEbUzIRKQZTG0WzzLiup9JdmDKy+fq+4bHJUHBVuqwIDaxsSLoRAAK0QQpfIsUgArVAkwuNQCOArhNKpwPNk0AJvYKLpI0oTbXzgZSNKA2/gVvqZ0n+SN68ypW/c1T/w6DiqK60CA6sUCxd9J4BW8L1D5FdGAK1QRoVrIRDAVwihSxHkyKBF0MQES0CUJtj0CEpGlIbfxF5/48K8eXXk/uiy8CtbWAEG1kI8POkrAbSCr50hr0UE0AqL6PCczwTwFXzuTkS5MWgRNTOhUhClCTU7olIRpWE3c3398AmZ0p8oGFgfkZeMjgu7sqXZY2AtRcQCHwmgFXzsCjktI4BWWEaI530lgK/ga2ciy4tBi6yhiZSDKE2k0ZGViSgNu6GZ0q/Km1eZ0rfKwejcsKuqlD0GViVMLPKNAFrBt46QTxUCaIUqlFjjIwF8BR+7EmFODFqETU2gJERpAk2OsEREabhN7Q02zpRK35w3sGR//LpwK6qVOQZWLVws9oUAWsGXTpBHHQJohTq0WOsTAXwFn7oRcS4MWsTNjbg0RGnEzY24NERpmM2VcnRMpvT7ZswrpT8n1ehuYVZUO2sMrNrI2OADAbSCD10gh7oE0Ap1ibHeFwL4Cr50IvI8GLTIGxxpeYjSSBsbeVmI0jAbnA30Cwvm1aQ3GO8Ls5pGWWNgNcLGpq4JoBW67gDnNyGAVmhCjT0+EMBX8KELCeTAoCXQ5AhLRJRG2NQESkKUhtdkqUanSaW/NWNg9cd/F14lK2WMgbUSPjZ3RQCt0BV5zl2FAFphFXrs7ZIAvkKX9BM6m0FLqNkRlYoojaiZCZWCKA2v2ZnS786bV5nSX5f7Rg8Ir5KVMsbAWgkfm7sigFboijznrkIArbAKPfZ2SQBfoUv6CZ3NoCXU7IhKRZRG1MyESkGUhtXsXn/8jLx5Ze5nSv9EWFVYyRYDywpGgrRNAK3QNnHOs0EArWCDIjG6IICv0AX1BM9k0BJsegQlI0ojaGKCJSBKw2n6rsFV98iU/uKsgTW+Rlw2OSqcKqxlioFlDSWB2iSAVmiTNmfZIoBWsEWSOG0TwFdom3ii5zFoiTY+8LIRpYE3MNH0EaXhNF4q/da8eZUpfWNvfeOMcCqwmikGllWcBGuLAFqhLdKcY5MAWsEmTWK1SQBfoU3aCZ/FoCXc/IBLR5QG3LyEU0eUhtH8tcF4TSp924yB1de/Ekb2TrLEwHKClaCuCaAVXBMmvgsCaAUXVInZBgF8hTYoc4Zg0BiCEAkgSkPsGjkjSv2fgfX1wydIpT8+Y14p/a/yktFx/mfvLEMMLGdoCeySAFrBJV1iuyKAVnBFlriuCeAruCZM/E0CDBqDECIBRGmIXSNnRKn/MyAH49/Km1fmnVjmHVn+Z+40Qwwsp3gJ7ooAWsEVWeK6JIBWcEmX2C4J4Cu4pEvs2wkwaLej4E5ABBClATWLVG8ngCi9HYWXd3qDjTOl0jflDaxM6dd7mWy7SWFgtcub0ywRQCtYAkmYVgmgFVrFzWEWCeArWIRJqPkEGLT5bHjGXwKIUn97Q2bzCSBK57Pp+pnh8PKjpRofzptXsq8/f+5FB+/edW4enI+B5UETSKE+AbRCfWbs6J4AWqH7HpBBMwL4Cs24sasmAQatJjCWe0EAUepFG0iiJgFEaU1gLS6X/dELZswrpSc9tfGUFlPw+SgMLJ+7Q25zCaAV5qLhCY8JoBU8bg6pLSSAr7AQD0/aIsCg2SJJnDYJIErbpM1ZtgggSm2RtBtnbd/+B0ulv5k3sDKl32n3lKCjYWAF3b50k0crpNv7kCtHK4TcvbRzx1dIu/+tVc+gtYaagywSQJRahEmo1gggSltDXesgqfQ78uaVVPobO/vjB9YKEvdiDKy4+xttdWiFaFsbdWFohajbG3Vx+ApRt9ef4hg0f3pBJtUJIEqrs2KlPwQQpf70YpqJVKMfKphXEzkY/9T0eW43CWBgMQhBEkArBNm25JNGKyQ/AsECwFcItnVhJc6ghdUvsj1CAFHKJIRIAFHqV9d2Da66R6b0F2cNrPE15gvd/cq082wwsDpvAQk0IYBWaEKNPV0TQCt03QHOb0oAX6EpOfbVIsCg1cLFYk8IIEo9aQRp1CKAKK2Fy/nibKD/aNa80jf3BhtnOj84vAMwsMLrGRkLIdAKjEGIBNAKIXaNnA0BfAXmoBUCDFormDnEMgFEqWWghGuFAKK0FcyVDsn26p5U+rZZA2v8a5U2p7cIAyu9nkdRMVohijYmVwRaIbmWR1MwvkI0rfS7EAbN7/6QXTkBRGk5F676TQBR6kd/zh4eOl4q/fG8eZUp/a/yktFxfmToXRYYWN61hISqEEArVKHEGt8IoBV86wj5VCWAr1CVFOtWIsCgrYSPzR0RQJR2BJ5jVyKAKF0Jn7XNvb7+zbx5Zd6JtTYYr1k7IL5AGFjx9TSJitAKSbQ5uiLRCtG1NJmC8BWSaXW3hTJo3fLn9GYEEKXNuLGrWwKI0m75m9N37T3w3VLpm/IGVq+v39B9Zl5ngIHldXtIbh4BtMI8Mlz3mQBawefukNsiAvgKi+jwnDUCDJo1lARqkQCitEXYHGWNAKLUGspGgcxvF5RK/2PevJJ9/flzLzp490YB09mEgZVOr6OqFK0QVTuTKQatkEyroysUXyG6lvpZEIPmZ1/IajEBROliPjzrJwFEabd96Q3082fMK6Un2UAPu80qiNMxsIJoE0kWCaAVikR4HAIBtEIIXSLHMgL4CmVUuGadAINmHSkBWyCAKG0BMkdYJ4AotY60csC1ffsfLJX+Zt7AypR+Z+UAaS/EwEq7/8FWj1YItnVJJ45WSLr9QRePrxB0+8JJnkELp1dkegcBROkdLLgXDgFEaXe9kkq/I29eSaW/JdXotO4yCupkDKyg2kWyUwJohSkJbkMigFYIqVvkmieAr5CnwX1nBBg0Z2gJ7JAAotQhXEI7I4AodYZ2YeBef/wDBfNqkin90ws38WSeAAZWngb3gyGAVgimVSSaI4BWyMHgblAE8BWCale4yTJo4fYu5cwRpSl3P9zaEaXt9+7C4aFTMqW/mDewMqX/wXyhe/vZBHsiBlawrUs7cbRC2v0PtXq0QqidI298BWagFQIMWiuYOcQyAUSpZaCEa4UAorQVzDOHSDV6c968kkrfLNXocTOLeLCMAAbWMkI87yUBtIKXbSGpJQTQCksA8bS3BPAVvG1NXIkxaHH1M5VqEKWpdDquOhGl7fZTqpGUSt82Y2D1Ry9rN4soTsPAiqKN6RWBVkiv5zFUjFaIoYtp1oCvkGbfW6+aQWsdOQdaIIAotQCREK0TQJS2h/zs4aHjpdIfmzGvlP6ovGR0XHtZRHMSBlY0rUyrELRCWv2OpVq0QiydTK8OfIX0et5JxQxaJ9g5dEUCiNIVAbK9EwKI0vawy8HoFQXz6rae2tjVXgZRnYSBFVU70ykGrZBOr2OqFK0QUzfTqgVfIa1+d1Ytg9YZeg5egQCidAV4bO2MAKK0HfQ9tXHWke+60pM7TKzRG9s5PcpTMLCibGv8RaEV4u9xjBWiFWLsaho14Suk0efOq2TQOm8BCTQggChtAI0tnRNAlLpvgfmIYKb0tXcYV5sm1hfMbyN0f3q0J2BgRdvauAtDK8Td31irQyvE2tn468JXiL/HXlTIoHnRBpKoSQBRWhMYy70ggCh134ZM6VcVzKtJNtBD9ydHfQIGVtTtjbc4tEK8vY25MrRCzN2NuzZ8hbj76011DJo3rSCRGgQQpTVgsdQbAohSt62Qg9G5mdK35g2sTOk/cXtqEtExsJJoc3xFohXi62kKFaEVUuhynDXiK8TZV++qYtC8awkJVSCAKK0AiSXeEUCUumuJHI5Okkp/vGBe/QcfHbTCHAPLCkaCtE0ArdA2cc6zQQCtYIMiMboggK/QBfUEz2TQEmx6BCUjSiNoYoIlIErdNb030G/Km1dS6dsypfe4OzGpyBhYSbU7nmLRCvH0MqVK0AopdTuuWvEV4uqnt9UwaN62hsQWEECULoDDU94SQJS6aU3W1+sF82rSU/r33JyWZFQMrCTbHn7RaIXwe5hiBWiFFLseR834CnH00fsqGDTvW0SCJQQQpSVQuOQ9AUSp/RbJ9dE9ZV9/Pm9gZUp/4py9V59s/7RkI2JgJdv6sAtHK4Tdv1SzRyuk2vnw68ZXCL+HQVTAoAXRJpIsEECUFoDwMAgCiFL7beopfXnBvLp1be94p/2Tko6IgZV0+8MtHq0Qbu9SzhytkHL3w64dXyHs/gWTPYMWTKtINEcAUZqDwd1gCCBK7bYqU/qH8+bV5v3B6BV2TyGaEAIDizEIkgBaIci2JZ80WiH5EQgWAL5CsK0LK3EGLax+ke0RAohSJiFEAohSe13b2R8/UCp9Xd7AypS+Vl4yOs7eKUTaIoCBxSgESQCtEGTbkk8arZD8CAQLAF8h2NaFlTiDFla/yPYIAUQpkxAiAUSpna4Nh5cfLZU+WDCvbuwNNs60cwJRCgQwsApAeBgGAbRCGH0iy1kCaIVZHjwKhwC+Qji9CjpTBi3o9iWbPKI02dYHXTii1E77MqV/KW9emfs9pV9kJzpRSghgYJVA4ZL/BNAK/veIDLcTQCtsZ8KVMAjgK4TRp+CzZNCCb2GSBSBKk2x78EUjSldvYU9tnCWVvqlgYB0w78paPToR5hDAwJoDhst+E0Ar+N0fsisngFYo58JV/wngK/jfoygyZNCiaGNyRSBKk2t5FAUjSldr4wUXvPvETOl/LZhXX9t98cEHrRaZ3UsIYGAtAcTTfhJAK/jZF7JaTACtsJgPz/pLAF/B395ElRmDFlU7kykGUZpMq6MqFFG6WjulGr2xYF5N5GD0/atFZXcFAhhYFSCxxD8CaAX/ekJGywmgFZYzYoWfBPAV/OxLdFkxaNG1NImCEKVJtDm6IhGlzVsq1UhtM6/U6M3NI7KzBgEMrBqwWOoPAbSCP70gk+oE0ArVWbHSLwL4Cn71I9psGLRoWxt1YYjSqNsbbXGI0matPX/v1adKpb9cMLA+uWfPNXdpFpFdNQlgYNUExnI/CKAV/OgDWdQjgFaox4vV/hDAV/CnF1FnwqBF3d5oi0OURtvaqAtDlDZo72WTozKl310wr25e64+f3CAaW5oRwMBqxo1dHRNAK3TcAI5vRACt0AgbmzwggK/gQRNSSIFBS6HL8dWIKI2vpylUhCit32XZH7+4YF5NpBpdVj8SO1YggIG1Ajy2dkcArdAde05uTgCt0JwdO7slgK/QLf9kTmfQkml1VIUiSqNqZzLFIErrtTrbp5+YKX1jwcD6x7MuPXxsvUisXpEABtaKANneDQG0QjfcOXU1AmiF1fixuzsC+ArdsU/qZAYtqXZHUyyiNJpWJlUIorR6u6Ua3U0q/cm8eZUp/fU1tf/06lFYaYkABpYlkIRplwBaoV3enGaHAFrBDkeitE8AX6F95kmeyKAl2fbgi0aUBt/CJAtAlFZve0/pP82bV5v3B+MfrB6BlRYJYGBZhEmo9gigFdpjzUn2CKAV7LEkUrsE8BXa5Z3saQxasq0PunBEadDtSzZ5RGm11svB6DlF86rX12+otptVDghgYDmASkj3BNAK7hlzgn0CaAX7TInYDgF8hXY4J38Kg5b8CAQJAFEaZNuSTxpRunwEeusbZ2RKfztvYGVKX7u+fviE5btZ4YgABpYjsIR1SwCt4JYv0d0QQCu44UpU9wTwFdwz5gQhBIPGGIRIAFEaYtfIGVG6eAbkJaPjsoH+57x5Jfv6+t5g48zFO3nWMQEMLMeACe+GAFrBDVeiuiWAVnDLl+juCOAruGNL5BwBBi0Hg7vBEECUBtMqEs0RQJTmYJTclWr0xhnzSulJT40vLVnKpXYJYGC1y5vTLBFAK1gCSZhWCaAVWsXNYRYJ4CtYhEmo+QQYtPlseMZfAohSf3tDZvMJIErns8mU/m/bzSt9+fwdPNMiAQysFmFzlD0CaAV7LInUHgG0QnusOckuAXwFuzyJNocAgzYHDJe9JoAo9bo9JDeHAKK0HMyuwcFHZEp/PW9gZUp/5sLhoVPKd3C1ZQIYWC0D5zg7BNAKdjgSpV0CaIV2eXOaPQL4CvZYEmkBAQZtARye8pYAotTb1pDYAgKI0u1wLrjg3SfKgf5g3rySSt+cDfTZ21dzpSMCGFgdgefY1QigFVbjx+5uCKAVuuHOqasTwFdYnSERKhBg0CpAYol3BBCl3rWEhCoQQJRuhySVfmvBvJr0Bvr521dypUMCGFgdwufo5gTQCs3ZsbM7AmiF7thz8moE8BVW48fuigQYtIqgWOYVAUSpV+0gmYoEEKWzoORg9JyieZUN9N8IMdkxu5JHHRPAwOq4ARzfjABaoRk3dnVLAK3QLX9Ob04AX6E5O3bWIMCg1YDFUm8IIEq9aQWJ1CCAKL0DVm+wcaZU+jsFA+tju4dX3vWOVdzzhAAGlieNII16BNAK9Xix2g8CaAU/+kAW9QngK9Rnxo4GBBi0BtDY0jkBRGnnLSCBBgQQpUegSTW6W6b0J2bMq76+fm3fgSc0wMoW9wQwsNwz5gQHBNAKDqAS0jkBtIJzxBzgiAC+giOwhJ0lwKDN8uBRGAQQpWH0iSxnCSBKDY/JDjnQfzljXik9kWr8Y7O0eOQRAQwsj5pBKtUJoBWqs2KlPwTQCv70gkzqEcBXqMeL1Q0JMGgNwbGtUwKI0k7xc3hDAohSIeRg9JJt5lV/9McNkbKtHQIYWO1w5hTLBNAKloESrhUCaIVWMHOIAwL4Cg6gEnI7AQZtOxOu+E8AUep/j8hwO4HURWm2V/ek0jcXDKx/WV8/fMJ2WlzxiAAGlkfNIJXqBNAK1Vmx0h8CqWsFfzpBJnUJ4CvUJcb6RgQYtEbY2NQxAURpxw3g+EYEUhaluy8++CCp9Jfy5lWm9Nd3DQ4+ohFMNrVJAAOrTdqcZY0AWsEaSgK1SCBlrdAiZo5yQABfwQFUQm4nwKBtZ8IV/wkgSv3vERluJ5CqKD17eOh4qcaH8+aVuZ8N9HA7Ja54SAADy8OmkNJyAmiF5YxY4R+BVLWCf50go7oE8BXqEmN9IwIMWiNsbOqYAKK04wZwfCMCqYrS3kC/qWheycH4txpBZFMXBDCwuqDOmSsTQCusjJAAHRBIVSt0gJojLRPAV7AMlHDlBBi0ci5c9ZsAotTv/pBdOYEURalU4+dtM6/U+CopR8eUU+KqhwQwsDxsCiktJ4BWWM6IFf4RSFEr+NcFMmpCAF+hCTX21CbAoNVGxgYPCCBKPWgCKdQmkJoo7e3bOCdT+saCgfXp84YH7lUbHhu6JICB1SV9zm5MAK3QGB0bOySQmlboEDVHWyaAr2AZKOHKCTBo5Vy46jcBRKnf/SG7cgIpidKd/fEDM6W/OGNe9fX1PbVxVjkdrnpMAAPL4+aQ2nwCaIX5bHjGXwIpaQV/u0BmTQjgKzShxp7aBBi02sjY4AEBRKkHTSCF2gRSEaXyktFxUun/M2NeKT2RanRJbWhs8IEABpYPXSCH2gTQCrWRscEDAqloBQ9Qk4JlAvgKloESrpwAg1bOhat+E0CU+t0fsisnkIoolWr05u3m1fjV5VS4GgABDKwAmkSK2wmgFbYz4Yr/BFLRCv53ggzrEsBXqEuM9Y0IMGiNsLGpYwKI0o4bwPGNCKQgSrOBfuE282qgN/jS9kYj48smDCxfOkEetQigFWrhYrEnBFLQCp6gJg3LBPAVLAMlXDkBBq2cC1f9JoAo9bs/ZFdOIHZRmim9Ryp9S97AypT+DF/aXj4PAV3FwAqoWaR6BwG0wh0suBcOgdi1QjidINO6BPAV6hJjfSMCDFojbGzqmACitOMGcHwjAjGL0p398WOl0t/Im1dS6W/t3Dt+fCNYbPKJAAaWT90gl8oE0AqVUbHQIwIxawWPMJOKAwL4Cg6gEnI7AQZtOxOu+E8AUep/j8hwO4FYRemuwVX3kEp/vGBe3Sb746dvp8CVAAlgYAXYNFIWAq3AFIRIIFatEGIvyLkeAXyFerxY3ZAAg9YQHNs6JYAo7RQ/hzckEKMoPevSw8dKpUcF82oiB+NfbIiJbf4RwMDyrydkVIEAWqECJJZ4RyBGreAdZBJyQgBfwQlWghYJMGhFIjwOgQCiNIQukWORQIyitNfXbyiaVz2lLxdisqNYP4+DJYCBFWzr0k4crZB2/0OtPkatEGovyLseAXyFerxY3ZAAg9YQHNs6JYAo7RQ/hzckEJsoLf2Ng2p8eH398AkNEbHNTwIYWH72hayWEEArLAHE014SiE0reAmZpJwQwFdwgpWgRQIMWpEIj0MggCgNoUvkWCQQkyiVaqQypW8tvPvqs+ftO3C/Yt08Dp4ABlbwLUyzALRCmn0PveqYtELovSD/egTwFerxYnVDAgxaQ3Bs65QAorRT/BzekEAsolTuHf0X8xsGC+bVd7J9+okN0bDNbwIYWH73h+zmEEArzAHDZa8JxKIVvIZMck4I4Cs4wUrQIgEGrUiExyEQQJSG0CVyLBKIQZTuXB8/RCr9hYJ5dVtvMN5XrJfH0RDAwIqmlWkVglZIq9+xVBuDVoilF9RRjwC+Qj1erG5IgEFrCI5tnRJAlHaKn8MbEghdlO4eXnlXqfQHCubVpKf0ixoiYVsYBDCwwugTWRYIoBUKQHgYBIHQtUIQkEnSCQF8BSdYCVokwKAVifA4BAKI0hC6RI5FAiGL0uHw2jtlSu8vmldyoH+/WCePoyOAgRVdS9MoCK2QRp9jqzJkrRBbL6inHgF8hXq8WN2QAIPWEBzbOiWAKO0UP4c3JBCuKJ3s6Cn9lm3mldJXSDk6piEOtoVDAAMrnF6RaY4AWiEHg7vBEAhXKwSDmEQdEcBXcASWsLMEGLRZHjwKgwCiNIw+keUsgVBFaU/p3yiaV5nS75PD0UmzFfIoUgIYWJE2Nvay0AqxdzjO+kLVCnF2g6rqEMBXqEOLtY0JMGiN0bGxQwKI0g7hc3RjAiGK0mygn11iXn3m/L1Xn9oYBBtDI4CBFVrHyHeTAFqBQQiRQIhaIUTO5GyfAL6CfaZELCHAoJVA4ZL3BBCl3reIBEsIhCZK5WB0sVT65ryBlSn99V17D3x3SXlcipcABla8vY26MrRC1O2NtrjQtEK0jaCw2gTwFWojY0MTAgxaE2rs6ZoAorTrDnB+EwIhidI1deBJUulv5c0rqfRN2UCf36R29gRNAAMr6PalmzxaId3eh1x5SFohZM7kbp8AvoJ9pkQsIcCglUDhkvcEEKXet4gESwiEbAMoHwAAIABJREFUIkp3DsaPypT+asG8uk0Oxj9SUhaX4ieAgRV/j6OsEK0QZVujLyoUrRB9IyiwNgF8hdrI2NCEAIPWhBp7uiaAKO26A5zfhEAIotR8t5VU+tMF82oiB6OXNKmZPVEQwMCKoo3pFYFWSK/nMVQcglaIgTM12CeAr2CfKRFLCDBoJVC45D0BRKn3LSLBEgK+i9LdwyvvKpX+p6J51VP690rK4VI6BDCw0ul1VJWiFaJqZzLF+K4VkmkEhdYmgK9QGxkbmhBg0JpQY0/XBBClXXeA85sQ8FmUyktGx0mlDxTNK6n0Xw2Hlx/dpF72REMAAyuaVqZVCFohrX7HUq3PWiEWxtThhgC+ghuuRC0QYNAKQHgYBAFEaRBtIskCAV9FqTGopBr/eYl5Ndqz54o7F8rgYXoEMLDS63kUFaMVomhjckX4qhWSawQF1yaAr1AbGRuaEGDQmlBjT9cEEKVdd4DzmxDwUpReNjkqU/oPSsyr/7tnzzV3aVIne6IjgIEVXUvTKAitkEafY6vSS60QG2TqcUIAX8EJVoIWCTBoRSI8DoEAojSELpFjkYB/onSyQ/bHrysxrz553r4D9yvmz+NkCWBgJdv6sAtHK4Tdv1Sz908rpNoJ6q5LAF+hLjHWNyLAoDXCxqaOCSBKO24Axzci4JsolYPxb5WYV1/u7d14ZKMC2RQrAQysWDsbeV1ohcgbHGl5vmmFSDFTlgMC+AoOoBJyOwEGbTsTrvhPAFHqf4/IcDsBn0RppvSrSsyrr63tO/CE7ZlzJXECGFiJD0Co5aMVQu1c2nn7pBXS7gTV1yWAr1CXGOsbEWDQGmFjU8cEEKUdN4DjGxHwRZRmA/3rRfMqU/rra+rAkxoVxqbYCWBgxd7hSOtDK0Ta2MjL8kUrRI6Z8hwQwFdwAJWQ2wkwaNuZcMV/AohS/3tEhtsJ+CBKe0r/atG8kkp/a23veOf2jLkCgU0CGFgMQpAE0ApBti35pH3QCsk3AQCNCOArNMLGproEGLS6xFjvAwFEqQ9dIIe6BLoWpVKNXop5VbdrrBdCYGAxBkESQCsE2bbkk+5aKyTfAAA0JoCv0BgdG+sQYNDq0GKtLwQQpb50gjzqEOhSlMr++MUl5tV31gbjtTo1sDZJAhhYSbY9/KLRCuH3MMUKutQKKfKmZnsE8BXssSTSAgIM2gI4POUtAUSpt60hsQUEuhKlZeZVpvSNvX0bFy1Il6cgMCWAgTUlwW1QBNAKQbWLZLcIdKUVaAAEViWAr7AqQfZXIsCgVcLEIs8IIEo9awjpVCLQhSiV/dHLiu+8MuaVHIwurpQ0iyDARwiZgUAJoBUCbVziaXehFRJHTvmWCOArWAJJmMUEGLTFfHjWTwKIUj/7QlaLCbQtSqUa/1qZedXbO967OFOehcAMAd6BNYODB6EQQCuE0inyzBNoWyvkz+Y+BFYhgK+wCj32VibAoFVGxUKPCCBKPWoGqVQm0KYoLXvnlVT6hqyv1ysnzEIIHCGAgcUkBEkArRBk25JPuk2tkDxsAFglgK9gFSfB5hFg0OaR4brPBBClPneH3OYRaEuU9pT+jeI7r6TS38kG+vx5uXEdAgsIYGAtgMNT/hJAK/jbGzKbT6AtrTA/A56BQDMC+ArNuLGrJgEGrSYwlntBAFHqRRtIoiYB96J0skP2R68tmleZ0t/uqY1dNdNlOQSmBDCwpiS4DYoAWiGodpHsFgH3WgHUEHBDAF/BDVeiFggwaAUgPAyCAKI0iDaRZIGAS1E6HF5+dKb0H2BeFaDz0AYBDCwbFInROgG0QuvIOdACAZdawUJ6hIDAXAL4CnPR8IRNAgyaTZrEaosAorQt0pxjk4ArUTocXnsnOdD/u2heSaW/le3VPZs1ECtJAhhYSbY9/KLRCuH3MMUKXGmFFFlSc7sE8BXa5Z3saQxasq0PunBEadDtSzZ5F6J0ff3wCVKN31ViXn1trT9+crKwKdwmAQwsmzSJ1RoBtEJrqDnIIgEXWsFieoSCwFwC+Apz0fCETQIMmk2axGqLAKK0LdKcY5OAbVEqh6OTMqX3F82rTOmvrqkDT7KZO7GSJoCBlXT7wy0erRBu71LO3LZWSJkltbdLAF+hXd7JnsagJdv6oAtHlAbdvmSTtylKLxweOkWq8TVF80oq/Tk5GD0mWcgU7oIABpYLqsR0TgCt4BwxBzggYFMrOEiPkBCYSwBfYS4anrBJgEGzSZNYbRFAlLZFmnNsErAlSnf2xw/MlL62xLz6+M718UNs5kwsCAghMLAYgyAJoBWCbFvySdvSCsmDBEDrBPAVWkee5oEMWpp9D71qRGnoHUwzfxuidOdg/KhM6c+UmFcfWrt4//3TJEvVjglgYDkGTHg3BNAKbrgS1S0BG1rBbYZEh0A5AXyFci5ctUyAQbMMlHCtEECUtoKZQywTWFWU9vob/1Uq/eWieZUp/b7zhgfuZTldwkFgSgADa0qC26AIoBWCahfJbhFYVSsAEgJdEcBX6Ip8YucyaIk1PJJyEaWRNDKxMlYRpVlfr2dKf7toXkk11nv2XHOXxFBSbrsEMLDa5c1plgigFSyBJEyrBFbRCq0mymEQKBDAVygA4aEbAgyaG65EdUsAUeqWL9HdEGgqSnv98TOk0jeVmFd/ffbw0PFusiUqBG4ngIF1OwruhEQArRBSt8h1SqCpVpju5xYCXRHAV+iKfGLnMmiJNTySchGlkTQysTKaiFKpxs+TSt9WNK96A/0mKUfHJIaQcrshgIHVDXdOXZEAWmFFgGzvhEATrdBJohwKgQIBfIUCEB66IcCgueFKVLcEEKVu+RLdDYE6otSYUz2lf69oXB15PP5lNxkSFQKlBDCwSrFw0XcCaAXfO0R+ZQTqaIWy/VyDQFcE8BW6Ip/YuQxaYg2PpFxEaSSNTKyMqqL03IsO3l0qfWWJeXWL7I9/PDFslNs9AQys7ntABg0IoBUaQGNL5wSqaoXOEyUBCBQI4CsUgPDQDQEGzQ1XorolgCh1y5fobghUEaVy7+hhsq8/XGJe3ZAN9NBNZkSFwEICGFgL8fCkrwTQCr52hrwWEaiiFRbt5zkIdEUAX6Er8omdy6Al1vBIykWURtLIxMpYJkp7/Y0LpdJfKzGvvrK2d7wzMVyU6w8BDCx/ekEmNQigFWrAYqk3BJZpBW8SJREIFAjgKxSA8NANAQbNDVeiuiWAKHXLl+huCCwSpT01vrT8Nw3qj/b2bjzSTUZEhUAlAhhYlTCxyDcCaAXfOkI+VQgs0gpV9rMGAl0RwFfoinxi5zJoiTU8knIRpZE0MrEyykTpcHjtnXp9/YaSd11NpNJX7B5eedfEMFGufwQwsPzrCRlVIIBWqACJJd4RKNMK3iVJQhAoIYCvUAKFS/YJMGj2mRLRPQFEqXvGnGCfQFGUnr/36lOl0ofKzKtM6deb30RoPwsiQqA2AQys2sjY4AMBtIIPXSCHugSKWqHuftZDoCsC+ApdkU/sXAYtsYZHUi6iNJJGJlZGXpSu9cdPlkp/rsS8ulkOxj+VGBrK9ZsABpbf/SG7OQTQCnPAcNlrAnmt4HWiJAeBAgF8hQIQHrohwKC54UpUtwQQpW75Et0Ngako/dGf+tODmdI3lphXX8r6+jw3pxMVAo0JYGA1RsfGLgmgFbqkz9lNCUy1gpnfpjHYB4EuCOArdEE9wTMZtASbHkHJiNIImphgCS972St/8ocuvdx8t1XZn/+7c338kASxULL/BDCw/O8RGZYQQCuUQOGS9wQwsLxvEQnOIYCvMAcMl+0SYNDs8iRaOwQQpe1w5hR7BOS+0QMufNqVnywzr7KB/qOzh4eOt3cakSBglQAGllWcBGuLAFqhLdKcY5MABpZNmsRqkwC+Qpu0Ez6LQUu4+QGXjigNuHkJpr42GK/Jvv58iXl1s+yPX5wgEkoOiwAGVlj9ItstAmgFRiFEAhhYIXaNnA0BfAXmoBUCDFormDnEMgFEqWWghHNCYDi8/GipRpdlSt9aYl592RhbTg4mKATsEsDAssuTaC0RQCu0BJpjrBLAwLKKk2AtEsBXaBF2ykcxaCl3P9zaEaXh9i6VzC8Y/P29pdLvKTGuJnue/q4vr+3b/+BUWFBn8AQwsIJvYZoFoBXS7HvoVWNghd7BdPPHV0i3961WzqC1ipvDLBFAlFoCSRgnBBZ8ZHDyjOe8ffLrv/6bf+DkYIJCwA0BDCw3XInqmABawTFgwjshgIHlBCtBWyCAr9ACZI7gs6rMQJgEEKVh9i32rM1HBnsD/d+l0reUvPPqG5c85+1v2PrLnV+NHfswxFUfBlZc/UymGrRCMq2OqlAMrKjamVQxGFhJtbu7Yhm07thzcnMCiNLm7NjphsDO/viBUo11iXE1kUp/qLe+cQai1A17ojongIHlHDEHuCCAVnBBlZiuCaAVXBMmvisC+AquyBJ3hgCDNoODB4EQQJQG0qhE0sz6eiCV/kqZedVT+i3r64dPMCgQpYkMRHxlYmDF19MkKkIrJNHm6IpEK0TX0mQKwldIptXdFsqgdcuf05sRQJQ248YuuwTOHh46Puvr15QZV1Lp78j+6Fn5ExGleRrcD4gABlZAzSLVOwigFe5gwb1wCKAVwukVmc4SwFeY5cEjRwQYNEdgCeuUAKLUKV6CVyCwtu/AE6TSH5ljXv3TzsH4UcUwiNIiER4HQgADK5BGkeYsAbTCLA8ehUEArRBGn8hyOwF8he1MuOKAAIPmACohnRNAlDpHzAFzCJgvas8G+oWZ0jeWmFe3STV+9Z49V9y5bDuitIwK1wIggIEVQJNIcTsBtMJ2JlzxnwBawf8ekWE5AXyFci5ctUyAQbMMlHCtEECUtoKZQwoE5N7Rw7KBHpcYV5NM6S/29m1cVNgy8xBROoODB+EQwMAKp1dkmiOAVsjB4G4wBNAKwbSKRAsE8BUKQHjohgCD5oYrUd0SQJS65Uv0WQJSjo6Rg9FLZF9fP8e8eucFg7+/9+yu7Y8QpduZcCUIAhhYQbSJJIsE0ApFIjwOgQBaIYQukWMZAXyFMipcs06AQbOOlIAtEECUtgCZIzYJ9NY3zpBK/58y42rT0OqPXywumxxVBReitAol1nhIAAPLw6aQ0nICaIXljFjhHwG0gn89IaNqBPAVqnFi1YoEGLQVAbK9EwKI0k6wJ3XoWZcePlaq0Uul0jeUmldqfM2u/oFH14GCKK1Di7UeEcDA8qgZpFKdAFqhOitW+kMAreBPL8ikHgF8hXq8WN2QAIPWEBzbOiWAKO0Uf/SHH/kNg+PDpcaV+Rhhf/xi82XudUEgSusSY70nBDCwPGkEadQjgFaox4vVfhBAK/jRB7KoTwBfoT4zdjQgwKA1gMaWzgkgSjtvQZQJ7B5eedesr18jlb6l1LxS+pB8yui7mhaPKG1Kjn0dE8DA6rgBHN+MAFqhGTd2dUsArdAtf05vTgBfoTk7dtYgwKDVgMVSbwggSr1pRTSJZH29LpX+7Bzj6jtN33WVB4QozdPgfkAEMLACahap3kEArXAHC+6FQwCtEE6vyHSWAL7CLA8eOSLAoDkCS1inBBClTvEmFXz3xQcfJJX+2znG1UQO9MbOp4wfbgMKotQGRWJ0QAADqwPoHLk6AbTC6gyJ0D4BtEL7zDnRDgF8BTscibKEAIO2BBBPe0kAUeplW4JK6siXtI+fJ5X+xhzz6rqeGl8qxGSHrcIQpbZIEqdlAhhYLQPnODsE0Ap2OBKlXQJohXZ5c5o9AvgK9lgSaQEBBm0BHJ7ylgCi1NvWBJGY7I92y77+8BzjatJT+vLzhgfuZbsYRKltosRriQAGVkugOcYuAbSCXZ5Ea4cAWqEdzpxinwC+gn2mRCwhwKCVQOGS9wQQpd63yMsE5d7Rw6TS75hnXGVKf2JNjS9wlTyi1BVZ4jomgIHlGDDh3RBAK7jhSlS3BNAKbvkS3R0BfAV3bImcI8Cg5WBwNxgCiNJgWuVFoufsvfpk2R+/XCp9Q6l51dfXSzX+tbOHh453mTCi1CVdYjskgIHlEC6h3RFAK7hjS2R3BNAK7tgS2S0BfAW3fIm+RYBBYxRCJIAoDbFrHeR82eSoXn/8DNnXny81rpSeSKWvlE8ZfVcb2SFK26DMGQ4IYGA5gEpI9wTQCu4Zc4J9AmgF+0yJ2A4BfIV2OCd/CoOW/AgECQBRGmTbWk3afM9VNtD/vMC4+lhv38ZFbSaFKG2TNmdZJICBZREmodojgFZojzUn2SOAVrDHkkjtEsBXaJd3sqcxaMm2PujCEaVBt89p8r31jTMypd85z7jKlP62VKPL9uy54s5OEykJjigtgcKlEAhgYIXQJXLcRgCtsA0JFwIggFYIoEmkWEoAX6EUCxdtE2DQbBMlXhsEEKVtUA7rjF39A4+WSr81U/rWMvPKXO8p/Za1i/ffv6vKEKVdkefcFQlgYK0IkO3dEEArdMOdU1cjgFZYjR+7uyOAr9Ad+6ROZtCSanc0xSJKo2nlyoVINXqcMaak0reUGVfmWqb0/rV9B56w8mErBkCUrgiQ7V0RwMDqijznrkQArbASPjZ3RACt0BF4jl2ZAL7CyggJUIUAg1aFEmt8I4Ao9a0j7eezNhivSTW+ap5ptWVcXdv291wtIoEoXUSH5zwmgIHlcXNIbT4BtMJ8NjzjLwG0gr+9IbPFBPAVFvPhWUsEGDRLIAnTKgFEaau4PTpssiPr63XZ1+9dZFxJpb8s1fh5Uo6O8Sh5gSj1qRvkUoMABlYNWCz1hwBawZ9ekEl1AmiF6qxY6RcBfAW/+hFtNgxatK2NujBEadTt3VacMaIypX9YDvQHlxhXn5P90QvkcHTStiAeXECUetAEUmhCAAOrCTX2dE4ArdB5C0igAQG0QgNobPGCAL6CF22IPwkGLf4ex1ghojTGrm6vaTi89k69/vgZUumPLjGuPmXecXX28NDx26P4cwVR6k8vyKQWAQysWrhY7AsBtIIvnSCPOgTQCnVosdYnAvgKPnUj4lwYtIibG3FpiNKImyuEMO+gMoZUpvR/LDGuPrBpcHn2UcF53UGUziPDdc8JYGB53iDSKyeAVijnwlW/CaAV/O4P2c0ngK8wnw3PWCTAoFmESajWCCBKW0Pd6kFyfXRPqUaXSaWvW2RcZUq/LxvooRCTHa0muOJhiNIVAbK9KwIYWF2R59yVCKAVVsLH5o4IoBU6As+xKxPAV1gZIQGqEGDQqlBijW8EEKW+dWS1fHZffPBBWV+/JlP624uMK9kfX22+xH2107rbjSjtjj0nr0QAA2slfGzuigBaoSvynLsKAbTCKvTY2yUBfIUu6Sd0NoOWULMjKhVRGkcz19T+041xJZW+YZ5xlSl9q1T6HWvqwJNCrxpRGnoHk80fAyvZ1oddOFoh7P6lmj1aIdXOh183vkL4PQyiAgYtiDaRZIEAorQAJLCHvcHGmT2l3yKVvmWecSWVvsms2TkYPyqw8uamiyidi4Yn/CaAgeV3f8huDgG0whwwXPaaAFrB6/aQ3AIC+AoL4PCUPQIMmj2WRGqPAKK0PdY2T5KD0bnm3VRS6dsWGFc3ZEq/3nys0ObZPsRClPrQBXJoQAADqwE0tnRPAK3QfQ/IoD4BtEJ9ZuzwgwC+gh99iD4LBi36FkdZIKI0nLYOh5cf3Rts9KXShxaYVhOp9Ndkf/Sy84YH7hVOdfUyRZTW48VqbwhgYHnTChKpQwCtUIcWa30hgFbwpRPkUZcAvkJdYqxvRIBBa4SNTR0TQJR23IAKx5uP/m39RsFPLzGuvnRk3ehuFcIGvQRRGnT7Uk4eAyvl7gdcO1oh4OYlnDpaIeHmB146vkLgDQwlfQYtlE6RZ54AojRPw5/7cn10z95AP1eq8eElppV5x9Une339k/KS0XH+VOA2E0SpW75Ed0YAA8sZWgK7JIBWcEmX2K4IoBVckSWuawL4Cq4JE3+TAIPGIIRIAFHqT9fMRwRlf7S7p/TlmdI3LjWuBvqDvf74GVKOjvGninYyQZS2w5lTrBPAwLKOlIBtEEArtEGZM2wTQCvYJkq8tgjgK7RFOvFzGLTEByDQ8hGl3TeupzbO6in9u1LpLy81rTa/tH2spRopISY7us++mwwQpd1w59SVCWBgrYyQAF0QQCt0QZ0zVyWAVliVIPu7IoCv0BX5xM5l0BJreCTlIkq7aeR5+w7cT6rx86TS769gWpmPCX5WDkavWFP7T+8mY79ORZT61Q+yqUwAA6syKhb6RACt4FM3yKUqAbRCVVKs840AvoJvHYk0HwYt0sZGXhaitL0G79lzxZ2zvl43HxGUSt+8zLjKlP56T+m3mI8Vpvxuq7IOIUrLqHAtAAIYWAE0iRS3E0ArbGfCFf8JoBX87xEZlhPAVyjnwlXLBBg0y0AJ1woBRKl7zOYjgllfv0Yq/ZUKptWtsj++uqfGl15wwbtPdJ9dmCcgSsPsG1kLDCyGIEgCaIUg25Z80miF5EcgWAD4CsG2LqzEGbSw+kW2RwggSt1Mgtw3eoDsj18slf7oMtNq8/m+/rBUo8ukGp3mJqO4oiJK4+pnQtVgYCXU7JhKRSvE1M10akErpNPr2CrFV4ito57Ww6B52hjSWkgAUboQT60nzx4eOj4b6KFU+h1S6VsqGFdfy5R+vRyMzuUjgrVQC0RpPV6s9oYABpY3rSCROgTQCnVosdYXAmgFXzpBHnUJ4CvUJcb6RgQYtEbY2NQxAUTpag2QanS3ntp4SjbQfySV/mYF0+omqfTfmj3mO7FWOz3d3YjSdHsfeOUYWIE3MNX00Qqpdj7sutEKYfcv5ezxFVLufou1M2gtwuYoawQQpfVQDoeXH22+02rr44FXSqWNIWV+S+DCP5nS15o9u/ZedZ96J7K6jACitIwK1wIggIEVQJNIcTsBtMJ2JlzxnwBawf8ekWE5AXyFci5ctUsAUWqXJ9HaIfAGIWa+VPjSdo4N65Sd/fEDZX/0rK3fHnjdMrMq9/wXegP927v2HvjusCr2Plszp/nXXDPH/EAgBAL5uTX3+YFACATQCiF0iRyLBNAKRSI8DoUAWiGUTgWeJ4MWeAMTTR9RWtJ4811Wsj/aLQejV0g1PiyVvi1nSi18p5VU+gbzHVjmu7DOuvTwsSXhubQ6AUTp6gyJ0A0BtEI33Dl1NQJohdX4sbsbAmiFbrhz6uoE0AqrMyRCBQIMWgVILPGOAKJ0qyXmXVKyP3qBVPo9sq+vr2FYGUPLfPfV38r++MfPvejg3b3rcnwJIUrj62kqFaEVUul0XHWiFeLqZyrVoBVS6XR8daIV4uuplxUxaF62haSWEEhWlO4aXHUP8y6pzd8CqPRnaxpWk83vtDLv0OqPdvNl7EumzP7TiFL7TInYDgG0QjucOcUugWS1gl2MRGuZAFqhZeAcZ40AWsEaSgItIsCgLaLDc74SSEaUznz5en98dab0rTVNqy+Z78DqqfGlaxfvv7+vDU0kL0RpIo2OsEy0QoRNTaCkZLRCAr1MqUS0QkrdjqtWtEJc/fS2GgbN29aQ2AIC0YpSY1jJwegxmdI/IZX+q0zpr9c0rG7IlN7fU/pFUo0eJ8RkxwKOPNUuAURpu7w5zR4BtII9lkRqj0C0WqE9hJzUAQG0QgfQOdIKAbSCFYwEWUaAQVtGiOd9JBCNKD1/79WnZn29LtXoss0vUVf6qzUNK/OxwE+YjxSajxbu2XPNXXxsGDltEkCUMgihEkArhNq5tPOORiuk3cbkqkcrJNfyaApGK0TTSr8LYdD87g/ZlRMIUpTK4egkqUZS9scvlgP9l3Kg/72uWbW1/mtSjf9882OB+/Y/uBwRVz0kgCj1sCmkVIkAWqESJhZ5RiBIreAZQ9JpnwBaoX3mnGiHAFrBDkeiLCHAoC0BxNNeEvBelG5+d9X6xhm9/vgZWV+/RvbHV0ulb2piWB353qvxYbn15evD4bV38rIrJLWMAKJ0GSGe95UAWsHXzpDXIgLea4VFyfNcsgTQCsm2PvjC0QrBtzCMAhi0MPpElrMEvBOluy8++CDZHz1VDsa/JZU+IJX+VhOzKrfno1KN3thT46ddODx0ymz5PAqUAKI00MZZTvsoIcS6EOJNQogPCCG+IYS4ZevWPDbXLxZCmHW+/KAVfOkEedQh4J1WqJM8a5MlgFZItvXBF45WCL6FYRTAoIXRJ7KcJdCpKD1n79Uny8HoXKnGz+sp/Rap9KdyxtOkwf3/3HyH1mD0CvN9WOcND9xrtlweRUIAURpJI1cooyeE+LAQovh3b9ljs06ucJbNrcX8bMYmFgRcEehUK7gqirjRE0ArRN/iaAtEK0TbWr8KY9D86gfZVCPQiig1H9UzvxFw851VavTSTOk/yZS+9shH+nQTo2oi+/p6qfQhqUa/kyn939bU/tOrlcyqCAggSiNo4golPFcIcWtF82r6d7N5Z9ZPr3Cmra3TfKa3tuISBwIuCbSiFVwWQOwkCaAVkmx7FEVPNcL0NoqiKMI/AtMBm976lyEZQWA7AauiVKrR3Xpq4yzzW/zMbwPsKX25Maqk0jc3eDdV0dj6nIln3q21+a6tS0bHbS+HK4kQQJQm0uiSMp9ZYlwdEEI8VQhxmhDCvC48RAjxNCHEwZK1l5TEbPPSVCNMb9s8m7Mg0JSAVa3QNAn2QaAmAbRCTWAs94bAVCNMb71JjETiIjAdsOltXNVRTawEGolS8z1Va2p8QW+gnyv749fJgd6QSn/Bgkk1Na1MrL+Vg/EvZgN9/u7hlXeNtQHU1YgAorQRtuA3PUwIcX3OlLpNCPGLS6r6JSGEWTf9u9ns7/LdmtM8prdL0udpCHhBoJFW8CJzkkiZAFoh5e6HXftUI0xvw66G7L0lMB2w6a23iZIYBHIE5orSsy49fOyufQcfar5LSvbHL86Ufv3WbwD8hkWjyhhWN0k1Pmz5iZs8AAAgAElEQVR+w6D5TYO99Y0zhJjsyOXIXQgUCSBKi0TSePxnOSPK/F376oplv6aw720V97lYNtUI01sXZxATArYJzNUKtg8iHgQsEkArWIRJqFYJTDXC9LbVwzksHQLTAZveplM5lQZL4Ljj7/2Wk+768Mk973vO5AGnP2XyuHN/5z1Sjf9aKv1RSx/7m76jamK+7ypT+hOZ0u+UavRK2R89S6rR46QcHRMsQBLvigCitCvy3Z37uMI7qT619XHBKhkdL4Qw66d/P5t3ZJ1ZZaODNdMcprcOjiAkBKwTwMCyjpSALRBAK7QAmSOcEJhqhOmtk0MICoHpgE1vIQKBzgmce9HBu9/+nVTmXVTmXU5HvkfqsFT6Py2/k2rTrMqUvtEYVVLpd8jB6BWb76pSG2ddcMG7T+wcCAnEQgBRGksnq9dRfBfVC6tv3Vz5opyBZf6ervrurZrHLF0+1QjT26UbWAABDwhgYHnQBFKoTQCtUBsZGzwhMNUI01tP0iKN2AhMB2x6G1t91OMZAfO9UJu/2W8wurjX1z9pzCLz2/22Pub3b1LpW1wYVLmYX5ZKH+j19RukGv9cpvSenevjh4jLJkd5hop04iOAKI2vp8sq+kzOgDK/gfCeyzYUnjfr87+50Lwjq4ufqUaY3naRA2dCoC4BDKy6xFjvAwG0gg9dIIcmBKYaYXrbJAZ7ILCUwHTAprdLN7AAAmUEzh4eOv7Il6QfeJIcjC6WanRJpvTPy/7otZvvalL6X1y9eypnTk3fTXWrVPqTUukrzMf+soF+dtbX58n1Ud1/PJaVyjUINCWAKG1KLsx9j8+ZV+bv2Pc1LOP9hTjmY4lt/0w1wvS27fM5DwJNCGBgNaHGnq4JoBW67gDnNyUw1QjT26Zx2AeBhQSmAza9XbiYJ9MicN7wwL129Q88ujfYyGR//PRM6Z/uKf2rm1+MrsZ/nSn991vfO/XNoonk+vHOvVdOvueCt00ed+5rJmf1fv+9Uo0uMzma76cyZlpanaLaQAggSgNplKU0n10wnpp+/M/sm/4dbW5/zFJ+dcLkzzf3+YFACAQwsELoEjkWCaAVikR4HAoBtEIonQo8TwYt8AZWTv+yyVEXDg+dsqb2n76mDjypt2/jIqlGl8jB6CW9gf5tqfRbM6XfnQ30P0ulP2f7y9AbGFpf28rlb6Ua/49soF8oB6PvX+uPn3ziSQ/+Y7HjqPzsmr/s+YGA7wQQpb53yG5+v10wnp7VMHzRCHtlwzirbMu/3pr7/EAgBAIYWCF0iRyLBNAKRSI8DoUAWiGUTgWeJ4MWUAPNO4vO33v1qb31jTPkYHRu1tfr5svGpRo/b/MdSOb7pI584flbNj+21x9fnSl97ZYh5fq7pW7/zX0VzarrpBofNl/ObnKW5svaB3povrxdqtHdlrQFUboEEE97SQBR6mVbnCX1roKBtbvhSecX4lzRMM4q29AKq9Bjb1cE0ApdkefcVQigFVahx94uCaAVuqSf0NkMWkvNNqaM+Y4oYz5lA332mhpfYAwb8/1MvYF+vjGgzDuhegP9JjnQfykHekMq/f6t73K6rqIpVNdEsr4+U/rbUulPy75+75aJ9rpeX/+CVKMfMqabYSDl6JgVsSNKVwTI9k4IIEo7wd7ZodcWjKeHN8zkEYU4H2wYZ5VtaIVV6LG3KwJoha7Ic+4qBNAKq9Bjb5cE0Apd0k/obAZtQbMvuODdJ5570cG7r+3b/+Cd/fFjzcfX5GD0vUfeKTS+VPZHL8j6+lekGr9aqtEbzbuJpNJXSjW+Rir9Ian0v2VKfz0U82lOnrdlSn9RDvQHpdKjntJ/uvmOKTV6qeyPntXbO957xJDbf7rhtQCnzacQpTZpEqstAojStkj7cc5nC8bTvRumdZ9CnE83jLPKNrTCKvTY2xUBtEJX5Dl3FQJohVXosbdLAmiFLukndLa3g3bO3qtPNuaR+c1xu/YdfKj5Iwejx5iPmG1+zKw/2i37o929wXjf5juZ+vqZPTW+VKrRz5iPo0k1/mU5GL3CmEvmS8fNO5s2P66m9F9smUxXmY+wHfmjP54p/Qmp9Fek0ubdTjfPMXOsv2Opo3O+tfkuqSNG2zsMm2ygf32T3WD8g4arMezkcHTf4fDyoz387wFR6mFTSGkpAUTpUkRRLbiuYDyd3LC6uxTifLVhnFW2easVVimKvdETQCtE3+IoC0QrRNnWJIpCKyTR5o6LPOroO0+OOfbkzT/HnXC/yaZJ9JTRd91uEqmR3DSJ+hsXbn3cbSgH4x/ZNIr64x/fNIryZpExjPrj1+UNo613JV1hTKNM6f1T08h8N5Mxjbb+fHXLODLGSiwmkbs6+vr6re+1Mu/yOiSVvsK8M6qn9O/1lP6NntIvMj3a6tn52T79xJ1PGT/c/FbBsy49fGzHY2fjeESpDYrEaJsAorRt4t2ed1PBeGr60Wnzmp0XhTd2UFb+fHOfHwiEQACtEEKXyLFIAK1QJMLjUAigFULpVKh5yv7oZZhFXZhlo8m5F71j8j0X/NnkiWtvmjz+vNdOvvvs35w8+om/PHnE435u8tAzLp086BE/MDn1IXsn937A2uSU+zxpcpdTHj054eQHTe503CmTo46+U/HFgcez/7iDBzyYAWaAGWAGmAFmgBlgBpgBZoAZ6G4GQrVJyNtXApsfsePdTrXeJbVz/T2TJ3/vX0yeuOvNk7PkGzbNp8d+z8snjzrrFyYPe+xPT077rksmD3r4D0wecPpTJ/d94IWTe9z3yZO73uOxkxNPPm1y/ImnTu583D0nO3YcxQtpdy+ksIc9M8AMMAPMADPADDADzAAzwAwwA25nwFcbhLxCJSAHo5eE+A6scy/6u813MD15z19N/uv5fzp50u63bppJZ2X/a3LmOa/a/HPGEy+bmD+PfPwLN9/VdPpjfmLznU0PfuQPbxpM93/ovsmpp61vmkz3ur+c3PN+50zufq+zJne755mTk+/2iMlJd33YpuFkPlZpPmJ59NHH8QLn9gUOvvBlBpgBZoAZYAaYAWaAGWAGmAFmIOwZCNUeIW/fCfQG+vmLDCzzbiPzUTfzx7zryJhF03ceTd99ZAwj8w6kqWFk3olkPgZn/ph3JJmPw03flTR9Z1LeODLmkXmXkjGPzB/zbiVjIE3fsTR915IxkY466lhezMJ+MaN/9I8ZYAaYAWaAGWAGmAFmgBlgBpiBeGfAdxuE/EIlsHt45V03f7vf4Kp7XParr/6jX33ZK//wFa94xRv4AwNmgBlgBpgBZmC1GTj11FP/Lf/l68Ph8J1NmJp9+TinnnrqZ+fFya9zcX/euVxfbVbgBz9mgBlgBpiBWGYgVG+EvCEAAQhAAAIQgEDKBF5dMJF+rCGMZxXivGpBHPNb11z+WXA0T0EAAhCAAAQgAAEIQAACEIAABCAAAQiERuDZBePJGFpNfopGmDG0+IEABCAAAQhAAAIQgAAEIAABCEAAAhCAwMoEHl8wsN7XMOL7C3FMXH4gAAEIQAACEIAABCAAAQhAAAIQgAAEIGCFwGdy5tMtQoh71Ixq1t+ai/HpmvtZDgEIQAACEIAABCAAAQhAAAIQgAAEIACBhQRekzOfzG9cesHC1duffGFh/+9sX8IVCEAAAhCAAAQgAAEIQAACEIAABCAAAQg0J2A+7ndbzoT6lBDiuIrhjhdCmPXTXzVu4pxZcS/LIAABCEAAAhCAAAQgAAEIQAACEIAABCBQmcCf5UwoY0ZV/TL34ru33lb5RBZCAAIQgAAEIAABCEAAAhCAAAQgAAEIQKAGgYcJIa7PmVjmnVS/sGT/Swvv3DL7T1+yh6chAAEIQAACEIAABCAAAQhAAAIQgAAEINCYwI/mDKzpRwLHQoinCiEeLIS4sxDiNCHEUAhxsGTtMxufzEYIQAACEIAABCAAAQhAAAIQgAAEIAABCFQk8DOF3yg4NbIW3ZrfQPjcivFZBgEIQAACEIAABCAAAQhAAAIQgAAEIACBlQmsCSE+UvIOqzITy6zrrXwiASAAAQhAAAIQgAAEIAABCEAAAhCAAAQgUJPAUUKIvhDizUKIa4UQ39x6Z5a5NY//UAixVwhh1vEDAQhAAAIQgAAEIAABCEAAAhCAAAQgAAEIQAACEIAABCAAAQhAAAIQgAAEIAABCEAAAhCAAAQgAAEIQAACEIAABCAAAQhAAAIQgAAEIAABCEAAAhCAAAQgAAEIQAACEIAABCAAAQhAAAIQgAAEIAABCEAAAhCAAAQgAAEIQAACEIAABCAAAQhAAAIQgAAEIAABCEAAAhCAAAQgAAEIQAACEIAABCAAAQhAAAIQgAAEIAABCEAAAhCAAAQgAAEIQAACEIAABCAAAQhAAAIQgAAEIAABCEAAAhCAAAQgAAEIQAACEIAABCAAAQhAAAIQgAAEIAABCEAAAhCAAAQgAAEIQAACEIAABCAAAQhAAAIQgAAEIAABCEAAAhCAAAQgAAEIQAACEIAABCAAAQhAAAIQgAAEIAABCEAAAhCAAAQgAAEIQAACEIAABCAAAQhAAAIQgAAEIAABCEAAAhCAAAQgAAEIQAACEIAABCAAAQhAAAIQgAAEIAABCEAAAhCAAAQgAAEIQAACEIAABCAAAQhAAAIQgAAEIAABCEAAAhCAAAQgAAEIQAACEIAABCAAAQhAAAIQgAAEIAABCEAAAhCAAAQgAAEIQAACEIAABCAAAQhAAAIQgAAEIACBFQncWQjxVCHE7wshDgshviKEuGnrz9eEEB8WQrxLCPFKIcQPCCEetOJ5bIcABCCQCoF7CiGeIoT4TSHEFUKITwghzOvqzUKI67Yem9fXXxZCPDEVKNTpnMBRQoh1IcSbhBAfEEJ8Qwhxy9ateWyuXyyEMOv4gUCXBHiN7JI+Z0MAAhAQAi+AKQiGwHFCiJ8XQnxVCDGp+SeYIkk0CQLHCiH+ec4MJwGAIr0i8CghxEuFEO8XQtw2Zy7nveb+gxDiQq+qIZnQCPS2/sfTvBnLXzf/g0qGViD5Bk+A18jgW0gBFQigTStAYkmnBPACOsXP4XUJPEYI8aGa/7DKi96657EeAi4J/PcFs+zyXGJDoIxA/rWy6f3/KYQ4piw41yCwgMBzhRC3Lng9LJtH886sn14Qk6cgYJtA2RzWvcZrpO2uEM82AbSpbaLEs0kAL8AmTWI5J3CuEOI/CwL3Y0KIlwkhdgohHiiEMI7sSUKI04QQSgjxKiHEZ3N7nCfJARCoSODRQogbc7NZFMEVw7AMAtYIFGfQPP7S1se2zOupeffByUKIE4UQDxNCXCKE+PuSGf4TPuJlrScpBHpmyQwd2PqKAPN3ufl7/SFCiKcJIQ6WrDVzyA8E2iDAa2QblDmjSwJo0y7pc/YyAngBywjxvFcEzAtq3rz6jhDipyr+n/4dWx9tMYKYHwj4QMB8f8s1uX+IGSO2KIx9yJMc0iKQn8F/EUI8veJrrDEgri/M8IvTQke1DQkYIzQ/O+ajq7+4JNYvFT7iavafvmQPT0PABgFeI21QJIavBNCmvnaGvAwBvADmICgCRwsh/jH3jyNjZBkHlh8IhErgZ3PzbATxWuGxucYPBNomYObOvOPKGFJ1vyTb/EKN/D/uvimEuG/bBXBecAT+rDA3r65YwWsK+95WcR/LILAKAV4jV6HHXt8JoE1971C6+eEFpNv7YCt/SUGofn+wlZA4BIR4qBDi27mZ/sMtKPl//Jv7/ECgbQJvF0LcY4VD/yI312aGjRjmBwLzCDyu8E6qT219XHDe+vz144UQZv30ddO8c+vM/ALuQ8ABAV4jHUAlpBcE0KZetIEk5hDAC5gDhst+Eri7EMJ8XHAqUv/OzzTJCgKVCezPzbN5t8spWzunMz69rRyQhRDwhMD35WbbzLGZdX4gMI9A8V1UL5y3cM71FxXmreq7t+aE4zIEnBPgNdI5Yg5oSABt2hAc25wTwAtwjpgDbBMovp3V/JptfiAQKoFnF/7B9YO5QqbG1fQ29xR3IRAEgXsV5vszQWRNkl0RMPMxfb0zv4HwnjUTMevzv7nQvCOLHwj4TIDXSJ+7k25uaNN0ex9C5XgBIXSJHGcIfCQncD8x8wwPIBAWgVMLv4jgXYX0p/+Qm94WnuYhBLwnYH5b3HR+za35cm1+IFBG4PGFWXlf2aIK195fiGM+lsgPBHwlwGukr51JNy+0abq9D6VyvIBQOkWemwTMr2zP/2PojXCBQMAE/iY3z+Y7sMyvhc//5Gfd3OcHAqERML9RLj/H14VWAPm2RqD4f/ybfvzP7MvP3I+1VgEHQaA+AV4j6zNjh1sCaFO3fIm+GgG8gNX4sbsDApcUhOkzcjmcJoR4/tZ3rJh3ZpnvyfqGEOKTQogNIYT5Ndvm//DyAwEfCJhfPJD/R9YLSpLKP2/u8wOB0Aj8cGHOrw2tAPJtjcBvF2blWQ1PLhphr2wYh20QaIMAr5FtUOaMqgTQplVJsa4rAngBXZHn3MYEXlcQuN8jhDBf5PZaIcQtheeK//ifPn6nEOKxjTNgIwRWJ2C+p8V8Wft0Js1HXsyvgy3+TJ+f3haf5zEEfCeQ/xJYM8e/73vC5NcZAfMR6ulrnbnd3TCT8wtxrmgYh20QaIMAr5FtUOaMKgTQplUosaZrAngBXXeA82sTuLogTM8t/NrsvPhddN+8O+tptU9nAwTsEPiT3Bwb4/WsOWGLMzxnGZch4CWBJ+fmfDrL615mSlI+EDDvzpvOibl9eMOkHlGI88GGcdgGAdcEeI10TZj4dQigTevQYm1XBPACuiLPuY0JfLggTP+98PizWx8jfLQQ4qStP+b+zwkh/q2w9jYhxFMbZ8JGCDQjcHFhDs3HZub95P8xZ+7zA4FQCNxJCPGBwqybj3MfE0oB5Nk6AfP3d/41794NM7hPIc6nG8ZhGwRcEuA10iVdYtclgDatS4z1XRHAC+iKPOc2JvCFgjDNi923CyFOXBDZPPfnhf3mO7Ka/l/eBUfxFARKCdylYKSaf1gtmtn8fGNglSLloqcE/kfhtdbM79M9zZW0/CBgvuA//5p3csO0zOtsPs5XG8ZhGwRcEuA10iVdYtchgDatQ4u1XRPAC+i6A5xfm8ANBWE6FalXzvkOoeIB5v/+my90n+4zt8b44gcCbRB4fWH2vm/Jofk5Nff5gUAIBMwv1yjO7jtCSJwcOyVwU2Fumr5b79hCnBs7rYrDIbCdAK+R25lwpTsCaNPu2HNyfQJ4AfWZsaNjAkWBa/6RZMTpg2vk9RAhRD7OrUKI02vsZykEmhCQQgjzsdXpP+zfViHIdO30tsIWlkCgUwLnCSGK4uJzQoimHwfrtBgOb5VA/u9l85rX1MAy+6avmeYWA6vVNnLYEgK8Ri4BxNOtEkCbtoqbwywQKGqF6d/zeAEW4MYSIi8C27i/jFvxIwYmpz9btqnk+csLAvdnS9ZwKVwCbcxq/oxlpI4XQnw8N3Nmjqv8gz5/hrnPT/wEij13/dgmUfPbXYuv0dcLIc6xeQixoiXwtdxrpJl7PkIYbauTLYzXyGRb72XhaFMv20JSSwgUdabRC3gBS6Cl9rTrfzwV4y/jW/ySV7P/B5dtKnn+hwtC+a9L1nApXALFuXL9eBmpVxbm7ceWbdh6vph3xW0sC5hAseeuH9tC9VAhhHmnVT5f8xs2+7YOIE70BIp/v1cx+cugFL/E/TNli7gGgZYJ8BrZMnCOW0oAbboUEQs8JFDUCkZ34gV42KguU8r/Y6SN+8tqLf6abZPTI5dtKnn+uwr/0PrXkjVcCpdAG7OaP2MRqScKIcw/5KfrtRBix6INueeme6a3uae4GymBaa/burWB8f5CiE/lZtzkbj4u+yM2ghMjGQLFv9+b/oIVsy//388HkyFIob4S4DXS186kmxfaNN3eh155USuYv+/xAkLvquX88yKwjfvL0r+iIExNTndbtqnk+bsX4nylZA2XwiXQxqzmz1hE6gO5WTPfDfSIRYsLz+XPMPf5iZ9AseeuH69K9F5CiOKvNDY5P3fVwOxPjsC7c6+VZoZ2NyRwfiHO/98wDtsgYIMAr5E2KBLDNgG0qW2ixGuLAF5AW6Q5xxqB3yoIUyNym3zRa/FLXm+2liGBIDBLIG9A/NLsU0sf5fea+/xAwCcC5n8E/FPJa3LdOfepJnLpjsCrC7NU9aPWxYyfVYjzquICHkOgJQK8RrYEmmNqE8jry7p/Z+f3ok1ro2fDigTwAlYEyPb2CVxSEKbmhZN3YLXfB06sTqD4F73tx9UzYSUE7BEwX7D9DyWvx+Y7NfiBQBMCzy7MkzG0mvwUjTBjaPEDgbYJ8BrZNnHOq0PAthYtxquTC2shUIcAXkAdWqz1gsAZBYFrXjBtfO71I15URxIxEij+pW77cYzMqMlvAicIIQ6UvBa/we+0yc5zAo8vzNT7Gub7/kIcE5cfCLRJgNfINmlzVhMCtrVoMV6TnNgDgSoE8AKqUGKNdwQ+WhCnNn7zwJ97VyUJxUKg+Je67cexcKKOMAjcWQhxZeE12My0+RXGR4VRAll6TMD8xsDpa6T55Rf3qJmrWX9rLsana+5nOQRWJcBr5KoE2d8GgenrrKvbNmrgjHQJ4AWk2/tgK/+NnDid/sOpbjH/uxDjJ+sGYD0EWiBQFBYtHMkREJhL4FghxDsKr51mRt8phDDP8QOBVQm8pjBfL6gZ8IWF/b9Tcz/LIbAKAV4jV6HH3lAIoE1D6VS8eeIFxNvbaCszvyLbfOn69AX0RiHEg2tU+5CS/Q+osZ+lEGiLwHTGp7dtncs5ECgSOFoIcXnudXc6k1oIcXxxMY8h0JCA+bjfbbk5+5QQ4riKscwcmvXT2TRxzqy4l2UQWJUAr5GrEmR/KASmr7HT21DyJs94COAFxNPLpCr5nzmRal5AzUdajHhY9mPWbBT2/v6yTTwPgY4ITMXB9LajNDg2cQI7hBBvLrxumpn8RyGE+aJifiBgk4D5OOr0Nc/cVv0y9+K7t95mMyliQWABAV4jF8DhqegI5F+fzX1+INAFAbyALqhz5koE7i2EuK4gct8uhDBfnDnv50QhhPmuq/wL75eEEPeft4HrEOiYQH5WEQkdNyPh419beN00s/jBBt9PlDBCSq9B4GFCiOtzM2feSfULS/a/tPDOLbP/9CV7eBoCtgjwGmmLJHFCIIA2DaFL8eeIFxB/j6Os8HsLHwU0L6ifFUL8rBDiUUIIY1iZP+b+84UQ/5YTxGat+RjiWpRkKCoWAoiEWDoZbh0vL7xumpn8pBDi1HBLIvMACPxoydyNhRBP3frKAPNF2acJIYZCiIMla58ZQI2kGAcBXiPj6CNVVCeANq3OipVuCeAFuOVLdEcEBkKIb5eI1+KLa/Hx14QQux3lRFgI2CJQnFtbcYkDgaoEijNo4/Fjqh7OuqQJ/EzhNwpWmT3zGwifmzQ1im+bQJW5rLuG18i2u8h5dQgU57nOXtZCwDYBvADbRInXCoFHl3yvVfHFdfrYfBTBfBHxQ1vJjEMgsBqB6dxOb1eLxm4I1CcwnT2bt/zjrH4fUt1h3iX9kYr/k8qs66UKiro7I2DztXEai9fIztrJwRUITOd0elthC0sg4JQAXoBTvAR3SeCJQohXCiHeK4T4ytZHBL+59XGXq4QQP7/1cUKXORAbAjYJTMXB9NZmbGJBoAqB6ezZvOUfZ1XIs2ZK4CghRH/rFwlcK4Qwf6+bd1qZW/P4D4UQe4UQZh0/EGibgM3XxmksXiPb7iLn1SEwndPpbZ29rIWASwL/rx07pAEAAGAY5t/1VYw8NTBQOC+g1NUmQIAAAQIECBAgQIAAAQIECBAgQIAAAQIECBAgQIAAAQIECBAgQIAAAQIECBAgQIAAAQIECBAgQIAAAQIECBAgQIAAAQIECBAgQIAAAQIECBAgQIAAAQIECBAgQIAAAQIECBAgQIAAAQIECBAgQIAAAQIECBAgQIAAAQIECBAgQIAAAQIECBAgQIAAAQIECBAgQIAAAQIECBAgQIAAAQIECBAgQIAAAQIECBAgQIAAAQIECBAgQIAAAQIECBAgQIAAAQIECBAgQIAAAQIECBAgQIAAAQIECBAgQIAAAQIECBAgQIAAAQIECBAgQIAAAQIECBAgQIAAAQIECBAgQIAAAQIECBAgQIAAAQIECBAgQIAAAQIECBAgQIAAAQIECBAgQIAAAQIECBAgQIAAAQIECBAgQIAAAQIECBAgQIAAAQIECBAgQIAAAQIECBAgQIAAAQIECBAgQIAAAQIECBAgQIAAAQIECBAgQIAAAQIECBAgQIAAAQIECBAgQIAAAQIECBAgQIAAAQIECBAgQIAAAQIECBAgQIAAAQIECBAgQIAAAQIECBAgQIAAAQIECBAgQIAAAQIECBAgQIAAAQIECBAgQIAAAQIECBAgQIAAAQIECBAgQIAAAQIECBAgQIAAAQIECBAgQIAAAQIECBAgQIAAAQIECBAgQIAAAQIECBAgQIAAAQIECBAgQIAAAQIECBAgQIAAAQIECBAgQIAAAQIECBAgQIAAAQIECBAgQIAAAQIECBAgQIAAAQIECBAgQIAAAQIECBAgQIAAAQIECBAgQIAAAQIECBAgQIAAAQIECBAgQIAAAQIECBAgQIAAAQIECBAgQIAAAQIECBAgQIAAAQIECBAgQIAAAQIECBAgQIAAAQIECBAgQIAAAQIECBAgQIAAAQIECBAgQIAAAQIECBAgQIAAAQIECBAgQIAAAQIECBAgQIAAAQIECBAgQIAAAQIECBAgQIAAAQIECBAgQIAAAQIECBAgQIAAAQIECBAgQIAAAQIECBAgQIAAAQIECBAgQIAAAQIECBAgQIAAAQIECBAgQIAAAQIECBAgQIAAAQIECBAgQIAAAQIECBAgQIAAAQIECBAgQIAAAQIECBAgQIAAAQIECPUNMNsAAAASSURBVBAgQIAAAQIECBAg8CwwMNnm8Bie868AAAAASUVORK5CYII=)"
      ]
    },
    {
      "cell_type": "code",
      "execution_count": 6,
      "metadata": {
        "colab": {
          "base_uri": "https://localhost:8080/"
        },
        "id": "fHDOQ0t9_6dl",
        "outputId": "1f525147-2788-4b5f-e8e7-25510d27bafa"
      },
      "outputs": [
        {
          "data": {
            "text/plain": [
              "SVC()"
            ]
          },
          "execution_count": 6,
          "metadata": {},
          "output_type": "execute_result"
        }
      ],
      "source": [
        "from sklearn.svm import SVC  # svm for classification \n",
        "SVC()\n"
      ]
    },
    {
      "cell_type": "markdown",
      "metadata": {
        "id": "ZxxqodNEmZzS"
      },
      "source": [
        "Evaluate the performance of SVM for different kernel where the same datasets are used. \n",
        "\n"
      ]
    },
    {
      "cell_type": "code",
      "execution_count": 7,
      "metadata": {
        "colab": {
          "base_uri": "https://localhost:8080/"
        },
        "id": "Tt9dGkyvmu9l",
        "outputId": "5c5ec49b-5af7-4db8-a102-a6a83a07e469"
      },
      "outputs": [
        {
          "name": "stdout",
          "output_type": "stream",
          "text": [
            "[0.9777777777777777, 0.9333333333333333, 0.9555555555555556, 0.28888888888888886]\n"
          ]
        }
      ],
      "source": [
        "from sklearn.metrics import accuracy_score \n",
        "acc=[]\n",
        "ker=['linear', 'poly', 'rbf', 'sigmoid']\n",
        "for i in ker:\n",
        "  X_train,X_test,y_train,y_test=train_test_split(X,y,test_size=0.3) # testset is 30%\n",
        "  model = SVC(kernel=i)\n",
        "  model.fit(X_train, y_train)\n",
        "  pred_svc = model.predict(X_test)\n",
        "  accu=accuracy_score(y_test, pred_svc)\n",
        "  acc.append(accu)\n",
        " \n",
        "print(acc)\n",
        "\n"
      ]
    },
    {
      "cell_type": "markdown",
      "metadata": {
        "id": "iXNKAR2orRlG"
      },
      "source": [
        "Validate the result of performance for different kernels of svc in 100 MC runs"
      ]
    },
    {
      "cell_type": "code",
      "execution_count": 8,
      "metadata": {
        "colab": {
          "base_uri": "https://localhost:8080/"
        },
        "id": "JNm4C_WNrb6o",
        "outputId": "ebe0d53c-f308-458f-e42f-9e6c67c691d3"
      },
      "outputs": [
        {
          "name": "stdout",
          "output_type": "stream",
          "text": [
            "[0.9735555555555555, 0.968, 0.9564444444444444, 0.24955555555555547]\n"
          ]
        }
      ],
      "source": [
        "import numpy as np\n",
        "acc=[]\n",
        "ker=['linear', 'poly', 'rbf', 'sigmoid']\n",
        "for i in ker:\n",
        "  mc_acc=[]\n",
        "  for j in range(100):\n",
        "    \n",
        "   X_train,X_test,y_train,y_test=train_test_split(X,y,test_size=0.3) # testset is 30%\n",
        "   model = SVC(kernel=i,C=1.1)\n",
        "   model.fit(X_train, y_train)\n",
        "   pred_svc = model.predict(X_test)\n",
        "   accu=accuracy_score(y_test, pred_svc)  # \n",
        "   mc_acc.append(accu) # append accuracy score in each MC run\n",
        "\n",
        "  acc.append(np.mean(mc_acc)) # mean of accuracy and append it in accuracy in kernel array\n",
        " \n",
        "print(acc)"
      ]
    },
    {
      "cell_type": "markdown",
      "metadata": {
        "id": "Wp71cusF9PrB"
      },
      "source": [
        "# conclusion: svm with linear kernel provide us the best classifier which can be exploited for recommender system"
      ]
    },
    {
      "cell_type": "code",
      "execution_count": 9,
      "metadata": {
        "colab": {
          "base_uri": "https://localhost:8080/"
        },
        "id": "jKGP5fsa15Yj",
        "outputId": "cb14edda-63ce-481a-c523-f3a47ae3a0f7"
      },
      "outputs": [
        {
          "name": "stdout",
          "output_type": "stream",
          "text": [
            "prediction ['Iris-virginica']\n"
          ]
        }
      ],
      "source": [
        "#Recommend the type of flower for the last sample in the dataset using the best classifier\n",
        "best = SVC(kernel='linear')\n",
        "best.fit(X, y)\n",
        "x_input=X.tail(1)\n",
        "recom = best.predict(x_input)\n",
        "print('prediction',recom)\n"
      ]
    },
    {
      "cell_type": "markdown",
      "metadata": {
        "id": "xPDH_lC-NrE0"
      },
      "source": [
        "#Example 2: \n",
        "1.  Use **winequality-red** dataset, apply SVC to predict '**quality**' variable for different kernels in 100 mc runs. Specify the best kernel\n",
        "2.  redo modeling for Naive Bayes and Logisitic regression\n",
        "3.  Compare all classifiers and specify the best among all \n",
        "\n",
        "\n"
      ]
    },
    {
      "cell_type": "code",
      "execution_count": 10,
      "metadata": {
        "id": "eRmuFwXpBCgi"
      },
      "outputs": [
        {
          "data": {
            "text/html": [
              "<div>\n",
              "<style scoped>\n",
              "    .dataframe tbody tr th:only-of-type {\n",
              "        vertical-align: middle;\n",
              "    }\n",
              "\n",
              "    .dataframe tbody tr th {\n",
              "        vertical-align: top;\n",
              "    }\n",
              "\n",
              "    .dataframe thead th {\n",
              "        text-align: right;\n",
              "    }\n",
              "</style>\n",
              "<table border=\"1\" class=\"dataframe\">\n",
              "  <thead>\n",
              "    <tr style=\"text-align: right;\">\n",
              "      <th></th>\n",
              "      <th>fixed acidity</th>\n",
              "      <th>volatile acidity</th>\n",
              "      <th>citric acid</th>\n",
              "      <th>residual sugar</th>\n",
              "      <th>chlorides</th>\n",
              "      <th>free sulfur dioxide</th>\n",
              "      <th>total sulfur dioxide</th>\n",
              "      <th>density</th>\n",
              "      <th>pH</th>\n",
              "      <th>sulphates</th>\n",
              "      <th>alcohol</th>\n",
              "      <th>quality</th>\n",
              "    </tr>\n",
              "  </thead>\n",
              "  <tbody>\n",
              "    <tr>\n",
              "      <th>0</th>\n",
              "      <td>7.4</td>\n",
              "      <td>0.70</td>\n",
              "      <td>0.00</td>\n",
              "      <td>1.9</td>\n",
              "      <td>0.076</td>\n",
              "      <td>11.0</td>\n",
              "      <td>34.0</td>\n",
              "      <td>0.9978</td>\n",
              "      <td>3.51</td>\n",
              "      <td>0.56</td>\n",
              "      <td>9.4</td>\n",
              "      <td>5</td>\n",
              "    </tr>\n",
              "    <tr>\n",
              "      <th>1</th>\n",
              "      <td>7.8</td>\n",
              "      <td>0.88</td>\n",
              "      <td>0.00</td>\n",
              "      <td>2.6</td>\n",
              "      <td>0.098</td>\n",
              "      <td>25.0</td>\n",
              "      <td>67.0</td>\n",
              "      <td>0.9968</td>\n",
              "      <td>3.20</td>\n",
              "      <td>0.68</td>\n",
              "      <td>9.8</td>\n",
              "      <td>5</td>\n",
              "    </tr>\n",
              "    <tr>\n",
              "      <th>2</th>\n",
              "      <td>7.8</td>\n",
              "      <td>0.76</td>\n",
              "      <td>0.04</td>\n",
              "      <td>2.3</td>\n",
              "      <td>0.092</td>\n",
              "      <td>15.0</td>\n",
              "      <td>54.0</td>\n",
              "      <td>0.9970</td>\n",
              "      <td>3.26</td>\n",
              "      <td>0.65</td>\n",
              "      <td>9.8</td>\n",
              "      <td>5</td>\n",
              "    </tr>\n",
              "    <tr>\n",
              "      <th>3</th>\n",
              "      <td>11.2</td>\n",
              "      <td>0.28</td>\n",
              "      <td>0.56</td>\n",
              "      <td>1.9</td>\n",
              "      <td>0.075</td>\n",
              "      <td>17.0</td>\n",
              "      <td>60.0</td>\n",
              "      <td>0.9980</td>\n",
              "      <td>3.16</td>\n",
              "      <td>0.58</td>\n",
              "      <td>9.8</td>\n",
              "      <td>6</td>\n",
              "    </tr>\n",
              "    <tr>\n",
              "      <th>4</th>\n",
              "      <td>7.4</td>\n",
              "      <td>0.70</td>\n",
              "      <td>0.00</td>\n",
              "      <td>1.9</td>\n",
              "      <td>0.076</td>\n",
              "      <td>11.0</td>\n",
              "      <td>34.0</td>\n",
              "      <td>0.9978</td>\n",
              "      <td>3.51</td>\n",
              "      <td>0.56</td>\n",
              "      <td>9.4</td>\n",
              "      <td>5</td>\n",
              "    </tr>\n",
              "    <tr>\n",
              "      <th>5</th>\n",
              "      <td>7.4</td>\n",
              "      <td>0.66</td>\n",
              "      <td>0.00</td>\n",
              "      <td>1.8</td>\n",
              "      <td>0.075</td>\n",
              "      <td>13.0</td>\n",
              "      <td>40.0</td>\n",
              "      <td>0.9978</td>\n",
              "      <td>3.51</td>\n",
              "      <td>0.56</td>\n",
              "      <td>9.4</td>\n",
              "      <td>5</td>\n",
              "    </tr>\n",
              "  </tbody>\n",
              "</table>\n",
              "</div>"
            ],
            "text/plain": [
              "   fixed acidity  volatile acidity  citric acid  residual sugar  chlorides  \\\n",
              "0            7.4              0.70         0.00             1.9      0.076   \n",
              "1            7.8              0.88         0.00             2.6      0.098   \n",
              "2            7.8              0.76         0.04             2.3      0.092   \n",
              "3           11.2              0.28         0.56             1.9      0.075   \n",
              "4            7.4              0.70         0.00             1.9      0.076   \n",
              "5            7.4              0.66         0.00             1.8      0.075   \n",
              "\n",
              "   free sulfur dioxide  total sulfur dioxide  density    pH  sulphates  \\\n",
              "0                 11.0                  34.0   0.9978  3.51       0.56   \n",
              "1                 25.0                  67.0   0.9968  3.20       0.68   \n",
              "2                 15.0                  54.0   0.9970  3.26       0.65   \n",
              "3                 17.0                  60.0   0.9980  3.16       0.58   \n",
              "4                 11.0                  34.0   0.9978  3.51       0.56   \n",
              "5                 13.0                  40.0   0.9978  3.51       0.56   \n",
              "\n",
              "   alcohol  quality  \n",
              "0      9.4        5  \n",
              "1      9.8        5  \n",
              "2      9.8        5  \n",
              "3      9.8        6  \n",
              "4      9.4        5  \n",
              "5      9.4        5  "
            ]
          },
          "execution_count": 10,
          "metadata": {},
          "output_type": "execute_result"
        }
      ],
      "source": [
        "import pandas as pd\n",
        "dataset= pd.read_csv('DataSets/winequality-red.csv')\n",
        "dataset.head(6)"
      ]
    },
    {
      "cell_type": "code",
      "execution_count": 11,
      "metadata": {
        "id": "2SnbJjcjBZYL"
      },
      "outputs": [
        {
          "name": "stdout",
          "output_type": "stream",
          "text": [
            "<class 'pandas.core.frame.DataFrame'>\n",
            "RangeIndex: 1599 entries, 0 to 1598\n",
            "Data columns (total 12 columns):\n",
            " #   Column                Non-Null Count  Dtype  \n",
            "---  ------                --------------  -----  \n",
            " 0   fixed acidity         1599 non-null   float64\n",
            " 1   volatile acidity      1599 non-null   float64\n",
            " 2   citric acid           1599 non-null   float64\n",
            " 3   residual sugar        1599 non-null   float64\n",
            " 4   chlorides             1599 non-null   float64\n",
            " 5   free sulfur dioxide   1599 non-null   float64\n",
            " 6   total sulfur dioxide  1599 non-null   float64\n",
            " 7   density               1599 non-null   float64\n",
            " 8   pH                    1599 non-null   float64\n",
            " 9   sulphates             1599 non-null   float64\n",
            " 10  alcohol               1599 non-null   float64\n",
            " 11  quality               1599 non-null   int64  \n",
            "dtypes: float64(11), int64(1)\n",
            "memory usage: 150.0 KB\n"
          ]
        }
      ],
      "source": [
        "dataset.info()"
      ]
    },
    {
      "cell_type": "code",
      "execution_count": 12,
      "metadata": {
        "colab": {
          "base_uri": "https://localhost:8080/",
          "height": 285
        },
        "id": "GUO_R0gfhmm_",
        "outputId": "ffe78118-3691-4a56-a4fa-d531463d190b"
      },
      "outputs": [
        {
          "data": {
            "text/html": [
              "<div>\n",
              "<style scoped>\n",
              "    .dataframe tbody tr th:only-of-type {\n",
              "        vertical-align: middle;\n",
              "    }\n",
              "\n",
              "    .dataframe tbody tr th {\n",
              "        vertical-align: top;\n",
              "    }\n",
              "\n",
              "    .dataframe thead th {\n",
              "        text-align: right;\n",
              "    }\n",
              "</style>\n",
              "<table border=\"1\" class=\"dataframe\">\n",
              "  <thead>\n",
              "    <tr style=\"text-align: right;\">\n",
              "      <th></th>\n",
              "      <th>fixed acidity</th>\n",
              "      <th>volatile acidity</th>\n",
              "      <th>citric acid</th>\n",
              "      <th>residual sugar</th>\n",
              "      <th>chlorides</th>\n",
              "      <th>free sulfur dioxide</th>\n",
              "      <th>total sulfur dioxide</th>\n",
              "      <th>density</th>\n",
              "      <th>pH</th>\n",
              "      <th>sulphates</th>\n",
              "      <th>alcohol</th>\n",
              "    </tr>\n",
              "  </thead>\n",
              "  <tbody>\n",
              "    <tr>\n",
              "      <th>0</th>\n",
              "      <td>7.4</td>\n",
              "      <td>0.70</td>\n",
              "      <td>0.00</td>\n",
              "      <td>1.9</td>\n",
              "      <td>0.076</td>\n",
              "      <td>11.0</td>\n",
              "      <td>34.0</td>\n",
              "      <td>0.9978</td>\n",
              "      <td>3.51</td>\n",
              "      <td>0.56</td>\n",
              "      <td>9.4</td>\n",
              "    </tr>\n",
              "    <tr>\n",
              "      <th>1</th>\n",
              "      <td>7.8</td>\n",
              "      <td>0.88</td>\n",
              "      <td>0.00</td>\n",
              "      <td>2.6</td>\n",
              "      <td>0.098</td>\n",
              "      <td>25.0</td>\n",
              "      <td>67.0</td>\n",
              "      <td>0.9968</td>\n",
              "      <td>3.20</td>\n",
              "      <td>0.68</td>\n",
              "      <td>9.8</td>\n",
              "    </tr>\n",
              "    <tr>\n",
              "      <th>2</th>\n",
              "      <td>7.8</td>\n",
              "      <td>0.76</td>\n",
              "      <td>0.04</td>\n",
              "      <td>2.3</td>\n",
              "      <td>0.092</td>\n",
              "      <td>15.0</td>\n",
              "      <td>54.0</td>\n",
              "      <td>0.9970</td>\n",
              "      <td>3.26</td>\n",
              "      <td>0.65</td>\n",
              "      <td>9.8</td>\n",
              "    </tr>\n",
              "    <tr>\n",
              "      <th>3</th>\n",
              "      <td>11.2</td>\n",
              "      <td>0.28</td>\n",
              "      <td>0.56</td>\n",
              "      <td>1.9</td>\n",
              "      <td>0.075</td>\n",
              "      <td>17.0</td>\n",
              "      <td>60.0</td>\n",
              "      <td>0.9980</td>\n",
              "      <td>3.16</td>\n",
              "      <td>0.58</td>\n",
              "      <td>9.8</td>\n",
              "    </tr>\n",
              "    <tr>\n",
              "      <th>4</th>\n",
              "      <td>7.4</td>\n",
              "      <td>0.70</td>\n",
              "      <td>0.00</td>\n",
              "      <td>1.9</td>\n",
              "      <td>0.076</td>\n",
              "      <td>11.0</td>\n",
              "      <td>34.0</td>\n",
              "      <td>0.9978</td>\n",
              "      <td>3.51</td>\n",
              "      <td>0.56</td>\n",
              "      <td>9.4</td>\n",
              "    </tr>\n",
              "  </tbody>\n",
              "</table>\n",
              "</div>"
            ],
            "text/plain": [
              "   fixed acidity  volatile acidity  citric acid  residual sugar  chlorides  \\\n",
              "0            7.4              0.70         0.00             1.9      0.076   \n",
              "1            7.8              0.88         0.00             2.6      0.098   \n",
              "2            7.8              0.76         0.04             2.3      0.092   \n",
              "3           11.2              0.28         0.56             1.9      0.075   \n",
              "4            7.4              0.70         0.00             1.9      0.076   \n",
              "\n",
              "   free sulfur dioxide  total sulfur dioxide  density    pH  sulphates  \\\n",
              "0                 11.0                  34.0   0.9978  3.51       0.56   \n",
              "1                 25.0                  67.0   0.9968  3.20       0.68   \n",
              "2                 15.0                  54.0   0.9970  3.26       0.65   \n",
              "3                 17.0                  60.0   0.9980  3.16       0.58   \n",
              "4                 11.0                  34.0   0.9978  3.51       0.56   \n",
              "\n",
              "   alcohol  \n",
              "0      9.4  \n",
              "1      9.8  \n",
              "2      9.8  \n",
              "3      9.8  \n",
              "4      9.4  "
            ]
          },
          "execution_count": 12,
          "metadata": {},
          "output_type": "execute_result"
        }
      ],
      "source": [
        "X=dataset.drop('quality',axis=1)\n",
        "y=dataset['quality'] \n",
        "X_train,X_test,y_train,y_test=train_test_split(X,y,test_size=0.3) # testset is 30%\n",
        "y.value_counts()\n",
        "X.head()"
      ]
    },
    {
      "cell_type": "code",
      "execution_count": 13,
      "metadata": {
        "id": "21VVyze3iau_"
      },
      "outputs": [],
      "source": [
        "from sklearn.model_selection import cross_val_score\n",
        "from sklearn.metrics import confusion_matrix, classification_report"
      ]
    },
    {
      "cell_type": "code",
      "execution_count": 14,
      "metadata": {
        "colab": {
          "base_uri": "https://localhost:8080/"
        },
        "id": "buag2ai2jrpW",
        "outputId": "dcf26ad9-17f7-4505-933b-61ad6e5958db"
      },
      "outputs": [],
      "source": [
        "import numpy as np\n",
        "acc=[]\n",
        "ker=['linear', 'poly', 'rbf', 'sigmoid']\n",
        "for i in ker:\n",
        "  mc_acc=[]\n",
        "  for j in range(10):\n",
        "    \n",
        "   X_train,X_test,y_train,y_test=train_test_split(X,y,test_size=0.3) # testset is 30%\n",
        "   model = SVC(kernel=i,C=1.1)\n",
        "   model.fit(X_train, y_train)\n",
        "   pred_svc = model.predict(X_test)\n",
        "   accu=accuracy_score(y_test, pred_svc)  # \n",
        "   mc_acc.append(accu) # append accuracy score in each MC run\n",
        "\n",
        "  acc.append(np.mean(mc_acc)) # mean of accuracy and append it in accuracy in kernel array\n",
        " \n",
        "print(acc)"
      ]
    },
    {
      "cell_type": "markdown",
      "metadata": {
        "id": "el6z5FTWTlJN"
      },
      "source": [
        "**conclusion**: the best svc is linear, since it has the highest accuracy"
      ]
    },
    {
      "cell_type": "code",
      "execution_count": null,
      "metadata": {
        "id": "KAw052saW69_"
      },
      "outputs": [],
      "source": [
        "from sklearn.naive_bayes import GaussianNB\n",
        "from sklearn.linear_model import LogisticRegression"
      ]
    },
    {
      "cell_type": "code",
      "execution_count": null,
      "metadata": {
        "id": "BZUuc3cSyEDj"
      },
      "outputs": [
        {
          "name": "stdout",
          "output_type": "stream",
          "text": [
            "[0.9844444444444445, 0.9777777777777779, 0.9755555555555556, 0.2333333333333333]\n"
          ]
        }
      ],
      "source": [
        "# solution part 2 ; apply NB and Logistic reg in one cell\n",
        "import numpy as np\n",
        "acc=[]\n",
        "ker=['linear', 'poly', 'rbf', 'sigmoid']\n",
        "for i in ker:\n",
        "  mc_acc=[]\n",
        "  for j in range(10):\n",
        "    \n",
        "   X_train,X_test,y_train,y_test=train_test_split(X,y,test_size=0.3) # testset is 30%\n",
        "   model = SVC(kernel=i,C=1.1)\n",
        "   model.fit(X_train, y_train)\n",
        "   pred_svc = model.predict(X_test)\n",
        "   accu=accuracy_score(y_test, pred_svc)  # \n",
        "   mc_acc.append(accu) # append accuracy score in each MC run\n",
        "\n",
        "  acc.append(np.mean(mc_acc)) # mean of accuracy and append it in accuracy in kernel array\n",
        " \n",
        "print(acc)\n",
        "\n"
      ]
    },
    {
      "cell_type": "code",
      "execution_count": null,
      "metadata": {
        "colab": {
          "base_uri": "https://localhost:8080/"
        },
        "id": "jonf9t6UXErw",
        "outputId": "bebeefeb-bfb3-4285-bb9a-54d9ee2e9c79"
      },
      "outputs": [
        {
          "ename": "NameError",
          "evalue": "name 'pred_mlr' is not defined",
          "output_type": "error",
          "traceback": [
            "\u001b[1;31m---------------------------------------------------------------------------\u001b[0m",
            "\u001b[1;31mNameError\u001b[0m                                 Traceback (most recent call last)",
            "\u001b[1;32m~\\AppData\\Local\\Temp/ipykernel_4488/3066760529.py\u001b[0m in \u001b[0;36m<module>\u001b[1;34m\u001b[0m\n\u001b[0;32m      1\u001b[0m \u001b[1;32mfrom\u001b[0m \u001b[0msklearn\u001b[0m\u001b[1;33m.\u001b[0m\u001b[0mmetrics\u001b[0m \u001b[1;32mimport\u001b[0m \u001b[0mconfusion_matrix\u001b[0m\u001b[1;33m\u001b[0m\u001b[1;33m\u001b[0m\u001b[0m\n\u001b[1;32m----> 2\u001b[1;33m \u001b[0mcm\u001b[0m\u001b[1;33m=\u001b[0m\u001b[0mconfusion_matrix\u001b[0m\u001b[1;33m(\u001b[0m\u001b[0my_test\u001b[0m\u001b[1;33m,\u001b[0m \u001b[0mpred_mlr\u001b[0m\u001b[1;33m)\u001b[0m\u001b[1;33m\u001b[0m\u001b[1;33m\u001b[0m\u001b[0m\n\u001b[0m\u001b[0;32m      3\u001b[0m \u001b[0mprint\u001b[0m\u001b[1;33m(\u001b[0m\u001b[0mcm\u001b[0m\u001b[1;33m)\u001b[0m\u001b[1;33m\u001b[0m\u001b[1;33m\u001b[0m\u001b[0m\n\u001b[0;32m      4\u001b[0m \u001b[0mprint\u001b[0m\u001b[1;33m(\u001b[0m\u001b[0my\u001b[0m\u001b[1;33m.\u001b[0m\u001b[0mvalue_counts\u001b[0m\u001b[1;33m(\u001b[0m\u001b[1;33m)\u001b[0m\u001b[1;33m)\u001b[0m\u001b[1;33m\u001b[0m\u001b[1;33m\u001b[0m\u001b[0m\n",
            "\u001b[1;31mNameError\u001b[0m: name 'pred_mlr' is not defined"
          ]
        }
      ],
      "source": [
        "from sklearn.metrics import confusion_matrix\n",
        "cm=confusion_matrix(y_test, pred_mlr)\n",
        "print(cm)\n",
        "print(y.value_counts())"
      ]
    },
    {
      "cell_type": "markdown",
      "metadata": {
        "id": "OFWCjDL3z_Jv"
      },
      "source": [
        "**Regression analysis**:  ***RMSE*** and **R_score** can be used to evaluate the model\n",
        "\n",
        "**Classification**: ***Accuracy***, Recall, Precision, F1 score are used to evaluate the classifiers "
      ]
    },
    {
      "cell_type": "code",
      "execution_count": null,
      "metadata": {
        "colab": {
          "base_uri": "https://localhost:8080/"
        },
        "id": "k-w4vWaSXSHk",
        "outputId": "71c948ee-42b0-4eb9-d38d-6a197d608d50"
      },
      "outputs": [
        {
          "data": {
            "text/plain": [
              "[0.575, 0.56875, 0.5729166666666666]"
            ]
          },
          "execution_count": 16,
          "metadata": {
            "tags": []
          },
          "output_type": "execute_result"
        }
      ],
      "source": [
        "[np.mean(acc_svc),np.mean(acc_gnb),np.mean(acc_mlr)]"
      ]
    },
    {
      "cell_type": "code",
      "execution_count": null,
      "metadata": {
        "id": "66T8yLTzXi42"
      },
      "outputs": [],
      "source": [
        "** final result**: the best model is SVC with linear kernel"
      ]
    },
    {
      "cell_type": "markdown",
      "metadata": {
        "id": "70KqseiMyI7A"
      },
      "source": [
        "#Example 3:\n",
        "Apply SVM to accomplish the task of regression on **boston** dataset, where **medv** is the output variable, evaluate the performance of model in 100 mc runs. \n",
        "\n"
      ]
    },
    {
      "cell_type": "code",
      "execution_count": null,
      "metadata": {
        "id": "aMn_t4qgzJIO"
      },
      "outputs": [],
      "source": [
        "import pandas as pd\n",
        "import seaborn as sns\n",
        "  \n",
        "from sklearn.metrics import mean_squared_error\n",
        "from math import sqrt\n",
        " \n",
        "from sklearn.svm import SVR  # for regression analysis\n",
        "from sklearn.linear_model import LinearRegression\n",
        "import numpy as np\n",
        "import matplotlib.pyplot as plt\n",
        "import time\n",
        " "
      ]
    },
    {
      "cell_type": "markdown",
      "metadata": {
        "id": "l6tsBUaKS-fh"
      },
      "source": [
        "# New Section"
      ]
    },
    {
      "cell_type": "code",
      "execution_count": null,
      "metadata": {
        "id": "INL7VHQ3zZtR"
      },
      "outputs": [
        {
          "data": {
            "text/html": [
              "<div>\n",
              "<style scoped>\n",
              "    .dataframe tbody tr th:only-of-type {\n",
              "        vertical-align: middle;\n",
              "    }\n",
              "\n",
              "    .dataframe tbody tr th {\n",
              "        vertical-align: top;\n",
              "    }\n",
              "\n",
              "    .dataframe thead th {\n",
              "        text-align: right;\n",
              "    }\n",
              "</style>\n",
              "<table border=\"1\" class=\"dataframe\">\n",
              "  <thead>\n",
              "    <tr style=\"text-align: right;\">\n",
              "      <th></th>\n",
              "      <th>CRIM</th>\n",
              "      <th>ZN</th>\n",
              "      <th>INDUS</th>\n",
              "      <th>CHAS</th>\n",
              "      <th>NOX</th>\n",
              "      <th>RM</th>\n",
              "      <th>AGE</th>\n",
              "      <th>DIS</th>\n",
              "      <th>RAD</th>\n",
              "      <th>TAX</th>\n",
              "      <th>PTRATIO</th>\n",
              "      <th>B</th>\n",
              "      <th>LSTAT</th>\n",
              "      <th>MEDV</th>\n",
              "    </tr>\n",
              "  </thead>\n",
              "  <tbody>\n",
              "    <tr>\n",
              "      <th>0</th>\n",
              "      <td>0.00632</td>\n",
              "      <td>18.0</td>\n",
              "      <td>2.31</td>\n",
              "      <td>0</td>\n",
              "      <td>0.538</td>\n",
              "      <td>6.575</td>\n",
              "      <td>65.2</td>\n",
              "      <td>4.0900</td>\n",
              "      <td>1</td>\n",
              "      <td>296</td>\n",
              "      <td>15.3</td>\n",
              "      <td>396.90</td>\n",
              "      <td>4.98</td>\n",
              "      <td>24.0</td>\n",
              "    </tr>\n",
              "    <tr>\n",
              "      <th>1</th>\n",
              "      <td>0.02731</td>\n",
              "      <td>0.0</td>\n",
              "      <td>7.07</td>\n",
              "      <td>0</td>\n",
              "      <td>0.469</td>\n",
              "      <td>6.421</td>\n",
              "      <td>78.9</td>\n",
              "      <td>4.9671</td>\n",
              "      <td>2</td>\n",
              "      <td>242</td>\n",
              "      <td>17.8</td>\n",
              "      <td>396.90</td>\n",
              "      <td>9.14</td>\n",
              "      <td>21.6</td>\n",
              "    </tr>\n",
              "    <tr>\n",
              "      <th>2</th>\n",
              "      <td>0.02729</td>\n",
              "      <td>0.0</td>\n",
              "      <td>7.07</td>\n",
              "      <td>0</td>\n",
              "      <td>0.469</td>\n",
              "      <td>7.185</td>\n",
              "      <td>61.1</td>\n",
              "      <td>4.9671</td>\n",
              "      <td>2</td>\n",
              "      <td>242</td>\n",
              "      <td>17.8</td>\n",
              "      <td>392.83</td>\n",
              "      <td>4.03</td>\n",
              "      <td>34.7</td>\n",
              "    </tr>\n",
              "    <tr>\n",
              "      <th>3</th>\n",
              "      <td>0.03237</td>\n",
              "      <td>0.0</td>\n",
              "      <td>2.18</td>\n",
              "      <td>0</td>\n",
              "      <td>0.458</td>\n",
              "      <td>6.998</td>\n",
              "      <td>45.8</td>\n",
              "      <td>6.0622</td>\n",
              "      <td>3</td>\n",
              "      <td>222</td>\n",
              "      <td>18.7</td>\n",
              "      <td>394.63</td>\n",
              "      <td>2.94</td>\n",
              "      <td>33.4</td>\n",
              "    </tr>\n",
              "    <tr>\n",
              "      <th>4</th>\n",
              "      <td>0.06905</td>\n",
              "      <td>0.0</td>\n",
              "      <td>2.18</td>\n",
              "      <td>0</td>\n",
              "      <td>0.458</td>\n",
              "      <td>7.147</td>\n",
              "      <td>54.2</td>\n",
              "      <td>6.0622</td>\n",
              "      <td>3</td>\n",
              "      <td>222</td>\n",
              "      <td>18.7</td>\n",
              "      <td>396.90</td>\n",
              "      <td>5.33</td>\n",
              "      <td>36.2</td>\n",
              "    </tr>\n",
              "    <tr>\n",
              "      <th>5</th>\n",
              "      <td>0.02985</td>\n",
              "      <td>0.0</td>\n",
              "      <td>2.18</td>\n",
              "      <td>0</td>\n",
              "      <td>0.458</td>\n",
              "      <td>6.430</td>\n",
              "      <td>58.7</td>\n",
              "      <td>6.0622</td>\n",
              "      <td>3</td>\n",
              "      <td>222</td>\n",
              "      <td>18.7</td>\n",
              "      <td>394.12</td>\n",
              "      <td>5.21</td>\n",
              "      <td>28.7</td>\n",
              "    </tr>\n",
              "  </tbody>\n",
              "</table>\n",
              "</div>"
            ],
            "text/plain": [
              "      CRIM    ZN  INDUS  CHAS    NOX     RM   AGE     DIS  RAD  TAX  PTRATIO  \\\n",
              "0  0.00632  18.0   2.31     0  0.538  6.575  65.2  4.0900    1  296     15.3   \n",
              "1  0.02731   0.0   7.07     0  0.469  6.421  78.9  4.9671    2  242     17.8   \n",
              "2  0.02729   0.0   7.07     0  0.469  7.185  61.1  4.9671    2  242     17.8   \n",
              "3  0.03237   0.0   2.18     0  0.458  6.998  45.8  6.0622    3  222     18.7   \n",
              "4  0.06905   0.0   2.18     0  0.458  7.147  54.2  6.0622    3  222     18.7   \n",
              "5  0.02985   0.0   2.18     0  0.458  6.430  58.7  6.0622    3  222     18.7   \n",
              "\n",
              "        B  LSTAT  MEDV  \n",
              "0  396.90   4.98  24.0  \n",
              "1  396.90   9.14  21.6  \n",
              "2  392.83   4.03  34.7  \n",
              "3  394.63   2.94  33.4  \n",
              "4  396.90   5.33  36.2  \n",
              "5  394.12   5.21  28.7  "
            ]
          },
          "execution_count": 15,
          "metadata": {},
          "output_type": "execute_result"
        }
      ],
      "source": [
        "import pandas as pd\n",
        "dataset= pd.read_csv('DataSets/boston_house_prices.csv')\n",
        "dataset.head(6)"
      ]
    },
    {
      "cell_type": "code",
      "execution_count": null,
      "metadata": {
        "id": "DeJnWrB52RP0"
      },
      "outputs": [],
      "source": [
        "#inputs=['calories','protein','fat','sodium','fiber']"
      ]
    },
    {
      "cell_type": "code",
      "execution_count": null,
      "metadata": {
        "colab": {
          "base_uri": "https://localhost:8080/",
          "height": 200
        },
        "id": "Ml9W5EpZzeg0",
        "outputId": "29593550-d6b3-41d3-cf6f-f738e14a299f"
      },
      "outputs": [],
      "source": [
        "X=dataset.drop('MEDV',axis=1)\n",
        "y=dataset['MEDV']\n",
        "from sklearn.model_selection import train_test_split \n"
      ]
    },
    {
      "cell_type": "markdown",
      "metadata": {
        "id": "0a_Fx-KGfuRp"
      },
      "source": [
        "The useful svm kernels for regression analysis: linear, rbf and poly"
      ]
    },
    {
      "cell_type": "code",
      "execution_count": null,
      "metadata": {
        "id": "UNc4b3sE0lAJ"
      },
      "outputs": [],
      "source": [
        "svr_rbf = SVR(kernel='rbf')\n",
        "svr_lin = SVR(kernel='linear')\n",
        "svr_poly=SVR(kernel='poly')\n",
        "\n",
        "lr = LinearRegression()"
      ]
    },
    {
      "cell_type": "code",
      "execution_count": null,
      "metadata": {
        "id": "0wCSqSFa4agU"
      },
      "outputs": [],
      "source": [
        "inputs=['CRIM',\t'ZN',\t'INDUS',\t'CHAS',\t'NOX',\t'RM',\t'AGE',\t'DIS'\t,'RAD'\t,'TAX',\t'PTRATIO',\t'B',\t'LSTAT']"
      ]
    },
    {
      "cell_type": "code",
      "execution_count": null,
      "metadata": {
        "id": "9uxLSSBHUQ2d"
      },
      "outputs": [],
      "source": [
        "from math import sqrt"
      ]
    },
    {
      "cell_type": "code",
      "execution_count": null,
      "metadata": {
        "id": "ZsN7dHQO1RM-"
      },
      "outputs": [],
      "source": [
        "def launch_model(name,model, X_train, y_train, X_test, y_test):\n",
        "    \n",
        "    model.fit(X_train[inputs], y_train)\n",
        "    y_pred = model.predict(X_test[inputs])\n",
        "    print ('RMSE test', sqrt(mean_squared_error(y_test, y_pred)))\n",
        "     \n",
        " "
      ]
    },
    {
      "cell_type": "code",
      "execution_count": null,
      "metadata": {
        "id": "lbcdYGkT12OD"
      },
      "outputs": [
        {
          "name": "stdout",
          "output_type": "stream",
          "text": [
            "-----------\n",
            "SVR - RBF\n",
            "-----------\n"
          ]
        },
        {
          "ename": "KeyError",
          "evalue": "\"None of [Index(['CRIM', 'ZN', 'INDUS', 'CHAS', 'NOX', 'RM', 'AGE', 'DIS', 'RAD', 'TAX',\\n       'PTRATIO', 'B', 'LSTAT'],\\n      dtype='object')] are in the [columns]\"",
          "output_type": "error",
          "traceback": [
            "\u001b[1;31m---------------------------------------------------------------------------\u001b[0m",
            "\u001b[1;31mKeyError\u001b[0m                                  Traceback (most recent call last)",
            "\u001b[1;32m~\\AppData\\Local\\Temp/ipykernel_4488/3658950006.py\u001b[0m in \u001b[0;36m<module>\u001b[1;34m\u001b[0m\n\u001b[0;32m      3\u001b[0m \u001b[0mprint\u001b[0m \u001b[1;33m(\u001b[0m\u001b[1;34m'SVR - RBF'\u001b[0m\u001b[1;33m)\u001b[0m\u001b[1;33m\u001b[0m\u001b[1;33m\u001b[0m\u001b[0m\n\u001b[0;32m      4\u001b[0m \u001b[0mprint\u001b[0m \u001b[1;33m(\u001b[0m\u001b[1;34m'-----------'\u001b[0m\u001b[1;33m)\u001b[0m\u001b[1;33m\u001b[0m\u001b[1;33m\u001b[0m\u001b[0m\n\u001b[1;32m----> 5\u001b[1;33m \u001b[0mresults\u001b[0m\u001b[1;33m.\u001b[0m\u001b[0mappend\u001b[0m\u001b[1;33m(\u001b[0m\u001b[0mlaunch_model\u001b[0m\u001b[1;33m(\u001b[0m\u001b[1;34m'SVR - RBF'\u001b[0m\u001b[1;33m,\u001b[0m \u001b[0msvr_rbf\u001b[0m\u001b[1;33m,\u001b[0m \u001b[0mX_train\u001b[0m\u001b[1;33m,\u001b[0m \u001b[0my_train\u001b[0m\u001b[1;33m,\u001b[0m \u001b[0mX_test\u001b[0m\u001b[1;33m,\u001b[0m \u001b[0my_test\u001b[0m\u001b[1;33m)\u001b[0m\u001b[1;33m)\u001b[0m\u001b[1;33m\u001b[0m\u001b[1;33m\u001b[0m\u001b[0m\n\u001b[0m\u001b[0;32m      6\u001b[0m \u001b[0mprint\u001b[0m \u001b[1;33m(\u001b[0m\u001b[1;34m'-----------'\u001b[0m\u001b[1;33m)\u001b[0m\u001b[1;33m\u001b[0m\u001b[1;33m\u001b[0m\u001b[0m\n\u001b[0;32m      7\u001b[0m \u001b[0mprint\u001b[0m \u001b[1;33m(\u001b[0m\u001b[1;34m'SVR - linear'\u001b[0m\u001b[1;33m)\u001b[0m\u001b[1;33m\u001b[0m\u001b[1;33m\u001b[0m\u001b[0m\n",
            "\u001b[1;32m~\\AppData\\Local\\Temp/ipykernel_4488/429302944.py\u001b[0m in \u001b[0;36mlaunch_model\u001b[1;34m(name, model, X_train, y_train, X_test, y_test)\u001b[0m\n\u001b[0;32m      1\u001b[0m \u001b[1;32mdef\u001b[0m \u001b[0mlaunch_model\u001b[0m\u001b[1;33m(\u001b[0m\u001b[0mname\u001b[0m\u001b[1;33m,\u001b[0m\u001b[0mmodel\u001b[0m\u001b[1;33m,\u001b[0m \u001b[0mX_train\u001b[0m\u001b[1;33m,\u001b[0m \u001b[0my_train\u001b[0m\u001b[1;33m,\u001b[0m \u001b[0mX_test\u001b[0m\u001b[1;33m,\u001b[0m \u001b[0my_test\u001b[0m\u001b[1;33m)\u001b[0m\u001b[1;33m:\u001b[0m\u001b[1;33m\u001b[0m\u001b[1;33m\u001b[0m\u001b[0m\n\u001b[0;32m      2\u001b[0m \u001b[1;33m\u001b[0m\u001b[0m\n\u001b[1;32m----> 3\u001b[1;33m     \u001b[0mmodel\u001b[0m\u001b[1;33m.\u001b[0m\u001b[0mfit\u001b[0m\u001b[1;33m(\u001b[0m\u001b[0mX_train\u001b[0m\u001b[1;33m[\u001b[0m\u001b[0minputs\u001b[0m\u001b[1;33m]\u001b[0m\u001b[1;33m,\u001b[0m \u001b[0my_train\u001b[0m\u001b[1;33m)\u001b[0m\u001b[1;33m\u001b[0m\u001b[1;33m\u001b[0m\u001b[0m\n\u001b[0m\u001b[0;32m      4\u001b[0m     \u001b[0my_pred\u001b[0m \u001b[1;33m=\u001b[0m \u001b[0mmodel\u001b[0m\u001b[1;33m.\u001b[0m\u001b[0mpredict\u001b[0m\u001b[1;33m(\u001b[0m\u001b[0mX_test\u001b[0m\u001b[1;33m[\u001b[0m\u001b[0minputs\u001b[0m\u001b[1;33m]\u001b[0m\u001b[1;33m)\u001b[0m\u001b[1;33m\u001b[0m\u001b[1;33m\u001b[0m\u001b[0m\n\u001b[0;32m      5\u001b[0m     \u001b[0mprint\u001b[0m \u001b[1;33m(\u001b[0m\u001b[1;34m'RMSE test'\u001b[0m\u001b[1;33m,\u001b[0m \u001b[0msqrt\u001b[0m\u001b[1;33m(\u001b[0m\u001b[0mmean_squared_error\u001b[0m\u001b[1;33m(\u001b[0m\u001b[0my_test\u001b[0m\u001b[1;33m,\u001b[0m \u001b[0my_pred\u001b[0m\u001b[1;33m)\u001b[0m\u001b[1;33m)\u001b[0m\u001b[1;33m)\u001b[0m\u001b[1;33m\u001b[0m\u001b[1;33m\u001b[0m\u001b[0m\n",
            "\u001b[1;32m~\\miniconda3\\lib\\site-packages\\pandas\\core\\frame.py\u001b[0m in \u001b[0;36m__getitem__\u001b[1;34m(self, key)\u001b[0m\n\u001b[0;32m   3509\u001b[0m             \u001b[1;32mif\u001b[0m \u001b[0mis_iterator\u001b[0m\u001b[1;33m(\u001b[0m\u001b[0mkey\u001b[0m\u001b[1;33m)\u001b[0m\u001b[1;33m:\u001b[0m\u001b[1;33m\u001b[0m\u001b[1;33m\u001b[0m\u001b[0m\n\u001b[0;32m   3510\u001b[0m                 \u001b[0mkey\u001b[0m \u001b[1;33m=\u001b[0m \u001b[0mlist\u001b[0m\u001b[1;33m(\u001b[0m\u001b[0mkey\u001b[0m\u001b[1;33m)\u001b[0m\u001b[1;33m\u001b[0m\u001b[1;33m\u001b[0m\u001b[0m\n\u001b[1;32m-> 3511\u001b[1;33m             \u001b[0mindexer\u001b[0m \u001b[1;33m=\u001b[0m \u001b[0mself\u001b[0m\u001b[1;33m.\u001b[0m\u001b[0mcolumns\u001b[0m\u001b[1;33m.\u001b[0m\u001b[0m_get_indexer_strict\u001b[0m\u001b[1;33m(\u001b[0m\u001b[0mkey\u001b[0m\u001b[1;33m,\u001b[0m \u001b[1;34m\"columns\"\u001b[0m\u001b[1;33m)\u001b[0m\u001b[1;33m[\u001b[0m\u001b[1;36m1\u001b[0m\u001b[1;33m]\u001b[0m\u001b[1;33m\u001b[0m\u001b[1;33m\u001b[0m\u001b[0m\n\u001b[0m\u001b[0;32m   3512\u001b[0m \u001b[1;33m\u001b[0m\u001b[0m\n\u001b[0;32m   3513\u001b[0m         \u001b[1;31m# take() does not accept boolean indexers\u001b[0m\u001b[1;33m\u001b[0m\u001b[1;33m\u001b[0m\u001b[0m\n",
            "\u001b[1;32m~\\miniconda3\\lib\\site-packages\\pandas\\core\\indexes\\base.py\u001b[0m in \u001b[0;36m_get_indexer_strict\u001b[1;34m(self, key, axis_name)\u001b[0m\n\u001b[0;32m   5780\u001b[0m             \u001b[0mkeyarr\u001b[0m\u001b[1;33m,\u001b[0m \u001b[0mindexer\u001b[0m\u001b[1;33m,\u001b[0m \u001b[0mnew_indexer\u001b[0m \u001b[1;33m=\u001b[0m \u001b[0mself\u001b[0m\u001b[1;33m.\u001b[0m\u001b[0m_reindex_non_unique\u001b[0m\u001b[1;33m(\u001b[0m\u001b[0mkeyarr\u001b[0m\u001b[1;33m)\u001b[0m\u001b[1;33m\u001b[0m\u001b[1;33m\u001b[0m\u001b[0m\n\u001b[0;32m   5781\u001b[0m \u001b[1;33m\u001b[0m\u001b[0m\n\u001b[1;32m-> 5782\u001b[1;33m         \u001b[0mself\u001b[0m\u001b[1;33m.\u001b[0m\u001b[0m_raise_if_missing\u001b[0m\u001b[1;33m(\u001b[0m\u001b[0mkeyarr\u001b[0m\u001b[1;33m,\u001b[0m \u001b[0mindexer\u001b[0m\u001b[1;33m,\u001b[0m \u001b[0maxis_name\u001b[0m\u001b[1;33m)\u001b[0m\u001b[1;33m\u001b[0m\u001b[1;33m\u001b[0m\u001b[0m\n\u001b[0m\u001b[0;32m   5783\u001b[0m \u001b[1;33m\u001b[0m\u001b[0m\n\u001b[0;32m   5784\u001b[0m         \u001b[0mkeyarr\u001b[0m \u001b[1;33m=\u001b[0m \u001b[0mself\u001b[0m\u001b[1;33m.\u001b[0m\u001b[0mtake\u001b[0m\u001b[1;33m(\u001b[0m\u001b[0mindexer\u001b[0m\u001b[1;33m)\u001b[0m\u001b[1;33m\u001b[0m\u001b[1;33m\u001b[0m\u001b[0m\n",
            "\u001b[1;32m~\\miniconda3\\lib\\site-packages\\pandas\\core\\indexes\\base.py\u001b[0m in \u001b[0;36m_raise_if_missing\u001b[1;34m(self, key, indexer, axis_name)\u001b[0m\n\u001b[0;32m   5840\u001b[0m                 \u001b[1;32mif\u001b[0m \u001b[0muse_interval_msg\u001b[0m\u001b[1;33m:\u001b[0m\u001b[1;33m\u001b[0m\u001b[1;33m\u001b[0m\u001b[0m\n\u001b[0;32m   5841\u001b[0m                     \u001b[0mkey\u001b[0m \u001b[1;33m=\u001b[0m \u001b[0mlist\u001b[0m\u001b[1;33m(\u001b[0m\u001b[0mkey\u001b[0m\u001b[1;33m)\u001b[0m\u001b[1;33m\u001b[0m\u001b[1;33m\u001b[0m\u001b[0m\n\u001b[1;32m-> 5842\u001b[1;33m                 \u001b[1;32mraise\u001b[0m \u001b[0mKeyError\u001b[0m\u001b[1;33m(\u001b[0m\u001b[1;34mf\"None of [{key}] are in the [{axis_name}]\"\u001b[0m\u001b[1;33m)\u001b[0m\u001b[1;33m\u001b[0m\u001b[1;33m\u001b[0m\u001b[0m\n\u001b[0m\u001b[0;32m   5843\u001b[0m \u001b[1;33m\u001b[0m\u001b[0m\n\u001b[0;32m   5844\u001b[0m             \u001b[0mnot_found\u001b[0m \u001b[1;33m=\u001b[0m \u001b[0mlist\u001b[0m\u001b[1;33m(\u001b[0m\u001b[0mensure_index\u001b[0m\u001b[1;33m(\u001b[0m\u001b[0mkey\u001b[0m\u001b[1;33m)\u001b[0m\u001b[1;33m[\u001b[0m\u001b[0mmissing_mask\u001b[0m\u001b[1;33m.\u001b[0m\u001b[0mnonzero\u001b[0m\u001b[1;33m(\u001b[0m\u001b[1;33m)\u001b[0m\u001b[1;33m[\u001b[0m\u001b[1;36m0\u001b[0m\u001b[1;33m]\u001b[0m\u001b[1;33m]\u001b[0m\u001b[1;33m.\u001b[0m\u001b[0munique\u001b[0m\u001b[1;33m(\u001b[0m\u001b[1;33m)\u001b[0m\u001b[1;33m)\u001b[0m\u001b[1;33m\u001b[0m\u001b[1;33m\u001b[0m\u001b[0m\n",
            "\u001b[1;31mKeyError\u001b[0m: \"None of [Index(['CRIM', 'ZN', 'INDUS', 'CHAS', 'NOX', 'RM', 'AGE', 'DIS', 'RAD', 'TAX',\\n       'PTRATIO', 'B', 'LSTAT'],\\n      dtype='object')] are in the [columns]\""
          ]
        }
      ],
      "source": [
        "\n",
        "results = []\n",
        "print ('-----------')\n",
        "print ('SVR - RBF')\n",
        "print ('-----------')\n",
        "results.append(launch_model('SVR - RBF', svr_rbf, X_train, y_train, X_test, y_test))\n",
        "print ('-----------')\n",
        "print ('SVR - linear')\n",
        "print ('-----------')\n",
        "results.append(launch_model('SVR - linear', svr_lin, X_train, y_train, X_test, y_test))\n",
        "print ('-----------')\n",
        "print (' linear Regresion')\n",
        "print ('-----------')\n",
        "results.append(launch_model('linear Regresion ', lr, X_train, y_train, X_test, y_test))\n",
        "\n",
        "print ('-----------')\n",
        "print ('SVR poly')\n",
        "print ('-----------')\n",
        "results.append(launch_model('SVR - poly', svr_poly, X_train, y_train, X_test, y_test))\n"
      ]
    },
    {
      "cell_type": "code",
      "execution_count": null,
      "metadata": {
        "colab": {
          "base_uri": "https://localhost:8080/"
        },
        "id": "sJ9WK1V1zYpa",
        "outputId": "4c53ec36-b4c0-410e-c9bb-bbb9881be781"
      },
      "outputs": [
        {
          "name": "stdout",
          "output_type": "stream",
          "text": [
            "RMSE test 9.226704188712803\n",
            "RMSE test 5.563238304121481\n",
            "RMSE test 5.143606279447714\n",
            "RMSE test 9.270258469588372\n"
          ]
        },
        {
          "data": {
            "text/plain": [
              "[None, None, None, None]"
            ]
          },
          "execution_count": 22,
          "metadata": {},
          "output_type": "execute_result"
        }
      ],
      "source": [
        "X_train,X_test,y_train,y_test=train_test_split(X,y,test_size=0.3) # testset is 30%\n",
        "results = []\n",
        "results.append(launch_model('SVR - RBF', svr_rbf, X_train, y_train, X_test, y_test))\n",
        "results.append(launch_model('SVR - linear', svr_lin, X_train, y_train, X_test, y_test))\n",
        "results.append(launch_model('linear Regresion ', lr, X_train, y_train, X_test, y_test))\n",
        "results.append(launch_model('SVR - poly', svr_poly, X_train, y_train, X_test, y_test))\n",
        "results"
      ]
    },
    {
      "cell_type": "markdown",
      "metadata": {
        "id": "4Dyl3z7W6Dxa"
      },
      "source": [
        "#Conclusion:\n",
        " since SVR with linear kernel has the lowest RMSE, there it is the best regression model."
      ]
    },
    {
      "cell_type": "markdown",
      "metadata": {
        "id": "61FF6Nh9Eixl"
      },
      "source": [
        "# validate the above result. "
      ]
    },
    {
      "cell_type": "code",
      "execution_count": null,
      "metadata": {
        "id": "9fE_cdSJ4___"
      },
      "outputs": [],
      "source": [
        "from numpy import mean"
      ]
    },
    {
      "cell_type": "code",
      "execution_count": null,
      "metadata": {
        "id": "zSJ9aAADFM6k"
      },
      "outputs": [],
      "source": [
        "def launch_model(name,model, X, y):\n",
        "  RMSE=[]\n",
        "  for i in range(10):\n",
        "    X_train,X_test,y_train,y_test=train_test_split(X,y,test_size=0.3) # testset is 30%\n",
        "    model.fit(X_train[inputs], y_train)\n",
        "    y_pred = model.predict(X_test[inputs])\n",
        "    rmse=sqrt(mean_squared_error(y_test, y_pred))\n",
        "    RMSE.append(rmse)\n",
        "  print ('RMSE test', mean(RMSE))"
      ]
    },
    {
      "cell_type": "code",
      "execution_count": null,
      "metadata": {
        "colab": {
          "base_uri": "https://localhost:8080/"
        },
        "id": "HfstClXc5TFl",
        "outputId": "644465ff-a3f9-4900-f03d-87cbf5e07368"
      },
      "outputs": [
        {
          "name": "stdout",
          "output_type": "stream",
          "text": [
            "RMSE test 8.523273345613799\n",
            "RMSE test 5.02157730805817\n",
            "RMSE test 4.849809751171275\n",
            "RMSE test 8.28838605846173\n"
          ]
        },
        {
          "data": {
            "text/plain": [
              "[None, None, None, None]"
            ]
          },
          "execution_count": 25,
          "metadata": {},
          "output_type": "execute_result"
        }
      ],
      "source": [
        "results = []\n",
        "results.append(launch_model('SVR - RBF', svr_rbf, X,y))\n",
        "results.append(launch_model('SVR - linear', svr_lin, X,y))\n",
        "results.append(launch_model('linear Regresion ', lr, X,y))\n",
        "results.append(launch_model('SVR - poly', svr_poly, X,y))\n",
        "results"
      ]
    },
    {
      "cell_type": "markdown",
      "metadata": {
        "id": "ti70EylM-jP0"
      },
      "source": [
        "# design a recommender system to predict the medv based on the best model, test your system with the first row in the original dataset. "
      ]
    },
    {
      "cell_type": "code",
      "execution_count": null,
      "metadata": {
        "colab": {
          "base_uri": "https://localhost:8080/"
        },
        "id": "YKjaZ4xrBrNs",
        "outputId": "4d9bb748-1ad6-4d1b-d2a6-0c616b86a9c9"
      },
      "outputs": [
        {
          "name": "stdout",
          "output_type": "stream",
          "text": [
            "[30.00384338]\n",
            "0    24.0\n",
            "Name: MEDV, dtype: float64\n"
          ]
        }
      ],
      "source": [
        "lr.fit(X, y)\n",
        "x_new=X.head(1)\n",
        "y_pred = lr.predict(x_new)\n",
        "print(y_pred)\n",
        "x_new\n",
        "print(y.head(1))"
      ]
    },
    {
      "cell_type": "markdown",
      "metadata": {
        "id": "aPfQomII8Sz8"
      },
      "source": [
        "# redo validation step for the pervious example using 5-fold cross validation technique. "
      ]
    },
    {
      "cell_type": "code",
      "execution_count": null,
      "metadata": {
        "id": "Pvrl8f3sxuCv"
      },
      "outputs": [
        {
          "data": {
            "text/html": [
              "<div>\n",
              "<style scoped>\n",
              "    .dataframe tbody tr th:only-of-type {\n",
              "        vertical-align: middle;\n",
              "    }\n",
              "\n",
              "    .dataframe tbody tr th {\n",
              "        vertical-align: top;\n",
              "    }\n",
              "\n",
              "    .dataframe thead th {\n",
              "        text-align: right;\n",
              "    }\n",
              "</style>\n",
              "<table border=\"1\" class=\"dataframe\">\n",
              "  <thead>\n",
              "    <tr style=\"text-align: right;\">\n",
              "      <th></th>\n",
              "      <th>CRIM</th>\n",
              "      <th>ZN</th>\n",
              "      <th>INDUS</th>\n",
              "      <th>CHAS</th>\n",
              "      <th>NOX</th>\n",
              "      <th>RM</th>\n",
              "      <th>AGE</th>\n",
              "      <th>DIS</th>\n",
              "      <th>RAD</th>\n",
              "      <th>TAX</th>\n",
              "      <th>PTRATIO</th>\n",
              "      <th>B</th>\n",
              "      <th>LSTAT</th>\n",
              "      <th>MEDV</th>\n",
              "    </tr>\n",
              "  </thead>\n",
              "  <tbody>\n",
              "    <tr>\n",
              "      <th>CRIM</th>\n",
              "      <td>1.000000</td>\n",
              "      <td>-0.200469</td>\n",
              "      <td>0.406583</td>\n",
              "      <td>-0.055892</td>\n",
              "      <td>0.420972</td>\n",
              "      <td>-0.219247</td>\n",
              "      <td>0.352734</td>\n",
              "      <td>-0.379670</td>\n",
              "      <td>0.625505</td>\n",
              "      <td>0.582764</td>\n",
              "      <td>0.289946</td>\n",
              "      <td>-0.385064</td>\n",
              "      <td>0.455621</td>\n",
              "      <td>-0.388305</td>\n",
              "    </tr>\n",
              "    <tr>\n",
              "      <th>ZN</th>\n",
              "      <td>-0.200469</td>\n",
              "      <td>1.000000</td>\n",
              "      <td>-0.533828</td>\n",
              "      <td>-0.042697</td>\n",
              "      <td>-0.516604</td>\n",
              "      <td>0.311991</td>\n",
              "      <td>-0.569537</td>\n",
              "      <td>0.664408</td>\n",
              "      <td>-0.311948</td>\n",
              "      <td>-0.314563</td>\n",
              "      <td>-0.391679</td>\n",
              "      <td>0.175520</td>\n",
              "      <td>-0.412995</td>\n",
              "      <td>0.360445</td>\n",
              "    </tr>\n",
              "    <tr>\n",
              "      <th>INDUS</th>\n",
              "      <td>0.406583</td>\n",
              "      <td>-0.533828</td>\n",
              "      <td>1.000000</td>\n",
              "      <td>0.062938</td>\n",
              "      <td>0.763651</td>\n",
              "      <td>-0.391676</td>\n",
              "      <td>0.644779</td>\n",
              "      <td>-0.708027</td>\n",
              "      <td>0.595129</td>\n",
              "      <td>0.720760</td>\n",
              "      <td>0.383248</td>\n",
              "      <td>-0.356977</td>\n",
              "      <td>0.603800</td>\n",
              "      <td>-0.483725</td>\n",
              "    </tr>\n",
              "    <tr>\n",
              "      <th>CHAS</th>\n",
              "      <td>-0.055892</td>\n",
              "      <td>-0.042697</td>\n",
              "      <td>0.062938</td>\n",
              "      <td>1.000000</td>\n",
              "      <td>0.091203</td>\n",
              "      <td>0.091251</td>\n",
              "      <td>0.086518</td>\n",
              "      <td>-0.099176</td>\n",
              "      <td>-0.007368</td>\n",
              "      <td>-0.035587</td>\n",
              "      <td>-0.121515</td>\n",
              "      <td>0.048788</td>\n",
              "      <td>-0.053929</td>\n",
              "      <td>0.175260</td>\n",
              "    </tr>\n",
              "    <tr>\n",
              "      <th>NOX</th>\n",
              "      <td>0.420972</td>\n",
              "      <td>-0.516604</td>\n",
              "      <td>0.763651</td>\n",
              "      <td>0.091203</td>\n",
              "      <td>1.000000</td>\n",
              "      <td>-0.302188</td>\n",
              "      <td>0.731470</td>\n",
              "      <td>-0.769230</td>\n",
              "      <td>0.611441</td>\n",
              "      <td>0.668023</td>\n",
              "      <td>0.188933</td>\n",
              "      <td>-0.380051</td>\n",
              "      <td>0.590879</td>\n",
              "      <td>-0.427321</td>\n",
              "    </tr>\n",
              "    <tr>\n",
              "      <th>RM</th>\n",
              "      <td>-0.219247</td>\n",
              "      <td>0.311991</td>\n",
              "      <td>-0.391676</td>\n",
              "      <td>0.091251</td>\n",
              "      <td>-0.302188</td>\n",
              "      <td>1.000000</td>\n",
              "      <td>-0.240265</td>\n",
              "      <td>0.205246</td>\n",
              "      <td>-0.209847</td>\n",
              "      <td>-0.292048</td>\n",
              "      <td>-0.355501</td>\n",
              "      <td>0.128069</td>\n",
              "      <td>-0.613808</td>\n",
              "      <td>0.695360</td>\n",
              "    </tr>\n",
              "    <tr>\n",
              "      <th>AGE</th>\n",
              "      <td>0.352734</td>\n",
              "      <td>-0.569537</td>\n",
              "      <td>0.644779</td>\n",
              "      <td>0.086518</td>\n",
              "      <td>0.731470</td>\n",
              "      <td>-0.240265</td>\n",
              "      <td>1.000000</td>\n",
              "      <td>-0.747881</td>\n",
              "      <td>0.456022</td>\n",
              "      <td>0.506456</td>\n",
              "      <td>0.261515</td>\n",
              "      <td>-0.273534</td>\n",
              "      <td>0.602339</td>\n",
              "      <td>-0.376955</td>\n",
              "    </tr>\n",
              "    <tr>\n",
              "      <th>DIS</th>\n",
              "      <td>-0.379670</td>\n",
              "      <td>0.664408</td>\n",
              "      <td>-0.708027</td>\n",
              "      <td>-0.099176</td>\n",
              "      <td>-0.769230</td>\n",
              "      <td>0.205246</td>\n",
              "      <td>-0.747881</td>\n",
              "      <td>1.000000</td>\n",
              "      <td>-0.494588</td>\n",
              "      <td>-0.534432</td>\n",
              "      <td>-0.232471</td>\n",
              "      <td>0.291512</td>\n",
              "      <td>-0.496996</td>\n",
              "      <td>0.249929</td>\n",
              "    </tr>\n",
              "    <tr>\n",
              "      <th>RAD</th>\n",
              "      <td>0.625505</td>\n",
              "      <td>-0.311948</td>\n",
              "      <td>0.595129</td>\n",
              "      <td>-0.007368</td>\n",
              "      <td>0.611441</td>\n",
              "      <td>-0.209847</td>\n",
              "      <td>0.456022</td>\n",
              "      <td>-0.494588</td>\n",
              "      <td>1.000000</td>\n",
              "      <td>0.910228</td>\n",
              "      <td>0.464741</td>\n",
              "      <td>-0.444413</td>\n",
              "      <td>0.488676</td>\n",
              "      <td>-0.381626</td>\n",
              "    </tr>\n",
              "    <tr>\n",
              "      <th>TAX</th>\n",
              "      <td>0.582764</td>\n",
              "      <td>-0.314563</td>\n",
              "      <td>0.720760</td>\n",
              "      <td>-0.035587</td>\n",
              "      <td>0.668023</td>\n",
              "      <td>-0.292048</td>\n",
              "      <td>0.506456</td>\n",
              "      <td>-0.534432</td>\n",
              "      <td>0.910228</td>\n",
              "      <td>1.000000</td>\n",
              "      <td>0.460853</td>\n",
              "      <td>-0.441808</td>\n",
              "      <td>0.543993</td>\n",
              "      <td>-0.468536</td>\n",
              "    </tr>\n",
              "    <tr>\n",
              "      <th>PTRATIO</th>\n",
              "      <td>0.289946</td>\n",
              "      <td>-0.391679</td>\n",
              "      <td>0.383248</td>\n",
              "      <td>-0.121515</td>\n",
              "      <td>0.188933</td>\n",
              "      <td>-0.355501</td>\n",
              "      <td>0.261515</td>\n",
              "      <td>-0.232471</td>\n",
              "      <td>0.464741</td>\n",
              "      <td>0.460853</td>\n",
              "      <td>1.000000</td>\n",
              "      <td>-0.177383</td>\n",
              "      <td>0.374044</td>\n",
              "      <td>-0.507787</td>\n",
              "    </tr>\n",
              "    <tr>\n",
              "      <th>B</th>\n",
              "      <td>-0.385064</td>\n",
              "      <td>0.175520</td>\n",
              "      <td>-0.356977</td>\n",
              "      <td>0.048788</td>\n",
              "      <td>-0.380051</td>\n",
              "      <td>0.128069</td>\n",
              "      <td>-0.273534</td>\n",
              "      <td>0.291512</td>\n",
              "      <td>-0.444413</td>\n",
              "      <td>-0.441808</td>\n",
              "      <td>-0.177383</td>\n",
              "      <td>1.000000</td>\n",
              "      <td>-0.366087</td>\n",
              "      <td>0.333461</td>\n",
              "    </tr>\n",
              "    <tr>\n",
              "      <th>LSTAT</th>\n",
              "      <td>0.455621</td>\n",
              "      <td>-0.412995</td>\n",
              "      <td>0.603800</td>\n",
              "      <td>-0.053929</td>\n",
              "      <td>0.590879</td>\n",
              "      <td>-0.613808</td>\n",
              "      <td>0.602339</td>\n",
              "      <td>-0.496996</td>\n",
              "      <td>0.488676</td>\n",
              "      <td>0.543993</td>\n",
              "      <td>0.374044</td>\n",
              "      <td>-0.366087</td>\n",
              "      <td>1.000000</td>\n",
              "      <td>-0.737663</td>\n",
              "    </tr>\n",
              "    <tr>\n",
              "      <th>MEDV</th>\n",
              "      <td>-0.388305</td>\n",
              "      <td>0.360445</td>\n",
              "      <td>-0.483725</td>\n",
              "      <td>0.175260</td>\n",
              "      <td>-0.427321</td>\n",
              "      <td>0.695360</td>\n",
              "      <td>-0.376955</td>\n",
              "      <td>0.249929</td>\n",
              "      <td>-0.381626</td>\n",
              "      <td>-0.468536</td>\n",
              "      <td>-0.507787</td>\n",
              "      <td>0.333461</td>\n",
              "      <td>-0.737663</td>\n",
              "      <td>1.000000</td>\n",
              "    </tr>\n",
              "  </tbody>\n",
              "</table>\n",
              "</div>"
            ],
            "text/plain": [
              "             CRIM        ZN     INDUS      CHAS       NOX        RM       AGE  \\\n",
              "CRIM     1.000000 -0.200469  0.406583 -0.055892  0.420972 -0.219247  0.352734   \n",
              "ZN      -0.200469  1.000000 -0.533828 -0.042697 -0.516604  0.311991 -0.569537   \n",
              "INDUS    0.406583 -0.533828  1.000000  0.062938  0.763651 -0.391676  0.644779   \n",
              "CHAS    -0.055892 -0.042697  0.062938  1.000000  0.091203  0.091251  0.086518   \n",
              "NOX      0.420972 -0.516604  0.763651  0.091203  1.000000 -0.302188  0.731470   \n",
              "RM      -0.219247  0.311991 -0.391676  0.091251 -0.302188  1.000000 -0.240265   \n",
              "AGE      0.352734 -0.569537  0.644779  0.086518  0.731470 -0.240265  1.000000   \n",
              "DIS     -0.379670  0.664408 -0.708027 -0.099176 -0.769230  0.205246 -0.747881   \n",
              "RAD      0.625505 -0.311948  0.595129 -0.007368  0.611441 -0.209847  0.456022   \n",
              "TAX      0.582764 -0.314563  0.720760 -0.035587  0.668023 -0.292048  0.506456   \n",
              "PTRATIO  0.289946 -0.391679  0.383248 -0.121515  0.188933 -0.355501  0.261515   \n",
              "B       -0.385064  0.175520 -0.356977  0.048788 -0.380051  0.128069 -0.273534   \n",
              "LSTAT    0.455621 -0.412995  0.603800 -0.053929  0.590879 -0.613808  0.602339   \n",
              "MEDV    -0.388305  0.360445 -0.483725  0.175260 -0.427321  0.695360 -0.376955   \n",
              "\n",
              "              DIS       RAD       TAX   PTRATIO         B     LSTAT      MEDV  \n",
              "CRIM    -0.379670  0.625505  0.582764  0.289946 -0.385064  0.455621 -0.388305  \n",
              "ZN       0.664408 -0.311948 -0.314563 -0.391679  0.175520 -0.412995  0.360445  \n",
              "INDUS   -0.708027  0.595129  0.720760  0.383248 -0.356977  0.603800 -0.483725  \n",
              "CHAS    -0.099176 -0.007368 -0.035587 -0.121515  0.048788 -0.053929  0.175260  \n",
              "NOX     -0.769230  0.611441  0.668023  0.188933 -0.380051  0.590879 -0.427321  \n",
              "RM       0.205246 -0.209847 -0.292048 -0.355501  0.128069 -0.613808  0.695360  \n",
              "AGE     -0.747881  0.456022  0.506456  0.261515 -0.273534  0.602339 -0.376955  \n",
              "DIS      1.000000 -0.494588 -0.534432 -0.232471  0.291512 -0.496996  0.249929  \n",
              "RAD     -0.494588  1.000000  0.910228  0.464741 -0.444413  0.488676 -0.381626  \n",
              "TAX     -0.534432  0.910228  1.000000  0.460853 -0.441808  0.543993 -0.468536  \n",
              "PTRATIO -0.232471  0.464741  0.460853  1.000000 -0.177383  0.374044 -0.507787  \n",
              "B        0.291512 -0.444413 -0.441808 -0.177383  1.000000 -0.366087  0.333461  \n",
              "LSTAT   -0.496996  0.488676  0.543993  0.374044 -0.366087  1.000000 -0.737663  \n",
              "MEDV     0.249929 -0.381626 -0.468536 -0.507787  0.333461 -0.737663  1.000000  "
            ]
          },
          "execution_count": 27,
          "metadata": {},
          "output_type": "execute_result"
        },
        {
          "data": {
            "image/png": "[encoded data removed]",
            "text/plain": [
              "<Figure size 864x648 with 2 Axes>"
            ]
          },
          "metadata": {
            "needs_background": "light"
          },
          "output_type": "display_data"
        }
      ],
      "source": [
        "import matplotlib.pyplotd as plt\n",
        "import seaborn as sns\n",
        "corrmat = dataset.corr()\n",
        "plt.subplots(figsize=(12,9))\n",
        "sns.heatmap(corrmat, vmax=0.9, square=True)\n",
        "corrmat"
      ]
    },
    {
      "cell_type": "markdown",
      "metadata": {
        "id": "kpo882ljK4tJ"
      },
      "source": [
        "#Example: fetch 3 years dataset from yahoo finance for AAPL stock, apply regression models to predict **close price**, to do so, use 30% of the data as the testset and 70% for trainset. measure the evaluation of model using RMSE. Recommend the close price for the next day based on the best model. "
      ]
    },
    {
      "cell_type": "code",
      "execution_count": null,
      "metadata": {
        "id": "HU7B0JmwL3O3"
      },
      "outputs": [
        {
          "name": "stdout",
          "output_type": "stream",
          "text": [
            "Collecting yfinance\n",
            "  Downloading yfinance-0.1.70-py2.py3-none-any.whl (26 kB)\n",
            "Requirement already satisfied: numpy>=1.15 in c:\\users\\sunil\\miniconda3\\lib\\site-packages (from yfinance) (1.21.5)\n",
            "Collecting lxml>=4.5.1\n",
            "  Downloading lxml-4.8.0-cp39-cp39-win_amd64.whl (3.6 MB)\n",
            "Requirement already satisfied: requests>=2.26 in c:\\users\\sunil\\miniconda3\\lib\\site-packages (from yfinance) (2.27.1)\n",
            "Requirement already satisfied: pandas>=0.24.0 in c:\\users\\sunil\\miniconda3\\lib\\site-packages (from yfinance) (1.4.1)\n",
            "Collecting multitasking>=0.0.7\n",
            "  Downloading multitasking-0.0.10.tar.gz (8.2 kB)\n",
            "Requirement already satisfied: python-dateutil>=2.8.1 in c:\\users\\sunil\\miniconda3\\lib\\site-packages (from pandas>=0.24.0->yfinance) (2.8.1)\n",
            "Requirement already satisfied: pytz>=2020.1 in c:\\users\\sunil\\miniconda3\\lib\\site-packages (from pandas>=0.24.0->yfinance) (2020.1)\n",
            "Requirement already satisfied: six>=1.5 in c:\\users\\sunil\\miniconda3\\lib\\site-packages (from python-dateutil>=2.8.1->pandas>=0.24.0->yfinance) (1.16.0)\n",
            "Requirement already satisfied: idna<4,>=2.5 in c:\\users\\sunil\\miniconda3\\lib\\site-packages (from requests>=2.26->yfinance) (3.3)\n",
            "Requirement already satisfied: charset-normalizer~=2.0.0 in c:\\users\\sunil\\miniconda3\\lib\\site-packages (from requests>=2.26->yfinance) (2.0.4)\n",
            "Requirement already satisfied: certifi>=2017.4.17 in c:\\users\\sunil\\miniconda3\\lib\\site-packages (from requests>=2.26->yfinance) (2021.10.8)\n",
            "Requirement already satisfied: urllib3<1.27,>=1.21.1 in c:\\users\\sunil\\miniconda3\\lib\\site-packages (from requests>=2.26->yfinance) (1.26.7)\n",
            "Building wheels for collected packages: multitasking\n",
            "  Building wheel for multitasking (setup.py): started\n",
            "  Building wheel for multitasking (setup.py): finished with status 'done'\n",
            "  Created wheel for multitasking: filename=multitasking-0.0.10-py3-none-any.whl size=8500 sha256=76a81d3dc3c64de80303029261aa7aac3fef03c7263d0b31b170ea24275dabe1\n",
            "  Stored in directory: c:\\users\\sunil\\appdata\\local\\pip\\cache\\wheels\\f2\\b5\\2c\\59ba95dcf854e542944c75fe3da584e4e3833b319735a0546c\n",
            "Successfully built multitasking\n",
            "Installing collected packages: multitasking, lxml, yfinance\n",
            "Successfully installed lxml-4.8.0 multitasking-0.0.10 yfinance-0.1.70\n"
          ]
        }
      ],
      "source": [
        "!pip install yfinance \n"
      ]
    },
    {
      "cell_type": "code",
      "execution_count": null,
      "metadata": {
        "id": "LDVnVoblFOIi"
      },
      "outputs": [],
      "source": [
        "import yfinance as yf"
      ]
    },
    {
      "cell_type": "code",
      "execution_count": null,
      "metadata": {
        "colab": {
          "base_uri": "https://localhost:8080/",
          "height": 255
        },
        "id": "PZTV4WQDZzqs",
        "outputId": "a6f62a66-56fc-4702-b77d-fb464d49d6a5"
      },
      "outputs": [
        {
          "name": "stdout",
          "output_type": "stream",
          "text": [
            "[*********************100%***********************]  1 of 1 completed\n"
          ]
        },
        {
          "data": {
            "text/html": [
              "<div>\n",
              "<style scoped>\n",
              "    .dataframe tbody tr th:only-of-type {\n",
              "        vertical-align: middle;\n",
              "    }\n",
              "\n",
              "    .dataframe tbody tr th {\n",
              "        vertical-align: top;\n",
              "    }\n",
              "\n",
              "    .dataframe thead th {\n",
              "        text-align: right;\n",
              "    }\n",
              "</style>\n",
              "<table border=\"1\" class=\"dataframe\">\n",
              "  <thead>\n",
              "    <tr style=\"text-align: right;\">\n",
              "      <th></th>\n",
              "      <th>Open</th>\n",
              "      <th>High</th>\n",
              "      <th>Low</th>\n",
              "      <th>Close</th>\n",
              "      <th>Adj_Close</th>\n",
              "      <th>Volume</th>\n",
              "    </tr>\n",
              "    <tr>\n",
              "      <th>Date</th>\n",
              "      <th></th>\n",
              "      <th></th>\n",
              "      <th></th>\n",
              "      <th></th>\n",
              "      <th></th>\n",
              "      <th></th>\n",
              "    </tr>\n",
              "  </thead>\n",
              "  <tbody>\n",
              "    <tr>\n",
              "      <th>2021-03-09</th>\n",
              "      <td>745.000000</td>\n",
              "      <td>750.950012</td>\n",
              "      <td>702.250000</td>\n",
              "      <td>706.750000</td>\n",
              "      <td>691.280273</td>\n",
              "      <td>19556438</td>\n",
              "    </tr>\n",
              "    <tr>\n",
              "      <th>2021-03-10</th>\n",
              "      <td>714.900024</td>\n",
              "      <td>729.950012</td>\n",
              "      <td>703.049988</td>\n",
              "      <td>724.500000</td>\n",
              "      <td>708.641724</td>\n",
              "      <td>19685860</td>\n",
              "    </tr>\n",
              "    <tr>\n",
              "      <th>2021-03-12</th>\n",
              "      <td>740.000000</td>\n",
              "      <td>745.000000</td>\n",
              "      <td>714.000000</td>\n",
              "      <td>719.950012</td>\n",
              "      <td>704.191345</td>\n",
              "      <td>16121409</td>\n",
              "    </tr>\n",
              "    <tr>\n",
              "      <th>2021-03-15</th>\n",
              "      <td>722.000000</td>\n",
              "      <td>739.000000</td>\n",
              "      <td>715.049988</td>\n",
              "      <td>736.400024</td>\n",
              "      <td>720.281311</td>\n",
              "      <td>15542999</td>\n",
              "    </tr>\n",
              "    <tr>\n",
              "      <th>2021-03-16</th>\n",
              "      <td>740.099976</td>\n",
              "      <td>740.099976</td>\n",
              "      <td>719.200012</td>\n",
              "      <td>724.049988</td>\n",
              "      <td>708.201599</td>\n",
              "      <td>12569998</td>\n",
              "    </tr>\n",
              "  </tbody>\n",
              "</table>\n",
              "</div>"
            ],
            "text/plain": [
              "                  Open        High         Low       Close   Adj_Close  \\\n",
              "Date                                                                     \n",
              "2021-03-09  745.000000  750.950012  702.250000  706.750000  691.280273   \n",
              "2021-03-10  714.900024  729.950012  703.049988  724.500000  708.641724   \n",
              "2021-03-12  740.000000  745.000000  714.000000  719.950012  704.191345   \n",
              "2021-03-15  722.000000  739.000000  715.049988  736.400024  720.281311   \n",
              "2021-03-16  740.099976  740.099976  719.200012  724.049988  708.201599   \n",
              "\n",
              "              Volume  \n",
              "Date                  \n",
              "2021-03-09  19556438  \n",
              "2021-03-10  19685860  \n",
              "2021-03-12  16121409  \n",
              "2021-03-15  15542999  \n",
              "2021-03-16  12569998  "
            ]
          },
          "execution_count": 43,
          "metadata": {},
          "output_type": "execute_result"
        }
      ],
      "source": [
        "# data=yf.download('AAPL',period = '1y')\n",
        "data=yf.download('TATASTEEL.NS',period = '1y')\n",
        "data.columns=['Open',\t'High',\t'Low',\t'Close',\t'Adj_Close',\t'Volume']\n",
        "data.head()"
      ]
    },
    {
      "cell_type": "code",
      "execution_count": null,
      "metadata": {
        "colab": {
          "base_uri": "https://localhost:8080/",
          "height": 266
        },
        "id": "Wn5ECkJtZRF-",
        "outputId": "90262bb3-4a3a-4151-e404-22021df7abac"
      },
      "outputs": [
        {
          "data": {
            "text/html": [
              "<div>\n",
              "<style scoped>\n",
              "    .dataframe tbody tr th:only-of-type {\n",
              "        vertical-align: middle;\n",
              "    }\n",
              "\n",
              "    .dataframe tbody tr th {\n",
              "        vertical-align: top;\n",
              "    }\n",
              "\n",
              "    .dataframe thead th {\n",
              "        text-align: right;\n",
              "    }\n",
              "</style>\n",
              "<table border=\"1\" class=\"dataframe\">\n",
              "  <thead>\n",
              "    <tr style=\"text-align: right;\">\n",
              "      <th></th>\n",
              "      <th>Open</th>\n",
              "      <th>High</th>\n",
              "      <th>Low</th>\n",
              "      <th>Close</th>\n",
              "      <th>Adj_Close</th>\n",
              "      <th>Volume</th>\n",
              "    </tr>\n",
              "    <tr>\n",
              "      <th>Date</th>\n",
              "      <th></th>\n",
              "      <th></th>\n",
              "      <th></th>\n",
              "      <th></th>\n",
              "      <th></th>\n",
              "      <th></th>\n",
              "    </tr>\n",
              "  </thead>\n",
              "  <tbody>\n",
              "    <tr>\n",
              "      <th>2018-11-12</th>\n",
              "      <td>49.750000</td>\n",
              "      <td>49.962502</td>\n",
              "      <td>48.447498</td>\n",
              "      <td>48.542500</td>\n",
              "      <td>47.123962</td>\n",
              "      <td>204542000</td>\n",
              "    </tr>\n",
              "    <tr>\n",
              "      <th>2018-11-13</th>\n",
              "      <td>47.907501</td>\n",
              "      <td>49.294998</td>\n",
              "      <td>47.862499</td>\n",
              "      <td>48.057499</td>\n",
              "      <td>46.653133</td>\n",
              "      <td>187531600</td>\n",
              "    </tr>\n",
              "    <tr>\n",
              "      <th>2018-11-14</th>\n",
              "      <td>48.474998</td>\n",
              "      <td>48.619999</td>\n",
              "      <td>46.482498</td>\n",
              "      <td>46.700001</td>\n",
              "      <td>45.335308</td>\n",
              "      <td>243204000</td>\n",
              "    </tr>\n",
              "    <tr>\n",
              "      <th>2018-11-15</th>\n",
              "      <td>47.097500</td>\n",
              "      <td>47.992500</td>\n",
              "      <td>46.724998</td>\n",
              "      <td>47.852501</td>\n",
              "      <td>46.454124</td>\n",
              "      <td>185915200</td>\n",
              "    </tr>\n",
              "    <tr>\n",
              "      <th>2018-11-16</th>\n",
              "      <td>47.625000</td>\n",
              "      <td>48.742500</td>\n",
              "      <td>47.365002</td>\n",
              "      <td>48.382500</td>\n",
              "      <td>46.968643</td>\n",
              "      <td>147713200</td>\n",
              "    </tr>\n",
              "    <tr>\n",
              "      <th>2018-11-19</th>\n",
              "      <td>47.500000</td>\n",
              "      <td>47.674999</td>\n",
              "      <td>46.247501</td>\n",
              "      <td>46.465000</td>\n",
              "      <td>45.107174</td>\n",
              "      <td>167701200</td>\n",
              "    </tr>\n",
              "  </tbody>\n",
              "</table>\n",
              "</div>"
            ],
            "text/plain": [
              "                 Open       High        Low      Close  Adj_Close     Volume\n",
              "Date                                                                        \n",
              "2018-11-12  49.750000  49.962502  48.447498  48.542500  47.123962  204542000\n",
              "2018-11-13  47.907501  49.294998  47.862499  48.057499  46.653133  187531600\n",
              "2018-11-14  48.474998  48.619999  46.482498  46.700001  45.335308  243204000\n",
              "2018-11-15  47.097500  47.992500  46.724998  47.852501  46.454124  185915200\n",
              "2018-11-16  47.625000  48.742500  47.365002  48.382500  46.968643  147713200\n",
              "2018-11-19  47.500000  47.674999  46.247501  46.465000  45.107174  167701200"
            ]
          },
          "execution_count": 40,
          "metadata": {},
          "output_type": "execute_result"
        }
      ],
      "source": [
        "data.head(6)"
      ]
    },
    {
      "cell_type": "code",
      "execution_count": null,
      "metadata": {
        "id": "56KsOW4CPLSy"
      },
      "outputs": [],
      "source": [
        "I=['High', 'Low','Open','Volume']\n",
        "O=['Close']\n",
        "X=data[I]\n",
        "y=data[O]"
      ]
    },
    {
      "cell_type": "code",
      "execution_count": null,
      "metadata": {
        "id": "-i3hKq1WPkt2"
      },
      "outputs": [],
      "source": []
    },
    {
      "cell_type": "code",
      "execution_count": null,
      "metadata": {
        "id": "whPu-LfWH126"
      },
      "outputs": [],
      "source": [
        "svr_rbf = SVR(kernel='rbf')\n",
        "svr_lin = SVR(kernel='linear')\n",
        "svr_poly=SVR(kernel='poly')\n",
        "\n",
        "lr = LinearRegression()"
      ]
    },
    {
      "cell_type": "code",
      "execution_count": null,
      "metadata": {
        "id": "CNN9tI-uHuic"
      },
      "outputs": [],
      "source": [
        "def launch_model(name,model, X, y):\n",
        "  RMSE=[]\n",
        "  for i in range(1):\n",
        "    X_train,X_test,y_train,y_test=train_test_split(X,y,test_size=0.3) # testset is 30%\n",
        "    model.fit(X_train[I], y_train)\n",
        "    y_pred = model.predict(X_test[I])\n",
        "    rmse=sqrt(mean_squared_error(y_test, y_pred))\n",
        "    RMSE.append(rmse)\n",
        "  print ('RMSE test', mean(RMSE))"
      ]
    },
    {
      "cell_type": "code",
      "execution_count": null,
      "metadata": {
        "id": "5T69CRKbJ5QX"
      },
      "outputs": [],
      "source": [
        "from sklearn.model_selection import train_test_split \n",
        "from numpy import mean"
      ]
    },
    {
      "cell_type": "code",
      "execution_count": null,
      "metadata": {
        "colab": {
          "base_uri": "https://localhost:8080/"
        },
        "id": "5UKxGz6dIR-Y",
        "outputId": "9f8753c4-e42b-4cc8-915f-6b23892c86e9"
      },
      "outputs": [
        {
          "ename": "NameError",
          "evalue": "name 'launch_model' is not defined",
          "output_type": "error",
          "traceback": [
            "\u001b[1;31m---------------------------------------------------------------------------\u001b[0m",
            "\u001b[1;31mNameError\u001b[0m                                 Traceback (most recent call last)",
            "\u001b[1;32m~\\AppData\\Local\\Temp/ipykernel_14000/2024821631.py\u001b[0m in \u001b[0;36m<module>\u001b[1;34m\u001b[0m\n\u001b[0;32m      1\u001b[0m \u001b[0mresults\u001b[0m \u001b[1;33m=\u001b[0m \u001b[1;33m[\u001b[0m\u001b[1;33m]\u001b[0m\u001b[1;33m\u001b[0m\u001b[1;33m\u001b[0m\u001b[0m\n\u001b[1;32m----> 2\u001b[1;33m \u001b[0mresults\u001b[0m\u001b[1;33m.\u001b[0m\u001b[0mappend\u001b[0m\u001b[1;33m(\u001b[0m\u001b[0mlaunch_model\u001b[0m\u001b[1;33m(\u001b[0m\u001b[1;34m'SVR - RBF'\u001b[0m\u001b[1;33m,\u001b[0m \u001b[0msvr_rbf\u001b[0m\u001b[1;33m,\u001b[0m \u001b[0mX\u001b[0m\u001b[1;33m,\u001b[0m\u001b[0my\u001b[0m\u001b[1;33m)\u001b[0m\u001b[1;33m)\u001b[0m\u001b[1;33m\u001b[0m\u001b[1;33m\u001b[0m\u001b[0m\n\u001b[0m\u001b[0;32m      3\u001b[0m \u001b[0mresults\u001b[0m\u001b[1;33m.\u001b[0m\u001b[0mappend\u001b[0m\u001b[1;33m(\u001b[0m\u001b[0mlaunch_model\u001b[0m\u001b[1;33m(\u001b[0m\u001b[1;34m'SVR - linear'\u001b[0m\u001b[1;33m,\u001b[0m \u001b[0msvr_lin\u001b[0m\u001b[1;33m,\u001b[0m \u001b[0mX\u001b[0m\u001b[1;33m,\u001b[0m\u001b[0my\u001b[0m\u001b[1;33m)\u001b[0m\u001b[1;33m)\u001b[0m\u001b[1;33m\u001b[0m\u001b[1;33m\u001b[0m\u001b[0m\n\u001b[0;32m      4\u001b[0m \u001b[0mresults\u001b[0m\u001b[1;33m.\u001b[0m\u001b[0mappend\u001b[0m\u001b[1;33m(\u001b[0m\u001b[0mlaunch_model\u001b[0m\u001b[1;33m(\u001b[0m\u001b[1;34m'linear Regresion '\u001b[0m\u001b[1;33m,\u001b[0m \u001b[0mlr\u001b[0m\u001b[1;33m,\u001b[0m \u001b[0mX\u001b[0m\u001b[1;33m,\u001b[0m\u001b[0my\u001b[0m\u001b[1;33m)\u001b[0m\u001b[1;33m)\u001b[0m\u001b[1;33m\u001b[0m\u001b[1;33m\u001b[0m\u001b[0m\n\u001b[0;32m      5\u001b[0m \u001b[0mresults\u001b[0m\u001b[1;33m.\u001b[0m\u001b[0mappend\u001b[0m\u001b[1;33m(\u001b[0m\u001b[0mlaunch_model\u001b[0m\u001b[1;33m(\u001b[0m\u001b[1;34m'SVR - poly'\u001b[0m\u001b[1;33m,\u001b[0m \u001b[0msvr_poly\u001b[0m\u001b[1;33m,\u001b[0m \u001b[0mX\u001b[0m\u001b[1;33m,\u001b[0m\u001b[0my\u001b[0m\u001b[1;33m)\u001b[0m\u001b[1;33m)\u001b[0m\u001b[1;33m\u001b[0m\u001b[1;33m\u001b[0m\u001b[0m\n",
            "\u001b[1;31mNameError\u001b[0m: name 'launch_model' is not defined"
          ]
        }
      ],
      "source": [
        "results = []\n",
        "results.append(launch_model('SVR - RBF', svr_rbf, X,y))\n",
        "# results.append(launch_model('SVR - linear', svr_lin, X,y))\n",
        "results.append(launch_model('linear Regresion ', lr, X,y))\n",
        "results.append(launch_model('SVR - poly', svr_poly, X,y))\n",
        "results"
      ]
    },
    {
      "cell_type": "markdown",
      "metadata": {
        "id": "F0cqWt5DQU84"
      },
      "source": [
        "#Example: \n",
        "fetch 1 years dataset from yahoo finance for TSLA stock, apply regression models to predict close price, to do so, use 40% of the data as the testset and 60% for trainset. measure the evaluation of model using RMSE.  "
      ]
    },
    {
      "cell_type": "code",
      "execution_count": null,
      "metadata": {
        "id": "rsWKkqqeQq0Y"
      },
      "outputs": [],
      "source": [
        "data=yf.download('TSLA',period = '1y')\n",
        "data.columns=['Open',\t'High',\t'Low',\t'Close',\t'Adj_Close',\t'Volume']\n",
        "data.head()"
      ]
    },
    {
      "cell_type": "code",
      "execution_count": null,
      "metadata": {
        "id": "nRA9VuVETqVh"
      },
      "outputs": [],
      "source": [
        "I=['High', 'Low','Open','Volume']\n",
        "O=['Close']\n",
        "X=data[I]\n",
        "y=data[O]"
      ]
    },
    {
      "cell_type": "code",
      "execution_count": null,
      "metadata": {
        "id": "xnuopIErTv2A"
      },
      "outputs": [],
      "source": [
        "svr_rbf = SVR(kernel='rbf')\n",
        "svr_lin = SVR(kernel='linear')\n",
        "svr_poly=SVR(kernel='poly')\n",
        "\n",
        "lr = LinearRegression()"
      ]
    },
    {
      "cell_type": "code",
      "execution_count": null,
      "metadata": {
        "id": "xgntUQyvTybW"
      },
      "outputs": [],
      "source": [
        "def launch_model(name,model, X, y):\n",
        "  RMSE=[]\n",
        "  for i in range(1):\n",
        "    X_train,X_test,y_train,y_test=train_test_split(X,y,test_size=0.4) # testset is 30%\n",
        "    model.fit(X_train[I], y_train)\n",
        "    y_pred = model.predict(X_test[I])\n",
        "    rmse=sqrt(mean_squared_error(y_test, y_pred))\n",
        "    RMSE.append(rmse)\n",
        "  print ('RMSE test', mean(RMSE))"
      ]
    },
    {
      "cell_type": "code",
      "execution_count": null,
      "metadata": {
        "id": "k9Ej4q7cT3Sa"
      },
      "outputs": [],
      "source": [
        "results = []\n",
        "results.append(launch_model('SVR - RBF', svr_rbf, X,y))\n",
        "results.append(launch_model('SVR - linear', svr_lin, X,y))\n",
        "results.append(launch_model('linear Regresion ', lr, X,y))\n",
        "results.append(launch_model('SVR - poly', svr_poly, X,y))\n",
        "results"
      ]
    },
    {
      "cell_type": "markdown",
      "metadata": {
        "id": "J_8FWwFeUm24"
      },
      "source": [
        "# Classification example: \n",
        "\n",
        "use the dataset in the link:\n",
        "\n",
        "https://data.gov.ie/dataset/pavilions11\n",
        "\n",
        "apply svm classifiers to predict the variable 'type', using 80% as the trainset. do a comparative anlaytics to comapre the results versus NB and logistic regression. \n"
      ]
    },
    {
      "cell_type": "code",
      "execution_count": null,
      "metadata": {
        "colab": {
          "base_uri": "https://localhost:8080/"
        },
        "id": "nFP4Rpy9VMeA",
        "outputId": "68c846c6-94b5-4f53-9881-a3218a8d0b8c"
      },
      "outputs": [
        {
          "data": {
            "text/plain": [
              "(36, 5)"
            ]
          },
          "execution_count": 9,
          "metadata": {},
          "output_type": "execute_result"
        }
      ],
      "source": [
        "from pandas import read_csv\n",
        "data=read_csv('/content/Parks_and_Recreation_Map.csv')\n",
        "data.head()\n",
        "data=data.drop(['X',\t'Y',\t'OBJECTID','Name','Club',\t'Address',\t'Telephone','Website','Booking_Information','AEDAvailable',\n",
        "                'DressingsRooms',\t'created_user',\t'created_date',\t'last_edited_user',\t'last_edited_date'], axis=1)\n",
        "data1=data.dropna()  # to remove missing values\n",
        "data.shape\n",
        "data1.shape"
      ]
    },
    {
      "cell_type": "code",
      "execution_count": null,
      "metadata": {
        "colab": {
          "base_uri": "https://localhost:8080/",
          "height": 206
        },
        "id": "bzj5qNJhWdsw",
        "outputId": "6a6a4003-202d-47b3-ad81-1fa8e1aea76d"
      },
      "outputs": [
        {
          "data": {
            "text/html": [
              "\n",
              "  <div id=\"df-70bd1a9d-b899-4a7f-8a9d-7d973edd777c\">\n",
              "    <div class=\"colab-df-container\">\n",
              "      <div>\n",
              "<style scoped>\n",
              "    .dataframe tbody tr th:only-of-type {\n",
              "        vertical-align: middle;\n",
              "    }\n",
              "\n",
              "    .dataframe tbody tr th {\n",
              "        vertical-align: top;\n",
              "    }\n",
              "\n",
              "    .dataframe thead th {\n",
              "        text-align: right;\n",
              "    }\n",
              "</style>\n",
              "<table border=\"1\" class=\"dataframe\">\n",
              "  <thead>\n",
              "    <tr style=\"text-align: right;\">\n",
              "      <th></th>\n",
              "      <th>CCTV</th>\n",
              "      <th>SDCC_Owned</th>\n",
              "      <th>WheelchairAccessible</th>\n",
              "      <th>ShowerFacilities</th>\n",
              "    </tr>\n",
              "  </thead>\n",
              "  <tbody>\n",
              "    <tr>\n",
              "      <th>0</th>\n",
              "      <td>No</td>\n",
              "      <td>No</td>\n",
              "      <td>Yes</td>\n",
              "      <td>No</td>\n",
              "    </tr>\n",
              "    <tr>\n",
              "      <th>1</th>\n",
              "      <td>No</td>\n",
              "      <td>Yes</td>\n",
              "      <td>Yes</td>\n",
              "      <td>Yes</td>\n",
              "    </tr>\n",
              "    <tr>\n",
              "      <th>2</th>\n",
              "      <td>No</td>\n",
              "      <td>Yes</td>\n",
              "      <td>No</td>\n",
              "      <td>No</td>\n",
              "    </tr>\n",
              "    <tr>\n",
              "      <th>3</th>\n",
              "      <td>No</td>\n",
              "      <td>No</td>\n",
              "      <td>No</td>\n",
              "      <td>Yes</td>\n",
              "    </tr>\n",
              "    <tr>\n",
              "      <th>5</th>\n",
              "      <td>No</td>\n",
              "      <td>Yes</td>\n",
              "      <td>No</td>\n",
              "      <td>Yes</td>\n",
              "    </tr>\n",
              "  </tbody>\n",
              "</table>\n",
              "</div>\n",
              "      <button class=\"colab-df-convert\" onclick=\"convertToInteractive('df-70bd1a9d-b899-4a7f-8a9d-7d973edd777c')\"\n",
              "              title=\"Convert this dataframe to an interactive table.\"\n",
              "              style=\"display:none;\">\n",
              "        \n",
              "  <svg xmlns=\"http://www.w3.org/2000/svg\" height=\"24px\"viewBox=\"0 0 24 24\"\n",
              "       width=\"24px\">\n",
              "    <path d=\"M0 0h24v24H0V0z\" fill=\"none\"/>\n",
              "    <path d=\"M18.56 5.44l.94 2.06.94-2.06 2.06-.94-2.06-.94-.94-2.06-.94 2.06-2.06.94zm-11 1L8.5 8.5l.94-2.06 2.06-.94-2.06-.94L8.5 2.5l-.94 2.06-2.06.94zm10 10l.94 2.06.94-2.06 2.06-.94-2.06-.94-.94-2.06-.94 2.06-2.06.94z\"/><path d=\"M17.41 7.96l-1.37-1.37c-.4-.4-.92-.59-1.43-.59-.52 0-1.04.2-1.43.59L10.3 9.45l-7.72 7.72c-.78.78-.78 2.05 0 2.83L4 21.41c.39.39.9.59 1.41.59.51 0 1.02-.2 1.41-.59l7.78-7.78 2.81-2.81c.8-.78.8-2.07 0-2.86zM5.41 20L4 18.59l7.72-7.72 1.47 1.35L5.41 20z\"/>\n",
              "  </svg>\n",
              "      </button>\n",
              "      \n",
              "  <style>\n",
              "    .colab-df-container {\n",
              "      display:flex;\n",
              "      flex-wrap:wrap;\n",
              "      gap: 12px;\n",
              "    }\n",
              "\n",
              "    .colab-df-convert {\n",
              "      background-color: #E8F0FE;\n",
              "      border: none;\n",
              "      border-radius: 50%;\n",
              "      cursor: pointer;\n",
              "      display: none;\n",
              "      fill: #1967D2;\n",
              "      height: 32px;\n",
              "      padding: 0 0 0 0;\n",
              "      width: 32px;\n",
              "    }\n",
              "\n",
              "    .colab-df-convert:hover {\n",
              "      background-color: #E2EBFA;\n",
              "      box-shadow: 0px 1px 2px rgba(60, 64, 67, 0.3), 0px 1px 3px 1px rgba(60, 64, 67, 0.15);\n",
              "      fill: #174EA6;\n",
              "    }\n",
              "\n",
              "    [theme=dark] .colab-df-convert {\n",
              "      background-color: #3B4455;\n",
              "      fill: #D2E3FC;\n",
              "    }\n",
              "\n",
              "    [theme=dark] .colab-df-convert:hover {\n",
              "      background-color: #434B5C;\n",
              "      box-shadow: 0px 1px 3px 1px rgba(0, 0, 0, 0.15);\n",
              "      filter: drop-shadow(0px 1px 2px rgba(0, 0, 0, 0.3));\n",
              "      fill: #FFFFFF;\n",
              "    }\n",
              "  </style>\n",
              "\n",
              "      <script>\n",
              "        const buttonEl =\n",
              "          document.querySelector('#df-70bd1a9d-b899-4a7f-8a9d-7d973edd777c button.colab-df-convert');\n",
              "        buttonEl.style.display =\n",
              "          google.colab.kernel.accessAllowed ? 'block' : 'none';\n",
              "\n",
              "        async function convertToInteractive(key) {\n",
              "          const element = document.querySelector('#df-70bd1a9d-b899-4a7f-8a9d-7d973edd777c');\n",
              "          const dataTable =\n",
              "            await google.colab.kernel.invokeFunction('convertToInteractive',\n",
              "                                                     [key], {});\n",
              "          if (!dataTable) return;\n",
              "\n",
              "          const docLinkHtml = 'Like what you see? Visit the ' +\n",
              "            '<a target=\"_blank\" href=https://colab.research.google.com/notebooks/data_table.ipynb>data table notebook</a>'\n",
              "            + ' to learn more about interactive tables.';\n",
              "          element.innerHTML = '';\n",
              "          dataTable['output_type'] = 'display_data';\n",
              "          await google.colab.output.renderOutput(dataTable, element);\n",
              "          const docLink = document.createElement('div');\n",
              "          docLink.innerHTML = docLinkHtml;\n",
              "          element.appendChild(docLink);\n",
              "        }\n",
              "      </script>\n",
              "    </div>\n",
              "  </div>\n",
              "  "
            ],
            "text/plain": [
              "  CCTV SDCC_Owned WheelchairAccessible ShowerFacilities\n",
              "0   No         No                  Yes               No\n",
              "1   No        Yes                  Yes              Yes\n",
              "2   No        Yes                   No               No\n",
              "3   No         No                   No              Yes\n",
              "5   No        Yes                   No              Yes"
            ]
          },
          "execution_count": 31,
          "metadata": {},
          "output_type": "execute_result"
        }
      ],
      "source": [
        "I=['CCTV',\t'SDCC_Owned',\t'WheelchairAccessible',\t'ShowerFacilities']\n",
        "O=['Type']\n",
        "X=data1[I]\n",
        "y=data1[O]\n",
        "y.value_counts()\n",
        "X.head() "
      ]
    },
    {
      "cell_type": "code",
      "execution_count": null,
      "metadata": {
        "id": "-Q-7C9zcZDdO"
      },
      "outputs": [],
      "source": [
        "# encode class values as integers\n",
        "from sklearn.preprocessing import LabelEncoder\n",
        "encoder = LabelEncoder()\n",
        "encoder.fit(X['CCTV'])\n",
        "X1=encoder.transform(X['CCTV'])\n",
        "\n",
        "encoder.fit(X['SDCC_Owned'])\n",
        "X2=encoder.transform(X['SDCC_Owned'])\n",
        "\n",
        "encoder.fit(X['WheelchairAccessible'])\n",
        "X3=encoder.transform(X['WheelchairAccessible'])\n",
        "\n",
        "\n",
        "encoder.fit(X['ShowerFacilities'])\n",
        "X4=encoder.transform(X['ShowerFacilities'])\n",
        " \n",
        " \n",
        "encoder.fit(y)\n",
        "y = encoder.transform(y)\n"
      ]
    },
    {
      "cell_type": "code",
      "execution_count": null,
      "metadata": {
        "colab": {
          "base_uri": "https://localhost:8080/",
          "height": 204
        },
        "id": "h-mKsYw6br9m",
        "outputId": "da920a0c-4f7e-4dd2-d6ae-a559cae2f169"
      },
      "outputs": [
        {
          "data": {
            "text/html": [
              "\n",
              "  <div id=\"df-9e3a6825-16cd-4dca-879e-a370590215fe\">\n",
              "    <div class=\"colab-df-container\">\n",
              "      <div>\n",
              "<style scoped>\n",
              "    .dataframe tbody tr th:only-of-type {\n",
              "        vertical-align: middle;\n",
              "    }\n",
              "\n",
              "    .dataframe tbody tr th {\n",
              "        vertical-align: top;\n",
              "    }\n",
              "\n",
              "    .dataframe thead th {\n",
              "        text-align: right;\n",
              "    }\n",
              "</style>\n",
              "<table border=\"1\" class=\"dataframe\">\n",
              "  <thead>\n",
              "    <tr style=\"text-align: right;\">\n",
              "      <th></th>\n",
              "      <th>0</th>\n",
              "      <th>1</th>\n",
              "      <th>2</th>\n",
              "      <th>3</th>\n",
              "      <th>4</th>\n",
              "      <th>5</th>\n",
              "      <th>6</th>\n",
              "      <th>7</th>\n",
              "      <th>8</th>\n",
              "      <th>9</th>\n",
              "      <th>...</th>\n",
              "      <th>26</th>\n",
              "      <th>27</th>\n",
              "      <th>28</th>\n",
              "      <th>29</th>\n",
              "      <th>30</th>\n",
              "      <th>31</th>\n",
              "      <th>32</th>\n",
              "      <th>33</th>\n",
              "      <th>34</th>\n",
              "      <th>35</th>\n",
              "    </tr>\n",
              "  </thead>\n",
              "  <tbody>\n",
              "    <tr>\n",
              "      <th>0</th>\n",
              "      <td>0</td>\n",
              "      <td>0</td>\n",
              "      <td>0</td>\n",
              "      <td>0</td>\n",
              "      <td>0</td>\n",
              "      <td>0</td>\n",
              "      <td>0</td>\n",
              "      <td>0</td>\n",
              "      <td>0</td>\n",
              "      <td>0</td>\n",
              "      <td>...</td>\n",
              "      <td>0</td>\n",
              "      <td>0</td>\n",
              "      <td>0</td>\n",
              "      <td>0</td>\n",
              "      <td>0</td>\n",
              "      <td>0</td>\n",
              "      <td>0</td>\n",
              "      <td>0</td>\n",
              "      <td>0</td>\n",
              "      <td>0</td>\n",
              "    </tr>\n",
              "    <tr>\n",
              "      <th>1</th>\n",
              "      <td>0</td>\n",
              "      <td>1</td>\n",
              "      <td>1</td>\n",
              "      <td>0</td>\n",
              "      <td>1</td>\n",
              "      <td>0</td>\n",
              "      <td>0</td>\n",
              "      <td>1</td>\n",
              "      <td>1</td>\n",
              "      <td>0</td>\n",
              "      <td>...</td>\n",
              "      <td>0</td>\n",
              "      <td>1</td>\n",
              "      <td>0</td>\n",
              "      <td>1</td>\n",
              "      <td>1</td>\n",
              "      <td>0</td>\n",
              "      <td>0</td>\n",
              "      <td>0</td>\n",
              "      <td>0</td>\n",
              "      <td>0</td>\n",
              "    </tr>\n",
              "    <tr>\n",
              "      <th>2</th>\n",
              "      <td>1</td>\n",
              "      <td>1</td>\n",
              "      <td>0</td>\n",
              "      <td>0</td>\n",
              "      <td>0</td>\n",
              "      <td>0</td>\n",
              "      <td>1</td>\n",
              "      <td>1</td>\n",
              "      <td>0</td>\n",
              "      <td>0</td>\n",
              "      <td>...</td>\n",
              "      <td>0</td>\n",
              "      <td>0</td>\n",
              "      <td>0</td>\n",
              "      <td>1</td>\n",
              "      <td>1</td>\n",
              "      <td>0</td>\n",
              "      <td>1</td>\n",
              "      <td>0</td>\n",
              "      <td>0</td>\n",
              "      <td>1</td>\n",
              "    </tr>\n",
              "    <tr>\n",
              "      <th>3</th>\n",
              "      <td>0</td>\n",
              "      <td>1</td>\n",
              "      <td>0</td>\n",
              "      <td>1</td>\n",
              "      <td>1</td>\n",
              "      <td>0</td>\n",
              "      <td>1</td>\n",
              "      <td>1</td>\n",
              "      <td>0</td>\n",
              "      <td>0</td>\n",
              "      <td>...</td>\n",
              "      <td>0</td>\n",
              "      <td>0</td>\n",
              "      <td>0</td>\n",
              "      <td>1</td>\n",
              "      <td>1</td>\n",
              "      <td>0</td>\n",
              "      <td>1</td>\n",
              "      <td>0</td>\n",
              "      <td>1</td>\n",
              "      <td>1</td>\n",
              "    </tr>\n",
              "  </tbody>\n",
              "</table>\n",
              "<p>4 rows × 36 columns</p>\n",
              "</div>\n",
              "      <button class=\"colab-df-convert\" onclick=\"convertToInteractive('df-9e3a6825-16cd-4dca-879e-a370590215fe')\"\n",
              "              title=\"Convert this dataframe to an interactive table.\"\n",
              "              style=\"display:none;\">\n",
              "        \n",
              "  <svg xmlns=\"http://www.w3.org/2000/svg\" height=\"24px\"viewBox=\"0 0 24 24\"\n",
              "       width=\"24px\">\n",
              "    <path d=\"M0 0h24v24H0V0z\" fill=\"none\"/>\n",
              "    <path d=\"M18.56 5.44l.94 2.06.94-2.06 2.06-.94-2.06-.94-.94-2.06-.94 2.06-2.06.94zm-11 1L8.5 8.5l.94-2.06 2.06-.94-2.06-.94L8.5 2.5l-.94 2.06-2.06.94zm10 10l.94 2.06.94-2.06 2.06-.94-2.06-.94-.94-2.06-.94 2.06-2.06.94z\"/><path d=\"M17.41 7.96l-1.37-1.37c-.4-.4-.92-.59-1.43-.59-.52 0-1.04.2-1.43.59L10.3 9.45l-7.72 7.72c-.78.78-.78 2.05 0 2.83L4 21.41c.39.39.9.59 1.41.59.51 0 1.02-.2 1.41-.59l7.78-7.78 2.81-2.81c.8-.78.8-2.07 0-2.86zM5.41 20L4 18.59l7.72-7.72 1.47 1.35L5.41 20z\"/>\n",
              "  </svg>\n",
              "      </button>\n",
              "      \n",
              "  <style>\n",
              "    .colab-df-container {\n",
              "      display:flex;\n",
              "      flex-wrap:wrap;\n",
              "      gap: 12px;\n",
              "    }\n",
              "\n",
              "    .colab-df-convert {\n",
              "      background-color: #E8F0FE;\n",
              "      border: none;\n",
              "      border-radius: 50%;\n",
              "      cursor: pointer;\n",
              "      display: none;\n",
              "      fill: #1967D2;\n",
              "      height: 32px;\n",
              "      padding: 0 0 0 0;\n",
              "      width: 32px;\n",
              "    }\n",
              "\n",
              "    .colab-df-convert:hover {\n",
              "      background-color: #E2EBFA;\n",
              "      box-shadow: 0px 1px 2px rgba(60, 64, 67, 0.3), 0px 1px 3px 1px rgba(60, 64, 67, 0.15);\n",
              "      fill: #174EA6;\n",
              "    }\n",
              "\n",
              "    [theme=dark] .colab-df-convert {\n",
              "      background-color: #3B4455;\n",
              "      fill: #D2E3FC;\n",
              "    }\n",
              "\n",
              "    [theme=dark] .colab-df-convert:hover {\n",
              "      background-color: #434B5C;\n",
              "      box-shadow: 0px 1px 3px 1px rgba(0, 0, 0, 0.15);\n",
              "      filter: drop-shadow(0px 1px 2px rgba(0, 0, 0, 0.3));\n",
              "      fill: #FFFFFF;\n",
              "    }\n",
              "  </style>\n",
              "\n",
              "      <script>\n",
              "        const buttonEl =\n",
              "          document.querySelector('#df-9e3a6825-16cd-4dca-879e-a370590215fe button.colab-df-convert');\n",
              "        buttonEl.style.display =\n",
              "          google.colab.kernel.accessAllowed ? 'block' : 'none';\n",
              "\n",
              "        async function convertToInteractive(key) {\n",
              "          const element = document.querySelector('#df-9e3a6825-16cd-4dca-879e-a370590215fe');\n",
              "          const dataTable =\n",
              "            await google.colab.kernel.invokeFunction('convertToInteractive',\n",
              "                                                     [key], {});\n",
              "          if (!dataTable) return;\n",
              "\n",
              "          const docLinkHtml = 'Like what you see? Visit the ' +\n",
              "            '<a target=\"_blank\" href=https://colab.research.google.com/notebooks/data_table.ipynb>data table notebook</a>'\n",
              "            + ' to learn more about interactive tables.';\n",
              "          element.innerHTML = '';\n",
              "          dataTable['output_type'] = 'display_data';\n",
              "          await google.colab.output.renderOutput(dataTable, element);\n",
              "          const docLink = document.createElement('div');\n",
              "          docLink.innerHTML = docLinkHtml;\n",
              "          element.appendChild(docLink);\n",
              "        }\n",
              "      </script>\n",
              "    </div>\n",
              "  </div>\n",
              "  "
            ],
            "text/plain": [
              "   0   1   2   3   4   5   6   7   8   9   ...  26  27  28  29  30  31  32  \\\n",
              "0   0   0   0   0   0   0   0   0   0   0  ...   0   0   0   0   0   0   0   \n",
              "1   0   1   1   0   1   0   0   1   1   0  ...   0   1   0   1   1   0   0   \n",
              "2   1   1   0   0   0   0   1   1   0   0  ...   0   0   0   1   1   0   1   \n",
              "3   0   1   0   1   1   0   1   1   0   0  ...   0   0   0   1   1   0   1   \n",
              "\n",
              "   33  34  35  \n",
              "0   0   0   0  \n",
              "1   0   0   0  \n",
              "2   0   0   1  \n",
              "3   0   1   1  \n",
              "\n",
              "[4 rows x 36 columns]"
            ]
          },
          "execution_count": 37,
          "metadata": {},
          "output_type": "execute_result"
        }
      ],
      "source": [
        "from pandas import  DataFrame\n",
        "X=DataFrame([X1,X2,X3,X4])\n",
        "X.head()"
      ]
    },
    {
      "cell_type": "markdown",
      "metadata": {
        "id": "6-xC7YEjXpCZ"
      },
      "source": [
        "# Naive Bayes \n"
      ]
    },
    {
      "cell_type": "code",
      "execution_count": null,
      "metadata": {
        "id": "Io06JRayYPBT"
      },
      "outputs": [],
      "source": [
        "from sklearn.naive_bayes import CategoricalNB"
      ]
    },
    {
      "cell_type": "code",
      "execution_count": null,
      "metadata": {
        "id": "_yoiKtVIYYN2"
      },
      "outputs": [],
      "source": [
        "cnb=CategoricalNB()\n",
        "cnb.fit(X,y)"
      ]
    },
    {
      "cell_type": "code",
      "execution_count": null,
      "metadata": {
        "id": "0RXv4dwwY70o"
      },
      "outputs": [],
      "source": []
    }
  ],
  "metadata": {
    "colab": {
      "collapsed_sections": [],
      "name": "SVM_complete.ipynb",
      "provenance": []
    },
    "kernelspec": {
      "display_name": "Python 3",
      "language": "python",
      "name": "python3"
    },
    "language_info": {
      "codemirror_mode": {
        "name": "ipython",
        "version": 3
      },
      "file_extension": ".py",
      "mimetype": "text/x-python",
      "name": "python",
      "nbconvert_exporter": "python",
      "pygments_lexer": "ipython3",
      "version": "3.9.7"
    }
  },
  "nbformat": 4,
  "nbformat_minor": 0
}
