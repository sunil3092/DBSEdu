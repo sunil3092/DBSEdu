{
 "cells": [
  {
   "cell_type": "markdown",
   "id": "c0d42642",
   "metadata": {},
   "source": [
    "# Excercises"
   ]
  },
  {
   "cell_type": "markdown",
   "id": "2e2731be",
   "metadata": {},
   "source": [
    "#### Write a function to find the sum of all multiples of a or b in l where a, b, l are the function parameters and a is of length 2"
   ]
  },
  {
   "cell_type": "code",
   "execution_count": 1,
   "id": "5f2efef0",
   "metadata": {},
   "outputs": [],
   "source": [
    "# Variables\n",
    "a_val = 3;\n",
    "b_val = 5;\n",
    "ab_val = [3,5]\n",
    "list_val = [3,5,6,9];"
   ]
  },
  {
   "cell_type": "code",
   "execution_count": 2,
   "id": "a2c86766",
   "metadata": {},
   "outputs": [
    {
     "name": "stdout",
     "output_type": "stream",
     "text": [
      "23\n"
     ]
    }
   ],
   "source": [
    "def find_length(a,b,l):\n",
    "    sum = 0;\n",
    "    for i in l:\n",
    "        if(i%a == 0 or i%b == 0):\n",
    "            sum += i;\n",
    "    return sum;\n",
    "\n",
    "print(find_length(a_val,b_val,list_val));"
   ]
  },
  {
   "cell_type": "code",
   "execution_count": 3,
   "id": "2beaffaa",
   "metadata": {},
   "outputs": [
    {
     "data": {
      "text/plain": [
       "23"
      ]
     },
     "execution_count": 3,
     "metadata": {},
     "output_type": "execute_result"
    }
   ],
   "source": [
    "def find_length_arr_sum(a,l):\n",
    "    sum_arr_val = 0;\n",
    "    for i in a:\n",
    "        for v in l:\n",
    "            if(v%i == 0 or v%i == 0):\n",
    "                sum_arr_val += v;\n",
    "    return sum_arr_val;\n",
    "find_length_arr_sum(ab_val,list_val)"
   ]
  },
  {
   "cell_type": "markdown",
   "id": "18f92ff3",
   "metadata": {},
   "source": [
    "#### File System"
   ]
  },
  {
   "cell_type": "code",
   "execution_count": 4,
   "id": "69489dbd",
   "metadata": {},
   "outputs": [],
   "source": [
    "#Write a function to find the sum of all the multiples \n",
    "#of numbers in file a in file l where a,l are filenames, \n",
    "#and numbers are one per line\n",
    "import os\n",
    "if os.path.exists(\"numbers1\"):\n",
    "      os.remove(\"numbers1\")\n",
    "if os.path.exists(\"numbers2\"):\n",
    "      os.remove(\"numbers2\")\n",
    "f1=open('numbers1','w')\n",
    "f2=open('numbers2','w')\n",
    "for p in ab_val:\n",
    "    f1.write(str(p)+'\\n');\n",
    "f1.close()\n",
    "for o in list_val:\n",
    "    f2.write(str(o)+'\\n');\n",
    "f2.close()"
   ]
  },
  {
   "cell_type": "markdown",
   "id": "9cf91349",
   "metadata": {},
   "source": [
    "#### Write a function to find the sum of all the multiples \n",
    "#### of numbers in file a in file l where a,l are filenames, \n",
    "#### and numbers are one per line\n",
    "\n",
    "#1 handle missing files\n",
    "\n",
    "#2 handle corrupt lines in file (omit)"
   ]
  },
  {
   "cell_type": "code",
   "execution_count": 5,
   "id": "5dca9925",
   "metadata": {},
   "outputs": [],
   "source": [
    "with open('numbers','w') as f:\n",
    "      f.write('2\\n3\\n4\\n6\\n7\\n9\\n10\\n11\\n22\\n31\\n44\\n38')\n",
    "with open('factors','w') as f:\n",
    "      f.write('2\\n3')\n",
    "        \n",
    "os.remove(\"numbers\")\n",
    "os.remove(\"factors\")\n",
    "\n",
    "def p(f,n):\n",
    "    try:\n",
    "        fl=[int(line) for line in open(f)]\n",
    "    except:\n",
    "        print(f\"No file with name {f} exists\")\n",
    "    try:\n",
    "        nl=[int(line) for line in open(n)]\n",
    "    except:\n",
    "        print(f\"No file with name {n} exists\") \n",
    "    return o(fl,nl)"
   ]
  },
  {
   "cell_type": "markdown",
   "id": "c2ee6add",
   "metadata": {},
   "source": [
    "#### Standard Excercise"
   ]
  },
  {
   "cell_type": "code",
   "execution_count": 44,
   "id": "92593bd8",
   "metadata": {},
   "outputs": [
    {
     "ename": "PermissionError",
     "evalue": "[WinError 32] The process cannot access the file because it is being used by another process: 'prices'",
     "output_type": "error",
     "traceback": [
      "\u001b[1;31m---------------------------------------------------------------------------\u001b[0m",
      "\u001b[1;31mPermissionError\u001b[0m                           Traceback (most recent call last)",
      "\u001b[1;32m~\\AppData\\Local\\Temp/ipykernel_10928/4238483337.py\u001b[0m in \u001b[0;36m<module>\u001b[1;34m\u001b[0m\n\u001b[0;32m      1\u001b[0m \u001b[1;32mimport\u001b[0m \u001b[0mos\u001b[0m\u001b[1;33m\u001b[0m\u001b[1;33m\u001b[0m\u001b[0m\n\u001b[0;32m      2\u001b[0m \u001b[1;32mif\u001b[0m \u001b[0mos\u001b[0m\u001b[1;33m.\u001b[0m\u001b[0mpath\u001b[0m\u001b[1;33m.\u001b[0m\u001b[0mexists\u001b[0m\u001b[1;33m(\u001b[0m\u001b[1;34m\"prices\"\u001b[0m\u001b[1;33m)\u001b[0m\u001b[1;33m:\u001b[0m\u001b[1;33m\u001b[0m\u001b[1;33m\u001b[0m\u001b[0m\n\u001b[1;32m----> 3\u001b[1;33m       \u001b[0mos\u001b[0m\u001b[1;33m.\u001b[0m\u001b[0mremove\u001b[0m\u001b[1;33m(\u001b[0m\u001b[1;34m\"prices\"\u001b[0m\u001b[1;33m)\u001b[0m\u001b[1;33m\u001b[0m\u001b[1;33m\u001b[0m\u001b[0m\n\u001b[0m\u001b[0;32m      4\u001b[0m \u001b[1;32mif\u001b[0m \u001b[0mos\u001b[0m\u001b[1;33m.\u001b[0m\u001b[0mpath\u001b[0m\u001b[1;33m.\u001b[0m\u001b[0mexists\u001b[0m\u001b[1;33m(\u001b[0m\u001b[1;34m\"basket\"\u001b[0m\u001b[1;33m)\u001b[0m\u001b[1;33m:\u001b[0m\u001b[1;33m\u001b[0m\u001b[1;33m\u001b[0m\u001b[0m\n\u001b[0;32m      5\u001b[0m       \u001b[0mos\u001b[0m\u001b[1;33m.\u001b[0m\u001b[0mremove\u001b[0m\u001b[1;33m(\u001b[0m\u001b[1;34m\"basket\"\u001b[0m\u001b[1;33m)\u001b[0m\u001b[1;33m\u001b[0m\u001b[1;33m\u001b[0m\u001b[0m\n",
      "\u001b[1;31mPermissionError\u001b[0m: [WinError 32] The process cannot access the file because it is being used by another process: 'prices'"
     ]
    }
   ],
   "source": [
    "import os\n",
    "if os.path.exists(\"prices\"):\n",
    "      os.remove(\"prices\")\n",
    "if os.path.exists(\"basket\"):\n",
    "      os.remove(\"basket\")\n",
    "with open(\"prices\", \"w\") as fp:\n",
    "    fp.write(\"bread 1.49\\nmilk 0.99\\ncheese 2.99\\n\")\n",
    "with open(\"basket\",\"w\") as fb:\n",
    "    fb.write(\"bread 2\\ncheese 1\")\n",
    "    \n",
    "def addToDict(file_name):\n",
    "    dictToReturn = dict()\n",
    "    for line in open(file_name):\n",
    "        itemList = line.split(\" \")\n",
    "        item = itemList[0]\n",
    "        value = float(itemList[1])\n",
    "        dictToReturn[item] = value\n",
    "    return dictToReturn \n",
    "\n",
    "def checkout(prices, cart):\n",
    "    prices = addToDict(\"prices\")\n",
    "    basket = addToDict(\"basket\")\n",
    "    total = 0.0\n",
    "    for key in basket:\n",
    "        value_of_item = prices[key]\n",
    "        number_of_item = int(basket[key])\n",
    "        total += number_of_item * value_of_item\n",
    "    print(total)\n",
    "    \n",
    "checkout(\"prices\", \"basket\")"
   ]
  },
  {
   "cell_type": "markdown",
   "id": "c97f4041",
   "metadata": {},
   "source": [
    "#### Optimized Excercise"
   ]
  },
  {
   "cell_type": "code",
   "execution_count": 50,
   "id": "995d77d2",
   "metadata": {},
   "outputs": [
    {
     "name": "stdout",
     "output_type": "stream",
     "text": [
      "5.970000000000001\n"
     ]
    }
   ],
   "source": [
    "import os\n",
    "if os.path.exists(\"prices1\"):\n",
    "      os.remove(\"prices1\")\n",
    "if os.path.exists(\"basket1\"):\n",
    "      os.remove(\"basket1\")\n",
    "with open(\"prices1\", \"w\") as fp:\n",
    "    fp.write(\"bread 1.49\\nmilk 0.99\\ncheese 2.99\\n\")\n",
    "with open(\"basket1\",\"w\") as fb:\n",
    "    fb.write(\"bread 2\\ncheese 1\")\n",
    "\n",
    "def checkout(prices, cart):\n",
    "    prices = {line.split()[0]:float(line.split()[1]) for line in open(\"prices1\")}\n",
    "    basket = {line.split()[0]:float(line.split()[1]) for line in open(\"basket1\")}\n",
    "    total = 0.0\n",
    "    for value_of_item,number_of_item in basket.items():\n",
    "        #value_of_item = prices[key]\n",
    "        #number_of_item = int(basket[key])\n",
    "        total += number_of_item * prices[value_of_item]\n",
    "    print(total)\n",
    "    \n",
    "checkout(\"prices1\", \"basket1\")"
   ]
  },
  {
   "cell_type": "code",
   "execution_count": null,
   "id": "bb654c70",
   "metadata": {},
   "outputs": [],
   "source": []
  }
 ],
 "metadata": {
  "kernelspec": {
   "display_name": "Python 3 (ipykernel)",
   "language": "python",
   "name": "python3"
  },
  "language_info": {
   "codemirror_mode": {
    "name": "ipython",
    "version": 3
   },
   "file_extension": ".py",
   "mimetype": "text/x-python",
   "name": "python",
   "nbconvert_exporter": "python",
   "pygments_lexer": "ipython3",
   "version": "3.9.7"
  }
 },
 "nbformat": 4,
 "nbformat_minor": 5
}
