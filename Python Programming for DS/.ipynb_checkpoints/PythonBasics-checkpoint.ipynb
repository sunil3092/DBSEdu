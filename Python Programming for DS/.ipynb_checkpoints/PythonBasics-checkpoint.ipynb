{
 "cells": [
  {
   "cell_type": "markdown",
   "id": "c0d42642",
   "metadata": {},
   "source": [
    "# Excercises"
   ]
  },
  {
   "cell_type": "markdown",
   "id": "2e2731be",
   "metadata": {},
   "source": [
    "#### Write a function to find the sum of all multiples of a or b in l where a, b, l are the function parameters and a is of length 2"
   ]
  },
  {
   "cell_type": "code",
   "execution_count": 27,
   "id": "5f2efef0",
   "metadata": {},
   "outputs": [],
   "source": [
    "# Variables\n",
    "a_val = 3;\n",
    "b_val = 5;\n",
    "ab_val = [3,5]\n",
    "list_val = [3,5,6,9];"
   ]
  },
  {
   "cell_type": "code",
   "execution_count": 28,
   "id": "a2c86766",
   "metadata": {},
   "outputs": [
    {
     "name": "stdout",
     "output_type": "stream",
     "text": [
      "23\n"
     ]
    }
   ],
   "source": [
    "def find_length(a,b,l):\n",
    "    sum = 0;\n",
    "    for i in l:\n",
    "        if(i%a == 0 or i%b == 0):\n",
    "            sum += i;\n",
    "    return sum;\n",
    "\n",
    "print(find_length(a_val,b_val,list_val));"
   ]
  },
  {
   "cell_type": "code",
   "execution_count": 29,
   "id": "2beaffaa",
   "metadata": {},
   "outputs": [
    {
     "data": {
      "text/plain": [
       "23"
      ]
     },
     "execution_count": 29,
     "metadata": {},
     "output_type": "execute_result"
    }
   ],
   "source": [
    "def find_length_arr_sum(a,l):\n",
    "    sum_arr_val = 0;\n",
    "    for i in a:\n",
    "        for v in l:\n",
    "            if(v%i == 0 or v%i == 0):\n",
    "                sum_arr_val += v;\n",
    "    return sum_arr_val;\n",
    "find_length_arr_sum(ab_val,list_val)"
   ]
  },
  {
   "cell_type": "code",
   "execution_count": null,
   "id": "74697d2b",
   "metadata": {},
   "outputs": [],
   "source": []
  }
 ],
 "metadata": {
  "kernelspec": {
   "display_name": "Python 3 (ipykernel)",
   "language": "python",
   "name": "python3"
  },
  "language_info": {
   "codemirror_mode": {
    "name": "ipython",
    "version": 3
   },
   "file_extension": ".py",
   "mimetype": "text/x-python",
   "name": "python",
   "nbconvert_exporter": "python",
   "pygments_lexer": "ipython3",
   "version": "3.9.7"
  }
 },
 "nbformat": 4,
 "nbformat_minor": 5
}
