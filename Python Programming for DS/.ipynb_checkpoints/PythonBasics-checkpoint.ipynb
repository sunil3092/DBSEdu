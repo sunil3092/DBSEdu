{
 "cells": [
  {
   "cell_type": "markdown",
   "id": "c0d42642",
   "metadata": {},
   "source": [
    "# Excercises"
   ]
  },
  {
   "cell_type": "markdown",
   "id": "2e2731be",
   "metadata": {},
   "source": [
    "#### Write a function to find the sum of all multiples of a or b in l where a, b, l are the function parameters and a is of length 2"
   ]
  },
  {
   "cell_type": "code",
   "execution_count": 1,
   "id": "5f2efef0",
   "metadata": {},
   "outputs": [],
   "source": [
    "# Variables\n",
    "a_val = 3;\n",
    "b_val = 5;\n",
    "ab_val = [3,5]\n",
    "list_val = [3,5,6,9];"
   ]
  },
  {
   "cell_type": "code",
   "execution_count": 2,
   "id": "a2c86766",
   "metadata": {},
   "outputs": [
    {
     "name": "stdout",
     "output_type": "stream",
     "text": [
      "23\n"
     ]
    }
   ],
   "source": [
    "def find_length(a,b,l):\n",
    "    sum = 0;\n",
    "    for i in l:\n",
    "        if(i%a == 0 or i%b == 0):\n",
    "            sum += i;\n",
    "    return sum;\n",
    "\n",
    "print(find_length(a_val,b_val,list_val));"
   ]
  },
  {
   "cell_type": "code",
   "execution_count": 3,
   "id": "2beaffaa",
   "metadata": {},
   "outputs": [
    {
     "data": {
      "text/plain": [
       "23"
      ]
     },
     "execution_count": 3,
     "metadata": {},
     "output_type": "execute_result"
    }
   ],
   "source": [
    "def find_length_arr_sum(a,l):\n",
    "    sum_arr_val = 0;\n",
    "    for i in a:\n",
    "        for v in l:\n",
    "            if(v%i == 0 or v%i == 0):\n",
    "                sum_arr_val += v;\n",
    "    return sum_arr_val;\n",
    "find_length_arr_sum(ab_val,list_val)"
   ]
  },
  {
   "cell_type": "markdown",
   "id": "18f92ff3",
   "metadata": {},
   "source": [
    "#### File System"
   ]
  },
  {
   "cell_type": "code",
   "execution_count": 4,
   "id": "69489dbd",
   "metadata": {},
   "outputs": [],
   "source": [
    "#Write a function to find the sum of all the multiples \n",
    "#of numbers in file a in file l where a,l are filenames, \n",
    "#and numbers are one per line\n",
    "import os\n",
    "if os.path.exists(\"numbers1\"):\n",
    "      os.remove(\"numbers1\")\n",
    "if os.path.exists(\"numbers2\"):\n",
    "      os.remove(\"numbers2\")\n",
    "f1=open('numbers1','w')\n",
    "f2=open('numbers2','w')\n",
    "for p in ab_val:\n",
    "    f1.write(str(p)+'\\n');\n",
    "f1.close()\n",
    "for o in list_val:\n",
    "    f2.write(str(o)+'\\n');\n",
    "f2.close()"
   ]
  },
  {
   "cell_type": "markdown",
   "id": "9cf91349",
   "metadata": {},
   "source": [
    "#### Write a function to find the sum of all the multiples \n",
    "#### of numbers in file a in file l where a,l are filenames, \n",
    "#### and numbers are one per line\n",
    "\n",
    "#1 handle missing files\n",
    "\n",
    "#2 handle corrupt lines in file (omit)"
   ]
  },
  {
   "cell_type": "code",
   "execution_count": 5,
   "id": "5dca9925",
   "metadata": {},
   "outputs": [],
   "source": [
    "with open('numbers','w') as f:\n",
    "      f.write('2\\n3\\n4\\n6\\n7\\n9\\n10\\n11\\n22\\n31\\n44\\n38')\n",
    "with open('factors','w') as f:\n",
    "      f.write('2\\n3')\n",
    "        \n",
    "os.remove(\"numbers\")\n",
    "os.remove(\"factors\")\n",
    "\n",
    "def p(f,n):\n",
    "    try:\n",
    "        fl=[int(line) for line in open(f)]\n",
    "    except:\n",
    "        print(f\"No file with name {f} exists\")\n",
    "    try:\n",
    "        nl=[int(line) for line in open(n)]\n",
    "    except:\n",
    "        print(f\"No file with name {n} exists\") \n",
    "    return o(fl,nl)"
   ]
  },
  {
   "cell_type": "markdown",
   "id": "c2ee6add",
   "metadata": {},
   "source": [
    "#### Standard Excercise"
   ]
  },
  {
   "cell_type": "code",
   "execution_count": 2,
   "id": "92593bd8",
   "metadata": {},
   "outputs": [
    {
     "name": "stdout",
     "output_type": "stream",
     "text": [
      "5.970000000000001\n"
     ]
    }
   ],
   "source": [
    "import os\n",
    "if os.path.exists(\"prices\"):\n",
    "      os.remove(\"prices\")\n",
    "if os.path.exists(\"basket\"):\n",
    "      os.remove(\"basket\")\n",
    "with open(\"prices\", \"w\") as fp:\n",
    "    fp.write(\"bread 1.49\\nmilk 0.99\\ncheese 2.99\\n\")\n",
    "with open(\"basket\",\"w\") as fb:\n",
    "    fb.write(\"bread 2\\ncheese 1\")\n",
    "    \n",
    "def addToDict(file_name):\n",
    "    dictToReturn = dict()\n",
    "    for line in open(file_name):\n",
    "        itemList = line.split(\" \")\n",
    "        item = itemList[0]\n",
    "        value = float(itemList[1])\n",
    "        dictToReturn[item] = value\n",
    "    return dictToReturn \n",
    "\n",
    "def checkout(prices, cart):\n",
    "    prices = addToDict(\"prices\")\n",
    "    basket = addToDict(\"basket\")\n",
    "    total = 0.0\n",
    "    for key in basket:\n",
    "        value_of_item = prices[key]\n",
    "        number_of_item = int(basket[key])\n",
    "        total += number_of_item * value_of_item\n",
    "    print(total)\n",
    "    \n",
    "checkout(\"prices\", \"basket\")"
   ]
  },
  {
   "cell_type": "markdown",
   "id": "c97f4041",
   "metadata": {},
   "source": [
    "#### Optimized Excercise"
   ]
  },
  {
   "cell_type": "code",
   "execution_count": 3,
   "id": "995d77d2",
   "metadata": {},
   "outputs": [
    {
     "name": "stdout",
     "output_type": "stream",
     "text": [
      "5.970000000000001\n"
     ]
    }
   ],
   "source": [
    "import os\n",
    "if os.path.exists(\"prices1\"):\n",
    "      os.remove(\"prices1\")\n",
    "if os.path.exists(\"basket1\"):\n",
    "      os.remove(\"basket1\")\n",
    "with open(\"prices1\", \"w\") as fp:\n",
    "    fp.write(\"bread 1.49\\nmilk 0.99\\ncheese 2.99\\n\")\n",
    "with open(\"basket1\",\"w\") as fb:\n",
    "    fb.write(\"bread 2\\ncheese 1\")\n",
    "\n",
    "def checkout(prices, cart):\n",
    "    prices = {line.split()[0]:float(line.split()[1]) for line in open(\"prices1\")}\n",
    "    basket = {line.split()[0]:float(line.split()[1]) for line in open(\"basket1\")}\n",
    "    total = 0.0\n",
    "    for value_of_item,number_of_item in basket.items():\n",
    "        #value_of_item = prices[key]\n",
    "        #number_of_item = int(basket[key])\n",
    "        total += number_of_item * prices[value_of_item]\n",
    "    print(total)\n",
    "    \n",
    "checkout(\"prices1\", \"basket1\")"
   ]
  },
  {
   "cell_type": "code",
   "execution_count": 18,
   "id": "bb654c70",
   "metadata": {},
   "outputs": [
    {
     "name": "stdout",
     "output_type": "stream",
     "text": [
      "Missing Files\n"
     ]
    }
   ],
   "source": [
    "import os\n",
    "if os.path.exists(\"prices1\"):\n",
    "      os.remove(\"prices1\")\n",
    "if os.path.exists(\"basket1\"):\n",
    "      os.remove(\"basket1\")\n",
    "with open(\"prices1\", \"w\") as fp:\n",
    "    fp.write(\"bread 1.49\\nmilk 0.99\\ncheese 2.99\\n\")\n",
    "with open(\"basket1\",\"w\") as fb:\n",
    "    fb.write(\"bread 2\\ncheese 1\")\n",
    "\n",
    "def checkout(prices, cart):\n",
    "    fileError = False\n",
    "    try:\n",
    "        prices = {line.split()[0]:float(line.split()[1]) for line in open(\"prices11\")}\n",
    "    except:\n",
    "        fileError = True\n",
    "    try:\n",
    "        basket = {line.split()[0]:float(line.split()[1]) for line in open(\"basket11\")}\n",
    "    except:\n",
    "        fileError = True\n",
    "    total = 0.0\n",
    "    if (fileError == False):\n",
    "        for value_of_item,number_of_item in basket.items():\n",
    "            total += number_of_item * prices[value_of_item]\n",
    "        print(total)\n",
    "    else:\n",
    "        print(\"Missing Files\")\n",
    "checkout(\"prices1\", \"basket1\")"
   ]
  },
  {
   "cell_type": "code",
   "execution_count": 6,
   "id": "fa3835ed",
   "metadata": {},
   "outputs": [],
   "source": [
    "import os\n",
    "def house_keeping(fileNames):\n",
    "    for fileName in fileNames:\n",
    "        if os.path.exists(fileName):\n",
    "          os.remove(fileName)\n",
    "\n",
    "def write_data(fileName, data):\n",
    "        with open(fileName, \"w\") as fp:\n",
    "            fp.write(data)\n",
    "            \n",
    "prices_dict = dict()\n",
    "def load_prices():\n",
    "    prices_dict[\"bread\"] = 2\n",
    "    prices_dict[\"milk\"] = 1\n",
    "    prices_dict[\"cheese\"] = 4\n",
    "\n",
    "def get_file_data(fileName):\n",
    "    data_from_file = {line.split()[0]:float(line.split()[1]) for line in open(fileName)}\n",
    "    return data_from_file"
   ]
  },
  {
   "cell_type": "code",
   "execution_count": 11,
   "id": "110602f4",
   "metadata": {},
   "outputs": [
    {
     "name": "stdout",
     "output_type": "stream",
     "text": [
      "5.970000000000001\n"
     ]
    }
   ],
   "source": [
    "\n",
    "class Basket:\n",
    "    \n",
    "    house_keeping([\"prices1\",\"basket1\"])\n",
    "    write_data(\"prices1\",\"bread 1.49\\nmilk 0.99\\ncheese 2.99\\n\")\n",
    "    write_data(\"basket1\",\"bread 2\\ncheese 1\")\n",
    "\n",
    "    def checkout(self):\n",
    "        fileError = False\n",
    "        try:\n",
    "            prices = {line.split()[0]:float(line.split()[1]) for line in open(\"prices1\")}\n",
    "        except:\n",
    "            fileError = True\n",
    "        try:\n",
    "            basket = {line.split()[0]:float(line.split()[1]) for line in open(\"basket1\")}\n",
    "        except:\n",
    "            fileError = True\n",
    "        total = 0.0\n",
    "        if (fileError == False):\n",
    "            for value_of_item,number_of_item in basket.items():\n",
    "                total += number_of_item * prices[value_of_item]\n",
    "            print(total)\n",
    "        else:\n",
    "            print(\"Missing Files\")\n",
    "\n",
    "c = Basket()\n",
    "c.checkout()"
   ]
  },
  {
   "cell_type": "code",
   "execution_count": 69,
   "id": "b8a91ba4",
   "metadata": {},
   "outputs": [
    {
     "data": {
      "text/plain": [
       "12"
      ]
     },
     "execution_count": 69,
     "metadata": {},
     "output_type": "execute_result"
    }
   ],
   "source": [
    "class Trolly :\n",
    "    \n",
    "    def __init__(self,customer_name = \"unknown\"):\n",
    "        self.__customer_name = customer_name\n",
    "        self.__trolly_dict = dict()\n",
    "        self.__total = 0\n",
    "        \n",
    "    load_prices()\n",
    "    \n",
    "    def get_customer_name(self):\n",
    "        return self.__customer_name\n",
    "    \n",
    "    def add_item_to_trolly(self,item, qty):\n",
    "        #self.__trolly_dict[item] = qty\n",
    "        self.__trolly_dict[item] = qty + self.__trolly_dict.get(item,0) \n",
    "        \n",
    "    def get_item_qty(self,item):\n",
    "        #return self.__trolly_dict[item]\n",
    "        return self.__trolly_dict.get(item,0)\n",
    "    \n",
    "    def get_total_of_items_in_trolly(self):\n",
    "        for value_of_item,number_of_item in self.__trolly_dict.items():\n",
    "                self.__total += number_of_item * prices_dict.get(value_of_item)\n",
    "        return self.__total\n",
    "\n",
    "t = Trolly(\"Sam\")\n",
    "#print(t.get_customer_name())\n",
    "t.add_item_to_trolly(\"bread\",2)\n",
    "t.add_item_to_trolly(\"cheese\",2)\n",
    "#t.get_items_in_trolly()\n",
    "t.get_item_qty(\"bread\")\n",
    "\n",
    "t.get_total_of_items_in_trolly()"
   ]
  },
  {
   "cell_type": "code",
   "execution_count": 45,
   "id": "bb3a92cd",
   "metadata": {},
   "outputs": [],
   "source": [
    "#t2 = Trolly()"
   ]
  },
  {
   "cell_type": "code",
   "execution_count": 46,
   "id": "3c1bb010",
   "metadata": {},
   "outputs": [],
   "source": [
    "#t2.get_customer_name()"
   ]
  },
  {
   "cell_type": "code",
   "execution_count": 20,
   "id": "525ad192",
   "metadata": {},
   "outputs": [
    {
     "name": "stdout",
     "output_type": "stream",
     "text": [
      "{'bread': 1.49, 'milk': 0.99, 'cheese': 2.99}\n"
     ]
    },
    {
     "data": {
      "text/plain": [
       "8.96"
      ]
     },
     "execution_count": 20,
     "metadata": {},
     "output_type": "execute_result"
    }
   ],
   "source": [
    "class TrollyCls :\n",
    "    \n",
    "    def __init__(self,customer_name = \"unknown\"):\n",
    "        self.__customer_name = customer_name\n",
    "        self.__trolly_dict = dict()\n",
    "        self.__total = 0\n",
    "        \n",
    "    price_file_vals = get_file_data('prices1')\n",
    "    \n",
    "    print(price_file_vals)\n",
    "    \n",
    "    def get_customer_name(self):\n",
    "        return self.__customer_name\n",
    "    \n",
    "    def add_item_to_trolly(self,item, qty):\n",
    "        self.__trolly_dict[item] = qty + self.__trolly_dict.get(item,0) \n",
    "        \n",
    "    def get_item_qty(self,item):\n",
    "        return self.__trolly_dict.get(item,0)\n",
    "    \n",
    "    def get_total_of_items_in_trolly(self):\n",
    "        for value_of_item,number_of_item in self.__trolly_dict.items():\n",
    "                self.__total += number_of_item * TrollyCls.price_file_vals.get(value_of_item)\n",
    "        return self.__total\n",
    "\n",
    "t = TrollyCls(\"Sam\")\n",
    "t.add_item_to_trolly(\"bread\",2)\n",
    "t.add_item_to_trolly(\"cheese\",2)\n",
    "t.get_item_qty(\"bread\")\n",
    "\n",
    "t.get_total_of_items_in_trolly()"
   ]
  },
  {
   "cell_type": "code",
   "execution_count": 149,
   "id": "8a677c2a",
   "metadata": {},
   "outputs": [
    {
     "data": {
      "text/plain": [
       "0"
      ]
     },
     "execution_count": 149,
     "metadata": {},
     "output_type": "execute_result"
    }
   ],
   "source": [
    "class Account :\n",
    "    def __init__(self):\n",
    "        self.__balance = 0\n",
    "    \n",
    "    def get_balance(self):\n",
    "        return self.__balance\n",
    "    \n",
    "    def deposit(self,amount):\n",
    "        if amount < 0:\n",
    "            raise ValueError('Amount cannot be negative')\n",
    "        self.__balance += amount\n",
    "    \n",
    "    def withdraw(self,amount):\n",
    "        if amount < 0:\n",
    "            raise ValueError('Amount cannot be negative')\n",
    "        if amount > self.__balance:\n",
    "            return False\n",
    "        self.__balance -= amount\n",
    "        return True\n",
    "    \n",
    "    def transfer(self, amount,recipent):\n",
    "        status = self.withdraw(amount)\n",
    "        if status:\n",
    "            recipent.deposit(amount)\n",
    "        return status\n",
    "        \n",
    "a = Account()\n",
    "b = Account()\n",
    "a.get_balance()"
   ]
  },
  {
   "cell_type": "code",
   "execution_count": 150,
   "id": "83313076",
   "metadata": {},
   "outputs": [
    {
     "data": {
      "text/plain": [
       "100"
      ]
     },
     "execution_count": 150,
     "metadata": {},
     "output_type": "execute_result"
    }
   ],
   "source": [
    "a.deposit(100)\n",
    "a.get_balance()"
   ]
  },
  {
   "cell_type": "code",
   "execution_count": 151,
   "id": "c2059028",
   "metadata": {},
   "outputs": [
    {
     "data": {
      "text/plain": [
       "90"
      ]
     },
     "execution_count": 151,
     "metadata": {},
     "output_type": "execute_result"
    }
   ],
   "source": [
    "a.withdraw(10)\n",
    "a.get_balance()"
   ]
  },
  {
   "cell_type": "code",
   "execution_count": 152,
   "id": "932f5fe5",
   "metadata": {},
   "outputs": [
    {
     "data": {
      "text/plain": [
       "90"
      ]
     },
     "execution_count": 152,
     "metadata": {},
     "output_type": "execute_result"
    }
   ],
   "source": [
    "a.withdraw(1000000000)\n",
    "a.get_balance()"
   ]
  },
  {
   "cell_type": "code",
   "execution_count": 153,
   "id": "6fe4c982",
   "metadata": {},
   "outputs": [
    {
     "ename": "ValueError",
     "evalue": "Amount cannot be negative",
     "output_type": "error",
     "traceback": [
      "\u001b[1;31m---------------------------------------------------------------------------\u001b[0m",
      "\u001b[1;31mValueError\u001b[0m                                Traceback (most recent call last)",
      "\u001b[1;32m~\\AppData\\Local\\Temp/ipykernel_12400/1520242030.py\u001b[0m in \u001b[0;36m<module>\u001b[1;34m\u001b[0m\n\u001b[1;32m----> 1\u001b[1;33m \u001b[0ma\u001b[0m\u001b[1;33m.\u001b[0m\u001b[0mwithdraw\u001b[0m\u001b[1;33m(\u001b[0m\u001b[1;33m-\u001b[0m\u001b[1;36m1000000000000\u001b[0m\u001b[1;33m)\u001b[0m\u001b[1;33m\u001b[0m\u001b[1;33m\u001b[0m\u001b[0m\n\u001b[0m\u001b[0;32m      2\u001b[0m \u001b[0ma\u001b[0m\u001b[1;33m.\u001b[0m\u001b[0mget_balance\u001b[0m\u001b[1;33m(\u001b[0m\u001b[1;33m)\u001b[0m\u001b[1;33m\u001b[0m\u001b[1;33m\u001b[0m\u001b[0m\n",
      "\u001b[1;32m~\\AppData\\Local\\Temp/ipykernel_12400/2660271387.py\u001b[0m in \u001b[0;36mwithdraw\u001b[1;34m(self, amount)\u001b[0m\n\u001b[0;32m     11\u001b[0m     \u001b[1;32mdef\u001b[0m \u001b[0mwithdraw\u001b[0m\u001b[1;33m(\u001b[0m\u001b[0mself\u001b[0m\u001b[1;33m,\u001b[0m\u001b[0mamount\u001b[0m\u001b[1;33m)\u001b[0m\u001b[1;33m:\u001b[0m\u001b[1;33m\u001b[0m\u001b[1;33m\u001b[0m\u001b[0m\n\u001b[0;32m     12\u001b[0m         \u001b[1;32mif\u001b[0m \u001b[0mamount\u001b[0m \u001b[1;33m<\u001b[0m \u001b[1;36m0\u001b[0m\u001b[1;33m:\u001b[0m\u001b[1;33m\u001b[0m\u001b[1;33m\u001b[0m\u001b[0m\n\u001b[1;32m---> 13\u001b[1;33m             \u001b[1;32mraise\u001b[0m \u001b[0mValueError\u001b[0m\u001b[1;33m(\u001b[0m\u001b[1;34m'Amount cannot be negative'\u001b[0m\u001b[1;33m)\u001b[0m\u001b[1;33m\u001b[0m\u001b[1;33m\u001b[0m\u001b[0m\n\u001b[0m\u001b[0;32m     14\u001b[0m         \u001b[1;32mif\u001b[0m \u001b[0mamount\u001b[0m \u001b[1;33m>\u001b[0m \u001b[0mself\u001b[0m\u001b[1;33m.\u001b[0m\u001b[0m__balance\u001b[0m\u001b[1;33m:\u001b[0m\u001b[1;33m\u001b[0m\u001b[1;33m\u001b[0m\u001b[0m\n\u001b[0;32m     15\u001b[0m             \u001b[1;32mreturn\u001b[0m \u001b[1;32mFalse\u001b[0m\u001b[1;33m\u001b[0m\u001b[1;33m\u001b[0m\u001b[0m\n",
      "\u001b[1;31mValueError\u001b[0m: Amount cannot be negative"
     ]
    }
   ],
   "source": [
    "a.withdraw(-1000000000000)\n",
    "a.get_balance()"
   ]
  },
  {
   "cell_type": "code",
   "execution_count": 154,
   "id": "89a55f9b",
   "metadata": {},
   "outputs": [
    {
     "data": {
      "text/plain": [
       "90"
      ]
     },
     "execution_count": 154,
     "metadata": {},
     "output_type": "execute_result"
    }
   ],
   "source": [
    "a.get_balance()"
   ]
  },
  {
   "cell_type": "code",
   "execution_count": 157,
   "id": "7d8272f3",
   "metadata": {},
   "outputs": [
    {
     "data": {
      "text/plain": [
       "70"
      ]
     },
     "execution_count": 157,
     "metadata": {},
     "output_type": "execute_result"
    }
   ],
   "source": [
    "a.transfer(10,b)\n",
    "a.get_balance()"
   ]
  },
  {
   "cell_type": "code",
   "execution_count": 158,
   "id": "e4297e30",
   "metadata": {},
   "outputs": [
    {
     "data": {
      "text/plain": [
       "20"
      ]
     },
     "execution_count": 158,
     "metadata": {},
     "output_type": "execute_result"
    }
   ],
   "source": [
    "b.get_balance()"
   ]
  },
  {
   "cell_type": "code",
   "execution_count": null,
   "id": "e85e446f",
   "metadata": {},
   "outputs": [],
   "source": []
  }
 ],
 "metadata": {
  "kernelspec": {
   "display_name": "Python 3 (ipykernel)",
   "language": "python",
   "name": "python3"
  },
  "language_info": {
   "codemirror_mode": {
    "name": "ipython",
    "version": 3
   },
   "file_extension": ".py",
   "mimetype": "text/x-python",
   "name": "python",
   "nbconvert_exporter": "python",
   "pygments_lexer": "ipython3",
   "version": "3.9.7"
  }
 },
 "nbformat": 4,
 "nbformat_minor": 5
}
