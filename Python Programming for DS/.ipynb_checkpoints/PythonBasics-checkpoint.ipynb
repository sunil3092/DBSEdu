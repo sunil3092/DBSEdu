{
 "cells": [
  {
   "cell_type": "markdown",
   "id": "c0d42642",
   "metadata": {},
   "source": [
    "# Excercises"
   ]
  },
  {
   "cell_type": "markdown",
   "id": "2e2731be",
   "metadata": {},
   "source": [
    "#### Write a function to find the sum of all multiples of a or b in l where a, b, l are the function parameters and a is of length 2"
   ]
  },
  {
   "cell_type": "code",
   "execution_count": null,
   "id": "5f2efef0",
   "metadata": {},
   "outputs": [],
   "source": [
    "# Variables\n",
    "a_val = 3;\n",
    "b_val = 5;\n",
    "ab_val = [3,5]\n",
    "list_val = [3,5,6,9];"
   ]
  },
  {
   "cell_type": "code",
   "execution_count": null,
   "id": "a2c86766",
   "metadata": {},
   "outputs": [],
   "source": [
    "def find_length(a,b,l):\n",
    "    sum = 0;\n",
    "    for i in l:\n",
    "        if(i%a == 0 or i%b == 0):\n",
    "            sum += i;\n",
    "    return sum;\n",
    "\n",
    "print(find_length(a_val,b_val,list_val));"
   ]
  },
  {
   "cell_type": "code",
   "execution_count": null,
   "id": "2beaffaa",
   "metadata": {},
   "outputs": [],
   "source": [
    "def find_length_arr_sum(a,l):\n",
    "    sum_arr_val = 0;\n",
    "    for i in a:\n",
    "        for v in l:\n",
    "            if(v%i == 0 or v%i == 0):\n",
    "                sum_arr_val += v;\n",
    "    return sum_arr_val;\n",
    "find_length_arr_sum(ab_val,list_val)"
   ]
  },
  {
   "cell_type": "markdown",
   "id": "18f92ff3",
   "metadata": {},
   "source": [
    "#### File System"
   ]
  },
  {
   "cell_type": "code",
   "execution_count": null,
   "id": "69489dbd",
   "metadata": {},
   "outputs": [],
   "source": [
    "#Write a function to find the sum of all the multiples \n",
    "#of numbers in file a in file l where a,l are filenames, \n",
    "#and numbers are one per line\n",
    "import os\n",
    "if os.path.exists(\"numbers1\"):\n",
    "      os.remove(\"numbers1\")\n",
    "if os.path.exists(\"numbers2\"):\n",
    "      os.remove(\"numbers2\")\n",
    "f1=open('numbers1','w')\n",
    "f2=open('numbers2','w')\n",
    "for p in ab_val:\n",
    "    f1.write(str(p)+'\\n');\n",
    "f1.close()\n",
    "for o in list_val:\n",
    "    f2.write(str(o)+'\\n');\n",
    "f2.close()"
   ]
  },
  {
   "cell_type": "markdown",
   "id": "9cf91349",
   "metadata": {},
   "source": [
    "#### Write a function to find the sum of all the multiples \n",
    "#### of numbers in file a in file l where a,l are filenames, \n",
    "#### and numbers are one per line\n",
    "\n",
    "#1 handle missing files\n",
    "\n",
    "#2 handle corrupt lines in file (omit)"
   ]
  },
  {
   "cell_type": "code",
   "execution_count": null,
   "id": "5dca9925",
   "metadata": {},
   "outputs": [],
   "source": [
    "with open('numbers','w') as f:\n",
    "      f.write('2\\n3\\n4\\n6\\n7\\n9\\n10\\n11\\n22\\n31\\n44\\n38')\n",
    "with open('factors','w') as f:\n",
    "      f.write('2\\n3')\n",
    "        \n",
    "os.remove(\"numbers\")\n",
    "os.remove(\"factors\")\n",
    "\n",
    "def p(f,n):\n",
    "    try:\n",
    "        fl=[int(line) for line in open(f)]\n",
    "    except:\n",
    "        print(f\"No file with name {f} exists\")\n",
    "    try:\n",
    "        nl=[int(line) for line in open(n)]\n",
    "    except:\n",
    "        print(f\"No file with name {n} exists\") \n",
    "    return o(fl,nl)"
   ]
  },
  {
   "cell_type": "markdown",
   "id": "c2ee6add",
   "metadata": {},
   "source": [
    "#### Standard Excercise"
   ]
  },
  {
   "cell_type": "code",
   "execution_count": null,
   "id": "92593bd8",
   "metadata": {},
   "outputs": [],
   "source": [
    "import os\n",
    "if os.path.exists(\"prices\"):\n",
    "      os.remove(\"prices\")\n",
    "if os.path.exists(\"basket\"):\n",
    "      os.remove(\"basket\")\n",
    "with open(\"prices\", \"w\") as fp:\n",
    "    fp.write(\"bread 1.49\\nmilk 0.99\\ncheese 2.99\\n\")\n",
    "with open(\"basket\",\"w\") as fb:\n",
    "    fb.write(\"bread 2\\ncheese 1\")\n",
    "    \n",
    "def addToDict(file_name):\n",
    "    dictToReturn = dict()\n",
    "    for line in open(file_name):\n",
    "        itemList = line.split(\" \")\n",
    "        item = itemList[0]\n",
    "        value = float(itemList[1])\n",
    "        dictToReturn[item] = value\n",
    "    return dictToReturn \n",
    "\n",
    "def checkout(prices, cart):\n",
    "    prices = addToDict(\"prices\")\n",
    "    basket = addToDict(\"basket\")\n",
    "    total = 0.0\n",
    "    for key in basket:\n",
    "        value_of_item = prices[key]\n",
    "        number_of_item = int(basket[key])\n",
    "        total += number_of_item * value_of_item\n",
    "    print(total)\n",
    "    \n",
    "checkout(\"prices\", \"basket\")"
   ]
  },
  {
   "cell_type": "markdown",
   "id": "c97f4041",
   "metadata": {},
   "source": [
    "#### Optimized Excercise"
   ]
  },
  {
   "cell_type": "code",
   "execution_count": null,
   "id": "995d77d2",
   "metadata": {},
   "outputs": [],
   "source": [
    "import os\n",
    "if os.path.exists(\"prices1\"):\n",
    "      os.remove(\"prices1\")\n",
    "if os.path.exists(\"basket1\"):\n",
    "      os.remove(\"basket1\")\n",
    "with open(\"prices1\", \"w\") as fp:\n",
    "    fp.write(\"bread 1.49\\nmilk 0.99\\ncheese 2.99\\n\")\n",
    "with open(\"basket1\",\"w\") as fb:\n",
    "    fb.write(\"bread 2\\ncheese 1\")\n",
    "\n",
    "def checkout(prices, cart):\n",
    "    prices = {line.split()[0]:float(line.split()[1]) for line in open(\"prices1\")}\n",
    "    basket = {line.split()[0]:float(line.split()[1]) for line in open(\"basket1\")}\n",
    "    total = 0.0\n",
    "    for value_of_item,number_of_item in basket.items():\n",
    "        #value_of_item = prices[key]\n",
    "        #number_of_item = int(basket[key])\n",
    "        total += number_of_item * prices[value_of_item]\n",
    "    print(total)\n",
    "    \n",
    "checkout(\"prices1\", \"basket1\")"
   ]
  },
  {
   "cell_type": "code",
   "execution_count": null,
   "id": "bb654c70",
   "metadata": {},
   "outputs": [],
   "source": [
    "import os\n",
    "if os.path.exists(\"prices1\"):\n",
    "      os.remove(\"prices1\")\n",
    "if os.path.exists(\"basket1\"):\n",
    "      os.remove(\"basket1\")\n",
    "with open(\"prices1\", \"w\") as fp:\n",
    "    fp.write(\"bread 1.49\\nmilk 0.99\\ncheese 2.99\\n\")\n",
    "with open(\"basket1\",\"w\") as fb:\n",
    "    fb.write(\"bread 2\\ncheese 1\")\n",
    "\n",
    "def checkout(prices, cart):\n",
    "    fileError = False\n",
    "    try:\n",
    "        prices = {line.split()[0]:float(line.split()[1]) for line in open(\"prices11\")}\n",
    "    except:\n",
    "        fileError = True\n",
    "    try:\n",
    "        basket = {line.split()[0]:float(line.split()[1]) for line in open(\"basket11\")}\n",
    "    except:\n",
    "        fileError = True\n",
    "    total = 0.0\n",
    "    if (fileError == False):\n",
    "        for value_of_item,number_of_item in basket.items():\n",
    "            total += number_of_item * prices[value_of_item]\n",
    "        print(total)\n",
    "    else:\n",
    "        print(\"Missing Files\")\n",
    "checkout(\"prices1\", \"basket1\")"
   ]
  },
  {
   "cell_type": "code",
   "execution_count": 79,
   "id": "fa3835ed",
   "metadata": {},
   "outputs": [],
   "source": [
    "import os\n",
    "def house_keeping(fileNames):\n",
    "    for fileName in fileNames:\n",
    "        if os.path.exists(fileName):\n",
    "          os.remove(fileName)\n",
    "\n",
    "def write_data(fileName, data):\n",
    "        with open(fileName, \"w\") as fp:\n",
    "            fp.write(data)\n",
    "            \n",
    "prices_dict = dict()\n",
    "def load_prices():\n",
    "    prices_dict[\"bread\"] = 2\n",
    "    prices_dict[\"milk\"] = 1\n",
    "    prices_dict[\"cheese\"] = 4\n",
    "\n",
    "def get_file_data(fileName):\n",
    "    data_from_file = {line.split()[0]:float(line.split()[1]) for line in open(fileName)}\n",
    "    return data_from_file"
   ]
  },
  {
   "cell_type": "code",
   "execution_count": null,
   "id": "110602f4",
   "metadata": {},
   "outputs": [],
   "source": [
    "\n",
    "class Basket:\n",
    "    \n",
    "    house_keeping([\"prices1\",\"basket1\"])\n",
    "    write_data(\"prices1\",\"bread 1.49\\nmilk 0.99\\ncheese 2.99\\n\")\n",
    "    write_data(\"basket1\",\"bread 2\\ncheese 1\")\n",
    "\n",
    "    def checkout(self):\n",
    "        fileError = False\n",
    "        try:\n",
    "            prices = {line.split()[0]:float(line.split()[1]) for line in open(\"prices1\")}\n",
    "        except:\n",
    "            fileError = True\n",
    "        try:\n",
    "            basket = {line.split()[0]:float(line.split()[1]) for line in open(\"basket1\")}\n",
    "        except:\n",
    "            fileError = True\n",
    "        total = 0.0\n",
    "        if (fileError == False):\n",
    "            for value_of_item,number_of_item in basket.items():\n",
    "                total += number_of_item * prices[value_of_item]\n",
    "            print(total)\n",
    "        else:\n",
    "            print(\"Missing Files\")\n",
    "\n",
    "c = Basket()\n",
    "c.checkout()"
   ]
  },
  {
   "cell_type": "code",
   "execution_count": null,
   "id": "b8a91ba4",
   "metadata": {},
   "outputs": [],
   "source": [
    "class Trolly :\n",
    "    \n",
    "    def __init__(self,customer_name = \"unknown\"):\n",
    "        self.__customer_name = customer_name\n",
    "        self.__trolly_dict = dict()\n",
    "        self.__total = 0\n",
    "        \n",
    "    load_prices()\n",
    "    \n",
    "    def get_customer_name(self):\n",
    "        return self.__customer_name\n",
    "    \n",
    "    def add_item_to_trolly(self,item, qty):\n",
    "        #self.__trolly_dict[item] = qty\n",
    "        self.__trolly_dict[item] = qty + self.__trolly_dict.get(item,0) \n",
    "        \n",
    "    def get_item_qty(self,item):\n",
    "        #return self.__trolly_dict[item]\n",
    "        return self.__trolly_dict.get(item,0)\n",
    "    \n",
    "    def get_total_of_items_in_trolly(self):\n",
    "        for value_of_item,number_of_item in self.__trolly_dict.items():\n",
    "                self.__total += number_of_item * prices_dict.get(value_of_item)\n",
    "        return self.__total\n",
    "\n",
    "t = Trolly(\"Sam\")\n",
    "#print(t.get_customer_name())\n",
    "t.add_item_to_trolly(\"bread\",2)\n",
    "t.add_item_to_trolly(\"cheese\",2)\n",
    "#t.get_items_in_trolly()\n",
    "t.get_item_qty(\"bread\")\n",
    "\n",
    "t.get_total_of_items_in_trolly()"
   ]
  },
  {
   "cell_type": "code",
   "execution_count": null,
   "id": "bb3a92cd",
   "metadata": {},
   "outputs": [],
   "source": [
    "#t2 = Trolly()"
   ]
  },
  {
   "cell_type": "code",
   "execution_count": null,
   "id": "3c1bb010",
   "metadata": {},
   "outputs": [],
   "source": [
    "#t2.get_customer_name()"
   ]
  },
  {
   "cell_type": "code",
   "execution_count": null,
   "id": "525ad192",
   "metadata": {},
   "outputs": [],
   "source": [
    "class TrollyCls :\n",
    "    \n",
    "    def __init__(self,customer_name = \"unknown\"):\n",
    "        self.__customer_name = customer_name\n",
    "        self.__trolly_dict = dict()\n",
    "        self.__total = 0\n",
    "        \n",
    "    price_file_vals = get_file_data('prices1')\n",
    "    \n",
    "    print(price_file_vals)\n",
    "    \n",
    "    def get_customer_name(self):\n",
    "        return self.__customer_name\n",
    "    \n",
    "    def add_item_to_trolly(self,item, qty):\n",
    "        self.__trolly_dict[item] = qty + self.__trolly_dict.get(item,0) \n",
    "        \n",
    "    def get_item_qty(self,item):\n",
    "        return self.__trolly_dict.get(item,0)\n",
    "    \n",
    "    def get_total_of_items_in_trolly(self):\n",
    "        for value_of_item,number_of_item in self.__trolly_dict.items():\n",
    "                self.__total += number_of_item * TrollyCls.price_file_vals.get(value_of_item)\n",
    "        return self.__total\n",
    "\n",
    "t = TrollyCls(\"Sam\")\n",
    "t.add_item_to_trolly(\"bread\",2)\n",
    "t.add_item_to_trolly(\"cheese\",2)\n",
    "t.get_item_qty(\"bread\")\n",
    "\n",
    "t.get_total_of_items_in_trolly()"
   ]
  },
  {
   "cell_type": "code",
   "execution_count": null,
   "id": "bead05f2",
   "metadata": {},
   "outputs": [],
   "source": [
    "class Account :\n",
    "    def __init__(self):\n",
    "        self.__balance = 0\n",
    "    \n",
    "    def get_balance(self):\n",
    "        return self.__balance\n",
    "    \n",
    "    def validate_amount_value(amount):\n",
    "        if amount < 0:\n",
    "            raise ValueError('Amount cannot be negative')\n",
    "    \n",
    "    def deposit(self,amount):\n",
    "        validate_amount_value(amount)\n",
    "        self.__balance += amount\n",
    "    \n",
    "    def withdraw(self,amount):\n",
    "        validate_amount_value(amount)\n",
    "        if amount > self.__balance:\n",
    "            return False\n",
    "        self.__balance -= amount\n",
    "        return True\n",
    "    \n",
    "    def transfer(self, amount,recipent):\n",
    "        status = self.withdraw(amount)\n",
    "        if status:\n",
    "            recipent.deposit(amount)\n",
    "        return status\n",
    "        \n",
    "a = Account()\n",
    "b = Account()\n",
    "a.get_balance()"
   ]
  },
  {
   "cell_type": "code",
   "execution_count": null,
   "id": "31c285f3",
   "metadata": {},
   "outputs": [],
   "source": [
    "a.deposit(100)\n",
    "a.get_balance()"
   ]
  },
  {
   "cell_type": "code",
   "execution_count": null,
   "id": "271f306c",
   "metadata": {},
   "outputs": [],
   "source": [
    "a.withdraw(10)\n",
    "a.get_balance()"
   ]
  },
  {
   "cell_type": "code",
   "execution_count": null,
   "id": "e918718f",
   "metadata": {},
   "outputs": [],
   "source": [
    "a.withdraw(1000000000)\n",
    "a.get_balance()"
   ]
  },
  {
   "cell_type": "code",
   "execution_count": null,
   "id": "0a782c60",
   "metadata": {},
   "outputs": [],
   "source": [
    "a.withdraw(-1000000000000)\n",
    "a.get_balance()"
   ]
  },
  {
   "cell_type": "code",
   "execution_count": null,
   "id": "f685c818",
   "metadata": {},
   "outputs": [],
   "source": [
    "a.get_balance()"
   ]
  },
  {
   "cell_type": "code",
   "execution_count": null,
   "id": "81bf3064",
   "metadata": {},
   "outputs": [],
   "source": [
    "a.transfer(10,b)\n",
    "a.get_balance()"
   ]
  },
  {
   "cell_type": "code",
   "execution_count": null,
   "id": "12303c6d",
   "metadata": {},
   "outputs": [],
   "source": [
    "b.get_balance()"
   ]
  },
  {
   "cell_type": "code",
   "execution_count": null,
   "id": "74c18b60",
   "metadata": {},
   "outputs": [],
   "source": [
    "import unittest as ut"
   ]
  },
  {
   "cell_type": "markdown",
   "metadata": {},
   "source": [
    "## Unit test"
   ]
  },
  {
   "cell_type": "code",
   "execution_count": null,
   "metadata": {},
   "outputs": [],
   "source": [
    "#Add a class/static variable pricelist of type dictionary\n",
    "#create a method value to return the cost of the basket contents\n",
    "#Test that:\n",
    "#the value is zero on creation\n",
    "#Value is correct after adding some items\n",
    "#Value is correct after adding some additional items (duplicate)\n",
    "#Cannot add a negative quantity (Error)\n",
    "#Cannot add something not in the pricelist (Should give a ValueError!)\n",
    "#Submit on Moodle this week\n"
   ]
  },
  {
   "cell_type": "code",
   "execution_count": 86,
   "metadata": {},
   "outputs": [],
   "source": [
    "class testAccount:\n",
    "    pass"
   ]
  },
  {
   "cell_type": "code",
   "execution_count": 123,
   "metadata": {},
   "outputs": [],
   "source": [
    "class ShoppingBasket():\n",
    "    \n",
    "    def __init__(self):\n",
    "        self.__basket_dict = dict()\n",
    "        self.__total = 0\n",
    "        \n",
    "    priceList = get_file_data('prices1')\n",
    "    \n",
    "    def add_item_to_basket(self,item, qty):\n",
    "        if item not in priceList:\n",
    "            return False\n",
    "        if qty <= 0:\n",
    "            raise ValueError(\"Invalid Quantity\")\n",
    "        self.__basket_dict[item] = qty + self.__basket_dict.get(item,0)\n",
    "        \n",
    "    def checkout(self):\n",
    "        for value_of_item,number_of_item in self.__basket_dict.items():\n",
    "                self.__total += number_of_item * ShoppingBasket.priceList.get(value_of_item)\n",
    "        return self.__total"
   ]
  },
  {
   "cell_type": "code",
   "execution_count": 124,
   "metadata": {},
   "outputs": [],
   "source": [
    "class TestShoppingBasket(ut.TestCase):\n",
    "    def testAdd(self):\n",
    "        sb=ShoppingBasket()\n",
    "        self.assertEqual(sb.checkout(),0)\n",
    "    def testAddToBasket(self):\n",
    "        sb=ShoppingBasket()\n",
    "        sb.add_item_to_basket(\"bread\",1)\n",
    "        self.assertEqual(sb.checkout(),1.49)\n",
    "    def testAddMoreToBasket(self):\n",
    "        sb=ShoppingBasket()\n",
    "        sb.add_item_to_basket(\"bread\",1)\n",
    "        sb.add_item_to_basket(\"bread\",1)\n",
    "        self.assertEqual(sb.checkout(),2.98)\n",
    "    def testAddNegetive(self):\n",
    "        sb=ShoppingBasket()\n",
    "        with self.assertRaises(ValueError):\n",
    "            sb.add_item_to_basket(\"bread\",-10)\n",
    "    def testAddRandomItem(self):\n",
    "        sb=ShoppingBasket()\n",
    "        sb.add_item_to_basket(\"colors\",1)\n",
    "        self.assertFalse(False)"
   ]
  },
  {
   "cell_type": "code",
   "execution_count": 125,
   "metadata": {},
   "outputs": [
    {
     "name": "stderr",
     "output_type": "stream",
     "text": [
      "......\n",
      "----------------------------------------------------------------------\n",
      "Ran 6 tests in 0.007s\n",
      "\n",
      "OK\n"
     ]
    },
    {
     "data": {
      "text/plain": [
       "<unittest.main.TestProgram at 0x22c2fa8caf0>"
      ]
     },
     "execution_count": 125,
     "metadata": {},
     "output_type": "execute_result"
    }
   ],
   "source": [
    "ut.main(argv=['ignored'],exit=False)"
   ]
  },
  {
   "cell_type": "code",
   "execution_count": 84,
   "metadata": {},
   "outputs": [],
   "source": []
  },
  {
   "cell_type": "code",
   "execution_count": null,
   "metadata": {},
   "outputs": [],
   "source": []
  }
 ],
 "metadata": {
  "kernelspec": {
   "display_name": "Python 3 (ipykernel)",
   "language": "python",
   "name": "python3"
  },
  "language_info": {
   "codemirror_mode": {
    "name": "ipython",
    "version": 3
   },
   "file_extension": ".py",
   "mimetype": "text/x-python",
   "name": "python",
   "nbconvert_exporter": "python",
   "pygments_lexer": "ipython3",
   "version": "3.9.7"
  }
 },
 "nbformat": 4,
 "nbformat_minor": 5
}
