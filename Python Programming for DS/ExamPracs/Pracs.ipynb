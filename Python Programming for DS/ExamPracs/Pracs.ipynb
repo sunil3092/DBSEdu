{
 "cells": [
  {
   "cell_type": "markdown",
   "metadata": {},
   "source": [
    "Create a class Permutation which, given a six-digit number in its contsructor, stores a\n",
    "permutation of its digits in an instance variable __target, and provides a method\n",
    "guess(num) which returns the number of digits which are not the same in num and\n",
    "__target."
   ]
  },
  {
   "cell_type": "code",
   "execution_count": 37,
   "metadata": {},
   "outputs": [],
   "source": [
    "# Creating a permutation Class\n",
    "class Permutation :\n",
    "\n",
    "    # Defualt values\n",
    "    def __init__(self, num):\n",
    "        \n",
    "        # Convert it as an list\n",
    "        self.__num__ = [int(n) for n in str(num)];\n",
    "\n",
    "        # Target Output\n",
    "        self.__targetVar__ = [[]]\n",
    "\n",
    "    def guess(self):\n",
    "        return list(set(self.__num__))\n",
    "\n",
    "    # Method to generate permutations\n",
    "    def solve(self):\n",
    "        \n",
    "        # Itearting through each value of number array to create permutaions\n",
    "        for num in self.__num__:\n",
    "\n",
    "            # New set of permuations\n",
    "            new_perms = []\n",
    "\n",
    "            # Taking Previous Permuations into consideration\n",
    "            for pre_perms in self.__targetVar__:\n",
    "                \n",
    "                # Starting from 1 as initally the length is 0\n",
    "                for i in range(len(pre_perms) + 1):\n",
    "                    \n",
    "                        # Appending the new permutations\n",
    "                        new_perms.append(pre_perms[:i] + [num] + pre_perms[i:])\n",
    "            \n",
    "            # Updating the Target Var\n",
    "            self.__targetVar__ = new_perms\n",
    "        \n",
    "        return self.__targetVar__"
   ]
  },
  {
   "cell_type": "code",
   "execution_count": 38,
   "metadata": {},
   "outputs": [],
   "source": [
    "perm = Permutation(1244)\n"
   ]
  },
  {
   "cell_type": "code",
   "execution_count": 39,
   "metadata": {},
   "outputs": [
    {
     "data": {
      "text/plain": [
       "[1, 2, 4]"
      ]
     },
     "execution_count": 39,
     "metadata": {},
     "output_type": "execute_result"
    }
   ],
   "source": [
    "perm.guess()"
   ]
  },
  {
   "cell_type": "code",
   "execution_count": 40,
   "metadata": {},
   "outputs": [
    {
     "data": {
      "text/plain": [
       "[]"
      ]
     },
     "execution_count": 40,
     "metadata": {},
     "output_type": "execute_result"
    }
   ],
   "source": [
    "perm.solve()"
   ]
  },
  {
   "cell_type": "code",
   "execution_count": null,
   "metadata": {},
   "outputs": [],
   "source": []
  }
 ],
 "metadata": {
  "interpreter": {
   "hash": "770de8dd6b209f8d3e8fd0cc8c5ca67965109b50de697453c6f2fa2334472852"
  },
  "kernelspec": {
   "display_name": "Python 3.9.7 ('base')",
   "language": "python",
   "name": "python3"
  },
  "language_info": {
   "codemirror_mode": {
    "name": "ipython",
    "version": 3
   },
   "file_extension": ".py",
   "mimetype": "text/x-python",
   "name": "python",
   "nbconvert_exporter": "python",
   "pygments_lexer": "ipython3",
   "version": "3.9.7"
  },
  "orig_nbformat": 4
 },
 "nbformat": 4,
 "nbformat_minor": 2
}
